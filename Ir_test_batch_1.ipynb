{
 "cells": [
  {
   "cell_type": "markdown",
   "metadata": {},
   "source": [
    "Zuveir Jameer\n",
    "\n",
    "8 April 2025\n",
    "\n",
    "Batch 1 which contains 4 search engines.\n",
    "\n",
    "The code below are to run the 75 queries against an Elasticsearch instance which contains TREC 2021 Clinical Trials data.\n",
    "\n",
    "The Elasticsearch instance contains ~26,000 indexed documents.\n",
    "\n",
    "The default Elasticsearch indexing is BM25.\n",
    "\n",
    "In the code below you will run searches using the following:\n",
    "1. Semantic search on tokenised 'detailed_description' (detailed_descrption_vector) with ClinicalBERT\n",
    "2. B25 as initial search. Then second search using semantic search to re-rank results\n",
    "3. BM25 only\n",
    "4. BM25W where weight as been added to the 'detailed_descrption'"
   ]
  },
  {
   "cell_type": "code",
   "execution_count": 1,
   "metadata": {},
   "outputs": [],
   "source": [
    "from pprint import pprint\n",
    "from elasticsearch import Elasticsearch, helpers\n",
    "from credentials import USERNAME, PASSWORD\n",
    "import json"
   ]
  },
  {
   "cell_type": "code",
   "execution_count": 2,
   "metadata": {},
   "outputs": [],
   "source": [
    "CERT_FINGERPRINT = \"24a71503f93ed6e422bc8782254a826382fadd83ca09234fa7c0297173132530\""
   ]
  },
  {
   "cell_type": "code",
   "execution_count": 3,
   "metadata": {},
   "outputs": [],
   "source": [
    "# Connect using API KEY\n",
    "es = Elasticsearch(\"https://localhost:9200\",api_key=\"eHdSWmo1VUJOYkdYV0x0X3QyTnY6cU9kQVJ1Y0VRdmFWSTc5bzB6THoxUQ==\",ssl_assert_fingerprint=CERT_FINGERPRINT,)"
   ]
  },
  {
   "cell_type": "code",
   "execution_count": 4,
   "metadata": {},
   "outputs": [],
   "source": [
    "# Connect using credentials and ssl fingerprint\n",
    "es = Elasticsearch(\"https://localhost:9200\",basic_auth=(USERNAME, PASSWORD),ssl_assert_fingerprint=CERT_FINGERPRINT)"
   ]
  },
  {
   "cell_type": "markdown",
   "metadata": {},
   "source": [
    "Check whether connected to ES"
   ]
  },
  {
   "cell_type": "code",
   "execution_count": 5,
   "metadata": {},
   "outputs": [
    {
     "name": "stdout",
     "output_type": "stream",
     "text": [
      "Connected to elasticsearch\n",
      "{'cluster_name': 'docker-cluster',\n",
      " 'cluster_uuid': 'daxPe0rzR9Gx5iOkHZsZTQ',\n",
      " 'name': '200fd7a2e004',\n",
      " 'tagline': 'You Know, for Search',\n",
      " 'version': {'build_date': '2025-02-28T10:07:26.089129809Z',\n",
      "             'build_flavor': 'default',\n",
      "             'build_hash': 'a091390de485bd4b127884f7e565c0cad59b10d2',\n",
      "             'build_snapshot': False,\n",
      "             'build_type': 'docker',\n",
      "             'lucene_version': '9.12.0',\n",
      "             'minimum_index_compatibility_version': '7.0.0',\n",
      "             'minimum_wire_compatibility_version': '7.17.0',\n",
      "             'number': '8.17.3'}}\n"
     ]
    }
   ],
   "source": [
    "client_info = es.info()\n",
    "print('Connected to elasticsearch')\n",
    "pprint(client_info.body)"
   ]
  },
  {
   "cell_type": "markdown",
   "metadata": {},
   "source": [
    "### Semantic search only using ClinicalBERT \n",
    "\n",
    "(which was used to create token embeddings in the detailed_descrption_vector dense vector field)"
   ]
  },
  {
   "cell_type": "code",
   "execution_count": null,
   "metadata": {},
   "outputs": [
    {
     "name": "stderr",
     "output_type": "stream",
     "text": [
      "  4%|▍         | 3/75 [00:00<00:07, 10.20it/s]"
     ]
    },
    {
     "name": "stdout",
     "output_type": "stream",
     "text": [
      "Time taken for semantic search: 13 ms\n",
      "Query 1 retrieved: ['NCT03201367', 'NCT04201002', 'NCT02910596', 'NCT04694053', 'NCT04450316', 'NCT04645264', 'NCT02776202', 'NCT04159077', 'NCT04829890', 'NCT04553562']\n",
      " Query 1 metrics: Precision@10: 0.0000, Recall@10: 0.0000, F1@10: 0.0000, AP: 0.0000, nDCG@10: 0.0000\n",
      "  Total time for query: 0.11 seconds\n",
      "Time taken for semantic search: 13 ms\n",
      "Query 2 retrieved: ['NCT04061213', 'NCT00976625', 'NCT00478296', 'NCT02910349', 'NCT02316587', 'NCT04299971', 'NCT03863132', 'NCT04078867', 'NCT04830787', 'NCT00820352']\n",
      " Query 2 metrics: Precision@10: 0.1000, Recall@10: 0.0072, F1@10: 0.0135, AP: 0.2000, nDCG@10: 0.2146\n",
      "  Total time for query: 0.10 seconds\n",
      "Time taken for semantic search: 12 ms\n",
      "Query 3 retrieved: ['NCT03902262', 'NCT02809651', 'NCT03377062', 'NCT02325154', 'NCT03080779', 'NCT01654198', 'NCT00395330', 'NCT03496545', 'NCT02097212', 'NCT00313703']\n",
      " Query 3 metrics: Precision@10: 0.1000, Recall@10: 0.0312, F1@10: 0.0476, AP: 0.3333, nDCG@10: 0.1563\n",
      "  Total time for query: 0.09 seconds\n"
     ]
    },
    {
     "name": "stderr",
     "output_type": "stream",
     "text": [
      "  7%|▋         | 5/75 [00:00<00:06, 10.34it/s]"
     ]
    },
    {
     "name": "stdout",
     "output_type": "stream",
     "text": [
      "Time taken for semantic search: 11 ms\n",
      "Query 4 retrieved: ['NCT02407080', 'NCT03647631', 'NCT02291796', 'NCT00706641', 'NCT01281033', 'NCT03902262', 'NCT03201367', 'NCT00498238', 'NCT03712345', 'NCT02768259']\n",
      " Query 4 metrics: Precision@10: 0.0000, Recall@10: 0.0000, F1@10: 0.0000, AP: 0.0000, nDCG@10: 0.0000\n",
      "  Total time for query: 0.10 seconds\n",
      "Time taken for semantic search: 13 ms\n",
      "Query 5 retrieved: ['NCT01050361', 'NCT03902262', 'NCT01905488', 'NCT01252875', 'NCT01281033', 'NCT04005222', 'NCT04299971', 'NCT02781207', 'NCT02961127', 'NCT01458860']\n",
      " Query 5 metrics: Precision@10: 0.1000, Recall@10: 0.0084, F1@10: 0.0155, AP: 0.1000, nDCG@10: 0.0857\n",
      "  Total time for query: 0.09 seconds\n",
      "Time taken for semantic search: 12 ms\n",
      "Query 6 retrieved: ['NCT02200328', 'NCT02776202', 'NCT03902262', 'NCT00006132', 'NCT04614142', 'NCT00789997', 'NCT01678365', 'NCT02086825', 'NCT03378479', 'NCT00003805']\n",
      " Query 6 metrics: Precision@10: 0.0000, Recall@10: 0.0000, F1@10: 0.0000, AP: 0.0000, nDCG@10: 0.0734\n",
      "  Total time for query: 0.10 seconds\n"
     ]
    },
    {
     "name": "stderr",
     "output_type": "stream",
     "text": [
      " 12%|█▏        | 9/75 [00:00<00:06, 10.42it/s]"
     ]
    },
    {
     "name": "stdout",
     "output_type": "stream",
     "text": [
      "Time taken for semantic search: 12 ms\n",
      "Query 7 retrieved: ['NCT02086825', 'NCT03547895', 'NCT03201367', 'NCT03987893', 'NCT04622449', 'NCT03372499', 'NCT03461250', 'NCT03513900', 'NCT02069678', 'NCT01178372']\n",
      " Query 7 metrics: Precision@10: 0.3000, Recall@10: 0.0240, F1@10: 0.0444, AP: 0.2500, nDCG@10: 0.2182\n",
      "  Total time for query: 0.09 seconds\n",
      "Time taken for semantic search: 12 ms\n",
      "Query 8 retrieved: ['NCT02086825', 'NCT03902262', 'NCT03547895', 'NCT01868373', 'NCT02340845', 'NCT00357851', 'NCT01739634', 'NCT02548715', 'NCT00641030', 'NCT00439231']\n",
      " Query 8 metrics: Precision@10: 0.1000, Recall@10: 0.0109, F1@10: 0.0196, AP: 0.1000, nDCG@10: 0.0636\n",
      "  Total time for query: 0.10 seconds\n",
      "Time taken for semantic search: 12 ms\n",
      "Query 9 retrieved: ['NCT00642564', 'NCT01054599', 'NCT01320670', 'NCT00510783', 'NCT00486239', 'NCT04004702', 'NCT02569970', 'NCT01391091', 'NCT04287140', 'NCT04186286']\n",
      " Query 9 metrics: Precision@10: 0.1000, Recall@10: 0.0769, F1@10: 0.0870, AP: 0.2500, nDCG@10: 0.2306\n",
      "  Total time for query: 0.09 seconds\n"
     ]
    },
    {
     "name": "stderr",
     "output_type": "stream",
     "text": [
      " 15%|█▍        | 11/75 [00:01<00:06, 10.40it/s]"
     ]
    },
    {
     "name": "stdout",
     "output_type": "stream",
     "text": [
      "Time taken for semantic search: 13 ms\n",
      "Query 10 retrieved: ['NCT02776202', 'NCT00273559', 'NCT00789997', 'NCT00512070', 'NCT01408836', 'NCT02148549', 'NCT00006669', 'NCT00054158', 'NCT01892241', 'NCT00050817']\n",
      " Query 10 metrics: Precision@10: 0.0000, Recall@10: 0.0000, F1@10: 0.0000, AP: 0.0000, nDCG@10: 0.0000\n",
      "  Total time for query: 0.10 seconds\n",
      "Time taken for semantic search: 12 ms\n",
      "Query 11 retrieved: ['NCT00595725', 'NCT04694053', 'NCT03243825', 'NCT02910596', 'NCT04424485', 'NCT03002051', 'NCT03797326', 'NCT00579865', 'NCT03630926', 'NCT01075269']\n",
      " Query 11 metrics: Precision@10: 0.0000, Recall@10: 0.0000, F1@10: 0.0000, AP: 0.0000, nDCG@10: 0.0496\n",
      "  Total time for query: 0.10 seconds\n",
      "Time taken for semantic search: 13 ms\n",
      "Query 12 retrieved: ['NCT00001894', 'NCT03706833', 'NCT01678144', 'NCT04820764', 'NCT02071654', 'NCT00413998', 'NCT04147884', 'NCT04078867', 'NCT01368575', 'NCT04009434']\n",
      " Query 12 metrics: Precision@10: 0.2000, Recall@10: 0.0192, F1@10: 0.0351, AP: 0.4167, nDCG@10: 0.2048\n",
      "  Total time for query: 0.09 seconds\n"
     ]
    },
    {
     "name": "stderr",
     "output_type": "stream",
     "text": [
      " 20%|██        | 15/75 [00:01<00:05, 10.27it/s]"
     ]
    },
    {
     "name": "stdout",
     "output_type": "stream",
     "text": [
      "Time taken for semantic search: 13 ms\n",
      "Query 13 retrieved: ['NCT02910596', 'NCT03201367', 'NCT03341221', 'NCT04333602', 'NCT04450316', 'NCT03729882', 'NCT04507932', 'NCT02889471', 'NCT02508142', 'NCT04437108']\n",
      " Query 13 metrics: Precision@10: 0.0000, Recall@10: 0.0000, F1@10: 0.0000, AP: 0.0000, nDCG@10: 0.0000\n",
      "  Total time for query: 0.10 seconds\n",
      "Time taken for semantic search: 12 ms\n",
      "Query 14 retrieved: ['NCT02059993', 'NCT03902262', 'NCT01281033', 'NCT00852124', 'NCT02329522', 'NCT00616005', 'NCT02097212', 'NCT01266317', 'NCT03547895', 'NCT02035345']\n",
      " Query 14 metrics: Precision@10: 0.0000, Recall@10: 0.0000, F1@10: 0.0000, AP: 0.0000, nDCG@10: 0.0528\n",
      "  Total time for query: 0.10 seconds\n",
      "Time taken for semantic search: 13 ms\n",
      "Query 15 retrieved: ['NCT03902262', 'NCT03201367', 'NCT02340845', 'NCT02086825', 'NCT00121901', 'NCT03259880', 'NCT00487396', 'NCT04645030', 'NCT03944148', 'NCT03561441']\n",
      " Query 15 metrics: Precision@10: 0.0000, Recall@10: 0.0000, F1@10: 0.0000, AP: 0.0000, nDCG@10: 0.0000\n",
      "  Total time for query: 0.10 seconds\n"
     ]
    },
    {
     "name": "stderr",
     "output_type": "stream",
     "text": [
      " 23%|██▎       | 17/75 [00:01<00:05,  9.77it/s]"
     ]
    },
    {
     "name": "stdout",
     "output_type": "stream",
     "text": [
      "Time taken for semantic search: 49 ms\n",
      "Query 16 retrieved: ['NCT02059993', 'NCT01281033', 'NCT01266317', 'NCT00840463', 'NCT03994848', 'NCT03779750', 'NCT02097212', 'NCT00722254', 'NCT02781207', 'NCT00614900']\n",
      " Query 16 metrics: Precision@10: 0.1000, Recall@10: 0.0161, F1@10: 0.0278, AP: 0.1000, nDCG@10: 0.0636\n",
      "  Total time for query: 0.13 seconds\n",
      "Time taken for semantic search: 11 ms\n",
      "Query 17 retrieved: ['NCT02776202', 'NCT04694053', 'NCT01731886', 'NCT00892346', 'NCT00393380', 'NCT04614142', 'NCT01227187', 'NCT00613093', 'NCT01408836', 'NCT03779750']\n",
      " Query 17 metrics: Precision@10: 0.0000, Recall@10: 0.0000, F1@10: 0.0000, AP: 0.0000, nDCG@10: 0.0000\n",
      "  Total time for query: 0.09 seconds\n",
      "Time taken for semantic search: 7 ms\n",
      "Query 18 retrieved: ['NCT03503175', 'NCT01186237', 'NCT02150083', 'NCT00458471', 'NCT03713411', 'NCT03609580', 'NCT00416234', 'NCT03462602', 'NCT04835766', 'NCT00252941']\n",
      " Query 18 metrics: Precision@10: 0.0000, Recall@10: 0.0000, F1@10: 0.0000, AP: 0.0000, nDCG@10: 0.0000\n",
      "  Total time for query: 0.09 seconds\n"
     ]
    },
    {
     "name": "stderr",
     "output_type": "stream",
     "text": [
      " 28%|██▊       | 21/75 [00:02<00:05, 10.19it/s]"
     ]
    },
    {
     "name": "stdout",
     "output_type": "stream",
     "text": [
      "Time taken for semantic search: 5 ms\n",
      "Query 19 retrieved: ['NCT02781207', 'NCT02291796', 'NCT01281033', 'NCT03304847', 'NCT01097330', 'NCT01252823', 'NCT00247533', 'NCT04193813', 'NCT00919373', 'NCT01798277']\n",
      " Query 19 metrics: Precision@10: 0.4000, Recall@10: 0.0348, F1@10: 0.0640, AP: 0.5167, nDCG@10: 0.4284\n",
      "  Total time for query: 0.10 seconds\n",
      "Time taken for semantic search: 12 ms\n",
      "Query 20 retrieved: ['NCT01116167', 'NCT04553562', 'NCT04143295', 'NCT03453632', 'NCT02010814', 'NCT03647631', 'NCT03371589', 'NCT00006278', 'NCT02501395', 'NCT03823053']\n",
      " Query 20 metrics: Precision@10: 0.0000, Recall@10: 0.0000, F1@10: 0.0000, AP: 0.0000, nDCG@10: 0.0000\n",
      "  Total time for query: 0.09 seconds\n",
      "Time taken for semantic search: 14 ms\n",
      "Query 21 retrieved: ['NCT03902262', 'NCT03201367', 'NCT00105066', 'NCT02340845', 'NCT02377947', 'NCT00523874', 'NCT04850547', 'NCT02086825', 'NCT04553562', 'NCT00234494']\n",
      " Query 21 metrics: Precision@10: 0.0000, Recall@10: 0.0000, F1@10: 0.0000, AP: 0.0000, nDCG@10: 0.0000\n",
      "  Total time for query: 0.09 seconds\n"
     ]
    },
    {
     "name": "stderr",
     "output_type": "stream",
     "text": [
      " 31%|███       | 23/75 [00:02<00:05, 10.25it/s]"
     ]
    },
    {
     "name": "stdout",
     "output_type": "stream",
     "text": [
      "Time taken for semantic search: 13 ms\n",
      "Query 22 retrieved: ['NCT03902262', 'NCT01492179', 'NCT01991223', 'NCT03591419', 'NCT02380898', 'NCT04450316', 'NCT01388933', 'NCT04231279', 'NCT01652183', 'NCT04553562']\n",
      " Query 22 metrics: Precision@10: 0.0000, Recall@10: 0.0000, F1@10: 0.0000, AP: 0.0000, nDCG@10: 0.0528\n",
      "  Total time for query: 0.10 seconds\n",
      "Time taken for semantic search: 12 ms\n",
      "Query 23 retrieved: ['NCT00493974', 'NCT00395330', 'NCT04027322', 'NCT02329522', 'NCT00175565', 'NCT02682862', 'NCT00608764', 'NCT01296087', 'NCT02066129', 'NCT00318708']\n",
      " Query 23 metrics: Precision@10: 0.0000, Recall@10: 0.0000, F1@10: 0.0000, AP: 0.0000, nDCG@10: 0.0926\n",
      "  Total time for query: 0.09 seconds\n",
      "Time taken for semantic search: 16 ms\n",
      "Query 24 retrieved: ['NCT03272217', 'NCT00859339', 'NCT02156843', 'NCT00216125', 'NCT01071928', 'NCT03238235', 'NCT01034631', 'NCT03117010', 'NCT01215136', 'NCT01880632']\n",
      " Query 24 metrics: Precision@10: 0.0000, Recall@10: 0.0000, F1@10: 0.0000, AP: 0.0000, nDCG@10: 0.0000\n",
      "  Total time for query: 0.10 seconds\n"
     ]
    },
    {
     "name": "stderr",
     "output_type": "stream",
     "text": [
      " 36%|███▌      | 27/75 [00:02<00:04, 10.46it/s]"
     ]
    },
    {
     "name": "stdout",
     "output_type": "stream",
     "text": [
      "Time taken for semantic search: 11 ms\n",
      "Query 25 retrieved: ['NCT03647631', 'NCT03630926', 'NCT04529369', 'NCT01891149', 'NCT04201002', 'NCT00055991', 'NCT01707771', 'NCT04253249', 'NCT01256944', 'NCT04032860']\n",
      " Query 25 metrics: Precision@10: 0.0000, Recall@10: 0.0000, F1@10: 0.0000, AP: 0.0000, nDCG@10: 0.0000\n",
      "  Total time for query: 0.09 seconds\n",
      "Time taken for semantic search: 13 ms\n",
      "Query 26 retrieved: ['NCT03902262', 'NCT03201367', 'NCT04553562', 'NCT02340845', 'NCT02380898', 'NCT04450316', 'NCT01388933', 'NCT04231279', 'NCT03259880', 'NCT03017274']\n",
      " Query 26 metrics: Precision@10: 0.0000, Recall@10: 0.0000, F1@10: 0.0000, AP: 0.0000, nDCG@10: 0.0000\n",
      "  Total time for query: 0.09 seconds\n",
      "Time taken for semantic search: 11 ms\n",
      "Query 27 retrieved: ['NCT03201367', 'NCT04032860', 'NCT03461250', 'NCT01360268', 'NCT02340845', 'NCT00849745', 'NCT04035837', 'NCT03740789', 'NCT04405011', 'NCT01100398']\n",
      " Query 27 metrics: Precision@10: 0.0000, Recall@10: 0.0000, F1@10: 0.0000, AP: 0.0000, nDCG@10: 0.0683\n",
      "  Total time for query: 0.09 seconds\n"
     ]
    },
    {
     "name": "stderr",
     "output_type": "stream",
     "text": [
      " 39%|███▊      | 29/75 [00:02<00:04, 10.21it/s]"
     ]
    },
    {
     "name": "stdout",
     "output_type": "stream",
     "text": [
      "Time taken for semantic search: 12 ms\n",
      "Query 28 retrieved: ['NCT01657487', 'NCT02876289', 'NCT02329522', 'NCT00493974', 'NCT01742338', 'NCT03033758', 'NCT01114386', 'NCT01865500', 'NCT00852124', 'NCT04382625']\n",
      " Query 28 metrics: Precision@10: 0.3000, Recall@10: 0.0210, F1@10: 0.0392, AP: 0.6250, nDCG@10: 0.3843\n",
      "  Total time for query: 0.12 seconds\n",
      "Time taken for semantic search: 12 ms\n",
      "Query 29 retrieved: ['NCT00234494', 'NCT03970668', 'NCT04585542', 'NCT02086825', 'NCT00911625', 'NCT00216125', 'NCT01215136', 'NCT00893425', 'NCT02776202', 'NCT01408836']\n",
      " Query 29 metrics: Precision@10: 0.0000, Recall@10: 0.0000, F1@10: 0.0000, AP: 0.0000, nDCG@10: 0.0000\n",
      "  Total time for query: 0.09 seconds\n",
      "Time taken for semantic search: 12 ms\n",
      "Query 30 retrieved: ['NCT00715572', 'NCT03699098', 'NCT03641638', 'NCT03106935', 'NCT01832753', 'NCT00380614', 'NCT00450463', 'NCT04850547', 'NCT00497575', 'NCT02265328']\n",
      " Query 30 metrics: Precision@10: 0.0000, Recall@10: 0.0000, F1@10: 0.0000, AP: 0.0000, nDCG@10: 0.1637\n",
      "  Total time for query: 0.10 seconds\n"
     ]
    },
    {
     "name": "stderr",
     "output_type": "stream",
     "text": [
      " 44%|████▍     | 33/75 [00:03<00:04, 10.23it/s]"
     ]
    },
    {
     "name": "stdout",
     "output_type": "stream",
     "text": [
      "Time taken for semantic search: 12 ms\n",
      "Query 31 retrieved: ['NCT03630926', 'NCT03144037', 'NCT02780960', 'NCT04201002', 'NCT00285207', 'NCT03647631', 'NCT02540421', 'NCT03324373', 'NCT02253719', 'NCT00055991']\n",
      " Query 31 metrics: Precision@10: 0.1000, Recall@10: 0.0222, F1@10: 0.0364, AP: 0.1111, nDCG@10: 0.0663\n",
      "  Total time for query: 0.10 seconds\n",
      "Time taken for semantic search: 12 ms\n",
      "Query 32 retrieved: ['NCT03902262', 'NCT00216125', 'NCT00859339', 'NCT04850547', 'NCT03117010', 'NCT02377947', 'NCT02472509', 'NCT03341221', 'NCT03201367', 'NCT01215136']\n",
      " Query 32 metrics: Precision@10: 0.0000, Recall@10: 0.0000, F1@10: 0.0000, AP: 0.0000, nDCG@10: 0.0000\n",
      "  Total time for query: 0.10 seconds\n",
      "Time taken for semantic search: 13 ms\n",
      "Query 33 retrieved: ['NCT00021866', 'NCT03144037', 'NCT00055991', 'NCT03640273', 'NCT03867240', 'NCT03498742', 'NCT00009672', 'NCT00101725', 'NCT02636569', 'NCT03324373']\n",
      " Query 33 metrics: Precision@10: 0.0000, Recall@10: 0.0000, F1@10: 0.0000, AP: 0.0000, nDCG@10: 0.0000\n",
      "  Total time for query: 0.10 seconds\n"
     ]
    },
    {
     "name": "stderr",
     "output_type": "stream",
     "text": [
      " 47%|████▋     | 35/75 [00:03<00:03, 10.24it/s]"
     ]
    },
    {
     "name": "stdout",
     "output_type": "stream",
     "text": [
      "Time taken for semantic search: 12 ms\n",
      "Query 34 retrieved: ['NCT00908076', 'NCT04808843', 'NCT00185575', 'NCT03499301', 'NCT04373317', 'NCT00449865', 'NCT04573504', 'NCT03479190', 'NCT01276041', 'NCT00361218']\n",
      " Query 34 metrics: Precision@10: 0.1000, Recall@10: 0.0127, F1@10: 0.0225, AP: 0.1000, nDCG@10: 0.0636\n",
      "  Total time for query: 0.10 seconds\n",
      "Time taken for semantic search: 12 ms\n",
      "Query 35 retrieved: ['NCT04133662', 'NCT00361218', 'NCT04808843', 'NCT00313703', 'NCT00608764', 'NCT03479190', 'NCT04573504', 'NCT00464711', 'NCT04664231', 'NCT02367729']\n",
      " Query 35 metrics: Precision@10: 0.0000, Recall@10: 0.0000, F1@10: 0.0000, AP: 0.0000, nDCG@10: 0.0000\n",
      "  Total time for query: 0.09 seconds\n",
      "Time taken for semantic search: 12 ms\n",
      "Query 36 retrieved: ['NCT00105066', 'NCT04357119', 'NCT02556749', 'NCT00640757', 'NCT04850547', 'NCT01215136', 'NCT00862758', 'NCT01562678', 'NCT00948402', 'NCT01385098']\n",
      " Query 36 metrics: Precision@10: 0.3000, Recall@10: 0.0163, F1@10: 0.0309, AP: 0.6250, nDCG@10: 0.4210\n",
      "  Total time for query: 0.09 seconds\n"
     ]
    },
    {
     "name": "stderr",
     "output_type": "stream",
     "text": [
      " 52%|█████▏    | 39/75 [00:03<00:03, 10.24it/s]"
     ]
    },
    {
     "name": "stdout",
     "output_type": "stream",
     "text": [
      "Time taken for semantic search: 11 ms\n",
      "Query 37 retrieved: ['NCT00313703', 'NCT03479190', 'NCT00395330', 'NCT00397462', 'NCT03647631', 'NCT03280849', 'NCT00608764', 'NCT00971074', 'NCT04573504', 'NCT04568005']\n",
      " Query 37 metrics: Precision@10: 0.0000, Recall@10: 0.0000, F1@10: 0.0000, AP: 0.0000, nDCG@10: 0.0000\n",
      "  Total time for query: 0.10 seconds\n",
      "Time taken for semantic search: 14 ms\n",
      "Query 38 retrieved: ['NCT00105066', 'NCT03902262', 'NCT02086994', 'NCT03201367', 'NCT03117010', 'NCT04612803', 'NCT03647631', 'NCT00852124', 'NCT00613093', 'NCT02377947']\n",
      " Query 38 metrics: Precision@10: 0.0000, Recall@10: 0.0000, F1@10: 0.0000, AP: 0.0000, nDCG@10: 0.0000\n",
      "  Total time for query: 0.10 seconds\n",
      "Time taken for semantic search: 9 ms\n",
      "Query 39 retrieved: ['NCT01795131', 'NCT00676247', 'NCT04497012', 'NCT03902262', 'NCT02325492', 'NCT00692224', 'NCT04850547', 'NCT04121572', 'NCT02472509', 'NCT03448952']\n",
      " Query 39 metrics: Precision@10: 0.1000, Recall@10: 0.0294, F1@10: 0.0455, AP: 0.1667, nDCG@10: 0.0784\n",
      "  Total time for query: 0.10 seconds\n"
     ]
    },
    {
     "name": "stderr",
     "output_type": "stream",
     "text": [
      " 55%|█████▍    | 41/75 [00:04<00:03, 10.33it/s]"
     ]
    },
    {
     "name": "stdout",
     "output_type": "stream",
     "text": [
      "Time taken for semantic search: 12 ms\n",
      "Query 40 retrieved: ['NCT03479190', 'NCT02501395', 'NCT03500861', 'NCT01875458', 'NCT04553562', 'NCT02541292', 'NCT04130204', 'NCT03371589', 'NCT03626298', 'NCT00006278']\n",
      " Query 40 metrics: Precision@10: 0.0000, Recall@10: 0.0000, F1@10: 0.0000, AP: 0.0000, nDCG@10: 0.0000\n",
      "  Total time for query: 0.10 seconds\n",
      "Time taken for semantic search: 6 ms\n",
      "Query 41 retrieved: ['NCT00908076', 'NCT00449865', 'NCT04051060', 'NCT00493974', 'NCT02896816', 'NCT04373317', 'NCT00313703', 'NCT01909531', 'NCT00608764', 'NCT00812851']\n",
      " Query 41 metrics: Precision@10: 0.1000, Recall@10: 0.0075, F1@10: 0.0139, AP: 0.5000, nDCG@10: 0.2899\n",
      "  Total time for query: 0.09 seconds\n",
      "Time taken for semantic search: 4 ms\n",
      "Query 42 retrieved: ['NCT03902262', 'NCT03201367', 'NCT02989337', 'NCT02086994', 'NCT04357119', 'NCT00852124', 'NCT01011517', 'NCT03026686', 'NCT02340845', 'NCT03017274']\n",
      " Query 42 metrics: Precision@10: 0.0000, Recall@10: 0.0000, F1@10: 0.0000, AP: 0.0000, nDCG@10: 0.0547\n",
      "  Total time for query: 0.09 seconds\n"
     ]
    },
    {
     "name": "stderr",
     "output_type": "stream",
     "text": [
      " 60%|██████    | 45/75 [00:04<00:02, 10.39it/s]"
     ]
    },
    {
     "name": "stdout",
     "output_type": "stream",
     "text": [
      "Time taken for semantic search: 13 ms\n",
      "Query 43 retrieved: ['NCT00269399', 'NCT01388933', 'NCT00794924', 'NCT04694053', 'NCT03902262', 'NCT03201367', 'NCT03261297', 'NCT01714557', 'NCT03529318', 'NCT04450316']\n",
      " Query 43 metrics: Precision@10: 0.1000, Recall@10: 0.0159, F1@10: 0.0274, AP: 1.0000, nDCG@10: 0.2201\n",
      "  Total time for query: 0.10 seconds\n",
      "Time taken for semantic search: 13 ms\n",
      "Query 44 retrieved: ['NCT00764764', 'NCT03769246', 'NCT03479190', 'NCT03385408', 'NCT04150445', 'NCT00862758', 'NCT04782349', 'NCT02159612', 'NCT03823053', 'NCT02501395']\n",
      " Query 44 metrics: Precision@10: 0.0000, Recall@10: 0.0000, F1@10: 0.0000, AP: 0.0000, nDCG@10: 0.0836\n",
      "  Total time for query: 0.10 seconds\n",
      "Time taken for semantic search: 13 ms\n",
      "Query 45 retrieved: ['NCT03902262', 'NCT02377947', 'NCT03201367', 'NCT00216125', 'NCT03117010', 'NCT04850547', 'NCT01215136', 'NCT02340845', 'NCT03212872', 'NCT02265328']\n",
      " Query 45 metrics: Precision@10: 0.0000, Recall@10: 0.0000, F1@10: 0.0000, AP: 0.0000, nDCG@10: 0.0000\n",
      "  Total time for query: 0.10 seconds\n"
     ]
    },
    {
     "name": "stderr",
     "output_type": "stream",
     "text": [
      " 63%|██████▎   | 47/75 [00:04<00:02, 10.42it/s]"
     ]
    },
    {
     "name": "stdout",
     "output_type": "stream",
     "text": [
      "Time taken for semantic search: 11 ms\n",
      "Query 46 retrieved: ['NCT03902262', 'NCT00859339', 'NCT00216125', 'NCT02377947', 'NCT03117010', 'NCT04645030', 'NCT03238235', 'NCT01732107', 'NCT03201367', 'NCT01215136']\n",
      " Query 46 metrics: Precision@10: 0.0000, Recall@10: 0.0000, F1@10: 0.0000, AP: 0.0000, nDCG@10: 0.0000\n",
      "  Total time for query: 0.10 seconds\n",
      "Time taken for semantic search: 4 ms\n",
      "Query 47 retrieved: ['NCT03902262', 'NCT03201367', 'NCT02291796', 'NCT02035345', 'NCT03496545', 'NCT00706641', 'NCT02086994', 'NCT02248233', 'NCT00616005', 'NCT04005222']\n",
      " Query 47 metrics: Precision@10: 0.0000, Recall@10: 0.0000, F1@10: 0.0000, AP: 0.0000, nDCG@10: 0.0231\n",
      "  Total time for query: 0.09 seconds\n",
      "Time taken for semantic search: 13 ms\n",
      "Query 48 retrieved: ['NCT03453632', 'NCT03007173', 'NCT04254510', 'NCT03647631', 'NCT00301405', 'NCT04002219', 'NCT00143598', 'NCT03626298', 'NCT01652625', 'NCT04142632']\n",
      " Query 48 metrics: Precision@10: 0.0000, Recall@10: 0.0000, F1@10: 0.0000, AP: 0.0000, nDCG@10: 0.0000\n",
      "  Total time for query: 0.10 seconds\n"
     ]
    },
    {
     "name": "stderr",
     "output_type": "stream",
     "text": [
      " 68%|██████▊   | 51/75 [00:04<00:02, 10.21it/s]"
     ]
    },
    {
     "name": "stdout",
     "output_type": "stream",
     "text": [
      "Time taken for semantic search: 12 ms\n",
      "Query 49 retrieved: ['NCT03651388', 'NCT02223936', 'NCT00023101', 'NCT01891149', 'NCT02830321', 'NCT03708497', 'NCT03568370', 'NCT00021866', 'NCT04352062', 'NCT00134745']\n",
      " Query 49 metrics: Precision@10: 0.1000, Recall@10: 0.0286, F1@10: 0.0444, AP: 0.1000, nDCG@10: 0.0636\n",
      "  Total time for query: 0.10 seconds\n",
      "Time taken for semantic search: 13 ms\n",
      "Query 50 retrieved: ['NCT01165489', 'NCT02337088', 'NCT03726697', 'NCT00776789', 'NCT03551600', 'NCT04083768', 'NCT01682122', 'NCT04062747', 'NCT03448952', 'NCT01245296']\n",
      " Query 50 metrics: Precision@10: 0.0000, Recall@10: 0.0000, F1@10: 0.0000, AP: 0.0000, nDCG@10: 0.0000\n",
      "  Total time for query: 0.10 seconds\n",
      "Time taken for semantic search: 10 ms\n",
      "Query 51 retrieved: ['NCT03902262', 'NCT02086994', 'NCT02830321', 'NCT03201367', 'NCT02989337', 'NCT03026686', 'NCT04450316', 'NCT03017274', 'NCT04645030', 'NCT00269399']\n",
      " Query 51 metrics: Precision@10: 0.0000, Recall@10: 0.0000, F1@10: 0.0000, AP: 0.0000, nDCG@10: 0.0000\n",
      "  Total time for query: 0.10 seconds\n"
     ]
    },
    {
     "name": "stderr",
     "output_type": "stream",
     "text": [
      " 71%|███████   | 53/75 [00:05<00:02, 10.30it/s]"
     ]
    },
    {
     "name": "stdout",
     "output_type": "stream",
     "text": [
      "Time taken for semantic search: 11 ms\n",
      "Query 52 retrieved: ['NCT03261297', 'NCT00953667', 'NCT04254510', 'NCT00269399', 'NCT00971074', 'NCT03017274', 'NCT03529318', 'NCT04491799', 'NCT03187795', 'NCT02502487']\n",
      " Query 52 metrics: Precision@10: 0.1000, Recall@10: 0.0244, F1@10: 0.0392, AP: 0.2500, nDCG@10: 0.0948\n",
      "  Total time for query: 0.10 seconds\n",
      "Time taken for semantic search: 6 ms\n",
      "Query 53 retrieved: ['NCT00216125', 'NCT03902262', 'NCT00859339', 'NCT01880632', 'NCT03117010', 'NCT01215136', 'NCT00234494', 'NCT04121572', 'NCT00537173', 'NCT00030498']\n",
      " Query 53 metrics: Precision@10: 0.0000, Recall@10: 0.0000, F1@10: 0.0000, AP: 0.0000, nDCG@10: 0.0000\n",
      "  Total time for query: 0.09 seconds\n",
      "Time taken for semantic search: 12 ms\n",
      "Query 54 retrieved: ['NCT03902262', 'NCT03117010', 'NCT00216125', 'NCT04441489', 'NCT04267965', 'NCT01732107', 'NCT00859339', 'NCT01215136', 'NCT03201367', 'NCT03976843']\n",
      " Query 54 metrics: Precision@10: 0.0000, Recall@10: 0.0000, F1@10: 0.0000, AP: 0.0000, nDCG@10: 0.0000\n",
      "  Total time for query: 0.10 seconds\n"
     ]
    },
    {
     "name": "stderr",
     "output_type": "stream",
     "text": [
      " 76%|███████▌  | 57/75 [00:05<00:01, 10.41it/s]"
     ]
    },
    {
     "name": "stdout",
     "output_type": "stream",
     "text": [
      "Time taken for semantic search: 6 ms\n",
      "Query 55 retrieved: ['NCT04626817', 'NCT03651388', 'NCT00786500', 'NCT03500861', 'NCT03453632', 'NCT03647631', 'NCT03201367', 'NCT00332631', 'NCT03268681', 'NCT00613093']\n",
      " Query 55 metrics: Precision@10: 0.0000, Recall@10: 0.0000, F1@10: 0.0000, AP: 0.0000, nDCG@10: 0.0000\n",
      "  Total time for query: 0.10 seconds\n",
      "Time taken for semantic search: 11 ms\n",
      "Query 56 retrieved: ['NCT04201002', 'NCT04825626', 'NCT04674241', 'NCT01203618', 'NCT00128232', 'NCT02459652', 'NCT00993356', 'NCT04424485', 'NCT03144037', 'NCT02629549']\n",
      " Query 56 metrics: Precision@10: 0.0000, Recall@10: 0.0000, F1@10: 0.0000, AP: 0.0000, nDCG@10: 0.0844\n",
      "  Total time for query: 0.09 seconds\n",
      "Time taken for semantic search: 9 ms\n",
      "Query 57 retrieved: ['NCT03902262', 'NCT03201367', 'NCT03259880', 'NCT04850547', 'NCT02340845', 'NCT04231279', 'NCT01520675', 'NCT04553562', 'NCT04450316', 'NCT03261297']\n",
      " Query 57 metrics: Precision@10: 0.1000, Recall@10: 0.0093, F1@10: 0.0169, AP: 0.3333, nDCG@10: 0.1100\n",
      "  Total time for query: 0.09 seconds\n"
     ]
    },
    {
     "name": "stderr",
     "output_type": "stream",
     "text": [
      " 79%|███████▊  | 59/75 [00:05<00:01, 10.05it/s]"
     ]
    },
    {
     "name": "stdout",
     "output_type": "stream",
     "text": [
      "Time taken for semantic search: 11 ms\n",
      "Query 58 retrieved: ['NCT03902262', 'NCT01388933', 'NCT01639170', 'NCT04694053', 'NCT01986686', 'NCT03201367', 'NCT04450316', 'NCT01991223', 'NCT03477253', 'NCT03591419']\n",
      " Query 58 metrics: Precision@10: 0.1000, Recall@10: 0.0182, F1@10: 0.0308, AP: 0.1000, nDCG@10: 0.0636\n",
      "  Total time for query: 0.12 seconds\n",
      "Time taken for semantic search: 5 ms\n",
      "Query 59 retrieved: ['NCT01742338', 'NCT00493974', 'NCT03498742', 'NCT02329522', 'NCT00694850', 'NCT02824523', 'NCT00565955', 'NCT02682862', 'NCT00497523', 'NCT03033758']\n",
      " Query 59 metrics: Precision@10: 0.1000, Recall@10: 0.0053, F1@10: 0.0101, AP: 0.1429, nDCG@10: 0.0946\n",
      "  Total time for query: 0.09 seconds\n",
      "Time taken for semantic search: 11 ms\n",
      "Query 60 retrieved: ['NCT03902262', 'NCT00216125', 'NCT03272217', 'NCT00859339', 'NCT02156843', 'NCT03238235', 'NCT01732107', 'NCT01034631', 'NCT01071928', 'NCT03117010']\n",
      " Query 60 metrics: Precision@10: 0.0000, Recall@10: 0.0000, F1@10: 0.0000, AP: 0.0000, nDCG@10: 0.0000\n",
      "  Total time for query: 0.10 seconds\n"
     ]
    },
    {
     "name": "stderr",
     "output_type": "stream",
     "text": [
      " 84%|████████▍ | 63/75 [00:06<00:01, 10.27it/s]"
     ]
    },
    {
     "name": "stdout",
     "output_type": "stream",
     "text": [
      "Time taken for semantic search: 11 ms\n",
      "Query 61 retrieved: ['NCT03144037', 'NCT03647631', 'NCT03630926', 'NCT03797326', 'NCT04457700', 'NCT00542191', 'NCT04201002', 'NCT04694053', 'NCT03560102', 'NCT03092518']\n",
      " Query 61 metrics: Precision@10: 0.2000, Recall@10: 0.0167, F1@10: 0.0308, AP: 0.2111, nDCG@10: 0.1775\n",
      "  Total time for query: 0.10 seconds\n",
      "Time taken for semantic search: 12 ms\n",
      "Query 62 retrieved: ['NCT01458860', 'NCT04738864', 'NCT00384618', 'NCT04290767', 'NCT04299971', 'NCT02961127', 'NCT04300686', 'NCT02884141', 'NCT04850547', 'NCT02775318']\n",
      " Query 62 metrics: Precision@10: 0.1000, Recall@10: 0.0154, F1@10: 0.0267, AP: 1.0000, nDCG@10: 0.2201\n",
      "  Total time for query: 0.10 seconds\n",
      "Time taken for semantic search: 10 ms\n",
      "Query 63 retrieved: ['NCT03902262', 'NCT04553562', 'NCT04450316', 'NCT03201367', 'NCT02340845', 'NCT01388933', 'NCT03017274', 'NCT03259880', 'NCT02380898', 'NCT04231279']\n",
      " Query 63 metrics: Precision@10: 0.0000, Recall@10: 0.0000, F1@10: 0.0000, AP: 0.0000, nDCG@10: 0.0000\n",
      "  Total time for query: 0.09 seconds\n"
     ]
    },
    {
     "name": "stderr",
     "output_type": "stream",
     "text": [
      " 87%|████████▋ | 65/75 [00:06<00:00, 10.33it/s]"
     ]
    },
    {
     "name": "stdout",
     "output_type": "stream",
     "text": [
      "Time taken for semantic search: 13 ms\n",
      "Query 64 retrieved: ['NCT01360268', 'NCT03461250', 'NCT01905254', 'NCT03740789', 'NCT03201367', 'NCT04032860', 'NCT00849745', 'NCT00663182', 'NCT03212872', 'NCT01872988']\n",
      " Query 64 metrics: Precision@10: 0.0000, Recall@10: 0.0000, F1@10: 0.0000, AP: 0.0000, nDCG@10: 0.0316\n",
      "  Total time for query: 0.10 seconds\n",
      "Time taken for semantic search: 12 ms\n",
      "Query 65 retrieved: ['NCT00105066', 'NCT01215136', 'NCT00893425', 'NCT00537173', 'NCT00216125', 'NCT01281033', 'NCT03413462', 'NCT00852124', 'NCT04121572', 'NCT01011517']\n",
      " Query 65 metrics: Precision@10: 0.0000, Recall@10: 0.0000, F1@10: 0.0000, AP: 0.0000, nDCG@10: 0.0000\n",
      "  Total time for query: 0.09 seconds\n",
      "Time taken for semantic search: 11 ms\n",
      "Query 66 retrieved: ['NCT00105066', 'NCT00302926', 'NCT03641638', 'NCT00715572', 'NCT04175964', 'NCT00715715', 'NCT00640757', 'NCT00456885', 'NCT00497653', 'NCT02010814']\n",
      " Query 66 metrics: Precision@10: 0.0000, Recall@10: 0.0000, F1@10: 0.0000, AP: 0.0000, nDCG@10: 0.0000\n",
      "  Total time for query: 0.09 seconds\n"
     ]
    },
    {
     "name": "stderr",
     "output_type": "stream",
     "text": [
      " 92%|█████████▏| 69/75 [00:06<00:00, 10.51it/s]"
     ]
    },
    {
     "name": "stdout",
     "output_type": "stream",
     "text": [
      "Time taken for semantic search: 12 ms\n",
      "Query 67 retrieved: ['NCT03647631', 'NCT02113514', 'NCT02797600', 'NCT01402583', 'NCT01116167', 'NCT03630926', 'NCT00055991', 'NCT03144037', 'NCT04553562', 'NCT01095198']\n",
      " Query 67 metrics: Precision@10: 0.0000, Recall@10: 0.0000, F1@10: 0.0000, AP: 0.0000, nDCG@10: 0.0212\n",
      "  Total time for query: 0.09 seconds\n",
      "Time taken for semantic search: 12 ms\n",
      "Query 68 retrieved: ['NCT00751426', 'NCT01408836', 'NCT01561248', 'NCT04622449', 'NCT00922883', 'NCT01360268', 'NCT02776202', 'NCT01410578', 'NCT00380614', 'NCT02464124']\n",
      " Query 68 metrics: Precision@10: 0.0000, Recall@10: 0.0000, F1@10: 0.0000, AP: 0.0000, nDCG@10: 0.0367\n",
      "  Total time for query: 0.09 seconds\n",
      "Time taken for semantic search: 13 ms\n",
      "Query 69 retrieved: ['NCT00021866', 'NCT03144037', 'NCT03867240', 'NCT01276041', 'NCT01754493', 'NCT03640273', 'NCT00971074', 'NCT01099657', 'NCT00009672', 'NCT03498742']\n",
      " Query 69 metrics: Precision@10: 0.0000, Recall@10: 0.0000, F1@10: 0.0000, AP: 0.0000, nDCG@10: 0.0000\n",
      "  Total time for query: 0.10 seconds\n"
     ]
    },
    {
     "name": "stderr",
     "output_type": "stream",
     "text": [
      " 95%|█████████▍| 71/75 [00:06<00:00, 10.46it/s]"
     ]
    },
    {
     "name": "stdout",
     "output_type": "stream",
     "text": [
      "Time taken for semantic search: 13 ms\n",
      "Query 70 retrieved: ['NCT00908076', 'NCT00185575', 'NCT00053846', 'NCT00608764', 'NCT04051060', 'NCT04573504', 'NCT00395330', 'NCT00848406', 'NCT00313703', 'NCT00449865']\n",
      " Query 70 metrics: Precision@10: 0.0000, Recall@10: 0.0000, F1@10: 0.0000, AP: 0.0000, nDCG@10: 0.0000\n",
      "  Total time for query: 0.10 seconds\n",
      "Time taken for semantic search: 11 ms\n",
      "Query 71 retrieved: ['NCT00105066', 'NCT04357119', 'NCT02556749', 'NCT00640757', 'NCT00003906', 'NCT01215136', 'NCT01707771', 'NCT01977417', 'NCT01281033', 'NCT00456885']\n",
      " Query 71 metrics: Precision@10: 0.2000, Recall@10: 0.0150, F1@10: 0.0280, AP: 0.3929, nDCG@10: 0.2334\n",
      "  Total time for query: 0.09 seconds\n",
      "Time taken for semantic search: 4 ms\n",
      "Query 72 retrieved: ['NCT03902262', 'NCT00105066', 'NCT03201367', 'NCT04352062', 'NCT00380614', 'NCT02086994', 'NCT03117010', 'NCT00613093', 'NCT04413149', 'NCT03212872']\n",
      " Query 72 metrics: Precision@10: 0.0000, Recall@10: 0.0000, F1@10: 0.0000, AP: 0.0000, nDCG@10: 0.0000\n",
      "  Total time for query: 0.10 seconds\n"
     ]
    },
    {
     "name": "stderr",
     "output_type": "stream",
     "text": [
      "100%|██████████| 75/75 [00:07<00:00, 10.30it/s]"
     ]
    },
    {
     "name": "stdout",
     "output_type": "stream",
     "text": [
      "Time taken for semantic search: 4 ms\n",
      "Query 73 retrieved: ['NCT03902262', 'NCT01795131', 'NCT02325492', 'NCT00676247', 'NCT04121572', 'NCT04850547', 'NCT04497012', 'NCT01385098', 'NCT04531163', 'NCT00692224']\n",
      " Query 73 metrics: Precision@10: 0.0000, Recall@10: 0.0000, F1@10: 0.0000, AP: 0.0000, nDCG@10: 0.0528\n",
      "  Total time for query: 0.09 seconds\n",
      "Time taken for semantic search: 12 ms\n",
      "Query 74 retrieved: ['NCT03479190', 'NCT02501395', 'NCT03500861', 'NCT04130204', 'NCT01875458', 'NCT03453632', 'NCT02541292', 'NCT00111241', 'NCT00449865', 'NCT00971074']\n",
      " Query 74 metrics: Precision@10: 0.0000, Recall@10: 0.0000, F1@10: 0.0000, AP: 0.0000, nDCG@10: 0.0000\n",
      "  Total time for query: 0.10 seconds\n",
      "Time taken for semantic search: 13 ms\n",
      "Query 75 retrieved: ['NCT00908076', 'NCT04051060', 'NCT00493974', 'NCT00449865', 'NCT00936585', 'NCT02896816', 'NCT00646204', 'NCT03446807', 'NCT01366027', 'NCT04130204']\n",
      " Query 75 metrics: Precision@10: 0.0000, Recall@10: 0.0000, F1@10: 0.0000, AP: 0.0000, nDCG@10: 0.0537\n",
      "  Total time for query: 0.10 seconds\n",
      "\n",
      "--- Overall Evaluation (Token Clinical Bert Semantic-Only) ---\n",
      "Date/time:2025-04-10 08:16:32\n",
      "Relevance threshold >= 2\n",
      "Mean Precision@10: 0.0480\n",
      "Mean Recall@10: 0.0065\n",
      "Mean F1@10: 0.0106\n",
      "Mean Average Precision (MAP): 0.1057\n",
      "Mean nDCG@10: 0.0699\n",
      "Mean MRR@10: 0.1216\n",
      "Average total time per query: 0.10 seconds\n"
     ]
    },
    {
     "name": "stderr",
     "output_type": "stream",
     "text": [
      "\n"
     ]
    }
   ],
   "source": [
    "import json\n",
    "import numpy as np\n",
    "from tqdm import tqdm\n",
    "from transformers import AutoTokenizer, AutoModel\n",
    "import torch\n",
    "import time\n",
    "import pandas as pd\n",
    "from datetime import datetime\n",
    "import torch.nn.functional as F\n",
    "\n",
    "tokenizer = AutoTokenizer.from_pretrained(\"medicalai/ClinicalBERT\")\n",
    "model = AutoModel.from_pretrained(\"medicalai/ClinicalBERT\")\n",
    "model.eval()\n",
    "device = torch.device(\"cuda\" if torch.cuda.is_available() else \"cpu\")\n",
    "model.to(device)\n",
    "\n",
    "def mean_pooling(model_output, attention_mask):\n",
    "    \"\"\"\n",
    "    Perform mean pooling on token embeddings while taking the attention mask into account.\n",
    "    \"\"\"\n",
    "    token_embeddings = model_output.last_hidden_state  # (batch_size, seq_len, hidden_size)\n",
    "    input_mask_expanded = attention_mask.unsqueeze(-1).expand(token_embeddings.size()).float()\n",
    "    sum_embeddings = torch.sum(token_embeddings * input_mask_expanded, dim=1)\n",
    "    sum_mask = torch.clamp(input_mask_expanded.sum(dim=1), min=1e-9)\n",
    "    return sum_embeddings / sum_mask\n",
    "\n",
    "def get_embedding(text, max_length=512):\n",
    "    \"\"\"\n",
    "    Compute the embedding for the given text using ClinicalBERT.\n",
    "    Returns the embedding as a list of floats.\n",
    "    \"\"\"\n",
    "    encoded_input = tokenizer(\n",
    "        text,\n",
    "        padding=\"max_length\",\n",
    "        truncation=True,\n",
    "        max_length=max_length,\n",
    "        return_tensors=\"pt\"\n",
    "    ).to(device)\n",
    "\n",
    "    with torch.no_grad():\n",
    "        model_output = model(**encoded_input)\n",
    "    # embedding_temp = mean_pooling(model_output, encoded_input['attention_mask'])\n",
    "    embedding = mean_pooling(model_output, encoded_input['attention_mask'])\n",
    "     # Normalize the embedding to unit length\n",
    "    # embedding = F.normalize(embedding_temp, p=2, dim=1) #Added 22 March\n",
    "    return embedding[0].cpu().numpy().tolist()\n",
    "\n",
    "\n",
    "# Evaluation Metric Functions\n",
    "def precision_at_k(re_ranked_docs, relevant_docs, k):\n",
    "    top_k_docs = re_ranked_docs[:k]\n",
    "    num_relevant_in_k = sum(1 for doc in top_k_docs \n",
    "                            if doc in relevant_docs and relevant_docs[doc] > 0)\n",
    "    return num_relevant_in_k / k if k else 0.0\n",
    "\n",
    "def recall_at_k(re_ranked_docs, relevant_docs, k):\n",
    "    top_k_docs = re_ranked_docs[:k]\n",
    "    total_relevant = sum(1 for doc, rel in relevant_docs.items() if rel > 0)\n",
    "    if total_relevant == 0:\n",
    "        return 0.0\n",
    "    num_relevant_in_k = sum(1 for doc in top_k_docs \n",
    "                            if doc in relevant_docs and relevant_docs[doc] > 0)\n",
    "    return num_relevant_in_k / total_relevant\n",
    "\n",
    "def f1_at_k(re_ranked_docs, relevant_docs, k):\n",
    "    p = precision_at_k(re_ranked_docs, relevant_docs, k)\n",
    "    r = recall_at_k(re_ranked_docs, relevant_docs, k)\n",
    "    if (p + r) == 0:\n",
    "        return 0.0\n",
    "    return 2 * (p * r) / (p + r)\n",
    "\n",
    "def average_precision(re_ranked_docs, relevant_docs):\n",
    "    if not relevant_docs:\n",
    "        return 0.0\n",
    "    \n",
    "    relevant_indices = [\n",
    "        i for i, doc in enumerate(re_ranked_docs)\n",
    "        if doc in relevant_docs and relevant_docs[doc] > 0\n",
    "    ]\n",
    "    if not relevant_indices:\n",
    "        return 0.0\n",
    "    \n",
    "    ap_sum = 0.0\n",
    "    for idx, rank_pos in enumerate(relevant_indices, start=1):\n",
    "        prec = precision_at_k(re_ranked_docs, relevant_docs, rank_pos+1)\n",
    "        ap_sum += prec\n",
    "    return ap_sum / len(relevant_indices)\n",
    "\n",
    "def ndcg_at_k(re_ranked_docs, relevant_docs, k):\n",
    "    def dcg(scores):\n",
    "        return sum(( (2**s - 1) / np.log2(idx + 2)) for idx, s in enumerate(scores))\n",
    "    \n",
    "    top_k_docs = re_ranked_docs[:k]\n",
    "    actual_scores = [relevant_docs[doc] if doc in relevant_docs else 0 for doc in top_k_docs]\n",
    "    actual_dcg = dcg(actual_scores)\n",
    "    \n",
    "    sorted_rels = sorted(relevant_docs.values(), reverse=True)[:k]\n",
    "    ideal_dcg = dcg(sorted_rels)\n",
    "    \n",
    "    if ideal_dcg == 0:\n",
    "        return 0.0\n",
    "    return actual_dcg / ideal_dcg\n",
    "\n",
    "def mrr_at_k(re_ranked_docs, relevant_docs, k):\n",
    "    for i, doc_id in enumerate(re_ranked_docs[:k], start=1):\n",
    "        if doc_id in relevant_docs and relevant_docs[doc_id] > 0:\n",
    "            return 1.0 / i\n",
    "    return 0.0\n",
    "\n",
    "# Data Loading query and qrels from JSONL files\n",
    "def load_jsonl(filepath):\n",
    "    data = {}\n",
    "    with open(filepath, \"r\") as f:\n",
    "        for line in f:\n",
    "            entry = json.loads(line)\n",
    "            qid = entry[\"query_id\"]\n",
    "            # If it's a query record\n",
    "            if \"text\" in entry:\n",
    "                data[qid] = entry[\"text\"].strip()\n",
    "            else:\n",
    "                # It's a qrel record\n",
    "                if qid not in data:\n",
    "                    data[qid] = {}\n",
    "                doc_id = entry[\"doc_id\"]\n",
    "                relevance = int(entry.get(\"relevance\", 0))\n",
    "                data[qid][doc_id] = relevance\n",
    "    return data\n",
    "\n",
    "queries = load_jsonl(\"trec_ct_2021_query.jsonl\") \n",
    "qrels = load_jsonl(\"trec_ct_2021_qrels.jsonl\")    \n",
    "\n",
    "\n",
    "# Semantic-Only Search on tokenised embeddings\n",
    "def semantic_search(query_text, top_k=10):\n",
    "    \"\"\"\n",
    "    Search the entire index using a script_score\n",
    "    with 'detailed_descrption_vector' and query vector.\n",
    "    \"\"\"\n",
    "    query_vector = get_embedding(query_text)\n",
    "    vector_query_body = {\n",
    "        \"size\": top_k,  # put size in the body to avoid deprecation warnings\n",
    "        \"query\": {\n",
    "            \"script_score\": {\n",
    "                \"query\": {\n",
    "                    \"bool\": {\n",
    "                        \"must\": [\n",
    "                            {\"exists\": {\"field\": \"detailed_descrption_vector\"}}\n",
    "                        ]\n",
    "                    }\n",
    "                },\n",
    "                \"script\": {\n",
    "                    \"source\": \"cosineSimilarity(params.query_vector, 'detailed_descrption_vector') + 1.0\",\n",
    "                    \"params\": {\"query_vector\": query_vector}\n",
    "                }\n",
    "            }\n",
    "        }\n",
    "    }\n",
    "\n",
    "    response = es.search(index=\"ir_dev_index\", body=vector_query_body)\n",
    "    # Return doc_id from _source if that's how Qrels references them\n",
    "    print(\"Time taken for semantic search: {} ms\".format(response[\"took\"]))\n",
    "    return [hit[\"_source\"][\"doc_id\"] for hit in response[\"hits\"][\"hits\"]]\n",
    "\n",
    "K = 10               # top K for retrieval & evaluation\n",
    "RELEVANCE_THRESHOLD = 2  # Consider docs with relevance >= x as relevant when evaluating\n",
    "\n",
    "def get_relevant_docs(qrel_dict, relevance_threshold=1):\n",
    "    return {doc_id: rel for doc_id, rel in qrel_dict.items() if rel >= relevance_threshold}\n",
    "\n",
    "def get_all_docs(qrel_dict):\n",
    "    \"\"\"Return the entire dictionary of {doc_id: relevance}, including relevance=0.\"\"\"\n",
    "    return {doc_id: rel for doc_id, rel in qrel_dict.items()}\n",
    "\n",
    "all_metrics = []\n",
    "\n",
    "for qid, query_text in tqdm(queries.items(), total=len(queries)):\n",
    "    if not query_text:\n",
    "        continue\n",
    "    \n",
    "    # Track the total time\n",
    "    start_time = time.time()\n",
    "\n",
    "    # Retrieve top K docs via semantic search\n",
    "    retrieved_docs = semantic_search(query_text, top_k=K)\n",
    "    \n",
    "    # Filter qrels to get only docs with >= threshold ( for evaluation only )\n",
    "    relevant_docs = get_relevant_docs(qrels.get(qid, {}), relevance_threshold=RELEVANCE_THRESHOLD)\n",
    "    \n",
    "    #All docs retrieved (i.e no threshold) to compute nDCG based on graded relevance 0,1,2\n",
    "    ndcg_relevant_docs = get_all_docs(qrels.get(qid, {}))\n",
    "\n",
    "    # Mark the end time for entire query processing\n",
    "    total_time = time.time() - start_time\n",
    "\n",
    "    # Compute metrics\n",
    "    prec_val = precision_at_k(retrieved_docs, relevant_docs, K)\n",
    "    rec_val = recall_at_k(retrieved_docs, relevant_docs, K)\n",
    "    f_val = f1_at_k(retrieved_docs, relevant_docs, K)\n",
    "    ap_val = average_precision(retrieved_docs, relevant_docs)\n",
    "    ndcg_val = ndcg_at_k(retrieved_docs, ndcg_relevant_docs, K)\n",
    "    mrr_val = mrr_at_k(retrieved_docs, relevant_docs, K)\n",
    "\n",
    "    metrics = {\n",
    "        \"query_id\": qid,\n",
    "        \"precision\": prec_val,\n",
    "        \"recall\": rec_val,\n",
    "        \"f1\": f_val,\n",
    "        \"average_precision\": ap_val,\n",
    "        \"ndcg\": ndcg_val,\n",
    "        \"mrr\": mrr_val,\n",
    "        \"time_seconds\": total_time\n",
    "    }\n",
    "    all_metrics.append(metrics)\n",
    "    print(f\"Query {qid} retrieved: {retrieved_docs}\")\n",
    "    print(f\" Query {qid} metrics: Precision@10: {prec_val:.4f}, Recall@10: {rec_val:.4f}, F1@10: {f_val:.4f}, AP: {ap_val:.4f}, nDCG@10: {ndcg_val:.4f}\")\n",
    "    print(f\"  Total time for query: {total_time:.2f} seconds\")\n",
    "\n",
    "# Compute overall metrics\n",
    "if all_metrics:\n",
    "    mean_precision = np.mean([m[\"precision\"] for m in all_metrics])\n",
    "    mean_recall = np.mean([m[\"recall\"] for m in all_metrics])\n",
    "    mean_f1 = np.mean([m[\"f1\"] for m in all_metrics])\n",
    "    mean_ap = np.mean([m[\"average_precision\"] for m in all_metrics])\n",
    "    mean_ndcg = np.mean([m[\"ndcg\"] for m in all_metrics])\n",
    "    mean_mrr = np.mean([m[\"mrr\"] for m in all_metrics])\n",
    "    avg_time = np.mean([m[\"time_seconds\"] for m in all_metrics])\n",
    "\n",
    "    print(\"\\n--- Overall Evaluation (Token Clinical Bert Semantic-Only) ---\")\n",
    "    current_time = datetime.now().strftime(\"%Y-%m-%d %H:%M:%S\")\n",
    "    print(f\"Date/time:{current_time}\")\n",
    "    print(f\"Relevance threshold >= {RELEVANCE_THRESHOLD}\")\n",
    "    print(f\"Mean Precision@{K}: {mean_precision:.4f}\")\n",
    "    print(f\"Mean Recall@{K}: {mean_recall:.4f}\")\n",
    "    print(f\"Mean F1@{K}: {mean_f1:.4f}\")\n",
    "    print(f\"Mean Average Precision (MAP): {mean_ap:.4f}\")\n",
    "    print(f\"Mean nDCG@{K}: {mean_ndcg:.4f}\")\n",
    "    print(f\"Mean MRR@{K}: {mean_mrr:.4f}\")\n",
    "    print(f\"Average total time per query: {avg_time:.2f} seconds\")\n",
    "else:\n",
    "    print(\"No queries processed.\")\n",
    "\n",
    "# Create a DataFrame to export the computed results for all queries\n",
    "data = {\n",
    "    \"Test\": \"Token Emdedding Only.\",\n",
    "    \"Date/Time\": [current_time],\n",
    "    \"Relevance Threshold\": [RELEVANCE_THRESHOLD],\n",
    "    f\"Mean Precision@{K}\": [mean_precision],\n",
    "    f\"Mean Recall@{K}\": [mean_recall],\n",
    "    f\"Mean F1@{K}\": [mean_f1],\n",
    "    \"Mean Average Precision (MAP)\": [mean_ap],\n",
    "    f\"Mean nDCG@{K}\": [mean_ndcg],\n",
    "    f\"Mean MRR@{K}\": [mean_mrr],\n",
    "    \"Avg Time per Query (s)\": [avg_time],\n",
    "}\n",
    "df = pd.DataFrame(data)\n",
    "\n",
    "# Export to an Excel file\n",
    "xlsx_filename = \"evaluation_results_TOKEN_embeddings_only.xlsx\"\n",
    "df.to_excel(xlsx_filename, index=False)\n",
    "\n",
    "print(f\"\\nMetrics have been exported to {xlsx_filename}\")"
   ]
  },
  {
   "cell_type": "markdown",
   "metadata": {},
   "source": [
    "### BM25 and semantic search with ClinicalBERT"
   ]
  },
  {
   "cell_type": "markdown",
   "metadata": {},
   "source": [
    "Initial retrieval with BM25 and re-ranking with ClinicalBERT"
   ]
  },
  {
   "cell_type": "code",
   "execution_count": null,
   "metadata": {},
   "outputs": [
    {
     "name": "stdout",
     "output_type": "stream",
     "text": [
      "Processing queries and computing evaluation metrics...\n"
     ]
    },
    {
     "name": "stderr",
     "output_type": "stream",
     "text": [
      "  0%|          | 0/75 [00:00<?, ?it/s]/var/folders/b3/59dkzgnj0zxdhdx31d2ztm000000gn/T/ipykernel_54465/781688488.py:128: DeprecationWarning: Received 'size' via a specific parameter in the presence of a 'body' parameter, which is deprecated and will be removed in a future version. Instead, use only 'body' or only specific parameters.\n",
      "  response = es.search(index=\"ir_dev_index\", body=initial_body, size=candidate_size)\n",
      "/var/folders/b3/59dkzgnj0zxdhdx31d2ztm000000gn/T/ipykernel_54465/781688488.py:154: DeprecationWarning: Received 'size' via a specific parameter in the presence of a 'body' parameter, which is deprecated and will be removed in a future version. Instead, use only 'body' or only specific parameters.\n",
      "  response = es.search(index=\"ir_dev_index\", body=vector_query_body, size=top_k)\n",
      "  1%|▏         | 1/75 [00:01<02:09,  1.75s/it]"
     ]
    },
    {
     "name": "stdout",
     "output_type": "stream",
     "text": [
      "Time taken to for lexical search: 1314 ms\n",
      "Time taken to re-rank: 60 ms\n",
      "Query 1: Precision@10: 0.1000, Recall@10: 0.0213, F1@10: 0.0351, AP: 0.1667, nDCG@10: 0.0784, mrr@10: 0.1667\n",
      "  Total time for query: 1.75 seconds\n",
      "Time taken to for lexical search: 587 ms\n"
     ]
    },
    {
     "name": "stderr",
     "output_type": "stream",
     "text": [
      "  3%|▎         | 2/75 [00:03<01:47,  1.47s/it]"
     ]
    },
    {
     "name": "stdout",
     "output_type": "stream",
     "text": [
      "Time taken to re-rank: 325 ms\n",
      "Query 2: Precision@10: 0.1000, Recall@10: 0.0072, F1@10: 0.0135, AP: 0.2000, nDCG@10: 0.2146, mrr@10: 0.2000\n",
      "  Total time for query: 1.27 seconds\n"
     ]
    },
    {
     "name": "stderr",
     "output_type": "stream",
     "text": [
      "  4%|▍         | 3/75 [00:03<01:24,  1.17s/it]"
     ]
    },
    {
     "name": "stdout",
     "output_type": "stream",
     "text": [
      "Time taken to for lexical search: 415 ms\n",
      "Time taken to re-rank: 73 ms\n",
      "Query 3: Precision@10: 0.1000, Recall@10: 0.0312, F1@10: 0.0476, AP: 0.3333, nDCG@10: 0.1563, mrr@10: 0.3333\n",
      "  Total time for query: 0.82 seconds\n",
      "Time taken to for lexical search: 295 ms\n"
     ]
    },
    {
     "name": "stderr",
     "output_type": "stream",
     "text": [
      "  5%|▌         | 4/75 [00:04<01:12,  1.02s/it]"
     ]
    },
    {
     "name": "stdout",
     "output_type": "stream",
     "text": [
      "Time taken to re-rank: 133 ms\n",
      "Query 4: Precision@10: 0.0000, Recall@10: 0.0000, F1@10: 0.0000, AP: 0.0000, nDCG@10: 0.0000, mrr@10: 0.0000\n",
      "  Total time for query: 0.77 seconds\n"
     ]
    },
    {
     "name": "stderr",
     "output_type": "stream",
     "text": [
      "  7%|▋         | 5/75 [00:05<00:59,  1.18it/s]"
     ]
    },
    {
     "name": "stdout",
     "output_type": "stream",
     "text": [
      "Time taken to for lexical search: 176 ms\n",
      "Time taken to re-rank: 42 ms\n",
      "Query 5: Precision@10: 0.1000, Recall@10: 0.0084, F1@10: 0.0155, AP: 0.1250, nDCG@10: 0.1151, mrr@10: 0.1250\n",
      "  Total time for query: 0.56 seconds\n",
      "Time taken to for lexical search: 159 ms\n"
     ]
    },
    {
     "name": "stderr",
     "output_type": "stream",
     "text": [
      "  8%|▊         | 6/75 [00:06<01:05,  1.05it/s]"
     ]
    },
    {
     "name": "stdout",
     "output_type": "stream",
     "text": [
      "Time taken to re-rank: 682 ms\n",
      "Query 6: Precision@10: 0.1000, Recall@10: 0.0085, F1@10: 0.0157, AP: 0.1111, nDCG@10: 0.1872, mrr@10: 0.1111\n",
      "  Total time for query: 1.16 seconds\n"
     ]
    },
    {
     "name": "stderr",
     "output_type": "stream",
     "text": [
      "  9%|▉         | 7/75 [00:06<00:55,  1.22it/s]"
     ]
    },
    {
     "name": "stdout",
     "output_type": "stream",
     "text": [
      "Time taken to for lexical search: 176 ms\n",
      "Time taken to re-rank: 31 ms\n",
      "Query 7: Precision@10: 0.3000, Recall@10: 0.0240, F1@10: 0.0444, AP: 0.2611, nDCG@10: 0.2208, mrr@10: 0.2000\n",
      "  Total time for query: 0.54 seconds\n"
     ]
    },
    {
     "name": "stderr",
     "output_type": "stream",
     "text": [
      " 11%|█         | 8/75 [00:07<00:47,  1.40it/s]"
     ]
    },
    {
     "name": "stdout",
     "output_type": "stream",
     "text": [
      "Time taken to for lexical search: 145 ms\n",
      "Time taken to re-rank: 19 ms\n",
      "Query 8: Precision@10: 0.1000, Recall@10: 0.0109, F1@10: 0.0196, AP: 0.2000, nDCG@10: 0.0851, mrr@10: 0.2000\n",
      "  Total time for query: 0.49 seconds\n"
     ]
    },
    {
     "name": "stderr",
     "output_type": "stream",
     "text": [
      " 12%|█▏        | 9/75 [00:07<00:42,  1.56it/s]"
     ]
    },
    {
     "name": "stdout",
     "output_type": "stream",
     "text": [
      "Time taken to for lexical search: 134 ms\n",
      "Time taken to re-rank: 17 ms\n",
      "Query 9: Precision@10: 0.1000, Recall@10: 0.0769, F1@10: 0.0870, AP: 0.2500, nDCG@10: 0.2306, mrr@10: 0.2500\n",
      "  Total time for query: 0.48 seconds\n"
     ]
    },
    {
     "name": "stderr",
     "output_type": "stream",
     "text": [
      " 13%|█▎        | 10/75 [00:08<00:37,  1.72it/s]"
     ]
    },
    {
     "name": "stdout",
     "output_type": "stream",
     "text": [
      "Time taken to for lexical search: 119 ms\n",
      "Time taken to re-rank: 17 ms\n",
      "Query 10: Precision@10: 0.0000, Recall@10: 0.0000, F1@10: 0.0000, AP: 0.0000, nDCG@10: 0.0000, mrr@10: 0.0000\n",
      "  Total time for query: 0.44 seconds\n"
     ]
    },
    {
     "name": "stderr",
     "output_type": "stream",
     "text": [
      " 15%|█▍        | 11/75 [00:08<00:35,  1.81it/s]"
     ]
    },
    {
     "name": "stdout",
     "output_type": "stream",
     "text": [
      "Time taken to for lexical search: 150 ms\n",
      "Time taken to re-rank: 22 ms\n",
      "Query 11: Precision@10: 0.1000, Recall@10: 0.0189, F1@10: 0.0317, AP: 0.1250, nDCG@10: 0.2974, mrr@10: 0.1250\n",
      "  Total time for query: 0.49 seconds\n"
     ]
    },
    {
     "name": "stderr",
     "output_type": "stream",
     "text": [
      " 16%|█▌        | 12/75 [00:09<00:34,  1.85it/s]"
     ]
    },
    {
     "name": "stdout",
     "output_type": "stream",
     "text": [
      "Time taken to for lexical search: 186 ms\n",
      "Time taken to re-rank: 27 ms\n",
      "Query 12: Precision@10: 0.2000, Recall@10: 0.0192, F1@10: 0.0351, AP: 0.4167, nDCG@10: 0.2048, mrr@10: 0.3333\n",
      "  Total time for query: 0.52 seconds\n"
     ]
    },
    {
     "name": "stderr",
     "output_type": "stream",
     "text": [
      " 17%|█▋        | 13/75 [00:09<00:32,  1.92it/s]"
     ]
    },
    {
     "name": "stdout",
     "output_type": "stream",
     "text": [
      "Time taken to for lexical search: 157 ms\n",
      "Time taken to re-rank: 10 ms\n",
      "Query 13: Precision@10: 0.0000, Recall@10: 0.0000, F1@10: 0.0000, AP: 0.0000, nDCG@10: 0.0600, mrr@10: 0.0000\n",
      "  Total time for query: 0.47 seconds\n"
     ]
    },
    {
     "name": "stderr",
     "output_type": "stream",
     "text": [
      " 19%|█▊        | 14/75 [00:10<00:31,  1.93it/s]"
     ]
    },
    {
     "name": "stdout",
     "output_type": "stream",
     "text": [
      "Time taken to for lexical search: 161 ms\n",
      "Time taken to re-rank: 26 ms\n",
      "Query 14: Precision@10: 0.0000, Recall@10: 0.0000, F1@10: 0.0000, AP: 0.0000, nDCG@10: 0.0367, mrr@10: 0.0000\n",
      "  Total time for query: 0.51 seconds\n"
     ]
    },
    {
     "name": "stderr",
     "output_type": "stream",
     "text": [
      " 20%|██        | 15/75 [00:10<00:30,  1.96it/s]"
     ]
    },
    {
     "name": "stdout",
     "output_type": "stream",
     "text": [
      "Time taken to for lexical search: 152 ms\n",
      "Time taken to re-rank: 15 ms\n",
      "Query 15: Precision@10: 0.1000, Recall@10: 0.0070, F1@10: 0.0131, AP: 0.1429, nDCG@10: 0.0734, mrr@10: 0.1429\n",
      "  Total time for query: 0.49 seconds\n"
     ]
    },
    {
     "name": "stderr",
     "output_type": "stream",
     "text": [
      " 21%|██▏       | 16/75 [00:11<00:34,  1.71it/s]"
     ]
    },
    {
     "name": "stdout",
     "output_type": "stream",
     "text": [
      "Time taken to for lexical search: 138 ms\n",
      "Time taken to re-rank: 15 ms\n",
      "Query 16: Precision@10: 0.1000, Recall@10: 0.0161, F1@10: 0.0278, AP: 0.2000, nDCG@10: 0.1072, mrr@10: 0.2000\n",
      "  Total time for query: 0.75 seconds\n"
     ]
    },
    {
     "name": "stderr",
     "output_type": "stream",
     "text": [
      " 23%|██▎       | 17/75 [00:12<00:34,  1.68it/s]"
     ]
    },
    {
     "name": "stdout",
     "output_type": "stream",
     "text": [
      "Time taken to for lexical search: 269 ms\n",
      "Time taken to re-rank: 35 ms\n",
      "Query 17: Precision@10: 0.1000, Recall@10: 0.0079, F1@10: 0.0146, AP: 0.1250, nDCG@10: 0.0915, mrr@10: 0.1250\n",
      "  Total time for query: 0.63 seconds\n"
     ]
    },
    {
     "name": "stderr",
     "output_type": "stream",
     "text": [
      " 24%|██▍       | 18/75 [00:12<00:31,  1.81it/s]"
     ]
    },
    {
     "name": "stdout",
     "output_type": "stream",
     "text": [
      "Time taken to for lexical search: 124 ms\n",
      "Time taken to re-rank: 15 ms\n",
      "Query 18: Precision@10: 0.0000, Recall@10: 0.0000, F1@10: 0.0000, AP: 0.0000, nDCG@10: 0.0000, mrr@10: 0.0000\n",
      "  Total time for query: 0.45 seconds\n"
     ]
    },
    {
     "name": "stderr",
     "output_type": "stream",
     "text": [
      " 25%|██▌       | 19/75 [00:13<00:30,  1.87it/s]"
     ]
    },
    {
     "name": "stdout",
     "output_type": "stream",
     "text": [
      "Time taken to for lexical search: 152 ms\n",
      "Time taken to re-rank: 33 ms\n",
      "Query 19: Precision@10: 0.4000, Recall@10: 0.0348, F1@10: 0.0640, AP: 0.5750, nDCG@10: 0.4473, mrr@10: 1.0000\n",
      "  Total time for query: 0.50 seconds\n"
     ]
    },
    {
     "name": "stderr",
     "output_type": "stream",
     "text": [
      " 27%|██▋       | 20/75 [00:13<00:29,  1.89it/s]"
     ]
    },
    {
     "name": "stdout",
     "output_type": "stream",
     "text": [
      "Time taken to for lexical search: 157 ms\n",
      "Time taken to re-rank: 46 ms\n",
      "Query 20: Precision@10: 0.1000, Recall@10: 0.0238, F1@10: 0.0385, AP: 0.5000, nDCG@10: 0.1705, mrr@10: 0.5000\n",
      "  Total time for query: 0.51 seconds\n"
     ]
    },
    {
     "name": "stderr",
     "output_type": "stream",
     "text": [
      " 28%|██▊       | 21/75 [00:14<00:27,  1.97it/s]"
     ]
    },
    {
     "name": "stdout",
     "output_type": "stream",
     "text": [
      "Time taken to for lexical search: 103 ms\n",
      "Time taken to re-rank: 25 ms\n",
      "Query 21: Precision@10: 0.1000, Recall@10: 0.0204, F1@10: 0.0339, AP: 0.1429, nDCG@10: 0.0734, mrr@10: 0.1429\n",
      "  Total time for query: 0.45 seconds\n"
     ]
    },
    {
     "name": "stderr",
     "output_type": "stream",
     "text": [
      " 29%|██▉       | 22/75 [00:14<00:27,  1.92it/s]"
     ]
    },
    {
     "name": "stdout",
     "output_type": "stream",
     "text": [
      "Time taken to for lexical search: 160 ms\n",
      "Time taken to re-rank: 77 ms\n",
      "Query 22: Precision@10: 0.1000, Recall@10: 0.0141, F1@10: 0.0247, AP: 0.1250, nDCG@10: 0.1306, mrr@10: 0.1250\n",
      "  Total time for query: 0.55 seconds\n"
     ]
    },
    {
     "name": "stderr",
     "output_type": "stream",
     "text": [
      " 31%|███       | 23/75 [00:15<00:27,  1.90it/s]"
     ]
    },
    {
     "name": "stdout",
     "output_type": "stream",
     "text": [
      "Time taken to for lexical search: 145 ms\n",
      "Time taken to re-rank: 55 ms\n",
      "Query 23: Precision@10: 0.0000, Recall@10: 0.0000, F1@10: 0.0000, AP: 0.0000, nDCG@10: 0.0737, mrr@10: 0.0000\n",
      "  Total time for query: 0.53 seconds\n"
     ]
    },
    {
     "name": "stderr",
     "output_type": "stream",
     "text": [
      " 32%|███▏      | 24/75 [00:15<00:26,  1.92it/s]"
     ]
    },
    {
     "name": "stdout",
     "output_type": "stream",
     "text": [
      "Time taken to for lexical search: 156 ms\n",
      "Time taken to re-rank: 42 ms\n",
      "Query 24: Precision@10: 0.0000, Recall@10: 0.0000, F1@10: 0.0000, AP: 0.0000, nDCG@10: 0.0000, mrr@10: 0.0000\n",
      "  Total time for query: 0.51 seconds\n"
     ]
    },
    {
     "name": "stderr",
     "output_type": "stream",
     "text": [
      " 33%|███▎      | 25/75 [00:16<00:25,  1.97it/s]"
     ]
    },
    {
     "name": "stdout",
     "output_type": "stream",
     "text": [
      "Time taken to for lexical search: 141 ms\n",
      "Time taken to re-rank: 29 ms\n",
      "Query 25: Precision@10: 0.0000, Recall@10: 0.0000, F1@10: 0.0000, AP: 0.0000, nDCG@10: 0.0000, mrr@10: 0.0000\n",
      "  Total time for query: 0.48 seconds\n"
     ]
    },
    {
     "name": "stderr",
     "output_type": "stream",
     "text": [
      " 35%|███▍      | 26/75 [00:16<00:23,  2.09it/s]"
     ]
    },
    {
     "name": "stdout",
     "output_type": "stream",
     "text": [
      "Time taken to for lexical search: 92 ms\n",
      "Time taken to re-rank: 12 ms\n",
      "Query 26: Precision@10: 0.0000, Recall@10: 0.0000, F1@10: 0.0000, AP: 0.0000, nDCG@10: 0.0231, mrr@10: 0.0000\n",
      "  Total time for query: 0.41 seconds\n"
     ]
    },
    {
     "name": "stderr",
     "output_type": "stream",
     "text": [
      " 36%|███▌      | 27/75 [00:17<00:25,  1.89it/s]"
     ]
    },
    {
     "name": "stdout",
     "output_type": "stream",
     "text": [
      "Time taken to for lexical search: 307 ms\n",
      "Time taken to re-rank: 29 ms\n",
      "Query 27: Precision@10: 0.0000, Recall@10: 0.0000, F1@10: 0.0000, AP: 0.0000, nDCG@10: 0.0683, mrr@10: 0.0000\n",
      "  Total time for query: 0.64 seconds\n"
     ]
    },
    {
     "name": "stderr",
     "output_type": "stream",
     "text": [
      " 37%|███▋      | 28/75 [00:17<00:23,  2.01it/s]"
     ]
    },
    {
     "name": "stdout",
     "output_type": "stream",
     "text": [
      "Time taken to for lexical search: 81 ms\n",
      "Time taken to re-rank: 15 ms\n",
      "Query 28: Precision@10: 0.4000, Recall@10: 0.0280, F1@10: 0.0523, AP: 0.6528, nDCG@10: 0.4992, mrr@10: 1.0000\n",
      "  Total time for query: 0.42 seconds\n"
     ]
    },
    {
     "name": "stderr",
     "output_type": "stream",
     "text": [
      " 39%|███▊      | 29/75 [00:18<00:22,  2.04it/s]"
     ]
    },
    {
     "name": "stdout",
     "output_type": "stream",
     "text": [
      "Time taken to for lexical search: 127 ms\n",
      "Time taken to re-rank: 21 ms\n",
      "Query 29: Precision@10: 0.0000, Recall@10: 0.0000, F1@10: 0.0000, AP: 0.0000, nDCG@10: 0.0000, mrr@10: 0.0000\n",
      "  Total time for query: 0.47 seconds\n"
     ]
    },
    {
     "name": "stderr",
     "output_type": "stream",
     "text": [
      " 40%|████      | 30/75 [00:18<00:21,  2.07it/s]"
     ]
    },
    {
     "name": "stdout",
     "output_type": "stream",
     "text": [
      "Time taken to for lexical search: 130 ms\n",
      "Time taken to re-rank: 16 ms\n",
      "Query 30: Precision@10: 0.1000, Recall@10: 0.0208, F1@10: 0.0345, AP: 0.1000, nDCG@10: 0.2297, mrr@10: 0.1000\n",
      "  Total time for query: 0.47 seconds\n"
     ]
    },
    {
     "name": "stderr",
     "output_type": "stream",
     "text": [
      " 41%|████▏     | 31/75 [00:19<00:20,  2.10it/s]"
     ]
    },
    {
     "name": "stdout",
     "output_type": "stream",
     "text": [
      "Time taken to for lexical search: 135 ms\n",
      "Time taken to re-rank: 19 ms\n",
      "Query 31: Precision@10: 0.1000, Recall@10: 0.0222, F1@10: 0.0364, AP: 0.5000, nDCG@10: 0.1672, mrr@10: 0.5000\n",
      "  Total time for query: 0.46 seconds\n"
     ]
    },
    {
     "name": "stderr",
     "output_type": "stream",
     "text": [
      " 43%|████▎     | 32/75 [00:19<00:19,  2.18it/s]"
     ]
    },
    {
     "name": "stdout",
     "output_type": "stream",
     "text": [
      "Time taken to for lexical search: 96 ms\n",
      "Time taken to re-rank: 15 ms\n",
      "Query 32: Precision@10: 0.0000, Recall@10: 0.0000, F1@10: 0.0000, AP: 0.0000, nDCG@10: 0.0000, mrr@10: 0.0000\n",
      "  Total time for query: 0.42 seconds\n"
     ]
    },
    {
     "name": "stderr",
     "output_type": "stream",
     "text": [
      " 44%|████▍     | 33/75 [00:19<00:18,  2.24it/s]"
     ]
    },
    {
     "name": "stdout",
     "output_type": "stream",
     "text": [
      "Time taken to for lexical search: 87 ms\n",
      "Time taken to re-rank: 13 ms\n",
      "Query 33: Precision@10: 0.0000, Recall@10: 0.0000, F1@10: 0.0000, AP: 0.0000, nDCG@10: 0.0000, mrr@10: 0.0000\n",
      "  Total time for query: 0.42 seconds\n"
     ]
    },
    {
     "name": "stderr",
     "output_type": "stream",
     "text": [
      " 45%|████▌     | 34/75 [00:20<00:17,  2.30it/s]"
     ]
    },
    {
     "name": "stdout",
     "output_type": "stream",
     "text": [
      "Time taken to for lexical search: 88 ms\n",
      "Time taken to re-rank: 10 ms\n",
      "Query 34: Precision@10: 0.1000, Recall@10: 0.0127, F1@10: 0.0225, AP: 0.3333, nDCG@10: 0.1100, mrr@10: 0.3333\n",
      "  Total time for query: 0.41 seconds\n"
     ]
    },
    {
     "name": "stderr",
     "output_type": "stream",
     "text": [
      " 47%|████▋     | 35/75 [00:20<00:17,  2.27it/s]"
     ]
    },
    {
     "name": "stdout",
     "output_type": "stream",
     "text": [
      "Time taken to for lexical search: 92 ms\n",
      "Time taken to re-rank: 14 ms\n",
      "Query 35: Precision@10: 0.1000, Recall@10: 0.0122, F1@10: 0.0217, AP: 0.2500, nDCG@10: 0.0948, mrr@10: 0.2500\n",
      "  Total time for query: 0.45 seconds\n"
     ]
    },
    {
     "name": "stderr",
     "output_type": "stream",
     "text": [
      " 48%|████▊     | 36/75 [00:21<00:16,  2.33it/s]"
     ]
    },
    {
     "name": "stdout",
     "output_type": "stream",
     "text": [
      "Time taken to for lexical search: 78 ms\n",
      "Time taken to re-rank: 12 ms\n",
      "Query 36: Precision@10: 0.3000, Recall@10: 0.0163, F1@10: 0.0309, AP: 0.6806, nDCG@10: 0.4459, mrr@10: 1.0000\n",
      "  Total time for query: 0.40 seconds\n"
     ]
    },
    {
     "name": "stderr",
     "output_type": "stream",
     "text": [
      " 49%|████▉     | 37/75 [00:21<00:16,  2.34it/s]"
     ]
    },
    {
     "name": "stdout",
     "output_type": "stream",
     "text": [
      "Time taken to for lexical search: 102 ms\n",
      "Time taken to re-rank: 13 ms\n",
      "Query 37: Precision@10: 0.0000, Recall@10: 0.0000, F1@10: 0.0000, AP: 0.0000, nDCG@10: 0.0000, mrr@10: 0.0000\n",
      "  Total time for query: 0.42 seconds\n"
     ]
    },
    {
     "name": "stderr",
     "output_type": "stream",
     "text": [
      " 51%|█████     | 38/75 [00:21<00:15,  2.36it/s]"
     ]
    },
    {
     "name": "stdout",
     "output_type": "stream",
     "text": [
      "Time taken to for lexical search: 81 ms\n",
      "Time taken to re-rank: 11 ms\n",
      "Query 38: Precision@10: 0.0000, Recall@10: 0.0000, F1@10: 0.0000, AP: 0.0000, nDCG@10: 0.0000, mrr@10: 0.0000\n",
      "  Total time for query: 0.42 seconds\n"
     ]
    },
    {
     "name": "stderr",
     "output_type": "stream",
     "text": [
      " 52%|█████▏    | 39/75 [00:22<00:15,  2.34it/s]"
     ]
    },
    {
     "name": "stdout",
     "output_type": "stream",
     "text": [
      "Time taken to for lexical search: 99 ms\n",
      "Time taken to re-rank: 10 ms\n",
      "Query 39: Precision@10: 0.1000, Recall@10: 0.0294, F1@10: 0.0455, AP: 0.1667, nDCG@10: 0.0784, mrr@10: 0.1667\n",
      "  Total time for query: 0.44 seconds\n"
     ]
    },
    {
     "name": "stderr",
     "output_type": "stream",
     "text": [
      " 53%|█████▎    | 40/75 [00:22<00:16,  2.18it/s]"
     ]
    },
    {
     "name": "stdout",
     "output_type": "stream",
     "text": [
      "Time taken to for lexical search: 201 ms\n",
      "Time taken to re-rank: 18 ms\n",
      "Query 40: Precision@10: 0.0000, Recall@10: 0.0000, F1@10: 0.0000, AP: 0.0000, nDCG@10: 0.0000, mrr@10: 0.0000\n",
      "  Total time for query: 0.53 seconds\n"
     ]
    },
    {
     "name": "stderr",
     "output_type": "stream",
     "text": [
      " 55%|█████▍    | 41/75 [00:23<00:15,  2.21it/s]"
     ]
    },
    {
     "name": "stdout",
     "output_type": "stream",
     "text": [
      "Time taken to for lexical search: 105 ms\n",
      "Time taken to re-rank: 14 ms\n",
      "Query 41: Precision@10: 0.3000, Recall@10: 0.0224, F1@10: 0.0417, AP: 0.3619, nDCG@10: 0.4459, mrr@10: 0.5000\n",
      "  Total time for query: 0.44 seconds\n"
     ]
    },
    {
     "name": "stderr",
     "output_type": "stream",
     "text": [
      " 56%|█████▌    | 42/75 [00:23<00:15,  2.19it/s]"
     ]
    },
    {
     "name": "stdout",
     "output_type": "stream",
     "text": [
      "Time taken to for lexical search: 99 ms\n",
      "Time taken to re-rank: 10 ms\n",
      "Query 42: Precision@10: 0.0000, Recall@10: 0.0000, F1@10: 0.0000, AP: 0.0000, nDCG@10: 0.0651, mrr@10: 0.0000\n",
      "  Total time for query: 0.46 seconds\n"
     ]
    },
    {
     "name": "stderr",
     "output_type": "stream",
     "text": [
      " 57%|█████▋    | 43/75 [00:24<00:14,  2.23it/s]"
     ]
    },
    {
     "name": "stdout",
     "output_type": "stream",
     "text": [
      "Time taken to for lexical search: 107 ms\n",
      "Time taken to re-rank: 19 ms\n",
      "Query 43: Precision@10: 0.1000, Recall@10: 0.0159, F1@10: 0.0274, AP: 1.0000, nDCG@10: 0.2201, mrr@10: 1.0000\n",
      "  Total time for query: 0.43 seconds\n"
     ]
    },
    {
     "name": "stderr",
     "output_type": "stream",
     "text": [
      " 59%|█████▊    | 44/75 [00:24<00:13,  2.27it/s]"
     ]
    },
    {
     "name": "stdout",
     "output_type": "stream",
     "text": [
      "Time taken to for lexical search: 97 ms\n",
      "Time taken to re-rank: 17 ms\n",
      "Query 44: Precision@10: 0.0000, Recall@10: 0.0000, F1@10: 0.0000, AP: 0.0000, nDCG@10: 0.0259, mrr@10: 0.0000\n",
      "  Total time for query: 0.42 seconds\n"
     ]
    },
    {
     "name": "stderr",
     "output_type": "stream",
     "text": [
      " 60%|██████    | 45/75 [00:25<00:13,  2.29it/s]"
     ]
    },
    {
     "name": "stdout",
     "output_type": "stream",
     "text": [
      "Time taken to for lexical search: 92 ms\n",
      "Time taken to re-rank: 11 ms\n",
      "Query 45: Precision@10: 0.0000, Recall@10: 0.0000, F1@10: 0.0000, AP: 0.0000, nDCG@10: 0.0000, mrr@10: 0.0000\n",
      "  Total time for query: 0.43 seconds\n"
     ]
    },
    {
     "name": "stderr",
     "output_type": "stream",
     "text": [
      " 61%|██████▏   | 46/75 [00:25<00:12,  2.28it/s]"
     ]
    },
    {
     "name": "stdout",
     "output_type": "stream",
     "text": [
      "Time taken to for lexical search: 98 ms\n",
      "Time taken to re-rank: 11 ms\n",
      "Query 46: Precision@10: 0.0000, Recall@10: 0.0000, F1@10: 0.0000, AP: 0.0000, nDCG@10: 0.0000, mrr@10: 0.0000\n",
      "  Total time for query: 0.44 seconds\n"
     ]
    },
    {
     "name": "stderr",
     "output_type": "stream",
     "text": [
      " 63%|██████▎   | 47/75 [00:26<00:12,  2.24it/s]"
     ]
    },
    {
     "name": "stdout",
     "output_type": "stream",
     "text": [
      "Time taken to for lexical search: 118 ms\n",
      "Time taken to re-rank: 19 ms\n",
      "Query 47: Precision@10: 0.0000, Recall@10: 0.0000, F1@10: 0.0000, AP: 0.0000, nDCG@10: 0.0000, mrr@10: 0.0000\n",
      "  Total time for query: 0.47 seconds\n"
     ]
    },
    {
     "name": "stderr",
     "output_type": "stream",
     "text": [
      " 64%|██████▍   | 48/75 [00:26<00:11,  2.25it/s]"
     ]
    },
    {
     "name": "stdout",
     "output_type": "stream",
     "text": [
      "Time taken to for lexical search: 92 ms\n",
      "Time taken to re-rank: 8 ms\n",
      "Query 48: Precision@10: 0.0000, Recall@10: 0.0000, F1@10: 0.0000, AP: 0.0000, nDCG@10: 0.0000, mrr@10: 0.0000\n",
      "  Total time for query: 0.44 seconds\n"
     ]
    },
    {
     "name": "stderr",
     "output_type": "stream",
     "text": [
      " 65%|██████▌   | 49/75 [00:26<00:11,  2.29it/s]"
     ]
    },
    {
     "name": "stdout",
     "output_type": "stream",
     "text": [
      "Time taken to for lexical search: 90 ms\n",
      "Time taken to re-rank: 15 ms\n",
      "Query 49: Precision@10: 0.1000, Recall@10: 0.0286, F1@10: 0.0444, AP: 0.5000, nDCG@10: 0.1389, mrr@10: 0.5000\n",
      "  Total time for query: 0.42 seconds\n"
     ]
    },
    {
     "name": "stderr",
     "output_type": "stream",
     "text": [
      " 67%|██████▋   | 50/75 [00:27<00:10,  2.31it/s]"
     ]
    },
    {
     "name": "stdout",
     "output_type": "stream",
     "text": [
      "Time taken to for lexical search: 97 ms\n",
      "Time taken to re-rank: 16 ms\n",
      "Query 50: Precision@10: 0.1000, Recall@10: 0.0714, F1@10: 0.0833, AP: 0.1111, nDCG@10: 0.0663, mrr@10: 0.1111\n",
      "  Total time for query: 0.43 seconds\n"
     ]
    },
    {
     "name": "stderr",
     "output_type": "stream",
     "text": [
      " 68%|██████▊   | 51/75 [00:27<00:10,  2.33it/s]"
     ]
    },
    {
     "name": "stdout",
     "output_type": "stream",
     "text": [
      "Time taken to for lexical search: 91 ms\n",
      "Time taken to re-rank: 13 ms\n",
      "Query 51: Precision@10: 0.1000, Recall@10: 0.0357, F1@10: 0.0526, AP: 0.1667, nDCG@10: 0.0784, mrr@10: 0.1667\n",
      "  Total time for query: 0.42 seconds\n"
     ]
    },
    {
     "name": "stderr",
     "output_type": "stream",
     "text": [
      " 69%|██████▉   | 52/75 [00:28<00:09,  2.31it/s]"
     ]
    },
    {
     "name": "stdout",
     "output_type": "stream",
     "text": [
      "Time taken to for lexical search: 88 ms\n",
      "Time taken to re-rank: 6 ms\n",
      "Query 52: Precision@10: 0.1000, Recall@10: 0.0244, F1@10: 0.0392, AP: 0.5000, nDCG@10: 0.1650, mrr@10: 0.5000\n",
      "  Total time for query: 0.44 seconds\n"
     ]
    },
    {
     "name": "stderr",
     "output_type": "stream",
     "text": [
      " 71%|███████   | 53/75 [00:28<00:09,  2.32it/s]"
     ]
    },
    {
     "name": "stdout",
     "output_type": "stream",
     "text": [
      "Time taken to for lexical search: 70 ms\n",
      "Time taken to re-rank: 13 ms\n",
      "Query 53: Precision@10: 0.0000, Recall@10: 0.0000, F1@10: 0.0000, AP: 0.0000, nDCG@10: 0.0000, mrr@10: 0.0000\n",
      "  Total time for query: 0.43 seconds\n"
     ]
    },
    {
     "name": "stderr",
     "output_type": "stream",
     "text": [
      " 72%|███████▏  | 54/75 [00:29<00:09,  2.28it/s]"
     ]
    },
    {
     "name": "stdout",
     "output_type": "stream",
     "text": [
      "Time taken to for lexical search: 112 ms\n",
      "Time taken to re-rank: 10 ms\n",
      "Query 54: Precision@10: 0.0000, Recall@10: 0.0000, F1@10: 0.0000, AP: 0.0000, nDCG@10: 0.0000, mrr@10: 0.0000\n",
      "  Total time for query: 0.45 seconds\n"
     ]
    },
    {
     "name": "stderr",
     "output_type": "stream",
     "text": [
      " 73%|███████▎  | 55/75 [00:29<00:08,  2.31it/s]"
     ]
    },
    {
     "name": "stdout",
     "output_type": "stream",
     "text": [
      "Time taken to for lexical search: 95 ms\n",
      "Time taken to re-rank: 14 ms\n",
      "Query 55: Precision@10: 0.0000, Recall@10: 0.0000, F1@10: 0.0000, AP: 0.0000, nDCG@10: 0.0000, mrr@10: 0.0000\n",
      "  Total time for query: 0.42 seconds\n"
     ]
    },
    {
     "name": "stderr",
     "output_type": "stream",
     "text": [
      " 75%|███████▍  | 56/75 [00:29<00:08,  2.30it/s]"
     ]
    },
    {
     "name": "stdout",
     "output_type": "stream",
     "text": [
      "Time taken to for lexical search: 96 ms\n",
      "Time taken to re-rank: 20 ms\n",
      "Query 56: Precision@10: 0.1000, Recall@10: 0.0196, F1@10: 0.0328, AP: 0.1250, nDCG@10: 0.1873, mrr@10: 0.1250\n",
      "  Total time for query: 0.43 seconds\n"
     ]
    },
    {
     "name": "stderr",
     "output_type": "stream",
     "text": [
      " 76%|███████▌  | 57/75 [00:30<00:07,  2.32it/s]"
     ]
    },
    {
     "name": "stdout",
     "output_type": "stream",
     "text": [
      "Time taken to for lexical search: 88 ms\n",
      "Time taken to re-rank: 8 ms\n",
      "Query 57: Precision@10: 0.2000, Recall@10: 0.0185, F1@10: 0.0339, AP: 0.3929, nDCG@10: 0.2122, mrr@10: 0.5000\n",
      "  Total time for query: 0.42 seconds\n"
     ]
    },
    {
     "name": "stderr",
     "output_type": "stream",
     "text": [
      " 77%|███████▋  | 58/75 [00:30<00:07,  2.33it/s]"
     ]
    },
    {
     "name": "stdout",
     "output_type": "stream",
     "text": [
      "Time taken to for lexical search: 93 ms\n",
      "Time taken to re-rank: 17 ms\n",
      "Query 58: Precision@10: 0.1000, Recall@10: 0.0182, F1@10: 0.0308, AP: 0.3333, nDCG@10: 0.1100, mrr@10: 0.3333\n",
      "  Total time for query: 0.43 seconds\n"
     ]
    },
    {
     "name": "stderr",
     "output_type": "stream",
     "text": [
      " 79%|███████▊  | 59/75 [00:31<00:06,  2.32it/s]"
     ]
    },
    {
     "name": "stdout",
     "output_type": "stream",
     "text": [
      "Time taken to for lexical search: 117 ms\n",
      "Time taken to re-rank: 22 ms\n",
      "Query 59: Precision@10: 0.4000, Recall@10: 0.0212, F1@10: 0.0402, AP: 0.2958, nDCG@10: 0.3350, mrr@10: 0.2000\n",
      "  Total time for query: 0.44 seconds\n"
     ]
    },
    {
     "name": "stderr",
     "output_type": "stream",
     "text": [
      " 80%|████████  | 60/75 [00:31<00:06,  2.31it/s]"
     ]
    },
    {
     "name": "stdout",
     "output_type": "stream",
     "text": [
      "Time taken to for lexical search: 112 ms\n",
      "Time taken to re-rank: 21 ms\n",
      "Query 60: Precision@10: 0.0000, Recall@10: 0.0000, F1@10: 0.0000, AP: 0.0000, nDCG@10: 0.0000, mrr@10: 0.0000\n",
      "  Total time for query: 0.44 seconds\n"
     ]
    },
    {
     "name": "stderr",
     "output_type": "stream",
     "text": [
      " 81%|████████▏ | 61/75 [00:32<00:06,  2.20it/s]"
     ]
    },
    {
     "name": "stdout",
     "output_type": "stream",
     "text": [
      "Time taken to for lexical search: 146 ms\n",
      "Time taken to re-rank: 40 ms\n",
      "Query 61: Precision@10: 0.1000, Recall@10: 0.0083, F1@10: 0.0154, AP: 0.3333, nDCG@10: 0.1661, mrr@10: 0.3333\n",
      "  Total time for query: 0.50 seconds\n"
     ]
    },
    {
     "name": "stderr",
     "output_type": "stream",
     "text": [
      " 83%|████████▎ | 62/75 [00:32<00:06,  2.11it/s]"
     ]
    },
    {
     "name": "stdout",
     "output_type": "stream",
     "text": [
      "Time taken to for lexical search: 177 ms\n",
      "Time taken to re-rank: 22 ms\n",
      "Query 62: Precision@10: 0.1000, Recall@10: 0.0154, F1@10: 0.0267, AP: 1.0000, nDCG@10: 0.2201, mrr@10: 1.0000\n",
      "  Total time for query: 0.52 seconds\n"
     ]
    },
    {
     "name": "stderr",
     "output_type": "stream",
     "text": [
      " 84%|████████▍ | 63/75 [00:33<00:05,  2.17it/s]"
     ]
    },
    {
     "name": "stdout",
     "output_type": "stream",
     "text": [
      "Time taken to for lexical search: 98 ms\n",
      "Time taken to re-rank: 11 ms\n",
      "Query 63: Precision@10: 0.0000, Recall@10: 0.0000, F1@10: 0.0000, AP: 0.0000, nDCG@10: 0.0000, mrr@10: 0.0000\n",
      "  Total time for query: 0.43 seconds\n"
     ]
    },
    {
     "name": "stderr",
     "output_type": "stream",
     "text": [
      " 85%|████████▌ | 64/75 [00:33<00:05,  1.96it/s]"
     ]
    },
    {
     "name": "stdout",
     "output_type": "stream",
     "text": [
      "Time taken to for lexical search: 118 ms\n",
      "Time taken to re-rank: 26 ms\n",
      "Query 64: Precision@10: 0.0000, Recall@10: 0.0000, F1@10: 0.0000, AP: 0.0000, nDCG@10: 0.0316, mrr@10: 0.0000\n",
      "  Total time for query: 0.62 seconds\n"
     ]
    },
    {
     "name": "stderr",
     "output_type": "stream",
     "text": [
      " 87%|████████▋ | 65/75 [00:34<00:04,  2.08it/s]"
     ]
    },
    {
     "name": "stdout",
     "output_type": "stream",
     "text": [
      "Time taken to for lexical search: 89 ms\n",
      "Time taken to re-rank: 16 ms\n",
      "Query 65: Precision@10: 0.0000, Recall@10: 0.0000, F1@10: 0.0000, AP: 0.0000, nDCG@10: 0.0000, mrr@10: 0.0000\n",
      "  Total time for query: 0.42 seconds\n"
     ]
    },
    {
     "name": "stderr",
     "output_type": "stream",
     "text": [
      " 88%|████████▊ | 66/75 [00:34<00:04,  2.18it/s]"
     ]
    },
    {
     "name": "stdout",
     "output_type": "stream",
     "text": [
      "Time taken to for lexical search: 78 ms\n",
      "Time taken to re-rank: 14 ms\n",
      "Query 66: Precision@10: 0.0000, Recall@10: 0.0000, F1@10: 0.0000, AP: 0.0000, nDCG@10: 0.0000, mrr@10: 0.0000\n",
      "  Total time for query: 0.40 seconds\n"
     ]
    },
    {
     "name": "stderr",
     "output_type": "stream",
     "text": [
      " 89%|████████▉ | 67/75 [00:34<00:03,  2.24it/s]"
     ]
    },
    {
     "name": "stdout",
     "output_type": "stream",
     "text": [
      "Time taken to for lexical search: 87 ms\n",
      "Time taken to re-rank: 21 ms\n",
      "Query 67: Precision@10: 0.0000, Recall@10: 0.0000, F1@10: 0.0000, AP: 0.0000, nDCG@10: 0.0993, mrr@10: 0.0000\n",
      "  Total time for query: 0.41 seconds\n"
     ]
    },
    {
     "name": "stderr",
     "output_type": "stream",
     "text": [
      " 91%|█████████ | 68/75 [00:35<00:03,  2.25it/s]"
     ]
    },
    {
     "name": "stdout",
     "output_type": "stream",
     "text": [
      "Time taken to for lexical search: 98 ms\n",
      "Time taken to re-rank: 18 ms\n",
      "Query 68: Precision@10: 0.0000, Recall@10: 0.0000, F1@10: 0.0000, AP: 0.0000, nDCG@10: 0.1177, mrr@10: 0.0000\n",
      "  Total time for query: 0.44 seconds\n"
     ]
    },
    {
     "name": "stderr",
     "output_type": "stream",
     "text": [
      " 92%|█████████▏| 69/75 [00:35<00:02,  2.22it/s]"
     ]
    },
    {
     "name": "stdout",
     "output_type": "stream",
     "text": [
      "Time taken to for lexical search: 87 ms\n",
      "Time taken to re-rank: 10 ms\n",
      "Query 69: Precision@10: 0.0000, Recall@10: 0.0000, F1@10: 0.0000, AP: 0.0000, nDCG@10: 0.0000, mrr@10: 0.0000\n",
      "  Total time for query: 0.46 seconds\n"
     ]
    },
    {
     "name": "stderr",
     "output_type": "stream",
     "text": [
      " 93%|█████████▎| 70/75 [00:36<00:02,  2.25it/s]"
     ]
    },
    {
     "name": "stdout",
     "output_type": "stream",
     "text": [
      "Time taken to for lexical search: 91 ms\n",
      "Time taken to re-rank: 12 ms\n",
      "Query 70: Precision@10: 0.2000, Recall@10: 0.0182, F1@10: 0.0333, AP: 0.2917, nDCG@10: 0.2079, mrr@10: 0.3333\n",
      "  Total time for query: 0.43 seconds\n"
     ]
    },
    {
     "name": "stderr",
     "output_type": "stream",
     "text": [
      " 95%|█████████▍| 71/75 [00:36<00:01,  2.28it/s]"
     ]
    },
    {
     "name": "stdout",
     "output_type": "stream",
     "text": [
      "Time taken to for lexical search: 101 ms\n",
      "Time taken to re-rank: 9 ms\n",
      "Query 71: Precision@10: 0.2000, Recall@10: 0.0150, F1@10: 0.0280, AP: 0.4167, nDCG@10: 0.2393, mrr@10: 0.5000\n",
      "  Total time for query: 0.43 seconds\n"
     ]
    },
    {
     "name": "stderr",
     "output_type": "stream",
     "text": [
      " 96%|█████████▌| 72/75 [00:37<00:01,  2.33it/s]"
     ]
    },
    {
     "name": "stdout",
     "output_type": "stream",
     "text": [
      "Time taken to for lexical search: 76 ms\n",
      "Time taken to re-rank: 14 ms\n",
      "Query 72: Precision@10: 0.0000, Recall@10: 0.0000, F1@10: 0.0000, AP: 0.0000, nDCG@10: 0.0000, mrr@10: 0.0000\n",
      "  Total time for query: 0.40 seconds\n"
     ]
    },
    {
     "name": "stderr",
     "output_type": "stream",
     "text": [
      " 97%|█████████▋| 73/75 [00:37<00:00,  2.35it/s]"
     ]
    },
    {
     "name": "stdout",
     "output_type": "stream",
     "text": [
      "Time taken to for lexical search: 86 ms\n",
      "Time taken to re-rank: 16 ms\n",
      "Query 73: Precision@10: 0.0000, Recall@10: 0.0000, F1@10: 0.0000, AP: 0.0000, nDCG@10: 0.0537, mrr@10: 0.0000\n",
      "  Total time for query: 0.42 seconds\n"
     ]
    },
    {
     "name": "stderr",
     "output_type": "stream",
     "text": [
      " 99%|█████████▊| 74/75 [00:37<00:00,  2.31it/s]"
     ]
    },
    {
     "name": "stdout",
     "output_type": "stream",
     "text": [
      "Time taken to for lexical search: 103 ms\n",
      "Time taken to re-rank: 17 ms\n",
      "Query 74: Precision@10: 0.1000, Recall@10: 0.0909, F1@10: 0.0952, AP: 0.2000, nDCG@10: 0.0851, mrr@10: 0.2000\n",
      "  Total time for query: 0.45 seconds\n"
     ]
    },
    {
     "name": "stderr",
     "output_type": "stream",
     "text": [
      "100%|██████████| 75/75 [00:38<00:00,  1.95it/s]"
     ]
    },
    {
     "name": "stdout",
     "output_type": "stream",
     "text": [
      "Time taken to for lexical search: 98 ms\n",
      "Time taken to re-rank: 15 ms\n",
      "Query 75: Precision@10: 0.0000, Recall@10: 0.0000, F1@10: 0.0000, AP: 0.0000, nDCG@10: 0.0245, mrr@10: 0.0000\n",
      "  Total time for query: 0.43 seconds\n",
      "\n",
      "BM25L + Semantic search (Clinical BERT) - Overall evaluation metrics:\n",
      "Date/time:2025-04-10 08:17:38\n",
      "\n",
      "Threshold =: 2\n",
      "Mean Precision@10: 0.0773\n",
      "Mean Recall@10: 0.0122\n",
      "Mean F1@10: 0.0191\n",
      "Mean Average Precision (MAP): 0.1695\n",
      "Mean nDCG@10: 0.1076\n",
      "Mean MRR@10: 0.1858\n",
      "Average total time per query: 0.51 seconds\n"
     ]
    },
    {
     "name": "stderr",
     "output_type": "stream",
     "text": [
      "\n"
     ]
    }
   ],
   "source": [
    "import json\n",
    "from tqdm import tqdm\n",
    "from transformers import AutoTokenizer, AutoModel\n",
    "import torch\n",
    "import numpy as np\n",
    "import time\n",
    "import pandas as pd\n",
    "from datetime import datetime\n",
    "\n",
    "# Load ClinicalBERT tokenizer and model\n",
    "tokenizer = AutoTokenizer.from_pretrained(\"medicalai/ClinicalBERT\")\n",
    "model = AutoModel.from_pretrained(\"medicalai/ClinicalBERT\")\n",
    "\n",
    "\n",
    "def mean_pooling(model_output, attention_mask):\n",
    "    \"\"\"\n",
    "    Perform mean pooling on token embeddings while taking the attention mask into account.\n",
    "    \"\"\"\n",
    "    token_embeddings = model_output.last_hidden_state  # (batch_size, sequence_length, hidden_size)\n",
    "    input_mask_expanded = attention_mask.unsqueeze(-1).expand(token_embeddings.size()).float()\n",
    "    sum_embeddings = torch.sum(token_embeddings * input_mask_expanded, dim=1)\n",
    "    sum_mask = torch.clamp(input_mask_expanded.sum(dim=1), min=1e-9)\n",
    "    return sum_embeddings / sum_mask\n",
    "\n",
    "def get_embedding(text, max_length=512):\n",
    "    \"\"\"\n",
    "    Compute and return the embedding for the given text using ClinicalBERT.\n",
    "    Returns the embedding as a list of floats.\n",
    "    \"\"\"\n",
    "    encoded_input = tokenizer(\n",
    "        text,\n",
    "        padding=\"max_length\",\n",
    "        truncation=True,\n",
    "        max_length=max_length,\n",
    "        return_tensors=\"pt\"\n",
    "    )\n",
    "    with torch.no_grad():\n",
    "        model_output = model(**encoded_input)\n",
    "    embedding = mean_pooling(model_output, encoded_input['attention_mask'])\n",
    "    return embedding[0].cpu().numpy().tolist()\n",
    "\n",
    "# Evaluation Metric Functions\n",
    "def precision_at_k(re_ranked_docs, relevant_docs, k):\n",
    "    top_k_docs = re_ranked_docs[:k]\n",
    "    num_relevant_in_k = sum(1 for doc in top_k_docs \n",
    "                            if doc in relevant_docs and relevant_docs[doc] > 0)\n",
    "    return num_relevant_in_k / k if k else 0.0\n",
    "\n",
    "def recall_at_k(re_ranked_docs, relevant_docs, k):\n",
    "    top_k_docs = re_ranked_docs[:k]\n",
    "    total_relevant = sum(1 for doc, rel in relevant_docs.items() if rel > 0)\n",
    "    if total_relevant == 0:\n",
    "        return 0.0\n",
    "    num_relevant_in_k = sum(1 for doc in top_k_docs \n",
    "                            if doc in relevant_docs and relevant_docs[doc] > 0)\n",
    "    return num_relevant_in_k / total_relevant\n",
    "\n",
    "def f1_at_k(re_ranked_docs, relevant_docs, k):\n",
    "    p = precision_at_k(re_ranked_docs, relevant_docs, k)\n",
    "    r = recall_at_k(re_ranked_docs, relevant_docs, k)\n",
    "    if (p + r) == 0:\n",
    "        return 0.0\n",
    "    return 2 * (p * r) / (p + r)\n",
    "\n",
    "def average_precision(re_ranked_docs, relevant_docs):\n",
    "    if not relevant_docs:\n",
    "        return 0.0\n",
    "    \n",
    "    relevant_indices = [\n",
    "        i for i, doc in enumerate(re_ranked_docs)\n",
    "        if doc in relevant_docs and relevant_docs[doc] > 0\n",
    "    ]\n",
    "    if not relevant_indices:\n",
    "        return 0.0\n",
    "    \n",
    "    ap_sum = 0.0\n",
    "    for idx, rank_pos in enumerate(relevant_indices, start=1):\n",
    "        prec = precision_at_k(re_ranked_docs, relevant_docs, rank_pos+1)\n",
    "        ap_sum += prec\n",
    "    return ap_sum / len(relevant_indices)\n",
    "\n",
    "def ndcg_at_k(re_ranked_docs, relevant_docs, k):\n",
    "    def dcg(scores):\n",
    "        return sum(( (2**s - 1) / np.log2(idx + 2)) for idx, s in enumerate(scores))\n",
    "    \n",
    "    top_k_docs = re_ranked_docs[:k]\n",
    "    actual_scores = [relevant_docs[doc] if doc in relevant_docs else 0 for doc in top_k_docs]\n",
    "    actual_dcg = dcg(actual_scores)\n",
    "    \n",
    "    sorted_rels = sorted(relevant_docs.values(), reverse=True)[:k]\n",
    "    ideal_dcg = dcg(sorted_rels)\n",
    "    \n",
    "    if ideal_dcg == 0:\n",
    "        return 0.0\n",
    "    return actual_dcg / ideal_dcg\n",
    "\n",
    "def mrr_at_k(re_ranked_docs, relevant_docs, k):\n",
    "    for i, doc_id in enumerate(re_ranked_docs[:k], start=1):\n",
    "        if doc_id in relevant_docs and relevant_docs[doc_id] > 0:\n",
    "            return 1.0 / i\n",
    "    return 0.0\n",
    "\n",
    "# Load queries and qrels from JSONL files\n",
    "def load_jsonl(filepath):\n",
    "    data = {}\n",
    "    with open(filepath, \"r\") as f:\n",
    "        for line in f:\n",
    "            entry = json.loads(line)\n",
    "            key = entry[\"query_id\"]\n",
    "            if \"text\" in entry:\n",
    "                data[key] = entry[\"text\"].strip()\n",
    "            else:\n",
    "                if key not in data:\n",
    "                    data[key] = {}\n",
    "                data[key][entry[\"doc_id\"]] = int(entry.get(\"relevance\", 0))\n",
    "    return data\n",
    "\n",
    "# Stage 1: initial candidate retrieval based on text fields \"title\", \"summary\", \"detailed_descrption\n",
    "def initial_candidate_retrieval(query_text, candidate_size=500):\n",
    "    initial_body = {\n",
    "        \"query\": {\n",
    "            \"multi_match\": {\n",
    "                \"query\": query_text,\n",
    "                \"fields\": [\"title\", \"summary\", \"detailed_descrption\"]\n",
    "            }\n",
    "        }\n",
    "    }\n",
    "    response = es.search(index=\"ir_dev_index\", body=initial_body, size=candidate_size)\n",
    "    candidate_ids = [hit[\"_id\"] for hit in response[\"hits\"][\"hits\"]]\n",
    "    print(\"Time taken to for lexical search: {} ms\".format(response[\"took\"]))\n",
    "    return candidate_ids\n",
    "\n",
    "# Stage 2: vector re-ranking on the candidate set.\n",
    "def vector_re_ranking(query_text, candidate_ids, top_k=10):\n",
    "    query_vector = get_embedding(query_text)  # Assumes get_embedding() is defined elsewhere.\n",
    "    vector_query_body = {\n",
    "        \"query\": {\n",
    "            \"script_score\": {\n",
    "                \"query\": {\n",
    "                    \"bool\": {\n",
    "                        \"filter\": [\n",
    "                            {\"ids\": {\"values\": candidate_ids}},\n",
    "                            {\"exists\": {\"field\": \"detailed_descrption_vector\"}}\n",
    "                        ]\n",
    "                    }\n",
    "                },\n",
    "                \"script\": {\n",
    "                    \"source\": \"cosineSimilarity(params.query_vector, 'detailed_descrption_vector') + 1.0\",\n",
    "                    \"params\": {\"query_vector\": query_vector}\n",
    "                }\n",
    "            }\n",
    "        }\n",
    "    }\n",
    "    response = es.search(index=\"ir_dev_index\", body=vector_query_body, size=top_k)\n",
    "    print(\"Time taken to re-rank: {} ms\".format(response[\"took\"]))\n",
    "    return [hit[\"_source\"][\"doc_id\"] for hit in response[\"hits\"][\"hits\"]]\n",
    "\n",
    "# Load queries and qrels\n",
    "queries = load_jsonl(\"trec_ct_2021_query.jsonl\")\n",
    "qrels = load_jsonl(\"trec_ct_2021_qrels.jsonl\") \n",
    "\n",
    "# Set the RELEVANCE_THRESHOLD. Consider any document with relevance >= RELEVANCE_THRESHOLD as relevant for evaluation purposes\n",
    "RELEVANCE_THRESHOLD = 2\n",
    "def get_relevant_docs(qrel_dict, relevance_threshold=1):\n",
    "    return {doc_id: rel for doc_id, rel in qrel_dict.items() if rel >= RELEVANCE_THRESHOLD}\n",
    "\n",
    "# For ndcg calculation\n",
    "def get_all_docs(qrel_dict):\n",
    "    \"\"\"Return the entire dictionary of {doc_id: relevance}, including relevance=0.\"\"\"\n",
    "    return {doc_id: rel for doc_id, rel in qrel_dict.items()}\n",
    "\n",
    "CANDIDATE_SIZE = 1000 #top records for first stage ranking\n",
    "K = 10  # top K for re-ranking and evaluation\n",
    "all_metrics = []\n",
    "\n",
    "print(\"Processing queries and computing evaluation metrics...\")\n",
    "for qid, query_text in tqdm(queries.items(), total=len(queries)):\n",
    "    if not query_text:\n",
    "        continue\n",
    "\n",
    "    # Track the total time\n",
    "    start_time = time.time()\n",
    "    \n",
    "    # Stage 1: retrieve candidate document IDs.\n",
    "    candidate_ids = initial_candidate_retrieval(query_text, candidate_size=CANDIDATE_SIZE)\n",
    "    # Stage 2: re-rank candidates via vector search.\n",
    "    retrieved_docs = vector_re_ranking(query_text, candidate_ids, top_k=K)\n",
    "    \n",
    "    # Mark the end time for entire query processing\n",
    "    total_time = time.time() - start_time\n",
    "\n",
    "    # Get relevant docs for this query from qrels using the RELEVANCE_THRESHOLD (for evaluation)\n",
    "    relevant_docs = get_relevant_docs(qrels.get(qid, {}), relevance_threshold=RELEVANCE_THRESHOLD)\n",
    "    \n",
    "    #All docs retrieved (i.e no threshold) to compute nDCG based on graded relevance 0,1,2\n",
    "    ndcg_relevant_docs = get_all_docs(qrels.get(qid, {}))\n",
    "    \n",
    "    # Compute evaluation measures using our functions.\n",
    "    prec = precision_at_k(retrieved_docs, relevant_docs, K)\n",
    "    rec = recall_at_k(retrieved_docs, relevant_docs, K)\n",
    "    f1 = f1_at_k(retrieved_docs, relevant_docs, K)\n",
    "    ap = average_precision(retrieved_docs, relevant_docs)\n",
    "    ndcg = ndcg_at_k(retrieved_docs, ndcg_relevant_docs, K)\n",
    "    mrr_val = mrr_at_k(retrieved_docs, relevant_docs, K)\n",
    "    \n",
    "    metrics = {\n",
    "        \"query_id\": qid,\n",
    "        \"precision\": prec,\n",
    "        \"recall\": rec,\n",
    "        \"f1\": f1,\n",
    "        \"average_precision\": ap,\n",
    "        \"ndcg\": ndcg,\n",
    "        \"mrr\": mrr_val,\n",
    "        \"time_seconds\": total_time\n",
    "    }\n",
    "    all_metrics.append(metrics)\n",
    "    \n",
    "    print(f\"Query {qid}: Precision@{K}: {prec:.4f}, Recall@{K}: {rec:.4f}, F1@{K}: {f1:.4f}, AP: {ap:.4f}, nDCG@{K}: {ndcg:.4f}, mrr@{K}: {mrr_val:.4f}\")\n",
    "    print(f\"  Total time for query: {total_time:.2f} seconds\")\n",
    "\n",
    "# Compute overall evaluation metrics.\n",
    "if all_metrics:\n",
    "    avg_precision = np.mean([m[\"precision\"] for m in all_metrics])\n",
    "    avg_recall = np.mean([m[\"recall\"] for m in all_metrics])\n",
    "    avg_f1 = np.mean([m[\"f1\"] for m in all_metrics])\n",
    "    mean_ap = np.mean([m[\"average_precision\"] for m in all_metrics])\n",
    "    mean_ndcg = np.mean([m[\"ndcg\"] for m in all_metrics])\n",
    "    avg_mrr = np.mean([m[\"mrr\"] for m in all_metrics])\n",
    "    avg_time = np.mean([m[\"time_seconds\"] for m in all_metrics])\n",
    "    \n",
    "    \n",
    "    print(\"\\nBM25L + Semantic search (Clinical BERT) - Overall evaluation metrics:\")\n",
    "    current_time = datetime.now().strftime(\"%Y-%m-%d %H:%M:%S\")\n",
    "    print(f\"Date/time:{current_time}\")\n",
    "    print(f\"\\nThreshold =: {RELEVANCE_THRESHOLD}\")\n",
    "    print(f\"Mean Precision@{K}: {avg_precision:.4f}\")\n",
    "    print(f\"Mean Recall@{K}: {avg_recall:.4f}\")\n",
    "    print(f\"Mean F1@{K}: {avg_f1:.4f}\")\n",
    "    print(f\"Mean Average Precision (MAP): {mean_ap:.4f}\")\n",
    "    print(f\"Mean nDCG@{K}: {mean_ndcg:.4f}\")\n",
    "    print(f\"Mean MRR@{K}: {avg_mrr:.4f}\")\n",
    "    print(f\"Average total time per query: {avg_time:.2f} seconds\")\n",
    "else:\n",
    "    print(\"No queries processed.\")\n",
    "\n",
    "# Create a DataFrame to export the computed results for all queries\n",
    "data = {\n",
    "    \"Test\": \"BM25L and Token Emdedding.\",\n",
    "    \"Date/Time\": [current_time],\n",
    "    \"Relevance Threshold\": [RELEVANCE_THRESHOLD],\n",
    "    f\"Mean Precision@{K}\": [avg_precision],\n",
    "    f\"Mean Recall@{K}\": [avg_recall],\n",
    "    f\"Mean F1@{K}\": [avg_f1],\n",
    "    \"Mean Average Precision (MAP)\": [mean_ap],\n",
    "    f\"Mean nDCG@{K}\": [mean_ndcg],\n",
    "    f\"Mean MRR@{K}\": [avg_mrr],\n",
    "    \"Avg Time per Query (s)\": [avg_time],\n",
    "}\n",
    "df = pd.DataFrame(data)\n",
    "\n",
    "# Export to an Excel file\n",
    "xlsx_filename = \"evaluation_results_Lexical_and_TOKEN_embeddings.xlsx\"\n",
    "df.to_excel(xlsx_filename, index=False)\n",
    "\n",
    "print(f\"\\nMetrics have been exported to {xlsx_filename}\")\n"
   ]
  },
  {
   "cell_type": "markdown",
   "metadata": {},
   "source": [
    "### Lexical search only (elastic saerch BM25)"
   ]
  },
  {
   "cell_type": "code",
   "execution_count": null,
   "metadata": {},
   "outputs": [
    {
     "name": "stdout",
     "output_type": "stream",
     "text": [
      "BM25L - Processing queries and computing evaluation metrics...\n"
     ]
    },
    {
     "name": "stderr",
     "output_type": "stream",
     "text": [
      "  0%|          | 0/75 [00:00<?, ?it/s]/var/folders/b3/59dkzgnj0zxdhdx31d2ztm000000gn/T/ipykernel_28729/2568875947.py:80: DeprecationWarning: Received 'size' via a specific parameter in the presence of a 'body' parameter, which is deprecated and will be removed in a future version. Instead, use only 'body' or only specific parameters.\n",
      "  response = es.search(index=\"ir_dev_index\", body=search_body, size=K)\n",
      "  3%|▎         | 2/75 [00:00<00:04, 16.50it/s]"
     ]
    },
    {
     "name": "stdout",
     "output_type": "stream",
     "text": [
      "Time taken to retrieve (ES only): 46 ms\n",
      "Query 1: Precision@10: 0.0000, Recall@10: 0.0000, F1@10: 0.0000, AP: 0.0000, nDCG@10: 0.0000, mrr10: 0.0000\n",
      "  Total time for query: 0.06 seconds\n",
      "Time taken to retrieve (ES only): 46 ms\n",
      "Query 2: Precision@10: 0.2000, Recall@10: 0.0145, F1@10: 0.0270, AP: 0.1964, nDCG@10: 0.1428, mrr10: 0.1429\n",
      "  Total time for query: 0.06 seconds\n",
      "Time taken to retrieve (ES only): 37 ms\n",
      "Query 3: Precision@10: 0.0000, Recall@10: 0.0000, F1@10: 0.0000, AP: 0.0000, nDCG@10: 0.0000, mrr10: 0.0000\n",
      "  Total time for query: 0.05 seconds\n"
     ]
    },
    {
     "name": "stderr",
     "output_type": "stream",
     "text": [
      "  5%|▌         | 4/75 [00:00<00:04, 16.89it/s]"
     ]
    },
    {
     "name": "stdout",
     "output_type": "stream",
     "text": [
      "Time taken to retrieve (ES only): 49 ms\n",
      "Query 4: Precision@10: 0.1000, Recall@10: 0.0227, F1@10: 0.0370, AP: 0.1667, nDCG@10: 0.0784, mrr10: 0.1667\n",
      "  Total time for query: 0.06 seconds\n"
     ]
    },
    {
     "name": "stderr",
     "output_type": "stream",
     "text": [
      "  8%|▊         | 6/75 [00:00<00:04, 16.06it/s]"
     ]
    },
    {
     "name": "stdout",
     "output_type": "stream",
     "text": [
      "Time taken to retrieve (ES only): 56 ms\n",
      "Query 5: Precision@10: 0.3000, Recall@10: 0.0252, F1@10: 0.0465, AP: 0.2944, nDCG@10: 0.2431, mrr10: 0.3333\n",
      "  Total time for query: 0.07 seconds\n",
      "Time taken to retrieve (ES only): 41 ms\n",
      "Query 6: Precision@10: 0.3000, Recall@10: 0.0256, F1@10: 0.0472, AP: 0.5444, nDCG@10: 0.3621, mrr10: 1.0000\n",
      "  Total time for query: 0.06 seconds\n"
     ]
    },
    {
     "name": "stderr",
     "output_type": "stream",
     "text": [
      " 11%|█         | 8/75 [00:00<00:04, 15.60it/s]"
     ]
    },
    {
     "name": "stdout",
     "output_type": "stream",
     "text": [
      "Time taken to retrieve (ES only): 49 ms\n",
      "Query 7: Precision@10: 0.4000, Recall@10: 0.0320, F1@10: 0.0593, AP: 0.3458, nDCG@10: 0.3098, mrr10: 0.2500\n",
      "  Total time for query: 0.07 seconds\n",
      "Time taken to retrieve (ES only): 41 ms\n",
      "Query 8: Precision@10: 0.0000, Recall@10: 0.0000, F1@10: 0.0000, AP: 0.0000, nDCG@10: 0.0000, mrr10: 0.0000\n",
      "  Total time for query: 0.06 seconds\n"
     ]
    },
    {
     "name": "stderr",
     "output_type": "stream",
     "text": [
      " 13%|█▎        | 10/75 [00:00<00:04, 15.86it/s]"
     ]
    },
    {
     "name": "stdout",
     "output_type": "stream",
     "text": [
      "Time taken to retrieve (ES only): 43 ms\n",
      "Query 9: Precision@10: 0.0000, Recall@10: 0.0000, F1@10: 0.0000, AP: 0.0000, nDCG@10: 0.0000, mrr10: 0.0000\n",
      "  Total time for query: 0.06 seconds\n",
      "Time taken to retrieve (ES only): 44 ms\n",
      "Query 10: Precision@10: 0.0000, Recall@10: 0.0000, F1@10: 0.0000, AP: 0.0000, nDCG@10: 0.0000, mrr10: 0.0000\n",
      "  Total time for query: 0.06 seconds\n",
      "Time taken to retrieve (ES only): 27 ms\n",
      "Query 11: Precision@10: 0.1000, Recall@10: 0.0189, F1@10: 0.0317, AP: 0.1250, nDCG@10: 0.0694, mrr10: 0.1250\n",
      "  Total time for query: 0.04 seconds\n",
      "Time taken to retrieve (ES only): 27 ms\n",
      "Query 12: Precision@10: 0.5000, Recall@10: 0.0481, F1@10: 0.0877, AP: 0.7889, nDCG@10: 0.5989, mrr10: 1.0000\n",
      "  Total time for query: 0.05 seconds\n"
     ]
    },
    {
     "name": "stderr",
     "output_type": "stream",
     "text": [
      " 17%|█▋        | 13/75 [00:00<00:03, 17.64it/s]"
     ]
    },
    {
     "name": "stdout",
     "output_type": "stream",
     "text": [
      "Time taken to retrieve (ES only): 41 ms\n",
      "Query 13: Precision@10: 0.1000, Recall@10: 0.0185, F1@10: 0.0312, AP: 0.3333, nDCG@10: 0.1100, mrr10: 0.3333\n",
      "  Total time for query: 0.06 seconds\n",
      "Time taken to retrieve (ES only): 44 ms\n",
      "Query 14: Precision@10: 0.1000, Recall@10: 0.0147, F1@10: 0.0256, AP: 0.1111, nDCG@10: 0.0663, mrr10: 0.1111\n",
      "  Total time for query: 0.06 seconds\n"
     ]
    },
    {
     "name": "stderr",
     "output_type": "stream",
     "text": [
      " 20%|██        | 15/75 [00:00<00:03, 16.27it/s]"
     ]
    },
    {
     "name": "stdout",
     "output_type": "stream",
     "text": [
      "Time taken to retrieve (ES only): 62 ms\n",
      "Query 15: Precision@10: 0.2000, Recall@10: 0.0140, F1@10: 0.0261, AP: 0.7500, nDCG@10: 0.3149, mrr10: 1.0000\n",
      "  Total time for query: 0.08 seconds\n"
     ]
    },
    {
     "name": "stderr",
     "output_type": "stream",
     "text": [
      " 23%|██▎       | 17/75 [00:01<00:03, 15.81it/s]"
     ]
    },
    {
     "name": "stdout",
     "output_type": "stream",
     "text": [
      "Time taken to retrieve (ES only): 63 ms\n",
      "Query 16: Precision@10: 0.0000, Recall@10: 0.0000, F1@10: 0.0000, AP: 0.0000, nDCG@10: 0.0000, mrr10: 0.0000\n",
      "  Total time for query: 0.09 seconds\n",
      "Time taken to retrieve (ES only): 30 ms\n",
      "Query 17: Precision@10: 0.6000, Recall@10: 0.0472, F1@10: 0.0876, AP: 0.6458, nDCG@10: 0.5578, mrr10: 0.5000\n",
      "  Total time for query: 0.05 seconds\n",
      "Time taken to retrieve (ES only): 37 ms\n",
      "Query 18: Precision@10: 0.0000, Recall@10: 0.0000, F1@10: 0.0000, AP: 0.0000, nDCG@10: 0.0000, mrr10: 0.0000\n",
      "  Total time for query: 0.05 seconds\n"
     ]
    },
    {
     "name": "stderr",
     "output_type": "stream",
     "text": [
      " 25%|██▌       | 19/75 [00:01<00:03, 16.28it/s]"
     ]
    },
    {
     "name": "stdout",
     "output_type": "stream",
     "text": [
      "Time taken to retrieve (ES only): 39 ms\n",
      "Query 19: Precision@10: 0.2000, Recall@10: 0.0174, F1@10: 0.0320, AP: 0.4167, nDCG@10: 0.2173, mrr10: 0.5000\n",
      "  Total time for query: 0.06 seconds\n"
     ]
    },
    {
     "name": "stderr",
     "output_type": "stream",
     "text": [
      " 28%|██▊       | 21/75 [00:01<00:03, 16.73it/s]"
     ]
    },
    {
     "name": "stdout",
     "output_type": "stream",
     "text": [
      "Time taken to retrieve (ES only): 41 ms\n",
      "Query 20: Precision@10: 0.1000, Recall@10: 0.0238, F1@10: 0.0385, AP: 0.5000, nDCG@10: 0.1389, mrr10: 0.5000\n",
      "  Total time for query: 0.06 seconds\n",
      "Time taken to retrieve (ES only): 36 ms\n",
      "Query 21: Precision@10: 0.0000, Recall@10: 0.0000, F1@10: 0.0000, AP: 0.0000, nDCG@10: 0.0000, mrr10: 0.0000\n",
      "  Total time for query: 0.05 seconds\n",
      "Time taken to retrieve (ES only): 32 ms\n",
      "Query 22: Precision@10: 0.1000, Recall@10: 0.0141, F1@10: 0.0247, AP: 0.1250, nDCG@10: 0.0694, mrr10: 0.1250\n",
      "  Total time for query: 0.05 seconds\n"
     ]
    },
    {
     "name": "stderr",
     "output_type": "stream",
     "text": [
      " 31%|███       | 23/75 [00:01<00:02, 17.40it/s]"
     ]
    },
    {
     "name": "stdout",
     "output_type": "stream",
     "text": [
      "Time taken to retrieve (ES only): 43 ms\n",
      "Query 23: Precision@10: 0.1000, Recall@10: 0.0119, F1@10: 0.0213, AP: 0.1667, nDCG@10: 0.0784, mrr10: 0.1667\n",
      "  Total time for query: 0.06 seconds\n"
     ]
    },
    {
     "name": "stderr",
     "output_type": "stream",
     "text": [
      " 33%|███▎      | 25/75 [00:01<00:02, 17.47it/s]"
     ]
    },
    {
     "name": "stdout",
     "output_type": "stream",
     "text": [
      "Time taken to retrieve (ES only): 39 ms\n",
      "Query 24: Precision@10: 0.3000, Recall@10: 0.0270, F1@10: 0.0496, AP: 0.5278, nDCG@10: 0.3558, mrr10: 1.0000\n",
      "  Total time for query: 0.06 seconds\n",
      "Time taken to retrieve (ES only): 43 ms\n",
      "Query 25: Precision@10: 0.1000, Recall@10: 0.0135, F1@10: 0.0238, AP: 0.1000, nDCG@10: 0.0636, mrr10: 0.1000\n",
      "  Total time for query: 0.06 seconds\n",
      "Time taken to retrieve (ES only): 52 ms\n",
      "Query 26: Precision@10: 0.0000, Recall@10: 0.0000, F1@10: 0.0000, AP: 0.0000, nDCG@10: 0.0000, mrr10: 0.0000\n",
      "  Total time for query: 0.07 seconds\n"
     ]
    },
    {
     "name": "stderr",
     "output_type": "stream",
     "text": [
      " 36%|███▌      | 27/75 [00:01<00:02, 16.66it/s]"
     ]
    },
    {
     "name": "stdout",
     "output_type": "stream",
     "text": [
      "Time taken to retrieve (ES only): 43 ms\n",
      "Query 27: Precision@10: 0.1000, Recall@10: 0.0175, F1@10: 0.0299, AP: 0.5000, nDCG@10: 0.1389, mrr10: 0.5000\n",
      "  Total time for query: 0.06 seconds\n"
     ]
    },
    {
     "name": "stderr",
     "output_type": "stream",
     "text": [
      " 39%|███▊      | 29/75 [00:01<00:02, 16.00it/s]"
     ]
    },
    {
     "name": "stdout",
     "output_type": "stream",
     "text": [
      "Time taken to retrieve (ES only): 34 ms\n",
      "Query 28: Precision@10: 0.0000, Recall@10: 0.0000, F1@10: 0.0000, AP: 0.0000, nDCG@10: 0.0000, mrr10: 0.0000\n",
      "  Total time for query: 0.06 seconds\n",
      "Time taken to retrieve (ES only): 61 ms\n",
      "Query 29: Precision@10: 0.0000, Recall@10: 0.0000, F1@10: 0.0000, AP: 0.0000, nDCG@10: 0.0000, mrr10: 0.0000\n",
      "  Total time for query: 0.08 seconds\n",
      "Time taken to retrieve (ES only): 33 ms\n",
      "Query 30: Precision@10: 0.1000, Recall@10: 0.0208, F1@10: 0.0345, AP: 1.0000, nDCG@10: 0.2201, mrr10: 1.0000\n",
      "  Total time for query: 0.05 seconds\n",
      "Time taken to retrieve (ES only): 22 ms\n",
      "Query 31: Precision@10: 0.1000, Recall@10: 0.0222, F1@10: 0.0364, AP: 0.1429, nDCG@10: 0.0734, mrr10: 0.1429\n",
      "  Total time for query: 0.04 seconds\n"
     ]
    },
    {
     "name": "stderr",
     "output_type": "stream",
     "text": [
      " 45%|████▌     | 34/75 [00:02<00:02, 17.97it/s]"
     ]
    },
    {
     "name": "stdout",
     "output_type": "stream",
     "text": [
      "Time taken to retrieve (ES only): 38 ms\n",
      "Query 32: Precision@10: 0.1000, Recall@10: 0.0385, F1@10: 0.0556, AP: 0.3333, nDCG@10: 0.1100, mrr10: 0.3333\n",
      "  Total time for query: 0.06 seconds\n",
      "Time taken to retrieve (ES only): 30 ms\n",
      "Query 33: Precision@10: 0.2000, Recall@10: 0.0099, F1@10: 0.0188, AP: 0.3611, nDCG@10: 0.2051, mrr10: 0.5000\n",
      "  Total time for query: 0.05 seconds\n",
      "Time taken to retrieve (ES only): 40 ms\n",
      "Query 34: Precision@10: 0.0000, Recall@10: 0.0000, F1@10: 0.0000, AP: 0.0000, nDCG@10: 0.0000, mrr10: 0.0000\n",
      "  Total time for query: 0.06 seconds\n",
      "Time taken to retrieve (ES only): 38 ms\n",
      "Query 35: Precision@10: 0.0000, Recall@10: 0.0000, F1@10: 0.0000, AP: 0.0000, nDCG@10: 0.0000, mrr10: 0.0000\n",
      "  Total time for query: 0.06 seconds\n"
     ]
    },
    {
     "name": "stderr",
     "output_type": "stream",
     "text": [
      " 51%|█████     | 38/75 [00:02<00:02, 17.84it/s]"
     ]
    },
    {
     "name": "stdout",
     "output_type": "stream",
     "text": [
      "Time taken to retrieve (ES only): 38 ms\n",
      "Query 36: Precision@10: 0.1000, Recall@10: 0.0054, F1@10: 0.0103, AP: 0.1000, nDCG@10: 0.0636, mrr10: 0.1000\n",
      "  Total time for query: 0.06 seconds\n",
      "Time taken to retrieve (ES only): 40 ms\n",
      "Query 37: Precision@10: 0.0000, Recall@10: 0.0000, F1@10: 0.0000, AP: 0.0000, nDCG@10: 0.0000, mrr10: 0.0000\n",
      "  Total time for query: 0.06 seconds\n",
      "Time taken to retrieve (ES only): 36 ms\n",
      "Query 38: Precision@10: 0.0000, Recall@10: 0.0000, F1@10: 0.0000, AP: 0.0000, nDCG@10: 0.0000, mrr10: 0.0000\n",
      "  Total time for query: 0.05 seconds\n",
      "Time taken to retrieve (ES only): 42 ms\n",
      "Query 39: Precision@10: 0.0000, Recall@10: 0.0000, F1@10: 0.0000, AP: 0.0000, nDCG@10: 0.0000, mrr10: 0.0000\n",
      "  Total time for query: 0.06 seconds\n"
     ]
    },
    {
     "name": "stderr",
     "output_type": "stream",
     "text": [
      " 56%|█████▌    | 42/75 [00:02<00:02, 16.41it/s]"
     ]
    },
    {
     "name": "stdout",
     "output_type": "stream",
     "text": [
      "Time taken to retrieve (ES only): 39 ms\n",
      "Query 40: Precision@10: 0.1000, Recall@10: 0.0909, F1@10: 0.0952, AP: 1.0000, nDCG@10: 0.2201, mrr10: 1.0000\n",
      "  Total time for query: 0.06 seconds\n",
      "Time taken to retrieve (ES only): 37 ms\n",
      "Query 41: Precision@10: 0.0000, Recall@10: 0.0000, F1@10: 0.0000, AP: 0.0000, nDCG@10: 0.0000, mrr10: 0.0000\n",
      "  Total time for query: 0.06 seconds\n",
      "Time taken to retrieve (ES only): 66 ms\n",
      "Query 42: Precision@10: 0.0000, Recall@10: 0.0000, F1@10: 0.0000, AP: 0.0000, nDCG@10: 0.0000, mrr10: 0.0000\n",
      "  Total time for query: 0.08 seconds\n",
      "Time taken to retrieve (ES only): 26 ms\n",
      "Query 43: Precision@10: 0.1000, Recall@10: 0.0159, F1@10: 0.0274, AP: 0.1250, nDCG@10: 0.0694, mrr10: 0.1250\n",
      "  Total time for query: 0.04 seconds\n"
     ]
    },
    {
     "name": "stderr",
     "output_type": "stream",
     "text": [
      " 60%|██████    | 45/75 [00:02<00:01, 17.39it/s]"
     ]
    },
    {
     "name": "stdout",
     "output_type": "stream",
     "text": [
      "Time taken to retrieve (ES only): 37 ms\n",
      "Query 44: Precision@10: 0.0000, Recall@10: 0.0000, F1@10: 0.0000, AP: 0.0000, nDCG@10: 0.0000, mrr10: 0.0000\n",
      "  Total time for query: 0.05 seconds\n",
      "Time taken to retrieve (ES only): 44 ms\n",
      "Query 45: Precision@10: 0.2000, Recall@10: 0.0138, F1@10: 0.0258, AP: 0.2429, nDCG@10: 0.1585, mrr10: 0.2000\n",
      "  Total time for query: 0.06 seconds\n",
      "Time taken to retrieve (ES only): 49 ms\n",
      "Query 46: Precision@10: 0.1000, Recall@10: 0.0091, F1@10: 0.0167, AP: 0.1111, nDCG@10: 0.0663, mrr10: 0.1111\n",
      "  Total time for query: 0.07 seconds\n"
     ]
    },
    {
     "name": "stderr",
     "output_type": "stream",
     "text": [
      " 63%|██████▎   | 47/75 [00:02<00:01, 16.53it/s]"
     ]
    },
    {
     "name": "stdout",
     "output_type": "stream",
     "text": [
      "Time taken to retrieve (ES only): 53 ms\n",
      "Query 47: Precision@10: 0.3000, Recall@10: 0.0234, F1@10: 0.0435, AP: 0.3333, nDCG@10: 0.2547, mrr10: 0.3333\n",
      "  Total time for query: 0.07 seconds\n"
     ]
    },
    {
     "name": "stderr",
     "output_type": "stream",
     "text": [
      " 65%|██████▌   | 49/75 [00:02<00:01, 17.06it/s]"
     ]
    },
    {
     "name": "stdout",
     "output_type": "stream",
     "text": [
      "Time taken to retrieve (ES only): 39 ms\n",
      "Query 48: Precision@10: 0.0000, Recall@10: 0.0000, F1@10: 0.0000, AP: 0.0000, nDCG@10: 0.0000, mrr10: 0.0000\n",
      "  Total time for query: 0.06 seconds\n",
      "Time taken to retrieve (ES only): 28 ms\n",
      "Query 49: Precision@10: 0.1000, Recall@10: 0.0286, F1@10: 0.0444, AP: 0.1667, nDCG@10: 0.0784, mrr10: 0.1667\n",
      "  Total time for query: 0.05 seconds\n",
      "Time taken to retrieve (ES only): 35 ms\n",
      "Query 50: Precision@10: 0.3000, Recall@10: 0.2143, F1@10: 0.2500, AP: 0.5556, nDCG@10: 0.3273, mrr10: 0.5000\n",
      "  Total time for query: 0.05 seconds\n"
     ]
    },
    {
     "name": "stderr",
     "output_type": "stream",
     "text": [
      " 68%|██████▊   | 51/75 [00:03<00:01, 17.65it/s]"
     ]
    },
    {
     "name": "stdout",
     "output_type": "stream",
     "text": [
      "Time taken to retrieve (ES only): 35 ms\n",
      "Query 51: Precision@10: 0.1000, Recall@10: 0.0357, F1@10: 0.0526, AP: 0.1111, nDCG@10: 0.0663, mrr10: 0.1111\n",
      "  Total time for query: 0.05 seconds\n"
     ]
    },
    {
     "name": "stderr",
     "output_type": "stream",
     "text": [
      " 72%|███████▏  | 54/75 [00:03<00:01, 18.28it/s]"
     ]
    },
    {
     "name": "stdout",
     "output_type": "stream",
     "text": [
      "Time taken to retrieve (ES only): 38 ms\n",
      "Query 52: Precision@10: 0.2000, Recall@10: 0.0488, F1@10: 0.0784, AP: 0.4167, nDCG@10: 0.2173, mrr10: 0.5000\n",
      "  Total time for query: 0.06 seconds\n",
      "Time taken to retrieve (ES only): 24 ms\n",
      "Query 53: Precision@10: 0.0000, Recall@10: 0.0000, F1@10: 0.0000, AP: 0.0000, nDCG@10: 0.0000, mrr10: 0.0000\n",
      "  Total time for query: 0.04 seconds\n",
      "Time taken to retrieve (ES only): 40 ms\n",
      "Query 54: Precision@10: 0.0000, Recall@10: 0.0000, F1@10: 0.0000, AP: 0.0000, nDCG@10: 0.0000, mrr10: 0.0000\n",
      "  Total time for query: 0.06 seconds\n",
      "Time taken to retrieve (ES only): 50 ms\n",
      "Query 55: Precision@10: 0.3000, Recall@10: 0.1304, F1@10: 0.1818, AP: 0.5778, nDCG@10: 0.3715, mrr10: 1.0000\n",
      "  Total time for query: 0.07 seconds\n"
     ]
    },
    {
     "name": "stderr",
     "output_type": "stream",
     "text": [
      " 79%|███████▊  | 59/75 [00:03<00:00, 19.04it/s]"
     ]
    },
    {
     "name": "stdout",
     "output_type": "stream",
     "text": [
      "Time taken to retrieve (ES only): 29 ms\n",
      "Query 56: Precision@10: 0.4000, Recall@10: 0.0784, F1@10: 0.1311, AP: 0.4683, nDCG@10: 0.3733, mrr10: 0.5000\n",
      "  Total time for query: 0.05 seconds\n",
      "Time taken to retrieve (ES only): 37 ms\n",
      "Query 57: Precision@10: 0.1000, Recall@10: 0.0093, F1@10: 0.0169, AP: 0.1000, nDCG@10: 0.0636, mrr10: 0.1000\n",
      "  Total time for query: 0.05 seconds\n",
      "Time taken to retrieve (ES only): 28 ms\n",
      "Query 58: Precision@10: 0.2000, Recall@10: 0.0364, F1@10: 0.0615, AP: 0.5833, nDCG@10: 0.2489, mrr10: 0.5000\n",
      "  Total time for query: 0.04 seconds\n",
      "Time taken to retrieve (ES only): 27 ms\n",
      "Query 59: Precision@10: 0.2000, Recall@10: 0.0106, F1@10: 0.0201, AP: 0.2778, nDCG@10: 0.1763, mrr10: 0.3333\n",
      "  Total time for query: 0.04 seconds\n",
      "Time taken to retrieve (ES only): 32 ms\n",
      "Query 60: Precision@10: 0.1000, Recall@10: 0.0067, F1@10: 0.0126, AP: 1.0000, nDCG@10: 0.2201, mrr10: 1.0000\n",
      "  Total time for query: 0.05 seconds\n"
     ]
    },
    {
     "name": "stderr",
     "output_type": "stream",
     "text": [
      " 83%|████████▎ | 62/75 [00:03<00:00, 19.16it/s]"
     ]
    },
    {
     "name": "stdout",
     "output_type": "stream",
     "text": [
      "Time taken to retrieve (ES only): 27 ms\n",
      "Query 61: Precision@10: 0.1000, Recall@10: 0.0083, F1@10: 0.0154, AP: 1.0000, nDCG@10: 0.2201, mrr10: 1.0000\n",
      "  Total time for query: 0.04 seconds\n",
      "Time taken to retrieve (ES only): 44 ms\n",
      "Query 62: Precision@10: 0.1000, Recall@10: 0.0154, F1@10: 0.0267, AP: 0.1429, nDCG@10: 0.0734, mrr10: 0.1429\n",
      "  Total time for query: 0.06 seconds\n",
      "Time taken to retrieve (ES only): 42 ms\n",
      "Query 63: Precision@10: 0.1000, Recall@10: 0.0286, F1@10: 0.0444, AP: 0.2500, nDCG@10: 0.0948, mrr10: 0.2500\n",
      "  Total time for query: 0.06 seconds\n"
     ]
    },
    {
     "name": "stderr",
     "output_type": "stream",
     "text": [
      " 85%|████████▌ | 64/75 [00:03<00:00, 18.87it/s]"
     ]
    },
    {
     "name": "stdout",
     "output_type": "stream",
     "text": [
      "Time taken to retrieve (ES only): 37 ms\n",
      "Query 64: Precision@10: 0.2000, Recall@10: 0.0308, F1@10: 0.0533, AP: 0.6429, nDCG@10: 0.2935, mrr10: 1.0000\n",
      "  Total time for query: 0.05 seconds\n"
     ]
    },
    {
     "name": "stderr",
     "output_type": "stream",
     "text": [
      " 89%|████████▉ | 67/75 [00:03<00:00, 20.01it/s]"
     ]
    },
    {
     "name": "stdout",
     "output_type": "stream",
     "text": [
      "Time taken to retrieve (ES only): 39 ms\n",
      "Query 65: Precision@10: 0.0000, Recall@10: 0.0000, F1@10: 0.0000, AP: 0.0000, nDCG@10: 0.0000, mrr10: 0.0000\n",
      "  Total time for query: 0.06 seconds\n",
      "Time taken to retrieve (ES only): 29 ms\n",
      "Query 66: Precision@10: 0.0000, Recall@10: 0.0000, F1@10: 0.0000, AP: 0.0000, nDCG@10: 0.0000, mrr10: 0.0000\n",
      "  Total time for query: 0.04 seconds\n",
      "Time taken to retrieve (ES only): 17 ms\n",
      "Query 67: Precision@10: 0.1000, Recall@10: 0.0167, F1@10: 0.0286, AP: 0.5000, nDCG@10: 0.1389, mrr10: 0.5000\n",
      "  Total time for query: 0.03 seconds\n",
      "Time taken to retrieve (ES only): 26 ms\n",
      "Query 68: Precision@10: 0.1000, Recall@10: 0.0233, F1@10: 0.0377, AP: 0.2500, nDCG@10: 0.0948, mrr10: 0.2500\n",
      "  Total time for query: 0.04 seconds\n",
      "Time taken to retrieve (ES only): 27 ms\n",
      "Query 69: Precision@10: 0.0000, Recall@10: 0.0000, F1@10: 0.0000, AP: 0.0000, nDCG@10: 0.0000, mrr10: 0.0000\n",
      "  Total time for query: 0.04 seconds\n"
     ]
    },
    {
     "name": "stderr",
     "output_type": "stream",
     "text": [
      " 96%|█████████▌| 72/75 [00:04<00:00, 19.54it/s]"
     ]
    },
    {
     "name": "stdout",
     "output_type": "stream",
     "text": [
      "Time taken to retrieve (ES only): 55 ms\n",
      "Query 70: Precision@10: 0.0000, Recall@10: 0.0000, F1@10: 0.0000, AP: 0.0000, nDCG@10: 0.0000, mrr10: 0.0000\n",
      "  Total time for query: 0.07 seconds\n",
      "Time taken to retrieve (ES only): 35 ms\n",
      "Query 71: Precision@10: 0.0000, Recall@10: 0.0000, F1@10: 0.0000, AP: 0.0000, nDCG@10: 0.0000, mrr10: 0.0000\n",
      "  Total time for query: 0.05 seconds\n",
      "Time taken to retrieve (ES only): 37 ms\n",
      "Query 72: Precision@10: 0.0000, Recall@10: 0.0000, F1@10: 0.0000, AP: 0.0000, nDCG@10: 0.0000, mrr10: 0.0000\n",
      "  Total time for query: 0.05 seconds\n",
      "Time taken to retrieve (ES only): 40 ms\n",
      "Query 73: Precision@10: 0.0000, Recall@10: 0.0000, F1@10: 0.0000, AP: 0.0000, nDCG@10: 0.0000, mrr10: 0.0000\n",
      "  Total time for query: 0.06 seconds\n"
     ]
    },
    {
     "name": "stderr",
     "output_type": "stream",
     "text": [
      "100%|██████████| 75/75 [00:04<00:00, 17.58it/s]"
     ]
    },
    {
     "name": "stdout",
     "output_type": "stream",
     "text": [
      "Time taken to retrieve (ES only): 37 ms\n",
      "Query 74: Precision@10: 0.2000, Recall@10: 0.1818, F1@10: 0.1905, AP: 0.7500, nDCG@10: 0.3149, mrr10: 1.0000\n",
      "  Total time for query: 0.08 seconds\n",
      "Time taken to retrieve (ES only): 32 ms\n",
      "Query 75: Precision@10: 0.0000, Recall@10: 0.0000, F1@10: 0.0000, AP: 0.0000, nDCG@10: 0.0000, mrr10: 0.0000\n",
      "  Total time for query: 0.05 seconds\n",
      "\n",
      "BM25L(standard es) - Overall evaluation metrics:\n",
      "Date/time:2025-03-25 12:00:09\n",
      "\n",
      "Threshold = 2\n",
      "Mean Precision@10: 0.1093\n",
      "Mean Recall@10: 0.0208\n",
      "Mean F1@10: 0.0312\n",
      "Mean Average Precision (MAP): 0.2424\n",
      "Mean nDCG@10: 0.1164\n",
      "Mean MRR@10: 0.2740\n",
      "Average total time per query: 0.06 seconds\n",
      "\n",
      "Metrics have been exported to BM25L_only.xlsx\n"
     ]
    },
    {
     "name": "stderr",
     "output_type": "stream",
     "text": [
      "\n"
     ]
    }
   ],
   "source": [
    "import json\n",
    "import numpy as np\n",
    "from elasticsearch import Elasticsearch, helpers\n",
    "from tqdm import tqdm\n",
    "import time\n",
    "import pandas as pd\n",
    "from datetime import datetime\n",
    "\n",
    "# Evaluation Metric Functions\n",
    "def precision_at_k(re_ranked_docs, relevant_docs, k):\n",
    "    top_k_docs = re_ranked_docs[:k]\n",
    "    num_relevant_in_k = sum(1 for doc in top_k_docs \n",
    "                            if doc in relevant_docs and relevant_docs[doc] > 0)\n",
    "    return num_relevant_in_k / k if k else 0.0\n",
    "\n",
    "def recall_at_k(re_ranked_docs, relevant_docs, k):\n",
    "    top_k_docs = re_ranked_docs[:k]\n",
    "    total_relevant = sum(1 for doc, rel in relevant_docs.items() if rel > 0)\n",
    "    if total_relevant == 0:\n",
    "        return 0.0\n",
    "    num_relevant_in_k = sum(1 for doc in top_k_docs \n",
    "                            if doc in relevant_docs and relevant_docs[doc] > 0)\n",
    "    return num_relevant_in_k / total_relevant\n",
    "\n",
    "def f1_at_k(re_ranked_docs, relevant_docs, k):\n",
    "    p = precision_at_k(re_ranked_docs, relevant_docs, k)\n",
    "    r = recall_at_k(re_ranked_docs, relevant_docs, k)\n",
    "    if (p + r) == 0:\n",
    "        return 0.0\n",
    "    return 2 * (p * r) / (p + r)\n",
    "\n",
    "def average_precision(re_ranked_docs, relevant_docs):\n",
    "    if not relevant_docs:\n",
    "        return 0.0\n",
    "    \n",
    "    relevant_indices = [\n",
    "        i for i, doc in enumerate(re_ranked_docs)\n",
    "        if doc in relevant_docs and relevant_docs[doc] > 0\n",
    "    ]\n",
    "    if not relevant_indices:\n",
    "        return 0.0\n",
    "    \n",
    "    ap_sum = 0.0\n",
    "    for idx, rank_pos in enumerate(relevant_indices, start=1):\n",
    "        prec = precision_at_k(re_ranked_docs, relevant_docs, rank_pos+1)\n",
    "        ap_sum += prec\n",
    "    return ap_sum / len(relevant_indices)\n",
    "\n",
    "def ndcg_at_k(re_ranked_docs, relevant_docs, k):\n",
    "    def dcg(scores):\n",
    "        return sum(( (2**s - 1) / np.log2(idx + 2)) for idx, s in enumerate(scores))\n",
    "    \n",
    "    top_k_docs = re_ranked_docs[:k]\n",
    "    actual_scores = [relevant_docs[doc] if doc in relevant_docs else 0 for doc in top_k_docs]\n",
    "    actual_dcg = dcg(actual_scores)\n",
    "    \n",
    "    sorted_rels = sorted(relevant_docs.values(), reverse=True)[:k]\n",
    "    ideal_dcg = dcg(sorted_rels)\n",
    "    \n",
    "    if ideal_dcg == 0:\n",
    "        return 0.0\n",
    "    return actual_dcg / ideal_dcg\n",
    "\n",
    "def mrr_at_k(re_ranked_docs, relevant_docs, k):\n",
    "    for i, doc_id in enumerate(re_ranked_docs[:k], start=1):\n",
    "        if doc_id in relevant_docs and relevant_docs[doc_id] > 0:\n",
    "            return 1.0 / i\n",
    "    return 0.0\n",
    "\n",
    "# Define the text-based query search \n",
    "def search_text_based(query_text, K=10):\n",
    "    search_body = {\n",
    "        \"query\": {\n",
    "            \"multi_match\": {\n",
    "                \"query\": query_text,\n",
    "                \"fields\": [\"title\", \"summary\", \"detailed_descrption\"]\n",
    "            }\n",
    "        }\n",
    "    }\n",
    "    response = es.search(index=\"ir_dev_index\", body=search_body, size=K)\n",
    "    print(\"Time taken to retrieve (ES only): {} ms\".format(response[\"took\"]))\n",
    "    return [hit[\"_source\"][\"doc_id\"] for hit in response['hits']['hits']]\n",
    "\n",
    "# Load queries from a JSONL file   \n",
    "def load_queries(file_path):\n",
    "    queries = {}\n",
    "    with open(file_path, \"r\") as f:\n",
    "        for line in f:\n",
    "            doc = json.loads(line)\n",
    "            queries[doc[\"query_id\"]] = doc[\"text\"].strip()\n",
    "    return queries\n",
    "\n",
    "# Load qrels from a JSONL file\n",
    "def load_qrels(file_path):\n",
    "    qrels = {}\n",
    "    with open(file_path, \"r\") as f:\n",
    "        for line in f:\n",
    "            doc = json.loads(line)\n",
    "            qid = doc[\"query_id\"]\n",
    "            relevance = int(doc.get(\"relevance\", 0))\n",
    "            # Only keep documents meeting the threshold; else, assign 0.\n",
    "            relevance = relevance if relevance >= RELEVANCE_THRESHOLD else 0\n",
    "            if qid not in qrels:\n",
    "                qrels[qid] = {}\n",
    "            qrels[qid][doc[\"doc_id\"]] = relevance\n",
    "    return qrels\n",
    "\n",
    "RELEVANCE_THRESHOLD = 2  # Only documents with relevance >= x are considered relevant for evaluation\n",
    "K = 10  # Top-K documents for evaluation\n",
    "\n",
    "# Filter qrels based on relevance threshold (for evaluation)\n",
    "def get_relevant_docs(qrel_dict, threshold=RELEVANCE_THRESHOLD):\n",
    "    return {doc_id: rel for doc_id, rel in qrel_dict.items() if rel >= threshold}\n",
    "\n",
    "# For ndcg calculation\n",
    "def get_all_docs(qrel_dict):\n",
    "    \"\"\"Return the entire dictionary of {doc_id: relevance}, including relevance=0.\"\"\"\n",
    "    return {doc_id: rel for doc_id, rel in qrel_dict.items()}\n",
    "\n",
    "if __name__ == \"__main__\":\n",
    "    # Set file paths for your queries and qrels JSONL files.\n",
    "    queries_file = \"trec_ct_2021_query.jsonl\"\n",
    "    qrels_file = \"trec_ct_2021_qrels.jsonl\"\n",
    "\n",
    "    # Load queries and qrels.\n",
    "    queries = load_queries(queries_file)\n",
    "    qrels = load_qrels(qrels_file)\n",
    "\n",
    "    all_metrics = []\n",
    "\n",
    "    print(\"BM25L - Processing queries and computing evaluation metrics...\")\n",
    "    for qid, qtext in tqdm(queries.items(), total=len(queries)):\n",
    "        if not qtext:\n",
    "            continue\n",
    "        \n",
    "        # Track the total time\n",
    "        start_time = time.time()\n",
    "        # Stage 1: Retrieve top-K documents using text-based search.\n",
    "        retrieved_docs = search_text_based(qtext, K=K)\n",
    "\n",
    "        # Mark the end time for entire query processing\n",
    "        total_time = time.time() - start_time\n",
    "\n",
    "        # Get relevant docs for this query using the relevance threshold.\n",
    "        relevant_docs = get_relevant_docs(qrels.get(qid, {}), threshold=RELEVANCE_THRESHOLD)\n",
    "\n",
    "        #All docs retrieved (i.e no threshold) to compute nDCG based on graded relevance 0,1,2\n",
    "        ndcg_relevant_docs = get_all_docs(qrels.get(qid, {}))\n",
    "\n",
    "        # Compute evaluation measures.\n",
    "        prec = precision_at_k(retrieved_docs, relevant_docs, K)\n",
    "        rec = recall_at_k(retrieved_docs, relevant_docs, K)\n",
    "        f1 = f1_at_k(retrieved_docs, relevant_docs, K)\n",
    "        ap = average_precision(retrieved_docs, relevant_docs)\n",
    "        ndcg = ndcg_at_k(retrieved_docs, ndcg_relevant_docs, K)\n",
    "        mrr_val = mrr_at_k(retrieved_docs, relevant_docs, K)\n",
    "        \n",
    "        metrics = {\n",
    "            \"query_id\": qid,\n",
    "            \"precision\": prec,\n",
    "            \"recall\": rec,\n",
    "            \"f1\": f1,\n",
    "            \"average_precision\": ap,\n",
    "            \"ndcg\": ndcg,\n",
    "            \"mrr\": mrr_val,\n",
    "            \"time_seconds\": total_time\n",
    "        }\n",
    "        all_metrics.append(metrics)\n",
    "        print(f\"Query {qid}: Precision@{K}: {prec:.4f}, Recall@{K}: {rec:.4f}, F1@{K}: {f1:.4f}, AP: {ap:.4f}, nDCG@{K}: {ndcg:.4f}, mrr{K}: {mrr_val:.4f}\")\n",
    "        print(f\"  Total time for query: {total_time:.2f} seconds\")\n",
    "\n",
    "    # Compute overall evaluation metrics.\n",
    "    if all_metrics:\n",
    "        avg_precision = np.mean([m[\"precision\"] for m in all_metrics])\n",
    "        avg_recall = np.mean([m[\"recall\"] for m in all_metrics])\n",
    "        avg_f1 = np.mean([m[\"f1\"] for m in all_metrics])\n",
    "        mean_ap = np.mean([m[\"average_precision\"] for m in all_metrics])\n",
    "        mean_ndcg = np.mean([m[\"ndcg\"] for m in all_metrics])\n",
    "        mean_mrr = np.mean([m[\"mrr\"] for m in all_metrics])\n",
    "        avg_time = np.mean([m[\"time_seconds\"] for m in all_metrics])\n",
    "\n",
    "        print(\"\\nBM25L(standard es) - Overall evaluation metrics:\")\n",
    "        current_time = datetime.now().strftime(\"%Y-%m-%d %H:%M:%S\")\n",
    "        print(f\"Date/time:{current_time}\")\n",
    "        print(f\"\\nThreshold = {RELEVANCE_THRESHOLD}\")\n",
    "        print(f\"Mean Precision@{K}: {avg_precision:.4f}\")\n",
    "        print(f\"Mean Recall@{K}: {avg_recall:.4f}\")\n",
    "        print(f\"Mean F1@{K}: {avg_f1:.4f}\")\n",
    "        print(f\"Mean Average Precision (MAP): {mean_ap:.4f}\")\n",
    "        print(f\"Mean nDCG@{K}: {mean_ndcg:.4f}\")\n",
    "        print(f\"Mean MRR@{K}: {mean_mrr:.4f}\")\n",
    "        print(f\"Average total time per query: {avg_time:.2f} seconds\")\n",
    "    else:\n",
    "        print(\"No queries processed.\")\n",
    "\n",
    "# Create a DataFrame to export the computed results for all queries\n",
    "data = {\n",
    "    \"Test\": \"BM25L Only.\",\n",
    "    \"Date/Time\": [current_time],\n",
    "    \"Relevance Threshold\": [RELEVANCE_THRESHOLD],\n",
    "    f\"Mean Precision@{K}\": [avg_precision],\n",
    "    f\"Mean Recall@{K}\": [avg_recall],\n",
    "    f\"Mean F1@{K}\": [avg_f1],\n",
    "    \"Mean Average Precision (MAP)\": [mean_ap],\n",
    "    f\"Mean nDCG@{K}\": [mean_ndcg],\n",
    "    f\"Mean MRR@{K}\": [mean_mrr],\n",
    "    \"Avg Time per Query (s)\": [avg_time],\n",
    "}\n",
    "df = pd.DataFrame(data)\n",
    "\n",
    "# Export to an Excel file\n",
    "xlsx_filename = \"BM25L_only.xlsx\"\n",
    "df.to_excel(xlsx_filename, index=False)\n",
    "\n",
    "print(f\"\\nMetrics have been exported to {xlsx_filename}\")"
   ]
  },
  {
   "cell_type": "markdown",
   "metadata": {},
   "source": [
    "### BM25W Description boosted ^2"
   ]
  },
  {
   "cell_type": "markdown",
   "metadata": {},
   "source": [
    "In Elasticsearch, putting more weight on the description field"
   ]
  },
  {
   "cell_type": "code",
   "execution_count": null,
   "metadata": {},
   "outputs": [
    {
     "name": "stdout",
     "output_type": "stream",
     "text": [
      "BM25LW - Processing queries and computing evaluation metrics...\n"
     ]
    },
    {
     "name": "stderr",
     "output_type": "stream",
     "text": [
      "  0%|          | 0/75 [00:00<?, ?it/s]"
     ]
    },
    {
     "name": "stdout",
     "output_type": "stream",
     "text": [
      "Query 1: Precision@10: 0.0000, Recall@10: 0.0000, F1@10: 0.0000, AP: 0.0000, nDCG@10: 0.0000, mrr10: 0.0000\n"
     ]
    },
    {
     "name": "stderr",
     "output_type": "stream",
     "text": [
      "/var/folders/b3/59dkzgnj0zxdhdx31d2ztm000000gn/T/ipykernel_28729/1950038217.py:82: DeprecationWarning: Received 'size' via a specific parameter in the presence of a 'body' parameter, which is deprecated and will be removed in a future version. Instead, use only 'body' or only specific parameters.\n",
      "  response = es.search(index=\"ir_dev_index\", body=search_body, size=K)\n",
      "  3%|▎         | 2/75 [00:00<00:04, 17.87it/s]"
     ]
    },
    {
     "name": "stdout",
     "output_type": "stream",
     "text": [
      "Query 2: Precision@10: 0.2000, Recall@10: 0.0145, F1@10: 0.0270, AP: 0.1964, nDCG@10: 0.1428, mrr10: 0.1429\n",
      "Query 3: Precision@10: 0.0000, Recall@10: 0.0000, F1@10: 0.0000, AP: 0.0000, nDCG@10: 0.0000, mrr10: 0.0000\n"
     ]
    },
    {
     "name": "stderr",
     "output_type": "stream",
     "text": [
      "  5%|▌         | 4/75 [00:00<00:03, 18.15it/s]"
     ]
    },
    {
     "name": "stdout",
     "output_type": "stream",
     "text": [
      "Query 4: Precision@10: 0.1000, Recall@10: 0.0227, F1@10: 0.0370, AP: 0.1667, nDCG@10: 0.0784, mrr10: 0.1667\n",
      "Query 5: Precision@10: 0.3000, Recall@10: 0.0252, F1@10: 0.0465, AP: 0.2944, nDCG@10: 0.2431, mrr10: 0.3333\n"
     ]
    },
    {
     "name": "stderr",
     "output_type": "stream",
     "text": [
      "  8%|▊         | 6/75 [00:00<00:03, 17.36it/s]"
     ]
    },
    {
     "name": "stdout",
     "output_type": "stream",
     "text": [
      "Query 6: Precision@10: 0.2000, Recall@10: 0.0171, F1@10: 0.0315, AP: 0.6250, nDCG@10: 0.2895, mrr10: 1.0000\n",
      "Query 7: Precision@10: 0.4000, Recall@10: 0.0320, F1@10: 0.0593, AP: 0.3458, nDCG@10: 0.3098, mrr10: 0.2500\n"
     ]
    },
    {
     "name": "stderr",
     "output_type": "stream",
     "text": [
      " 11%|█         | 8/75 [00:00<00:04, 15.87it/s]"
     ]
    },
    {
     "name": "stdout",
     "output_type": "stream",
     "text": [
      "Query 8: Precision@10: 0.0000, Recall@10: 0.0000, F1@10: 0.0000, AP: 0.0000, nDCG@10: 0.0000, mrr10: 0.0000\n"
     ]
    },
    {
     "name": "stderr",
     "output_type": "stream",
     "text": [
      " 13%|█▎        | 10/75 [00:00<00:04, 16.13it/s]"
     ]
    },
    {
     "name": "stdout",
     "output_type": "stream",
     "text": [
      "Query 9: Precision@10: 0.0000, Recall@10: 0.0000, F1@10: 0.0000, AP: 0.0000, nDCG@10: 0.0000, mrr10: 0.0000\n",
      "Query 10: Precision@10: 0.0000, Recall@10: 0.0000, F1@10: 0.0000, AP: 0.0000, nDCG@10: 0.0000, mrr10: 0.0000\n",
      "Query 11: Precision@10: 0.1000, Recall@10: 0.0189, F1@10: 0.0317, AP: 0.1429, nDCG@10: 0.0734, mrr10: 0.1429\n"
     ]
    },
    {
     "name": "stderr",
     "output_type": "stream",
     "text": [
      " 17%|█▋        | 13/75 [00:00<00:03, 18.14it/s]"
     ]
    },
    {
     "name": "stdout",
     "output_type": "stream",
     "text": [
      "Query 12: Precision@10: 0.5000, Recall@10: 0.0481, F1@10: 0.0877, AP: 0.7889, nDCG@10: 0.5989, mrr10: 1.0000\n",
      "Query 13: Precision@10: 0.1000, Recall@10: 0.0185, F1@10: 0.0312, AP: 0.3333, nDCG@10: 0.1100, mrr10: 0.3333\n",
      "Query 14: Precision@10: 0.1000, Recall@10: 0.0147, F1@10: 0.0256, AP: 0.1250, nDCG@10: 0.0694, mrr10: 0.1250\n"
     ]
    },
    {
     "name": "stderr",
     "output_type": "stream",
     "text": [
      " 23%|██▎       | 17/75 [00:01<00:03, 16.87it/s]"
     ]
    },
    {
     "name": "stdout",
     "output_type": "stream",
     "text": [
      "Query 15: Precision@10: 0.2000, Recall@10: 0.0140, F1@10: 0.0261, AP: 0.7500, nDCG@10: 0.3149, mrr10: 1.0000\n",
      "Query 16: Precision@10: 0.0000, Recall@10: 0.0000, F1@10: 0.0000, AP: 0.0000, nDCG@10: 0.0000, mrr10: 0.0000\n",
      "Query 17: Precision@10: 0.6000, Recall@10: 0.0472, F1@10: 0.0876, AP: 0.6458, nDCG@10: 0.5578, mrr10: 0.5000\n",
      "Query 18: Precision@10: 0.0000, Recall@10: 0.0000, F1@10: 0.0000, AP: 0.0000, nDCG@10: 0.0000, mrr10: 0.0000\n"
     ]
    },
    {
     "name": "stderr",
     "output_type": "stream",
     "text": [
      " 28%|██▊       | 21/75 [00:01<00:03, 17.05it/s]"
     ]
    },
    {
     "name": "stdout",
     "output_type": "stream",
     "text": [
      "Query 19: Precision@10: 0.2000, Recall@10: 0.0174, F1@10: 0.0320, AP: 0.4167, nDCG@10: 0.2173, mrr10: 0.5000\n",
      "Query 20: Precision@10: 0.1000, Recall@10: 0.0238, F1@10: 0.0385, AP: 1.0000, nDCG@10: 0.2201, mrr10: 1.0000\n",
      "Query 21: Precision@10: 0.0000, Recall@10: 0.0000, F1@10: 0.0000, AP: 0.0000, nDCG@10: 0.0000, mrr10: 0.0000\n",
      "Query 22: Precision@10: 0.2000, Recall@10: 0.0282, F1@10: 0.0494, AP: 0.1714, nDCG@10: 0.1370, mrr10: 0.1429\n"
     ]
    },
    {
     "name": "stderr",
     "output_type": "stream",
     "text": [
      " 33%|███▎      | 25/75 [00:01<00:02, 17.81it/s]"
     ]
    },
    {
     "name": "stdout",
     "output_type": "stream",
     "text": [
      "Query 23: Precision@10: 0.1000, Recall@10: 0.0119, F1@10: 0.0213, AP: 0.1667, nDCG@10: 0.0784, mrr10: 0.1667\n",
      "Query 24: Precision@10: 0.3000, Recall@10: 0.0270, F1@10: 0.0496, AP: 0.5278, nDCG@10: 0.3558, mrr10: 1.0000\n",
      "Query 25: Precision@10: 0.1000, Recall@10: 0.0135, F1@10: 0.0238, AP: 0.1000, nDCG@10: 0.0636, mrr10: 0.1000\n",
      "Query 26: Precision@10: 0.0000, Recall@10: 0.0000, F1@10: 0.0000, AP: 0.0000, nDCG@10: 0.0000, mrr10: 0.0000\n"
     ]
    },
    {
     "name": "stderr",
     "output_type": "stream",
     "text": [
      " 39%|███▊      | 29/75 [00:01<00:02, 17.15it/s]"
     ]
    },
    {
     "name": "stdout",
     "output_type": "stream",
     "text": [
      "Query 27: Precision@10: 0.1000, Recall@10: 0.0175, F1@10: 0.0299, AP: 0.5000, nDCG@10: 0.1389, mrr10: 0.5000\n",
      "Query 28: Precision@10: 0.0000, Recall@10: 0.0000, F1@10: 0.0000, AP: 0.0000, nDCG@10: 0.0000, mrr10: 0.0000\n",
      "Query 29: Precision@10: 0.0000, Recall@10: 0.0000, F1@10: 0.0000, AP: 0.0000, nDCG@10: 0.0000, mrr10: 0.0000\n",
      "Query 30: Precision@10: 0.1000, Recall@10: 0.0208, F1@10: 0.0345, AP: 1.0000, nDCG@10: 0.2201, mrr10: 1.0000\n"
     ]
    },
    {
     "name": "stderr",
     "output_type": "stream",
     "text": [
      " 43%|████▎     | 32/75 [00:01<00:02, 18.03it/s]"
     ]
    },
    {
     "name": "stdout",
     "output_type": "stream",
     "text": [
      "Query 31: Precision@10: 0.1000, Recall@10: 0.0222, F1@10: 0.0364, AP: 0.1667, nDCG@10: 0.0784, mrr10: 0.1667\n",
      "Query 32: Precision@10: 0.1000, Recall@10: 0.0385, F1@10: 0.0556, AP: 0.3333, nDCG@10: 0.1100, mrr10: 0.3333\n",
      "Query 33: Precision@10: 0.2000, Recall@10: 0.0099, F1@10: 0.0188, AP: 0.3750, nDCG@10: 0.2083, mrr10: 0.5000\n"
     ]
    },
    {
     "name": "stderr",
     "output_type": "stream",
     "text": [
      " 45%|████▌     | 34/75 [00:01<00:02, 17.60it/s]"
     ]
    },
    {
     "name": "stdout",
     "output_type": "stream",
     "text": [
      "Query 34: Precision@10: 0.0000, Recall@10: 0.0000, F1@10: 0.0000, AP: 0.0000, nDCG@10: 0.0000, mrr10: 0.0000\n"
     ]
    },
    {
     "name": "stderr",
     "output_type": "stream",
     "text": [
      " 48%|████▊     | 36/75 [00:02<00:02, 17.77it/s]"
     ]
    },
    {
     "name": "stdout",
     "output_type": "stream",
     "text": [
      "Query 35: Precision@10: 0.0000, Recall@10: 0.0000, F1@10: 0.0000, AP: 0.0000, nDCG@10: 0.0000, mrr10: 0.0000\n",
      "Query 36: Precision@10: 0.1000, Recall@10: 0.0054, F1@10: 0.0103, AP: 0.1111, nDCG@10: 0.0663, mrr10: 0.1111\n",
      "Query 37: Precision@10: 0.0000, Recall@10: 0.0000, F1@10: 0.0000, AP: 0.0000, nDCG@10: 0.0000, mrr10: 0.0000\n"
     ]
    },
    {
     "name": "stderr",
     "output_type": "stream",
     "text": [
      " 51%|█████     | 38/75 [00:02<00:02, 17.61it/s]"
     ]
    },
    {
     "name": "stdout",
     "output_type": "stream",
     "text": [
      "Query 38: Precision@10: 0.0000, Recall@10: 0.0000, F1@10: 0.0000, AP: 0.0000, nDCG@10: 0.0000, mrr10: 0.0000\n"
     ]
    },
    {
     "name": "stderr",
     "output_type": "stream",
     "text": [
      " 53%|█████▎    | 40/75 [00:02<00:02, 17.32it/s]"
     ]
    },
    {
     "name": "stdout",
     "output_type": "stream",
     "text": [
      "Query 39: Precision@10: 0.0000, Recall@10: 0.0000, F1@10: 0.0000, AP: 0.0000, nDCG@10: 0.0000, mrr10: 0.0000\n",
      "Query 40: Precision@10: 0.1000, Recall@10: 0.0909, F1@10: 0.0952, AP: 1.0000, nDCG@10: 0.2201, mrr10: 1.0000\n",
      "Query 41: Precision@10: 0.0000, Recall@10: 0.0000, F1@10: 0.0000, AP: 0.0000, nDCG@10: 0.0000, mrr10: 0.0000\n"
     ]
    },
    {
     "name": "stderr",
     "output_type": "stream",
     "text": [
      " 60%|██████    | 45/75 [00:02<00:01, 16.76it/s]"
     ]
    },
    {
     "name": "stdout",
     "output_type": "stream",
     "text": [
      "Query 42: Precision@10: 0.0000, Recall@10: 0.0000, F1@10: 0.0000, AP: 0.0000, nDCG@10: 0.0000, mrr10: 0.0000\n",
      "Query 43: Precision@10: 0.1000, Recall@10: 0.0159, F1@10: 0.0274, AP: 0.1250, nDCG@10: 0.0694, mrr10: 0.1250\n",
      "Query 44: Precision@10: 0.0000, Recall@10: 0.0000, F1@10: 0.0000, AP: 0.0000, nDCG@10: 0.0000, mrr10: 0.0000\n",
      "Query 45: Precision@10: 0.2000, Recall@10: 0.0138, F1@10: 0.0258, AP: 0.2429, nDCG@10: 0.1585, mrr10: 0.2000\n"
     ]
    },
    {
     "name": "stderr",
     "output_type": "stream",
     "text": [
      " 65%|██████▌   | 49/75 [00:02<00:01, 16.34it/s]"
     ]
    },
    {
     "name": "stdout",
     "output_type": "stream",
     "text": [
      "Query 46: Precision@10: 0.1000, Recall@10: 0.0091, F1@10: 0.0167, AP: 0.1111, nDCG@10: 0.0663, mrr10: 0.1111\n",
      "Query 47: Precision@10: 0.3000, Recall@10: 0.0234, F1@10: 0.0435, AP: 0.3694, nDCG@10: 0.2646, mrr10: 0.3333\n",
      "Query 48: Precision@10: 0.0000, Recall@10: 0.0000, F1@10: 0.0000, AP: 0.0000, nDCG@10: 0.0000, mrr10: 0.0000\n",
      "Query 49: Precision@10: 0.2000, Recall@10: 0.0571, F1@10: 0.0889, AP: 0.2250, nDCG@10: 0.1584, mrr10: 0.2500\n"
     ]
    },
    {
     "name": "stderr",
     "output_type": "stream",
     "text": [
      " 71%|███████   | 53/75 [00:03<00:01, 17.63it/s]"
     ]
    },
    {
     "name": "stdout",
     "output_type": "stream",
     "text": [
      "Query 50: Precision@10: 0.2000, Recall@10: 0.1429, F1@10: 0.1667, AP: 0.5833, nDCG@10: 0.2489, mrr10: 0.5000\n",
      "Query 51: Precision@10: 0.1000, Recall@10: 0.0357, F1@10: 0.0526, AP: 0.1111, nDCG@10: 0.0663, mrr10: 0.1111\n",
      "Query 52: Precision@10: 0.2000, Recall@10: 0.0488, F1@10: 0.0784, AP: 0.4167, nDCG@10: 0.2173, mrr10: 0.5000\n",
      "Query 53: Precision@10: 0.0000, Recall@10: 0.0000, F1@10: 0.0000, AP: 0.0000, nDCG@10: 0.0000, mrr10: 0.0000\n"
     ]
    },
    {
     "name": "stderr",
     "output_type": "stream",
     "text": [
      " 77%|███████▋  | 58/75 [00:03<00:00, 18.86it/s]"
     ]
    },
    {
     "name": "stdout",
     "output_type": "stream",
     "text": [
      "Query 54: Precision@10: 0.0000, Recall@10: 0.0000, F1@10: 0.0000, AP: 0.0000, nDCG@10: 0.0000, mrr10: 0.0000\n",
      "Query 55: Precision@10: 0.2000, Recall@10: 0.0870, F1@10: 0.1212, AP: 0.7500, nDCG@10: 0.3149, mrr10: 1.0000\n",
      "Query 56: Precision@10: 0.4000, Recall@10: 0.0784, F1@10: 0.1311, AP: 0.4683, nDCG@10: 0.3733, mrr10: 0.5000\n",
      "Query 57: Precision@10: 0.1000, Recall@10: 0.0093, F1@10: 0.0169, AP: 0.1429, nDCG@10: 0.0734, mrr10: 0.1429\n",
      "Query 58: Precision@10: 0.2000, Recall@10: 0.0364, F1@10: 0.0615, AP: 0.5833, nDCG@10: 0.2489, mrr10: 0.5000\n"
     ]
    },
    {
     "name": "stderr",
     "output_type": "stream",
     "text": [
      " 83%|████████▎ | 62/75 [00:03<00:00, 18.74it/s]"
     ]
    },
    {
     "name": "stdout",
     "output_type": "stream",
     "text": [
      "Query 59: Precision@10: 0.2000, Recall@10: 0.0106, F1@10: 0.0201, AP: 0.3929, nDCG@10: 0.2122, mrr10: 0.5000\n",
      "Query 60: Precision@10: 0.1000, Recall@10: 0.0067, F1@10: 0.0126, AP: 1.0000, nDCG@10: 0.2201, mrr10: 1.0000\n",
      "Query 61: Precision@10: 0.1000, Recall@10: 0.0083, F1@10: 0.0154, AP: 1.0000, nDCG@10: 0.2201, mrr10: 1.0000\n",
      "Query 62: Precision@10: 0.1000, Recall@10: 0.0154, F1@10: 0.0267, AP: 0.1429, nDCG@10: 0.0734, mrr10: 0.1429\n"
     ]
    },
    {
     "name": "stderr",
     "output_type": "stream",
     "text": [
      " 88%|████████▊ | 66/75 [00:03<00:00, 18.37it/s]"
     ]
    },
    {
     "name": "stdout",
     "output_type": "stream",
     "text": [
      "Query 63: Precision@10: 0.1000, Recall@10: 0.0286, F1@10: 0.0444, AP: 0.2500, nDCG@10: 0.0948, mrr10: 0.2500\n",
      "Query 64: Precision@10: 0.2000, Recall@10: 0.0308, F1@10: 0.0533, AP: 0.6429, nDCG@10: 0.2935, mrr10: 1.0000\n",
      "Query 65: Precision@10: 0.0000, Recall@10: 0.0000, F1@10: 0.0000, AP: 0.0000, nDCG@10: 0.0000, mrr10: 0.0000\n",
      "Query 66: Precision@10: 0.0000, Recall@10: 0.0000, F1@10: 0.0000, AP: 0.0000, nDCG@10: 0.0000, mrr10: 0.0000\n",
      "Query 67: Precision@10: 0.2000, Recall@10: 0.0333, F1@10: 0.0571, AP: 0.3750, nDCG@10: 0.2083, mrr10: 0.5000\n"
     ]
    },
    {
     "name": "stderr",
     "output_type": "stream",
     "text": [
      " 92%|█████████▏| 69/75 [00:03<00:00, 20.29it/s]"
     ]
    },
    {
     "name": "stdout",
     "output_type": "stream",
     "text": [
      "Query 68: Precision@10: 0.1000, Recall@10: 0.0233, F1@10: 0.0377, AP: 0.2500, nDCG@10: 0.0948, mrr10: 0.2500\n",
      "Query 69: Precision@10: 0.0000, Recall@10: 0.0000, F1@10: 0.0000, AP: 0.0000, nDCG@10: 0.0000, mrr10: 0.0000\n",
      "Query 70: Precision@10: 0.0000, Recall@10: 0.0000, F1@10: 0.0000, AP: 0.0000, nDCG@10: 0.0000, mrr10: 0.0000\n",
      "Query 71: Precision@10: 0.0000, Recall@10: 0.0000, F1@10: 0.0000, AP: 0.0000, nDCG@10: 0.0000, mrr10: 0.0000\n"
     ]
    },
    {
     "name": "stderr",
     "output_type": "stream",
     "text": [
      "100%|██████████| 75/75 [00:04<00:00, 17.61it/s]"
     ]
    },
    {
     "name": "stdout",
     "output_type": "stream",
     "text": [
      "Query 72: Precision@10: 0.0000, Recall@10: 0.0000, F1@10: 0.0000, AP: 0.0000, nDCG@10: 0.0000, mrr10: 0.0000\n",
      "Query 73: Precision@10: 0.0000, Recall@10: 0.0000, F1@10: 0.0000, AP: 0.0000, nDCG@10: 0.0000, mrr10: 0.0000\n",
      "Query 74: Precision@10: 0.2000, Recall@10: 0.1818, F1@10: 0.1905, AP: 0.7500, nDCG@10: 0.3149, mrr10: 1.0000\n",
      "Query 75: Precision@10: 0.0000, Recall@10: 0.0000, F1@10: 0.0000, AP: 0.0000, nDCG@10: 0.0000, mrr10: 0.0000\n",
      "\n",
      "BM25LW - description boosted ^2 - Overall evaluation metrics:\n",
      "Date/time:2025-03-25 12:00:13\n",
      "\n",
      "Threshold = 2\n",
      "Mean Precision@10: 0.1093\n",
      "Mean Recall@10: 0.0200\n",
      "Mean F1@10: 0.0303\n",
      "Mean Average Precision (MAP): 0.2562\n",
      "Mean nDCG@10: 0.1186\n",
      "Mean MRR@10: 0.2857\n",
      "Average total time per query: 0.06 seconds\n",
      "\n",
      "Metrics have been exported to BM25LW Boosted.xlsx\n"
     ]
    },
    {
     "name": "stderr",
     "output_type": "stream",
     "text": [
      "\n"
     ]
    }
   ],
   "source": [
    "import json\n",
    "import numpy as np\n",
    "from elasticsearch import Elasticsearch, helpers\n",
    "from tqdm import tqdm\n",
    "import time\n",
    "import pandas as pd\n",
    "from datetime import datetime\n",
    "\n",
    "# Evaluation Functions\n",
    "def precision_at_k(retrieved, relevant, k):\n",
    "    retrieved_k = retrieved[:k]\n",
    "    total_relevant = len([doc for doc, rel in relevant.items() if rel > 0])\n",
    "    if total_relevant == 0:\n",
    "        return 0.0\n",
    "    correct = sum(1 for doc in retrieved_k if doc in relevant and relevant[doc] > 0)\n",
    "    return correct / k\n",
    "\n",
    "def recall_at_k(retrieved, relevant, k):\n",
    "    retrieved_k = retrieved[:k]\n",
    "    total_relevant = len([doc for doc, rel in relevant.items() if rel > 0])\n",
    "    if total_relevant == 0:\n",
    "        return 0.0\n",
    "    correct = sum(1 for doc in retrieved_k if doc in relevant and relevant[doc] > 0)\n",
    "    return correct / total_relevant\n",
    "\n",
    "def f1_at_k(retrieved, relevant, k):\n",
    "    p = precision_at_k(retrieved, relevant, k)\n",
    "    r = recall_at_k(retrieved, relevant, k)\n",
    "    if p + r == 0:\n",
    "        return 0.0\n",
    "    return 2 * p * r / (p + r)\n",
    "\n",
    "def mrr_at_k(retrieved, relevant, k):\n",
    "    for i, doc_id in enumerate(retrieved_docs[:k], start=1):\n",
    "        if doc_id in relevant_docs and relevant_docs[doc_id] > 0:\n",
    "            return 1.0 / i\n",
    "    return 0.0\n",
    "\n",
    "def average_precision(retrieved, relevant):\n",
    "    if not relevant_docs:\n",
    "        return 0.0\n",
    "    \n",
    "    relevant_indices = [\n",
    "        i for i, doc in enumerate(retrieved_docs)\n",
    "        if doc in relevant_docs and relevant_docs[doc] > 0\n",
    "    ]\n",
    "    if not relevant_indices:\n",
    "        return 0.0\n",
    "    \n",
    "    ap_sum = 0.0\n",
    "    for idx, rank_pos in enumerate(relevant_indices, start=1):\n",
    "        prec = precision_at_k(retrieved_docs, relevant_docs, rank_pos+1)\n",
    "        ap_sum += prec\n",
    "    return ap_sum / len(relevant_indices)\n",
    "\n",
    "def ndcg_at_k(retrieved, relevant, k):\n",
    "    def dcg(scores):\n",
    "        return sum((2**rel - 1) / np.log2(i + 1) for i, rel in enumerate(scores, start=1))\n",
    "    retrieved_scores = [relevant.get(doc, 0) for doc in retrieved[:k]]\n",
    "    ideal_scores = sorted(relevant.values(), reverse=True)[:k]\n",
    "    if not ideal_scores or dcg(ideal_scores) == 0:\n",
    "        return 0.0\n",
    "    return dcg(retrieved_scores) / dcg(ideal_scores)\n",
    "\n",
    "# Define the text-based query search\n",
    "def search_text_based(query_text, K=10):\n",
    "    search_body = {\n",
    "        \"query\": {\n",
    "            \"multi_match\": {\n",
    "                \"query\": query_text,\n",
    "                \"fields\": [\"title\", \"summary\", \"detailed_descrption^2\"]\n",
    "            }\n",
    "        }\n",
    "    }\n",
    "    response = es.search(index=\"ir_dev_index\", body=search_body, size=K)\n",
    "    # Return document IDs stored in _source[\"doc_id\"]\n",
    "    return [hit[\"_source\"][\"doc_id\"] for hit in response['hits']['hits']]\n",
    "\n",
    "# --- Load queries from a JSONL file ---\n",
    "def load_queries(file_path):\n",
    "    queries = {}\n",
    "    with open(file_path, \"r\") as f:\n",
    "        for line in f:\n",
    "            doc = json.loads(line)\n",
    "            queries[doc[\"query_id\"]] = doc[\"text\"].strip()\n",
    "    return queries\n",
    "\n",
    "# Load qrels from a JSONL file \n",
    "def load_qrels(file_path):\n",
    "    qrels = {}\n",
    "    with open(file_path, \"r\") as f:\n",
    "        for line in f:\n",
    "            doc = json.loads(line)\n",
    "            qid = doc[\"query_id\"]\n",
    "            relevance = int(doc.get(\"relevance\", 0))\n",
    "            # Only keep documents meeting the threshold; else, assign 0. (for evaluation only)\n",
    "            relevance = relevance if relevance >= RELEVANCE_THRESHOLD else 0\n",
    "            if qid not in qrels:\n",
    "                qrels[qid] = {}\n",
    "            qrels[qid][doc[\"doc_id\"]] = relevance\n",
    "    return qrels\n",
    "\n",
    "RELEVANCE_THRESHOLD = 2  # Only documents with relevance >= 2 are considered relevant during evaluation\n",
    "K = 10  # Top-K documents for evaluation\n",
    "\n",
    "# Filter qrels based on relevance threshold for evaluation\n",
    "def get_relevant_docs(qrel_dict, threshold=RELEVANCE_THRESHOLD):\n",
    "    return {doc_id: rel for doc_id, rel in qrel_dict.items() if rel >= threshold}\n",
    "\n",
    "# For ndcg calculation\n",
    "def get_all_docs(qrel_dict):\n",
    "    \"\"\"Return the entire dictionary of {doc_id: relevance}, including relevance=0.\"\"\"\n",
    "    return {doc_id: rel for doc_id, rel in qrel_dict.items()}\n",
    "\n",
    "\n",
    "if __name__ == \"__main__\":\n",
    "    queries_file = \"trec_ct_2021_query.jsonl\"\n",
    "    qrels_file = \"trec_ct_2021_qrels.jsonl\"\n",
    "\n",
    "    # Load queries and qrels.\n",
    "    queries = load_queries(queries_file)\n",
    "    qrels = load_qrels(qrels_file)\n",
    "\n",
    "    all_metrics = []\n",
    "\n",
    "    print(\"BM25LW - Processing queries and computing evaluation metrics...\")\n",
    "    for qid, qtext in tqdm(queries.items(), total=len(queries)):\n",
    "        if not qtext:\n",
    "            continue\n",
    "        \n",
    "         #Track total time\n",
    "        start_time = time.time()\n",
    "        \n",
    "        # Retrieve top-K documents using text-based search.\n",
    "        retrieved_docs = search_text_based(qtext, K=K)\n",
    "        \n",
    "        # Mark the end time for entire query processing\n",
    "        total_time = time.time() - start_time\n",
    "\n",
    "        # Get relevant docs for this query using the relevance threshold.\n",
    "        relevant_docs = get_relevant_docs(qrels.get(qid, {}), threshold=RELEVANCE_THRESHOLD)\n",
    "\n",
    "        #All docs retrieved (i.e no threshold) to compute nDCG based on graded relevance 0,1,2\n",
    "        ndcg_relevant_docs = get_all_docs(qrels.get(qid, {}))\n",
    "        \n",
    "        # Compute evaluation measures.\n",
    "        prec = precision_at_k(retrieved_docs, relevant_docs, K)\n",
    "        rec = recall_at_k(retrieved_docs, relevant_docs, K)\n",
    "        f1 = f1_at_k(retrieved_docs, relevant_docs, K)\n",
    "        ap = average_precision(retrieved_docs, relevant_docs)\n",
    "        ndcg = ndcg_at_k(retrieved_docs, ndcg_relevant_docs, K)\n",
    "        mrr_val = mrr_at_k(retrieved_docs, relevant_docs, K)\n",
    "\n",
    "        metrics = {\n",
    "            \"query_id\": qid,\n",
    "            \"precision\": prec,\n",
    "            \"recall\": rec,\n",
    "            \"f1\": f1,\n",
    "            \"average_precision\": ap,\n",
    "            \"ndcg\": ndcg,\n",
    "            \"mrr\": mrr_val,\n",
    "            \"time_seconds\": total_time\n",
    "        }\n",
    "        all_metrics.append(metrics)\n",
    "        print(f\"Query {qid}: Precision@{K}: {prec:.4f}, Recall@{K}: {rec:.4f}, F1@{K}: {f1:.4f}, AP: {ap:.4f}, nDCG@{K}: {ndcg:.4f}, mrr{K}: {mrr_val:.4f}\")\n",
    "\n",
    "    # Compute overall evaluation metrics.\n",
    "    if all_metrics:\n",
    "        avg_precision = np.mean([m[\"precision\"] for m in all_metrics])\n",
    "        avg_recall = np.mean([m[\"recall\"] for m in all_metrics])\n",
    "        avg_f1 = np.mean([m[\"f1\"] for m in all_metrics])\n",
    "        mean_ap = np.mean([m[\"average_precision\"] for m in all_metrics])\n",
    "        mean_ndcg = np.mean([m[\"ndcg\"] for m in all_metrics])\n",
    "        mean_mrr = np.mean([m[\"mrr\"] for m in all_metrics])\n",
    "        avg_time = np.mean([m[\"time_seconds\"] for m in all_metrics])\n",
    "\n",
    "        print(\"\\nBM25LW - description boosted ^2 - Overall evaluation metrics:\")\n",
    "        current_time = datetime.now().strftime(\"%Y-%m-%d %H:%M:%S\")\n",
    "        print(f\"Date/time:{current_time}\")\n",
    "        print(f\"\\nThreshold = {RELEVANCE_THRESHOLD}\")\n",
    "        print(f\"Mean Precision@{K}: {avg_precision:.4f}\")\n",
    "        print(f\"Mean Recall@{K}: {avg_recall:.4f}\")\n",
    "        print(f\"Mean F1@{K}: {avg_f1:.4f}\")\n",
    "        print(f\"Mean Average Precision (MAP): {mean_ap:.4f}\")\n",
    "        print(f\"Mean nDCG@{K}: {mean_ndcg:.4f}\")\n",
    "        print(f\"Mean MRR@{K}: {mean_mrr:.4f}\")\n",
    "        print(f\"Average total time per query: {avg_time:.2f} seconds\")\n",
    "    else:\n",
    "        print(\"No queries processed.\")\n",
    "\n",
    "    # Create a DataFrame to export the computed results for all queries\n",
    "data = {\n",
    "    \"Test\": \"BM25LW Boosted\",\n",
    "    \"Date/Time\": [current_time],\n",
    "    \"Relevance Threshold\": [RELEVANCE_THRESHOLD],\n",
    "    f\"Mean Precision@{K}\": [avg_precision],\n",
    "    f\"Mean Recall@{K}\": [avg_recall],\n",
    "    f\"Mean F1@{K}\": [avg_f1],\n",
    "    \"Mean Average Precision (MAP)\": [mean_ap],\n",
    "    f\"Mean nDCG@{K}\": [mean_ndcg],\n",
    "    f\"Mean MRR@{K}\": [mean_mrr],\n",
    "    \"Avg Time per Query (s)\": [avg_time],\n",
    "}\n",
    "df = pd.DataFrame(data)\n",
    "\n",
    "# Export to an Excel file\n",
    "xlsx_filename = \"BM25LW Boosted.xlsx\"\n",
    "df.to_excel(xlsx_filename, index=False)\n",
    "\n",
    "print(f\"\\nMetrics have been exported to {xlsx_filename}\")\n"
   ]
  }
 ],
 "metadata": {
  "kernelspec": {
   "display_name": "Python 3",
   "language": "python",
   "name": "python3"
  },
  "language_info": {
   "codemirror_mode": {
    "name": "ipython",
    "version": 3
   },
   "file_extension": ".py",
   "mimetype": "text/x-python",
   "name": "python",
   "nbconvert_exporter": "python",
   "pygments_lexer": "ipython3",
   "version": "3.13.0"
  }
 },
 "nbformat": 4,
 "nbformat_minor": 2
}
