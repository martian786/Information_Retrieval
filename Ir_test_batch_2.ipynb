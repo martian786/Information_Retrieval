{
 "cells": [
  {
   "cell_type": "markdown",
   "metadata": {},
   "source": [
    "Zuveir Jameer\n",
    "\n",
    "8 April 2025\n",
    "\n",
    "Batch 2 which contains 5 search engines.\n",
    "\n",
    "The code below are to run the 75 queries against an Elasticsearch instance which contains TREC 2021 Clinical Trials data\n",
    "The Elasticsearch instance contains ~26,000 indexed documents.\n",
    "\n",
    "In the code below you will run searches using the following:\n",
    "1. BM25 as initial search and re-ranking using semantic search on sentence embeddings of 'detailed_descrption'\n",
    "2. Bi-encoder as initial search and cross-encoding reranking with Cohere PI\n",
    "3. Bi-encoder as initial search and custom built cross-encoding reranking\n",
    "4. Semantic search only with sentence encoder \n"
   ]
  },
  {
   "cell_type": "code",
   "execution_count": 1,
   "metadata": {},
   "outputs": [],
   "source": [
    "from pprint import pprint\n",
    "from elasticsearch import Elasticsearch, helpers\n",
    "from credentials import USERNAME, PASSWORD\n",
    "import json"
   ]
  },
  {
   "cell_type": "code",
   "execution_count": 2,
   "metadata": {},
   "outputs": [],
   "source": [
    "CERT_FINGERPRINT = \"24a71503f93ed6e422bc8782254a826382fadd83ca09234fa7c0297173132530\""
   ]
  },
  {
   "cell_type": "code",
   "execution_count": 3,
   "metadata": {},
   "outputs": [],
   "source": [
    "# Connect using API KEY\n",
    "es = Elasticsearch(\"https://localhost:9200\",api_key=\"eHdSWmo1VUJOYkdYV0x0X3QyTnY6cU9kQVJ1Y0VRdmFWSTc5bzB6THoxUQ==\",ssl_assert_fingerprint=CERT_FINGERPRINT,)"
   ]
  },
  {
   "cell_type": "code",
   "execution_count": 4,
   "metadata": {},
   "outputs": [],
   "source": [
    "# Connect using credentials and ssl fingerprint\n",
    "es = Elasticsearch(\"https://localhost:9200\",basic_auth=(USERNAME, PASSWORD),ssl_assert_fingerprint=CERT_FINGERPRINT)"
   ]
  },
  {
   "cell_type": "code",
   "execution_count": 5,
   "metadata": {},
   "outputs": [
    {
     "name": "stdout",
     "output_type": "stream",
     "text": [
      "Connected to elasticsearch\n",
      "{'cluster_name': 'docker-cluster',\n",
      " 'cluster_uuid': 'daxPe0rzR9Gx5iOkHZsZTQ',\n",
      " 'name': '200fd7a2e004',\n",
      " 'tagline': 'You Know, for Search',\n",
      " 'version': {'build_date': '2025-02-28T10:07:26.089129809Z',\n",
      "             'build_flavor': 'default',\n",
      "             'build_hash': 'a091390de485bd4b127884f7e565c0cad59b10d2',\n",
      "             'build_snapshot': False,\n",
      "             'build_type': 'docker',\n",
      "             'lucene_version': '9.12.0',\n",
      "             'minimum_index_compatibility_version': '7.0.0',\n",
      "             'minimum_wire_compatibility_version': '7.17.0',\n",
      "             'number': '8.17.3'}}\n"
     ]
    }
   ],
   "source": [
    "client_info = es.info()\n",
    "print('Connected to elasticsearch')\n",
    "pprint(client_info.body)"
   ]
  },
  {
   "cell_type": "code",
   "execution_count": 19,
   "metadata": {},
   "outputs": [
    {
     "data": {
      "text/plain": [
       "ObjectApiResponse({'count': 26162, '_shards': {'total': 2, 'successful': 2, 'skipped': 0, 'failed': 0}})"
      ]
     },
     "execution_count": 19,
     "metadata": {},
     "output_type": "execute_result"
    }
   ],
   "source": [
    "es.count(index=\"ir_dev_sentence_index\") #Number of documents in Elasticsearch"
   ]
  },
  {
   "cell_type": "code",
   "execution_count": 7,
   "metadata": {},
   "outputs": [
    {
     "name": "stderr",
     "output_type": "stream",
     "text": [
      "/Library/Frameworks/Python.framework/Versions/3.13/lib/python3.13/site-packages/tqdm/auto.py:21: TqdmWarning: IProgress not found. Please update jupyter and ipywidgets. See https://ipywidgets.readthedocs.io/en/stable/user_install.html\n",
      "  from .autonotebook import tqdm as notebook_tqdm\n"
     ]
    }
   ],
   "source": [
    "from elasticsearch import Elasticsearch, helpers\n",
    "from transformers import AutoTokenizer, AutoModel\n",
    "import torch\n",
    "import torch.nn.functional as F\n",
    "import numpy as np\n",
    "from tqdm import tqdm  # Progress bar\n",
    "# from sentence_transformers import SentenceTransformer\n",
    "\n",
    "# Load model from HuggingFace Hub\n",
    "tokenizer = AutoTokenizer.from_pretrained('sentence-transformers/all-mpnet-base-v2')\n",
    "model = AutoModel.from_pretrained('sentence-transformers/all-mpnet-base-v2')\n",
    "\n",
    "def mean_pooling(model_output, attention_mask):\n",
    "    token_embeddings = model_output[0] #First element of model_output contains all token embeddings\n",
    "    input_mask_expanded = attention_mask.unsqueeze(-1).expand(token_embeddings.size()).float()\n",
    "    return torch.sum(token_embeddings * input_mask_expanded, 1) / torch.clamp(input_mask_expanded.sum(1), min=1e-9)\n",
    "\n",
    "\n",
    "def get_embedding(text):\n",
    "    \"\"\"\n",
    "    Compute the embedding for the given text using all-mpnet-base-v2 and mean pooling.\n",
    "    Returns the embedding as a list of floats.\n",
    "    \"\"\"\n",
    "    encoded_input = tokenizer(\n",
    "        text,\n",
    "        padding=\"max_length\",\n",
    "        truncation=True,\n",
    "        max_length=512,\n",
    "        return_tensors=\"pt\"\n",
    "    )\n",
    "    with torch.no_grad():\n",
    "        model_output = model(**encoded_input)\n",
    "    embedding_temp = mean_pooling(model_output, encoded_input['attention_mask'])\n",
    "    # Normalize the embedding to unit length\n",
    "    embedding = F.normalize(embedding_temp, p=2, dim=1)\n",
    "    # CHANGE: Convert tensor to list for further usage (e.g., storing in ES)\n",
    "    return embedding[0].cpu().numpy().tolist()"
   ]
  },
  {
   "cell_type": "markdown",
   "metadata": {},
   "source": [
    "### Search on sentence embeddings only "
   ]
  },
  {
   "cell_type": "code",
   "execution_count": null,
   "metadata": {},
   "outputs": [
    {
     "name": "stdout",
     "output_type": "stream",
     "text": [
      "Semantic-Only Retrieval (sentence embeddings)...\n"
     ]
    },
    {
     "name": "stderr",
     "output_type": "stream",
     "text": [
      "  1%|▏         | 1/75 [00:00<00:21,  3.38it/s]"
     ]
    },
    {
     "name": "stdout",
     "output_type": "stream",
     "text": [
      "Time taken to retrieve (ES only): 13 ms\n",
      "Query 1 retrieved: ['NCT00003470', 'NCT01502241', 'NCT00003537', 'NCT00003621', 'NCT00003471', 'NCT00004259', 'NCT00783393', 'NCT00003775', 'NCT03906448', 'NCT00033280', 'NCT02755987', 'NCT00028795', 'NCT03633552', 'NCT00841555', 'NCT00003375', 'NCT00473408', 'NCT00002569', 'NCT00003465', 'NCT00360828', 'NCT03022578', 'NCT00004068', 'NCT00004017', 'NCT03668522', 'NCT03641443', 'NCT00362570', 'NCT00003842', 'NCT01847235', 'NCT00003176', 'NCT00717210', 'NCT00360945', 'NCT00301418', 'NCT00761280', 'NCT00400816', 'NCT00631670', 'NCT00052624', 'NCT00430911', 'NCT00007982', 'NCT00978458', 'NCT03528642', 'NCT03224104']\n",
      " Query 1: Precision@10: 0.4000, Recall@10: 0.0851, F1@10: 0.1404, AP: 0.5880, nDCG@10: 0.6502, mrr@10: 1.0000\n",
      "  Total time for query: 0.30 seconds\n",
      "Time taken to retrieve (ES only): 5 ms\n"
     ]
    },
    {
     "name": "stderr",
     "output_type": "stream",
     "text": [
      "  3%|▎         | 2/75 [00:00<00:17,  4.10it/s]"
     ]
    },
    {
     "name": "stdout",
     "output_type": "stream",
     "text": [
      "Query 2 retrieved: ['NCT03628313', 'NCT02753023', 'NCT02395107', 'NCT03332745', 'NCT01157572', 'NCT02010177', 'NCT04061213', 'NCT03863132', 'NCT02792452', 'NCT00590135', 'NCT02531581', 'NCT04140019', 'NCT01980797', 'NCT01575249', 'NCT00624884', 'NCT02316587', 'NCT04344353', 'NCT02344199', 'NCT03867708', 'NCT04144725', 'NCT01419015', 'NCT01458860', 'NCT00294775', 'NCT01845285', 'NCT02624934', 'NCT01275339', 'NCT00699452', 'NCT04444024', 'NCT02283970', 'NCT01756222', 'NCT02146755', 'NCT01636427', 'NCT02448485', 'NCT04026542', 'NCT02481258', 'NCT03049995', 'NCT02806310', 'NCT01579058', 'NCT00176410', 'NCT02241109']\n",
      " Query 2: Precision@10: 0.3000, Recall@10: 0.0217, F1@10: 0.0405, AP: 0.4247, nDCG@10: 0.5271, mrr@10: 1.0000\n",
      "  Total time for query: 0.21 seconds\n"
     ]
    },
    {
     "name": "stderr",
     "output_type": "stream",
     "text": [
      "  4%|▍         | 3/75 [00:00<00:16,  4.34it/s]"
     ]
    },
    {
     "name": "stdout",
     "output_type": "stream",
     "text": [
      "Time taken to retrieve (ES only): 11 ms\n",
      "Query 3 retrieved: ['NCT03995823', 'NCT02098252', 'NCT04569279', 'NCT00363662', 'NCT04329208', 'NCT01158807', 'NCT02394678', 'NCT04037267', 'NCT03532165', 'NCT03291652', 'NCT04572568', 'NCT04567277', 'NCT02775318', 'NCT03150524', 'NCT03691870', 'NCT00235248', 'NCT03477188', 'NCT00029315', 'NCT03676868', 'NCT01856699', 'NCT02314377', 'NCT03070067', 'NCT02475226', 'NCT04617808', 'NCT01470040', 'NCT02742272', 'NCT02884141', 'NCT04772963', 'NCT04642443', 'NCT01737723', 'NCT02334657', 'NCT01391091', 'NCT02863133', 'NCT04297033', 'NCT04136860', 'NCT02427009', 'NCT03010709', 'NCT02180204', 'NCT01830894', 'NCT03536936']\n",
      " Query 3: Precision@10: 0.3000, Recall@10: 0.0938, F1@10: 0.1429, AP: 0.5006, nDCG@10: 0.4782, mrr@10: 1.0000\n",
      "  Total time for query: 0.21 seconds\n"
     ]
    },
    {
     "name": "stderr",
     "output_type": "stream",
     "text": [
      "  5%|▌         | 4/75 [00:00<00:16,  4.32it/s]"
     ]
    },
    {
     "name": "stdout",
     "output_type": "stream",
     "text": [
      "Time taken to retrieve (ES only): 13 ms\n",
      "Query 4 retrieved: ['NCT02012088', 'NCT01009970', 'NCT00577798', 'NCT02776891', 'NCT00392834', 'NCT03995147', 'NCT00689845', 'NCT01786018', 'NCT04759586', 'NCT01359592', 'NCT00486759', 'NCT03697512', 'NCT01046825', 'NCT00040690', 'NCT01390584', 'NCT01856192', 'NCT04112238', 'NCT00003337', 'NCT00455286', 'NCT00944567', 'NCT04472468', 'NCT04739813', 'NCT02670317', 'NCT01592981', 'NCT04333524', 'NCT03884426', 'NCT01113268', 'NCT03048097', 'NCT03323151', 'NCT04657224', 'NCT03677154', 'NCT00132613', 'NCT00532259', 'NCT01071928', 'NCT02054052', 'NCT04062877', 'NCT01854372', 'NCT01502982', 'NCT01092182', 'NCT04521790']\n",
      " Query 4: Precision@10: 0.0000, Recall@10: 0.0000, F1@10: 0.0000, AP: 0.1703, nDCG@10: 0.0284, mrr@10: 0.0000\n",
      "  Total time for query: 0.23 seconds\n"
     ]
    },
    {
     "name": "stderr",
     "output_type": "stream",
     "text": [
      "  7%|▋         | 5/75 [00:01<00:16,  4.28it/s]"
     ]
    },
    {
     "name": "stdout",
     "output_type": "stream",
     "text": [
      "Time taken to retrieve (ES only): 40 ms\n",
      "Query 5 retrieved: ['NCT00287508', 'NCT00235248', 'NCT03477188', 'NCT03070067', 'NCT01114815', 'NCT04825080', 'NCT04431609', 'NCT02310191', 'NCT03344276', 'NCT03291652', 'NCT02141932', 'NCT01799070', 'NCT00514592', 'NCT03721523', 'NCT02961127', 'NCT03377465', 'NCT01208025', 'NCT01599195', 'NCT01263301', 'NCT03702244', 'NCT03229174', 'NCT01442181', 'NCT01284933', 'NCT03840265', 'NCT01252875', 'NCT04679987', 'NCT04162587', 'NCT03788512', 'NCT03495830', 'NCT03969511', 'NCT03670862', 'NCT02533778', 'NCT01737723', 'NCT00247533', 'NCT00417963', 'NCT01738412', 'NCT01591005', 'NCT01496651', 'NCT01414387', 'NCT03150524']\n",
      " Query 5: Precision@10: 0.3000, Recall@10: 0.0252, F1@10: 0.0465, AP: 0.3414, nDCG@10: 0.3647, mrr@10: 1.0000\n",
      "  Total time for query: 0.24 seconds\n"
     ]
    },
    {
     "name": "stderr",
     "output_type": "stream",
     "text": [
      "  8%|▊         | 6/75 [00:01<00:15,  4.42it/s]"
     ]
    },
    {
     "name": "stdout",
     "output_type": "stream",
     "text": [
      "Time taken to retrieve (ES only): 14 ms\n",
      "Query 6 retrieved: ['NCT01346059', 'NCT02076438', 'NCT00402727', 'NCT00269399', 'NCT03795233', 'NCT04090346', 'NCT00446355', 'NCT04083443', 'NCT01226992', 'NCT02667418', 'NCT03988855', 'NCT03039777', 'NCT03141775', 'NCT04170309', 'NCT00707213', 'NCT00404625', 'NCT00913042', 'NCT02987790', 'NCT02951481', 'NCT01114165', 'NCT00000641', 'NCT00861887', 'NCT02200328', 'NCT02237859', 'NCT03030248', 'NCT01227109', 'NCT03964844', 'NCT01345929', 'NCT00177775', 'NCT00305149', 'NCT01149707', 'NCT04138706', 'NCT00617227', 'NCT00020865', 'NCT03005379', 'NCT00435526', 'NCT00363220', 'NCT02636647', 'NCT02261506', 'NCT00002331']\n",
      " Query 6: Precision@10: 0.3000, Recall@10: 0.0256, F1@10: 0.0472, AP: 0.4970, nDCG@10: 0.3933, mrr@10: 1.0000\n",
      "  Total time for query: 0.21 seconds\n"
     ]
    },
    {
     "name": "stderr",
     "output_type": "stream",
     "text": [
      "  9%|▉         | 7/75 [00:01<00:15,  4.35it/s]"
     ]
    },
    {
     "name": "stdout",
     "output_type": "stream",
     "text": [
      "Time taken to retrieve (ES only): 17 ms\n",
      "Query 7 retrieved: ['NCT02377947', 'NCT03513900', 'NCT00740142', 'NCT03212872', 'NCT00281502', 'NCT03987893', 'NCT03513887', 'NCT01882855', 'NCT03954327', 'NCT02616705', 'NCT02649335', 'NCT00587197', 'NCT03451292', 'NCT04736836', 'NCT03161106', 'NCT01383460', 'NCT00380614', 'NCT03023189', 'NCT00553423', 'NCT01970748', 'NCT01931826', 'NCT01213927', 'NCT02464124', 'NCT01384565', 'NCT02086825', 'NCT02066649', 'NCT04082780', 'NCT01110447', 'NCT03585257', 'NCT03520660', 'NCT04790435', 'NCT02095587', 'NCT02026609', 'NCT02019784', 'NCT04850547', 'NCT03448770', 'NCT04711122', 'NCT02528760', 'NCT03837444', 'NCT00751426']\n",
      " Query 7: Precision@10: 0.5000, Recall@10: 0.0400, F1@10: 0.0741, AP: 0.4437, nDCG@10: 0.4616, mrr@10: 0.5000\n",
      "  Total time for query: 0.24 seconds\n"
     ]
    },
    {
     "name": "stderr",
     "output_type": "stream",
     "text": [
      " 11%|█         | 8/75 [00:01<00:14,  4.47it/s]"
     ]
    },
    {
     "name": "stdout",
     "output_type": "stream",
     "text": [
      "Time taken to retrieve (ES only): 11 ms\n",
      "Query 8 retrieved: ['NCT02138786', 'NCT00800943', 'NCT00309881', 'NCT01171378', 'NCT02535286', 'NCT03907670', 'NCT04271956', 'NCT04660045', 'NCT01723839', 'NCT01110850', 'NCT02582320', 'NCT03153514', 'NCT01576588', 'NCT03495492', 'NCT03892044', 'NCT00086840', 'NCT03619512', 'NCT02420912', 'NCT00868478', 'NCT00074282', 'NCT00935792', 'NCT02690922', 'NCT00609869', 'NCT03899337', 'NCT03609593', 'NCT03117010', 'NCT02950051', 'NCT00133991', 'NCT00345345', 'NCT00391066', 'NCT03145480', 'NCT00751296', 'NCT04811950', 'NCT02222688', 'NCT01024010', 'NCT02377869', 'NCT00794820', 'NCT01041040', 'NCT03417414', 'NCT01414205']\n",
      " Query 8: Precision@10: 0.6000, Recall@10: 0.0652, F1@10: 0.1176, AP: 0.6451, nDCG@10: 0.7386, mrr@10: 1.0000\n",
      "  Total time for query: 0.21 seconds\n"
     ]
    },
    {
     "name": "stderr",
     "output_type": "stream",
     "text": [
      " 12%|█▏        | 9/75 [00:02<00:14,  4.57it/s]"
     ]
    },
    {
     "name": "stdout",
     "output_type": "stream",
     "text": [
      "Time taken to retrieve (ES only): 13 ms\n",
      "Query 9 retrieved: ['NCT02365610', 'NCT04153175', 'NCT02899611', 'NCT04542629', 'NCT01126307', 'NCT00056576', 'NCT01991041', 'NCT00165828', 'NCT00013845', 'NCT00236847', 'NCT00520741', 'NCT00236860', 'NCT00236873', 'NCT01392768', 'NCT01332539', 'NCT04513860', 'NCT02369471', 'NCT01393743', 'NCT00236730', 'NCT01284556', 'NCT03478852', 'NCT01769092', 'NCT00207935', 'NCT03179891', 'NCT02726919', 'NCT01978470', 'NCT03457961', 'NCT00510783', 'NCT03653741', 'NCT03025906', 'NCT01320670', 'NCT03739840', 'NCT03643471', 'NCT01662453', 'NCT03517423', 'NCT00152503', 'NCT01431963', 'NCT03166215', 'NCT02408523', 'NCT00376766']\n",
      " Query 9: Precision@10: 0.1000, Recall@10: 0.0769, F1@10: 0.0870, AP: 0.0913, nDCG@10: 0.3215, mrr@10: 0.1111\n",
      "  Total time for query: 0.21 seconds\n"
     ]
    },
    {
     "name": "stderr",
     "output_type": "stream",
     "text": [
      " 13%|█▎        | 10/75 [00:02<00:14,  4.63it/s]"
     ]
    },
    {
     "name": "stdout",
     "output_type": "stream",
     "text": [
      "Time taken to retrieve (ES only): 13 ms\n",
      "Query 10 retrieved: ['NCT03731260', 'NCT00132015', 'NCT00769587', 'NCT02380222', 'NCT00457288', 'NCT03401060', 'NCT00233454', 'NCT03770273', 'NCT04615663', 'NCT00044122', 'NCT00814073', 'NCT02441166', 'NCT02808793', 'NCT00429533', 'NCT02415608', 'NCT03580655', 'NCT01920204', 'NCT01266369', 'NCT01807598', 'NCT00001756', 'NCT01333293', 'NCT00047918', 'NCT04333108', 'NCT02620254', 'NCT00001356', 'NCT03724903', 'NCT04811365', 'NCT01481909', 'NCT00050193', 'NCT00336076', 'NCT01602939', 'NCT00219492', 'NCT00006413', 'NCT03323346', 'NCT01266317', 'NCT00890162', 'NCT01297777', 'NCT00602784', 'NCT04439955', 'NCT03040401']\n",
      " Query 10: Precision@10: 0.1000, Recall@10: 0.0909, F1@10: 0.0952, AP: 0.1803, nDCG@10: 0.3474, mrr@10: 0.1000\n",
      "  Total time for query: 0.21 seconds\n",
      "Time taken to retrieve (ES only): 12 ms\n",
      "Query 11 retrieved: ['NCT02724176', 'NCT02408887', 'NCT02814032', 'NCT03830242', 'NCT02548715', 'NCT03669432', 'NCT01103557', 'NCT01106443', 'NCT01510002', 'NCT03570021', 'NCT01428167', 'NCT03359668', 'NCT01075269', 'NCT01089335', 'NCT04076514', 'NCT04424485', 'NCT03813706', 'NCT02138214', 'NCT02648399', 'NCT04336696', 'NCT03845647', 'NCT04842942', 'NCT04601298', 'NCT01374659', 'NCT02602717', 'NCT04759911', 'NCT02418390', 'NCT02609685', 'NCT03327636', 'NCT04624477', 'NCT03436186', 'NCT00795782', 'NCT03079193', 'NCT01974284', 'NCT03170804', 'NCT04410601', 'NCT04522570', 'NCT00804830', 'NCT04666103', 'NCT04376203']\n",
      " Query 11: Precision@10: 0.0000, Recall@10: 0.0000, F1@10: 0.0000, AP: 0.0488, nDCG@10: 0.2818, mrr@10: 0.0000\n",
      "  Total time for query: 0.20 seconds\n"
     ]
    },
    {
     "name": "stderr",
     "output_type": "stream",
     "text": [
      " 16%|█▌        | 12/75 [00:02<00:13,  4.76it/s]"
     ]
    },
    {
     "name": "stdout",
     "output_type": "stream",
     "text": [
      "Time taken to retrieve (ES only): 12 ms\n",
      "Query 12 retrieved: ['NCT01678144', 'NCT04820764', 'NCT04350372', 'NCT04259411', 'NCT04774172', 'NCT02033811', 'NCT04161079', 'NCT03012178', 'NCT04080362', 'NCT02719912', 'NCT03271762', 'NCT03389542', 'NCT03511716', 'NCT04156295', 'NCT03958773', 'NCT03706833', 'NCT04029363', 'NCT01431222', 'NCT00209274', 'NCT01703806', 'NCT03714412', 'NCT04147884', 'NCT04818502', 'NCT01295047', 'NCT01708265', 'NCT02768402', 'NCT03155373', 'NCT00608140', 'NCT04009434', 'NCT04776681', 'NCT03975998', 'NCT01626079', 'NCT04029337', 'NCT00807040', 'NCT03433274', 'NCT00209339', 'NCT01156441', 'NCT03470155', 'NCT02722551', 'NCT03661398']\n",
      " Query 12: Precision@10: 0.7000, Recall@10: 0.0673, F1@10: 0.1228, AP: 0.6836, nDCG@10: 0.7314, mrr@10: 1.0000\n",
      "  Total time for query: 0.20 seconds\n",
      "Time taken to retrieve (ES only): 12 ms\n",
      "Query 13 retrieved: ['NCT00037921', 'NCT03190421', 'NCT02384200', 'NCT03931408', 'NCT02594631', 'NCT04495699', 'NCT04781985', 'NCT01083979', 'NCT00722735', 'NCT04071340', 'NCT02419339', 'NCT01628900', 'NCT00554996', 'NCT03048682', 'NCT01979042', 'NCT02929160', 'NCT01563796', 'NCT01305681', 'NCT01661621', 'NCT02497781', 'NCT02942641', 'NCT02323087', 'NCT03861260', 'NCT04055675', 'NCT04764903', 'NCT01349738', 'NCT01657409', 'NCT01733290', 'NCT00169754', 'NCT02789579', 'NCT02524236', 'NCT04667195', 'NCT03680612', 'NCT01420354', 'NCT02305342', 'NCT03282006', 'NCT04228081', 'NCT03353571', 'NCT03080389', 'NCT02044965']\n",
      " Query 13: Precision@10: 0.0000, Recall@10: 0.0000, F1@10: 0.0000, AP: 0.0712, nDCG@10: 0.0000, mrr@10: 0.0000\n",
      "  Total time for query: 0.20 seconds\n"
     ]
    },
    {
     "name": "stderr",
     "output_type": "stream",
     "text": [
      " 19%|█▊        | 14/75 [00:03<00:12,  4.78it/s]"
     ]
    },
    {
     "name": "stdout",
     "output_type": "stream",
     "text": [
      "Time taken to retrieve (ES only): 7 ms\n",
      "Query 14 retrieved: ['NCT00380068', 'NCT01707225', 'NCT02062554', 'NCT02657356', 'NCT00004492', 'NCT01165528', 'NCT02279745', 'NCT02691533', 'NCT02275936', 'NCT01972477', 'NCT00938977', 'NCT03229174', 'NCT01215136', 'NCT00993408', 'NCT04501874', 'NCT02268630', 'NCT04782856', 'NCT03451734', 'NCT02627664', 'NCT02441491', 'NCT01266317', 'NCT00004493', 'NCT02742129', 'NCT01556646', 'NCT04575194', 'NCT01581996', 'NCT00004694', 'NCT00371293', 'NCT01657487', 'NCT00679549', 'NCT01362777', 'NCT00614809', 'NCT04688125', 'NCT01071928', 'NCT03449524', 'NCT00517933', 'NCT00537173', 'NCT00879359', 'NCT02340520', 'NCT02498535']\n",
      " Query 14: Precision@10: 0.0000, Recall@10: 0.0000, F1@10: 0.0000, AP: 0.0909, nDCG@10: 0.0000, mrr@10: 0.0000\n",
      "  Total time for query: 0.21 seconds\n",
      "Time taken to retrieve (ES only): 9 ms\n",
      "Query 15 retrieved: ['NCT03259880', 'NCT01563133', 'NCT02068677', 'NCT02703545', 'NCT01774162', 'NCT03022110', 'NCT01773031', 'NCT00587132', 'NCT03411629', 'NCT02343692', 'NCT03354065', 'NCT02487277', 'NCT02422095', 'NCT03320733', 'NCT01276886', 'NCT01526590', 'NCT01371240', 'NCT04196504', 'NCT04570852', 'NCT03303352', 'NCT02563080', 'NCT04735055', 'NCT03173118', 'NCT01997476', 'NCT01807325', 'NCT02078245', 'NCT01764503', 'NCT04623749', 'NCT01241799', 'NCT00673374', 'NCT00359320', 'NCT04552028', 'NCT03062124', 'NCT00689715', 'NCT01583517', 'NCT01442441', 'NCT04231279', 'NCT04253249', 'NCT04289961', 'NCT02355483']\n",
      " Query 15: Precision@10: 0.3000, Recall@10: 0.0210, F1@10: 0.0392, AP: 0.3904, nDCG@10: 0.3419, mrr@10: 0.5000\n",
      "  Total time for query: 0.21 seconds\n"
     ]
    },
    {
     "name": "stderr",
     "output_type": "stream",
     "text": [
      " 21%|██▏       | 16/75 [00:03<00:12,  4.84it/s]"
     ]
    },
    {
     "name": "stdout",
     "output_type": "stream",
     "text": [
      "Time taken to retrieve (ES only): 11 ms\n",
      "Query 16 retrieved: ['NCT00517933', 'NCT00946114', 'NCT01441934', 'NCT01936350', 'NCT00145938', 'NCT02435303', 'NCT01043627', 'NCT00795639', 'NCT03460470', 'NCT01726049', 'NCT00380068', 'NCT00454207', 'NCT00763867', 'NCT00793338', 'NCT00302211', 'NCT01449253', 'NCT01616381', 'NCT00303004', 'NCT02060487', 'NCT01365585', 'NCT00407446', 'NCT00159913', 'NCT01046838', 'NCT00352430', 'NCT01179334', 'NCT00303459', 'NCT00730067', 'NCT00309790', 'NCT04676646', 'NCT02024386', 'NCT03185364', 'NCT02275936', 'NCT00159861', 'NCT00492531', 'NCT01954524', 'NCT04538976', 'NCT01313637', 'NCT01313650', 'NCT00993408', 'NCT01431313']\n",
      " Query 16: Precision@10: 0.2000, Recall@10: 0.0323, F1@10: 0.0556, AP: 0.2254, nDCG@10: 0.2415, mrr@10: 0.2500\n",
      "  Total time for query: 0.20 seconds\n"
     ]
    },
    {
     "name": "stderr",
     "output_type": "stream",
     "text": [
      " 23%|██▎       | 17/75 [00:03<00:12,  4.82it/s]"
     ]
    },
    {
     "name": "stdout",
     "output_type": "stream",
     "text": [
      "Time taken to retrieve (ES only): 17 ms\n",
      "Query 17 retrieved: ['NCT00981708', 'NCT01548573', 'NCT00038233', 'NCT00006890', 'NCT00038090', 'NCT00558896', 'NCT00256776', 'NCT00049673', 'NCT00040937', 'NCT00120263', 'NCT00416897', 'NCT00064337', 'NCT01134484', 'NCT00007995', 'NCT00538824', 'NCT00319865', 'NCT00531453', 'NCT01084837', 'NCT01208818', 'NCT01731886', 'NCT00577668', 'NCT03110822', 'NCT00083681', 'NCT04352205', 'NCT03252600', 'NCT00843310', 'NCT00232934', 'NCT00779922', 'NCT02244125', 'NCT00022607', 'NCT00564889', 'NCT00116961', 'NCT00461747', 'NCT00306813', 'NCT00028886', 'NCT00135200', 'NCT01088373', 'NCT01109004', 'NCT00441168', 'NCT01688466']\n",
      " Query 17: Precision@10: 0.2000, Recall@10: 0.0157, F1@10: 0.0292, AP: 0.2776, nDCG@10: 0.3399, mrr@10: 0.1667\n",
      "  Total time for query: 0.21 seconds\n"
     ]
    },
    {
     "name": "stderr",
     "output_type": "stream",
     "text": [
      " 24%|██▍       | 18/75 [00:03<00:12,  4.62it/s]"
     ]
    },
    {
     "name": "stdout",
     "output_type": "stream",
     "text": [
      "Time taken to retrieve (ES only): 21 ms\n",
      "Query 18 retrieved: ['NCT00804557', 'NCT01494337', 'NCT00270504', 'NCT03239951', 'NCT01186237', 'NCT03863743', 'NCT00839969', 'NCT04529369', 'NCT04551417', 'NCT01790776', 'NCT04363970', 'NCT03339076', 'NCT04307537', 'NCT02591381', 'NCT04825314', 'NCT03428113', 'NCT04452890', 'NCT02524236', 'NCT03098147', 'NCT02594631', 'NCT03048682', 'NCT01604148', 'NCT04650347', 'NCT00037921', 'NCT01733290', 'NCT02533687', 'NCT04764903', 'NCT04835766', 'NCT01705444', 'NCT03959917', 'NCT04781985', 'NCT03280420', 'NCT00169767', 'NCT03061344', 'NCT01747993', 'NCT03912558', 'NCT04645264', 'NCT03572348', 'NCT02401581', 'NCT02006303']\n",
      " Query 18: Precision@10: 0.0000, Recall@10: 0.0000, F1@10: 0.0000, AP: 0.0901, nDCG@10: 0.1533, mrr@10: 0.0000\n",
      "  Total time for query: 0.24 seconds\n"
     ]
    },
    {
     "name": "stderr",
     "output_type": "stream",
     "text": [
      " 25%|██▌       | 19/75 [00:04<00:12,  4.49it/s]"
     ]
    },
    {
     "name": "stdout",
     "output_type": "stream",
     "text": [
      "Time taken to retrieve (ES only): 10 ms\n",
      "Query 19 retrieved: ['NCT02781207', 'NCT02683174', 'NCT00300625', 'NCT01916070', 'NCT00005202', 'NCT03974412', 'NCT01548352', 'NCT01509534', 'NCT02786940', 'NCT01463358', 'NCT00292825', 'NCT04124237', 'NCT03876652', 'NCT01814228', 'NCT01802398', 'NCT02971163', 'NCT04533425', 'NCT00120094', 'NCT03388905', 'NCT01113268', 'NCT02982473', 'NCT01481168', 'NCT04575376', 'NCT00295204', 'NCT02891863', 'NCT03079414', 'NCT01594112', 'NCT00733590', 'NCT04755010', 'NCT01423994', 'NCT00487279', 'NCT00919373', 'NCT04229589', 'NCT03119571', 'NCT04606693', 'NCT03903744', 'NCT01547208', 'NCT02188147', 'NCT02344277', 'NCT03360227']\n",
      " Query 19: Precision@10: 0.7000, Recall@10: 0.0609, F1@10: 0.1120, AP: 0.6098, nDCG@10: 0.7744, mrr@10: 1.0000\n",
      "  Total time for query: 0.24 seconds\n"
     ]
    },
    {
     "name": "stderr",
     "output_type": "stream",
     "text": [
      " 27%|██▋       | 20/75 [00:04<00:14,  3.87it/s]"
     ]
    },
    {
     "name": "stdout",
     "output_type": "stream",
     "text": [
      "Time taken to retrieve (ES only): 9 ms\n",
      "Query 20 retrieved: ['NCT00242541', 'NCT00171886', 'NCT03710499', 'NCT01206270', 'NCT02952885', 'NCT04860037', 'NCT02274311', 'NCT00921609', 'NCT00616408', 'NCT00001860', 'NCT00145405', 'NCT01371643', 'NCT00627796', 'NCT03973450', 'NCT00171730', 'NCT00784615', 'NCT03401008', 'NCT00994214', 'NCT00182091', 'NCT01368133', 'NCT00225979', 'NCT02012127', 'NCT00017927', 'NCT02703064', 'NCT03548415', 'NCT01424241', 'NCT01313455', 'NCT01902420', 'NCT00615004', 'NCT00068042', 'NCT00128232', 'NCT03170804', 'NCT01338519', 'NCT02568488', 'NCT01256944', 'NCT00913055', 'NCT00383708', 'NCT00499993', 'NCT03042026', 'NCT00145288']\n",
      " Query 20: Precision@10: 0.5000, Recall@10: 0.1190, F1@10: 0.1923, AP: 0.5723, nDCG@10: 0.6892, mrr@10: 1.0000\n",
      "  Total time for query: 0.34 seconds\n"
     ]
    },
    {
     "name": "stderr",
     "output_type": "stream",
     "text": [
      " 28%|██▊       | 21/75 [00:04<00:13,  4.04it/s]"
     ]
    },
    {
     "name": "stdout",
     "output_type": "stream",
     "text": [
      "Time taken to retrieve (ES only): 7 ms\n",
      "Query 21 retrieved: ['NCT03259880', 'NCT00523874', 'NCT04735055', 'NCT04196504', 'NCT03354065', 'NCT04570852', 'NCT02563080', 'NCT01796652', 'NCT04615702', 'NCT03342716', 'NCT04552028', 'NCT02528760', 'NCT04750044', 'NCT01015417', 'NCT02204189', 'NCT03643900', 'NCT03407534', 'NCT01583517', 'NCT04574297', 'NCT03411629', 'NCT01997476', 'NCT04408872', 'NCT00839488', 'NCT04079777', 'NCT02068677', 'NCT02543658', 'NCT04433754', 'NCT00534534', 'NCT03601325', 'NCT03074084', 'NCT01929538', 'NCT04231279', 'NCT00483912', 'NCT03341221', 'NCT02430285', 'NCT01611532', 'NCT03513900', 'NCT04513197', 'NCT01758549', 'NCT04214756']\n",
      " Query 21: Precision@10: 0.5000, Recall@10: 0.1020, F1@10: 0.1695, AP: 0.5114, nDCG@10: 0.5728, mrr@10: 1.0000\n",
      "  Total time for query: 0.22 seconds\n"
     ]
    },
    {
     "name": "stderr",
     "output_type": "stream",
     "text": [
      " 29%|██▉       | 22/75 [00:04<00:12,  4.24it/s]"
     ]
    },
    {
     "name": "stdout",
     "output_type": "stream",
     "text": [
      "Time taken to retrieve (ES only): 13 ms\n",
      "Query 22 retrieved: ['NCT04033198', 'NCT01054417', 'NCT03236961', 'NCT03234296', 'NCT02404064', 'NCT00677417', 'NCT01967745', 'NCT04440150', 'NCT02742402', 'NCT03289351', 'NCT00413855', 'NCT02867072', 'NCT04594486', 'NCT00135603', 'NCT03570398', 'NCT04689906', 'NCT03591419', 'NCT00971438', 'NCT04634448', 'NCT03902262', 'NCT04618666', 'NCT01260064', 'NCT02467959', 'NCT03159754', 'NCT02789865', 'NCT02673528', 'NCT00908804', 'NCT04576273', 'NCT02627781', 'NCT04083313', 'NCT04688463', 'NCT04271826', 'NCT03267082', 'NCT02800785', 'NCT01424631', 'NCT01678365', 'NCT02687217', 'NCT01718171', 'NCT00997516', 'NCT04253899']\n",
      " Query 22: Precision@10: 0.3000, Recall@10: 0.0423, F1@10: 0.0741, AP: 0.4865, nDCG@10: 0.5168, mrr@10: 0.5000\n",
      "  Total time for query: 0.21 seconds\n",
      "Time taken to retrieve (ES only): 12 ms\n",
      "Query 23 retrieved: ['NCT03846570', 'NCT04674137', 'NCT01437735', 'NCT03363698', 'NCT01313637', 'NCT01313650', 'NCT04520230', 'NCT02415179', 'NCT00411567', 'NCT02340520', 'NCT02660853', 'NCT00182481', 'NCT00278083', 'NCT00509197', 'NCT01657487', 'NCT00217854', 'NCT00954850', 'NCT00839124', 'NCT01562093', 'NCT01742338', 'NCT04078542', 'NCT00147069', 'NCT00657774', 'NCT02740543', 'NCT03788057', 'NCT04509661', 'NCT00662298', 'NCT02301975', 'NCT02294279', 'NCT00903227', 'NCT04322422', 'NCT01436110', 'NCT01772368', 'NCT00180661', 'NCT00452348', 'NCT00452699', 'NCT01659476', 'NCT01498653', 'NCT00634517', 'NCT01691508']\n",
      " Query 23: Precision@10: 0.1000, Recall@10: 0.0119, F1@10: 0.0213, AP: 0.2847, nDCG@10: 0.1795, mrr@10: 0.3333\n",
      "  Total time for query: 0.21 seconds\n"
     ]
    },
    {
     "name": "stderr",
     "output_type": "stream",
     "text": [
      " 32%|███▏      | 24/75 [00:05<00:11,  4.53it/s]"
     ]
    },
    {
     "name": "stdout",
     "output_type": "stream",
     "text": [
      "Time taken to retrieve (ES only): 12 ms\n",
      "Query 24 retrieved: ['NCT04764903', 'NCT01661621', 'NCT00685633', 'NCT02961114', 'NCT01815697', 'NCT03630926', 'NCT00596011', 'NCT02074644', 'NCT01563796', 'NCT04766268', 'NCT00381108', 'NCT02808013', 'NCT00407329', 'NCT03239951', 'NCT04055675', 'NCT00193648', 'NCT02326805', 'NCT02283684', 'NCT00561262', 'NCT01799902', 'NCT01628900', 'NCT00077012', 'NCT01083979', 'NCT04577040', 'NCT03190421', 'NCT03104907', 'NCT03520673', 'NCT01604148', 'NCT00564460', 'NCT00939120', 'NCT00722735', 'NCT02524236', 'NCT00827814', 'NCT03075449', 'NCT00111592', 'NCT00431626', 'NCT04228081', 'NCT01950871', 'NCT02689830', 'NCT04831476']\n",
      " Query 24: Precision@10: 0.4000, Recall@10: 0.0360, F1@10: 0.0661, AP: 0.4465, nDCG@10: 0.5625, mrr@10: 1.0000\n",
      "  Total time for query: 0.20 seconds\n",
      "Time taken to retrieve (ES only): 11 ms\n",
      "Query 25 retrieved: ['NCT02897700', 'NCT04697043', 'NCT00542191', 'NCT03323346', 'NCT04567420', 'NCT03188393', 'NCT01501487', 'NCT01257152', 'NCT00881361', 'NCT04245150', 'NCT00696527', 'NCT03236974', 'NCT04293796', 'NCT01320488', 'NCT02670577', 'NCT02564848', 'NCT03354611', 'NCT03669952', 'NCT03144037', 'NCT00028340', 'NCT00103181', 'NCT00093795', 'NCT01216111', 'NCT02133417', 'NCT00003953', 'NCT01541878', 'NCT03669705', 'NCT02700776', 'NCT01662128', 'NCT01203839', 'NCT00087178', 'NCT00146536', 'NCT00130533', 'NCT01648608', 'NCT03491410', 'NCT04829890', 'NCT01275677', 'NCT02489617', 'NCT00929591', 'NCT03795012']\n",
      " Query 25: Precision@10: 0.0000, Recall@10: 0.0000, F1@10: 0.0000, AP: 0.1919, nDCG@10: 0.0000, mrr@10: 0.0000\n",
      "  Total time for query: 0.21 seconds\n"
     ]
    },
    {
     "name": "stderr",
     "output_type": "stream",
     "text": [
      " 35%|███▍      | 26/75 [00:05<00:10,  4.66it/s]"
     ]
    },
    {
     "name": "stdout",
     "output_type": "stream",
     "text": [
      "Time taken to retrieve (ES only): 12 ms\n",
      "Query 26 retrieved: ['NCT01015417', 'NCT04308265', 'NCT03981315', 'NCT01492790', 'NCT03477253', 'NCT02156947', 'NCT02155244', 'NCT03709030', 'NCT04675190', 'NCT04615702', 'NCT02554097', 'NCT00161083', 'NCT02472509', 'NCT00863642', 'NCT02833103', 'NCT03259880', 'NCT04197908', 'NCT03883464', 'NCT02430285', 'NCT03577873', 'NCT02748525', 'NCT03354065', 'NCT04542512', 'NCT04242394', 'NCT01425177', 'NCT00807729', 'NCT02351492', 'NCT02394327', 'NCT00447304', 'NCT04467710', 'NCT00339560', 'NCT02630433', 'NCT04234126', 'NCT01190280', 'NCT00124033', 'NCT02515474', 'NCT02195115', 'NCT03804775', 'NCT04350346', 'NCT04041726']\n",
      " Query 26: Precision@10: 0.4000, Recall@10: 0.0460, F1@10: 0.0825, AP: 0.3134, nDCG@10: 0.4409, mrr@10: 0.3333\n",
      "  Total time for query: 0.21 seconds\n"
     ]
    },
    {
     "name": "stderr",
     "output_type": "stream",
     "text": [
      " 36%|███▌      | 27/75 [00:05<00:10,  4.69it/s]"
     ]
    },
    {
     "name": "stdout",
     "output_type": "stream",
     "text": [
      "Time taken to retrieve (ES only): 11 ms\n",
      "Query 27 retrieved: ['NCT03520660', 'NCT00751426', 'NCT02825212', 'NCT03170076', 'NCT02483156', 'NCT03186313', 'NCT03693586', 'NCT03014986', 'NCT03296930', 'NCT03547895', 'NCT01360268', 'NCT01289652', 'NCT00887081', 'NCT04546802', 'NCT01750515', 'NCT00152581', 'NCT01872988', 'NCT00512941', 'NCT03226717', 'NCT00001982', 'NCT03200171', 'NCT02532907', 'NCT00630084', 'NCT02707952', 'NCT00179413', 'NCT01888900', 'NCT02959359', 'NCT02669966', 'NCT00707772', 'NCT01437969', 'NCT02265237', 'NCT02261662', 'NCT00527540', 'NCT01402583', 'NCT04405011', 'NCT01062659', 'NCT01453075', 'NCT02468648', 'NCT00154869', 'NCT01717326']\n",
      " Query 27: Precision@10: 0.3000, Recall@10: 0.0526, F1@10: 0.0896, AP: 0.4459, nDCG@10: 0.5519, mrr@10: 1.0000\n",
      "  Total time for query: 0.21 seconds\n"
     ]
    },
    {
     "name": "stderr",
     "output_type": "stream",
     "text": [
      " 37%|███▋      | 28/75 [00:06<00:09,  4.72it/s]"
     ]
    },
    {
     "name": "stdout",
     "output_type": "stream",
     "text": [
      "Time taken to retrieve (ES only): 13 ms\n",
      "Query 28 retrieved: ['NCT02340520', 'NCT01114386', 'NCT02571582', 'NCT01142531', 'NCT01893918', 'NCT00938977', 'NCT02434536', 'NCT02154880', 'NCT01314807', 'NCT03227211', 'NCT02329522', 'NCT00380068', 'NCT00287625', 'NCT00668408', 'NCT01940328', 'NCT04105075', 'NCT02531542', 'NCT01616901', 'NCT04520230', 'NCT01657487', 'NCT03611127', 'NCT03026439', 'NCT01865500', 'NCT02050022', 'NCT02060799', 'NCT00537628', 'NCT04200079', 'NCT02882165', 'NCT03381560', 'NCT04408612', 'NCT01923051', 'NCT01116063', 'NCT00144196', 'NCT00581087', 'NCT00857766', 'NCT00981851', 'NCT00206830', 'NCT02062554', 'NCT01429376', 'NCT01165528']\n",
      " Query 28: Precision@10: 0.2000, Recall@10: 0.0140, F1@10: 0.0261, AP: 0.2200, nDCG@10: 0.2640, mrr@10: 0.1429\n",
      "  Total time for query: 0.21 seconds\n",
      "Time taken to retrieve (ES only): 10 ms\n"
     ]
    },
    {
     "name": "stderr",
     "output_type": "stream",
     "text": [
      " 39%|███▊      | 29/75 [00:06<00:09,  4.75it/s]"
     ]
    },
    {
     "name": "stdout",
     "output_type": "stream",
     "text": [
      "Query 29 retrieved: ['NCT00590044', 'NCT02548494', 'NCT03001323', 'NCT02006342', 'NCT00970567', 'NCT00133809', 'NCT00467246', 'NCT02130180', 'NCT03107208', 'NCT00179127', 'NCT00911625', 'NCT02777073', 'NCT02280174', 'NCT02157155', 'NCT00338104', 'NCT04567225', 'NCT00663624', 'NCT01195090', 'NCT01049412', 'NCT01654120', 'NCT04665128', 'NCT00506194', 'NCT00590226', 'NCT03051243', 'NCT00433628', 'NCT00220961', 'NCT02478190', 'NCT01810952', 'NCT01299012', 'NCT02333851', 'NCT03501680', 'NCT01378117', 'NCT00394407', 'NCT03526536', 'NCT00564018', 'NCT00979628', 'NCT02782195', 'NCT03738865', 'NCT01128192', 'NCT00354939']\n",
      " Query 29: Precision@10: 0.3000, Recall@10: 0.0417, F1@10: 0.0732, AP: 0.2478, nDCG@10: 0.4913, mrr@10: 0.2000\n",
      "  Total time for query: 0.21 seconds\n"
     ]
    },
    {
     "name": "stderr",
     "output_type": "stream",
     "text": [
      " 40%|████      | 30/75 [00:06<00:09,  4.61it/s]"
     ]
    },
    {
     "name": "stdout",
     "output_type": "stream",
     "text": [
      "Time taken to retrieve (ES only): 13 ms\n",
      "Query 30 retrieved: ['NCT03106935', 'NCT04249271', 'NCT02868476', 'NCT03984006', 'NCT00552487', 'NCT00001159', 'NCT02319538', 'NCT00715572', 'NCT02725879', 'NCT02567877', 'NCT04752202', 'NCT03634371', 'NCT04573907', 'NCT02126683', 'NCT00230802', 'NCT01581463', 'NCT02710175', 'NCT00287144', 'NCT04613323', 'NCT03569787', 'NCT03053115', 'NCT02399475', 'NCT04754607', 'NCT02645786', 'NCT04236232', 'NCT01197183', 'NCT04795947', 'NCT01950260', 'NCT01536678', 'NCT02317926', 'NCT00388297', 'NCT03712683', 'NCT01280292', 'NCT03641638', 'NCT00818896', 'NCT01436994', 'NCT02891668', 'NCT01441154', 'NCT01997554', 'NCT02946918']\n",
      " Query 30: Precision@10: 0.2000, Recall@10: 0.0417, F1@10: 0.0690, AP: 0.2354, nDCG@10: 0.3741, mrr@10: 0.2000\n",
      "  Total time for query: 0.23 seconds\n",
      "Time taken to retrieve (ES only): 11 ms\n",
      "Query 31 retrieved: ['NCT03998254', 'NCT00312286', 'NCT00117884', 'NCT01599416', 'NCT03837028', 'NCT02780960', 'NCT00743626', 'NCT00154479', 'NCT00343213', 'NCT00872937', 'NCT02365935', 'NCT02346227', 'NCT00091130', 'NCT04171505', 'NCT03577925', 'NCT00006444', 'NCT01131312', 'NCT01133509', 'NCT00201370', 'NCT03920800', 'NCT04683549', 'NCT03061435', 'NCT00709891', 'NCT04369339', 'NCT00128661', 'NCT03903952', 'NCT00435214', 'NCT04461678', 'NCT01051895', 'NCT04672980', 'NCT00695422', 'NCT03853915', 'NCT00462397', 'NCT00689741', 'NCT01550783', 'NCT00003017', 'NCT04587050', 'NCT00154583', 'NCT01924117', 'NCT01385436']\n",
      " Query 31: Precision@10: 0.3000, Recall@10: 0.0667, F1@10: 0.1091, AP: 0.2138, nDCG@10: 0.3256, mrr@10: 0.2000\n",
      "  Total time for query: 0.20 seconds\n"
     ]
    },
    {
     "name": "stderr",
     "output_type": "stream",
     "text": [
      " 43%|████▎     | 32/75 [00:07<00:09,  4.69it/s]"
     ]
    },
    {
     "name": "stdout",
     "output_type": "stream",
     "text": [
      "Time taken to retrieve (ES only): 4 ms\n",
      "Query 32 retrieved: ['NCT04132375', 'NCT03690024', 'NCT01252199', 'NCT01406288', 'NCT02336516', 'NCT03576183', 'NCT02870751', 'NCT02205541', 'NCT03261297', 'NCT03275792', 'NCT01638039', 'NCT03362970', 'NCT03778125', 'NCT04491799', 'NCT03586206', 'NCT03257553', 'NCT02773446', 'NCT03596827', 'NCT02127814', 'NCT04269174', 'NCT03902262', 'NCT01147445', 'NCT00362869', 'NCT01362569', 'NCT00269399', 'NCT02531685', 'NCT04237181', 'NCT01561248', 'NCT00658151', 'NCT01472978', 'NCT01077245', 'NCT03394040', 'NCT02076438', 'NCT00312910', 'NCT00350298', 'NCT00404625', 'NCT03166670', 'NCT01564290', 'NCT00435526', 'NCT03647995']\n",
      " Query 32: Precision@10: 0.5000, Recall@10: 0.1923, F1@10: 0.2778, AP: 0.4973, nDCG@10: 0.5758, mrr@10: 0.5000\n",
      "  Total time for query: 0.21 seconds\n",
      "Time taken to retrieve (ES only): 10 ms\n",
      "Query 33 retrieved: ['NCT00769002', 'NCT01978262', 'NCT00253734', 'NCT02213354', 'NCT00943358', 'NCT03028974', 'NCT02908269', 'NCT00546585', 'NCT02746783', 'NCT01181336', 'NCT01721083', 'NCT01317745', 'NCT00230750', 'NCT01317758', 'NCT03020498', 'NCT01436370', 'NCT02921997', 'NCT00973895', 'NCT01827462', 'NCT00814385', 'NCT00397215', 'NCT00138385', 'NCT00170547', 'NCT03318315', 'NCT01189123', 'NCT01226758', 'NCT00943631', 'NCT03614975', 'NCT00695669', 'NCT03814720', 'NCT01123954', 'NCT00231907', 'NCT00311649', 'NCT01385215', 'NCT00283283', 'NCT00858611', 'NCT00386113', 'NCT04579588', 'NCT00943878', 'NCT01236040']\n",
      " Query 33: Precision@10: 0.3000, Recall@10: 0.0148, F1@10: 0.0282, AP: 0.5100, nDCG@10: 0.4153, mrr@10: 1.0000\n",
      "  Total time for query: 0.21 seconds\n"
     ]
    },
    {
     "name": "stderr",
     "output_type": "stream",
     "text": [
      " 45%|████▌     | 34/75 [00:07<00:08,  4.75it/s]"
     ]
    },
    {
     "name": "stdout",
     "output_type": "stream",
     "text": [
      "Time taken to retrieve (ES only): 12 ms\n",
      "Query 34 retrieved: ['NCT03445624', 'NCT01694953', 'NCT01725048', 'NCT01093196', 'NCT03057860', 'NCT04426435', 'NCT00001549', 'NCT00455286', 'NCT02633813', 'NCT01149707', 'NCT03772561', 'NCT00625742', 'NCT00614809', 'NCT02441491', 'NCT00879359', 'NCT03323346', 'NCT00380068', 'NCT02657356', 'NCT02691533', 'NCT01579929', 'NCT02574975', 'NCT01797575', 'NCT03766074', 'NCT01707225', 'NCT04803305', 'NCT00193648', 'NCT01556646', 'NCT02939755', 'NCT04599621', 'NCT04323566', 'NCT02062554', 'NCT01497548', 'NCT00222131', 'NCT01782339', 'NCT02361125', 'NCT00101725', 'NCT00911859', 'NCT04333524', 'NCT04225117', 'NCT02268630']\n",
      " Query 34: Precision@10: 0.0000, Recall@10: 0.0000, F1@10: 0.0000, AP: 0.0435, nDCG@10: 0.0000, mrr@10: 0.0000\n",
      "  Total time for query: 0.21 seconds\n",
      "Time taken to retrieve (ES only): 11 ms\n",
      "Query 35 retrieved: ['NCT00471861', 'NCT00880425', 'NCT01946126', 'NCT00126035', 'NCT01804517', 'NCT01687101', 'NCT01090050', 'NCT01300546', 'NCT01917474', 'NCT03766412', 'NCT04623203', 'NCT02322333', 'NCT00274170', 'NCT00335803', 'NCT04698525', 'NCT02021474', 'NCT00837044', 'NCT00754611', 'NCT00642564', 'NCT04287140', 'NCT02742272', 'NCT02703129', 'NCT02903680', 'NCT04284501', 'NCT04114630', 'NCT02681211', 'NCT04194008', 'NCT03036761', 'NCT01435941', 'NCT02959177', 'NCT04089761', 'NCT02549300', 'NCT04153409', 'NCT02766517', 'NCT02163993', 'NCT02895256', 'NCT02427009', 'NCT02856802', 'NCT00449540', 'NCT02614183']\n",
      " Query 35: Precision@10: 0.2000, Recall@10: 0.0244, F1@10: 0.0435, AP: 0.2192, nDCG@10: 0.2841, mrr@10: 0.1111\n",
      "  Total time for query: 0.21 seconds\n"
     ]
    },
    {
     "name": "stderr",
     "output_type": "stream",
     "text": [
      " 48%|████▊     | 36/75 [00:07<00:08,  4.74it/s]"
     ]
    },
    {
     "name": "stdout",
     "output_type": "stream",
     "text": [
      "Time taken to retrieve (ES only): 11 ms\n",
      "Query 36 retrieved: ['NCT00770276', 'NCT00667498', 'NCT00622765', 'NCT02463435', 'NCT04354285', 'NCT02436343', 'NCT04327375', 'NCT04595006', 'NCT02717832', 'NCT00704197', 'NCT02062554', 'NCT04782856', 'NCT02691533', 'NCT04575194', 'NCT01665820', 'NCT01066091', 'NCT02452567', 'NCT04791397', 'NCT01636427', 'NCT00879125', 'NCT00388609', 'NCT04193995', 'NCT04720092', 'NCT03937960', 'NCT01977417', 'NCT03283813', 'NCT01834300', 'NCT01027325', 'NCT02832414', 'NCT02988999', 'NCT03796091', 'NCT03346421', 'NCT02599376', 'NCT00734201', 'NCT02582424', 'NCT00948402', 'NCT00105066', 'NCT00121433', 'NCT02910869', 'NCT03051451']\n",
      " Query 36: Precision@10: 0.4000, Recall@10: 0.0217, F1@10: 0.0412, AP: 0.4559, nDCG@10: 0.5214, mrr@10: 1.0000\n",
      "  Total time for query: 0.21 seconds\n",
      "Time taken to retrieve (ES only): 11 ms\n",
      "Query 37 retrieved: ['NCT00228228', 'NCT04178980', 'NCT04465084', 'NCT01628315', 'NCT03736902', 'NCT01428726', 'NCT01110993', 'NCT00360906', 'NCT04578639', 'NCT00151801', 'NCT03586986', 'NCT04688788', 'NCT04832399', 'NCT02881567', 'NCT00676715', 'NCT00094172', 'NCT03979456', 'NCT04495556', 'NCT03709290', 'NCT00027300', 'NCT04458688', 'NCT04047628', 'NCT00616187', 'NCT00441103', 'NCT04838015', 'NCT01836055', 'NCT02504840', 'NCT01142466', 'NCT04380220', 'NCT02047825', 'NCT03477500', 'NCT01679041', 'NCT00794352', 'NCT01416181', 'NCT02428218', 'NCT02861014', 'NCT01767701', 'NCT04157283', 'NCT00242268', 'NCT01141751']\n",
      " Query 37: Precision@10: 0.7000, Recall@10: 0.0412, F1@10: 0.0778, AP: 0.6298, nDCG@10: 0.6790, mrr@10: 0.5000\n",
      "  Total time for query: 0.21 seconds\n"
     ]
    },
    {
     "name": "stderr",
     "output_type": "stream",
     "text": [
      " 51%|█████     | 38/75 [00:08<00:07,  4.74it/s]"
     ]
    },
    {
     "name": "stdout",
     "output_type": "stream",
     "text": [
      "Time taken to retrieve (ES only): 9 ms\n",
      "Query 38 retrieved: ['NCT02902536', 'NCT04226170', 'NCT01480596', 'NCT03792659', 'NCT04768465', 'NCT04674605', 'NCT00306033', 'NCT03315130', 'NCT03971422', 'NCT01727193', 'NCT04535843', 'NCT00619671', 'NCT03914638', 'NCT03920293', 'NCT00727194', 'NCT03772587', 'NCT01997229', 'NCT02950155', 'NCT03510546', 'NCT03052751', 'NCT02100969', 'NCT00004682', 'NCT01268280', 'NCT00814138', 'NCT02364180', 'NCT04431895', 'NCT03059888', 'NCT03863080', 'NCT00515450', 'NCT04159805', 'NCT03468452', 'NCT01179893', 'NCT04728425', 'NCT01927692', 'NCT00294658', 'NCT02473952', 'NCT01047761', 'NCT01828294', 'NCT03979521', 'NCT04158661']\n",
      " Query 38: Precision@10: 0.7000, Recall@10: 0.1346, F1@10: 0.2258, AP: 0.6723, nDCG@10: 0.7550, mrr@10: 1.0000\n",
      "  Total time for query: 0.21 seconds\n"
     ]
    },
    {
     "name": "stderr",
     "output_type": "stream",
     "text": [
      " 52%|█████▏    | 39/75 [00:08<00:07,  4.75it/s]"
     ]
    },
    {
     "name": "stdout",
     "output_type": "stream",
     "text": [
      "Time taken to retrieve (ES only): 10 ms\n",
      "Query 39 retrieved: ['NCT02625688', 'NCT04215601', 'NCT04099602', 'NCT02446951', 'NCT00653874', 'NCT01136577', 'NCT01203410', 'NCT04418180', 'NCT01762189', 'NCT02613676', 'NCT02774434', 'NCT04719104', 'NCT03942757', 'NCT01622699', 'NCT03055481', 'NCT02154165', 'NCT03183986', 'NCT00735319', 'NCT04251286', 'NCT03866213', 'NCT01434810', 'NCT00917007', 'NCT01746511', 'NCT03569254', 'NCT03570775', 'NCT00692224', 'NCT00114543', 'NCT02372071', 'NCT02372058', 'NCT04445675', 'NCT01109277', 'NCT02361788', 'NCT00635375', 'NCT03130517', 'NCT02594904', 'NCT03933423', 'NCT03237715', 'NCT00288600', 'NCT00966719', 'NCT04365998']\n",
      " Query 39: Precision@10: 0.2000, Recall@10: 0.0588, F1@10: 0.0909, AP: 0.4015, nDCG@10: 0.3373, mrr@10: 0.2500\n",
      "  Total time for query: 0.21 seconds\n"
     ]
    },
    {
     "name": "stderr",
     "output_type": "stream",
     "text": [
      " 53%|█████▎    | 40/75 [00:08<00:07,  4.75it/s]"
     ]
    },
    {
     "name": "stdout",
     "output_type": "stream",
     "text": [
      "Time taken to retrieve (ES only): 12 ms\n",
      "Query 40 retrieved: ['NCT00306046', 'NCT00051636', 'NCT00774020', 'NCT00480662', 'NCT02106455', 'NCT00747994', 'NCT00894075', 'NCT04222452', 'NCT02802384', 'NCT02056730', 'NCT03859895', 'NCT03993821', 'NCT00453128', 'NCT00195936', 'NCT00108394', 'NCT00066183', 'NCT02967042', 'NCT00417612', 'NCT00345839', 'NCT02603042', 'NCT01875458', 'NCT00973336', 'NCT01839383', 'NCT00668200', 'NCT03716128', 'NCT02198001', 'NCT04184661', 'NCT00415584', 'NCT01419028', 'NCT02235493', 'NCT00712985', 'NCT00324714', 'NCT01306656', 'NCT01360099', 'NCT04273490', 'NCT00377312', 'NCT02551120', 'NCT00145886', 'NCT01222026', 'NCT03202407']\n",
      " Query 40: Precision@10: 0.7000, Recall@10: 0.6364, F1@10: 0.6667, AP: 0.9683, nDCG@10: 0.7936, mrr@10: 1.0000\n",
      "  Total time for query: 0.21 seconds\n"
     ]
    },
    {
     "name": "stderr",
     "output_type": "stream",
     "text": [
      " 55%|█████▍    | 41/75 [00:08<00:07,  4.73it/s]"
     ]
    },
    {
     "name": "stdout",
     "output_type": "stream",
     "text": [
      "Time taken to retrieve (ES only): 13 ms\n",
      "Query 41 retrieved: ['NCT00443768', 'NCT00199394', 'NCT00203060', 'NCT01970813', 'NCT02745171', 'NCT03305588', 'NCT00526630', 'NCT01380899', 'NCT03433950', 'NCT04687878', 'NCT03297177', 'NCT00666653', 'NCT02060695', 'NCT01003002', 'NCT00001928', 'NCT00607451', 'NCT03011476', 'NCT02601144', 'NCT04858074', 'NCT00117195', 'NCT00472355', 'NCT00794313', 'NCT03130595', 'NCT00148512', 'NCT04308135', 'NCT04472130', 'NCT00596908', 'NCT00359723', 'NCT04380142', 'NCT02098642', 'NCT04062279', 'NCT00076674', 'NCT04083586', 'NCT02896816', 'NCT01016743', 'NCT00307450', 'NCT00199407', 'NCT03956979', 'NCT04725045', 'NCT02785510']\n",
      " Query 41: Precision@10: 0.2000, Recall@10: 0.0149, F1@10: 0.0278, AP: 0.2911, nDCG@10: 0.3330, mrr@10: 0.2000\n",
      "  Total time for query: 0.21 seconds\n"
     ]
    },
    {
     "name": "stderr",
     "output_type": "stream",
     "text": [
      " 56%|█████▌    | 42/75 [00:09<00:07,  4.67it/s]"
     ]
    },
    {
     "name": "stdout",
     "output_type": "stream",
     "text": [
      "Time taken to retrieve (ES only): 15 ms\n",
      "Query 42 retrieved: ['NCT03580941', 'NCT03246542', 'NCT02637739', 'NCT00193648', 'NCT02989337', 'NCT02380560', 'NCT02507180', 'NCT03117010', 'NCT04374604', 'NCT03744988', 'NCT02308735', 'NCT01426724', 'NCT00878826', 'NCT03499561', 'NCT04852510', 'NCT02443259', 'NCT00158743', 'NCT03341221', 'NCT03665974', 'NCT01735799', 'NCT02455544', 'NCT03708497', 'NCT00826605', 'NCT03026686', 'NCT00665171', 'NCT04850547', 'NCT01828138', 'NCT00373139', 'NCT02859584', 'NCT00986765', 'NCT02382523', 'NCT03323346', 'NCT02892877', 'NCT04451928', 'NCT04217200', 'NCT04826185', 'NCT04161521', 'NCT03605511', 'NCT02929316', 'NCT00380068']\n",
      " Query 42: Precision@10: 0.0000, Recall@10: 0.0000, F1@10: 0.0000, AP: 0.0476, nDCG@10: 0.0212, mrr@10: 0.0000\n",
      "  Total time for query: 0.22 seconds\n"
     ]
    },
    {
     "name": "stderr",
     "output_type": "stream",
     "text": [
      " 57%|█████▋    | 43/75 [00:09<00:06,  4.67it/s]"
     ]
    },
    {
     "name": "stdout",
     "output_type": "stream",
     "text": [
      "Time taken to retrieve (ES only): 11 ms\n",
      "Query 43 retrieved: ['NCT00269399', 'NCT02857582', 'NCT00350298', 'NCT04491799', 'NCT03964844', 'NCT00591357', 'NCT00304408', 'NCT01472978', 'NCT03586206', 'NCT02127814', 'NCT02076438', 'NCT00658151', 'NCT04070352', 'NCT01560832', 'NCT01687543', 'NCT02086916', 'NCT02355938', 'NCT01630096', 'NCT00861887', 'NCT03827447', 'NCT00304876', 'NCT03388268', 'NCT03427229', 'NCT03880539', 'NCT03592082', 'NCT01598311', 'NCT02636647', 'NCT00304369', 'NCT02686645', 'NCT00304889', 'NCT04138706', 'NCT04259931', 'NCT04090346', 'NCT00304356', 'NCT01085591', 'NCT03937999', 'NCT03503474', 'NCT04121169', 'NCT03857464', 'NCT02112279']\n",
      " Query 43: Precision@10: 0.4000, Recall@10: 0.0635, F1@10: 0.1096, AP: 0.4099, nDCG@10: 0.5938, mrr@10: 1.0000\n",
      "  Total time for query: 0.21 seconds\n"
     ]
    },
    {
     "name": "stderr",
     "output_type": "stream",
     "text": [
      " 59%|█████▊    | 44/75 [00:09<00:06,  4.66it/s]"
     ]
    },
    {
     "name": "stdout",
     "output_type": "stream",
     "text": [
      "Time taken to retrieve (ES only): 14 ms\n",
      "Query 44 retrieved: ['NCT02791776', 'NCT04215497', 'NCT01661959', 'NCT04357561', 'NCT02820012', 'NCT04421157', 'NCT04226209', 'NCT04092335', 'NCT01019109', 'NCT02968043', 'NCT03427970', 'NCT01610908', 'NCT03929042', 'NCT02552615', 'NCT02237248', 'NCT02609009', 'NCT03915106', 'NCT04539522', 'NCT04203394', 'NCT02819245', 'NCT04761549', 'NCT03862417', 'NCT03305185', 'NCT03823053', 'NCT04689295', 'NCT03418987', 'NCT03413839', 'NCT03110965', 'NCT04021784', 'NCT04568759', 'NCT03675152', 'NCT02807545', 'NCT02978820', 'NCT03686371', 'NCT03194568', 'NCT04382638', 'NCT00155545', 'NCT01550497', 'NCT03497520', 'NCT04441411']\n",
      " Query 44: Precision@10: 0.0000, Recall@10: 0.0000, F1@10: 0.0000, AP: 0.0000, nDCG@10: 0.4074, mrr@10: 0.0000\n",
      "  Total time for query: 0.22 seconds\n"
     ]
    },
    {
     "name": "stderr",
     "output_type": "stream",
     "text": [
      " 60%|██████    | 45/75 [00:09<00:06,  4.65it/s]"
     ]
    },
    {
     "name": "stdout",
     "output_type": "stream",
     "text": [
      "Time taken to retrieve (ES only): 14 ms\n",
      "Query 45 retrieved: ['NCT03431285', 'NCT02417298', 'NCT01932554', 'NCT00263562', 'NCT04301336', 'NCT04330183', 'NCT00000586', 'NCT03933397', 'NCT02434939', 'NCT03541980', 'NCT01119833', 'NCT01895361', 'NCT00102791', 'NCT04614610', 'NCT03682211', 'NCT00513617', 'NCT03502421', 'NCT00874172', 'NCT00834899', 'NCT02961218', 'NCT00639392', 'NCT03899246', 'NCT04005209', 'NCT00773890', 'NCT02187003', 'NCT01419977', 'NCT00711698', 'NCT00532883', 'NCT00408447', 'NCT01603160', 'NCT01179217', 'NCT01393847', 'NCT02386657', 'NCT01456377', 'NCT00125788', 'NCT00981370', 'NCT00492531', 'NCT03997903', 'NCT02640573', 'NCT00599482']\n",
      " Query 45: Precision@10: 0.5000, Recall@10: 0.0345, F1@10: 0.0645, AP: 0.6293, nDCG@10: 0.6232, mrr@10: 1.0000\n",
      "  Total time for query: 0.22 seconds\n"
     ]
    },
    {
     "name": "stderr",
     "output_type": "stream",
     "text": [
      " 61%|██████▏   | 46/75 [00:10<00:06,  4.50it/s]"
     ]
    },
    {
     "name": "stdout",
     "output_type": "stream",
     "text": [
      "Time taken to retrieve (ES only): 10 ms\n",
      "Query 46 retrieved: ['NCT00685360', 'NCT03416309', 'NCT01600963', 'NCT03830671', 'NCT04766307', 'NCT00000796', 'NCT01785186', 'NCT02758236', 'NCT02901288', 'NCT01398618', 'NCT02349841', 'NCT02776150', 'NCT00130247', 'NCT03072576', 'NCT02821832', 'NCT04694586', 'NCT01011543', 'NCT01516203', 'NCT00864383', 'NCT00513396', 'NCT02464683', 'NCT03822156', 'NCT00341328', 'NCT02581527', 'NCT00265226', 'NCT04629378', 'NCT00981071', 'NCT03794284', 'NCT01222338', 'NCT01994460', 'NCT01464762', 'NCT04434976', 'NCT01392911', 'NCT00341601', 'NCT00567151', 'NCT03478033', 'NCT02727582', 'NCT00140309', 'NCT04055441', 'NCT00144417']\n",
      " Query 46: Precision@10: 0.6000, Recall@10: 0.0545, F1@10: 0.1000, AP: 0.7209, nDCG@10: 0.6531, mrr@10: 1.0000\n",
      "  Total time for query: 0.24 seconds\n"
     ]
    },
    {
     "name": "stderr",
     "output_type": "stream",
     "text": [
      " 63%|██████▎   | 47/75 [00:10<00:06,  4.56it/s]"
     ]
    },
    {
     "name": "stdout",
     "output_type": "stream",
     "text": [
      "Time taken to retrieve (ES only): 11 ms\n",
      "Query 47 retrieved: ['NCT02452502', 'NCT00287508', 'NCT01252875', 'NCT03070067', 'NCT04162587', 'NCT03670862', 'NCT02225834', 'NCT03477188', 'NCT00009243', 'NCT00243880', 'NCT00061373', 'NCT03377465', 'NCT03413202', 'NCT02180204', 'NCT04824911', 'NCT00894803', 'NCT04847752', 'NCT01976936', 'NCT00363662', 'NCT01737723', 'NCT03731351', 'NCT02572336', 'NCT00250991', 'NCT03635749', 'NCT02101606', 'NCT01738412', 'NCT01643902', 'NCT02121028', 'NCT02398656', 'NCT04028518', 'NCT00235248', 'NCT03706768', 'NCT02409043', 'NCT03150524', 'NCT01123161', 'NCT02242084', 'NCT02935985', 'NCT01977456', 'NCT00417898', 'NCT02448069']\n",
      " Query 47: Precision@10: 0.5000, Recall@10: 0.0391, F1@10: 0.0725, AP: 0.4964, nDCG@10: 0.5287, mrr@10: 1.0000\n",
      "  Total time for query: 0.21 seconds\n"
     ]
    },
    {
     "name": "stderr",
     "output_type": "stream",
     "text": [
      " 64%|██████▍   | 48/75 [00:10<00:05,  4.63it/s]"
     ]
    },
    {
     "name": "stdout",
     "output_type": "stream",
     "text": [
      "Time taken to retrieve (ES only): 11 ms\n",
      "Query 48 retrieved: ['NCT01712360', 'NCT02464839', 'NCT03999437', 'NCT04110834', 'NCT04110860', 'NCT01396785', 'NCT01396811', 'NCT00848666', 'NCT01110330', 'NCT03745183', 'NCT03823040', 'NCT01290341', 'NCT02824926', 'NCT02860052', 'NCT01891305', 'NCT02606383', 'NCT00509275', 'NCT00856596', 'NCT02565940', 'NCT01519752', 'NCT01580878', 'NCT01119742', 'NCT04152226', 'NCT04188574', 'NCT04203342', 'NCT03135912', 'NCT02464826', 'NCT02550496', 'NCT00835510', 'NCT01342315', 'NCT01580891', 'NCT03824912', 'NCT01349998', 'NCT00830388', 'NCT00750139', 'NCT03897257', 'NCT00691184', 'NCT00771342', 'NCT00802672', 'NCT03129321']\n",
      " Query 48: Precision@10: 0.5000, Recall@10: 0.1042, F1@10: 0.1724, AP: 0.6088, nDCG@10: 0.5171, mrr@10: 0.3333\n",
      "  Total time for query: 0.21 seconds\n"
     ]
    },
    {
     "name": "stderr",
     "output_type": "stream",
     "text": [
      " 65%|██████▌   | 49/75 [00:10<00:05,  4.68it/s]"
     ]
    },
    {
     "name": "stdout",
     "output_type": "stream",
     "text": [
      "Time taken to retrieve (ES only): 11 ms\n",
      "Query 49 retrieved: ['NCT00134745', 'NCT01066052', 'NCT00001221', 'NCT01687842', 'NCT00140998', 'NCT00420654', 'NCT01760668', 'NCT00001343', 'NCT00029159', 'NCT00443144', 'NCT00266656', 'NCT00191113', 'NCT01710696', 'NCT00013546', 'NCT01410045', 'NCT00006334', 'NCT03189160', 'NCT00870220', 'NCT00097552', 'NCT00406926', 'NCT01367834', 'NCT00624949', 'NCT00001253', 'NCT03812913', 'NCT01734486', 'NCT01678261', 'NCT03181230', 'NCT01731028', 'NCT00837616', 'NCT03185702', 'NCT04803474', 'NCT00825617', 'NCT00190658', 'NCT01678274', 'NCT01365351', 'NCT00625001', 'NCT02250456', 'NCT01604395', 'NCT01511588', 'NCT04831099']\n",
      " Query 49: Precision@10: 0.2000, Recall@10: 0.0571, F1@10: 0.0889, AP: 0.3733, nDCG@10: 0.4703, mrr@10: 1.0000\n",
      "  Total time for query: 0.21 seconds\n"
     ]
    },
    {
     "name": "stderr",
     "output_type": "stream",
     "text": [
      " 67%|██████▋   | 50/75 [00:10<00:05,  4.71it/s]"
     ]
    },
    {
     "name": "stdout",
     "output_type": "stream",
     "text": [
      "Time taken to retrieve (ES only): 10 ms\n",
      "Query 50 retrieved: ['NCT04528381', 'NCT03291678', 'NCT02203318', 'NCT04696874', 'NCT04826952', 'NCT00253253', 'NCT04142632', 'NCT04821167', 'NCT03033381', 'NCT02936024', 'NCT02235623', 'NCT02158780', 'NCT02731989', 'NCT02249637', 'NCT00264121', 'NCT03102554', 'NCT04661098', 'NCT02461303', 'NCT02239185', 'NCT03969979', 'NCT02851290', 'NCT01206270', 'NCT01812109', 'NCT04342026', 'NCT01380067', 'NCT03295175', 'NCT02967822', 'NCT03550716', 'NCT03882385', 'NCT00772694', 'NCT02495090', 'NCT03980717', 'NCT04062747', 'NCT01330511', 'NCT03259048', 'NCT02099734', 'NCT04452890', 'NCT03858127', 'NCT01810068', 'NCT01790776']\n",
      " Query 50: Precision@10: 0.3000, Recall@10: 0.2143, F1@10: 0.2500, AP: 0.6578, nDCG@10: 0.5711, mrr@10: 1.0000\n",
      "  Total time for query: 0.21 seconds\n"
     ]
    },
    {
     "name": "stderr",
     "output_type": "stream",
     "text": [
      " 68%|██████▊   | 51/75 [00:11<00:05,  4.69it/s]"
     ]
    },
    {
     "name": "stdout",
     "output_type": "stream",
     "text": [
      "Time taken to retrieve (ES only): 10 ms\n",
      "Query 51 retrieved: ['NCT03658356', 'NCT04244526', 'NCT01507974', 'NCT01628900', 'NCT02305342', 'NCT02911662', 'NCT04055675', 'NCT04686318', 'NCT02536638', 'NCT01349738', 'NCT04575493', 'NCT03183531', 'NCT04667195', 'NCT00121797', 'NCT03501901', 'NCT03190421', 'NCT02637986', 'NCT00722735', 'NCT03634891', 'NCT02565940', 'NCT01140516', 'NCT00446355', 'NCT00194155', 'NCT01819519', 'NCT02323087', 'NCT04651244', 'NCT02092064', 'NCT02989337', 'NCT02987790', 'NCT03931538', 'NCT03688321', 'NCT03506256', 'NCT00402727', 'NCT01137929', 'NCT04269174', 'NCT03246542', 'NCT00913042', 'NCT03163394', 'NCT03282006', 'NCT01138566']\n",
      " Query 51: Precision@10: 0.4000, Recall@10: 0.1429, F1@10: 0.2105, AP: 0.4010, nDCG@10: 0.4647, mrr@10: 0.5000\n",
      "  Total time for query: 0.22 seconds\n"
     ]
    },
    {
     "name": "stderr",
     "output_type": "stream",
     "text": [
      " 69%|██████▉   | 52/75 [00:11<00:04,  4.69it/s]"
     ]
    },
    {
     "name": "stdout",
     "output_type": "stream",
     "text": [
      "Time taken to retrieve (ES only): 11 ms\n",
      "Query 52 retrieved: ['NCT00229944', 'NCT00741052', 'NCT04150250', 'NCT02111304', 'NCT00142272', 'NCT03237663', 'NCT01811771', 'NCT00349999', 'NCT03251495', 'NCT00654108', 'NCT00490932', 'NCT00226616', 'NCT01269554', 'NCT00324285', 'NCT00709410', 'NCT00741637', 'NCT02565940', 'NCT00624975', 'NCT00289224', 'NCT04269174', 'NCT01042951', 'NCT00401934', 'NCT02870751', 'NCT00119197', 'NCT00760825', 'NCT00419133', 'NCT00128011', 'NCT01233362', 'NCT03778125', 'NCT00429325', 'NCT01070277', 'NCT01365442', 'NCT01823939', 'NCT02027207', 'NCT00328380', 'NCT02742558', 'NCT01524640', 'NCT02827175', 'NCT00937274', 'NCT01142089']\n",
      " Query 52: Precision@10: 0.4000, Recall@10: 0.0976, F1@10: 0.1569, AP: 0.5537, nDCG@10: 0.6374, mrr@10: 1.0000\n",
      "  Total time for query: 0.21 seconds\n"
     ]
    },
    {
     "name": "stderr",
     "output_type": "stream",
     "text": [
      " 71%|███████   | 53/75 [00:11<00:04,  4.69it/s]"
     ]
    },
    {
     "name": "stdout",
     "output_type": "stream",
     "text": [
      "Time taken to retrieve (ES only): 14 ms\n",
      "Query 53 retrieved: ['NCT03624179', 'NCT00535158', 'NCT01456377', 'NCT01130181', 'NCT01419977', 'NCT03066817', 'NCT01495923', 'NCT04626063', 'NCT00130494', 'NCT04273490', 'NCT00345839', 'NCT00986180', 'NCT01119833', 'NCT03859895', 'NCT00997412', 'NCT04246619', 'NCT02490527', 'NCT02824718', 'NCT02002000', 'NCT03506919', 'NCT00417612', 'NCT03626246', 'NCT02633813', 'NCT00602784', 'NCT00862758', 'NCT01553318', 'NCT01093196', 'NCT03330288', 'NCT04056442', 'NCT00774020', 'NCT03825042', 'NCT01104051', 'NCT01722617', 'NCT00688168', 'NCT01707225', 'NCT00004492', 'NCT00145886', 'NCT00120133', 'NCT03304054', 'NCT02561039']\n",
      " Query 53: Precision@10: 0.0000, Recall@10: 0.0000, F1@10: 0.0000, AP: 0.0526, nDCG@10: 0.0316, mrr@10: 0.0000\n",
      "  Total time for query: 0.21 seconds\n"
     ]
    },
    {
     "name": "stderr",
     "output_type": "stream",
     "text": [
      " 72%|███████▏  | 54/75 [00:11<00:04,  4.68it/s]"
     ]
    },
    {
     "name": "stdout",
     "output_type": "stream",
     "text": [
      "Time taken to retrieve (ES only): 11 ms\n",
      "Query 54 retrieved: ['NCT03782870', 'NCT03182049', 'NCT00748644', 'NCT00103792', 'NCT00001541', 'NCT02126098', 'NCT04413149', 'NCT01066208', 'NCT00987389', 'NCT01934504', 'NCT00530075', 'NCT02807103', 'NCT03712345', 'NCT00005007', 'NCT01940094', 'NCT00072592', 'NCT00307593', 'NCT00001256', 'NCT00001155', 'NCT03290456', 'NCT03942887', 'NCT00001473', 'NCT00307658', 'NCT02198248', 'NCT02115997', 'NCT01731561', 'NCT00004567', 'NCT00001761', 'NCT00307645', 'NCT01613599', 'NCT02020889', 'NCT00430105', 'NCT00753103', 'NCT04413331', 'NCT01663623', 'NCT00001764', 'NCT00349674', 'NCT02180126', 'NCT01446211', 'NCT00001901']\n",
      " Query 54: Precision@10: 0.1000, Recall@10: 0.0333, F1@10: 0.0500, AP: 0.3633, nDCG@10: 0.3476, mrr@10: 1.0000\n",
      "  Total time for query: 0.21 seconds\n"
     ]
    },
    {
     "name": "stderr",
     "output_type": "stream",
     "text": [
      " 73%|███████▎  | 55/75 [00:11<00:04,  4.68it/s]"
     ]
    },
    {
     "name": "stdout",
     "output_type": "stream",
     "text": [
      "Time taken to retrieve (ES only): 11 ms\n",
      "Query 55 retrieved: ['NCT04212195', 'NCT03867526', 'NCT02763215', 'NCT04531189', 'NCT04408300', 'NCT00212355', 'NCT04012658', 'NCT02273596', 'NCT03589820', 'NCT01472874', 'NCT02426905', 'NCT01874028', 'NCT03299829', 'NCT01378182', 'NCT00212368', 'NCT03131427', 'NCT02712138', 'NCT01380899', 'NCT02702765', 'NCT02762682', 'NCT04576676', 'NCT03866603', 'NCT02383641', 'NCT00453128', 'NCT00001640', 'NCT04074512', 'NCT04308135', 'NCT00018889', 'NCT04083586', 'NCT00985010', 'NCT00811785', 'NCT00001262', 'NCT00001643', 'NCT00340301', 'NCT03011476', 'NCT02869945', 'NCT03146884', 'NCT04618679', 'NCT01949467', 'NCT00596908']\n",
      " Query 55: Precision@10: 1.0000, Recall@10: 0.4348, F1@10: 0.6061, AP: 0.9485, nDCG@10: 1.0000, mrr@10: 1.0000\n",
      "  Total time for query: 0.21 seconds\n"
     ]
    },
    {
     "name": "stderr",
     "output_type": "stream",
     "text": [
      " 75%|███████▍  | 56/75 [00:12<00:04,  4.67it/s]"
     ]
    },
    {
     "name": "stdout",
     "output_type": "stream",
     "text": [
      "Time taken to retrieve (ES only): 10 ms\n",
      "Query 56 retrieved: ['NCT01861717', 'NCT02427295', 'NCT01809808', 'NCT01029275', 'NCT00921609', 'NCT01368133', 'NCT01371643', 'NCT03439709', 'NCT02952885', 'NCT01723748', 'NCT02296216', 'NCT00993356', 'NCT00171886', 'NCT00182091', 'NCT04860037', 'NCT02092129', 'NCT03710499', 'NCT00001860', 'NCT00690898', 'NCT00934271', 'NCT00615004', 'NCT00171730', 'NCT03043586', 'NCT00616408', 'NCT00468624', 'NCT03431727', 'NCT04066569', 'NCT01618513', 'NCT01424241', 'NCT01673646', 'NCT00145405', 'NCT00915954', 'NCT00994214', 'NCT01752621', 'NCT00225979', 'NCT01556230', 'NCT00461149', 'NCT00627796', 'NCT00001981', 'NCT03548415']\n",
      " Query 56: Precision@10: 0.7000, Recall@10: 0.1373, F1@10: 0.2295, AP: 0.6638, nDCG@10: 0.8216, mrr@10: 1.0000\n",
      "  Total time for query: 0.21 seconds\n"
     ]
    },
    {
     "name": "stderr",
     "output_type": "stream",
     "text": [
      " 76%|███████▌  | 57/75 [00:12<00:03,  4.66it/s]"
     ]
    },
    {
     "name": "stdout",
     "output_type": "stream",
     "text": [
      "Time taken to retrieve (ES only): 10 ms\n",
      "Query 57 retrieved: ['NCT03259880', 'NCT04196504', 'NCT03354065', 'NCT04615702', 'NCT04570852', 'NCT01015417', 'NCT03342716', 'NCT04735055', 'NCT02430285', 'NCT02563080', 'NCT02528760', 'NCT03407534', 'NCT04750044', 'NCT03643900', 'NCT04408872', 'NCT00523874', 'NCT01929538', 'NCT00863642', 'NCT02543658', 'NCT03411629', 'NCT04552028', 'NCT01583517', 'NCT01611532', 'NCT03173118', 'NCT03601325', 'NCT01997476', 'NCT01796652', 'NCT02204189', 'NCT01758549', 'NCT01133535', 'NCT02590978', 'NCT00609726', 'NCT03709030', 'NCT00133835', 'NCT04231279', 'NCT04173624', 'NCT02351492', 'NCT04214756', 'NCT03063398', 'NCT03253861']\n",
      " Query 57: Precision@10: 0.9000, Recall@10: 0.0833, F1@10: 0.1525, AP: 0.7631, nDCG@10: 0.9216, mrr@10: 1.0000\n",
      "  Total time for query: 0.22 seconds\n"
     ]
    },
    {
     "name": "stderr",
     "output_type": "stream",
     "text": [
      " 77%|███████▋  | 58/75 [00:12<00:03,  4.51it/s]"
     ]
    },
    {
     "name": "stdout",
     "output_type": "stream",
     "text": [
      "Time taken to retrieve (ES only): 12 ms\n",
      "Query 58 retrieved: ['NCT03289351', 'NCT03234296', 'NCT03236961', 'NCT00677417', 'NCT02404064', 'NCT04634448', 'NCT04440150', 'NCT04033198', 'NCT03902262', 'NCT00135603', 'NCT00971438', 'NCT02867072', 'NCT01967745', 'NCT03159754', 'NCT04253899', 'NCT03169114', 'NCT01054417', 'NCT02742402', 'NCT04688463', 'NCT02687464', 'NCT04168866', 'NCT01678365', 'NCT04689906', 'NCT01096927', 'NCT04594486', 'NCT03267082', 'NCT02789865', 'NCT00413855', 'NCT02687217', 'NCT02673528', 'NCT04271826', 'NCT01260064', 'NCT04576273', 'NCT04281251', 'NCT04464382', 'NCT04083313', 'NCT00414375', 'NCT00677989', 'NCT04472052', 'NCT03591419']\n",
      " Query 58: Precision@10: 0.2000, Recall@10: 0.0364, F1@10: 0.0615, AP: 0.3856, nDCG@10: 0.4474, mrr@10: 1.0000\n",
      "  Total time for query: 0.24 seconds\n"
     ]
    },
    {
     "name": "stderr",
     "output_type": "stream",
     "text": [
      " 79%|███████▊  | 59/75 [00:12<00:03,  4.49it/s]"
     ]
    },
    {
     "name": "stdout",
     "output_type": "stream",
     "text": [
      "Time taken to retrieve (ES only): 10 ms\n",
      "Query 59 retrieved: ['NCT04674137', 'NCT00411567', 'NCT01437735', 'NCT02415179', 'NCT01500525', 'NCT00585039', 'NCT03788057', 'NCT01515995', 'NCT03846570', 'NCT00509197', 'NCT00634517', 'NCT01436890', 'NCT01772368', 'NCT02340520', 'NCT03498742', 'NCT03204760', 'NCT00278083', 'NCT01313637', 'NCT01313650', 'NCT01687283', 'NCT00839124', 'NCT00784485', 'NCT01800994', 'NCT00662298', 'NCT01691508', 'NCT04705727', 'NCT00515775', 'NCT03029156', 'NCT04322422', 'NCT01260623', 'NCT00180661', 'NCT00954850', 'NCT01562093', 'NCT00583778', 'NCT02660853', 'NCT00182481', 'NCT01498653', 'NCT04509661', 'NCT00096954', 'NCT00657774']\n",
      " Query 59: Precision@10: 0.2000, Recall@10: 0.0106, F1@10: 0.0201, AP: 0.2281, nDCG@10: 0.3038, mrr@10: 0.2500\n",
      "  Total time for query: 0.22 seconds\n",
      "Time taken to retrieve (ES only): 5 ms\n"
     ]
    },
    {
     "name": "stderr",
     "output_type": "stream",
     "text": [
      " 80%|████████  | 60/75 [00:13<00:03,  4.58it/s]"
     ]
    },
    {
     "name": "stdout",
     "output_type": "stream",
     "text": [
      "Query 60 retrieved: ['NCT03239951', 'NCT01563796', 'NCT02681471', 'NCT04781985', 'NCT01815697', 'NCT02689830', 'NCT02533687', 'NCT02524236', 'NCT02961114', 'NCT04766268', 'NCT00431626', 'NCT03104907', 'NCT00564460', 'NCT02822924', 'NCT02074644', 'NCT00169767', 'NCT00077012', 'NCT00381108', 'NCT03457805', 'NCT03912558', 'NCT04212403', 'NCT04764903', 'NCT01661621', 'NCT00561262', 'NCT04529369', 'NCT02283684', 'NCT01604148', 'NCT04588857', 'NCT00596011', 'NCT00685633', 'NCT01963312', 'NCT03179228', 'NCT02054013', 'NCT03959917', 'NCT03630926', 'NCT00827814', 'NCT01083979', 'NCT03280420', 'NCT01747577', 'NCT01810068']\n",
      " Query 60: Precision@10: 0.4000, Recall@10: 0.0268, F1@10: 0.0503, AP: 0.5292, nDCG@10: 0.5329, mrr@10: 1.0000\n",
      "  Total time for query: 0.21 seconds\n"
     ]
    },
    {
     "name": "stderr",
     "output_type": "stream",
     "text": [
      " 81%|████████▏ | 61/75 [00:13<00:03,  4.58it/s]"
     ]
    },
    {
     "name": "stdout",
     "output_type": "stream",
     "text": [
      "Time taken to retrieve (ES only): 12 ms\n",
      "Query 61 retrieved: ['NCT02897700', 'NCT00001250', 'NCT03188393', 'NCT00542191', 'NCT04436809', 'NCT00970983', 'NCT04293796', 'NCT04697043', 'NCT04225858', 'NCT03669705', 'NCT01920139', 'NCT03681418', 'NCT04245150', 'NCT00881361', 'NCT01501487', 'NCT00003953', 'NCT03236974', 'NCT00507611', 'NCT00233974', 'NCT00103181', 'NCT03981705', 'NCT04741737', 'NCT02752009', 'NCT02515110', 'NCT02295033', 'NCT01541878', 'NCT02564848', 'NCT01796444', 'NCT04109079', 'NCT03669952', 'NCT04500262', 'NCT03381092', 'NCT03491410', 'NCT00054301', 'NCT03144037', 'NCT04046159', 'NCT01984866', 'NCT02670577', 'NCT03630653', 'NCT02464774']\n",
      " Query 61: Precision@10: 0.1000, Recall@10: 0.0083, F1@10: 0.0154, AP: 0.1786, nDCG@10: 0.1377, mrr@10: 0.1250\n",
      "  Total time for query: 0.22 seconds\n"
     ]
    },
    {
     "name": "stderr",
     "output_type": "stream",
     "text": [
      " 83%|████████▎ | 62/75 [00:13<00:02,  4.55it/s]"
     ]
    },
    {
     "name": "stdout",
     "output_type": "stream",
     "text": [
      "Time taken to retrieve (ES only): 10 ms\n",
      "Query 62 retrieved: ['NCT00810550', 'NCT00949169', 'NCT04825080', 'NCT03721523', 'NCT01208025', 'NCT04423406', 'NCT02487615', 'NCT00307307', 'NCT03672955', 'NCT00451529', 'NCT03041168', 'NCT02476396', 'NCT02992821', 'NCT00235248', 'NCT03499496', 'NCT03464851', 'NCT02141932', 'NCT00005189', 'NCT04444024', 'NCT01042912', 'NCT03840265', 'NCT01458860', 'NCT03871725', 'NCT00287508', 'NCT03382249', 'NCT00417963', 'NCT02992301', 'NCT02748941', 'NCT01133327', 'NCT01284933', 'NCT01599195', 'NCT02726984', 'NCT03786666', 'NCT01419574', 'NCT01795456', 'NCT00343655', 'NCT04144725', 'NCT04738864', 'NCT01743040', 'NCT02884141']\n",
      " Query 62: Precision@10: 0.6000, Recall@10: 0.0923, F1@10: 0.1600, AP: 0.4588, nDCG@10: 0.5289, mrr@10: 0.3333\n",
      "  Total time for query: 0.22 seconds\n"
     ]
    },
    {
     "name": "stderr",
     "output_type": "stream",
     "text": [
      " 84%|████████▍ | 63/75 [00:13<00:02,  4.60it/s]"
     ]
    },
    {
     "name": "stdout",
     "output_type": "stream",
     "text": [
      "Time taken to retrieve (ES only): 13 ms\n",
      "Query 63 retrieved: ['NCT01425177', 'NCT01015417', 'NCT02830984', 'NCT02472509', 'NCT02430285', 'NCT03259880', 'NCT03709030', 'NCT02349568', 'NCT03981315', 'NCT04234126', 'NCT00161083', 'NCT04615702', 'NCT04675190', 'NCT04408872', 'NCT02554097', 'NCT01100398', 'NCT01492790', 'NCT00634140', 'NCT02967926', 'NCT02469935', 'NCT02351492', 'NCT02528760', 'NCT03354065', 'NCT02721862', 'NCT04242394', 'NCT02155244', 'NCT04850547', 'NCT02325492', 'NCT02870686', 'NCT03804775', 'NCT02195115', 'NCT03407534', 'NCT02833103', 'NCT04173624', 'NCT03513900', 'NCT02156947', 'NCT04350346', 'NCT03533322', 'NCT00339560', 'NCT04467710']\n",
      " Query 63: Precision@10: 0.1000, Recall@10: 0.0286, F1@10: 0.0444, AP: 0.1324, nDCG@10: 0.0978, mrr@10: 0.1250\n",
      "  Total time for query: 0.21 seconds\n"
     ]
    },
    {
     "name": "stderr",
     "output_type": "stream",
     "text": [
      " 85%|████████▌ | 64/75 [00:13<00:02,  4.59it/s]"
     ]
    },
    {
     "name": "stdout",
     "output_type": "stream",
     "text": [
      "Time taken to retrieve (ES only): 15 ms\n",
      "Query 64 retrieved: ['NCT00751426', 'NCT03520660', 'NCT01872988', 'NCT02825212', 'NCT00380614', 'NCT00512941', 'NCT04405011', 'NCT03693586', 'NCT01360268', 'NCT03170076', 'NCT03547895', 'NCT02483156', 'NCT03226717', 'NCT03186313', 'NCT00707772', 'NCT03740789', 'NCT01453075', 'NCT04546802', 'NCT00527540', 'NCT03014986', 'NCT01437969', 'NCT00951223', 'NCT00201318', 'NCT02973503', 'NCT00887081', 'NCT03722628', 'NCT00709228', 'NCT04032860', 'NCT01750515', 'NCT02265237', 'NCT01384565', 'NCT00001982', 'NCT01289652', 'NCT02532907', 'NCT03296930', 'NCT02669966', 'NCT00154869', 'NCT00823550', 'NCT03702218', 'NCT02707952']\n",
      " Query 64: Precision@10: 0.4000, Recall@10: 0.0615, F1@10: 0.1067, AP: 0.3237, nDCG@10: 0.3542, mrr@10: 0.5000\n",
      "  Total time for query: 0.22 seconds\n"
     ]
    },
    {
     "name": "stderr",
     "output_type": "stream",
     "text": [
      " 87%|████████▋ | 65/75 [00:14<00:02,  4.64it/s]"
     ]
    },
    {
     "name": "stdout",
     "output_type": "stream",
     "text": [
      "Time taken to retrieve (ES only): 11 ms\n",
      "Query 65 retrieved: ['NCT03188757', 'NCT00684528', 'NCT00488033', 'NCT02062554', 'NCT01029392', 'NCT01220349', 'NCT04200586', 'NCT04593173', 'NCT04450407', 'NCT00732524', 'NCT03117010', 'NCT01071928', 'NCT02280174', 'NCT03930004', 'NCT04388280', 'NCT04256005', 'NCT02691533', 'NCT04385589', 'NCT01215136', 'NCT01154413', 'NCT04322240', 'NCT01511042', 'NCT00380068', 'NCT03146884', 'NCT01636427', 'NCT02685774', 'NCT00537628', 'NCT01935765', 'NCT04509609', 'NCT01483560', 'NCT01053026', 'NCT03660293', 'NCT00961701', 'NCT00622089', 'NCT00883584', 'NCT04630067', 'NCT00879359', 'NCT03878459', 'NCT01863173', 'NCT01275339']\n",
      " Query 65: Precision@10: 0.1000, Recall@10: 0.0137, F1@10: 0.0241, AP: 0.1339, nDCG@10: 0.0694, mrr@10: 0.1250\n",
      "  Total time for query: 0.21 seconds\n"
     ]
    },
    {
     "name": "stderr",
     "output_type": "stream",
     "text": [
      " 88%|████████▊ | 66/75 [00:14<00:01,  4.66it/s]"
     ]
    },
    {
     "name": "stdout",
     "output_type": "stream",
     "text": [
      "Time taken to retrieve (ES only): 10 ms\n",
      "Query 66 retrieved: ['NCT04752202', 'NCT00552487', 'NCT02319538', 'NCT02798965', 'NCT01884649', 'NCT02725879', 'NCT04754607', 'NCT02868476', 'NCT02126683', 'NCT00665171', 'NCT03984006', 'NCT00172523', 'NCT03106935', 'NCT01760421', 'NCT04249271', 'NCT02703064', 'NCT04178928', 'NCT01313455', 'NCT00001159', 'NCT03048708', 'NCT01256944', 'NCT04364087', 'NCT01940666', 'NCT04236232', 'NCT04795947', 'NCT02317926', 'NCT02052479', 'NCT01997554', 'NCT02309047', 'NCT00715572', 'NCT04472988', 'NCT00025870', 'NCT02859584', 'NCT02710175', 'NCT03579303', 'NCT00524238', 'NCT03463226', 'NCT01280292', 'NCT01735799', 'NCT02608554']\n",
      " Query 66: Precision@10: 0.1000, Recall@10: 0.0909, F1@10: 0.0952, AP: 0.1360, nDCG@10: 0.2852, mrr@10: 0.1667\n",
      "  Total time for query: 0.21 seconds\n"
     ]
    },
    {
     "name": "stderr",
     "output_type": "stream",
     "text": [
      " 89%|████████▉ | 67/75 [00:14<00:01,  4.60it/s]"
     ]
    },
    {
     "name": "stdout",
     "output_type": "stream",
     "text": [
      "Time taken to retrieve (ES only): 11 ms\n",
      "Query 67 retrieved: ['NCT00343213', 'NCT00872937', 'NCT00091130', 'NCT03998254', 'NCT01385436', 'NCT03837028', 'NCT00128661', 'NCT00201370', 'NCT03920800', 'NCT00743626', 'NCT04369339', 'NCT01550783', 'NCT04171505', 'NCT03577925', 'NCT00689741', 'NCT00006444', 'NCT00312286', 'NCT00117884', 'NCT01924117', 'NCT01131312', 'NCT02780960', 'NCT00931190', 'NCT01384370', 'NCT00003384', 'NCT00709891', 'NCT00154479', 'NCT04587050', 'NCT03848039', 'NCT00266266', 'NCT00154583', 'NCT04057924', 'NCT04671823', 'NCT00435214', 'NCT04461678', 'NCT04783805', 'NCT02113514', 'NCT01133509', 'NCT03903952', 'NCT01599416', 'NCT00196937']\n",
      " Query 67: Precision@10: 0.2000, Recall@10: 0.0333, F1@10: 0.0571, AP: 0.2865, nDCG@10: 0.4216, mrr@10: 0.5000\n",
      "  Total time for query: 0.22 seconds\n"
     ]
    },
    {
     "name": "stderr",
     "output_type": "stream",
     "text": [
      " 91%|█████████ | 68/75 [00:14<00:01,  4.56it/s]"
     ]
    },
    {
     "name": "stdout",
     "output_type": "stream",
     "text": [
      "Time taken to retrieve (ES only): 8 ms\n",
      "Query 68 retrieved: ['NCT00901940', 'NCT04749810', 'NCT01133834', 'NCT03721146', 'NCT04236960', 'NCT00862277', 'NCT02205541', 'NCT00390143', 'NCT03263403', 'NCT02257892', 'NCT01257269', 'NCT00974363', 'NCT02904863', 'NCT02986854', 'NCT01478347', 'NCT02464891', 'NCT04083443', 'NCT02867319', 'NCT00661557', 'NCT04204096', 'NCT02752906', 'NCT03999840', 'NCT03117010', 'NCT01114165', 'NCT02987790', 'NCT02811120', 'NCT00930423', 'NCT02373267', 'NCT04399018', 'NCT01633476', 'NCT00867932', 'NCT02519361', 'NCT01593514', 'NCT02727465', 'NCT02919293', 'NCT01934504', 'NCT03682939', 'NCT02398396', 'NCT04178915', 'NCT03580941']\n",
      " Query 68: Precision@10: 0.0000, Recall@10: 0.0000, F1@10: 0.0000, AP: 0.1090, nDCG@10: 0.1223, mrr@10: 0.0000\n",
      "  Total time for query: 0.22 seconds\n"
     ]
    },
    {
     "name": "stderr",
     "output_type": "stream",
     "text": [
      " 92%|█████████▏| 69/75 [00:15<00:01,  4.46it/s]"
     ]
    },
    {
     "name": "stdout",
     "output_type": "stream",
     "text": [
      "Time taken to retrieve (ES only): 10 ms\n",
      "Query 69 retrieved: ['NCT01181336', 'NCT00230750', 'NCT00769002', 'NCT00253734', 'NCT00546585', 'NCT00397215', 'NCT01317745', 'NCT02213354', 'NCT01827462', 'NCT02746783', 'NCT00943358', 'NCT02908269', 'NCT01721083', 'NCT01317758', 'NCT03028974', 'NCT00283283', 'NCT00973895', 'NCT00170547', 'NCT03020498', 'NCT01123954', 'NCT00231907', 'NCT01153685', 'NCT00386113', 'NCT01436370', 'NCT01189123', 'NCT01226758', 'NCT00695669', 'NCT02921997', 'NCT03614975', 'NCT01978262', 'NCT01236040', 'NCT03300362', 'NCT00858611', 'NCT00814385', 'NCT00006146', 'NCT03814720', 'NCT00943631', 'NCT00311649', 'NCT00138385', 'NCT00988143']\n",
      " Query 69: Precision@10: 0.4000, Recall@10: 0.1053, F1@10: 0.1667, AP: 0.3681, nDCG@10: 0.4521, mrr@10: 0.5000\n",
      "  Total time for query: 0.23 seconds\n"
     ]
    },
    {
     "name": "stderr",
     "output_type": "stream",
     "text": [
      " 93%|█████████▎| 70/75 [00:15<00:01,  4.52it/s]"
     ]
    },
    {
     "name": "stdout",
     "output_type": "stream",
     "text": [
      "Time taken to retrieve (ES only): 10 ms\n",
      "Query 70 retrieved: ['NCT01725048', 'NCT04471818', 'NCT01312922', 'NCT02436252', 'NCT02746367', 'NCT03554447', 'NCT01497548', 'NCT04442490', 'NCT00976560', 'NCT01935050', 'NCT01748734', 'NCT01619631', 'NCT03717844', 'NCT00360399', 'NCT00625742', 'NCT00122954', 'NCT03057860', 'NCT03833206', 'NCT02424708', 'NCT04826614', 'NCT00138138', 'NCT00067444', 'NCT02361125', 'NCT03766074', 'NCT01694953', 'NCT04667741', 'NCT03297177', 'NCT03580967', 'NCT00450541', 'NCT04730245', 'NCT01724112', 'NCT01797575', 'NCT01754493', 'NCT00185575', 'NCT04235725', 'NCT00666653', 'NCT03307070', 'NCT02818777', 'NCT00360633', 'NCT01842542']\n",
      " Query 70: Precision@10: 0.3000, Recall@10: 0.0273, F1@10: 0.0500, AP: 0.2560, nDCG@10: 0.4093, mrr@10: 0.2000\n",
      "  Total time for query: 0.21 seconds\n"
     ]
    },
    {
     "name": "stderr",
     "output_type": "stream",
     "text": [
      " 95%|█████████▍| 71/75 [00:15<00:00,  4.54it/s]"
     ]
    },
    {
     "name": "stdout",
     "output_type": "stream",
     "text": [
      "Time taken to retrieve (ES only): 11 ms\n",
      "Query 71 retrieved: ['NCT01842425', 'NCT00622765', 'NCT00770276', 'NCT02598531', 'NCT04278183', 'NCT04554082', 'NCT04193995', 'NCT03105050', 'NCT01639677', 'NCT02463435', 'NCT01040533', 'NCT01784848', 'NCT04109664', 'NCT03288259', 'NCT01041105', 'NCT02680873', 'NCT02004561', 'NCT00667498', 'NCT03394157', 'NCT00120562', 'NCT04592601', 'NCT01571180', 'NCT02717832', 'NCT04357119', 'NCT03791242', 'NCT03106207', 'NCT00704197', 'NCT04595006', 'NCT02980770', 'NCT03206905', 'NCT02142257', 'NCT01834300', 'NCT03517072', 'NCT02710786', 'NCT04548232', 'NCT01707771', 'NCT01066091', 'NCT02721862', 'NCT02037516', 'NCT04782856']\n",
      " Query 71: Precision@10: 0.5000, Recall@10: 0.0376, F1@10: 0.0699, AP: 0.5326, nDCG@10: 0.6137, mrr@10: 1.0000\n",
      "  Total time for query: 0.22 seconds\n"
     ]
    },
    {
     "name": "stderr",
     "output_type": "stream",
     "text": [
      " 96%|█████████▌| 72/75 [00:15<00:00,  4.51it/s]"
     ]
    },
    {
     "name": "stdout",
     "output_type": "stream",
     "text": [
      "Time taken to retrieve (ES only): 11 ms\n",
      "Query 72 retrieved: ['NCT02902536', 'NCT03792659', 'NCT04674605', 'NCT04535843', 'NCT01727193', 'NCT00306033', 'NCT00619671', 'NCT02950155', 'NCT00727194', 'NCT01480596', 'NCT04768465', 'NCT04226170', 'NCT03914638', 'NCT03315130', 'NCT01997229', 'NCT03920293', 'NCT02100969', 'NCT03971422', 'NCT00814138', 'NCT04728425', 'NCT01179893', 'NCT03468452', 'NCT04158661', 'NCT04431895', 'NCT03052751', 'NCT03772587', 'NCT00294658', 'NCT02965573', 'NCT03743740', 'NCT03059888', 'NCT00515450', 'NCT03863080', 'NCT00004682', 'NCT00683969', 'NCT02473952', 'NCT03979521', 'NCT04159805', 'NCT01268280', 'NCT00774462', 'NCT03049956']\n",
      " Query 72: Precision@10: 0.2000, Recall@10: 0.1333, F1@10: 0.1600, AP: 0.2628, nDCG@10: 0.4236, mrr@10: 0.3333\n",
      "  Total time for query: 0.23 seconds\n"
     ]
    },
    {
     "name": "stderr",
     "output_type": "stream",
     "text": [
      " 97%|█████████▋| 73/75 [00:15<00:00,  4.53it/s]"
     ]
    },
    {
     "name": "stdout",
     "output_type": "stream",
     "text": [
      "Time taken to retrieve (ES only): 14 ms\n",
      "Query 73 retrieved: ['NCT01136577', 'NCT04215601', 'NCT02625688', 'NCT04099602', 'NCT04719104', 'NCT04418180', 'NCT03942757', 'NCT03055481', 'NCT02154165', 'NCT02446951', 'NCT03183986', 'NCT03569254', 'NCT03570775', 'NCT00653874', 'NCT02613676', 'NCT02774434', 'NCT01434810', 'NCT01622699', 'NCT00635375', 'NCT04365998', 'NCT02372071', 'NCT02372058', 'NCT00114543', 'NCT01203410', 'NCT04021927', 'NCT02805296', 'NCT01470820', 'NCT02156050', 'NCT00735319', 'NCT03866213', 'NCT02356978', 'NCT03599258', 'NCT01550627', 'NCT02612727', 'NCT00692224', 'NCT04585828', 'NCT04251286', 'NCT01762189', 'NCT00288600', 'NCT03130517']\n",
      " Query 73: Precision@10: 0.2000, Recall@10: 0.1000, F1@10: 0.1333, AP: 0.2855, nDCG@10: 0.3164, mrr@10: 0.1429\n",
      "  Total time for query: 0.22 seconds\n"
     ]
    },
    {
     "name": "stderr",
     "output_type": "stream",
     "text": [
      " 99%|█████████▊| 74/75 [00:16<00:00,  4.58it/s]"
     ]
    },
    {
     "name": "stdout",
     "output_type": "stream",
     "text": [
      "Time taken to retrieve (ES only): 14 ms\n",
      "Query 74 retrieved: ['NCT00306046', 'NCT00051636', 'NCT00774020', 'NCT00480662', 'NCT00747994', 'NCT04222452', 'NCT02106455', 'NCT00894075', 'NCT02802384', 'NCT02056730', 'NCT00453128', 'NCT03993821', 'NCT03859895', 'NCT00108394', 'NCT00195936', 'NCT00066183', 'NCT00417612', 'NCT02198001', 'NCT02967042', 'NCT00973336', 'NCT01875458', 'NCT00668200', 'NCT02603042', 'NCT00415584', 'NCT04184661', 'NCT00712985', 'NCT00324714', 'NCT01839383', 'NCT03716128', 'NCT00377312', 'NCT00159419', 'NCT01306656', 'NCT00572299', 'NCT01222026', 'NCT01360099', 'NCT01419028', 'NCT02235493', 'NCT00222872', 'NCT03713671', 'NCT03027349']\n",
      " Query 74: Precision@10: 0.7000, Recall@10: 0.6364, F1@10: 0.6667, AP: 0.8748, nDCG@10: 0.7885, mrr@10: 1.0000\n",
      "  Total time for query: 0.21 seconds\n"
     ]
    },
    {
     "name": "stderr",
     "output_type": "stream",
     "text": [
      "100%|██████████| 75/75 [00:16<00:00,  4.58it/s]"
     ]
    },
    {
     "name": "stdout",
     "output_type": "stream",
     "text": [
      "Time taken to retrieve (ES only): 11 ms\n",
      "Query 75 retrieved: ['NCT00443768', 'NCT00001928', 'NCT00203060', 'NCT00199394', 'NCT04380142', 'NCT00526630', 'NCT00607451', 'NCT00148512', 'NCT00472355', 'NCT00666653', 'NCT00307450', 'NCT03956979', 'NCT00199407', 'NCT03433950', 'NCT04379050', 'NCT04750226', 'NCT04472130', 'NCT00199420', 'NCT00199355', 'NCT03568968', 'NCT01003002', 'NCT00466167', 'NCT00004733', 'NCT01970813', 'NCT02424708', 'NCT04687878', 'NCT03703570', 'NCT00794313', 'NCT03011476', 'NCT00596908', 'NCT04373317', 'NCT01892176', 'NCT01016743', 'NCT01399905', 'NCT00359723', 'NCT00758368', 'NCT03665454', 'NCT02565628', 'NCT03446807', 'NCT04858074']\n",
      " Query 75: Precision@10: 0.1000, Recall@10: 0.0071, F1@10: 0.0132, AP: 0.2103, nDCG@10: 0.3576, mrr@10: 0.5000\n",
      "  Total time for query: 0.23 seconds\n",
      "\n",
      "--- Overall Evaluation (Semantic-Only) ---\n",
      "Date/time:2025-04-10 08:19:54\n",
      "Relevance threshold >= 2\n",
      "Mean Precision@10: 0.3160\n",
      "Mean Recall@10: 0.0717\n",
      "Mean F1@10: 0.1035\n",
      "Mean Average Precision (MAP): 0.3815\n",
      "Mean nDCG@10: 0.4282\n",
      "Mean MRR@10: 0.5431\n",
      "Average total time per query: 0.22 seconds\n"
     ]
    },
    {
     "name": "stderr",
     "output_type": "stream",
     "text": [
      "\n"
     ]
    }
   ],
   "source": [
    "\"\"\"\n",
    "Zuveir Jameer\n",
    "8 April 2025\n",
    "Retrieval based on sentence embedding only\n",
    "\"\"\"\n",
    "\n",
    "import json\n",
    "import numpy as np\n",
    "from tqdm import tqdm\n",
    "import time\n",
    "import pandas as pd\n",
    "from datetime import datetime\n",
    "\n",
    "#Evaluation Metric Functions\n",
    "def precision_at_k(re_ranked_docs, relevant_docs, k):\n",
    "    top_k_docs = re_ranked_docs[:k]\n",
    "    num_relevant_in_k = sum(1 for doc in top_k_docs \n",
    "                            if doc in relevant_docs and relevant_docs[doc] > 0)\n",
    "    return num_relevant_in_k / k if k else 0.0\n",
    "\n",
    "def recall_at_k(re_ranked_docs, relevant_docs, k):\n",
    "    top_k_docs = re_ranked_docs[:k]\n",
    "    total_relevant = sum(1 for doc, rel in relevant_docs.items() if rel > 0)\n",
    "    if total_relevant == 0:\n",
    "        return 0.0\n",
    "    num_relevant_in_k = sum(1 for doc in top_k_docs \n",
    "                            if doc in relevant_docs and relevant_docs[doc] > 0)\n",
    "    return num_relevant_in_k / total_relevant\n",
    "\n",
    "def f1_at_k(re_ranked_docs, relevant_docs, k):\n",
    "    p = precision_at_k(re_ranked_docs, relevant_docs, k)\n",
    "    r = recall_at_k(re_ranked_docs, relevant_docs, k)\n",
    "    if (p + r) == 0:\n",
    "        return 0.0\n",
    "    return 2 * (p * r) / (p + r)\n",
    "\n",
    "def average_precision(re_ranked_docs, relevant_docs):\n",
    "    if not relevant_docs:\n",
    "        return 0.0\n",
    "    \n",
    "    relevant_indices = [\n",
    "        i for i, doc in enumerate(re_ranked_docs)\n",
    "        if doc in relevant_docs and relevant_docs[doc] > 0\n",
    "    ]\n",
    "    if not relevant_indices:\n",
    "        return 0.0\n",
    "    \n",
    "    ap_sum = 0.0\n",
    "    for idx, rank_pos in enumerate(relevant_indices, start=1):\n",
    "        prec = precision_at_k(re_ranked_docs, relevant_docs, rank_pos+1)\n",
    "        ap_sum += prec\n",
    "    return ap_sum / len(relevant_indices)\n",
    "\n",
    "def ndcg_at_k(re_ranked_docs, relevant_docs, k):\n",
    "    def dcg(scores):\n",
    "        return sum(( (2**s - 1) / np.log2(idx + 2)) for idx, s in enumerate(scores))\n",
    "    \n",
    "    top_k_docs = re_ranked_docs[:k]\n",
    "    actual_scores = [relevant_docs[doc] if doc in relevant_docs else 0 for doc in top_k_docs]\n",
    "    actual_dcg = dcg(actual_scores)\n",
    "    \n",
    "    sorted_rels = sorted(relevant_docs.values(), reverse=True)[:k]\n",
    "    ideal_dcg = dcg(sorted_rels)\n",
    "    \n",
    "    if ideal_dcg == 0:\n",
    "        return 0.0\n",
    "    return actual_dcg / ideal_dcg\n",
    "\n",
    "def mrr_at_k(re_ranked_docs, relevant_docs, k):\n",
    "    for i, doc_id in enumerate(re_ranked_docs[:k], start=1):\n",
    "        if doc_id in relevant_docs and relevant_docs[doc_id] > 0:\n",
    "            return 1.0 / i\n",
    "    return 0.0\n",
    "\n",
    "\n",
    "# Data Loading\n",
    "def load_jsonl(filepath):\n",
    "    data = {}\n",
    "    with open(filepath, \"r\") as f:\n",
    "        for line in f:\n",
    "            entry = json.loads(line)\n",
    "            qid = entry[\"query_id\"]\n",
    "            # If it's a query record\n",
    "            if \"text\" in entry:\n",
    "                data[qid] = entry[\"text\"].strip()\n",
    "            else:\n",
    "                # It's a qrel record\n",
    "                if qid not in data:\n",
    "                    data[qid] = {}\n",
    "                doc_id = entry[\"doc_id\"]\n",
    "                relevance = int(entry.get(\"relevance\", 0))\n",
    "                data[qid][doc_id] = relevance\n",
    "    return data\n",
    "\n",
    "queries = load_jsonl(\"trec_ct_2021_query.jsonl\")  \n",
    "qrels = load_jsonl(\"trec_ct_2021_qrels.jsonl\")    \n",
    "\n",
    "\n",
    "def semantic_search(query_text, top_k=100):\n",
    "    \"\"\"\n",
    "    Search the entire index using a script_score\n",
    "    with 'detailed_descrption_vector' and our query vector.\n",
    "    \"\"\"\n",
    "    query_vector = get_embedding(query_text)\n",
    "    vector_query_body = {\n",
    "        \"size\": top_k,  # put size in the body to avoid deprecation warnings\n",
    "        \"query\": {\n",
    "            \"script_score\": {\n",
    "                \"query\": {\n",
    "                    \"bool\": {\n",
    "                        \"must\": [\n",
    "                            {\"exists\": {\"field\": \"detailed_descrption_vector_1\"}}\n",
    "                        ]\n",
    "                    }\n",
    "                },\n",
    "                \"script\": {\n",
    "                    \"source\": \"cosineSimilarity(params.query_vector, 'detailed_descrption_vector_1') + 1.0\",\n",
    "                    \"params\": {\"query_vector\": query_vector}\n",
    "                }\n",
    "            }\n",
    "        }\n",
    "    }\n",
    "    \n",
    "    response = es.search(index=\"ir_dev_sentence_index\", body=vector_query_body)\n",
    "    print(\"Time taken to retrieve (ES only): {} ms\".format(response[\"took\"]))\n",
    "    return [hit[\"_source\"][\"doc_id\"] for hit in response[\"hits\"][\"hits\"]]\n",
    "\n",
    "# Evaluation\n",
    "searck_K=40 \n",
    "K = 10               # top K for retrieval & evaluation\n",
    "RELEVANCE_THRESHOLD = 2  # Consider docs with relevance >= x as relevant for evaluation\n",
    "\n",
    "def get_relevant_docs(qrel_dict, relevance_threshold=1):\n",
    "    return {doc_id: rel for doc_id, rel in qrel_dict.items() if rel >= relevance_threshold}\n",
    "\n",
    "def get_all_docs(qrel_dict):\n",
    "    \"\"\"Return the entire dictionary of {doc_id: relevance}, including relevance=0.\"\"\"\n",
    "    return {doc_id: rel for doc_id, rel in qrel_dict.items()}\n",
    "\n",
    "all_metrics = []\n",
    "\n",
    "print(\"Semantic-Only Retrieval (sentence embeddings)...\")\n",
    "for qid, query_text in tqdm(queries.items(), total=len(queries)):\n",
    "    if not query_text:\n",
    "        continue\n",
    "    \n",
    "    #Track total time\n",
    "    start_time = time.time()\n",
    "\n",
    "    # Retrieve top K docs via semantic search\n",
    "    retrieved_docs = semantic_search(query_text, top_k=searck_K)\n",
    "\n",
    "    # Mark the end time for entire query processing\n",
    "    total_time = time.time() - start_time\n",
    "    \n",
    "    # Filter qrels to get only docs with >= threshold for evaluation\n",
    "    relevant_docs = get_relevant_docs(qrels.get(qid, {}), relevance_threshold=RELEVANCE_THRESHOLD)\n",
    "    \n",
    "    #All docs retrieved (i.e no threshold) to compute nDCG based on graded relevance 0,1,2\n",
    "    ndcg_relevant_docs = get_all_docs(qrels.get(qid, {}))\n",
    "    \n",
    "    # Compute metrics\n",
    "    prec_val = precision_at_k(retrieved_docs, relevant_docs, K)\n",
    "    rec_val = recall_at_k(retrieved_docs, relevant_docs, K)\n",
    "    f_val = f1_at_k(retrieved_docs, relevant_docs, K)\n",
    "    ap_val = average_precision(retrieved_docs, relevant_docs)\n",
    "    ndcg_val = ndcg_at_k(retrieved_docs, ndcg_relevant_docs, K)\n",
    "    mrr_val = mrr_at_k(retrieved_docs, relevant_docs, K)\n",
    "\n",
    "    metrics = {\n",
    "        \"query_id\": qid,\n",
    "        \"precision\": prec_val,\n",
    "        \"recall\": rec_val,\n",
    "        \"f1\": f_val,\n",
    "        \"average_precision\": ap_val,\n",
    "        \"ndcg\": ndcg_val,\n",
    "        \"mrr\": mrr_val,\n",
    "        \"time_seconds\": total_time\n",
    "    }\n",
    "    all_metrics.append(metrics)\n",
    "    print(f\"Query {qid} retrieved: {retrieved_docs}\")\n",
    "    print(f\" Query {qid}: Precision@{K}: {prec_val:.4f}, Recall@{K}: {rec_val:.4f}, F1@{K}: {f_val:.4f}, AP: {ap_val:.4f}, nDCG@{K}: {ndcg_val:.4f}, mrr@{K}: {mrr_val:.4f}\")\n",
    "    print(f\"  Total time for query: {total_time:.2f} seconds\")\n",
    "\n",
    "# Compute overall metrics\n",
    "if all_metrics:\n",
    "    mean_precision = np.mean([m[\"precision\"] for m in all_metrics])\n",
    "    mean_recall = np.mean([m[\"recall\"] for m in all_metrics])\n",
    "    mean_f1 = np.mean([m[\"f1\"] for m in all_metrics])\n",
    "    mean_ap = np.mean([m[\"average_precision\"] for m in all_metrics])\n",
    "    mean_ndcg = np.mean([m[\"ndcg\"] for m in all_metrics])\n",
    "    mean_mrr = np.mean([m[\"mrr\"] for m in all_metrics])\n",
    "    avg_time = np.mean([m[\"time_seconds\"] for m in all_metrics])\n",
    "\n",
    "\n",
    "    print(\"\\n--- Overall Evaluation (Semantic-Only) ---\")\n",
    "    current_time = datetime.now().strftime(\"%Y-%m-%d %H:%M:%S\")\n",
    "    print(f\"Date/time:{current_time}\")\n",
    "    print(f\"Relevance threshold >= {RELEVANCE_THRESHOLD}\")\n",
    "    print(f\"Mean Precision@{K}: {mean_precision:.4f}\")\n",
    "    print(f\"Mean Recall@{K}: {mean_recall:.4f}\")\n",
    "    print(f\"Mean F1@{K}: {mean_f1:.4f}\")\n",
    "    print(f\"Mean Average Precision (MAP): {mean_ap:.4f}\")\n",
    "    print(f\"Mean nDCG@{K}: {mean_ndcg:.4f}\")\n",
    "    print(f\"Mean MRR@{K}: {mean_mrr:.4f}\")\n",
    "    print(f\"Average total time per query: {avg_time:.2f} seconds\")\n",
    "else:\n",
    "    print(\"No queries processed.\")\n",
    "\n",
    "# export the computed results for all each query\n",
    "df = pd.DataFrame(all_metrics)\n",
    "df = df[[\n",
    "    \"query_id\",\n",
    "    \"precision\",\n",
    "    \"recall\",\n",
    "    \"f1\",\n",
    "    \"average_precision\",\n",
    "    \"ndcg\",\n",
    "    \"mrr\",\n",
    "    \"time_seconds\"\n",
    "]]\n",
    "# Export to Excel\n",
    "output_file = \"sentence_embedding_metrics_output.xlsx\"\n",
    "df.to_excel(output_file, index=False)\n",
    "print(f\"Metrics successfully exported to {output_file}\")\n",
    "\n",
    "# Create a DataFrame to export the computed results for all queries\n",
    "data = {\n",
    "    \"Test\": \"Sentence Emdedding Only.\",\n",
    "    \"Date/Time\": [current_time],\n",
    "    \"Relevance Threshold\": [RELEVANCE_THRESHOLD],\n",
    "    f\"Mean Precision@{K}\": [mean_precision],\n",
    "    f\"Mean Recall@{K}\": [mean_recall],\n",
    "    f\"Mean F1@{K}\": [mean_f1],\n",
    "    \"Mean Average Precision (MAP)\": [mean_ap],\n",
    "    f\"Mean nDCG@{K}\": [mean_ndcg],\n",
    "    f\"Mean MRR@{K}\": [mean_mrr],\n",
    "    \"Avg Time per Query (s)\": [avg_time],\n",
    "}\n",
    "df = pd.DataFrame(data)\n",
    "\n",
    "# Export to an Excel file\n",
    "xlsx_filename = \"evaluation_results_sentence_embeddings_only.xlsx\"\n",
    "df.to_excel(xlsx_filename, index=False)\n",
    "\n",
    "print(f\"\\nMetrics have been exported to {xlsx_filename}\")"
   ]
  },
  {
   "cell_type": "markdown",
   "metadata": {},
   "source": [
    "### Bi-encoder and Cross-encoder"
   ]
  },
  {
   "cell_type": "code",
   "execution_count": null,
   "metadata": {},
   "outputs": [
    {
     "name": "stdout",
     "output_type": "stream",
     "text": [
      "Loaded 75 queries\n",
      "Loaded qrels for 75 queries\n",
      "Processing queries and retrieving documents...\n"
     ]
    },
    {
     "name": "stderr",
     "output_type": "stream",
     "text": [
      "  0%|          | 0/75 [00:00<?, ?it/s]/var/folders/b3/59dkzgnj0zxdhdx31d2ztm000000gn/T/ipykernel_54942/392687460.py:146: DeprecationWarning: Received 'size' via a specific parameter in the presence of a 'body' parameter, which is deprecated and will be removed in a future version. Instead, use only 'body' or only specific parameters.\n",
      "  response = es.search(index=\"ir_dev_sentence_index\", body=search_body, size=K)\n",
      "/var/folders/b3/59dkzgnj0zxdhdx31d2ztm000000gn/T/ipykernel_54942/392687460.py:159: DeprecationWarning: Received 'size' via a specific parameter in the presence of a 'body' parameter, which is deprecated and will be removed in a future version. Instead, use only 'body' or only specific parameters.\n",
      "  response = es.search(index=\"ir_dev_sentence_index\", body=query, size=1)\n"
     ]
    },
    {
     "name": "stdout",
     "output_type": "stream",
     "text": [
      "Query 1 Stage 1 retrieved docs: ['NCT00003470', 'NCT01502241', 'NCT00003537', 'NCT00003621', 'NCT00003471', 'NCT00004259', 'NCT00783393', 'NCT00003775', 'NCT03906448', 'NCT00033280', 'NCT02755987', 'NCT00028795', 'NCT03633552', 'NCT00841555', 'NCT00003375', 'NCT00473408', 'NCT00002569', 'NCT00003465', 'NCT00360828', 'NCT03022578']\n"
     ]
    },
    {
     "name": "stderr",
     "output_type": "stream",
     "text": [
      "  1%|▏         | 1/75 [00:01<02:20,  1.90s/it]"
     ]
    },
    {
     "name": "stdout",
     "output_type": "stream",
     "text": [
      "  Query 1 stage 2 retrieved (after cross-encoder re-ranking): ['NCT00473408', 'NCT01502241', 'NCT00003470', 'NCT00003537', 'NCT03022578', 'NCT00003375', 'NCT03633552', 'NCT00003471', 'NCT00002569', 'NCT00003465']\n",
      "   Query 1 metrics: Precision@10: 0.3000, Recall@10: 0.0638, F1@10: 0.1053, AP: 0.4028, nDCG@10: 0.5162, MRR@10=0.3333\n",
      "    Total time for query: 1.90 seconds\n",
      "Query 2 Stage 1 retrieved docs: ['NCT03628313', 'NCT02753023', 'NCT02395107', 'NCT03332745', 'NCT01157572', 'NCT02010177', 'NCT04061213', 'NCT03863132', 'NCT02792452', 'NCT00590135', 'NCT02531581', 'NCT04140019', 'NCT01980797', 'NCT01575249', 'NCT00624884', 'NCT02316587', 'NCT04344353', 'NCT02344199', 'NCT03867708', 'NCT04144725']\n"
     ]
    },
    {
     "name": "stderr",
     "output_type": "stream",
     "text": [
      "  3%|▎         | 2/75 [00:02<01:40,  1.37s/it]"
     ]
    },
    {
     "name": "stdout",
     "output_type": "stream",
     "text": [
      "  Query 2 stage 2 retrieved (after cross-encoder re-ranking): ['NCT03628313', 'NCT01980797', 'NCT00590135', 'NCT02316587', 'NCT02395107', 'NCT02344199', 'NCT02531581', 'NCT02792452', 'NCT03863132', 'NCT04344353']\n",
      "   Query 2 metrics: Precision@10: 0.4000, Recall@10: 0.0290, F1@10: 0.0541, AP: 0.7875, nDCG@10: 0.6045, MRR@10=1.0000\n",
      "    Total time for query: 1.01 seconds\n",
      "Query 3 Stage 1 retrieved docs: ['NCT03995823', 'NCT02098252', 'NCT04569279', 'NCT00363662', 'NCT04329208', 'NCT01158807', 'NCT02394678', 'NCT04037267', 'NCT03532165', 'NCT03291652', 'NCT04572568', 'NCT04567277', 'NCT02775318', 'NCT03150524', 'NCT03691870', 'NCT00235248', 'NCT03477188', 'NCT00029315', 'NCT03676868', 'NCT01856699']\n"
     ]
    },
    {
     "name": "stderr",
     "output_type": "stream",
     "text": [
      "  4%|▍         | 3/75 [00:03<01:24,  1.18s/it]"
     ]
    },
    {
     "name": "stdout",
     "output_type": "stream",
     "text": [
      "  Query 3 stage 2 retrieved (after cross-encoder re-ranking): ['NCT02098252', 'NCT03150524', 'NCT02394678', 'NCT00029315', 'NCT03291652', 'NCT03995823', 'NCT00235248', 'NCT04567277', 'NCT03477188', 'NCT02775318']\n",
      "   Query 3 metrics: Precision@10: 0.2000, Recall@10: 0.0625, F1@10: 0.0952, AP: 0.6667, nDCG@10: 0.3668, MRR@10=1.0000\n",
      "    Total time for query: 0.95 seconds\n",
      "Query 4 Stage 1 retrieved docs: ['NCT02012088', 'NCT01009970', 'NCT00577798', 'NCT02776891', 'NCT00392834', 'NCT03995147', 'NCT00689845', 'NCT01786018', 'NCT04759586', 'NCT01359592', 'NCT00486759', 'NCT03697512', 'NCT01046825', 'NCT00040690', 'NCT01390584', 'NCT01856192', 'NCT04112238', 'NCT00003337', 'NCT00455286', 'NCT00944567']\n"
     ]
    },
    {
     "name": "stderr",
     "output_type": "stream",
     "text": [
      "  5%|▌         | 4/75 [00:04<01:17,  1.10s/it]"
     ]
    },
    {
     "name": "stdout",
     "output_type": "stream",
     "text": [
      "  Query 4 stage 2 retrieved (after cross-encoder re-ranking): ['NCT01786018', 'NCT00392834', 'NCT02012088', 'NCT04759586', 'NCT04112238', 'NCT00455286', 'NCT00577798', 'NCT01390584', 'NCT00040690', 'NCT03697512']\n",
      "   Query 4 metrics: Precision@10: 0.1000, Recall@10: 0.0227, F1@10: 0.0370, AP: 0.1111, nDCG@10: 0.1125, MRR@10=0.1111\n",
      "    Total time for query: 0.97 seconds\n",
      "Query 5 Stage 1 retrieved docs: ['NCT00287508', 'NCT00235248', 'NCT03477188', 'NCT03070067', 'NCT01114815', 'NCT04825080', 'NCT04431609', 'NCT02310191', 'NCT03344276', 'NCT03291652', 'NCT02141932', 'NCT01799070', 'NCT00514592', 'NCT03721523', 'NCT02961127', 'NCT03377465', 'NCT01208025', 'NCT01599195', 'NCT01263301', 'NCT03702244']\n"
     ]
    },
    {
     "name": "stderr",
     "output_type": "stream",
     "text": [
      "  7%|▋         | 5/75 [00:05<01:12,  1.03s/it]"
     ]
    },
    {
     "name": "stdout",
     "output_type": "stream",
     "text": [
      "  Query 5 stage 2 retrieved (after cross-encoder re-ranking): ['NCT02961127', 'NCT03721523', 'NCT02310191', 'NCT00235248', 'NCT03477188', 'NCT03344276', 'NCT04825080', 'NCT01114815', 'NCT03377465', 'NCT02141932']\n",
      "   Query 5 metrics: Precision@10: 0.3000, Recall@10: 0.0252, F1@10: 0.0465, AP: 0.4206, nDCG@10: 0.3640, MRR@10=0.5000\n",
      "    Total time for query: 0.91 seconds\n",
      "Query 6 Stage 1 retrieved docs: ['NCT01346059', 'NCT02076438', 'NCT00402727', 'NCT00269399', 'NCT03795233', 'NCT04090346', 'NCT00446355', 'NCT04083443', 'NCT01226992', 'NCT02667418', 'NCT03988855', 'NCT03039777', 'NCT03141775', 'NCT04170309', 'NCT00707213', 'NCT00404625', 'NCT00913042', 'NCT02987790', 'NCT02951481', 'NCT01114165']\n"
     ]
    },
    {
     "name": "stderr",
     "output_type": "stream",
     "text": [
      "  8%|▊         | 6/75 [00:06<01:07,  1.02it/s]"
     ]
    },
    {
     "name": "stdout",
     "output_type": "stream",
     "text": [
      "  Query 6 stage 2 retrieved (after cross-encoder re-ranking): ['NCT00269399', 'NCT02076438', 'NCT03039777', 'NCT00446355', 'NCT02667418', 'NCT01114165', 'NCT04170309', 'NCT00404625', 'NCT00913042', 'NCT03141775']\n",
      "   Query 6 metrics: Precision@10: 0.2000, Recall@10: 0.0171, F1@10: 0.0315, AP: 0.8333, nDCG@10: 0.3301, MRR@10=1.0000\n",
      "    Total time for query: 0.87 seconds\n",
      "Query 7 Stage 1 retrieved docs: ['NCT02377947', 'NCT03513900', 'NCT00740142', 'NCT03212872', 'NCT00281502', 'NCT03987893', 'NCT03513887', 'NCT01882855', 'NCT03954327', 'NCT02616705', 'NCT02649335', 'NCT00587197', 'NCT03451292', 'NCT04736836', 'NCT03161106', 'NCT01383460', 'NCT00380614', 'NCT03023189', 'NCT00553423', 'NCT01970748']\n"
     ]
    },
    {
     "name": "stderr",
     "output_type": "stream",
     "text": [
      "  9%|▉         | 7/75 [00:07<01:04,  1.06it/s]"
     ]
    },
    {
     "name": "stdout",
     "output_type": "stream",
     "text": [
      "  Query 7 stage 2 retrieved (after cross-encoder re-ranking): ['NCT03023189', 'NCT01970748', 'NCT03513887', 'NCT00587197', 'NCT03212872', 'NCT00380614', 'NCT02377947', 'NCT03513900', 'NCT00553423', 'NCT04736836']\n",
      "   Query 7 metrics: Precision@10: 0.4000, Recall@10: 0.0320, F1@10: 0.0593, AP: 0.4833, nDCG@10: 0.3815, MRR@10=0.3333\n",
      "    Total time for query: 0.88 seconds\n",
      "Query 8 Stage 1 retrieved docs: ['NCT02138786', 'NCT00800943', 'NCT00309881', 'NCT01171378', 'NCT02535286', 'NCT03907670', 'NCT04271956', 'NCT04660045', 'NCT01723839', 'NCT01110850', 'NCT02582320', 'NCT03153514', 'NCT01576588', 'NCT03495492', 'NCT03892044', 'NCT00086840', 'NCT03619512', 'NCT02420912', 'NCT00868478', 'NCT00074282']\n"
     ]
    },
    {
     "name": "stderr",
     "output_type": "stream",
     "text": [
      " 11%|█         | 8/75 [00:08<01:05,  1.02it/s]"
     ]
    },
    {
     "name": "stdout",
     "output_type": "stream",
     "text": [
      "  Query 8 stage 2 retrieved (after cross-encoder re-ranking): ['NCT04660045', 'NCT04271956', 'NCT03153514', 'NCT02582320', 'NCT01171378', 'NCT02138786', 'NCT00086840', 'NCT00309881', 'NCT01110850', 'NCT03619512']\n",
      "   Query 8 metrics: Precision@10: 0.8000, Recall@10: 0.0870, F1@10: 0.1569, AP: 0.6844, nDCG@10: 0.7585, MRR@10=0.5000\n",
      "    Total time for query: 1.06 seconds\n",
      "Query 9 Stage 1 retrieved docs: ['NCT02365610', 'NCT04153175', 'NCT02899611', 'NCT04542629', 'NCT01126307', 'NCT00056576', 'NCT01991041', 'NCT00165828', 'NCT00013845', 'NCT00236847', 'NCT00520741', 'NCT00236860', 'NCT00236873', 'NCT01392768', 'NCT01332539', 'NCT04513860', 'NCT02369471', 'NCT01393743', 'NCT00236730', 'NCT01284556']\n"
     ]
    },
    {
     "name": "stderr",
     "output_type": "stream",
     "text": [
      " 12%|█▏        | 9/75 [00:09<01:03,  1.04it/s]"
     ]
    },
    {
     "name": "stdout",
     "output_type": "stream",
     "text": [
      "  Query 9 stage 2 retrieved (after cross-encoder re-ranking): ['NCT00056576', 'NCT04153175', 'NCT02899611', 'NCT00236860', 'NCT04542629', 'NCT00236873', 'NCT00236847', 'NCT04513860', 'NCT00520741', 'NCT00013845']\n",
      "   Query 9 metrics: Precision@10: 0.1000, Recall@10: 0.0769, F1@10: 0.0870, AP: 0.1000, nDCG@10: 0.3474, MRR@10=0.1000\n",
      "    Total time for query: 0.92 seconds\n",
      "Query 10 Stage 1 retrieved docs: ['NCT03731260', 'NCT00132015', 'NCT00769587', 'NCT02380222', 'NCT00457288', 'NCT03401060', 'NCT00233454', 'NCT03770273', 'NCT04615663', 'NCT00044122', 'NCT00814073', 'NCT02441166', 'NCT02808793', 'NCT00429533', 'NCT02415608', 'NCT03580655', 'NCT01920204', 'NCT01266369', 'NCT01807598', 'NCT00001756']\n"
     ]
    },
    {
     "name": "stderr",
     "output_type": "stream",
     "text": [
      " 13%|█▎        | 10/75 [00:10<01:01,  1.05it/s]"
     ]
    },
    {
     "name": "stdout",
     "output_type": "stream",
     "text": [
      "  Query 10 stage 2 retrieved (after cross-encoder re-ranking): ['NCT00814073', 'NCT03770273', 'NCT00044122', 'NCT01920204', 'NCT01807598', 'NCT00233454', 'NCT02441166', 'NCT00457288', 'NCT00429533', 'NCT00132015']\n",
      "   Query 10 metrics: Precision@10: 0.2000, Recall@10: 0.1818, F1@10: 0.1905, AP: 0.3095, nDCG@10: 0.4104, MRR@10=0.3333\n",
      "    Total time for query: 0.92 seconds\n",
      "Query 11 Stage 1 retrieved docs: ['NCT02724176', 'NCT02408887', 'NCT02814032', 'NCT03830242', 'NCT02548715', 'NCT03669432', 'NCT01103557', 'NCT01106443', 'NCT01510002', 'NCT03570021', 'NCT01428167', 'NCT03359668', 'NCT01075269', 'NCT01089335', 'NCT04076514', 'NCT04424485', 'NCT03813706', 'NCT02138214', 'NCT02648399', 'NCT04336696']\n"
     ]
    },
    {
     "name": "stderr",
     "output_type": "stream",
     "text": [
      " 15%|█▍        | 11/75 [00:11<01:00,  1.07it/s]"
     ]
    },
    {
     "name": "stdout",
     "output_type": "stream",
     "text": [
      "  Query 11 stage 2 retrieved (after cross-encoder re-ranking): ['NCT03359668', 'NCT03830242', 'NCT02724176', 'NCT01089335', 'NCT02814032', 'NCT01075269', 'NCT02408887', 'NCT04076514', 'NCT04424485', 'NCT01510002']\n",
      "   Query 11 metrics: Precision@10: 0.0000, Recall@10: 0.0000, F1@10: 0.0000, AP: 0.0000, nDCG@10: 0.3333, MRR@10=0.0000\n",
      "    Total time for query: 0.91 seconds\n",
      "Query 12 Stage 1 retrieved docs: ['NCT01678144', 'NCT04820764', 'NCT04350372', 'NCT04259411', 'NCT04774172', 'NCT02033811', 'NCT04161079', 'NCT03012178', 'NCT04080362', 'NCT02719912', 'NCT03271762', 'NCT03389542', 'NCT03511716', 'NCT04156295', 'NCT03958773', 'NCT03706833', 'NCT04029363', 'NCT01431222', 'NCT00209274', 'NCT01703806']\n"
     ]
    },
    {
     "name": "stderr",
     "output_type": "stream",
     "text": [
      " 16%|█▌        | 12/75 [00:12<00:57,  1.10it/s]"
     ]
    },
    {
     "name": "stdout",
     "output_type": "stream",
     "text": [
      "  Query 12 stage 2 retrieved (after cross-encoder re-ranking): ['NCT03012178', 'NCT04156295', 'NCT04820764', 'NCT04080362', 'NCT01703806', 'NCT01678144', 'NCT03706833', 'NCT01431222', 'NCT04350372', 'NCT03511716']\n",
      "   Query 12 metrics: Precision@10: 0.6000, Recall@10: 0.0577, F1@10: 0.1053, AP: 0.9056, nDCG@10: 0.7058, MRR@10=1.0000\n",
      "    Total time for query: 0.85 seconds\n",
      "Query 13 Stage 1 retrieved docs: ['NCT00037921', 'NCT03190421', 'NCT02384200', 'NCT03931408', 'NCT02594631', 'NCT04495699', 'NCT04781985', 'NCT01083979', 'NCT00722735', 'NCT04071340', 'NCT02419339', 'NCT01628900', 'NCT00554996', 'NCT03048682', 'NCT01979042', 'NCT02929160', 'NCT01563796', 'NCT01305681', 'NCT01661621', 'NCT02497781']\n"
     ]
    },
    {
     "name": "stderr",
     "output_type": "stream",
     "text": [
      " 17%|█▋        | 13/75 [00:13<00:59,  1.05it/s]"
     ]
    },
    {
     "name": "stdout",
     "output_type": "stream",
     "text": [
      "  Query 13 stage 2 retrieved (after cross-encoder re-ranking): ['NCT00037921', 'NCT01305681', 'NCT01083979', 'NCT00554996', 'NCT01979042', 'NCT01661621', 'NCT03048682', 'NCT04781985', 'NCT02929160', 'NCT03190421']\n",
      "   Query 13 metrics: Precision@10: 0.1000, Recall@10: 0.0185, F1@10: 0.0312, AP: 0.2500, nDCG@10: 0.0948, MRR@10=0.2500\n",
      "    Total time for query: 1.05 seconds\n",
      "Query 14 Stage 1 retrieved docs: ['NCT00380068', 'NCT01707225', 'NCT02062554', 'NCT02657356', 'NCT00004492', 'NCT01165528', 'NCT02279745', 'NCT02691533', 'NCT02275936', 'NCT01972477', 'NCT00938977', 'NCT03229174', 'NCT01215136', 'NCT00993408', 'NCT04501874', 'NCT02268630', 'NCT04782856', 'NCT03451734', 'NCT02627664', 'NCT02441491']\n"
     ]
    },
    {
     "name": "stderr",
     "output_type": "stream",
     "text": [
      " 19%|█▊        | 14/75 [00:14<00:57,  1.05it/s]"
     ]
    },
    {
     "name": "stdout",
     "output_type": "stream",
     "text": [
      "  Query 14 stage 2 retrieved (after cross-encoder re-ranking): ['NCT00380068', 'NCT01165528', 'NCT00938977', 'NCT02062554', 'NCT03229174', 'NCT02627664', 'NCT02441491', 'NCT01215136', 'NCT01972477', 'NCT03451734']\n",
      "   Query 14 metrics: Precision@10: 0.1000, Recall@10: 0.0147, F1@10: 0.0256, AP: 0.3333, nDCG@10: 0.1100, MRR@10=0.3333\n",
      "    Total time for query: 0.94 seconds\n",
      "Query 15 Stage 1 retrieved docs: ['NCT03259880', 'NCT01563133', 'NCT02068677', 'NCT02703545', 'NCT01774162', 'NCT03022110', 'NCT01773031', 'NCT00587132', 'NCT03411629', 'NCT02343692', 'NCT03354065', 'NCT02487277', 'NCT02422095', 'NCT03320733', 'NCT01276886', 'NCT01526590', 'NCT01371240', 'NCT04196504', 'NCT04570852', 'NCT03303352']\n"
     ]
    },
    {
     "name": "stderr",
     "output_type": "stream",
     "text": [
      " 20%|██        | 15/75 [00:15<00:55,  1.08it/s]"
     ]
    },
    {
     "name": "stdout",
     "output_type": "stream",
     "text": [
      "  Query 15 stage 2 retrieved (after cross-encoder re-ranking): ['NCT03022110', 'NCT02487277', 'NCT00587132', 'NCT03354065', 'NCT03320733', 'NCT02343692', 'NCT03411629', 'NCT04570852', 'NCT02703545', 'NCT01563133']\n",
      "   Query 15 metrics: Precision@10: 0.3000, Recall@10: 0.0210, F1@10: 0.0392, AP: 0.2407, nDCG@10: 0.2980, MRR@10=0.2000\n",
      "    Total time for query: 0.87 seconds\n",
      "Query 16 Stage 1 retrieved docs: ['NCT00517933', 'NCT00946114', 'NCT01441934', 'NCT01936350', 'NCT00145938', 'NCT02435303', 'NCT01043627', 'NCT00795639', 'NCT03460470', 'NCT01726049', 'NCT00380068', 'NCT00454207', 'NCT00763867', 'NCT00793338', 'NCT00302211', 'NCT01449253', 'NCT01616381', 'NCT00303004', 'NCT02060487', 'NCT01365585']\n"
     ]
    },
    {
     "name": "stderr",
     "output_type": "stream",
     "text": [
      " 21%|██▏       | 16/75 [00:15<00:52,  1.13it/s]"
     ]
    },
    {
     "name": "stdout",
     "output_type": "stream",
     "text": [
      "  Query 16 stage 2 retrieved (after cross-encoder re-ranking): ['NCT01726049', 'NCT00793338', 'NCT00303004', 'NCT00380068', 'NCT01449253', 'NCT00763867', 'NCT00517933', 'NCT01616381', 'NCT03460470', 'NCT00145938']\n",
      "   Query 16 metrics: Precision@10: 0.2000, Recall@10: 0.0323, F1@10: 0.0556, AP: 0.3667, nDCG@10: 0.3152, MRR@10=0.3333\n",
      "    Total time for query: 0.80 seconds\n",
      "Query 17 Stage 1 retrieved docs: ['NCT00981708', 'NCT01548573', 'NCT00038233', 'NCT00006890', 'NCT00038090', 'NCT00558896', 'NCT00256776', 'NCT00049673', 'NCT00040937', 'NCT00120263', 'NCT00416897', 'NCT00064337', 'NCT01134484', 'NCT00007995', 'NCT00538824', 'NCT00319865', 'NCT00531453', 'NCT01084837', 'NCT01208818', 'NCT01731886']\n"
     ]
    },
    {
     "name": "stderr",
     "output_type": "stream",
     "text": [
      " 23%|██▎       | 17/75 [00:16<00:52,  1.11it/s]"
     ]
    },
    {
     "name": "stdout",
     "output_type": "stream",
     "text": [
      "  Query 17 stage 2 retrieved (after cross-encoder re-ranking): ['NCT00981708', 'NCT00064337', 'NCT00007995', 'NCT00040937', 'NCT00049673', 'NCT01731886', 'NCT01548573', 'NCT00256776', 'NCT00006890', 'NCT00558896']\n",
      "   Query 17 metrics: Precision@10: 0.3000, Recall@10: 0.0236, F1@10: 0.0438, AP: 0.3500, nDCG@10: 0.4151, MRR@10=0.5000\n",
      "    Total time for query: 0.92 seconds\n",
      "Query 18 Stage 1 retrieved docs: ['NCT00804557', 'NCT01494337', 'NCT00270504', 'NCT03239951', 'NCT01186237', 'NCT03863743', 'NCT00839969', 'NCT04529369', 'NCT04551417', 'NCT01790776', 'NCT04363970', 'NCT03339076', 'NCT04307537', 'NCT02591381', 'NCT04825314', 'NCT03428113', 'NCT04452890', 'NCT02524236', 'NCT03098147', 'NCT02594631']\n"
     ]
    },
    {
     "name": "stderr",
     "output_type": "stream",
     "text": [
      " 24%|██▍       | 18/75 [00:17<00:50,  1.12it/s]"
     ]
    },
    {
     "name": "stdout",
     "output_type": "stream",
     "text": [
      "  Query 18 stage 2 retrieved (after cross-encoder re-ranking): ['NCT02524236', 'NCT03239951', 'NCT01494337', 'NCT04529369', 'NCT04307537', 'NCT03339076', 'NCT02591381', 'NCT04363970', 'NCT00804557', 'NCT00839969']\n",
      "   Query 18 metrics: Precision@10: 0.0000, Recall@10: 0.0000, F1@10: 0.0000, AP: 0.0000, nDCG@10: 0.1242, MRR@10=0.0000\n",
      "    Total time for query: 0.88 seconds\n",
      "Query 19 Stage 1 retrieved docs: ['NCT02781207', 'NCT02683174', 'NCT00300625', 'NCT01916070', 'NCT00005202', 'NCT03974412', 'NCT01548352', 'NCT01509534', 'NCT02786940', 'NCT01463358', 'NCT00292825', 'NCT04124237', 'NCT03876652', 'NCT01814228', 'NCT01802398', 'NCT02971163', 'NCT04533425', 'NCT00120094', 'NCT03388905', 'NCT01113268']\n"
     ]
    },
    {
     "name": "stderr",
     "output_type": "stream",
     "text": [
      " 25%|██▌       | 19/75 [00:18<00:48,  1.15it/s]"
     ]
    },
    {
     "name": "stdout",
     "output_type": "stream",
     "text": [
      "  Query 19 stage 2 retrieved (after cross-encoder re-ranking): ['NCT03388905', 'NCT02683174', 'NCT01548352', 'NCT04533425', 'NCT00005202', 'NCT01509534', 'NCT04124237', 'NCT00292825', 'NCT03974412', 'NCT03876652']\n",
      "   Query 19 metrics: Precision@10: 0.3000, Recall@10: 0.0261, F1@10: 0.0480, AP: 0.3556, nDCG@10: 0.3625, MRR@10=0.3333\n",
      "    Total time for query: 0.82 seconds\n",
      "Query 20 Stage 1 retrieved docs: ['NCT00242541', 'NCT00171886', 'NCT03710499', 'NCT01206270', 'NCT02952885', 'NCT04860037', 'NCT02274311', 'NCT00921609', 'NCT00616408', 'NCT00001860', 'NCT00145405', 'NCT01371643', 'NCT00627796', 'NCT03973450', 'NCT00171730', 'NCT00784615', 'NCT03401008', 'NCT00994214', 'NCT00182091', 'NCT01368133']\n"
     ]
    },
    {
     "name": "stderr",
     "output_type": "stream",
     "text": [
      " 27%|██▋       | 20/75 [00:19<00:47,  1.16it/s]"
     ]
    },
    {
     "name": "stdout",
     "output_type": "stream",
     "text": [
      "  Query 20 stage 2 retrieved (after cross-encoder re-ranking): ['NCT00784615', 'NCT02274311', 'NCT01206270', 'NCT00921609', 'NCT00616408', 'NCT00627796', 'NCT00182091', 'NCT03973450', 'NCT01368133', 'NCT03401008']\n",
      "   Query 20 metrics: Precision@10: 0.2000, Recall@10: 0.0476, F1@10: 0.0769, AP: 0.2111, nDCG@10: 0.2554, MRR@10=0.2000\n",
      "    Total time for query: 0.85 seconds\n",
      "Query 21 Stage 1 retrieved docs: ['NCT03259880', 'NCT00523874', 'NCT04735055', 'NCT04196504', 'NCT03354065', 'NCT04570852', 'NCT02563080', 'NCT01796652', 'NCT04615702', 'NCT03342716', 'NCT04552028', 'NCT02528760', 'NCT04750044', 'NCT01015417', 'NCT02204189', 'NCT03643900', 'NCT03407534', 'NCT01583517', 'NCT04574297', 'NCT03411629']\n"
     ]
    },
    {
     "name": "stderr",
     "output_type": "stream",
     "text": [
      " 28%|██▊       | 21/75 [00:20<00:47,  1.13it/s]"
     ]
    },
    {
     "name": "stdout",
     "output_type": "stream",
     "text": [
      "  Query 21 stage 2 retrieved (after cross-encoder re-ranking): ['NCT03643900', 'NCT01796652', 'NCT02563080', 'NCT01015417', 'NCT03354065', 'NCT04750044', 'NCT04574297', 'NCT00523874', 'NCT03407534', 'NCT04570852']\n",
      "   Query 21 metrics: Precision@10: 0.2000, Recall@10: 0.0408, F1@10: 0.0678, AP: 0.3500, nDCG@10: 0.2025, MRR@10=0.5000\n",
      "    Total time for query: 0.94 seconds\n",
      "Query 22 Stage 1 retrieved docs: ['NCT04033198', 'NCT01054417', 'NCT03236961', 'NCT03234296', 'NCT02404064', 'NCT00677417', 'NCT01967745', 'NCT04440150', 'NCT02742402', 'NCT03289351', 'NCT00413855', 'NCT02867072', 'NCT04594486', 'NCT00135603', 'NCT03570398', 'NCT04689906', 'NCT03591419', 'NCT00971438', 'NCT04634448', 'NCT03902262']\n"
     ]
    },
    {
     "name": "stderr",
     "output_type": "stream",
     "text": [
      " 29%|██▉       | 22/75 [00:21<00:46,  1.14it/s]"
     ]
    },
    {
     "name": "stdout",
     "output_type": "stream",
     "text": [
      "  Query 22 stage 2 retrieved (after cross-encoder re-ranking): ['NCT03902262', 'NCT04033198', 'NCT04440150', 'NCT00677417', 'NCT03289351', 'NCT03234296', 'NCT03236961', 'NCT03570398', 'NCT01967745', 'NCT04689906']\n",
      "   Query 22 metrics: Precision@10: 0.4000, Recall@10: 0.0563, F1@10: 0.0988, AP: 0.3068, nDCG@10: 0.3994, MRR@10=0.1667\n",
      "    Total time for query: 0.86 seconds\n",
      "Query 23 Stage 1 retrieved docs: ['NCT03846570', 'NCT04674137', 'NCT01437735', 'NCT03363698', 'NCT01313637', 'NCT01313650', 'NCT04520230', 'NCT02415179', 'NCT00411567', 'NCT02340520', 'NCT02660853', 'NCT00182481', 'NCT00278083', 'NCT00509197', 'NCT01657487', 'NCT00217854', 'NCT00954850', 'NCT00839124', 'NCT01562093', 'NCT01742338']\n"
     ]
    },
    {
     "name": "stderr",
     "output_type": "stream",
     "text": [
      " 31%|███       | 23/75 [00:21<00:45,  1.14it/s]"
     ]
    },
    {
     "name": "stdout",
     "output_type": "stream",
     "text": [
      "  Query 23 stage 2 retrieved (after cross-encoder re-ranking): ['NCT03363698', 'NCT01313637', 'NCT01313650', 'NCT02660853', 'NCT02415179', 'NCT01742338', 'NCT04674137', 'NCT02340520', 'NCT04520230', 'NCT01562093']\n",
      "   Query 23 metrics: Precision@10: 0.2000, Recall@10: 0.0238, F1@10: 0.0426, AP: 0.2250, nDCG@10: 0.2112, MRR@10=0.2500\n",
      "    Total time for query: 0.86 seconds\n",
      "Query 24 Stage 1 retrieved docs: ['NCT04764903', 'NCT01661621', 'NCT00685633', 'NCT02961114', 'NCT01815697', 'NCT03630926', 'NCT00596011', 'NCT02074644', 'NCT01563796', 'NCT04766268', 'NCT00381108', 'NCT02808013', 'NCT00407329', 'NCT03239951', 'NCT04055675', 'NCT00193648', 'NCT02326805', 'NCT02283684', 'NCT00561262', 'NCT01799902']\n"
     ]
    },
    {
     "name": "stderr",
     "output_type": "stream",
     "text": [
      " 32%|███▏      | 24/75 [00:22<00:44,  1.14it/s]"
     ]
    },
    {
     "name": "stdout",
     "output_type": "stream",
     "text": [
      "  Query 24 stage 2 retrieved (after cross-encoder re-ranking): ['NCT04766268', 'NCT02961114', 'NCT03239951', 'NCT00407329', 'NCT04055675', 'NCT01661621', 'NCT04764903', 'NCT01563796', 'NCT00596011', 'NCT01815697']\n",
      "   Query 24 metrics: Precision@10: 0.4000, Recall@10: 0.0360, F1@10: 0.0661, AP: 0.5405, nDCG@10: 0.4818, MRR@10=1.0000\n",
      "    Total time for query: 0.88 seconds\n",
      "Query 25 Stage 1 retrieved docs: ['NCT02897700', 'NCT04697043', 'NCT00542191', 'NCT03323346', 'NCT04567420', 'NCT03188393', 'NCT01501487', 'NCT01257152', 'NCT00881361', 'NCT04245150', 'NCT00696527', 'NCT03236974', 'NCT04293796', 'NCT01320488', 'NCT02670577', 'NCT02564848', 'NCT03354611', 'NCT03669952', 'NCT03144037', 'NCT00028340']\n"
     ]
    },
    {
     "name": "stderr",
     "output_type": "stream",
     "text": [
      " 33%|███▎      | 25/75 [00:23<00:43,  1.15it/s]"
     ]
    },
    {
     "name": "stdout",
     "output_type": "stream",
     "text": [
      "  Query 25 stage 2 retrieved (after cross-encoder re-ranking): ['NCT03236974', 'NCT03323346', 'NCT04567420', 'NCT01257152', 'NCT02897700', 'NCT01320488', 'NCT02564848', 'NCT04245150', 'NCT00542191', 'NCT01501487']\n",
      "   Query 25 metrics: Precision@10: 0.1000, Recall@10: 0.0135, F1@10: 0.0238, AP: 0.1667, nDCG@10: 0.0784, MRR@10=0.1667\n",
      "    Total time for query: 0.86 seconds\n",
      "Query 26 Stage 1 retrieved docs: ['NCT01015417', 'NCT04308265', 'NCT03981315', 'NCT01492790', 'NCT03477253', 'NCT02156947', 'NCT02155244', 'NCT03709030', 'NCT04675190', 'NCT04615702', 'NCT02554097', 'NCT00161083', 'NCT02472509', 'NCT00863642', 'NCT02833103', 'NCT03259880', 'NCT04197908', 'NCT03883464', 'NCT02430285', 'NCT03577873']\n"
     ]
    },
    {
     "name": "stderr",
     "output_type": "stream",
     "text": [
      " 35%|███▍      | 26/75 [00:24<00:43,  1.14it/s]"
     ]
    },
    {
     "name": "stdout",
     "output_type": "stream",
     "text": [
      "  Query 26 stage 2 retrieved (after cross-encoder re-ranking): ['NCT03883464', 'NCT02833103', 'NCT02472509', 'NCT03259880', 'NCT04675190', 'NCT04308265', 'NCT04615702', 'NCT01015417', 'NCT03477253', 'NCT03709030']\n",
      "   Query 26 metrics: Precision@10: 0.2000, Recall@10: 0.0230, F1@10: 0.0412, AP: 0.2111, nDCG@10: 0.1987, MRR@10=0.2000\n",
      "    Total time for query: 0.89 seconds\n",
      "Query 27 Stage 1 retrieved docs: ['NCT03520660', 'NCT00751426', 'NCT02825212', 'NCT03170076', 'NCT02483156', 'NCT03186313', 'NCT03693586', 'NCT03014986', 'NCT03296930', 'NCT03547895', 'NCT01360268', 'NCT01289652', 'NCT00887081', 'NCT04546802', 'NCT01750515', 'NCT00152581', 'NCT01872988', 'NCT00512941', 'NCT03226717', 'NCT00001982']\n"
     ]
    },
    {
     "name": "stderr",
     "output_type": "stream",
     "text": [
      " 36%|███▌      | 27/75 [00:25<00:42,  1.14it/s]"
     ]
    },
    {
     "name": "stdout",
     "output_type": "stream",
     "text": [
      "  Query 27 stage 2 retrieved (after cross-encoder re-ranking): ['NCT01750515', 'NCT03296930', 'NCT03170076', 'NCT01289652', 'NCT03520660', 'NCT01360268', 'NCT00887081', 'NCT02825212', 'NCT04546802', 'NCT03547895']\n",
      "   Query 27 metrics: Precision@10: 0.4000, Recall@10: 0.0702, F1@10: 0.1194, AP: 0.7750, nDCG@10: 0.5984, MRR@10=1.0000\n",
      "    Total time for query: 0.87 seconds\n",
      "Query 28 Stage 1 retrieved docs: ['NCT02340520', 'NCT01114386', 'NCT02571582', 'NCT01142531', 'NCT01893918', 'NCT00938977', 'NCT02434536', 'NCT02154880', 'NCT01314807', 'NCT03227211', 'NCT02329522', 'NCT00380068', 'NCT00287625', 'NCT00668408', 'NCT01940328', 'NCT04105075', 'NCT02531542', 'NCT01616901', 'NCT04520230', 'NCT01657487']\n"
     ]
    },
    {
     "name": "stderr",
     "output_type": "stream",
     "text": [
      " 37%|███▋      | 28/75 [00:26<00:41,  1.15it/s]"
     ]
    },
    {
     "name": "stdout",
     "output_type": "stream",
     "text": [
      "  Query 28 stage 2 retrieved (after cross-encoder re-ranking): ['NCT02329522', 'NCT03227211', 'NCT00287625', 'NCT01142531', 'NCT01114386', 'NCT02434536', 'NCT01616901', 'NCT02340520', 'NCT01893918', 'NCT02571582']\n",
      "   Query 28 metrics: Precision@10: 0.2000, Recall@10: 0.0140, F1@10: 0.0261, AP: 0.4167, nDCG@10: 0.2720, MRR@10=0.5000\n",
      "    Total time for query: 0.87 seconds\n",
      "Query 29 Stage 1 retrieved docs: ['NCT00590044', 'NCT02548494', 'NCT03001323', 'NCT02006342', 'NCT00970567', 'NCT00133809', 'NCT00467246', 'NCT02130180', 'NCT03107208', 'NCT00179127', 'NCT00911625', 'NCT02777073', 'NCT02280174', 'NCT02157155', 'NCT00338104', 'NCT04567225', 'NCT00663624', 'NCT01195090', 'NCT01049412', 'NCT01654120']\n"
     ]
    },
    {
     "name": "stderr",
     "output_type": "stream",
     "text": [
      " 39%|███▊      | 29/75 [00:27<00:38,  1.18it/s]"
     ]
    },
    {
     "name": "stdout",
     "output_type": "stream",
     "text": [
      "  Query 29 stage 2 retrieved (after cross-encoder re-ranking): ['NCT00133809', 'NCT01195090', 'NCT03107208', 'NCT00590044', 'NCT00970567', 'NCT00467246', 'NCT00338104', 'NCT00911625', 'NCT02280174', 'NCT02777073']\n",
      "   Query 29 metrics: Precision@10: 0.3000, Recall@10: 0.0417, F1@10: 0.0732, AP: 0.6333, nDCG@10: 0.4976, MRR@10=1.0000\n",
      "    Total time for query: 0.78 seconds\n",
      "Query 30 Stage 1 retrieved docs: ['NCT03106935', 'NCT04249271', 'NCT02868476', 'NCT03984006', 'NCT00552487', 'NCT00001159', 'NCT02319538', 'NCT00715572', 'NCT02725879', 'NCT02567877', 'NCT04752202', 'NCT03634371', 'NCT04573907', 'NCT02126683', 'NCT00230802', 'NCT01581463', 'NCT02710175', 'NCT00287144', 'NCT04613323', 'NCT03569787']\n"
     ]
    },
    {
     "name": "stderr",
     "output_type": "stream",
     "text": [
      " 40%|████      | 30/75 [00:27<00:37,  1.19it/s]"
     ]
    },
    {
     "name": "stdout",
     "output_type": "stream",
     "text": [
      "  Query 30 stage 2 retrieved (after cross-encoder re-ranking): ['NCT00552487', 'NCT02725879', 'NCT04249271', 'NCT00287144', 'NCT00715572', 'NCT03106935', 'NCT02319538', 'NCT02567877', 'NCT04613323', 'NCT02868476']\n",
      "   Query 30 metrics: Precision@10: 0.1000, Recall@10: 0.0208, F1@10: 0.0345, AP: 1.0000, nDCG@10: 0.4273, MRR@10=1.0000\n",
      "    Total time for query: 0.84 seconds\n",
      "Query 31 Stage 1 retrieved docs: ['NCT03998254', 'NCT00312286', 'NCT00117884', 'NCT01599416', 'NCT03837028', 'NCT02780960', 'NCT00743626', 'NCT00154479', 'NCT00343213', 'NCT00872937', 'NCT02365935', 'NCT02346227', 'NCT00091130', 'NCT04171505', 'NCT03577925', 'NCT00006444', 'NCT01131312', 'NCT01133509', 'NCT00201370', 'NCT03920800']\n"
     ]
    },
    {
     "name": "stderr",
     "output_type": "stream",
     "text": [
      " 41%|████▏     | 31/75 [00:28<00:36,  1.21it/s]"
     ]
    },
    {
     "name": "stdout",
     "output_type": "stream",
     "text": [
      "  Query 31 stage 2 retrieved (after cross-encoder re-ranking): ['NCT03837028', 'NCT01131312', 'NCT00006444', 'NCT02780960', 'NCT00312286', 'NCT00117884', 'NCT00201370', 'NCT04171505', 'NCT02346227', 'NCT02365935']\n",
      "   Query 31 metrics: Precision@10: 0.1000, Recall@10: 0.0222, F1@10: 0.0364, AP: 1.0000, nDCG@10: 0.3113, MRR@10=1.0000\n",
      "    Total time for query: 0.79 seconds\n",
      "Query 32 Stage 1 retrieved docs: ['NCT04132375', 'NCT03690024', 'NCT01252199', 'NCT01406288', 'NCT02336516', 'NCT03576183', 'NCT02870751', 'NCT02205541', 'NCT03261297', 'NCT03275792', 'NCT01638039', 'NCT03362970', 'NCT03778125', 'NCT04491799', 'NCT03586206', 'NCT03257553', 'NCT02773446', 'NCT03596827', 'NCT02127814', 'NCT04269174']\n"
     ]
    },
    {
     "name": "stderr",
     "output_type": "stream",
     "text": [
      " 43%|████▎     | 32/75 [00:29<00:36,  1.18it/s]"
     ]
    },
    {
     "name": "stdout",
     "output_type": "stream",
     "text": [
      "  Query 32 stage 2 retrieved (after cross-encoder re-ranking): ['NCT03690024', 'NCT03261297', 'NCT03257553', 'NCT02336516', 'NCT01252199', 'NCT04491799', 'NCT03596827', 'NCT04132375', 'NCT02127814', 'NCT03576183']\n",
      "   Query 32 metrics: Precision@10: 0.2000, Recall@10: 0.0769, F1@10: 0.1111, AP: 0.7500, nDCG@10: 0.3837, MRR@10=1.0000\n",
      "    Total time for query: 0.88 seconds\n",
      "Query 33 Stage 1 retrieved docs: ['NCT00769002', 'NCT01978262', 'NCT00253734', 'NCT02213354', 'NCT00943358', 'NCT03028974', 'NCT02908269', 'NCT00546585', 'NCT02746783', 'NCT01181336', 'NCT01721083', 'NCT01317745', 'NCT00230750', 'NCT01317758', 'NCT03020498', 'NCT01436370', 'NCT02921997', 'NCT00973895', 'NCT01827462', 'NCT00814385']\n"
     ]
    },
    {
     "name": "stderr",
     "output_type": "stream",
     "text": [
      " 44%|████▍     | 33/75 [00:30<00:36,  1.16it/s]"
     ]
    },
    {
     "name": "stdout",
     "output_type": "stream",
     "text": [
      "  Query 33 stage 2 retrieved (after cross-encoder re-ranking): ['NCT01317745', 'NCT01317758', 'NCT01181336', 'NCT00253734', 'NCT01721083', 'NCT01978262', 'NCT02908269', 'NCT01827462', 'NCT00769002', 'NCT00546585']\n",
      "   Query 33 metrics: Precision@10: 0.5000, Recall@10: 0.0246, F1@10: 0.0469, AP: 0.8211, nDCG@10: 0.6051, MRR@10=1.0000\n",
      "    Total time for query: 0.90 seconds\n",
      "Query 34 Stage 1 retrieved docs: ['NCT03445624', 'NCT01694953', 'NCT01725048', 'NCT01093196', 'NCT03057860', 'NCT04426435', 'NCT00001549', 'NCT00455286', 'NCT02633813', 'NCT01149707', 'NCT03772561', 'NCT00625742', 'NCT00614809', 'NCT02441491', 'NCT00879359', 'NCT03323346', 'NCT00380068', 'NCT02657356', 'NCT02691533', 'NCT01579929']\n"
     ]
    },
    {
     "name": "stderr",
     "output_type": "stream",
     "text": [
      " 45%|████▌     | 34/75 [00:31<00:35,  1.14it/s]"
     ]
    },
    {
     "name": "stdout",
     "output_type": "stream",
     "text": [
      "  Query 34 stage 2 retrieved (after cross-encoder re-ranking): ['NCT01725048', 'NCT00001549', 'NCT01694953', 'NCT03445624', 'NCT00380068', 'NCT00879359', 'NCT02441491', 'NCT04426435', 'NCT03323346', 'NCT00614809']\n",
      "   Query 34 metrics: Precision@10: 0.0000, Recall@10: 0.0000, F1@10: 0.0000, AP: 0.0000, nDCG@10: 0.0000, MRR@10=0.0000\n",
      "    Total time for query: 0.91 seconds\n",
      "Query 35 Stage 1 retrieved docs: ['NCT00471861', 'NCT00880425', 'NCT01946126', 'NCT00126035', 'NCT01804517', 'NCT01687101', 'NCT01090050', 'NCT01300546', 'NCT01917474', 'NCT03766412', 'NCT04623203', 'NCT02322333', 'NCT00274170', 'NCT00335803', 'NCT04698525', 'NCT02021474', 'NCT00837044', 'NCT00754611', 'NCT00642564', 'NCT04287140']\n"
     ]
    },
    {
     "name": "stderr",
     "output_type": "stream",
     "text": [
      " 47%|████▋     | 35/75 [00:33<00:54,  1.36s/it]"
     ]
    },
    {
     "name": "stdout",
     "output_type": "stream",
     "text": [
      "  Query 35 stage 2 retrieved (after cross-encoder re-ranking): ['NCT04698525', 'NCT01090050', 'NCT00642564', 'NCT01300546', 'NCT02021474', 'NCT04287140', 'NCT00837044', 'NCT00880425', 'NCT02322333', 'NCT00471861']\n",
      "   Query 35 metrics: Precision@10: 0.0000, Recall@10: 0.0000, F1@10: 0.0000, AP: 0.0000, nDCG@10: 0.2051, MRR@10=0.0000\n",
      "    Total time for query: 2.47 seconds\n",
      "Query 36 Stage 1 retrieved docs: ['NCT00770276', 'NCT00667498', 'NCT00622765', 'NCT02463435', 'NCT04354285', 'NCT02436343', 'NCT04327375', 'NCT04595006', 'NCT02717832', 'NCT00704197', 'NCT02062554', 'NCT04782856', 'NCT02691533', 'NCT04575194', 'NCT01665820', 'NCT01066091', 'NCT02452567', 'NCT04791397', 'NCT01636427', 'NCT00879125']\n"
     ]
    },
    {
     "name": "stderr",
     "output_type": "stream",
     "text": [
      " 48%|████▊     | 36/75 [00:34<00:47,  1.22s/it]"
     ]
    },
    {
     "name": "stdout",
     "output_type": "stream",
     "text": [
      "  Query 36 stage 2 retrieved (after cross-encoder re-ranking): ['NCT02436343', 'NCT00770276', 'NCT00704197', 'NCT01066091', 'NCT04575194', 'NCT00622765', 'NCT04354285', 'NCT04327375', 'NCT04791397', 'NCT02463435']\n",
      "   Query 36 metrics: Precision@10: 0.5000, Recall@10: 0.0272, F1@10: 0.0515, AP: 0.4800, nDCG@10: 0.4355, MRR@10=0.5000\n",
      "    Total time for query: 0.91 seconds\n",
      "Query 37 Stage 1 retrieved docs: ['NCT00228228', 'NCT04178980', 'NCT04465084', 'NCT01628315', 'NCT03736902', 'NCT01428726', 'NCT01110993', 'NCT00360906', 'NCT04578639', 'NCT00151801', 'NCT03586986', 'NCT04688788', 'NCT04832399', 'NCT02881567', 'NCT00676715', 'NCT00094172', 'NCT03979456', 'NCT04495556', 'NCT03709290', 'NCT00027300']\n"
     ]
    },
    {
     "name": "stderr",
     "output_type": "stream",
     "text": [
      " 49%|████▉     | 37/75 [00:35<00:42,  1.11s/it]"
     ]
    },
    {
     "name": "stdout",
     "output_type": "stream",
     "text": [
      "  Query 37 stage 2 retrieved (after cross-encoder re-ranking): ['NCT04178980', 'NCT03736902', 'NCT00228228', 'NCT01428726', 'NCT01110993', 'NCT00094172', 'NCT01628315', 'NCT04688788', 'NCT00360906', 'NCT04578639']\n",
      "   Query 37 metrics: Precision@10: 0.6000, Recall@10: 0.0353, F1@10: 0.0667, AP: 0.6605, nDCG@10: 0.7027, MRR@10=1.0000\n",
      "    Total time for query: 0.85 seconds\n",
      "Query 38 Stage 1 retrieved docs: ['NCT02902536', 'NCT04226170', 'NCT01480596', 'NCT03792659', 'NCT04768465', 'NCT04674605', 'NCT00306033', 'NCT03315130', 'NCT03971422', 'NCT01727193', 'NCT04535843', 'NCT00619671', 'NCT03914638', 'NCT03920293', 'NCT00727194', 'NCT03772587', 'NCT01997229', 'NCT02950155', 'NCT03510546', 'NCT03052751']\n"
     ]
    },
    {
     "name": "stderr",
     "output_type": "stream",
     "text": [
      " 51%|█████     | 38/75 [00:36<00:37,  1.01s/it]"
     ]
    },
    {
     "name": "stdout",
     "output_type": "stream",
     "text": [
      "  Query 38 stage 2 retrieved (after cross-encoder re-ranking): ['NCT03914638', 'NCT02902536', 'NCT02950155', 'NCT00619671', 'NCT00306033', 'NCT04226170', 'NCT03510546', 'NCT04768465', 'NCT03792659']\n",
      "   Query 38 metrics: Precision@10: 0.7000, Recall@10: 0.1346, F1@10: 0.2258, AP: 0.8632, nDCG@10: 0.8209, MRR@10=1.0000\n",
      "    Total time for query: 0.77 seconds\n",
      "Query 39 Stage 1 retrieved docs: ['NCT02625688', 'NCT04215601', 'NCT04099602', 'NCT02446951', 'NCT00653874', 'NCT01136577', 'NCT01203410', 'NCT04418180', 'NCT01762189', 'NCT02613676', 'NCT02774434', 'NCT04719104', 'NCT03942757', 'NCT01622699', 'NCT03055481', 'NCT02154165', 'NCT03183986', 'NCT00735319', 'NCT04251286', 'NCT03866213']\n"
     ]
    },
    {
     "name": "stderr",
     "output_type": "stream",
     "text": [
      " 52%|█████▏    | 39/75 [00:37<00:34,  1.04it/s]"
     ]
    },
    {
     "name": "stdout",
     "output_type": "stream",
     "text": [
      "  Query 39 stage 2 retrieved (after cross-encoder re-ranking): ['NCT03942757', 'NCT04215601', 'NCT01762189', 'NCT01203410', 'NCT02774434', 'NCT02446951', 'NCT01622699', 'NCT04251286', 'NCT03183986', 'NCT04099602']\n",
      "   Query 39 metrics: Precision@10: 0.4000, Recall@10: 0.1176, F1@10: 0.1818, AP: 0.3382, nDCG@10: 0.3449, MRR@10=0.2000\n",
      "    Total time for query: 0.86 seconds\n",
      "Query 40 Stage 1 retrieved docs: ['NCT00306046', 'NCT00051636', 'NCT00774020', 'NCT00480662', 'NCT02106455', 'NCT00747994', 'NCT00894075', 'NCT04222452', 'NCT02802384', 'NCT02056730', 'NCT03859895', 'NCT03993821', 'NCT00453128', 'NCT00195936', 'NCT00108394', 'NCT00066183', 'NCT02967042', 'NCT00417612', 'NCT00345839', 'NCT02603042']\n"
     ]
    },
    {
     "name": "stderr",
     "output_type": "stream",
     "text": [
      " 53%|█████▎    | 40/75 [00:38<00:32,  1.07it/s]"
     ]
    },
    {
     "name": "stdout",
     "output_type": "stream",
     "text": [
      "  Query 40 stage 2 retrieved (after cross-encoder re-ranking): ['NCT00894075', 'NCT02603042', 'NCT00453128', 'NCT00306046', 'NCT00417612', 'NCT03993821', 'NCT00108394', 'NCT02056730', 'NCT00747994', 'NCT02106455']\n",
      "   Query 40 metrics: Precision@10: 0.3000, Recall@10: 0.2727, F1@10: 0.2857, AP: 0.2574, nDCG@10: 0.2247, MRR@10=0.2500\n",
      "    Total time for query: 0.86 seconds\n",
      "Query 41 Stage 1 retrieved docs: ['NCT00443768', 'NCT00199394', 'NCT00203060', 'NCT01970813', 'NCT02745171', 'NCT03305588', 'NCT00526630', 'NCT01380899', 'NCT03433950', 'NCT04687878', 'NCT03297177', 'NCT00666653', 'NCT02060695', 'NCT01003002', 'NCT00001928', 'NCT00607451', 'NCT03011476', 'NCT02601144', 'NCT04858074', 'NCT00117195']\n"
     ]
    },
    {
     "name": "stderr",
     "output_type": "stream",
     "text": [
      " 55%|█████▍    | 41/75 [00:39<00:30,  1.10it/s]"
     ]
    },
    {
     "name": "stdout",
     "output_type": "stream",
     "text": [
      "  Query 41 stage 2 retrieved (after cross-encoder re-ranking): ['NCT03305588', 'NCT01380899', 'NCT03297177', 'NCT02745171', 'NCT02601144', 'NCT01003002', 'NCT01970813', 'NCT04687878', 'NCT00001928', 'NCT00607451']\n",
      "   Query 41 metrics: Precision@10: 0.2000, Recall@10: 0.0149, F1@10: 0.0278, AP: 0.5000, nDCG@10: 0.3469, MRR@10=0.5000\n",
      "    Total time for query: 0.85 seconds\n",
      "Query 42 Stage 1 retrieved docs: ['NCT03580941', 'NCT03246542', 'NCT02637739', 'NCT00193648', 'NCT02989337', 'NCT02380560', 'NCT02507180', 'NCT03117010', 'NCT04374604', 'NCT03744988', 'NCT02308735', 'NCT01426724', 'NCT00878826', 'NCT03499561', 'NCT04852510', 'NCT02443259', 'NCT00158743', 'NCT03341221', 'NCT03665974', 'NCT01735799']\n"
     ]
    },
    {
     "name": "stderr",
     "output_type": "stream",
     "text": [
      " 56%|█████▌    | 42/75 [00:39<00:30,  1.10it/s]"
     ]
    },
    {
     "name": "stdout",
     "output_type": "stream",
     "text": [
      "  Query 42 stage 2 retrieved (after cross-encoder re-ranking): ['NCT03665974', 'NCT02380560', 'NCT02989337', 'NCT04852510', 'NCT02308735', 'NCT02443259', 'NCT03246542', 'NCT02637739', 'NCT03499561', 'NCT03744988']\n",
      "   Query 42 metrics: Precision@10: 0.0000, Recall@10: 0.0000, F1@10: 0.0000, AP: 0.0000, nDCG@10: 0.0212, MRR@10=0.0000\n",
      "    Total time for query: 0.91 seconds\n",
      "Query 43 Stage 1 retrieved docs: ['NCT00269399', 'NCT02857582', 'NCT00350298', 'NCT04491799', 'NCT03964844', 'NCT00591357', 'NCT00304408', 'NCT01472978', 'NCT03586206', 'NCT02127814', 'NCT02076438', 'NCT00658151', 'NCT04070352', 'NCT01560832', 'NCT01687543', 'NCT02086916', 'NCT02355938', 'NCT01630096', 'NCT00861887', 'NCT03827447']\n"
     ]
    },
    {
     "name": "stderr",
     "output_type": "stream",
     "text": [
      " 57%|█████▋    | 43/75 [00:40<00:28,  1.11it/s]"
     ]
    },
    {
     "name": "stdout",
     "output_type": "stream",
     "text": [
      "  Query 43 stage 2 retrieved (after cross-encoder re-ranking): ['NCT02076438', 'NCT04491799', 'NCT00269399', 'NCT01687543', 'NCT02127814', 'NCT00350298', 'NCT02355938', 'NCT00304408', 'NCT01472978', 'NCT04070352']\n",
      "   Query 43 metrics: Precision@10: 0.2000, Recall@10: 0.0317, F1@10: 0.0548, AP: 0.2917, nDCG@10: 0.3506, MRR@10=0.3333\n",
      "    Total time for query: 0.87 seconds\n",
      "Query 44 Stage 1 retrieved docs: ['NCT02791776', 'NCT04215497', 'NCT01661959', 'NCT04357561', 'NCT02820012', 'NCT04421157', 'NCT04226209', 'NCT04092335', 'NCT01019109', 'NCT02968043', 'NCT03427970', 'NCT01610908', 'NCT03929042', 'NCT02552615', 'NCT02237248', 'NCT02609009', 'NCT03915106', 'NCT04539522', 'NCT04203394', 'NCT02819245']\n"
     ]
    },
    {
     "name": "stderr",
     "output_type": "stream",
     "text": [
      " 59%|█████▊    | 44/75 [00:41<00:28,  1.10it/s]"
     ]
    },
    {
     "name": "stdout",
     "output_type": "stream",
     "text": [
      "  Query 44 stage 2 retrieved (after cross-encoder re-ranking): ['NCT02609009', 'NCT03929042', 'NCT04421157', 'NCT01610908', 'NCT02552615', 'NCT04357561', 'NCT02791776', 'NCT03427970', 'NCT03915106', 'NCT04215497']\n",
      "   Query 44 metrics: Precision@10: 0.0000, Recall@10: 0.0000, F1@10: 0.0000, AP: 0.0000, nDCG@10: 0.4074, MRR@10=0.0000\n",
      "    Total time for query: 0.93 seconds\n",
      "Query 45 Stage 1 retrieved docs: ['NCT03431285', 'NCT02417298', 'NCT01932554', 'NCT00263562', 'NCT04301336', 'NCT04330183', 'NCT00000586', 'NCT03933397', 'NCT02434939', 'NCT03541980', 'NCT01119833', 'NCT01895361', 'NCT00102791', 'NCT04614610', 'NCT03682211', 'NCT00513617', 'NCT03502421', 'NCT00874172', 'NCT00834899', 'NCT02961218']\n"
     ]
    },
    {
     "name": "stderr",
     "output_type": "stream",
     "text": [
      " 60%|██████    | 45/75 [00:42<00:27,  1.10it/s]"
     ]
    },
    {
     "name": "stdout",
     "output_type": "stream",
     "text": [
      "  Query 45 stage 2 retrieved (after cross-encoder re-ranking): ['NCT03431285', 'NCT01932554', 'NCT00000586', 'NCT04330183', 'NCT03682211', 'NCT02434939', 'NCT00834899', 'NCT00263562', 'NCT00513617', 'NCT04301336']\n",
      "   Query 45 metrics: Precision@10: 0.6000, Recall@10: 0.0414, F1@10: 0.0774, AP: 0.7133, nDCG@10: 0.7560, MRR@10=1.0000\n",
      "    Total time for query: 0.90 seconds\n",
      "Query 46 Stage 1 retrieved docs: ['NCT00685360', 'NCT03416309', 'NCT01600963', 'NCT03830671', 'NCT04766307', 'NCT00000796', 'NCT01785186', 'NCT02758236', 'NCT02901288', 'NCT01398618', 'NCT02349841', 'NCT02776150', 'NCT00130247', 'NCT03072576', 'NCT02821832', 'NCT04694586', 'NCT01011543', 'NCT01516203', 'NCT00864383', 'NCT00513396']\n"
     ]
    },
    {
     "name": "stderr",
     "output_type": "stream",
     "text": [
      " 61%|██████▏   | 46/75 [00:43<00:25,  1.13it/s]"
     ]
    },
    {
     "name": "stdout",
     "output_type": "stream",
     "text": [
      "  Query 46 stage 2 retrieved (after cross-encoder re-ranking): ['NCT02349841', 'NCT00685360', 'NCT02758236', 'NCT04694586', 'NCT02821832', 'NCT00130247', 'NCT02901288', 'NCT00513396', 'NCT02776150', 'NCT03416309']\n",
      "   Query 46 metrics: Precision@10: 0.9000, Recall@10: 0.0818, F1@10: 0.1500, AP: 0.9765, nDCG@10: 0.9306, MRR@10=1.0000\n",
      "    Total time for query: 0.84 seconds\n",
      "Query 47 Stage 1 retrieved docs: ['NCT02452502', 'NCT00287508', 'NCT01252875', 'NCT03070067', 'NCT04162587', 'NCT03670862', 'NCT02225834', 'NCT03477188', 'NCT00009243', 'NCT00243880', 'NCT00061373', 'NCT03377465', 'NCT03413202', 'NCT02180204', 'NCT04824911', 'NCT00894803', 'NCT04847752', 'NCT01976936', 'NCT00363662', 'NCT01737723']\n"
     ]
    },
    {
     "name": "stderr",
     "output_type": "stream",
     "text": [
      " 63%|██████▎   | 47/75 [00:44<00:26,  1.04it/s]"
     ]
    },
    {
     "name": "stdout",
     "output_type": "stream",
     "text": [
      "  Query 47 stage 2 retrieved (after cross-encoder re-ranking): ['NCT01737723', 'NCT03377465', 'NCT00061373', 'NCT00287508', 'NCT04847752', 'NCT02225834', 'NCT03413202', 'NCT03477188', 'NCT00363662', 'NCT02180204']\n",
      "   Query 47 metrics: Precision@10: 0.5000, Recall@10: 0.0391, F1@10: 0.0725, AP: 0.6333, nDCG@10: 0.5700, MRR@10=1.0000\n",
      "    Total time for query: 1.13 seconds\n",
      "Query 48 Stage 1 retrieved docs: ['NCT01712360', 'NCT02464839', 'NCT03999437', 'NCT04110834', 'NCT04110860', 'NCT01396785', 'NCT01396811', 'NCT00848666', 'NCT01110330', 'NCT03745183', 'NCT03823040', 'NCT01290341', 'NCT02824926', 'NCT02860052', 'NCT01891305', 'NCT02606383', 'NCT00509275', 'NCT00856596', 'NCT02565940', 'NCT01519752']\n"
     ]
    },
    {
     "name": "stderr",
     "output_type": "stream",
     "text": [
      " 64%|██████▍   | 48/75 [00:45<00:26,  1.02it/s]"
     ]
    },
    {
     "name": "stdout",
     "output_type": "stream",
     "text": [
      "  Query 48 stage 2 retrieved (after cross-encoder re-ranking): ['NCT01290341', 'NCT02824926', 'NCT02464839', 'NCT02860052', 'NCT03745183', 'NCT00856596', 'NCT01712360', 'NCT02565940', 'NCT03823040', 'NCT01110330']\n",
      "   Query 48 metrics: Precision@10: 0.6000, Recall@10: 0.1250, F1@10: 0.2069, AP: 0.7620, nDCG@10: 0.7232, MRR@10=1.0000\n",
      "    Total time for query: 1.02 seconds\n",
      "Query 49 Stage 1 retrieved docs: ['NCT00134745', 'NCT01066052', 'NCT00001221', 'NCT01687842', 'NCT00140998', 'NCT00420654', 'NCT01760668', 'NCT00001343', 'NCT00029159', 'NCT00443144', 'NCT00266656', 'NCT00191113', 'NCT01710696', 'NCT00013546', 'NCT01410045', 'NCT00006334', 'NCT03189160', 'NCT00870220', 'NCT00097552', 'NCT00406926']\n"
     ]
    },
    {
     "name": "stderr",
     "output_type": "stream",
     "text": [
      " 65%|██████▌   | 49/75 [00:46<00:24,  1.07it/s]"
     ]
    },
    {
     "name": "stdout",
     "output_type": "stream",
     "text": [
      "  Query 49 stage 2 retrieved (after cross-encoder re-ranking): ['NCT00029159', 'NCT00001343', 'NCT00191113', 'NCT00140998', 'NCT00134745', 'NCT00006334', 'NCT01410045', 'NCT01687842', 'NCT00001221', 'NCT00420654']\n",
      "   Query 49 metrics: Precision@10: 0.4000, Recall@10: 0.1143, F1@10: 0.1778, AP: 0.4929, nDCG@10: 0.5607, MRR@10=0.5000\n",
      "    Total time for query: 0.84 seconds\n",
      "Query 50 Stage 1 retrieved docs: ['NCT04528381', 'NCT03291678', 'NCT02203318', 'NCT04696874', 'NCT04826952', 'NCT00253253', 'NCT04142632', 'NCT04821167', 'NCT03033381', 'NCT02936024', 'NCT02235623', 'NCT02158780', 'NCT02731989', 'NCT02249637', 'NCT00264121', 'NCT03102554', 'NCT04661098', 'NCT02461303', 'NCT02239185', 'NCT03969979']\n"
     ]
    },
    {
     "name": "stderr",
     "output_type": "stream",
     "text": [
      " 67%|██████▋   | 50/75 [00:47<00:22,  1.10it/s]"
     ]
    },
    {
     "name": "stdout",
     "output_type": "stream",
     "text": [
      "  Query 50 stage 2 retrieved (after cross-encoder re-ranking): ['NCT04528381', 'NCT04821167', 'NCT04826952', 'NCT00264121', 'NCT02249637', 'NCT02158780', 'NCT03969979', 'NCT03033381', 'NCT02936024', 'NCT04661098']\n",
      "   Query 50 metrics: Precision@10: 0.2000, Recall@10: 0.1429, F1@10: 0.1667, AP: 0.7500, nDCG@10: 0.4378, MRR@10=1.0000\n",
      "    Total time for query: 0.84 seconds\n",
      "Query 51 Stage 1 retrieved docs: ['NCT03658356', 'NCT04244526', 'NCT01507974', 'NCT01628900', 'NCT02305342', 'NCT02911662', 'NCT04055675', 'NCT04686318', 'NCT02536638', 'NCT01349738', 'NCT04575493', 'NCT03183531', 'NCT04667195', 'NCT00121797', 'NCT03501901', 'NCT03190421', 'NCT02637986', 'NCT00722735', 'NCT03634891', 'NCT02565940']\n"
     ]
    },
    {
     "name": "stderr",
     "output_type": "stream",
     "text": [
      " 68%|██████▊   | 51/75 [00:48<00:23,  1.01it/s]"
     ]
    },
    {
     "name": "stdout",
     "output_type": "stream",
     "text": [
      "  Query 51 stage 2 retrieved (after cross-encoder re-ranking): ['NCT02536638', 'NCT01628900', 'NCT01507974', 'NCT02637986', 'NCT03658356', 'NCT04686318', 'NCT03183531', 'NCT04055675', 'NCT04667195', 'NCT04244526']\n",
      "   Query 51 metrics: Precision@10: 0.4000, Recall@10: 0.1429, F1@10: 0.2105, AP: 0.6000, nDCG@10: 0.5537, MRR@10=1.0000\n",
      "    Total time for query: 1.17 seconds\n",
      "Query 52 Stage 1 retrieved docs: ['NCT00229944', 'NCT00741052', 'NCT04150250', 'NCT02111304', 'NCT00142272', 'NCT03237663', 'NCT01811771', 'NCT00349999', 'NCT03251495', 'NCT00654108', 'NCT00490932', 'NCT00226616', 'NCT01269554', 'NCT00324285', 'NCT00709410', 'NCT00741637', 'NCT02565940', 'NCT00624975', 'NCT00289224', 'NCT04269174']\n"
     ]
    },
    {
     "name": "stderr",
     "output_type": "stream",
     "text": [
      " 69%|██████▉   | 52/75 [00:49<00:22,  1.00it/s]"
     ]
    },
    {
     "name": "stdout",
     "output_type": "stream",
     "text": [
      "  Query 52 stage 2 retrieved (after cross-encoder re-ranking): ['NCT00349999', 'NCT03251495', 'NCT00324285', 'NCT04150250', 'NCT02111304', 'NCT01811771', 'NCT00741052', 'NCT00490932', 'NCT02565940', 'NCT00709410']\n",
      "   Query 52 metrics: Precision@10: 0.3000, Recall@10: 0.0732, F1@10: 0.1176, AP: 0.3595, nDCG@10: 0.3942, MRR@10=0.2500\n",
      "    Total time for query: 1.02 seconds\n",
      "Query 53 Stage 1 retrieved docs: ['NCT03624179', 'NCT00535158', 'NCT01456377', 'NCT01130181', 'NCT01419977', 'NCT03066817', 'NCT01495923', 'NCT04626063', 'NCT00130494', 'NCT04273490', 'NCT00345839', 'NCT00986180', 'NCT01119833', 'NCT03859895', 'NCT00997412', 'NCT04246619', 'NCT02490527', 'NCT02824718', 'NCT02002000', 'NCT03506919']\n"
     ]
    },
    {
     "name": "stderr",
     "output_type": "stream",
     "text": [
      " 71%|███████   | 53/75 [00:50<00:21,  1.01it/s]"
     ]
    },
    {
     "name": "stdout",
     "output_type": "stream",
     "text": [
      "  Query 53 stage 2 retrieved (after cross-encoder re-ranking): ['NCT01119833', 'NCT03506919', 'NCT00130494', 'NCT00345839', 'NCT01456377', 'NCT00535158', 'NCT02490527', 'NCT04626063', 'NCT01495923', 'NCT01130181']\n",
      "   Query 53 metrics: Precision@10: 0.0000, Recall@10: 0.0000, F1@10: 0.0000, AP: 0.0000, nDCG@10: 0.0212, MRR@10=0.0000\n",
      "    Total time for query: 0.96 seconds\n",
      "Query 54 Stage 1 retrieved docs: ['NCT03782870', 'NCT03182049', 'NCT00748644', 'NCT00103792', 'NCT00001541', 'NCT02126098', 'NCT04413149', 'NCT01066208', 'NCT00987389', 'NCT01934504', 'NCT00530075', 'NCT02807103', 'NCT03712345', 'NCT00005007', 'NCT01940094', 'NCT00072592', 'NCT00307593', 'NCT00001256', 'NCT00001155', 'NCT03290456']\n"
     ]
    },
    {
     "name": "stderr",
     "output_type": "stream",
     "text": [
      " 72%|███████▏  | 54/75 [00:51<00:20,  1.04it/s]"
     ]
    },
    {
     "name": "stdout",
     "output_type": "stream",
     "text": [
      "  Query 54 stage 2 retrieved (after cross-encoder re-ranking): ['NCT04413149', 'NCT02126098', 'NCT00748644', 'NCT00001256', 'NCT00001155', 'NCT02807103', 'NCT03290456', 'NCT01066208', 'NCT00307593', 'NCT00987389']\n",
      "   Query 54 metrics: Precision@10: 0.2000, Recall@10: 0.0667, F1@10: 0.1000, AP: 0.2361, nDCG@10: 0.2139, MRR@10=0.2500\n",
      "    Total time for query: 0.91 seconds\n",
      "Query 55 Stage 1 retrieved docs: ['NCT04212195', 'NCT03867526', 'NCT02763215', 'NCT04531189', 'NCT04408300', 'NCT00212355', 'NCT04012658', 'NCT02273596', 'NCT03589820', 'NCT01472874', 'NCT02426905', 'NCT01874028', 'NCT03299829', 'NCT01378182', 'NCT00212368', 'NCT03131427', 'NCT02712138', 'NCT01380899', 'NCT02702765', 'NCT02762682']\n"
     ]
    },
    {
     "name": "stderr",
     "output_type": "stream",
     "text": [
      " 73%|███████▎  | 55/75 [00:52<00:18,  1.09it/s]"
     ]
    },
    {
     "name": "stdout",
     "output_type": "stream",
     "text": [
      "  Query 55 stage 2 retrieved (after cross-encoder re-ranking): ['NCT02762682', 'NCT03299829', 'NCT03867526', 'NCT02426905', 'NCT00212355', 'NCT01380899', 'NCT03131427', 'NCT01874028', 'NCT02712138', 'NCT03589820']\n",
      "   Query 55 metrics: Precision@10: 0.4000, Recall@10: 0.1739, F1@10: 0.2424, AP: 0.5417, nDCG@10: 0.4524, MRR@10=0.5000\n",
      "    Total time for query: 0.82 seconds\n",
      "Query 56 Stage 1 retrieved docs: ['NCT01861717', 'NCT02427295', 'NCT01809808', 'NCT01029275', 'NCT00921609', 'NCT01368133', 'NCT01371643', 'NCT03439709', 'NCT02952885', 'NCT01723748', 'NCT02296216', 'NCT00993356', 'NCT00171886', 'NCT00182091', 'NCT04860037', 'NCT02092129', 'NCT03710499', 'NCT00001860', 'NCT00690898', 'NCT00934271']\n"
     ]
    },
    {
     "name": "stderr",
     "output_type": "stream",
     "text": [
      " 75%|███████▍  | 56/75 [00:53<00:16,  1.12it/s]"
     ]
    },
    {
     "name": "stdout",
     "output_type": "stream",
     "text": [
      "  Query 56 stage 2 retrieved (after cross-encoder re-ranking): ['NCT01029275', 'NCT00993356', 'NCT00921609', 'NCT02427295', 'NCT03439709', 'NCT00001860', 'NCT01723748', 'NCT02092129', 'NCT00182091', 'NCT01371643']\n",
      "   Query 56 metrics: Precision@10: 0.4000, Recall@10: 0.0784, F1@10: 0.1311, AP: 0.5012, nDCG@10: 0.5756, MRR@10=0.3333\n",
      "    Total time for query: 0.83 seconds\n",
      "Query 57 Stage 1 retrieved docs: ['NCT03259880', 'NCT04196504', 'NCT03354065', 'NCT04615702', 'NCT04570852', 'NCT01015417', 'NCT03342716', 'NCT04735055', 'NCT02430285', 'NCT02563080', 'NCT02528760', 'NCT03407534', 'NCT04750044', 'NCT03643900', 'NCT04408872', 'NCT00523874', 'NCT01929538', 'NCT00863642', 'NCT02543658', 'NCT03411629']\n"
     ]
    },
    {
     "name": "stderr",
     "output_type": "stream",
     "text": [
      " 76%|███████▌  | 57/75 [00:53<00:16,  1.11it/s]"
     ]
    },
    {
     "name": "stdout",
     "output_type": "stream",
     "text": [
      "  Query 57 stage 2 retrieved (after cross-encoder re-ranking): ['NCT04408872', 'NCT03643900', 'NCT04750044', 'NCT02543658', 'NCT02563080', 'NCT00523874', 'NCT01015417', 'NCT04570852', 'NCT01929538', 'NCT04735055']\n",
      "   Query 57 metrics: Precision@10: 0.5000, Recall@10: 0.0463, F1@10: 0.0847, AP: 0.4800, nDCG@10: 0.4355, MRR@10=0.5000\n",
      "    Total time for query: 0.90 seconds\n",
      "Query 58 Stage 1 retrieved docs: ['NCT03289351', 'NCT03234296', 'NCT03236961', 'NCT00677417', 'NCT02404064', 'NCT04634448', 'NCT04440150', 'NCT04033198', 'NCT03902262', 'NCT00135603', 'NCT00971438', 'NCT02867072', 'NCT01967745', 'NCT03159754', 'NCT04253899', 'NCT03169114', 'NCT01054417', 'NCT02742402', 'NCT04688463', 'NCT02687464']\n"
     ]
    },
    {
     "name": "stderr",
     "output_type": "stream",
     "text": [
      " 77%|███████▋  | 58/75 [00:54<00:15,  1.12it/s]"
     ]
    },
    {
     "name": "stdout",
     "output_type": "stream",
     "text": [
      "  Query 58 stage 2 retrieved (after cross-encoder re-ranking): ['NCT03902262', 'NCT04440150', 'NCT04033198', 'NCT03234296', 'NCT03236961', 'NCT00677417', 'NCT04688463', 'NCT02742402', 'NCT02687464', 'NCT01967745']\n",
      "   Query 58 metrics: Precision@10: 0.3000, Recall@10: 0.0545, F1@10: 0.0923, AP: 0.2508, nDCG@10: 0.2974, MRR@10=0.1667\n",
      "    Total time for query: 0.88 seconds\n",
      "Query 59 Stage 1 retrieved docs: ['NCT04674137', 'NCT00411567', 'NCT01437735', 'NCT02415179', 'NCT01500525', 'NCT00585039', 'NCT03788057', 'NCT01515995', 'NCT03846570', 'NCT00509197', 'NCT00634517', 'NCT01436890', 'NCT01772368', 'NCT02340520', 'NCT03498742', 'NCT03204760', 'NCT00278083', 'NCT01313637', 'NCT01313650', 'NCT01687283']\n"
     ]
    },
    {
     "name": "stderr",
     "output_type": "stream",
     "text": [
      " 79%|███████▊  | 59/75 [00:55<00:14,  1.11it/s]"
     ]
    },
    {
     "name": "stdout",
     "output_type": "stream",
     "text": [
      "  Query 59 stage 2 retrieved (after cross-encoder re-ranking): ['NCT01500525', 'NCT03498742', 'NCT00585039', 'NCT03788057', 'NCT01515995', 'NCT03204760', 'NCT02415179', 'NCT01687283', 'NCT02340520', 'NCT00634517']\n",
      "   Query 59 metrics: Precision@10: 0.3000, Recall@10: 0.0159, F1@10: 0.0302, AP: 0.3651, nDCG@10: 0.3430, MRR@10=0.3333\n",
      "    Total time for query: 0.93 seconds\n",
      "Query 60 Stage 1 retrieved docs: ['NCT03239951', 'NCT01563796', 'NCT02681471', 'NCT04781985', 'NCT01815697', 'NCT02689830', 'NCT02533687', 'NCT02524236', 'NCT02961114', 'NCT04766268', 'NCT00431626', 'NCT03104907', 'NCT00564460', 'NCT02822924', 'NCT02074644', 'NCT00169767', 'NCT00077012', 'NCT00381108', 'NCT03457805', 'NCT03912558']\n"
     ]
    },
    {
     "name": "stderr",
     "output_type": "stream",
     "text": [
      " 80%|████████  | 60/75 [00:56<00:14,  1.03it/s]"
     ]
    },
    {
     "name": "stdout",
     "output_type": "stream",
     "text": [
      "  Query 60 stage 2 retrieved (after cross-encoder re-ranking): ['NCT03239951', 'NCT02524236', 'NCT02822924', 'NCT03912558', 'NCT04766268', 'NCT01563796', 'NCT03104907', 'NCT02533687', 'NCT02961114', 'NCT00431626']\n",
      "   Query 60 metrics: Precision@10: 0.5000, Recall@10: 0.0336, F1@10: 0.0629, AP: 0.9000, nDCG@10: 0.6495, MRR@10=1.0000\n",
      "    Total time for query: 1.12 seconds\n",
      "Query 61 Stage 1 retrieved docs: ['NCT02897700', 'NCT00001250', 'NCT03188393', 'NCT00542191', 'NCT04436809', 'NCT00970983', 'NCT04293796', 'NCT04697043', 'NCT04225858', 'NCT03669705', 'NCT01920139', 'NCT03681418', 'NCT04245150', 'NCT00881361', 'NCT01501487', 'NCT00003953', 'NCT03236974', 'NCT00507611', 'NCT00233974', 'NCT00103181']\n"
     ]
    },
    {
     "name": "stderr",
     "output_type": "stream",
     "text": [
      " 81%|████████▏ | 61/75 [00:57<00:13,  1.03it/s]"
     ]
    },
    {
     "name": "stdout",
     "output_type": "stream",
     "text": [
      "  Query 61 stage 2 retrieved (after cross-encoder re-ranking): ['NCT01501487', 'NCT03236974', 'NCT00542191', 'NCT01920139', 'NCT04245150', 'NCT00103181', 'NCT00507611', 'NCT00001250', 'NCT04225858', 'NCT02897700']\n",
      "   Query 61 metrics: Precision@10: 0.1000, Recall@10: 0.0083, F1@10: 0.0154, AP: 0.1429, nDCG@10: 0.1834, MRR@10=0.1429\n",
      "    Total time for query: 0.96 seconds\n",
      "Query 62 Stage 1 retrieved docs: ['NCT00810550', 'NCT00949169', 'NCT04825080', 'NCT03721523', 'NCT01208025', 'NCT04423406', 'NCT02487615', 'NCT00307307', 'NCT03672955', 'NCT00451529', 'NCT03041168', 'NCT02476396', 'NCT02992821', 'NCT00235248', 'NCT03499496', 'NCT03464851', 'NCT02141932', 'NCT00005189', 'NCT04444024', 'NCT01042912']\n"
     ]
    },
    {
     "name": "stderr",
     "output_type": "stream",
     "text": [
      " 83%|████████▎ | 62/75 [00:58<00:12,  1.06it/s]"
     ]
    },
    {
     "name": "stdout",
     "output_type": "stream",
     "text": [
      "  Query 62 stage 2 retrieved (after cross-encoder re-ranking): ['NCT00810550', 'NCT03499496', 'NCT00235248', 'NCT00949169', 'NCT02141932', 'NCT00005189', 'NCT02476396', 'NCT03721523', 'NCT03041168', 'NCT04444024']\n",
      "   Query 62 metrics: Precision@10: 0.2000, Recall@10: 0.0308, F1@10: 0.0533, AP: 0.4167, nDCG@10: 0.2649, MRR@10=0.5000\n",
      "    Total time for query: 0.90 seconds\n",
      "Query 63 Stage 1 retrieved docs: ['NCT01425177', 'NCT01015417', 'NCT02830984', 'NCT02472509', 'NCT02430285', 'NCT03259880', 'NCT03709030', 'NCT02349568', 'NCT03981315', 'NCT04234126', 'NCT00161083', 'NCT04615702', 'NCT04675190', 'NCT04408872', 'NCT02554097', 'NCT01100398', 'NCT01492790', 'NCT00634140', 'NCT02967926', 'NCT02469935']\n"
     ]
    },
    {
     "name": "stderr",
     "output_type": "stream",
     "text": [
      " 84%|████████▍ | 63/75 [00:59<00:11,  1.07it/s]"
     ]
    },
    {
     "name": "stdout",
     "output_type": "stream",
     "text": [
      "  Query 63 stage 2 retrieved (after cross-encoder re-ranking): ['NCT02469935', 'NCT02472509', 'NCT04408872', 'NCT01100398', 'NCT04234126', 'NCT01492790', 'NCT04675190', 'NCT01015417', 'NCT00634140', 'NCT03709030']\n",
      "   Query 63 metrics: Precision@10: 0.0000, Recall@10: 0.0000, F1@10: 0.0000, AP: 0.0000, nDCG@10: 0.0000, MRR@10=0.0000\n",
      "    Total time for query: 0.91 seconds\n",
      "Query 64 Stage 1 retrieved docs: ['NCT00751426', 'NCT03520660', 'NCT01872988', 'NCT02825212', 'NCT00380614', 'NCT00512941', 'NCT04405011', 'NCT03693586', 'NCT01360268', 'NCT03170076', 'NCT03547895', 'NCT02483156', 'NCT03226717', 'NCT03186313', 'NCT00707772', 'NCT03740789', 'NCT01453075', 'NCT04546802', 'NCT00527540', 'NCT03014986']\n"
     ]
    },
    {
     "name": "stderr",
     "output_type": "stream",
     "text": [
      " 85%|████████▌ | 64/75 [01:00<00:10,  1.07it/s]"
     ]
    },
    {
     "name": "stdout",
     "output_type": "stream",
     "text": [
      "  Query 64 stage 2 retrieved (after cross-encoder re-ranking): ['NCT03170076', 'NCT01360268', 'NCT03547895', 'NCT03520660', 'NCT04405011', 'NCT00380614', 'NCT01872988', 'NCT03740789', 'NCT04546802', 'NCT00512941']\n",
      "   Query 64 metrics: Precision@10: 0.4000, Recall@10: 0.0615, F1@10: 0.1067, AP: 0.6250, nDCG@10: 0.4868, MRR@10=1.0000\n",
      "    Total time for query: 0.93 seconds\n",
      "Query 65 Stage 1 retrieved docs: ['NCT03188757', 'NCT00684528', 'NCT00488033', 'NCT02062554', 'NCT01029392', 'NCT01220349', 'NCT04200586', 'NCT04593173', 'NCT04450407', 'NCT00732524', 'NCT03117010', 'NCT01071928', 'NCT02280174', 'NCT03930004', 'NCT04388280', 'NCT04256005', 'NCT02691533', 'NCT04385589', 'NCT01215136', 'NCT01154413']\n"
     ]
    },
    {
     "name": "stderr",
     "output_type": "stream",
     "text": [
      " 87%|████████▋ | 65/75 [01:01<00:09,  1.08it/s]"
     ]
    },
    {
     "name": "stdout",
     "output_type": "stream",
     "text": [
      "  Query 65 stage 2 retrieved (after cross-encoder re-ranking): ['NCT01220349', 'NCT04388280', 'NCT02280174', 'NCT01154413', 'NCT01029392', 'NCT00732524', 'NCT04200586', 'NCT02062554', 'NCT04385589', 'NCT04256005']\n",
      "   Query 65 metrics: Precision@10: 0.0000, Recall@10: 0.0000, F1@10: 0.0000, AP: 0.0000, nDCG@10: 0.0000, MRR@10=0.0000\n",
      "    Total time for query: 0.90 seconds\n",
      "Query 66 Stage 1 retrieved docs: ['NCT04752202', 'NCT00552487', 'NCT02319538', 'NCT02798965', 'NCT01884649', 'NCT02725879', 'NCT04754607', 'NCT02868476', 'NCT02126683', 'NCT00665171', 'NCT03984006', 'NCT00172523', 'NCT03106935', 'NCT01760421', 'NCT04249271', 'NCT02703064', 'NCT04178928', 'NCT01313455', 'NCT00001159', 'NCT03048708']\n"
     ]
    },
    {
     "name": "stderr",
     "output_type": "stream",
     "text": [
      " 88%|████████▊ | 66/75 [01:02<00:08,  1.11it/s]"
     ]
    },
    {
     "name": "stdout",
     "output_type": "stream",
     "text": [
      "  Query 66 stage 2 retrieved (after cross-encoder re-ranking): ['NCT01313455', 'NCT02725879', 'NCT00552487', 'NCT02319538', 'NCT01760421', 'NCT02703064', 'NCT00172523', 'NCT04249271', 'NCT00665171', 'NCT04754607']\n",
      "   Query 66 metrics: Precision@10: 0.1000, Recall@10: 0.0909, F1@10: 0.0952, AP: 0.5000, nDCG@10: 0.2355, MRR@10=0.5000\n",
      "    Total time for query: 0.85 seconds\n",
      "Query 67 Stage 1 retrieved docs: ['NCT00343213', 'NCT00872937', 'NCT00091130', 'NCT03998254', 'NCT01385436', 'NCT03837028', 'NCT00128661', 'NCT00201370', 'NCT03920800', 'NCT00743626', 'NCT04369339', 'NCT01550783', 'NCT04171505', 'NCT03577925', 'NCT00689741', 'NCT00006444', 'NCT00312286', 'NCT00117884', 'NCT01924117', 'NCT01131312']\n"
     ]
    },
    {
     "name": "stderr",
     "output_type": "stream",
     "text": [
      " 89%|████████▉ | 67/75 [01:03<00:07,  1.13it/s]"
     ]
    },
    {
     "name": "stdout",
     "output_type": "stream",
     "text": [
      "  Query 67 stage 2 retrieved (after cross-encoder re-ranking): ['NCT01385436', 'NCT01550783', 'NCT01131312', 'NCT00201370', 'NCT01924117', 'NCT00006444', 'NCT00091130', 'NCT03837028', 'NCT04171505', 'NCT00312286']\n",
      "   Query 67 metrics: Precision@10: 0.2000, Recall@10: 0.0333, F1@10: 0.0571, AP: 0.4167, nDCG@10: 0.3994, MRR@10=0.3333\n",
      "    Total time for query: 0.83 seconds\n",
      "Query 68 Stage 1 retrieved docs: ['NCT00901940', 'NCT04749810', 'NCT01133834', 'NCT03721146', 'NCT04236960', 'NCT00862277', 'NCT02205541', 'NCT00390143', 'NCT03263403', 'NCT02257892', 'NCT01257269', 'NCT00974363', 'NCT02904863', 'NCT02986854', 'NCT01478347', 'NCT02464891', 'NCT04083443', 'NCT02867319', 'NCT00661557', 'NCT04204096']\n"
     ]
    },
    {
     "name": "stderr",
     "output_type": "stream",
     "text": [
      " 91%|█████████ | 68/75 [01:04<00:06,  1.14it/s]"
     ]
    },
    {
     "name": "stdout",
     "output_type": "stream",
     "text": [
      "  Query 68 stage 2 retrieved (after cross-encoder re-ranking): ['NCT00390143', 'NCT00974363', 'NCT02205541', 'NCT00661557', 'NCT04083443', 'NCT01257269', 'NCT02904863', 'NCT02257892', 'NCT03721146', 'NCT00862277']\n",
      "   Query 68 metrics: Precision@10: 0.1000, Recall@10: 0.0233, F1@10: 0.0377, AP: 0.1429, nDCG@10: 0.2613, MRR@10=0.1429\n",
      "    Total time for query: 0.88 seconds\n",
      "Query 69 Stage 1 retrieved docs: ['NCT01181336', 'NCT00230750', 'NCT00769002', 'NCT00253734', 'NCT00546585', 'NCT00397215', 'NCT01317745', 'NCT02213354', 'NCT01827462', 'NCT02746783', 'NCT00943358', 'NCT02908269', 'NCT01721083', 'NCT01317758', 'NCT03028974', 'NCT00283283', 'NCT00973895', 'NCT00170547', 'NCT03020498', 'NCT01123954']\n"
     ]
    },
    {
     "name": "stderr",
     "output_type": "stream",
     "text": [
      " 92%|█████████▏| 69/75 [01:04<00:05,  1.10it/s]"
     ]
    },
    {
     "name": "stdout",
     "output_type": "stream",
     "text": [
      "  Query 69 stage 2 retrieved (after cross-encoder re-ranking): ['NCT00283283', 'NCT00170547', 'NCT00253734', 'NCT01181336', 'NCT01317745', 'NCT01317758', 'NCT02908269', 'NCT01721083', 'NCT00397215', 'NCT01827462']\n",
      "   Query 69 metrics: Precision@10: 0.4000, Recall@10: 0.1053, F1@10: 0.1667, AP: 0.2815, nDCG@10: 0.4606, MRR@10=0.1429\n",
      "    Total time for query: 0.96 seconds\n",
      "Query 70 Stage 1 retrieved docs: ['NCT01725048', 'NCT04471818', 'NCT01312922', 'NCT02436252', 'NCT02746367', 'NCT03554447', 'NCT01497548', 'NCT04442490', 'NCT00976560', 'NCT01935050', 'NCT01748734', 'NCT01619631', 'NCT03717844', 'NCT00360399', 'NCT00625742', 'NCT00122954', 'NCT03057860', 'NCT03833206', 'NCT02424708', 'NCT04826614']\n"
     ]
    },
    {
     "name": "stderr",
     "output_type": "stream",
     "text": [
      " 93%|█████████▎| 70/75 [01:05<00:04,  1.12it/s]"
     ]
    },
    {
     "name": "stdout",
     "output_type": "stream",
     "text": [
      "  Query 70 stage 2 retrieved (after cross-encoder re-ranking): ['NCT04826614', 'NCT03554447', 'NCT01725048', 'NCT00360399', 'NCT01619631', 'NCT02746367', 'NCT02436252', 'NCT01497548', 'NCT03717844', 'NCT01935050']\n",
      "   Query 70 metrics: Precision@10: 0.4000, Recall@10: 0.0364, F1@10: 0.0667, AP: 0.8167, nDCG@10: 0.5908, MRR@10=1.0000\n",
      "    Total time for query: 0.87 seconds\n",
      "Query 71 Stage 1 retrieved docs: ['NCT01842425', 'NCT00622765', 'NCT00770276', 'NCT02598531', 'NCT04278183', 'NCT04554082', 'NCT04193995', 'NCT03105050', 'NCT01639677', 'NCT02463435', 'NCT01040533', 'NCT01784848', 'NCT04109664', 'NCT03288259', 'NCT01041105', 'NCT02680873', 'NCT02004561', 'NCT00667498', 'NCT03394157', 'NCT00120562']\n"
     ]
    },
    {
     "name": "stderr",
     "output_type": "stream",
     "text": [
      " 95%|█████████▍| 71/75 [01:06<00:03,  1.10it/s]"
     ]
    },
    {
     "name": "stdout",
     "output_type": "stream",
     "text": [
      "  Query 71 stage 2 retrieved (after cross-encoder re-ranking): ['NCT04193995', 'NCT03288259', 'NCT01784848', 'NCT01842425', 'NCT04278183', 'NCT00770276', 'NCT04109664', 'NCT00622765', 'NCT02004561', 'NCT03105050']\n",
      "   Query 71 metrics: Precision@10: 0.3000, Recall@10: 0.0226, F1@10: 0.0420, AP: 0.3194, nDCG@10: 0.2426, MRR@10=0.2500\n",
      "    Total time for query: 0.95 seconds\n",
      "Query 72 Stage 1 retrieved docs: ['NCT02902536', 'NCT03792659', 'NCT04674605', 'NCT04535843', 'NCT01727193', 'NCT00306033', 'NCT00619671', 'NCT02950155', 'NCT00727194', 'NCT01480596', 'NCT04768465', 'NCT04226170', 'NCT03914638', 'NCT03315130', 'NCT01997229', 'NCT03920293', 'NCT02100969', 'NCT03971422', 'NCT00814138', 'NCT04728425']\n"
     ]
    },
    {
     "name": "stderr",
     "output_type": "stream",
     "text": [
      " 96%|█████████▌| 72/75 [01:07<00:02,  1.11it/s]"
     ]
    },
    {
     "name": "stdout",
     "output_type": "stream",
     "text": [
      "  Query 72 stage 2 retrieved (after cross-encoder re-ranking): ['NCT00306033', 'NCT03914638', 'NCT02100969', 'NCT04768465', 'NCT03792659', 'NCT00619671', 'NCT02950155', 'NCT02902536', 'NCT04728425', 'NCT04226170']\n",
      "   Query 72 metrics: Precision@10: 0.0000, Recall@10: 0.0000, F1@10: 0.0000, AP: 0.0000, nDCG@10: 0.2683, MRR@10=0.0000\n",
      "    Total time for query: 0.88 seconds\n",
      "Query 73 Stage 1 retrieved docs: ['NCT01136577', 'NCT04215601', 'NCT02625688', 'NCT04099602', 'NCT04719104', 'NCT04418180', 'NCT03942757', 'NCT03055481', 'NCT02154165', 'NCT02446951', 'NCT03183986', 'NCT03569254', 'NCT03570775', 'NCT00653874', 'NCT02613676', 'NCT02774434', 'NCT01434810', 'NCT01622699', 'NCT00635375', 'NCT04365998']\n"
     ]
    },
    {
     "name": "stderr",
     "output_type": "stream",
     "text": [
      " 97%|█████████▋| 73/75 [01:08<00:01,  1.12it/s]"
     ]
    },
    {
     "name": "stdout",
     "output_type": "stream",
     "text": [
      "  Query 73 stage 2 retrieved (after cross-encoder re-ranking): ['NCT04215601', 'NCT02774434', 'NCT02446951', 'NCT01434810', 'NCT01622699', 'NCT03942757', 'NCT04099602', 'NCT02625688', 'NCT01136577', 'NCT03183986']\n",
      "   Query 73 metrics: Precision@10: 0.4000, Recall@10: 0.2000, F1@10: 0.2667, AP: 0.4500, nDCG@10: 0.5321, MRR@10=0.5000\n",
      "    Total time for query: 0.87 seconds\n",
      "Query 74 Stage 1 retrieved docs: ['NCT00306046', 'NCT00051636', 'NCT00774020', 'NCT00480662', 'NCT00747994', 'NCT04222452', 'NCT02106455', 'NCT00894075', 'NCT02802384', 'NCT02056730', 'NCT00453128', 'NCT03993821', 'NCT03859895', 'NCT00108394', 'NCT00195936', 'NCT00066183', 'NCT00417612', 'NCT02198001', 'NCT02967042', 'NCT00973336']\n"
     ]
    },
    {
     "name": "stderr",
     "output_type": "stream",
     "text": [
      " 99%|█████████▊| 74/75 [01:09<00:00,  1.13it/s]"
     ]
    },
    {
     "name": "stdout",
     "output_type": "stream",
     "text": [
      "  Query 74 stage 2 retrieved (after cross-encoder re-ranking): ['NCT00894075', 'NCT00453128', 'NCT03993821', 'NCT00306046', 'NCT00417612', 'NCT00108394', 'NCT02106455', 'NCT04222452', 'NCT00747994', 'NCT02802384']\n",
      "   Query 74 metrics: Precision@10: 0.4000, Recall@10: 0.3636, F1@10: 0.3810, AP: 0.3173, nDCG@10: 0.2980, MRR@10=0.2500\n",
      "    Total time for query: 0.87 seconds\n",
      "Query 75 Stage 1 retrieved docs: ['NCT00443768', 'NCT00001928', 'NCT00203060', 'NCT00199394', 'NCT04380142', 'NCT00526630', 'NCT00607451', 'NCT00148512', 'NCT00472355', 'NCT00666653', 'NCT00307450', 'NCT03956979', 'NCT00199407', 'NCT03433950', 'NCT04379050', 'NCT04750226', 'NCT04472130', 'NCT00199420', 'NCT00199355', 'NCT03568968']\n"
     ]
    },
    {
     "name": "stderr",
     "output_type": "stream",
     "text": [
      "100%|██████████| 75/75 [01:10<00:00,  1.07it/s]"
     ]
    },
    {
     "name": "stdout",
     "output_type": "stream",
     "text": [
      "  Query 75 stage 2 retrieved (after cross-encoder re-ranking): ['NCT00001928', 'NCT03568968', 'NCT00443768', 'NCT00607451', 'NCT00199394', 'NCT00307450', 'NCT00472355', 'NCT04472130', 'NCT03433950', 'NCT00199420']\n",
      "   Query 75 metrics: Precision@10: 0.3000, Recall@10: 0.0213, F1@10: 0.0397, AP: 0.7917, nDCG@10: 0.5685, MRR@10=1.0000\n",
      "    Total time for query: 0.88 seconds\n",
      "Date/time:2025-04-10 08:22:27\n",
      "\n",
      "Bi-encoder and cross-encoder - Overall evaluation metrics:\n",
      "Relevance Threshold: 2\n",
      "Mean Precision@10: 0.2813\n",
      "Mean Recall@10: 0.0555\n",
      "Mean F1@10: 0.0830\n",
      "Mean Average Precision (MAP): 0.4291\n",
      "Mean nDCG@10: 0.3792\n",
      "Mean MRR10: 0.4870\n",
      "Average total time per query: 0.94 seconds\n"
     ]
    },
    {
     "name": "stderr",
     "output_type": "stream",
     "text": [
      "\n"
     ]
    }
   ],
   "source": [
    "\"\"\"\n",
    "Zuveir Jameer\n",
    "8 Apirl 2025\n",
    "Bi-encoder and cross-encoder for retrieval\n",
    "\"\"\"\n",
    "\n",
    "import json\n",
    "import numpy as np\n",
    "from elasticsearch import Elasticsearch\n",
    "from tqdm import tqdm\n",
    "import torch\n",
    "from transformers import AutoTokenizer, AutoModelForSequenceClassification\n",
    "from sentence_transformers import SentenceTransformer\n",
    "import time\n",
    "from datetime import datetime\n",
    "import pandas as pd\n",
    "\n",
    "\n",
    "# Setup: Load Models for Cross-encoder for re-ranking\n",
    "cross_tokenizer = AutoTokenizer.from_pretrained(\"cross-encoder/ms-marco-MiniLM-L6-v2\")\n",
    "cross_model = AutoModelForSequenceClassification.from_pretrained(\"cross-encoder/ms-marco-MiniLM-L6-v2\")\n",
    "\n",
    "cross_model.eval()\n",
    "device = torch.device(\"mps\" if torch.backends.mps.is_available() else \"cpu\")\n",
    "cross_model.to(device)\n",
    "\n",
    "#Evaluation Metric Functions\n",
    "def precision_at_k(re_ranked_docs, relevant_docs, k):\n",
    "    top_k_docs = re_ranked_docs[:k]\n",
    "    num_relevant_in_k = sum(1 for doc in top_k_docs \n",
    "                            if doc in relevant_docs and relevant_docs[doc] > 0)\n",
    "    return num_relevant_in_k / k if k else 0.0\n",
    "\n",
    "def recall_at_k(re_ranked_docs, relevant_docs, k):\n",
    "    top_k_docs = re_ranked_docs[:k]\n",
    "    total_relevant = sum(1 for doc, rel in relevant_docs.items() if rel > 0)\n",
    "    if total_relevant == 0:\n",
    "        return 0.0\n",
    "    num_relevant_in_k = sum(1 for doc in top_k_docs \n",
    "                            if doc in relevant_docs and relevant_docs[doc] > 0)\n",
    "    return num_relevant_in_k / total_relevant\n",
    "\n",
    "def f1_at_k(re_ranked_docs, relevant_docs, k):\n",
    "    p = precision_at_k(re_ranked_docs, relevant_docs, k)\n",
    "    r = recall_at_k(re_ranked_docs, relevant_docs, k)\n",
    "    if (p + r) == 0:\n",
    "        return 0.0\n",
    "    return 2 * (p * r) / (p + r)\n",
    "\n",
    "def average_precision(re_ranked_docs, relevant_docs):\n",
    "    if not relevant_docs:\n",
    "        return 0.0\n",
    "    \n",
    "    relevant_indices = [\n",
    "        i for i, doc in enumerate(re_ranked_docs)\n",
    "        if doc in relevant_docs and relevant_docs[doc] > 0\n",
    "    ]\n",
    "    if not relevant_indices:\n",
    "        return 0.0\n",
    "    \n",
    "    ap_sum = 0.0\n",
    "    for idx, rank_pos in enumerate(relevant_indices, start=1):\n",
    "        prec = precision_at_k(re_ranked_docs, relevant_docs, rank_pos+1)\n",
    "        ap_sum += prec\n",
    "    return ap_sum / len(relevant_indices)\n",
    "\n",
    "def ndcg_at_k(re_ranked_docs, relevant_docs, k):\n",
    "    def dcg(scores):\n",
    "        return sum(( (2**s - 1) / np.log2(idx + 2)) for idx, s in enumerate(scores))\n",
    "    \n",
    "    top_k_docs = re_ranked_docs[:k]\n",
    "    actual_scores = [relevant_docs[doc] if doc in relevant_docs else 0 for doc in top_k_docs]\n",
    "    actual_dcg = dcg(actual_scores)\n",
    "    \n",
    "    sorted_rels = sorted(relevant_docs.values(), reverse=True)[:k]\n",
    "    ideal_dcg = dcg(sorted_rels)\n",
    "    \n",
    "    if ideal_dcg == 0:\n",
    "        return 0.0\n",
    "    return actual_dcg / ideal_dcg\n",
    "\n",
    "def mrr_at_k(re_ranked_docs, relevant_docs, k):\n",
    "    for i, doc_id in enumerate(re_ranked_docs[:k], start=1):\n",
    "        if doc_id in relevant_docs and relevant_docs[doc_id] > 0:\n",
    "            return 1.0 / i\n",
    "    return 0.0\n",
    "\n",
    "\n",
    "# Data Loading\n",
    "def load_jsonl(filename):\n",
    "    with open(filename, \"r\") as f:\n",
    "        return [json.loads(line) for line in f]\n",
    "\n",
    "queries = load_jsonl(\"trec_ct_2021_query.jsonl\")\n",
    "qrels_list = load_jsonl(\"trec_ct_2021_qrels.jsonl\")\n",
    "\n",
    "# Create a dictionary mapping query_id to {doc_id: relevance}\n",
    "qrels = {}\n",
    "for q in qrels_list:\n",
    "    qid = q[\"query_id\"]\n",
    "    if qid not in qrels:\n",
    "        qrels[qid] = {}\n",
    "    relevance = int(q.get(\"relevance\", 0))\n",
    "    qrels[qid][q[\"doc_id\"]] = relevance\n",
    "\n",
    "print(f\"Loaded {len(queries)} queries\")\n",
    "print(f\"Loaded qrels for {len(qrels)} queries\")\n",
    "\n",
    "RELEVANCE_THRESHOLD = 2\n",
    "\n",
    "filtered_qrels = {\n",
    "    qid: {doc: rel for doc, rel in rels.items() if rel >= RELEVANCE_THRESHOLD}\n",
    "    for qid, rels in qrels.items()\n",
    "}\n",
    "\n",
    "ndcg_qrels = {\n",
    "    qid: {doc: rel for doc, rel in rels.items()}\n",
    "    for qid, rels in qrels.items()\n",
    "}\n",
    "\n",
    "# Dense Retrieval (Stage 1) Functions using Bi-Encoder\n",
    "def search_detailed_descrption(query_vector, K=100):\n",
    "    \"\"\"\n",
    "    Retrieve candidate documents using dense vector search with cosine similarity.\n",
    "    Assumes that each document in ES has a pre-computed vector in the field \n",
    "    'detailed_descrption_vector_1'.\n",
    "    \"\"\"\n",
    "    search_body = {\n",
    "      \"query\": {\n",
    "        \"script_score\": {\n",
    "          \"query\": {\n",
    "            \"bool\": {\n",
    "              \"must\": [\n",
    "                {\"match_all\": {}},\n",
    "                {\"exists\": {\"field\": \"detailed_descrption_vector_1\"}}\n",
    "              ]\n",
    "            }\n",
    "          },\n",
    "          \"script\": {\n",
    "            \"source\": \"cosineSimilarity(params.query_vector, 'detailed_descrption_vector_1') + 1.0\",\n",
    "            \"params\": {\"query_vector\": query_vector}\n",
    "          }\n",
    "        }\n",
    "      }\n",
    "    }\n",
    "    response = es.search(index=\"ir_dev_sentence_index\", body=search_body, size=K)\n",
    "    return [hit[\"_source\"][\"doc_id\"] for hit in response['hits']['hits']]\n",
    "\n",
    "def get_document_text(doc_id):\n",
    "    \"\"\"\n",
    "    Retrieve the detailed description for a document given its ID.\n",
    "    Make sure that the field name matches your index mapping.\n",
    "    \"\"\"\n",
    "    query = {\n",
    "        \"query\": {\n",
    "            \"term\": {\"doc_id.keyword\": doc_id}\n",
    "        }\n",
    "    }\n",
    "    response = es.search(index=\"ir_dev_sentence_index\", body=query, size=1)\n",
    "    hits = response.get(\"hits\", {}).get(\"hits\", [])\n",
    "    if hits:\n",
    "        doc_text = hits[0][\"_source\"].get(\"detailed_descrption\", \"\").strip()\n",
    "        return doc_text if doc_text else None\n",
    "    else:\n",
    "        return None\n",
    "\n",
    "K = 20  # Number of candidates from dense retrieval\n",
    "top_k=10 #Number of results returned from re-ranker\n",
    "\n",
    "def cross_encoder_rerank(query_text, candidate_doc_ids, top_k=top_k):\n",
    "    candidate_pairs = []\n",
    "    valid_doc_ids = []\n",
    "    for doc_id in candidate_doc_ids:\n",
    "        try:\n",
    "            doc_text = get_document_text(doc_id)\n",
    "            if doc_text is None or not doc_text.strip():\n",
    "                continue\n",
    "            candidate_pairs.append((query_text, doc_text))\n",
    "            valid_doc_ids.append(doc_id)\n",
    "        except Exception as e:\n",
    "            print(f\"Error fetching doc {doc_id}: {e}\")\n",
    "            continue\n",
    "\n",
    "    if not candidate_pairs:\n",
    "        print(\"No valid candidate pairs found; returning original candidates.\")\n",
    "        return candidate_doc_ids\n",
    "\n",
    "    inputs = cross_tokenizer.batch_encode_plus(\n",
    "        candidate_pairs, \n",
    "        padding=True, \n",
    "        truncation=True, \n",
    "        return_tensors=\"pt\"\n",
    "    )\n",
    "    inputs = {k: v.to(cross_model.device) for k, v in inputs.items()}\n",
    "\n",
    "    with torch.no_grad():\n",
    "        outputs = cross_model(**inputs)\n",
    "\n",
    "    if outputs.logits.shape[-1] == 1:\n",
    "        scores = outputs.logits.squeeze(-1)\n",
    "    else:\n",
    "        scores = torch.softmax(outputs.logits, dim=1)[:, 1]\n",
    "\n",
    "    ranked = sorted(\n",
    "        zip(valid_doc_ids, scores.tolist()), \n",
    "        key=lambda x: x[1], \n",
    "        reverse=True\n",
    "    )\n",
    "\n",
    "    # If top_k is specified, slice the top_k\n",
    "    if top_k is not None:\n",
    "        ranked = ranked[:top_k]\n",
    "\n",
    "    # Return just the document IDs, in ranked order\n",
    "    return [doc_id for doc_id, score in ranked]\n",
    "\n",
    "all_metrics = []\n",
    "\n",
    "print(\"Processing queries and retrieving documents...\")\n",
    "for query in tqdm(queries, total=len(queries)):\n",
    "    qid = query[\"query_id\"]\n",
    "    query_text = query[\"text\"]\n",
    "    if not query_text.strip():\n",
    "        print(f\"Query {qid} is empty, skipping.\")\n",
    "        continue\n",
    "    \n",
    "    start_time = time.time()\n",
    "    \n",
    "    # Stage 1: Get the dense vector for the query and retrieve candidates\n",
    "    query_vector = get_embedding(query_text)\n",
    "    try:\n",
    "        retrieved_docs = search_detailed_descrption(query_vector, K)\n",
    "        print(f\"Query {qid} Stage 1 retrieved docs: {retrieved_docs}\")\n",
    "    except Exception as e:\n",
    "        print(f\"Error retrieving documents for query {qid}: {e}\")\n",
    "        continue\n",
    "\n",
    "    # Stage 2: Re-rank candidates using the cross-encoder\n",
    "    try:\n",
    "        re_ranked_docs = cross_encoder_rerank(query_text, retrieved_docs)\n",
    "    except Exception as e:\n",
    "        print(f\"Error in cross encoder re-ranking for query {qid}: {e}\")\n",
    "        re_ranked_docs = retrieved_docs\n",
    "\n",
    "    total_time = time.time() - start_time\n",
    "    \n",
    "    # Evaluate using filtered qrels (ensure your evaluation functions are correct)\n",
    "    relevant = filtered_qrels.get(qid, {})\n",
    "    ndcg_relevant = ndcg_qrels.get(qid, {})\n",
    "    p10 = precision_at_k(re_ranked_docs, relevant, top_k)\n",
    "    r10 = recall_at_k(re_ranked_docs, relevant, top_k)\n",
    "    f1 = f1_at_k(re_ranked_docs, relevant, top_k)\n",
    "    ap = average_precision(re_ranked_docs, relevant)\n",
    "    ndcg = ndcg_at_k(re_ranked_docs, ndcg_relevant, top_k)\n",
    "    mrr_val = mrr_at_k(re_ranked_docs, relevant, top_k)\n",
    "\n",
    "    all_metrics.append({\n",
    "        \"query_id\": qid, \n",
    "        \"precision\": p10, \n",
    "        \"recall\": r10, \n",
    "        \"f1\": f1, \n",
    "        \"ap\": ap, \n",
    "        \"ndcg\": ndcg,\n",
    "        \"mrr\": mrr_val,\n",
    "        \"time_seconds\": total_time\n",
    "    })\n",
    "    print(f\"  Query {qid} stage 2 retrieved (after cross-encoder re-ranking): {re_ranked_docs}\")\n",
    "    print(f\"   Query {qid} metrics: Precision@{top_k}: {p10:.4f}, Recall@{top_k}: {r10:.4f}, F1@{top_k}: {f1:.4f}, AP: {ap:.4f}, nDCG@{top_k}: {ndcg:.4f}, MRR@{top_k}={mrr_val:.4f}\")\n",
    "    print(f\"    Total time for query: {total_time:.2f} seconds\")\n",
    "    \n",
    "if all_metrics:\n",
    "    avg_precision = np.mean([m[\"precision\"] for m in all_metrics])\n",
    "    avg_recall = np.mean([m[\"recall\"] for m in all_metrics])\n",
    "    avg_f1 = np.mean([m[\"f1\"] for m in all_metrics])\n",
    "    avg_ap = np.mean([m[\"ap\"] for m in all_metrics])\n",
    "    avg_ndcg = np.mean([m[\"ndcg\"] for m in all_metrics])\n",
    "    avg_mrr = np.mean([m[\"mrr\"] for m in all_metrics])\n",
    "    avg_time = np.mean([m[\"time_seconds\"] for m in all_metrics])\n",
    "\n",
    "    current_time = datetime.now().strftime(\"%Y-%m-%d %H:%M:%S\")\n",
    "    print(f\"Date/time:{current_time}\")\n",
    "    print(\"\\nBi-encoder and cross-encoder - Overall evaluation metrics:\")\n",
    "    print(f\"Relevance Threshold: {RELEVANCE_THRESHOLD}\")\n",
    "    print(\"Mean Precision@{}: {:.4f}\".format(top_k, avg_precision))\n",
    "    print(\"Mean Recall@{}: {:.4f}\".format(top_k, avg_recall))\n",
    "    print(\"Mean F1@{}: {:.4f}\".format(top_k, avg_f1))\n",
    "    print(\"Mean Average Precision (MAP): {:.4f}\".format(avg_ap))\n",
    "    print(\"Mean nDCG@{}: {:.4f}\".format(top_k, avg_ndcg))\n",
    "    print(f\"Mean MRR{top_k}: {avg_mrr:.4f}\")\n",
    "    print(f\"Average total time per query: {avg_time:.2f} seconds\")\n",
    "else:\n",
    "    print(\"No query metrics to average.\")\n",
    "\n",
    "# export the computed results for all each query\n",
    "df = pd.DataFrame(all_metrics)\n",
    "df = df[[\n",
    "    \"query_id\",\n",
    "    \"precision\",\n",
    "    \"recall\",\n",
    "    \"f1\",\n",
    "    \"ap\",\n",
    "    \"ndcg\",\n",
    "    \"mrr\",\n",
    "    \"time_seconds\"\n",
    "]]\n",
    "# Export to Excel\n",
    "output_file = \"sentence_embedding_bi_and_Cross-encoding_metrics_output.xlsx\"\n",
    "df.to_excel(output_file, index=False)\n",
    "print(f\"Metrics successfully exported to {output_file}\")\n",
    "\n",
    "# Export final computed results\n",
    "data = {\n",
    "    \"Test\": \"Bi-encoder + Cross-encoder\",\n",
    "    \"Date/Time\": [current_time],\n",
    "    \"Relevance Threshold\": [RELEVANCE_THRESHOLD],\n",
    "    f\"Mean Precision@{top_k}\": [avg_precision],\n",
    "    f\"Mean Recall@{top_k}\": [avg_recall],\n",
    "    f\"Mean F1@{top_k}\": [avg_f1],\n",
    "    \"Mean Average Precision (MAP)\": [avg_ap],\n",
    "    f\"Mean nDCG@{top_k}\": [avg_ndcg],\n",
    "    f\"Mean MRR@{top_k}\": [avg_mrr],\n",
    "    \"Avg Time per Query (s)\": [avg_time],\n",
    "}\n",
    "df = pd.DataFrame(data)\n",
    "\n",
    "# Export to an Excel file\n",
    "xlsx_filename = \"evaluation_results_sentence_embeddings_bi_and_Cross-encoding.xlsx\"\n",
    "df.to_excel(xlsx_filename, index=False)\n",
    "\n",
    "print(f\"\\nMetrics have been exported to {xlsx_filename}\")"
   ]
  },
  {
   "cell_type": "markdown",
   "metadata": {},
   "source": [
    "### Bi-encoder and cross-encoder (with Cohere)"
   ]
  },
  {
   "cell_type": "code",
   "execution_count": null,
   "metadata": {},
   "outputs": [],
   "source": [
    "\"\"\"\n",
    "Zuveir Jameer\n",
    "8 April 2025\n",
    "Retrieval based on sentence embedding (bi-encoder) and cohere cross-encoder (re-ranker)\n",
    "\"\"\"\n",
    "import json\n",
    "import numpy as np\n",
    "from elasticsearch import Elasticsearch\n",
    "from tqdm import tqdm\n",
    "import torch\n",
    "from datetime import datetime\n",
    "import pandas as pd\n",
    "import time\n",
    "\n",
    "# Cohere library\n",
    "import cohere\n",
    "\n",
    "# Initialize Cohere client NOte: this has been disabled because of cost. Please create your own Cohere account with the payment details.\n",
    "co = cohere.Client(\"AWtc72wWmPFFgrQ4bUbXqhXmqmNd4tYJr0XLZVlf\")\n",
    "\n",
    "# Data Loading\n",
    "def load_jsonl(filename):\n",
    "    with open(filename, \"r\") as f:\n",
    "        return [json.loads(line) for line in f]\n",
    "\n",
    "queries = load_jsonl(\"trec_ct_2021_query.jsonl\")\n",
    "qrels_list = load_jsonl(\"trec_ct_2021_qrels.jsonl\")\n",
    "\n",
    "# Create a dictionary mapping query_id to {doc_id: relevance}\n",
    "qrels = {}\n",
    "for q in qrels_list:\n",
    "    qid = q[\"query_id\"]\n",
    "    if qid not in qrels:\n",
    "        qrels[qid] = {}\n",
    "    relevance = int(q.get(\"relevance\", 0))\n",
    "    qrels[qid][q[\"doc_id\"]] = relevance\n",
    "\n",
    "print(f\"Loaded {len(queries)} queries\")\n",
    "print(f\"Loaded qrels for {len(qrels)} queries\")\n",
    "\n",
    "#filter qrels by a relevance threshold\n",
    "RELEVANCE_THRESHOLD = 2\n",
    "filtered_qrels = {\n",
    "    qid: {doc: rel for doc, rel in rels.items() if rel >= RELEVANCE_THRESHOLD}\n",
    "    for qid, rels in qrels.items()\n",
    "}\n",
    "\n",
    "# No relevance threshold for ndcg\n",
    "ndcg_qrels = {\n",
    "    qid: {doc: rel for doc, rel in rels.items()}\n",
    "    for qid, rels in qrels.items()\n",
    "}\n",
    "\n",
    "#Evaluation Metric Functions\n",
    "def precision_at_k(re_ranked_docs, relevant_docs, k):\n",
    "    top_k_docs = re_ranked_docs[:k]\n",
    "    num_relevant_in_k = sum(1 for doc in top_k_docs \n",
    "                            if doc in relevant_docs and relevant_docs[doc] > 0)\n",
    "    return num_relevant_in_k / k if k else 0.0\n",
    "\n",
    "def recall_at_k(re_ranked_docs, relevant_docs, k):\n",
    "    top_k_docs = re_ranked_docs[:k]\n",
    "    total_relevant = sum(1 for doc, rel in relevant_docs.items() if rel > 0)\n",
    "    if total_relevant == 0:\n",
    "        return 0.0\n",
    "    num_relevant_in_k = sum(1 for doc in top_k_docs \n",
    "                            if doc in relevant_docs and relevant_docs[doc] > 0)\n",
    "    return num_relevant_in_k / total_relevant\n",
    "\n",
    "def f1_at_k(re_ranked_docs, relevant_docs, k):\n",
    "    p = precision_at_k(re_ranked_docs, relevant_docs, k)\n",
    "    r = recall_at_k(re_ranked_docs, relevant_docs, k)\n",
    "    if (p + r) == 0:\n",
    "        return 0.0\n",
    "    return 2 * (p * r) / (p + r)\n",
    "\n",
    "def average_precision(re_ranked_docs, relevant_docs):\n",
    "    if not relevant_docs:\n",
    "        return 0.0\n",
    "    \n",
    "    relevant_indices = [\n",
    "        i for i, doc in enumerate(re_ranked_docs)\n",
    "        if doc in relevant_docs and relevant_docs[doc] > 0\n",
    "    ]\n",
    "    if not relevant_indices:\n",
    "        return 0.0\n",
    "    \n",
    "    ap_sum = 0.0\n",
    "    for idx, rank_pos in enumerate(relevant_indices, start=1):\n",
    "        prec = precision_at_k(re_ranked_docs, relevant_docs, rank_pos+1)\n",
    "        ap_sum += prec\n",
    "    return ap_sum / len(relevant_indices)\n",
    "\n",
    "def ndcg_at_k(re_ranked_docs, relevant_docs, k):\n",
    "    def dcg(scores):\n",
    "        return sum(( (2**s - 1) / np.log2(idx + 2)) for idx, s in enumerate(scores))\n",
    "    \n",
    "    top_k_docs = re_ranked_docs[:k]\n",
    "    actual_scores = [relevant_docs[doc] if doc in relevant_docs else 0 for doc in top_k_docs]\n",
    "    actual_dcg = dcg(actual_scores)\n",
    "    \n",
    "    sorted_rels = sorted(relevant_docs.values(), reverse=True)[:k]\n",
    "    ideal_dcg = dcg(sorted_rels)\n",
    "    \n",
    "    if ideal_dcg == 0:\n",
    "        return 0.0\n",
    "    return actual_dcg / ideal_dcg\n",
    "\n",
    "def mrr_at_k(re_ranked_docs, relevant_docs, k):\n",
    "    for i, doc_id in enumerate(re_ranked_docs[:k], start=1):\n",
    "        if doc_id in relevant_docs and relevant_docs[doc_id] > 0:\n",
    "            return 1.0 / i\n",
    "    return 0.0\n",
    "\n",
    "def search_detailed_descrption(query_vector, K=100):\n",
    "    \"\"\"\n",
    "    Retrieve candidate documents using dense vector search with cosine similarity.\n",
    "    Each document in ES has a pre-computed vector \n",
    "    in the field 'detailed_descrption_vector_1'.\n",
    "    \"\"\"\n",
    "    search_body = {\n",
    "      \"query\": {\n",
    "        \"script_score\": {\n",
    "          \"query\": {\n",
    "            \"bool\": {\n",
    "              \"must\": [\n",
    "                {\"match_all\": {}},\n",
    "                {\"exists\": {\"field\": \"detailed_descrption_vector_1\"}}\n",
    "              ]\n",
    "            }\n",
    "          },\n",
    "          \"script\": {\n",
    "            \"source\": \"cosineSimilarity(params.query_vector, 'detailed_descrption_vector_1') + 1.0\",\n",
    "            \"params\": {\"query_vector\": query_vector}\n",
    "          }\n",
    "        }\n",
    "      }\n",
    "    }\n",
    "    response = es.search(index=\"ir_dev_sentence_index\", body=search_body, size=K)\n",
    "    return [hit[\"_source\"][\"doc_id\"] for hit in response['hits']['hits']]\n",
    "\n",
    "def get_document_text(doc_id):\n",
    "    \"\"\"\n",
    "    Retrieve the detailed description for a document given its ID.\n",
    "    Make sure the field name matches your index mapping.\n",
    "    \"\"\"\n",
    "    query = {\n",
    "        \"query\": {\n",
    "            \"term\": {\"doc_id.keyword\": doc_id}\n",
    "        }\n",
    "    }\n",
    "    response = es.search(index=\"ir_dev_sentence_index\", body=query, size=1)\n",
    "    hits = response.get(\"hits\", {}).get(\"hits\", [])\n",
    "    if hits:\n",
    "        doc_text = hits[0][\"_source\"].get(\"detailed_descrption\", \"\").strip()\n",
    "        return doc_text if doc_text else None\n",
    "    else:\n",
    "        return None\n",
    "\n",
    "\n",
    "# Cohere Re-Ranking (Stage 2)\n",
    "def cohere_rerank(query_text, candidate_doc_ids, top_k=None):\n",
    "    \"\"\"\n",
    "    Re-rank candidate documents using Cohere's Rerank API.\n",
    "    \"\"\"\n",
    "    docs = []\n",
    "    valid_doc_ids = []\n",
    "\n",
    "    # Collect text for each candidate doc\n",
    "    for doc_id in candidate_doc_ids:\n",
    "        doc_text = get_document_text(doc_id)\n",
    "        if doc_text and doc_text.strip():\n",
    "            docs.append(doc_text)\n",
    "            valid_doc_ids.append(doc_id)\n",
    "\n",
    "    # If no valid docs, just return the original list\n",
    "    if not docs:\n",
    "        return candidate_doc_ids\n",
    "\n",
    "    # Call Cohere's rerank endpoint\n",
    "    response = co.rerank(\n",
    "        query=query_text,\n",
    "        documents=docs,\n",
    "        top_n=len(docs)\n",
    "    )\n",
    "    \n",
    "    # response is a RerankResponse object containing a .results list\n",
    "    results = response.results  # This is a list of Reranking objects\n",
    "\n",
    "    #To limit the final results to top_k, slice the results list\n",
    "    reranked = results[:top_k] if top_k else results\n",
    "\n",
    "    # Each item in reranked has .index, .relevance_score, .document\n",
    "    # Map each item's index back to your valid_doc_ids\n",
    "    reranked_ids = [valid_doc_ids[item.index] for item in reranked]\n",
    "    return reranked_ids\n",
    "\n",
    "\n",
    "# Main Evaluation Loop\n",
    "\n",
    "K = 20             # Number of candidates from dense retrieval\n",
    "rerank_top_k = 10  # Number of top candidates to return after re-ranking\n",
    "query_metrics = []\n",
    "\n",
    "print(\"Processing queries and retrieving documents...\")\n",
    "for query in tqdm(queries, total=len(queries)):\n",
    "    qid = query[\"query_id\"]\n",
    "    query_text = query[\"text\"]\n",
    "    if not query_text.strip():\n",
    "        print(f\"Query {qid} is empty, skipping.\")\n",
    "        continue\n",
    "\n",
    "    #Track total time\n",
    "    start_time = time.time()\n",
    "\n",
    "    # Stage 1: Dense Retrieval with Elasticsearch\n",
    "    query_vector = get_embedding(query_text) \n",
    "    try:\n",
    "        retrieved_docs = search_detailed_descrption(query_vector, K)\n",
    "        print(f\"Query {qid} Stage 1 retrieved docs: {retrieved_docs}\")\n",
    "    except Exception as e:\n",
    "        print(f\"Error retrieving docs for query {qid}: {e}\")\n",
    "        continue\n",
    "\n",
    "    # Stage 2: Re-rank with Cohere\n",
    "    try:\n",
    "        re_ranked_docs = cohere_rerank(query_text, retrieved_docs, top_k=rerank_top_k)\n",
    "    except Exception as e:\n",
    "        print(f\"Error in Cohere re-ranking for query {qid}: {e}\")\n",
    "        re_ranked_docs = retrieved_docs\n",
    "\n",
    "    # Mark the end time for entire query processing\n",
    "    total_time = time.time() - start_time\n",
    "\n",
    "    # Evaluate with qrels\n",
    "    relevant = filtered_qrels.get(qid, {})\n",
    "    ndcg_relevant = ndcg_qrels.get(qid, {})\n",
    "    p_val = precision_at_k(re_ranked_docs, relevant, rerank_top_k)\n",
    "    r_val = recall_at_k(re_ranked_docs, relevant, rerank_top_k)\n",
    "    f_val = f1_at_k(re_ranked_docs, relevant, rerank_top_k)\n",
    "    ap_val = average_precision(re_ranked_docs, relevant)\n",
    "    ndcg_val = ndcg_at_k(re_ranked_docs, ndcg_relevant, rerank_top_k)\n",
    "    mrr_val = mrr_at_k(re_ranked_docs, relevant, rerank_top_k)\n",
    "    \n",
    "\n",
    "    query_metrics.append({\n",
    "        \"query_id\": qid,\n",
    "        \"precision\": p_val,\n",
    "        \"recall\": r_val,\n",
    "        \"f1\": f_val,\n",
    "        \"ap\": ap_val,\n",
    "        \"ndcg\": ndcg_val,\n",
    "        \"mrr\": mrr_val,\n",
    "        \"time_seconds\": total_time\n",
    "    })\n",
    "\n",
    "    # all_metrics.append(metrics)\n",
    "    print(f\"  Query {qid} stage 2 retrieved (after cross-encoder re-ranking): {re_ranked_docs}\")\n",
    "    print(f\"   Query {qid}: Precision@{rerank_top_k}: {p_val:.4f}, Recall@{rerank_top_k}: {r_val:.4f}, F1@{rerank_top_k}: {f_val:.4f}, AP: {ap_val:.4f}, nDCG@{rerank_top_k}: {ndcg_val:.4f}, mrr@{rerank_top_k}: {mrr_val:.4f}\")\n",
    "    print(f\"    Total time for query: {total_time:.2f} seconds\")\n",
    "\n",
    "\n",
    "# Aggregate and print results\n",
    "if query_metrics:\n",
    "    avg_precision = np.mean([m[\"precision\"] for m in query_metrics])\n",
    "    avg_recall    = np.mean([m[\"recall\"] for m in query_metrics])\n",
    "    avg_f1        = np.mean([m[\"f1\"] for m in query_metrics])\n",
    "    avg_ap        = np.mean([m[\"ap\"] for m in query_metrics])\n",
    "    avg_ndcg      = np.mean([m[\"ndcg\"] for m in query_metrics])\n",
    "    avg_mrr       = np.mean([m[\"mrr\"] for m in query_metrics])\n",
    "    avg_time      = np.mean([m[\"time_seconds\"] for m in query_metrics])\n",
    "\n",
    "    print(\"\\nOverall evaluation metrics:\")\n",
    "    current_time = datetime.now().strftime(\"%Y-%m-%d %H:%M:%S\")\n",
    "    print(f\"Date/time:{current_time}\")\n",
    "    print(f\"Relevance Threshold: {RELEVANCE_THRESHOLD}\")\n",
    "    print(f\"Mean Precision@{rerank_top_k}: {avg_precision:.4f}\")\n",
    "    print(f\"Mean Recall@{rerank_top_k}: {avg_recall:.4f}\")\n",
    "    print(f\"Mean F1@{rerank_top_k}: {avg_f1:.4f}\")\n",
    "    print(f\"Mean Average Precision (MAP): {avg_ap:.4f}\")\n",
    "    print(f\"Mean nDCG@{rerank_top_k}: {avg_ndcg:.4f}\")\n",
    "    print(f\"Mean MRR@{rerank_top_k}: {avg_mrr:.4f}\")\n",
    "    print(f\"Average total time per query: {avg_time:.2f} seconds\")\n",
    "    \n",
    "else:\n",
    "    print(\"No query metrics to average.\")\n",
    "\n",
    "# export the computed results for all each query\n",
    "df = pd.DataFrame(query_metrics)\n",
    "df = df[[\n",
    "    \"query_id\",\n",
    "    \"precision\",\n",
    "    \"recall\",\n",
    "    \"f1\",\n",
    "    \"ap\",\n",
    "    \"ndcg\",\n",
    "    \"mrr\",\n",
    "    \"time_seconds\"\n",
    "]]\n",
    "# Export to Excel\n",
    "output_file = \"sentence_embedding_bi_and_cohere_Cross-encoding_metrics_output.xlsx\"\n",
    "df.to_excel(output_file, index=False)\n",
    "print(f\"Metrics successfully exported to {output_file}\")\n",
    "\n",
    "# Export final computed results\n",
    "data = {\n",
    "    \"Test\": \"Bi-encoder + COHERE cross-encoder\",\n",
    "    \"Date/Time\": [current_time],\n",
    "    \"Relevance Threshold\": [RELEVANCE_THRESHOLD],\n",
    "    f\"Mean Precision@{rerank_top_k}\": [avg_precision],\n",
    "    f\"Mean Recall@{rerank_top_k}\": [avg_recall],\n",
    "    f\"Mean F1@{rerank_top_k}\": [avg_f1],\n",
    "    \"Mean Average Precision (MAP)\": [avg_ap],\n",
    "    f\"Mean nDCG@{rerank_top_k}\": [avg_ndcg],\n",
    "    f\"Mean MRR@{rerank_top_k}\": [avg_mrr],\n",
    "    \"Avg Time per Query (s)\": [avg_time],\n",
    "}\n",
    "df = pd.DataFrame(data)\n",
    "\n",
    "# Export to an Excel file\n",
    "xlsx_filename = \"evaluation_results_COHERE_bi_and_Cross-encoding.xlsx\"\n",
    "df.to_excel(xlsx_filename, index=False)\n",
    "\n",
    "print(f\"\\nMetrics have been exported to {xlsx_filename}\")\n"
   ]
  },
  {
   "cell_type": "markdown",
   "metadata": {},
   "source": [
    "### BM25 and sentence embeddings"
   ]
  },
  {
   "cell_type": "code",
   "execution_count": null,
   "metadata": {},
   "outputs": [
    {
     "name": "stdout",
     "output_type": "stream",
     "text": [
      "Processing queries and computing evaluation metrics...\n"
     ]
    },
    {
     "name": "stderr",
     "output_type": "stream",
     "text": [
      "  0%|          | 0/75 [00:00<?, ?it/s]/var/folders/b3/59dkzgnj0zxdhdx31d2ztm000000gn/T/ipykernel_24553/3261051846.py:104: DeprecationWarning: Received 'size' via a specific parameter in the presence of a 'body' parameter, which is deprecated and will be removed in a future version. Instead, use only 'body' or only specific parameters.\n",
      "  response = es.search(index=\"ir_dev_sentence_index\", body=initial_body, size=candidate_size)\n"
     ]
    },
    {
     "name": "stdout",
     "output_type": "stream",
     "text": [
      "Time taken to retrieve lexical search): 335 ms\n",
      "Query 1 Stage 1 retrieved docs: ['NCT00968240', 'NCT03633552', 'NCT00089427', 'NCT00003176', 'NCT02453360', 'NCT02942264', 'NCT03528642', 'NCT00976313', 'NCT03896568', 'NCT00003775', 'NCT01466686', 'NCT00360828', 'NCT00004017', 'NCT03513679', 'NCT00004204', 'NCT00613093', 'NCT01256554', 'NCT00047879', 'NCT00003537', 'NCT01784393', 'NCT03434262', 'NCT03948386', 'NCT03743740', 'NCT03902262', 'NCT01913782', 'NCT01502241', 'NCT00007982', 'NCT03174782', 'NCT03022578', 'NCT04686630', 'NCT00064363', 'NCT00790231', 'NCT03224104', 'NCT00841555', 'NCT01812460', 'NCT01847235', 'NCT03647631', 'NCT02174770', 'NCT00052624', 'NCT00004080', 'NCT04193995', 'NCT01597791', 'NCT03511053', 'NCT04771936', 'NCT01004874', 'NCT04458753', 'NCT00362570', 'NCT00526812', 'NCT00006263', 'NCT00006080', 'NCT01678365', 'NCT01220362', 'NCT04222777', 'NCT00039364', 'NCT03641443', 'NCT00004259', 'NCT01456377', 'NCT00473408', 'NCT00564135', 'NCT00028795', 'NCT00301418', 'NCT03695848', 'NCT00616005', 'NCT03906448', 'NCT00003470', 'NCT04685213', 'NCT03603405', 'NCT02461095', 'NCT02819479', 'NCT02056756', 'NCT03924232', 'NCT04535765', 'NCT01747993', 'NCT00176462', 'NCT04529369', 'NCT04340934', 'NCT01186237', 'NCT03056144', 'NCT02022644', 'NCT00114309', 'NCT03236961', 'NCT03619200', 'NCT04626063', 'NCT03561207', 'NCT03927339', 'NCT00082017', 'NCT04197934', 'NCT04296942', 'NCT03572855', 'NCT03944005', 'NCT00005081', 'NCT03607292', 'NCT01870310', 'NCT04751149', 'NCT04140916', 'NCT04317937', 'NCT00003466', 'NCT00343083', 'NCT04178980', 'NCT00303849']\n"
     ]
    },
    {
     "name": "stderr",
     "output_type": "stream",
     "text": [
      "/var/folders/b3/59dkzgnj0zxdhdx31d2ztm000000gn/T/ipykernel_24553/3261051846.py:131: DeprecationWarning: Received 'size' via a specific parameter in the presence of a 'body' parameter, which is deprecated and will be removed in a future version. Instead, use only 'body' or only specific parameters.\n",
      "  response = es.search(index=\"ir_dev_sentence_index\", body=vector_query_body, size=top_k)\n",
      "  1%|▏         | 1/75 [00:01<01:32,  1.25s/it]"
     ]
    },
    {
     "name": "stdout",
     "output_type": "stream",
     "text": [
      " Time taken to retrieve semantic search: 122 ms\n",
      "  Query 1: Stage 2 retrieved re-ranked docs ['NCT00003470', 'NCT01502241', 'NCT00003537', 'NCT00004259', 'NCT00003775', 'NCT03906448', 'NCT00028795', 'NCT03633552', 'NCT00841555', 'NCT00473408'] Precision@10: 0.2000, Recall@10: 0.0426, F1@10: 0.0702, AP: 0.8333, nDCG@10: 0.5250, MRR@10=1.0000\n",
      "    Total time for query: 1.25 seconds\n",
      "Time taken to retrieve lexical search): 180 ms\n",
      "Query 2 Stage 1 retrieved docs: ['NCT04300686', 'NCT04299971', 'NCT04242225', 'NCT00412386', 'NCT01575249', 'NCT02624934', 'NCT02146755', 'NCT02806310', 'NCT04281771', 'NCT02713932', 'NCT02395107', 'NCT01050361', 'NCT04344353', 'NCT00535899', 'NCT02241109', 'NCT03633383', 'NCT03474159', 'NCT04078867', 'NCT01837160', 'NCT00294775', 'NCT02071849', 'NCT01589380', 'NCT03628313', 'NCT02792452', 'NCT03549052', 'NCT02910349', 'NCT01845285', 'NCT02370511', 'NCT02628899', 'NCT00005199', 'NCT02060071', 'NCT03442400', 'NCT02316587', 'NCT02830204', 'NCT03953755', 'NCT01679431', 'NCT03863132', 'NCT04722796', 'NCT02149654', 'NCT01736956', 'NCT04385459', 'NCT03585933', 'NCT01458860', 'NCT03280433', 'NCT04414358', 'NCT04312139', 'NCT01172184', 'NCT03719248', 'NCT01969071', 'NCT04627987', 'NCT04645862', 'NCT01579058', 'NCT04217135', 'NCT01715207', 'NCT04126018', 'NCT03385915', 'NCT02917980', 'NCT04831957', 'NCT03618095', 'NCT04083118', 'NCT03308435', 'NCT03495050', 'NCT00434564', 'NCT04816851', 'NCT03603483', 'NCT04473443', 'NCT01621971', 'NCT01202721', 'NCT04663334', 'NCT00173186', 'NCT04310046', 'NCT02283970', 'NCT02174471', 'NCT04156295', 'NCT03503032', 'NCT00976625', 'NCT02010177', 'NCT02833090', 'NCT04600739', 'NCT00767013', 'NCT00590135', 'NCT01252875', 'NCT00934596', 'NCT03360591', 'NCT02726087', 'NCT03921827', 'NCT01832233', 'NCT03440697', 'NCT04817735', 'NCT03902262', 'NCT03867708', 'NCT04267835', 'NCT01630408', 'NCT00598754', 'NCT01732835', 'NCT00629902', 'NCT02924363', 'NCT02670031', 'NCT04584203', 'NCT01157572']\n"
     ]
    },
    {
     "name": "stderr",
     "output_type": "stream",
     "text": [
      "  3%|▎         | 2/75 [00:01<00:59,  1.23it/s]"
     ]
    },
    {
     "name": "stdout",
     "output_type": "stream",
     "text": [
      " Time taken to retrieve semantic search: 58 ms\n",
      "  Query 2: Stage 2 retrieved re-ranked docs ['NCT03628313', 'NCT02395107', 'NCT01157572', 'NCT02010177', 'NCT03863132', 'NCT02792452', 'NCT00590135', 'NCT01575249', 'NCT02316587', 'NCT04344353'] Precision@10: 0.4000, Recall@10: 0.0290, F1@10: 0.0541, AP: 0.5583, nDCG@10: 0.6037, MRR@10=1.0000\n",
      "    Total time for query: 0.50 seconds\n",
      "Time taken to retrieve lexical search): 166 ms\n",
      "Query 3 Stage 1 retrieved docs: ['NCT02546193', 'NCT03422809', 'NCT02088866', 'NCT01859507', 'NCT00182078', 'NCT02099006', 'NCT03264612', 'NCT00799214', 'NCT01624155', 'NCT03336203', 'NCT02109952', 'NCT03888495', 'NCT01311102', 'NCT00878826', 'NCT01309919', 'NCT00857051', 'NCT00434564', 'NCT02753920', 'NCT02411916', 'NCT00953420', 'NCT04568005', 'NCT02249624', 'NCT02982213', 'NCT02492347', 'NCT02948491', 'NCT04798248', 'NCT04471285', 'NCT04614142', 'NCT04701034', 'NCT03252028', 'NCT04329715', 'NCT03529955', 'NCT01254851', 'NCT01118988', 'NCT01775501', 'NCT00881660', 'NCT02069366', 'NCT01599975', 'NCT03477240', 'NCT00330993', 'NCT03647631', 'NCT00667498', 'NCT04027322', 'NCT03280849', 'NCT01891149', 'NCT04359472', 'NCT02903680', 'NCT01907334', 'NCT00194610', 'NCT03940365', 'NCT03980717', 'NCT03995823', 'NCT03007381', 'NCT03851042', 'NCT02700776', 'NCT02414529', 'NCT04801121', 'NCT01604031', 'NCT00086359', 'NCT00564096', 'NCT04559620', 'NCT03008005', 'NCT03338530', 'NCT02067520', 'NCT02379728', 'NCT03025984', 'NCT03141372', 'NCT03704649', 'NCT01893047', 'NCT02847689', 'NCT00682994', 'NCT01804517', 'NCT04331457', 'NCT03572998', 'NCT01819519', 'NCT01566448', 'NCT03212079', 'NCT03379961', 'NCT00252603', 'NCT01109849', 'NCT03958487', 'NCT00046436', 'NCT02434536', 'NCT02776202', 'NCT01979471', 'NCT01803334', 'NCT00572858', 'NCT02714439', 'NCT03109808', 'NCT02447159', 'NCT03395756', 'NCT03665779', 'NCT04138316', 'NCT04193579', 'NCT00498719', 'NCT03026101', 'NCT03906214', 'NCT01944787', 'NCT01872481', 'NCT04348955']\n"
     ]
    },
    {
     "name": "stderr",
     "output_type": "stream",
     "text": [
      "  4%|▍         | 3/75 [00:02<00:46,  1.55it/s]"
     ]
    },
    {
     "name": "stdout",
     "output_type": "stream",
     "text": [
      " Time taken to retrieve semantic search: 50 ms\n",
      "  Query 3: Stage 2 retrieved re-ranked docs ['NCT03995823', 'NCT04331457', 'NCT03026101', 'NCT02249624', 'NCT00878826', 'NCT00572858', 'NCT02903680', 'NCT01804517', 'NCT03252028', 'NCT04138316'] Precision@10: 0.1000, Recall@10: 0.0312, F1@10: 0.0476, AP: 1.0000, nDCG@10: 0.2432, MRR@10=1.0000\n",
      "    Total time for query: 0.45 seconds\n",
      "Time taken to retrieve lexical search): 153 ms\n",
      "Query 4 Stage 1 retrieved docs: ['NCT03252028', 'NCT00530179', 'NCT00392834', 'NCT04112238', 'NCT03049449', 'NCT04160195', 'NCT03902262', 'NCT04567277', 'NCT03263403', 'NCT02659943', 'NCT03759470', 'NCT01092182', 'NCT02064244', 'NCT04643262', 'NCT04542629', 'NCT01050361', 'NCT03183531', 'NCT04062617', 'NCT02673879', 'NCT04331457', 'NCT00313365', 'NCT00417898', 'NCT00373594', 'NCT02232945', 'NCT00135200', 'NCT02426944', 'NCT04569279', 'NCT04267835', 'NCT03334955', 'NCT01840670', 'NCT04373447', 'NCT03620526', 'NCT00463112', 'NCT00810849', 'NCT04140916', 'NCT04300101', 'NCT00224536', 'NCT01856205', 'NCT00290498', 'NCT00501748', 'NCT03602612', 'NCT01239810', 'NCT00145288', 'NCT02502747', 'NCT01384721', 'NCT00523939', 'NCT02255578', 'NCT02632760', 'NCT02035033', 'NCT03754725', 'NCT03065231', 'NCT03647631', 'NCT02225834', 'NCT01266694', 'NCT01784393', 'NCT04062877', 'NCT03241940', 'NCT02340936', 'NCT04661371', 'NCT02487615', 'NCT01819363', 'NCT00321295', 'NCT00164073', 'NCT00949741', 'NCT04321902', 'NCT01560663', 'NCT02936167', 'NCT00613886', 'NCT01767220', 'NCT00000801', 'NCT00948402', 'NCT00774566', 'NCT04364724', 'NCT00439127', 'NCT04641611', 'NCT04161521', 'NCT02215967', 'NCT03098355', 'NCT00885703', 'NCT04368611', 'NCT01575249', 'NCT02645786', 'NCT04700319', 'NCT03829098', 'NCT04267965', 'NCT04472468', 'NCT00669877', 'NCT01560845', 'NCT03171285', 'NCT03357484', 'NCT01577017', 'NCT02068872', 'NCT03414957', 'NCT03927339', 'NCT01376830', 'NCT00314002', 'NCT02377869', 'NCT03219359', 'NCT04741139', 'NCT00040690']\n"
     ]
    },
    {
     "name": "stderr",
     "output_type": "stream",
     "text": [
      "  5%|▌         | 4/75 [00:02<00:40,  1.77it/s]"
     ]
    },
    {
     "name": "stdout",
     "output_type": "stream",
     "text": [
      " Time taken to retrieve semantic search: 44 ms\n",
      "  Query 4: Stage 2 retrieved re-ranked docs ['NCT00392834', 'NCT00040690', 'NCT04112238', 'NCT04472468', 'NCT04062877', 'NCT01092182', 'NCT00949741', 'NCT02673879', 'NCT04300101', 'NCT03902262'] Precision@10: 0.5000, Recall@10: 0.1136, F1@10: 0.1852, AP: 0.5962, nDCG@10: 0.5660, MRR@10=0.5000\n",
      "    Total time for query: 0.44 seconds\n",
      "Time taken to retrieve lexical search): 135 ms\n",
      "Query 5 Stage 1 retrieved docs: ['NCT03477890', 'NCT03921827', 'NCT03721523', 'NCT00321295', 'NCT00126139', 'NCT01252875', 'NCT03381534', 'NCT00011258', 'NCT02398734', 'NCT03920683', 'NCT01257880', 'NCT02018497', 'NCT00307307', 'NCT02775318', 'NCT04825080', 'NCT00497666', 'NCT04005222', 'NCT01050361', 'NCT01384721', 'NCT03425383', 'NCT02062554', 'NCT02084888', 'NCT04140019', 'NCT04555499', 'NCT00624000', 'NCT03142867', 'NCT02225834', 'NCT01575249', 'NCT02364518', 'NCT02382250', 'NCT04300686', 'NCT01264419', 'NCT04150315', 'NCT04299971', 'NCT03344276', 'NCT00439127', 'NCT04388280', 'NCT03902262', 'NCT01056445', 'NCT02931331', 'NCT02476396', 'NCT02898896', 'NCT04738864', 'NCT03394313', 'NCT03786666', 'NCT02800174', 'NCT02318550', 'NCT00497094', 'NCT04267835', 'NCT00417898', 'NCT03464851', 'NCT00949169', 'NCT00535899', 'NCT03840265', 'NCT01591005', 'NCT01832233', 'NCT03583320', 'NCT03011775', 'NCT01969916', 'NCT00737607', 'NCT04741880', 'NCT02802072', 'NCT02563379', 'NCT00145288', 'NCT02522364', 'NCT02498964', 'NCT00592618', 'NCT01458860', 'NCT03955653', 'NCT03131726', 'NCT02035033', 'NCT02538276', 'NCT03228459', 'NCT00042159', 'NCT04290767', 'NCT01272713', 'NCT02961127', 'NCT04424121', 'NCT02334826', 'NCT02884141', 'NCT04530149', 'NCT00422708', 'NCT02487615', 'NCT02624934', 'NCT02645786', 'NCT00873522', 'NCT00916643', 'NCT04373447', 'NCT04193813', 'NCT04575376', 'NCT01969071', 'NCT03647631', 'NCT04679727', 'NCT03407989', 'NCT00772278', 'NCT04326842', 'NCT04698460', 'NCT00825435', 'NCT04062617', 'NCT01053065']\n"
     ]
    },
    {
     "name": "stderr",
     "output_type": "stream",
     "text": [
      "  7%|▋         | 5/75 [00:03<00:35,  1.96it/s]"
     ]
    },
    {
     "name": "stdout",
     "output_type": "stream",
     "text": [
      " Time taken to retrieve semantic search: 28 ms\n",
      "  Query 5: Stage 2 retrieved re-ranked docs ['NCT04825080', 'NCT03344276', 'NCT03721523', 'NCT02961127', 'NCT03840265', 'NCT01252875', 'NCT01591005', 'NCT00949169', 'NCT02775318', 'NCT03464851'] Precision@10: 0.6000, Recall@10: 0.0504, F1@10: 0.0930, AP: 0.8524, nDCG@10: 0.7227, MRR@10=1.0000\n",
      "    Total time for query: 0.41 seconds\n",
      "Time taken to retrieve lexical search): 112 ms\n",
      "Query 6 Stage 1 retrieved docs: ['NCT01630096', 'NCT02200328', 'NCT04614142', 'NCT02134392', 'NCT03880539', 'NCT01678365', 'NCT03937999', 'NCT02112279', 'NCT02265328', 'NCT00439127', 'NCT03902262', 'NCT03937947', 'NCT01944696', 'NCT03338530', 'NCT00873522', 'NCT03252028', 'NCT02707198', 'NCT03647995', 'NCT01346059', 'NCT02545114', 'NCT03529955', 'NCT02473341', 'NCT00311987', 'NCT01472978', 'NCT04558125', 'NCT03857464', 'NCT01958073', 'NCT02733809', 'NCT02258763', 'NCT01415882', 'NCT04661371', 'NCT01428089', 'NCT03629977', 'NCT02861456', 'NCT00261807', 'NCT03074552', 'NCT04715971', 'NCT00086359', 'NCT03141372', 'NCT03268785', 'NCT01991392', 'NCT00177775', 'NCT03555474', 'NCT00978419', 'NCT00273676', 'NCT02391012', 'NCT00324285', 'NCT01868373', 'NCT02488200', 'NCT04530565', 'NCT01966406', 'NCT00799214', 'NCT01808755', 'NCT03791814', 'NCT00127465', 'NCT00592618', 'NCT00434564', 'NCT03451266', 'NCT04545424', 'NCT02405312', 'NCT02546193', 'NCT02776202', 'NCT04464512', 'NCT03952741', 'NCT02411916', 'NCT00494624', 'NCT01113385', 'NCT01227109', 'NCT01334983', 'NCT04030741', 'NCT01784393', 'NCT03727672', 'NCT03666572', 'NCT03166449', 'NCT01410526', 'NCT02746432', 'NCT02903680', 'NCT04121169', 'NCT02615132', 'NCT03261713', 'NCT00351520', 'NCT03935633', 'NCT02498964', 'NCT02067520', 'NCT02291796', 'NCT03632642', 'NCT00182078', 'NCT04794088', 'NCT03908164', 'NCT03665779', 'NCT01566448', 'NCT01997658', 'NCT01118988', 'NCT04798248', 'NCT03763383', 'NCT00146731', 'NCT04321902', 'NCT00254592', 'NCT03565393', 'NCT03410407']\n"
     ]
    },
    {
     "name": "stderr",
     "output_type": "stream",
     "text": [
      "  8%|▊         | 6/75 [00:03<00:32,  2.15it/s]"
     ]
    },
    {
     "name": "stdout",
     "output_type": "stream",
     "text": [
      " Time taken to retrieve semantic search: 26 ms\n",
      "  Query 6: Stage 2 retrieved re-ranked docs ['NCT01346059', 'NCT02200328', 'NCT01227109', 'NCT00177775', 'NCT03880539', 'NCT01868373', 'NCT03937999', 'NCT02112279', 'NCT00273676', 'NCT04121169'] Precision@10: 0.3000, Recall@10: 0.0256, F1@10: 0.0472, AP: 0.5694, nDCG@10: 0.4670, MRR@10=1.0000\n",
      "    Total time for query: 0.37 seconds\n",
      "Time taken to retrieve lexical search): 207 ms\n",
      "Query 7 Stage 1 retrieved docs: ['NCT01722578', 'NCT03547895', 'NCT03513900', 'NCT03641872', 'NCT03513887', 'NCT02457637', 'NCT01701687', 'NCT00466336', 'NCT00587197', 'NCT03837444', 'NCT00312910', 'NCT02086825', 'NCT03633812', 'NCT02377141', 'NCT03144440', 'NCT04711122', 'NCT02156232', 'NCT01287702', 'NCT04044248', 'NCT02377947', 'NCT03200171', 'NCT01931826', 'NCT00164073', 'NCT04622449', 'NCT03748563', 'NCT01943318', 'NCT00464295', 'NCT04082780', 'NCT03269877', 'NCT00911131', 'NCT02265328', 'NCT03436550', 'NCT04244877', 'NCT03778411', 'NCT02256046', 'NCT00960167', 'NCT01356121', 'NCT03142867', 'NCT03612973', 'NCT02473341', 'NCT03241823', 'NCT03796598', 'NCT04790435', 'NCT01882855', 'NCT03791814', 'NCT02334163', 'NCT00164060', 'NCT03987893', 'NCT03023189', 'NCT02066649', 'NCT01747772', 'NCT03155282', 'NCT02508623', 'NCT00502970', 'NCT03910413', 'NCT04736836', 'NCT04155398', 'NCT00189163', 'NCT00466271', 'NCT01846806', 'NCT00149565', 'NCT00586313', 'NCT01500616', 'NCT00826605', 'NCT01890694', 'NCT03322696', 'NCT00873522', 'NCT00281502', 'NCT03989973', 'NCT03965286', 'NCT03461250', 'NCT03090035', 'NCT04436601', 'NCT00706576', 'NCT04035980', 'NCT00188201', 'NCT02733809', 'NCT02734173', 'NCT02597166', 'NCT02022137', 'NCT01118988', 'NCT01784393', 'NCT02019784', 'NCT01213927', 'NCT03372499', 'NCT00361179', 'NCT02024347', 'NCT03296930', 'NCT03336203', 'NCT03832959', 'NCT03283176', 'NCT03585257', 'NCT02361541', 'NCT04675177', 'NCT03702998', 'NCT01592578', 'NCT00845676', 'NCT02446678', 'NCT02275611', 'NCT02605304']\n"
     ]
    },
    {
     "name": "stderr",
     "output_type": "stream",
     "text": [
      "  9%|▉         | 7/75 [00:03<00:31,  2.15it/s]"
     ]
    },
    {
     "name": "stdout",
     "output_type": "stream",
     "text": [
      " Time taken to retrieve semantic search: 24 ms\n",
      "  Query 7: Stage 2 retrieved re-ranked docs ['NCT02377947', 'NCT03513900', 'NCT00281502', 'NCT03987893', 'NCT03513887', 'NCT01882855', 'NCT00587197', 'NCT04736836', 'NCT03023189', 'NCT01931826'] Precision@10: 0.5000, Recall@10: 0.0400, F1@10: 0.0741, AP: 0.6295, nDCG@10: 0.4858, MRR@10=0.5000\n",
      "    Total time for query: 0.47 seconds\n",
      "Time taken to retrieve lexical search): 98 ms\n",
      "Query 8 Stage 1 retrieved docs: ['NCT02069366', 'NCT02088866', 'NCT03902262', 'NCT01775501', 'NCT02414529', 'NCT03336203', 'NCT00953420', 'NCT03264131', 'NCT01601262', 'NCT01722578', 'NCT03521583', 'NCT03008005', 'NCT01961219', 'NCT00723567', 'NCT00194597', 'NCT00682994', 'NCT00478296', 'NCT01604031', 'NCT02109952', 'NCT04568005', 'NCT00504010', 'NCT02156232', 'NCT00367627', 'NCT00667498', 'NCT00686920', 'NCT01907334', 'NCT01599975', 'NCT03763383', 'NCT00593892', 'NCT01882855', 'NCT01118988', 'NCT03876652', 'NCT04316546', 'NCT01599546', 'NCT01700829', 'NCT00663988', 'NCT00042159', 'NCT00058812', 'NCT01800604', 'NCT03547895', 'NCT02474940', 'NCT03585257', 'NCT03200002', 'NCT04236843', 'NCT04027322', 'NCT03001050', 'NCT01952834', 'NCT02024685', 'NCT02016248', 'NCT03773809', 'NCT01109849', 'NCT03420339', 'NCT03357042', 'NCT01760226', 'NCT00395967', 'NCT00120978', 'NCT01110447', 'NCT02543905', 'NCT04567797', 'NCT04659265', 'NCT01781507', 'NCT04056442', 'NCT03796598', 'NCT00498719', 'NCT03677349', 'NCT02047136', 'NCT03987893', 'NCT03327974', 'NCT02498964', 'NCT04510064', 'NCT04825626', 'NCT03279991', 'NCT02442297', 'NCT00254592', 'NCT02616653', 'NCT02012816', 'NCT02609009', 'NCT00434564', 'NCT03781895', 'NCT03213717', 'NCT04317222', 'NCT02358876', 'NCT03477240', 'NCT03124199', 'NCT04436601', 'NCT02598531', 'NCT03987269', 'NCT04315350', 'NCT01856205', 'NCT01047800', 'NCT03907514', 'NCT03338530', 'NCT02132507', 'NCT04703647', 'NCT00426959', 'NCT01345643', 'NCT00422708', 'NCT03212079', 'NCT03109808', 'NCT03149692']\n"
     ]
    },
    {
     "name": "stderr",
     "output_type": "stream",
     "text": [
      " 11%|█         | 8/75 [00:04<00:28,  2.34it/s]"
     ]
    },
    {
     "name": "stdout",
     "output_type": "stream",
     "text": [
      " Time taken to retrieve semantic search: 11 ms\n",
      "  Query 8: Stage 2 retrieved re-ranked docs ['NCT03264131', 'NCT00953420', 'NCT00395967', 'NCT01604031', 'NCT00058812', 'NCT00723567', 'NCT03200002', 'NCT04568005', 'NCT01760226', 'NCT03477240'] Precision@10: 0.0000, Recall@10: 0.0000, F1@10: 0.0000, AP: 0.0000, nDCG@10: 0.0000, MRR@10=0.0000\n",
      "    Total time for query: 0.34 seconds\n",
      "Time taken to retrieve lexical search): 109 ms\n",
      "Query 9 Stage 1 retrieved docs: ['NCT00194870', 'NCT04054453', 'NCT04542629', 'NCT02497443', 'NCT03517423', 'NCT00042159', 'NCT02098759', 'NCT03179891', 'NCT04102254', 'NCT02261753', 'NCT01273129', 'NCT01521754', 'NCT00564096', 'NCT01244724', 'NCT02726919', 'NCT03154307', 'NCT00524134', 'NCT01054599', 'NCT03590197', 'NCT03583957', 'NCT00236860', 'NCT03636958', 'NCT02639325', 'NCT04647825', 'NCT04274179', 'NCT03318237', 'NCT03105700', 'NCT03657056', 'NCT01745952', 'NCT00344877', 'NCT03268824', 'NCT01533649', 'NCT00236873', 'NCT01016743', 'NCT00236847', 'NCT03531008', 'NCT01281956', 'NCT04553354', 'NCT00419874', 'NCT00216567', 'NCT00965575', 'NCT04727892', 'NCT01872481', 'NCT04858841', 'NCT04344626', 'NCT00081432', 'NCT03457961', 'NCT03796520', 'NCT00297349', 'NCT04796597', 'NCT04383522', 'NCT00219479', 'NCT00236730', 'NCT00486239', 'NCT04019054', 'NCT00663988', 'NCT00056576', 'NCT02208050', 'NCT01769092', 'NCT04642105', 'NCT04171934', 'NCT00860145', 'NCT01154712', 'NCT03868293', 'NCT00231556', 'NCT01118988', 'NCT02410889', 'NCT03074279', 'NCT02543905', 'NCT03336203', 'NCT03763383', 'NCT02225795', 'NCT04028596', 'NCT02903680', 'NCT00044252', 'NCT03174782', 'NCT01581801', 'NCT02913742', 'NCT02299115', 'NCT03902262', 'NCT03738072', 'NCT02501941', 'NCT01855178', 'NCT00207935', 'NCT04153175', 'NCT04569279', 'NCT00931619', 'NCT01496612', 'NCT03753542', 'NCT00182078', 'NCT04659265', 'NCT03655366', 'NCT02088866', 'NCT02897622', 'NCT01432821', 'NCT02110433', 'NCT00376766', 'NCT02332447', 'NCT02109952', 'NCT04027322']\n"
     ]
    },
    {
     "name": "stderr",
     "output_type": "stream",
     "text": [
      " 12%|█▏        | 9/75 [00:04<00:26,  2.47it/s]"
     ]
    },
    {
     "name": "stdout",
     "output_type": "stream",
     "text": [
      " Time taken to retrieve semantic search: 19 ms\n",
      "  Query 9: Stage 2 retrieved re-ranked docs ['NCT04153175', 'NCT04542629', 'NCT00056576', 'NCT00236847', 'NCT00236860', 'NCT00236873', 'NCT00236730', 'NCT01769092', 'NCT00207935', 'NCT03179891'] Precision@10: 0.0000, Recall@10: 0.0000, F1@10: 0.0000, AP: 0.0000, nDCG@10: 0.2650, MRR@10=0.0000\n",
      "    Total time for query: 0.35 seconds\n",
      "Time taken to retrieve lexical search): 82 ms\n",
      "Query 10 Stage 1 retrieved docs: ['NCT03529955', 'NCT00296244', 'NCT00429533', 'NCT04056442', 'NCT04439955', 'NCT02546193', 'NCT04232085', 'NCT03336203', 'NCT03141372', 'NCT02897622', 'NCT00953420', 'NCT03422809', 'NCT01485055', 'NCT01773616', 'NCT04464512', 'NCT01804634', 'NCT04816877', 'NCT01944787', 'NCT03296579', 'NCT02776202', 'NCT04614142', 'NCT00113503', 'NCT03237611', 'NCT01309919', 'NCT04063865', 'NCT01325584', 'NCT01371981', 'NCT00318097', 'NCT00263562', 'NCT01604031', 'NCT03025984', 'NCT04329715', 'NCT04258423', 'NCT03472872', 'NCT04822909', 'NCT03783182', 'NCT01453114', 'NCT00397501', 'NCT04701034', 'NCT02498964', 'NCT01118988', 'NCT01113385', 'NCT02340520', 'NCT00006110', 'NCT02414529', 'NCT00827398', 'NCT01932788', 'NCT03007381', 'NCT04027322', 'NCT00182078', 'NCT01047800', 'NCT00799214', 'NCT00195988', 'NCT03948386', 'NCT00273559', 'NCT01730833', 'NCT01288053', 'NCT00878826', 'NCT01177371', 'NCT00792948', 'NCT00868738', 'NCT01386957', 'NCT01417923', 'NCT01008462', 'NCT00392093', 'NCT00282412', 'NCT02109952', 'NCT00434564', 'NCT03828929', 'NCT03261713', 'NCT01853748', 'NCT02047136', 'NCT02069366', 'NCT02903680', 'NCT03670966', 'NCT02753920', 'NCT04533412', 'NCT03509662', 'NCT00262210', 'NCT01723943', 'NCT00187161', 'NCT00413309', 'NCT01021280', 'NCT02088866', 'NCT04798248', 'NCT00433680', 'NCT03338530', 'NCT02492347', 'NCT04530565', 'NCT00464295', 'NCT01775501', 'NCT00857051', 'NCT02056756', 'NCT02522364', 'NCT04402580', 'NCT02379728', 'NCT00172107', 'NCT00086359', 'NCT03655496', 'NCT04219163']\n"
     ]
    },
    {
     "name": "stderr",
     "output_type": "stream",
     "text": [
      " 13%|█▎        | 10/75 [00:04<00:24,  2.62it/s]"
     ]
    },
    {
     "name": "stdout",
     "output_type": "stream",
     "text": [
      " Time taken to retrieve semantic search: 10 ms\n",
      "  Query 10: Stage 2 retrieved re-ranked docs ['NCT00429533', 'NCT04439955', 'NCT03529955', 'NCT00113503', 'NCT03670966', 'NCT01485055', 'NCT00318097', 'NCT04056442', 'NCT04822909', 'NCT00263562'] Precision@10: 0.0000, Recall@10: 0.0000, F1@10: 0.0000, AP: 0.0000, nDCG@10: 0.0000, MRR@10=0.0000\n",
      "    Total time for query: 0.33 seconds\n",
      "Time taken to retrieve lexical search): 146 ms\n",
      "Query 11 Stage 1 retrieved docs: ['NCT02408887', 'NCT00439127', 'NCT03830242', 'NCT02724176', 'NCT03359668', 'NCT01075269', 'NCT04522570', 'NCT03403101', 'NCT02501902', 'NCT00145288', 'NCT00088907', 'NCT00319839', 'NCT02918682', 'NCT01510002', 'NCT01730651', 'NCT04076514', 'NCT00832429', 'NCT04373447', 'NCT04842942', 'NCT00948012', 'NCT03889769', 'NCT04486131', 'NCT03845647', 'NCT00251316', 'NCT03608787', 'NCT04580199', 'NCT01508884', 'NCT04743583', 'NCT04688528', 'NCT01936571', 'NCT02136459', 'NCT01041079', 'NCT02658552', 'NCT03011775', 'NCT02776969', 'NCT03448341', 'NCT04012918', 'NCT02645786', 'NCT01428167', 'NCT04155359', 'NCT00592618', 'NCT03878979', 'NCT00780988', 'NCT00169897', 'NCT04555499', 'NCT03574051', 'NCT03163797', 'NCT03888664', 'NCT01249222', 'NCT04039828', 'NCT03620526', 'NCT04561999', 'NCT03959917', 'NCT04549597', 'NCT03454464', 'NCT02543476', 'NCT03824587', 'NCT01403259', 'NCT04262388', 'NCT00629265', 'NCT00594217', 'NCT03341936', 'NCT00256308', 'NCT00586443', 'NCT02900963', 'NCT01384669', 'NCT03414957', 'NCT02365935', 'NCT00343083', 'NCT00729157', 'NCT04697043', 'NCT00304278', 'NCT04087447', 'NCT03865589', 'NCT01109420', 'NCT02459652', 'NCT01811212', 'NCT02054104', 'NCT00392652', 'NCT03884140', 'NCT02819960', 'NCT01428089', 'NCT03131726', 'NCT00530179', 'NCT02431416', 'NCT04376203', 'NCT04424485', 'NCT01560663', 'NCT00103155', 'NCT04267965', 'NCT00148122', 'NCT03669432', 'NCT00479011', 'NCT02814032', 'NCT03420339', 'NCT03524677', 'NCT02159508', 'NCT01641679', 'NCT02548715', 'NCT00794053']\n"
     ]
    },
    {
     "name": "stderr",
     "output_type": "stream",
     "text": [
      " 15%|█▍        | 11/75 [00:05<00:24,  2.60it/s]"
     ]
    },
    {
     "name": "stdout",
     "output_type": "stream",
     "text": [
      " Time taken to retrieve semantic search: 16 ms\n",
      "  Query 11: Stage 2 retrieved re-ranked docs ['NCT02724176', 'NCT02408887', 'NCT02814032', 'NCT03830242', 'NCT02548715', 'NCT03669432', 'NCT01510002', 'NCT01428167', 'NCT03359668', 'NCT01075269'] Precision@10: 0.0000, Recall@10: 0.0000, F1@10: 0.0000, AP: 0.0000, nDCG@10: 0.3050, MRR@10=0.0000\n",
      "    Total time for query: 0.39 seconds\n",
      "Time taken to retrieve lexical search): 73 ms\n",
      "Query 12 Stage 1 retrieved docs: ['NCT00807040', 'NCT03012178', 'NCT02961647', 'NCT02355418', 'NCT04518709', 'NCT04078867', 'NCT02604745', 'NCT04414358', 'NCT04080362', 'NCT01835054', 'NCT00483236', 'NCT03962023', 'NCT01708265', 'NCT02370511', 'NCT03661398', 'NCT02768402', 'NCT04299334', 'NCT03066050', 'NCT04051411', 'NCT03968601', 'NCT04147884', 'NCT04279678', 'NCT03953755', 'NCT01431222', 'NCT03706833', 'NCT03155373', 'NCT01504880', 'NCT04156295', 'NCT02675244', 'NCT04038879', 'NCT00799565', 'NCT03129737', 'NCT00209274', 'NCT03609931', 'NCT02996552', 'NCT01694251', 'NCT02276547', 'NCT00608140', 'NCT04820764', 'NCT03366649', 'NCT02924363', 'NCT01406353', 'NCT01156441', 'NCT03511716', 'NCT02713932', 'NCT01050361', 'NCT04259411', 'NCT04350372', 'NCT02719912', 'NCT03549052', 'NCT01969071', 'NCT04126018', 'NCT01931956', 'NCT00535899', 'NCT01703806', 'NCT01732835', 'NCT04415138', 'NCT01052428', 'NCT02552771', 'NCT00209339', 'NCT03714412', 'NCT03038204', 'NCT00428103', 'NCT04818502', 'NCT02910349', 'NCT04193813', 'NCT00478296', 'NCT04217135', 'NCT01621971', 'NCT02830204', 'NCT00509080', 'NCT02149654', 'NCT04375332', 'NCT00294775', 'NCT04855110', 'NCT02054221', 'NCT03174782', 'NCT01172184', 'NCT03877731', 'NCT00005199', 'NCT01678144', 'NCT04666480', 'NCT01626079', 'NCT02515539', 'NCT04281771', 'NCT04237636', 'NCT02607527', 'NCT00173186', 'NCT01246947', 'NCT04653428', 'NCT02499419', 'NCT03958773', 'NCT02698150', 'NCT00587899', 'NCT01589380', 'NCT04357119', 'NCT00629902', 'NCT04068740', 'NCT02757573', 'NCT01845285']\n"
     ]
    },
    {
     "name": "stderr",
     "output_type": "stream",
     "text": [
      " 16%|█▌        | 12/75 [00:05<00:22,  2.75it/s]"
     ]
    },
    {
     "name": "stdout",
     "output_type": "stream",
     "text": [
      " Time taken to retrieve semantic search: 12 ms\n",
      "  Query 12: Stage 2 retrieved re-ranked docs ['NCT01678144', 'NCT04820764', 'NCT04350372', 'NCT04259411', 'NCT03012178', 'NCT04080362', 'NCT02719912', 'NCT03511716', 'NCT04156295', 'NCT03958773'] Precision@10: 0.9000, Recall@10: 0.0865, F1@10: 0.1579, AP: 0.8783, nDCG@10: 0.8900, MRR@10=1.0000\n",
      "    Total time for query: 0.31 seconds\n",
      "Time taken to retrieve lexical search): 99 ms\n",
      "Query 13 Stage 1 retrieved docs: ['NCT00530179', 'NCT02591901', 'NCT01771159', 'NCT04070898', 'NCT00037921', 'NCT03987126', 'NCT04575493', 'NCT02944825', 'NCT02384200', 'NCT03163394', 'NCT00873522', 'NCT04529369', 'NCT03187795', 'NCT04359069', 'NCT04767919', 'NCT03447639', 'NCT04340934', 'NCT01733290', 'NCT01263392', 'NCT00767988', 'NCT02189291', 'NCT00145288', 'NCT02829060', 'NCT03846700', 'NCT01041079', 'NCT00252941', 'NCT03506256', 'NCT03063827', 'NCT04495699', 'NCT00318591', 'NCT00711087', 'NCT02748356', 'NCT00497666', 'NCT01800799', 'NCT04331301', 'NCT04147793', 'NCT01507974', 'NCT04420533', 'NCT03992209', 'NCT00371631', 'NCT01657409', 'NCT00378664', 'NCT04155359', 'NCT02246270', 'NCT03266770', 'NCT00439127', 'NCT03888664', 'NCT01808755', 'NCT04789135', 'NCT03339076', 'NCT00479011', 'NCT03108079', 'NCT01249222', 'NCT01494337', 'NCT03142295', 'NCT03619486', 'NCT04726345', 'NCT04333602', 'NCT04373447', 'NCT02524236', 'NCT04766268', 'NCT00592618', 'NCT00321295', 'NCT02961114', 'NCT01359046', 'NCT04268810', 'NCT03533270', 'NCT03869437', 'NCT00554996', 'NCT00149565', 'NCT03912558', 'NCT00976313', 'NCT04600973', 'NCT02667418', 'NCT00633191', 'NCT04514718', 'NCT01508884', 'NCT03049449', 'NCT00164073', 'NCT00804557', 'NCT02918682', 'NCT03462160', 'NCT04161183', 'NCT04858841', 'NCT04209192', 'NCT04760483', 'NCT01927133', 'NCT00458471', 'NCT04039828', 'NCT04087642', 'NCT03498794', 'NCT04077996', 'NCT03558919', 'NCT04815954', 'NCT00790231', 'NCT01533636', 'NCT02035033', 'NCT01832233', 'NCT03131726', 'NCT03195179']\n"
     ]
    },
    {
     "name": "stderr",
     "output_type": "stream",
     "text": [
      " 17%|█▋        | 13/75 [00:05<00:22,  2.79it/s]"
     ]
    },
    {
     "name": "stdout",
     "output_type": "stream",
     "text": [
      " Time taken to retrieve semantic search: 13 ms\n",
      "  Query 13: Stage 2 retrieved re-ranked docs ['NCT00037921', 'NCT02384200', 'NCT04495699', 'NCT00554996', 'NCT01657409', 'NCT01733290', 'NCT02524236', 'NCT00804557', 'NCT02591901', 'NCT02944825'] Precision@10: 0.1000, Recall@10: 0.0185, F1@10: 0.0312, AP: 0.2500, nDCG@10: 0.1232, MRR@10=0.2500\n",
      "    Total time for query: 0.35 seconds\n",
      "Time taken to retrieve lexical search): 105 ms\n",
      "Query 14 Stage 1 retrieved docs: ['NCT04530149', 'NCT02403492', 'NCT02860975', 'NCT04424940', 'NCT01427673', 'NCT00592618', 'NCT03158805', 'NCT01044628', 'NCT00938977', 'NCT00873522', 'NCT01261377', 'NCT02725632', 'NCT00468052', 'NCT01362777', 'NCT02275936', 'NCT03211897', 'NCT04575610', 'NCT03673813', 'NCT02364518', 'NCT02571582', 'NCT04281316', 'NCT00142090', 'NCT01513655', 'NCT00557115', 'NCT03629613', 'NCT02815761', 'NCT04200079', 'NCT03959982', 'NCT00311987', 'NCT02903680', 'NCT03548103', 'NCT02796846', 'NCT04699513', 'NCT03131726', 'NCT04604223', 'NCT01200069', 'NCT02545114', 'NCT03353064', 'NCT03321734', 'NCT01784393', 'NCT00261898', 'NCT04602572', 'NCT03846024', 'NCT00127985', 'NCT01973998', 'NCT01575249', 'NCT03890939', 'NCT00319358', 'NCT02798744', 'NCT04278183', 'NCT02609919', 'NCT00146731', 'NCT03431103', 'NCT02685202', 'NCT01065753', 'NCT03925610', 'NCT04668599', 'NCT04588272', 'NCT03491111', 'NCT01892579', 'NCT02232945', 'NCT00839124', 'NCT01041105', 'NCT03352115', 'NCT04246619', 'NCT04382625', 'NCT02363413', 'NCT00458406', 'NCT02199262', 'NCT00319202', 'NCT02434536', 'NCT02882165', 'NCT00947479', 'NCT03026439', 'NCT03227211', 'NCT04676113', 'NCT01498432', 'NCT01357382', 'NCT04661475', 'NCT02865577', 'NCT03731351', 'NCT02753972', 'NCT02699138', 'NCT00461240', 'NCT01225679', 'NCT00145288', 'NCT04186286', 'NCT04027322', 'NCT03116009', 'NCT00201292', 'NCT00614809', 'NCT00323973', 'NCT02018497', 'NCT04207593', 'NCT01812460', 'NCT01048177', 'NCT01683487', 'NCT02258763', 'NCT03254212', 'NCT04444609']\n"
     ]
    },
    {
     "name": "stderr",
     "output_type": "stream",
     "text": [
      " 19%|█▊        | 14/75 [00:06<00:21,  2.80it/s]"
     ]
    },
    {
     "name": "stdout",
     "output_type": "stream",
     "text": [
      " Time taken to retrieve semantic search: 8 ms\n",
      "  Query 14: Stage 2 retrieved re-ranked docs ['NCT02275936', 'NCT00938977', 'NCT01362777', 'NCT00614809', 'NCT02571582', 'NCT03211897', 'NCT01427673', 'NCT00947479', 'NCT01261377', 'NCT04207593'] Precision@10: 0.2000, Recall@10: 0.0294, F1@10: 0.0513, AP: 0.4167, nDCG@10: 0.3217, MRR@10=0.5000\n",
      "    Total time for query: 0.35 seconds\n",
      "Time taken to retrieve lexical search): 194 ms\n",
      "Query 15 Stage 1 retrieved docs: ['NCT04311385', 'NCT00587132', 'NCT04661371', 'NCT02150486', 'NCT00133835', 'NCT04321902', 'NCT00586313', 'NCT01710254', 'NCT01717599', 'NCT01784393', 'NCT02645786', 'NCT00754806', 'NCT00280514', 'NCT03234296', 'NCT00464295', 'NCT04161521', 'NCT02459041', 'NCT04635007', 'NCT03524677', 'NCT04062617', 'NCT01384721', 'NCT01969071', 'NCT01096927', 'NCT01678365', 'NCT02426944', 'NCT02718586', 'NCT03902262', 'NCT01472978', 'NCT04030741', 'NCT04344353', 'NCT02340845', 'NCT04410549', 'NCT04641611', 'NCT04509492', 'NCT02265328', 'NCT02504749', 'NCT02718092', 'NCT03085004', 'NCT02068677', 'NCT02502747', 'NCT00311987', 'NCT03088098', 'NCT03498794', 'NCT00564135', 'NCT02458118', 'NCT04753255', 'NCT00417898', 'NCT00997516', 'NCT03142867', 'NCT00434564', 'NCT02487277', 'NCT01825408', 'NCT02478892', 'NCT01015378', 'NCT03116256', 'NCT02018497', 'NCT01575249', 'NCT03647631', 'NCT01526590', 'NCT02473341', 'NCT03935100', 'NCT04688463', 'NCT02384200', 'NCT01410526', 'NCT02498964', 'NCT03411629', 'NCT01707225', 'NCT01660711', 'NCT01356641', 'NCT01836926', 'NCT01520675', 'NCT00314002', 'NCT03182296', 'NCT02056756', 'NCT01315548', 'NCT00319358', 'NCT00461240', 'NCT01581801', 'NCT02407080', 'NCT00195923', 'NCT04535765', 'NCT02399800', 'NCT01307722', 'NCT00194974', 'NCT00530179', 'NCT03529955', 'NCT00422708', 'NCT00135603', 'NCT01923077', 'NCT03186742', 'NCT02350400', 'NCT04500405', 'NCT00799214', 'NCT01775501', 'NCT03401710', 'NCT03533322', 'NCT03236961', 'NCT03650543', 'NCT01774162', 'NCT04254224']\n"
     ]
    },
    {
     "name": "stderr",
     "output_type": "stream",
     "text": [
      " 20%|██        | 15/75 [00:06<00:22,  2.63it/s]"
     ]
    },
    {
     "name": "stdout",
     "output_type": "stream",
     "text": [
      " Time taken to retrieve semantic search: 7 ms\n",
      "  Query 15: Stage 2 retrieved re-ranked docs ['NCT02068677', 'NCT01774162', 'NCT00587132', 'NCT03411629', 'NCT02487277', 'NCT01526590', 'NCT02340845', 'NCT02478892', 'NCT01015378', 'NCT00133835'] Precision@10: 0.4000, Recall@10: 0.0280, F1@10: 0.0523, AP: 0.4132, nDCG@10: 0.4180, MRR@10=0.5000\n",
      "    Total time for query: 0.43 seconds\n",
      "Time taken to retrieve lexical search): 92 ms\n",
      "Query 16 Stage 1 retrieved docs: ['NCT04488120', 'NCT02403908', 'NCT01218607', 'NCT01044628', 'NCT02771561', 'NCT01172184', 'NCT01307722', 'NCT02024386', 'NCT04062617', 'NCT00121901', 'NCT03647462', 'NCT00321295', 'NCT01046838', 'NCT03679312', 'NCT00668408', 'NCT03549052', 'NCT04449419', 'NCT01116063', 'NCT03620526', 'NCT00557115', 'NCT01812460', 'NCT01513655', 'NCT02552485', 'NCT03565471', 'NCT00270374', 'NCT01050361', 'NCT03865589', 'NCT02571582', 'NCT01774357', 'NCT02018497', 'NCT00056433', 'NCT03662438', 'NCT00194974', 'NCT01621971', 'NCT04217135', 'NCT04655443', 'NCT00294775', 'NCT00314002', 'NCT01644916', 'NCT00323973', 'NCT03867708', 'NCT00245661', 'NCT00840463', 'NCT03443505', 'NCT02110433', 'NCT00873522', 'NCT02394470', 'NCT01043627', 'NCT01940328', 'NCT03744988', 'NCT03026439', 'NCT01600898', 'NCT00948012', 'NCT04267965', 'NCT02648984', 'NCT02329522', 'NCT04078867', 'NCT01969071', 'NCT00407446', 'NCT03079102', 'NCT02460653', 'NCT01261377', 'NCT04406961', 'NCT00784563', 'NCT02680639', 'NCT03921983', 'NCT00352430', 'NCT01563757', 'NCT04572867', 'NCT00478296', 'NCT04096807', 'NCT04371679', 'NCT00105703', 'NCT02364518', 'NCT01862536', 'NCT04410549', 'NCT00169897', 'NCT01726049', 'NCT00479011', 'NCT04179942', 'NCT04575610', 'NCT04375917', 'NCT04200079', 'NCT02678949', 'NCT04699513', 'NCT02563379', 'NCT04139460', 'NCT00461240', 'NCT04545424', 'NCT03569384', 'NCT00592618', 'NCT03131726', 'NCT04313296', 'NCT04457843', 'NCT03221387', 'NCT01427673', 'NCT00353340', 'NCT02691689', 'NCT03237962', 'NCT02050529']\n"
     ]
    },
    {
     "name": "stderr",
     "output_type": "stream",
     "text": [
      " 21%|██▏       | 16/75 [00:07<00:21,  2.73it/s]"
     ]
    },
    {
     "name": "stdout",
     "output_type": "stream",
     "text": [
      " Time taken to retrieve semantic search: 9 ms\n",
      "  Query 16: Stage 2 retrieved re-ranked docs ['NCT01043627', 'NCT01726049', 'NCT00407446', 'NCT01046838', 'NCT00352430', 'NCT02024386', 'NCT01940328', 'NCT02403908', 'NCT03620526', 'NCT01050361'] Precision@10: 0.4000, Recall@10: 0.0645, F1@10: 0.1111, AP: 0.5583, nDCG@10: 0.5098, MRR@10=1.0000\n",
      "    Total time for query: 0.33 seconds\n",
      "Time taken to retrieve lexical search): 88 ms\n",
      "Query 17 Stage 1 retrieved docs: ['NCT00116961', 'NCT00135200', 'NCT00064337', 'NCT00586014', 'NCT00981708', 'NCT00843310', 'NCT00577668', 'NCT00948922', 'NCT00306813', 'NCT01527032', 'NCT01055301', 'NCT00570180', 'NCT04614142', 'NCT00358020', 'NCT02776202', 'NCT00007995', 'NCT00002630', 'NCT00004088', 'NCT02308280', 'NCT01671826', 'NCT01134484', 'NCT03219359', 'NCT03875495', 'NCT00792142', 'NCT00028886', 'NCT00002548', 'NCT00006184', 'NCT00461747', 'NCT01548573', 'NCT00892346', 'NCT00218855', 'NCT01264315', 'NCT03417284', 'NCT00006890', 'NCT00040937', 'NCT01554852', 'NCT00441168', 'NCT00391157', 'NCT03992170', 'NCT00995059', 'NCT00014508', 'NCT01998971', 'NCT00592618', 'NCT01171430', 'NCT02168101', 'NCT01251172', 'NCT01207765', 'NCT00112827', 'NCT03328936', 'NCT00002810', 'NCT00120263', 'NCT02340936', 'NCT01842308', 'NCT00038233', 'NCT01053949', 'NCT00508209', 'NCT02506959', 'NCT00378534', 'NCT00600353', 'NCT01062230', 'NCT03792620', 'NCT00049673', 'NCT00114101', 'NCT00256776', 'NCT03110822', 'NCT01008462', 'NCT02158052', 'NCT00378755', 'NCT02545907', 'NCT03700450', 'NCT03896737', 'NCT00083564', 'NCT00854139', 'NCT00089167', 'NCT00022607', 'NCT00602641', 'NCT00232934', 'NCT00716066', 'NCT00719849', 'NCT00916058', 'NCT00651937', 'NCT01468311', 'NCT00110058', 'NCT02619812', 'NCT01063179', 'NCT02225795', 'NCT01142232', 'NCT00278512', 'NCT02056756', 'NCT00054158', 'NCT00006251', 'NCT03410407', 'NCT01688466', 'NCT00075608', 'NCT01046006', 'NCT01885689', 'NCT03100877', 'NCT00002878', 'NCT02504359', 'NCT04530565']\n"
     ]
    },
    {
     "name": "stderr",
     "output_type": "stream",
     "text": [
      " 23%|██▎       | 17/75 [00:07<00:20,  2.81it/s]"
     ]
    },
    {
     "name": "stdout",
     "output_type": "stream",
     "text": [
      " Time taken to retrieve semantic search: 10 ms\n",
      "  Query 17: Stage 2 retrieved re-ranked docs ['NCT00981708', 'NCT01548573', 'NCT00038233', 'NCT00006890', 'NCT00256776', 'NCT00049673', 'NCT00040937', 'NCT00120263', 'NCT00064337', 'NCT01134484'] Precision@10: 0.2000, Recall@10: 0.0157, F1@10: 0.0292, AP: 0.2111, nDCG@10: 0.3378, MRR@10=0.2000\n",
      "    Total time for query: 0.33 seconds\n",
      "Time taken to retrieve lexical search): 70 ms\n",
      "Query 18 Stage 1 retrieved docs: ['NCT02189291', 'NCT01186237', 'NCT04529369', 'NCT02591381', 'NCT00169767', 'NCT01733290', 'NCT02634619', 'NCT03061344', 'NCT00564135', 'NCT04070898', 'NCT03339076', 'NCT03141372', 'NCT01597791', 'NCT04087642', 'NCT04835766', 'NCT00252941', 'NCT02006303', 'NCT01011777', 'NCT01494337', 'NCT00872495', 'NCT04595344', 'NCT02944825', 'NCT00422708', 'NCT03150446', 'NCT04307537', 'NCT04715971', 'NCT02717975', 'NCT02687308', 'NCT04143776', 'NCT02551783', 'NCT03063827', 'NCT03335865', 'NCT03213717', 'NCT04514718', 'NCT01263392', 'NCT03373773', 'NCT04147793', 'NCT03533270', 'NCT00804557', 'NCT04340934', 'NCT04555343', 'NCT00169754', 'NCT04452890', 'NCT04363970', 'NCT04209192', 'NCT01083979', 'NCT04755452', 'NCT02912624', 'NCT03991429', 'NCT03428113', 'NCT00309114', 'NCT04373447', 'NCT03358732', 'NCT02941640', 'NCT02428881', 'NCT00554996', 'NCT04359069', 'NCT01800799', 'NCT00434564', 'NCT00839969', 'NCT00628615', 'NCT02753920', 'NCT02446184', 'NCT03846700', 'NCT03163394', 'NCT02016248', 'NCT01771159', 'NCT03835351', 'NCT03498794', 'NCT01722578', 'NCT03447639', 'NCT03558919', 'NCT02748356', 'NCT03174834', 'NCT04161365', 'NCT03314259', 'NCT03632772', 'NCT01991223', 'NCT04413175', 'NCT02193451', 'NCT03424499', 'NCT03912558', 'NCT00042159', 'NCT02553174', 'NCT02936167', 'NCT04071340', 'NCT02524236', 'NCT00663988', 'NCT03694535', 'NCT00270309', 'NCT03673202', 'NCT02660190', 'NCT04217135', 'NCT03713411', 'NCT00381108', 'NCT04234165', 'NCT03503175', 'NCT04815954', 'NCT02731417', 'NCT02891460']\n"
     ]
    },
    {
     "name": "stderr",
     "output_type": "stream",
     "text": [
      " 24%|██▍       | 18/75 [00:07<00:19,  2.93it/s]"
     ]
    },
    {
     "name": "stdout",
     "output_type": "stream",
     "text": [
      " Time taken to retrieve semantic search: 8 ms\n",
      "  Query 18: Stage 2 retrieved re-ranked docs ['NCT00804557', 'NCT01494337', 'NCT01186237', 'NCT00839969', 'NCT04529369', 'NCT04363970', 'NCT03339076', 'NCT04307537', 'NCT02591381', 'NCT03428113'] Precision@10: 0.1000, Recall@10: 0.0714, F1@10: 0.0833, AP: 0.1000, nDCG@10: 0.2328, MRR@10=0.1000\n",
      "    Total time for query: 0.31 seconds\n",
      "Time taken to retrieve lexical search): 95 ms\n",
      "Query 19 Stage 1 retrieved docs: ['NCT02683174', 'NCT02786940', 'NCT04765943', 'NCT04530149', 'NCT02498964', 'NCT02301390', 'NCT02522364', 'NCT04856267', 'NCT04124237', 'NCT03876652', 'NCT03903744', 'NCT02018497', 'NCT00005202', 'NCT03974412', 'NCT00382928', 'NCT03720639', 'NCT00434564', 'NCT01509534', 'NCT02780947', 'NCT04575376', 'NCT04140019', 'NCT00000531', 'NCT04691089', 'NCT00733590', 'NCT03992677', 'NCT00925522', 'NCT00487279', 'NCT00919373', 'NCT00825435', 'NCT00295204', 'NCT02318550', 'NCT00120094', 'NCT04694079', 'NCT03388905', 'NCT02826408', 'NCT02647749', 'NCT04521790', 'NCT04449523', 'NCT01767220', 'NCT04609436', 'NCT03531502', 'NCT02249195', 'NCT04246450', 'NCT02347111', 'NCT04706104', 'NCT04659265', 'NCT02886273', 'NCT04139460', 'NCT03171285', 'NCT03421834', 'NCT02830360', 'NCT02050529', 'NCT04747353', 'NCT03360227', 'NCT00338715', 'NCT01384721', 'NCT03779165', 'NCT00323973', 'NCT04264455', 'NCT03174782', 'NCT04193813', 'NCT00187187', 'NCT03583320', 'NCT02454751', 'NCT00127465', 'NCT01868880', 'NCT01394965', 'NCT04755101', 'NCT02926703', 'NCT01062126', 'NCT03628313', 'NCT04281771', 'NCT03509532', 'NCT02775630', 'NCT03477890', 'NCT04632394', 'NCT00321360', 'NCT01581801', 'NCT01382953', 'NCT01463358', 'NCT02316587', 'NCT00374608', 'NCT04092985', 'NCT02189291', 'NCT01710254', 'NCT01600898', 'NCT03415347', 'NCT00314002', 'NCT04655443', 'NCT01492517', 'NCT04132778', 'NCT00274170', 'NCT02434536', 'NCT00706641', 'NCT01075269', 'NCT00590200', 'NCT02110433', 'NCT04020172', 'NCT02585817', 'NCT01774357']\n"
     ]
    },
    {
     "name": "stderr",
     "output_type": "stream",
     "text": [
      " 25%|██▌       | 19/75 [00:08<00:19,  2.94it/s]"
     ]
    },
    {
     "name": "stdout",
     "output_type": "stream",
     "text": [
      " Time taken to retrieve semantic search: 7 ms\n",
      "  Query 19: Stage 2 retrieved re-ranked docs ['NCT02683174', 'NCT00005202', 'NCT03974412', 'NCT01509534', 'NCT02786940', 'NCT01463358', 'NCT04124237', 'NCT03876652', 'NCT00120094', 'NCT03388905'] Precision@10: 0.3000, Recall@10: 0.0261, F1@10: 0.0480, AP: 0.5889, nDCG@10: 0.4295, MRR@10=0.5000\n",
      "    Total time for query: 0.34 seconds\n",
      "Time taken to retrieve lexical search): 60 ms\n",
      "Query 20 Stage 1 retrieved docs: ['NCT03395756', 'NCT03042026', 'NCT01309919', 'NCT03422809', 'NCT04233632', 'NCT01311102', 'NCT03902262', 'NCT00799214', 'NCT04447872', 'NCT01891149', 'NCT01775501', 'NCT01893047', 'NCT04329715', 'NCT00182078', 'NCT00667498', 'NCT03336203', 'NCT03529955', 'NCT02414529', 'NCT02568488', 'NCT01624155', 'NCT01599975', 'NCT03252028', 'NCT00330993', 'NCT00252603', 'NCT03280849', 'NCT02429349', 'NCT04701034', 'NCT00194610', 'NCT02069366', 'NCT03665779', 'NCT04798248', 'NCT04661098', 'NCT00046436', 'NCT04471285', 'NCT00572858', 'NCT03647631', 'NCT03158805', 'NCT02047136', 'NCT00646308', 'NCT02088866', 'NCT03477240', 'NCT01853748', 'NCT04614142', 'NCT01781507', 'NCT01604031', 'NCT01428089', 'NCT01254851', 'NCT03264612', 'NCT02546193', 'NCT00461149', 'NCT02492347', 'NCT02897622', 'NCT03888495', 'NCT03980717', 'NCT04808726', 'NCT04559620', 'NCT00953420', 'NCT02379728', 'NCT04423055', 'NCT01813825', 'NCT01541241', 'NCT03334955', 'NCT04568005', 'NCT03877302', 'NCT04234945', 'NCT04359472', 'NCT01907334', 'NCT01859507', 'NCT00881660', 'NCT04803526', 'NCT01997255', 'NCT00878826', 'NCT00498719', 'NCT02714439', 'NCT00857051', 'NCT01723943', 'NCT03710499', 'NCT03379961', 'NCT00367627', 'NCT02700776', 'NCT02753920', 'NCT02647671', 'NCT00642720', 'NCT01112657', 'NCT02982213', 'NCT02099006', 'NCT03008824', 'NCT00494169', 'NCT04430595', 'NCT03750773', 'NCT03704649', 'NCT00176696', 'NCT03008005', 'NCT02491320', 'NCT02109952', 'NCT00145405', 'NCT01800604', 'NCT03212079', 'NCT02802332', 'NCT00173043']\n"
     ]
    },
    {
     "name": "stderr",
     "output_type": "stream",
     "text": [
      " 27%|██▋       | 20/75 [00:08<00:17,  3.06it/s]"
     ]
    },
    {
     "name": "stdout",
     "output_type": "stream",
     "text": [
      " Time taken to retrieve semantic search: 9 ms\n",
      "  Query 20: Stage 2 retrieved re-ranked docs ['NCT03710499', 'NCT00145405', 'NCT02568488', 'NCT03042026', 'NCT00461149', 'NCT02491320', 'NCT00642720', 'NCT00173043', 'NCT03395756', 'NCT04661098'] Precision@10: 0.3000, Recall@10: 0.0714, F1@10: 0.1154, AP: 0.9167, nDCG@10: 0.4537, MRR@10=1.0000\n",
      "    Total time for query: 0.30 seconds\n",
      "Time taken to retrieve lexical search): 69 ms\n",
      "Query 21 Stage 1 retrieved docs: ['NCT03001050', 'NCT01118988', 'NCT01952834', 'NCT02414529', 'NCT01979471', 'NCT01775501', 'NCT01907334', 'NCT02498964', 'NCT03902262', 'NCT01335763', 'NCT02504749', 'NCT03948386', 'NCT02746432', 'NCT02016248', 'NCT00194597', 'NCT01599546', 'NCT04594954', 'NCT02488200', 'NCT01597232', 'NCT00953420', 'NCT03336203', 'NCT02018497', 'NCT03399474', 'NCT04825626', 'NCT04613973', 'NCT04567797', 'NCT03793595', 'NCT03357042', 'NCT01758549', 'NCT03717051', 'NCT00667498', 'NCT02088866', 'NCT03773809', 'NCT04236843', 'NCT01781507', 'NCT02069366', 'NCT01109849', 'NCT04317937', 'NCT00367627', 'NCT04303052', 'NCT01345643', 'NCT01717599', 'NCT04473872', 'NCT03149692', 'NCT01722578', 'NCT02543905', 'NCT03781895', 'NCT03528382', 'NCT03560180', 'NCT03212079', 'NCT03213717', 'NCT02328040', 'NCT01872481', 'NCT02897622', 'NCT04659265', 'NCT00723567', 'NCT04688463', 'NCT00816218', 'NCT04816877', 'NCT00478296', 'NCT04424940', 'NCT04315350', 'NCT04750044', 'NCT03008005', 'NCT04349241', 'NCT03174782', 'NCT03935633', 'NCT03195907', 'NCT01961219', 'NCT04859127', 'NCT01683487', 'NCT00133835', 'NCT04676113', 'NCT03590626', 'NCT00212043', 'NCT03005561', 'NCT02132507', 'NCT01800604', 'NCT03877302', 'NCT03001739', 'NCT00220753', 'NCT04604223', 'NCT03533322', 'NCT03259880', 'NCT01410526', 'NCT00434564', 'NCT01631591', 'NCT03124199', 'NCT02858102', 'NCT03279991', 'NCT04249882', 'NCT00682994', 'NCT02988999', 'NCT00287456', 'NCT04138316', 'NCT02240407', 'NCT02340520', 'NCT03295162', 'NCT00426959', 'NCT02384200']\n"
     ]
    },
    {
     "name": "stderr",
     "output_type": "stream",
     "text": [
      " 28%|██▊       | 21/75 [00:08<00:17,  3.11it/s]"
     ]
    },
    {
     "name": "stdout",
     "output_type": "stream",
     "text": [
      " Time taken to retrieve semantic search: 9 ms\n",
      "  Query 21: Stage 2 retrieved re-ranked docs ['NCT03259880', 'NCT04750044', 'NCT01758549', 'NCT04816877', 'NCT01717599', 'NCT00133835', 'NCT03533322', 'NCT03902262', 'NCT01410526', 'NCT02988999'] Precision@10: 0.2000, Recall@10: 0.0408, F1@10: 0.0678, AP: 0.7500, nDCG@10: 0.3149, MRR@10=1.0000\n",
      "    Total time for query: 0.31 seconds\n",
      "Time taken to retrieve lexical search): 67 ms\n",
      "Query 22 Stage 1 retrieved docs: ['NCT04688463', 'NCT03902262', 'NCT01678365', 'NCT03591419', 'NCT03826446', 'NCT03791229', 'NCT01260064', 'NCT02712216', 'NCT00997516', 'NCT03792802', 'NCT02156947', 'NCT01096927', 'NCT02497183', 'NCT04693156', 'NCT03234296', 'NCT04368611', 'NCT04618666', 'NCT02731924', 'NCT03236961', 'NCT03902678', 'NCT00133835', 'NCT04373447', 'NCT04030741', 'NCT02487615', 'NCT02380898', 'NCT04271826', 'NCT02625272', 'NCT02513173', 'NCT03754387', 'NCT04437043', 'NCT04329143', 'NCT02789865', 'NCT04806789', 'NCT01715220', 'NCT00135603', 'NCT03675152', 'NCT00422708', 'NCT03570398', 'NCT04637022', 'NCT03017716', 'NCT02472509', 'NCT01015417', 'NCT01717599', 'NCT03845608', 'NCT04440150', 'NCT04836598', 'NCT01803334', 'NCT02297711', 'NCT04635007', 'NCT04024215', 'NCT04856254', 'NCT04661371', 'NCT01724996', 'NCT02350400', 'NCT04475809', 'NCT04127617', 'NCT04308265', 'NCT04206137', 'NCT00754806', 'NCT00462241', 'NCT04229940', 'NCT02941640', 'NCT03948386', 'NCT04249479', 'NCT03174782', 'NCT03045107', 'NCT03563300', 'NCT02504749', 'NCT02687464', 'NCT00886210', 'NCT00504010', 'NCT01118988', 'NCT04321902', 'NCT04555499', 'NCT02469935', 'NCT02516059', 'NCT02810236', 'NCT02012413', 'NCT02110810', 'NCT02155244', 'NCT02533869', 'NCT01954225', 'NCT04359472', 'NCT04519086', 'NCT02607488', 'NCT04856735', 'NCT03543501', 'NCT03026686', 'NCT04435951', 'NCT02498964', 'NCT04776109', 'NCT01311102', 'NCT02712346', 'NCT01339338', 'NCT04461327', 'NCT01417923', 'NCT04803487', 'NCT02018497', 'NCT04530149', 'NCT02439281']\n"
     ]
    },
    {
     "name": "stderr",
     "output_type": "stream",
     "text": [
      " 29%|██▉       | 22/75 [00:09<00:17,  3.08it/s]"
     ]
    },
    {
     "name": "stdout",
     "output_type": "stream",
     "text": [
      " Time taken to retrieve semantic search: 10 ms\n",
      "  Query 22: Stage 2 retrieved re-ranked docs ['NCT03236961', 'NCT03234296', 'NCT04440150', 'NCT00135603', 'NCT03570398', 'NCT03591419', 'NCT03902262', 'NCT04618666', 'NCT01260064', 'NCT02789865'] Precision@10: 0.5000, Recall@10: 0.0704, F1@10: 0.1235, AP: 0.7200, nDCG@10: 0.6716, MRR@10=1.0000\n",
      "    Total time for query: 0.33 seconds\n",
      "Time taken to retrieve lexical search): 78 ms\n",
      "Query 23 Stage 1 retrieved docs: ['NCT03788057', 'NCT01781507', 'NCT01500525', 'NCT01961154', 'NCT00655616', 'NCT00000577', 'NCT00784485', 'NCT00471809', 'NCT02340520', 'NCT00318708', 'NCT00147069', 'NCT02703467', 'NCT01775501', 'NCT00175565', 'NCT03299322', 'NCT02294279', 'NCT01907334', 'NCT00495157', 'NCT00278083', 'NCT02088866', 'NCT00394329', 'NCT01772368', 'NCT02415179', 'NCT00220753', 'NCT04124510', 'NCT04530149', 'NCT01263340', 'NCT01540708', 'NCT02678949', 'NCT00711399', 'NCT00634517', 'NCT03336203', 'NCT01952834', 'NCT00662298', 'NCT01518322', 'NCT00395304', 'NCT00287625', 'NCT03781895', 'NCT00367627', 'NCT04125316', 'NCT04340583', 'NCT03705325', 'NCT00494624', 'NCT04458636', 'NCT04652141', 'NCT00180661', 'NCT02258763', 'NCT03717051', 'NCT03299673', 'NCT00120978', 'NCT01296087', 'NCT00509197', 'NCT01657487', 'NCT00706446', 'NCT03369847', 'NCT00426959', 'NCT01599975', 'NCT04236843', 'NCT02047136', 'NCT00657774', 'NCT03678519', 'NCT03858608', 'NCT03042065', 'NCT03124199', 'NCT03212079', 'NCT04424940', 'NCT03033758', 'NCT00585039', 'NCT04433871', 'NCT01524198', 'NCT03493633', 'NCT01865500', 'NCT00268060', 'NCT00187499', 'NCT02256397', 'NCT00991874', 'NCT00565266', 'NCT02066129', 'NCT04520230', 'NCT02414529', 'NCT03001050', 'NCT00213252', 'NCT04149223', 'NCT02543905', 'NCT04163146', 'NCT01599546', 'NCT02142491', 'NCT01345643', 'NCT00371527', 'NCT04659265', 'NCT02069366', 'NCT01604031', 'NCT02488200', 'NCT00667498', 'NCT03269318', 'NCT02897622', 'NCT04655508', 'NCT00162864', 'NCT04186286', 'NCT01118988']\n"
     ]
    },
    {
     "name": "stderr",
     "output_type": "stream",
     "text": [
      " 31%|███       | 23/75 [00:09<00:16,  3.11it/s]"
     ]
    },
    {
     "name": "stdout",
     "output_type": "stream",
     "text": [
      " Time taken to retrieve semantic search: 7 ms\n",
      "  Query 23: Stage 2 retrieved re-ranked docs ['NCT04520230', 'NCT02415179', 'NCT02340520', 'NCT00278083', 'NCT00509197', 'NCT01657487', 'NCT00147069', 'NCT00657774', 'NCT03788057', 'NCT00662298'] Precision@10: 0.3000, Recall@10: 0.0357, F1@10: 0.0638, AP: 0.2786, nDCG@10: 0.3296, MRR@10=0.2500\n",
      "    Total time for query: 0.31 seconds\n",
      "Time taken to retrieve lexical search): 86 ms\n",
      "Query 24 Stage 1 retrieved docs: ['NCT02524236', 'NCT03784794', 'NCT01249222', 'NCT03902262', 'NCT04119206', 'NCT00381108', 'NCT00972309', 'NCT04529369', 'NCT00827814', 'NCT02428881', 'NCT03846869', 'NCT00439127', 'NCT00138918', 'NCT04490239', 'NCT03283813', 'NCT01657409', 'NCT03976843', 'NCT03183531', 'NCT02746432', 'NCT01048827', 'NCT03891732', 'NCT01800799', 'NCT00596011', 'NCT00455091', 'NCT03503721', 'NCT00002602', 'NCT01661621', 'NCT04297839', 'NCT00625573', 'NCT01732107', 'NCT03163394', 'NCT01354262', 'NCT03665974', 'NCT04715971', 'NCT04364087', 'NCT03154255', 'NCT00195988', 'NCT00426959', 'NCT00325507', 'NCT02283684', 'NCT01428089', 'NCT02869971', 'NCT00974532', 'NCT03063827', 'NCT00615381', 'NCT01969071', 'NCT03846700', 'NCT04736836', 'NCT01524991', 'NCT02802449', 'NCT03213717', 'NCT01324739', 'NCT01252875', 'NCT00373594', 'NCT03238235', 'NCT02138331', 'NCT00522665', 'NCT04232085', 'NCT02006303', 'NCT01475344', 'NCT02056756', 'NCT04237636', 'NCT04699344', 'NCT03099421', 'NCT00479011', 'NCT03384407', 'NCT02623647', 'NCT00030277', 'NCT02780570', 'NCT03334955', 'NCT03814239', 'NCT01604382', 'NCT04100811', 'NCT01530178', 'NCT01332526', 'NCT02328040', 'NCT04410549', 'NCT01146977', 'NCT01385098', 'NCT04340934', 'NCT00292695', 'NCT01048177', 'NCT01243996', 'NCT02868827', 'NCT04360824', 'NCT03200002', 'NCT01733290', 'NCT01457573', 'NCT04267965', 'NCT00353340', 'NCT02327494', 'NCT01707771', 'NCT00724178', 'NCT03396757', 'NCT00030290', 'NCT03805932', 'NCT02225834', 'NCT03828071', 'NCT03648528', 'NCT02250794']\n"
     ]
    },
    {
     "name": "stderr",
     "output_type": "stream",
     "text": [
      " 32%|███▏      | 24/75 [00:09<00:16,  3.06it/s]"
     ]
    },
    {
     "name": "stdout",
     "output_type": "stream",
     "text": [
      " Time taken to retrieve semantic search: 10 ms\n",
      "  Query 24: Stage 2 retrieved re-ranked docs ['NCT01661621', 'NCT00596011', 'NCT00381108', 'NCT02283684', 'NCT02524236', 'NCT00827814', 'NCT04699344', 'NCT03099421', 'NCT01732107', 'NCT02006303'] Precision@10: 0.3000, Recall@10: 0.0270, F1@10: 0.0496, AP: 0.6333, nDCG@10: 0.4152, MRR@10=1.0000\n",
      "    Total time for query: 0.34 seconds\n",
      "Time taken to retrieve lexical search): 76 ms\n",
      "Query 25 Stage 1 retrieved docs: ['NCT03647631', 'NCT01853748', 'NCT01501487', 'NCT00799214', 'NCT00128362', 'NCT04697043', 'NCT04046159', 'NCT04500262', 'NCT00103181', 'NCT02651844', 'NCT04430595', 'NCT01509963', 'NCT02221999', 'NCT02067052', 'NCT01560663', 'NCT02789163', 'NCT04349527', 'NCT04476485', 'NCT02515110', 'NCT00507611', 'NCT01928589', 'NCT01077154', 'NCT00003830', 'NCT02295033', 'NCT04651257', 'NCT03381092', 'NCT03902262', 'NCT03763383', 'NCT01009437', 'NCT02040493', 'NCT01893047', 'NCT00254592', 'NCT03188393', 'NCT03917082', 'NCT04551495', 'NCT04303715', 'NCT00367627', 'NCT00970983', 'NCT03358017', 'NCT04252859', 'NCT00649337', 'NCT01391806', 'NCT02564848', 'NCT03252028', 'NCT01796444', 'NCT03888495', 'NCT03669705', 'NCT02335957', 'NCT03975855', 'NCT00881361', 'NCT01275677', 'NCT04012918', 'NCT01872975', 'NCT04362462', 'NCT03273348', 'NCT04266249', 'NCT03529955', 'NCT03826446', 'NCT00556777', 'NCT02411916', 'NCT01372618', 'NCT02078531', 'NCT02629133', 'NCT01311102', 'NCT00233974', 'NCT04661098', 'NCT04523454', 'NCT04225858', 'NCT00602108', 'NCT00816530', 'NCT03572998', 'NCT04296942', 'NCT01813825', 'NCT03984695', 'NCT02003209', 'NCT00130533', 'NCT00586313', 'NCT01775501', 'NCT03820830', 'NCT02700776', 'NCT00050167', 'NCT03239041', 'NCT04293796', 'NCT04666961', 'NCT04478669', 'NCT02897700', 'NCT02776202', 'NCT00581529', 'NCT01920139', 'NCT00200174', 'NCT00087178', 'NCT03665779', 'NCT04803526', 'NCT00003519', 'NCT02056886', 'NCT00014612', 'NCT01599975', 'NCT02957747', 'NCT01335490', 'NCT01984866']\n"
     ]
    },
    {
     "name": "stderr",
     "output_type": "stream",
     "text": [
      " 33%|███▎      | 25/75 [00:09<00:16,  3.09it/s]"
     ]
    },
    {
     "name": "stdout",
     "output_type": "stream",
     "text": [
      " Time taken to retrieve semantic search: 7 ms\n",
      "  Query 25: Stage 2 retrieved re-ranked docs ['NCT02897700', 'NCT04697043', 'NCT03188393', 'NCT01501487', 'NCT00881361', 'NCT04293796', 'NCT02564848', 'NCT00103181', 'NCT03669705', 'NCT02700776'] Precision@10: 0.1000, Recall@10: 0.0135, F1@10: 0.0238, AP: 0.1250, nDCG@10: 0.0694, MRR@10=0.1250\n",
      "    Total time for query: 0.31 seconds\n",
      "Time taken to retrieve lexical search): 57 ms\n",
      "Query 26 Stage 1 retrieved docs: ['NCT04688463', 'NCT03902262', 'NCT04030741', 'NCT03591419', 'NCT03883464', 'NCT02472509', 'NCT02731924', 'NCT04329143', 'NCT00504010', 'NCT04635007', 'NCT02498964', 'NCT02050529', 'NCT02504749', 'NCT04308265', 'NCT01311102', 'NCT01717599', 'NCT02308891', 'NCT01715220', 'NCT00182078', 'NCT03336203', 'NCT03647631', 'NCT04693156', 'NCT01096927', 'NCT01015417', 'NCT02150486', 'NCT01946984', 'NCT01678365', 'NCT03851042', 'NCT02156947', 'NCT00330993', 'NCT03533322', 'NCT00462241', 'NCT00133835', 'NCT00799214', 'NCT03529955', 'NCT02380898', 'NCT01100398', 'NCT02088866', 'NCT04461327', 'NCT04675190', 'NCT02067520', 'NCT04161521', 'NCT02155244', 'NCT04661371', 'NCT04530149', 'NCT02099006', 'NCT01893047', 'NCT04856735', 'NCT02897622', 'NCT04373447', 'NCT04346823', 'NCT01268748', 'NCT03007381', 'NCT03158805', 'NCT01309919', 'NCT04368611', 'NCT01800604', 'NCT01775501', 'NCT03995641', 'NCT02474940', 'NCT04806789', 'NCT03845608', 'NCT02513173', 'NCT03869788', 'NCT04321902', 'NCT04027322', 'NCT01803334', 'NCT03665142', 'NCT03477240', 'NCT04329715', 'NCT01599975', 'NCT03877302', 'NCT02712216', 'NCT04656730', 'NCT04368195', 'NCT03826446', 'NCT00422708', 'NCT02546193', 'NCT01472978', 'NCT01566448', 'NCT04573504', 'NCT03422809', 'NCT04555499', 'NCT00754806', 'NCT03750773', 'NCT04471285', 'NCT04785235', 'NCT00586313', 'NCT02350400', 'NCT02803788', 'NCT03704649', 'NCT04316793', 'NCT03379961', 'NCT04127617', 'NCT00274170', 'NCT00367627', 'NCT02538731', 'NCT04435951', 'NCT03727412', 'NCT04559620']\n"
     ]
    },
    {
     "name": "stderr",
     "output_type": "stream",
     "text": [
      " 35%|███▍      | 26/75 [00:10<00:15,  3.20it/s]"
     ]
    },
    {
     "name": "stdout",
     "output_type": "stream",
     "text": [
      " Time taken to retrieve semantic search: 4 ms\n",
      "  Query 26: Stage 2 retrieved re-ranked docs ['NCT01015417', 'NCT04308265', 'NCT02156947', 'NCT02155244', 'NCT04675190', 'NCT02472509', 'NCT03883464', 'NCT04329143', 'NCT03533322', 'NCT04368611'] Precision@10: 0.2000, Recall@10: 0.0230, F1@10: 0.0412, AP: 0.3667, nDCG@10: 0.2415, MRR@10=0.3333\n",
      "    Total time for query: 0.29 seconds\n",
      "Time taken to retrieve lexical search): 101 ms\n",
      "Query 27 Stage 1 retrieved docs: ['NCT00361179', 'NCT01750515', 'NCT01500616', 'NCT03341988', 'NCT02060058', 'NCT03283176', 'NCT04032860', 'NCT00154869', 'NCT03547895', 'NCT00502970', 'NCT00164060', 'NCT02959359', 'NCT03090035', 'NCT03461250', 'NCT03965286', 'NCT00275938', 'NCT00189163', 'NCT00225537', 'NCT03420300', 'NCT00188201', 'NCT00164073', 'NCT03014986', 'NCT01605513', 'NCT00842205', 'NCT04356404', 'NCT00117533', 'NCT02597166', 'NCT01443923', 'NCT03612973', 'NCT03702998', 'NCT00977054', 'NCT02734173', 'NCT03902262', 'NCT04768517', 'NCT03356405', 'NCT01927133', 'NCT00980161', 'NCT00380614', 'NCT02874066', 'NCT03296930', 'NCT00845676', 'NCT02457637', 'NCT03641872', 'NCT01766115', 'NCT00160940', 'NCT04535869', 'NCT00001729', 'NCT03149289', 'NCT02669966', 'NCT02733809', 'NCT02057003', 'NCT02898922', 'NCT00466336', 'NCT03791814', 'NCT03200171', 'NCT03144440', 'NCT02265328', 'NCT03721627', 'NCT01185028', 'NCT01360268', 'NCT00718172', 'NCT01018381', 'NCT03993925', 'NCT02124044', 'NCT02483156', 'NCT03241823', 'NCT01383460', 'NCT00056862', 'NCT03520660', 'NCT00188240', 'NCT04674423', 'NCT00367627', 'NCT03693586', 'NCT03987503', 'NCT03343925', 'NCT03740906', 'NCT03186313', 'NCT03163849', 'NCT02361541', 'NCT00489385', 'NCT03882307', 'NCT00149565', 'NCT00466271', 'NCT01722578', 'NCT04588077', 'NCT04718831', 'NCT01120795', 'NCT01482767', 'NCT00195988', 'NCT01627717', 'NCT02473341', 'NCT01074203', 'NCT03723824', 'NCT02461966', 'NCT01118988', 'NCT00001457', 'NCT03250910', 'NCT04405011', 'NCT03687229', 'NCT01872988']\n"
     ]
    },
    {
     "name": "stderr",
     "output_type": "stream",
     "text": [
      " 36%|███▌      | 27/75 [00:10<00:15,  3.11it/s]"
     ]
    },
    {
     "name": "stdout",
     "output_type": "stream",
     "text": [
      " Time taken to retrieve semantic search: 5 ms\n",
      "  Query 27: Stage 2 retrieved re-ranked docs ['NCT03520660', 'NCT02483156', 'NCT03186313', 'NCT03693586', 'NCT03014986', 'NCT03296930', 'NCT03547895', 'NCT01360268', 'NCT01750515', 'NCT01872988'] Precision@10: 0.3000, Recall@10: 0.0526, F1@10: 0.0896, AP: 0.5556, nDCG@10: 0.4992, MRR@10=1.0000\n",
      "    Total time for query: 0.34 seconds\n",
      "Time taken to retrieve lexical search): 52 ms\n",
      "Query 28 Stage 1 retrieved docs: ['NCT03781895', 'NCT02340520', 'NCT02498964', 'NCT01781507', 'NCT04236843', 'NCT00723567', 'NCT01500525', 'NCT01952834', 'NCT00382447', 'NCT02018497', 'NCT04186286', 'NCT00278083', 'NCT03773809', 'NCT03825757', 'NCT00367627', 'NCT01907334', 'NCT04346823', 'NCT02414529', 'NCT04011930', 'NCT03336203', 'NCT00147069', 'NCT02543905', 'NCT01142531', 'NCT03493633', 'NCT03788057', 'NCT00426959', 'NCT03902262', 'NCT04349241', 'NCT03717051', 'NCT03110614', 'NCT02434536', 'NCT03124199', 'NCT02897622', 'NCT01775501', 'NCT04659265', 'NCT03149692', 'NCT00194597', 'NCT00663988', 'NCT03683069', 'NCT02088866', 'NCT04825626', 'NCT02012816', 'NCT01599546', 'NCT03001050', 'NCT03212079', 'NCT01979471', 'NCT02815761', 'NCT01973998', 'NCT00838851', 'NCT03739957', 'NCT03987269', 'NCT03357042', 'NCT01599975', 'NCT01047800', 'NCT04530149', 'NCT01501942', 'NCT02881814', 'NCT00175565', 'NCT01804634', 'NCT02563379', 'NCT00682994', 'NCT02329522', 'NCT02988869', 'NCT03279991', 'NCT02528370', 'NCT02068872', 'NCT04458636', 'NCT00220753', 'NCT01013948', 'NCT01604031', 'NCT01345643', 'NCT02069366', 'NCT04348877', 'NCT03677349', 'NCT01510041', 'NCT00042159', 'NCT02488200', 'NCT02240407', 'NCT04652141', 'NCT03338530', 'NCT01313650', 'NCT04142957', 'NCT01109849', 'NCT03876652', 'NCT03547596', 'NCT03174782', 'NCT00180661', 'NCT04281771', 'NCT00311714', 'NCT04568005', 'NCT04424940', 'NCT01313637', 'NCT00268060', 'NCT01961154', 'NCT01893918', 'NCT03109808', 'NCT04473872', 'NCT04594954', 'NCT04613973', 'NCT02680639']\n"
     ]
    },
    {
     "name": "stderr",
     "output_type": "stream",
     "text": [
      " 37%|███▋      | 28/75 [00:10<00:14,  3.20it/s]"
     ]
    },
    {
     "name": "stdout",
     "output_type": "stream",
     "text": [
      " Time taken to retrieve semantic search: 9 ms\n",
      "  Query 28: Stage 2 retrieved re-ranked docs ['NCT02340520', 'NCT01142531', 'NCT01893918', 'NCT02434536', 'NCT02329522', 'NCT00147069', 'NCT00175565', 'NCT04011930', 'NCT01510041', 'NCT02815761'] Precision@10: 0.1000, Recall@10: 0.0070, F1@10: 0.0131, AP: 0.2500, nDCG@10: 0.2389, MRR@10=0.2500\n",
      "    Total time for query: 0.29 seconds\n",
      "Time taken to retrieve lexical search): 89 ms\n",
      "Query 29 Stage 1 retrieved docs: ['NCT02746432', 'NCT03001323', 'NCT03526536', 'NCT02250794', 'NCT03349840', 'NCT00789945', 'NCT04834362', 'NCT03336203', 'NCT03520855', 'NCT00287456', 'NCT04385589', 'NCT04315350', 'NCT03970668', 'NCT01335763', 'NCT04604223', 'NCT01792830', 'NCT04665128', 'NCT01269008', 'NCT01640119', 'NCT01722578', 'NCT01969071', 'NCT02999386', 'NCT02113332', 'NCT02414529', 'NCT03283813', 'NCT04736836', 'NCT00849849', 'NCT02488200', 'NCT02377947', 'NCT00667498', 'NCT01992809', 'NCT02936167', 'NCT00582309', 'NCT04594954', 'NCT01707771', 'NCT03066440', 'NCT01270191', 'NCT00319202', 'NCT03781895', 'NCT03154255', 'NCT00353431', 'NCT01604031', 'NCT00461149', 'NCT02659995', 'NCT01979471', 'NCT03650712', 'NCT01775501', 'NCT01378117', 'NCT02088866', 'NCT01580462', 'NCT02498964', 'NCT01713023', 'NCT03902262', 'NCT03548103', 'NCT00506194', 'NCT03590626', 'NCT01610934', 'NCT04783441', 'NCT01110447', 'NCT01832935', 'NCT02156232', 'NCT00816218', 'NCT04236843', 'NCT00133809', 'NCT04119206', 'NCT02438189', 'NCT01952834', 'NCT02714972', 'NCT03107208', 'NCT02360254', 'NCT00201292', 'NCT00893425', 'NCT03987893', 'NCT03001050', 'NCT01195090', 'NCT04585542', 'NCT01033916', 'NCT00268060', 'NCT02605564', 'NCT01530178', 'NCT00564018', 'NCT03112538', 'NCT01599546', 'NCT03713060', 'NCT00367627', 'NCT03876652', 'NCT03732118', 'NCT01781507', 'NCT03773809', 'NCT01157923', 'NCT00694122', 'NCT04079881', 'NCT02328040', 'NCT04383990', 'NCT02988999', 'NCT00911625', 'NCT04659265', 'NCT00394524', 'NCT00590044', 'NCT00456963']\n"
     ]
    },
    {
     "name": "stderr",
     "output_type": "stream",
     "text": [
      " 39%|███▊      | 29/75 [00:11<00:14,  3.11it/s]"
     ]
    },
    {
     "name": "stdout",
     "output_type": "stream",
     "text": [
      " Time taken to retrieve semantic search: 8 ms\n",
      "  Query 29: Stage 2 retrieved re-ranked docs ['NCT00590044', 'NCT03001323', 'NCT00133809', 'NCT03107208', 'NCT00911625', 'NCT01195090', 'NCT04665128', 'NCT00506194', 'NCT01378117', 'NCT03526536'] Precision@10: 0.2000, Recall@10: 0.0278, F1@10: 0.0488, AP: 0.3095, nDCG@10: 0.3578, MRR@10=0.3333\n",
      "    Total time for query: 0.34 seconds\n",
      "Time taken to retrieve lexical search): 53 ms\n",
      "Query 30 Stage 1 retrieved docs: ['NCT00498238', 'NCT03641638', 'NCT04565873', 'NCT03106935', 'NCT00439127', 'NCT04249271', 'NCT04119206', 'NCT04364087', 'NCT03699098', 'NCT04841213', 'NCT02645786', 'NCT03377218', 'NCT00565864', 'NCT03336203', 'NCT02567877', 'NCT04447872', 'NCT01428167', 'NCT01428089', 'NCT00172107', 'NCT04795947', 'NCT03283813', 'NCT00497575', 'NCT01354262', 'NCT03665974', 'NCT01916018', 'NCT04236232', 'NCT03548103', 'NCT01335802', 'NCT04803474', 'NCT00150111', 'NCT00111735', 'NCT01927133', 'NCT00818896', 'NCT01832753', 'NCT02665325', 'NCT01760421', 'NCT00106119', 'NCT02725879', 'NCT02378233', 'NCT03158805', 'NCT02467751', 'NCT04754607', 'NCT01371877', 'NCT03463226', 'NCT02638922', 'NCT02546193', 'NCT00311987', 'NCT00461149', 'NCT01358136', 'NCT00878826', 'NCT02145247', 'NCT02318160', 'NCT03787303', 'NCT02309047', 'NCT02138331', 'NCT00147433', 'NCT03264612', 'NCT01374659', 'NCT04178928', 'NCT02746432', 'NCT02491320', 'NCT03422809', 'NCT01932788', 'NCT00380614', 'NCT02936167', 'NCT02492347', 'NCT03213717', 'NCT02548715', 'NCT02429349', 'NCT04559620', 'NCT03395756', 'NCT01385098', 'NCT01430793', 'NCT03537768', 'NCT00715572', 'NCT03754621', 'NCT03334955', 'NCT04860622', 'NCT00924287', 'NCT03252028', 'NCT03007381', 'NCT00799214', 'NCT00196729', 'NCT03529955', 'NCT01465867', 'NCT00213590', 'NCT02393183', 'NCT03565198', 'NCT03948386', 'NCT03154255', 'NCT01893047', 'NCT01889199', 'NCT02411916', 'NCT02078167', 'NCT03008824', 'NCT02068872', 'NCT04676113', 'NCT03648528', 'NCT03342001', 'NCT02868827']\n"
     ]
    },
    {
     "name": "stderr",
     "output_type": "stream",
     "text": [
      " 40%|████      | 30/75 [00:11<00:14,  3.21it/s]"
     ]
    },
    {
     "name": "stdout",
     "output_type": "stream",
     "text": [
      " Time taken to retrieve semantic search: 6 ms\n",
      "  Query 30: Stage 2 retrieved re-ranked docs ['NCT03106935', 'NCT04249271', 'NCT00715572', 'NCT02725879', 'NCT02567877', 'NCT04754607', 'NCT02645786', 'NCT04236232', 'NCT04795947', 'NCT03641638'] Precision@10: 0.0000, Recall@10: 0.0000, F1@10: 0.0000, AP: 0.0000, nDCG@10: 0.3072, MRR@10=0.0000\n",
      "    Total time for query: 0.29 seconds\n",
      "Time taken to retrieve lexical search): 45 ms\n",
      "Query 31 Stage 1 retrieved docs: ['NCT00799214', 'NCT03118258', 'NCT02714439', 'NCT01825408', 'NCT03837028', 'NCT04798248', 'NCT01029990', 'NCT03477240', 'NCT00933140', 'NCT00443313', 'NCT02328872', 'NCT02546193', 'NCT04671823', 'NCT02957747', 'NCT02776202', 'NCT01299714', 'NCT03478397', 'NCT01624155', 'NCT03324009', 'NCT01309919', 'NCT00182078', 'NCT03984695', 'NCT00046436', 'NCT01599975', 'NCT02629133', 'NCT00001560', 'NCT03345875', 'NCT02700776', 'NCT02363244', 'NCT01723943', 'NCT02477254', 'NCT01775501', 'NCT04701034', 'NCT04568005', 'NCT02651883', 'NCT01311102', 'NCT04233632', 'NCT02066649', 'NCT04298957', 'NCT00001092', 'NCT00367627', 'NCT00278798', 'NCT00252603', 'NCT02346227', 'NCT02099006', 'NCT04523454', 'NCT03239041', 'NCT04679675', 'NCT03109808', 'NCT01550783', 'NCT00878826', 'NCT01853748', 'NCT01079546', 'NCT03195218', 'NCT03422809', 'NCT01891149', 'NCT03813576', 'NCT01813825', 'NCT03665779', 'NCT03076879', 'NCT04155294', 'NCT04614142', 'NCT04772937', 'NCT04329715', 'NCT04471285', 'NCT00201370', 'NCT04026620', 'NCT02116920', 'NCT03647631', 'NCT01145781', 'NCT00342511', 'NCT04128033', 'NCT01242878', 'NCT03252028', 'NCT02873741', 'NCT03851042', 'NCT03379961', 'NCT02503111', 'NCT00977392', 'NCT02095561', 'NCT01131312', 'NCT02749110', 'NCT01254851', 'NCT03980717', 'NCT01453114', 'NCT00975546', 'NCT00361933', 'NCT00227877', 'NCT01530061', 'NCT03466710', 'NCT00433680', 'NCT03529955', 'NCT02447159', 'NCT03174626', 'NCT03336203', 'NCT02897622', 'NCT00498719', 'NCT03022656', 'NCT04249882', 'NCT02561208']\n"
     ]
    },
    {
     "name": "stderr",
     "output_type": "stream",
     "text": [
      " 41%|████▏     | 31/75 [00:11<00:13,  3.30it/s]"
     ]
    },
    {
     "name": "stdout",
     "output_type": "stream",
     "text": [
      " Time taken to retrieve semantic search: 7 ms\n",
      "  Query 31: Stage 2 retrieved re-ranked docs ['NCT03837028', 'NCT02346227', 'NCT01131312', 'NCT00201370', 'NCT01550783', 'NCT02363244', 'NCT00443313', 'NCT03466710', 'NCT04671823', 'NCT02328872'] Precision@10: 0.1000, Recall@10: 0.0222, F1@10: 0.0364, AP: 1.0000, nDCG@10: 0.2928, MRR@10=1.0000\n",
      "    Total time for query: 0.28 seconds\n",
      "Time taken to retrieve lexical search): 69 ms\n",
      "Query 32 Stage 1 retrieved docs: ['NCT04132375', 'NCT03902262', 'NCT02336516', 'NCT02746432', 'NCT00606008', 'NCT03876678', 'NCT01428089', 'NCT03283813', 'NCT02988999', 'NCT03336203', 'NCT02265328', 'NCT00380614', 'NCT00373594', 'NCT04119206', 'NCT01048827', 'NCT01354262', 'NCT00216125', 'NCT01252875', 'NCT03154255', 'NCT02473341', 'NCT03275792', 'NCT00234494', 'NCT01597232', 'NCT00146731', 'NCT03526536', 'NCT04740333', 'NCT04425252', 'NCT01969071', 'NCT03117010', 'NCT00367627', 'NCT02250794', 'NCT01660997', 'NCT01640119', 'NCT00685464', 'NCT00262210', 'NCT02802449', 'NCT00479011', 'NCT02689986', 'NCT04165200', 'NCT04159870', 'NCT04736836', 'NCT00201318', 'NCT00311987', 'NCT02086838', 'NCT03317210', 'NCT01770210', 'NCT03602612', 'NCT03269292', 'NCT04822090', 'NCT00359333', 'NCT04675190', 'NCT03784794', 'NCT02225795', 'NCT04424940', 'NCT00859339', 'NCT03272217', 'NCT02215967', 'NCT04701242', 'NCT03665974', 'NCT02291796', 'NCT04380493', 'NCT04479202', 'NCT01834898', 'NCT04732260', 'NCT02467751', 'NCT01345643', 'NCT02477631', 'NCT04385589', 'NCT02156843', 'NCT02638922', 'NCT01722578', 'NCT04852510', 'NCT03463226', 'NCT00030498', 'NCT00292695', 'NCT02085655', 'NCT01736917', 'NCT01784393', 'NCT03049449', 'NCT04143776', 'NCT01472978', 'NCT01927133', 'NCT01215136', 'NCT00893425', 'NCT00312169', 'NCT00456963', 'NCT00487162', 'NCT03238235', 'NCT04620629', 'NCT00204230', 'NCT04297839', 'NCT00922883', 'NCT00640757', 'NCT03648528', 'NCT03401710', 'NCT02411916', 'NCT03958656', 'NCT01524991', 'NCT03451734', 'NCT02328040']\n"
     ]
    },
    {
     "name": "stderr",
     "output_type": "stream",
     "text": [
      " 43%|████▎     | 32/75 [00:12<00:13,  3.29it/s]"
     ]
    },
    {
     "name": "stdout",
     "output_type": "stream",
     "text": [
      " Time taken to retrieve semantic search: 9 ms\n",
      "  Query 32: Stage 2 retrieved re-ranked docs ['NCT04132375', 'NCT02336516', 'NCT03275792', 'NCT03902262', 'NCT01472978', 'NCT04620629', 'NCT03117010', 'NCT04479202', 'NCT03876678', 'NCT04159870'] Precision@10: 0.2000, Recall@10: 0.0769, F1@10: 0.1111, AP: 0.5833, nDCG@10: 0.3223, MRR@10=0.5000\n",
      "    Total time for query: 0.31 seconds\n",
      "Time taken to retrieve lexical search): 65 ms\n",
      "Query 33 Stage 1 retrieved docs: ['NCT01775501', 'NCT04329715', 'NCT00799214', 'NCT03422809', 'NCT02099006', 'NCT04233632', 'NCT01599975', 'NCT02088866', 'NCT00330993', 'NCT02546193', 'NCT03395756', 'NCT01309919', 'NCT01624155', 'NCT03477240', 'NCT03264612', 'NCT00182078', 'NCT01893047', 'NCT04701034', 'NCT01781507', 'NCT02700776', 'NCT01813825', 'NCT04798248', 'NCT01853748', 'NCT03336203', 'NCT01109849', 'NCT03851042', 'NCT02109952', 'NCT01604031', 'NCT02414529', 'NCT00433680', 'NCT03008005', 'NCT00367627', 'NCT00682994', 'NCT02069366', 'NCT00498719', 'NCT03379961', 'NCT04559620', 'NCT00953420', 'NCT00878826', 'NCT04423055', 'NCT00046436', 'NCT03665779', 'NCT03529955', 'NCT03158805', 'NCT00252603', 'NCT00572858', 'NCT01907334', 'NCT02492347', 'NCT02429349', 'NCT03717051', 'NCT04614142', 'NCT01254851', 'NCT03212079', 'NCT00857051', 'NCT04447872', 'NCT03357042', 'NCT02647671', 'NCT00194610', 'NCT01891149', 'NCT00176696', 'NCT04471285', 'NCT01338298', 'NCT03478163', 'NCT01859507', 'NCT02897622', 'NCT03906214', 'NCT02474940', 'NCT01311102', 'NCT01800604', 'NCT04359472', 'NCT00667498', 'NCT03243188', 'NCT03007381', 'NCT02047136', 'NCT03773809', 'NCT03141372', 'NCT02714439', 'NCT02771496', 'NCT03907514', 'NCT02185456', 'NCT03420339', 'NCT00086359', 'NCT02753920', 'NCT03704649', 'NCT01723943', 'NCT03980717', 'NCT00293735', 'NCT00654563', 'NCT02776202', 'NCT00881660', 'NCT00361933', 'NCT02948491', 'NCT01047800', 'NCT03008824', 'NCT03750773', 'NCT01825408', 'NCT04523454', 'NCT01453114', 'NCT02066649', 'NCT04635007']\n"
     ]
    },
    {
     "name": "stderr",
     "output_type": "stream",
     "text": [
      " 44%|████▍     | 33/75 [00:12<00:12,  3.30it/s]"
     ]
    },
    {
     "name": "stdout",
     "output_type": "stream",
     "text": [
      " Time taken to retrieve semantic search: 5 ms\n",
      "  Query 33: Stage 2 retrieved re-ranked docs ['NCT00361933', 'NCT04614142', 'NCT00953420', 'NCT01825408', 'NCT02700776', 'NCT01604031', 'NCT02185456', 'NCT01781507', 'NCT03529955', 'NCT00799214'] Precision@10: 0.2000, Recall@10: 0.0099, F1@10: 0.0188, AP: 0.1714, nDCG@10: 0.1370, MRR@10=0.1429\n",
      "    Total time for query: 0.30 seconds\n",
      "Time taken to retrieve lexical search): 50 ms\n",
      "Query 34 Stage 1 retrieved docs: ['NCT01775501', 'NCT00799214', 'NCT04329715', 'NCT02069366', 'NCT01599975', 'NCT03477240', 'NCT02088866', 'NCT02414529', 'NCT00182078', 'NCT03008005', 'NCT02099006', 'NCT01853748', 'NCT04614142', 'NCT01624155', 'NCT00330993', 'NCT00682994', 'NCT03336203', 'NCT01109849', 'NCT03422809', 'NCT03212079', 'NCT03529955', 'NCT01907334', 'NCT00498719', 'NCT00367627', 'NCT02546193', 'NCT02047136', 'NCT00433680', 'NCT03906214', 'NCT04701034', 'NCT04233632', 'NCT04568005', 'NCT01893047', 'NCT01309919', 'NCT02109952', 'NCT04559620', 'NCT02700776', 'NCT01813825', 'NCT01311102', 'NCT00667498', 'NCT02647671', 'NCT03379961', 'NCT04423055', 'NCT00878826', 'NCT01781507', 'NCT00252603', 'NCT02897622', 'NCT03717051', 'NCT03109808', 'NCT00046436', 'NCT00953420', 'NCT01891149', 'NCT03389568', 'NCT00504010', 'NCT01723943', 'NCT03395756', 'NCT02982213', 'NCT00857051', 'NCT00194610', 'NCT01979471', 'NCT03243188', 'NCT03264612', 'NCT03773809', 'NCT01800604', 'NCT01604031', 'NCT03357042', 'NCT03907514', 'NCT03750773', 'NCT02598531', 'NCT02474940', 'NCT00176696', 'NCT03704649', 'NCT03851042', 'NCT03158805', 'NCT00086359', 'NCT01859507', 'NCT03665779', 'NCT02492347', 'NCT02185456', 'NCT03877302', 'NCT04798248', 'NCT04826614', 'NCT03980717', 'NCT02379728', 'NCT02429349', 'NCT01997255', 'NCT01254851', 'NCT02753920', 'NCT00572858', 'NCT01803334', 'NCT03008824', 'NCT04700059', 'NCT02847689', 'NCT01335763', 'NCT00881660', 'NCT03888495', 'NCT02776202', 'NCT00287456', 'NCT04359472', 'NCT03478163', 'NCT02771496']\n"
     ]
    },
    {
     "name": "stderr",
     "output_type": "stream",
     "text": [
      " 45%|████▌     | 34/75 [00:12<00:12,  3.36it/s]"
     ]
    },
    {
     "name": "stdout",
     "output_type": "stream",
     "text": [
      " Time taken to retrieve semantic search: 3 ms\n",
      "  Query 34: Stage 2 retrieved re-ranked docs ['NCT04826614', 'NCT01800604', 'NCT00667498', 'NCT01599975', 'NCT01604031', 'NCT03477240', 'NCT02099006', 'NCT00953420', 'NCT01853748', 'NCT02185456'] Precision@10: 0.0000, Recall@10: 0.0000, F1@10: 0.0000, AP: 0.0000, nDCG@10: 0.0000, MRR@10=0.0000\n",
      "    Total time for query: 0.28 seconds\n",
      "Time taken to retrieve lexical search): 50 ms\n",
      "Query 35 Stage 1 retrieved docs: ['NCT04329715', 'NCT01775501', 'NCT01893047', 'NCT03762902', 'NCT03212079', 'NCT03704649', 'NCT00799214', 'NCT04701034', 'NCT03336203', 'NCT01599975', 'NCT02546193', 'NCT00182078', 'NCT04559620', 'NCT00498719', 'NCT00878826', 'NCT03477240', 'NCT00502177', 'NCT03422809', 'NCT02099006', 'NCT00367627', 'NCT01309919', 'NCT04568005', 'NCT03008824', 'NCT01624155', 'NCT02088866', 'NCT01109849', 'NCT03851042', 'NCT04698525', 'NCT01891149', 'NCT03357042', 'NCT03529955', 'NCT03015753', 'NCT02897622', 'NCT04614142', 'NCT03338530', 'NCT03264612', 'NCT03395756', 'NCT02069366', 'NCT02414529', 'NCT02379728', 'NCT00857051', 'NCT00953420', 'NCT03379961', 'NCT03158805', 'NCT02700776', 'NCT02047136', 'NCT03008005', 'NCT02310828', 'NCT03007381', 'NCT00433680', 'NCT01800604', 'NCT03907514', 'NCT04284501', 'NCT03906214', 'NCT01907334', 'NCT01781507', 'NCT02429349', 'NCT03717051', 'NCT00210535', 'NCT02753920', 'NCT02109952', 'NCT03572998', 'NCT03750773', 'NCT01604031', 'NCT00667498', 'NCT00274170', 'NCT01853748', 'NCT00504010', 'NCT02119429', 'NCT01813825', 'NCT02771496', 'NCT04233632', 'NCT01254851', 'NCT01859507', 'NCT01311102', 'NCT00330993', 'NCT03109808', 'NCT00194610', 'NCT04287140', 'NCT03940365', 'NCT01979471', 'NCT01141751', 'NCT02492347', 'NCT00126035', 'NCT04194008', 'NCT00682994', 'NCT01118988', 'NCT02474940', 'NCT00287456', 'NCT03141372', 'NCT01819519', 'NCT00252603', 'NCT02411916', 'NCT03213717', 'NCT03980717', 'NCT03361423', 'NCT03243188', 'NCT00572858', 'NCT00654563', 'NCT00021671']\n"
     ]
    },
    {
     "name": "stderr",
     "output_type": "stream",
     "text": [
      " 47%|████▋     | 35/75 [00:13<00:11,  3.39it/s]"
     ]
    },
    {
     "name": "stdout",
     "output_type": "stream",
     "text": [
      " Time taken to retrieve semantic search: 6 ms\n",
      "  Query 35: Stage 2 retrieved re-ranked docs ['NCT00126035', 'NCT00274170', 'NCT04698525', 'NCT04287140', 'NCT04284501', 'NCT04194008', 'NCT00210535', 'NCT03361423', 'NCT03015753', 'NCT02310828'] Precision@10: 0.2000, Recall@10: 0.0244, F1@10: 0.0435, AP: 0.2429, nDCG@10: 0.3715, MRR@10=0.2000\n",
      "    Total time for query: 0.29 seconds\n",
      "Time taken to retrieve lexical search): 47 ms\n",
      "Query 36 Stage 1 retrieved docs: ['NCT03336203', 'NCT03158805', 'NCT03422809', 'NCT00799214', 'NCT01109849', 'NCT01428089', 'NCT01300637', 'NCT03529955', 'NCT00433680', 'NCT01624155', 'NCT00367627', 'NCT01818557', 'NCT02546193', 'NCT02776202', 'NCT04233632', 'NCT01893047', 'NCT00330993', 'NCT04329715', 'NCT00046436', 'NCT01707771', 'NCT04749693', 'NCT01979471', 'NCT03478163', 'NCT03477240', 'NCT03907514', 'NCT00182078', 'NCT04568005', 'NCT02088866', 'NCT01781507', 'NCT04798248', 'NCT02099006', 'NCT01309919', 'NCT01599975', 'NCT00435123', 'NCT01775501', 'NCT00667498', 'NCT01723943', 'NCT04701034', 'NCT02751307', 'NCT00146731', 'NCT03704649', 'NCT02109952', 'NCT02429349', 'NCT00878826', 'NCT03212079', 'NCT02379728', 'NCT02498964', 'NCT04646252', 'NCT01240070', 'NCT04559620', 'NCT01813825', 'NCT02414529', 'NCT02700776', 'NCT00504010', 'NCT03784703', 'NCT02598531', 'NCT02047136', 'NCT03665779', 'NCT04635007', 'NCT01311102', 'NCT01048827', 'NCT00498719', 'NCT03526536', 'NCT02069366', 'NCT03116009', 'NCT03357042', 'NCT01907334', 'NCT00857051', 'NCT04614142', 'NCT03008005', 'NCT01770210', 'NCT03537768', 'NCT00252603', 'NCT00311987', 'NCT03750773', 'NCT00640757', 'NCT04852510', 'NCT02492347', 'NCT01332526', 'NCT01853748', 'NCT04423055', 'NCT03141372', 'NCT02582424', 'NCT01553318', 'NCT00293735', 'NCT04680702', 'NCT01944787', 'NCT02897622', 'NCT03665974', 'NCT03548103', 'NCT00172107', 'NCT02078167', 'NCT01530178', 'NCT00953420', 'NCT03395756', 'NCT04186780', 'NCT01859507', 'NCT02786238', 'NCT03109808', 'NCT03717051']\n"
     ]
    },
    {
     "name": "stderr",
     "output_type": "stream",
     "text": [
      " 48%|████▊     | 36/75 [00:13<00:11,  3.43it/s]"
     ]
    },
    {
     "name": "stdout",
     "output_type": "stream",
     "text": [
      " Time taken to retrieve semantic search: 3 ms\n",
      "  Query 36: Stage 2 retrieved re-ranked docs ['NCT00667498', 'NCT02582424', 'NCT02598531', 'NCT01770210', 'NCT00435123', 'NCT01240070', 'NCT04852510', 'NCT00640757', 'NCT04646252', 'NCT03784703'] Precision@10: 0.3000, Recall@10: 0.0163, F1@10: 0.0309, AP: 0.3611, nDCG@10: 0.2745, MRR@10=0.5000\n",
      "    Total time for query: 0.29 seconds\n",
      "Time taken to retrieve lexical search): 51 ms\n",
      "Query 37 Stage 1 retrieved docs: ['NCT03647631', 'NCT03529955', 'NCT02069366', 'NCT03477240', 'NCT04329715', 'NCT02088866', 'NCT00182078', 'NCT01599975', 'NCT00799214', 'NCT02109952', 'NCT01775501', 'NCT02099006', 'NCT02700776', 'NCT00367627', 'NCT03980717', 'NCT02546193', 'NCT01309919', 'NCT00330993', 'NCT01112657', 'NCT01893047', 'NCT00433680', 'NCT03422809', 'NCT04701034', 'NCT00667498', 'NCT01781507', 'NCT00498719', 'NCT02414529', 'NCT04614142', 'NCT00881660', 'NCT02776202', 'NCT01853748', 'NCT03213717', 'NCT03252028', 'NCT03141372', 'NCT03243188', 'NCT01624155', 'NCT00572858', 'NCT00857051', 'NCT03008005', 'NCT04700059', 'NCT03212079', 'NCT04233632', 'NCT03420339', 'NCT00878826', 'NCT04568005', 'NCT03572998', 'NCT04703647', 'NCT03906214', 'NCT04178980', 'NCT03336203', 'NCT00953420', 'NCT02429349', 'NCT01813825', 'NCT00682994', 'NCT02948491', 'NCT01769092', 'NCT01141751', 'NCT01311102', 'NCT02982213', 'NCT03022656', 'NCT04249882', 'NCT03763383', 'NCT04530149', 'NCT01254851', 'NCT01109849', 'NCT02411916', 'NCT02957747', 'NCT00504010', 'NCT02492347', 'NCT03984695', 'NCT00252603', 'NCT04359472', 'NCT04798248', 'NCT03750773', 'NCT03717051', 'NCT01800604', 'NCT01047800', 'NCT01761331', 'NCT02185456', 'NCT00176696', 'NCT03851042', 'NCT04661098', 'NCT02358876', 'NCT03008824', 'NCT02066649', 'NCT03773809', 'NCT02714439', 'NCT04559620', 'NCT03877302', 'NCT03239041', 'NCT03357042', 'NCT04159792', 'NCT02847689', 'NCT01819519', 'NCT02240407', 'NCT00194285', 'NCT02647671', 'NCT01723943', 'NCT04027322', 'NCT03704649']\n"
     ]
    },
    {
     "name": "stderr",
     "output_type": "stream",
     "text": [
      " 49%|████▉     | 37/75 [00:13<00:11,  3.38it/s]"
     ]
    },
    {
     "name": "stdout",
     "output_type": "stream",
     "text": [
      " Time taken to retrieve semantic search: 1 ms\n",
      "  Query 37: Stage 2 retrieved re-ranked docs ['NCT04178980', 'NCT01141751', 'NCT01112657', 'NCT01800604', 'NCT04703647', 'NCT02776202', 'NCT04568005', 'NCT03529955', 'NCT01769092', 'NCT02240407'] Precision@10: 0.2000, Recall@10: 0.0118, F1@10: 0.0222, AP: 1.0000, nDCG@10: 0.3956, MRR@10=1.0000\n",
      "    Total time for query: 0.31 seconds\n",
      "Time taken to retrieve lexical search): 48 ms\n",
      "Query 38 Stage 1 retrieved docs: ['NCT00799214', 'NCT03336203', 'NCT00182078', 'NCT03422809', 'NCT01775501', 'NCT00367627', 'NCT04329715', 'NCT01599975', 'NCT04614142', 'NCT01428089', 'NCT02099006', 'NCT01624155', 'NCT01893047', 'NCT03529955', 'NCT04701034', 'NCT01891149', 'NCT01853748', 'NCT03158805', 'NCT00046436', 'NCT01781507', 'NCT02088866', 'NCT02109952', 'NCT02776202', 'NCT03477240', 'NCT02069366', 'NCT02746432', 'NCT04798248', 'NCT00667498', 'NCT00293735', 'NCT02546193', 'NCT00330993', 'NCT02429349', 'NCT03379961', 'NCT03902262', 'NCT02700776', 'NCT01979471', 'NCT01813825', 'NCT03478163', 'NCT02411916', 'NCT03008005', 'NCT00953420', 'NCT00252603', 'NCT04568005', 'NCT03395756', 'NCT00878826', 'NCT04026620', 'NCT01604031', 'NCT00433680', 'NCT02185456', 'NCT02492347', 'NCT01309919', 'NCT00498719', 'NCT02498964', 'NCT02647671', 'NCT03264612', 'NCT01907334', 'NCT04233632', 'NCT01723943', 'NCT03907514', 'NCT04249882', 'NCT04471285', 'NCT01311102', 'NCT01640119', 'NCT00194610', 'NCT01818557', 'NCT04559620', 'NCT02379728', 'NCT02474940', 'NCT02414529', 'NCT00494624', 'NCT00172107', 'NCT01553318', 'NCT03565198', 'NCT02328040', 'NCT04447872', 'NCT04749693', 'NCT01524991', 'NCT03212079', 'NCT03141372', 'NCT03717051', 'NCT00682994', 'NCT04646252', 'NCT04359472', 'NCT01269008', 'NCT03357042', 'NCT00086359', 'NCT00146731', 'NCT02948491', 'NCT00292695', 'NCT03109808', 'NCT00227877', 'NCT03888495', 'NCT03243188', 'NCT03213717', 'NCT00373594', 'NCT00654563', 'NCT03805932', 'NCT03704649', 'NCT00502177', 'NCT03572998']\n"
     ]
    },
    {
     "name": "stderr",
     "output_type": "stream",
     "text": [
      " 51%|█████     | 38/75 [00:13<00:10,  3.41it/s]"
     ]
    },
    {
     "name": "stdout",
     "output_type": "stream",
     "text": [
      " Time taken to retrieve semantic search: 3 ms\n",
      "  Query 38: Stage 2 retrieved re-ranked docs ['NCT00667498', 'NCT03529955', 'NCT04471285', 'NCT00878826', 'NCT01524991', 'NCT02776202', 'NCT01599975', 'NCT01553318', 'NCT04646252', 'NCT00373594'] Precision@10: 0.0000, Recall@10: 0.0000, F1@10: 0.0000, AP: 0.0000, nDCG@10: 0.0000, MRR@10=0.0000\n",
      "    Total time for query: 0.29 seconds\n",
      "Time taken to retrieve lexical search): 58 ms\n",
      "Query 39 Stage 1 retrieved docs: ['NCT04380493', 'NCT03283813', 'NCT03057392', 'NCT04119206', 'NCT04385589', 'NCT00706667', 'NCT03099564', 'NCT00353340', 'NCT01834898', 'NCT04297839', 'NCT01969071', 'NCT03154255', 'NCT00859339', 'NCT02746432', 'NCT00216125', 'NCT02594904', 'NCT03665974', 'NCT00373594', 'NCT02638922', 'NCT02625688', 'NCT04349241', 'NCT01640119', 'NCT02085655', 'NCT02361788', 'NCT04736836', 'NCT00606008', 'NCT03876678', 'NCT00312169', 'NCT03863626', 'NCT00893425', 'NCT02467751', 'NCT02443259', 'NCT01215136', 'NCT03451734', 'NCT03336203', 'NCT03463226', 'NCT04595474', 'NCT02894723', 'NCT03117010', 'NCT01428089', 'NCT01225029', 'NCT00479011', 'NCT02265328', 'NCT04237636', 'NCT02936167', 'NCT01252875', 'NCT00212043', 'NCT00172107', 'NCT01005433', 'NCT02988999', 'NCT04159870', 'NCT01660997', 'NCT01880632', 'NCT04364087', 'NCT02056756', 'NCT00685464', 'NCT03607929', 'NCT01048827', 'NCT02034279', 'NCT03272217', 'NCT03349840', 'NCT00234494', 'NCT00893932', 'NCT04358445', 'NCT04445675', 'NCT01385098', 'NCT03784794', 'NCT00201318', 'NCT02718586', 'NCT00380614', 'NCT00614809', 'NCT03970668', 'NCT03846869', 'NCT02802449', 'NCT00311987', 'NCT00615381', 'NCT00816218', 'NCT04676646', 'NCT01707771', 'NCT04819451', 'NCT04614779', 'NCT00873522', 'NCT03066440', 'NCT00149565', 'NCT00324285', 'NCT01927133', 'NCT02504749', 'NCT00262210', 'NCT03295162', 'NCT03981328', 'NCT04482946', 'NCT04554082', 'NCT02215967', 'NCT00114543', 'NCT03001323', 'NCT03317210', 'NCT01299948', 'NCT00202904', 'NCT00146731', 'NCT02491320']\n"
     ]
    },
    {
     "name": "stderr",
     "output_type": "stream",
     "text": [
      " 52%|█████▏    | 39/75 [00:14<00:10,  3.40it/s]"
     ]
    },
    {
     "name": "stdout",
     "output_type": "stream",
     "text": [
      " Time taken to retrieve semantic search: 6 ms\n",
      "  Query 39: Stage 2 retrieved re-ranked docs ['NCT02625688', 'NCT00114543', 'NCT04445675', 'NCT02361788', 'NCT02594904', 'NCT03876678', 'NCT03295162', 'NCT03117010', 'NCT02443259', 'NCT03317210'] Precision@10: 0.1000, Recall@10: 0.0294, F1@10: 0.0455, AP: 0.3333, nDCG@10: 0.2379, MRR@10=0.3333\n",
      "    Total time for query: 0.30 seconds\n",
      "Time taken to retrieve lexical search): 60 ms\n",
      "Query 40 Stage 1 retrieved docs: ['NCT00306046', 'NCT03902262', 'NCT00381914', 'NCT00685971', 'NCT03356522', 'NCT03336203', 'NCT02603042', 'NCT02309047', 'NCT01430793', 'NCT00785824', 'NCT03994172', 'NCT00373594', 'NCT00222872', 'NCT04303026', 'NCT01354262', 'NCT01225679', 'NCT03781895', 'NCT03928730', 'NCT00464295', 'NCT04473872', 'NCT02387892', 'NCT00663988', 'NCT03001050', 'NCT04024085', 'NCT00212043', 'NCT02439112', 'NCT01846533', 'NCT01757158', 'NCT00747994', 'NCT00724178', 'NCT02858102', 'NCT01804634', 'NCT01153568', 'NCT02109952', 'NCT04584840', 'NCT04284501', 'NCT03401060', 'NCT04859127', 'NCT01118988', 'NCT03283176', 'NCT04364724', 'NCT04815421', 'NCT00092937', 'NCT00025883', 'NCT01640119', 'NCT04236232', 'NCT04119206', 'NCT03113994', 'NCT01784393', 'NCT03520855', 'NCT00498537', 'NCT03721497', 'NCT02429232', 'NCT00149565', 'NCT04834362', 'NCT03548103', 'NCT04442841', 'NCT03046693', 'NCT03649932', 'NCT00426959', 'NCT04232085', 'NCT03948386', 'NCT04674423', 'NCT04424940', 'NCT01770210', 'NCT04262713', 'NCT03149692', 'NCT01604031', 'NCT04841239', 'NCT01335763', 'NCT00424619', 'NCT03426839', 'NCT04219163', 'NCT04783974', 'NCT03190642', 'NCT04280406', 'NCT01900860', 'NCT00953420', 'NCT02752841', 'NCT01476501', 'NCT04628429', 'NCT03987269', 'NCT04402034', 'NCT00392093', 'NCT03156517', 'NCT02776397', 'NCT00351520', 'NCT04841213', 'NCT01062230', 'NCT02936167', 'NCT03182296', 'NCT00172107', 'NCT03005561', 'NCT04273490', 'NCT02502747', 'NCT01191034', 'NCT02543905', 'NCT03112954', 'NCT04018287', 'NCT02681250']\n"
     ]
    },
    {
     "name": "stderr",
     "output_type": "stream",
     "text": [
      " 53%|█████▎    | 40/75 [00:14<00:10,  3.36it/s]"
     ]
    },
    {
     "name": "stdout",
     "output_type": "stream",
     "text": [
      " Time taken to retrieve semantic search: 10 ms\n",
      "  Query 40: Stage 2 retrieved re-ranked docs ['NCT00306046', 'NCT00747994', 'NCT02603042', 'NCT04273490', 'NCT00222872', 'NCT04018287', 'NCT00172107', 'NCT04584840', 'NCT04783974', 'NCT04841213'] Precision@10: 0.2000, Recall@10: 0.1818, F1@10: 0.1905, AP: 1.0000, nDCG@10: 0.3590, MRR@10=1.0000\n",
      "    Total time for query: 0.30 seconds\n",
      "Time taken to retrieve lexical search): 47 ms\n",
      "Query 41 Stage 1 retrieved docs: ['NCT03987269', 'NCT03336203', 'NCT04236843', 'NCT02088866', 'NCT01775501', 'NCT01599546', 'NCT01952834', 'NCT01961219', 'NCT02358876', 'NCT00478296', 'NCT01599975', 'NCT00654563', 'NCT02474940', 'NCT02109952', 'NCT04659265', 'NCT02543905', 'NCT01800604', 'NCT00367627', 'NCT00682994', 'NCT04568005', 'NCT01907334', 'NCT03001050', 'NCT03279991', 'NCT02414529', 'NCT02069366', 'NCT03907514', 'NCT01109849', 'NCT00723567', 'NCT01345643', 'NCT03008005', 'NCT02897622', 'NCT01604031', 'NCT03732118', 'NCT03585257', 'NCT04825626', 'NCT01781507', 'NCT02156232', 'NCT03212079', 'NCT00667498', 'NCT03876652', 'NCT01722578', 'NCT01118988', 'NCT03773809', 'NCT01882855', 'NCT04858074', 'NCT01846806', 'NCT00498719', 'NCT03109808', 'NCT03520855', 'NCT03677349', 'NCT04613973', 'NCT01335763', 'NCT02016248', 'NCT00182078', 'NCT00194597', 'NCT03327974', 'NCT02488200', 'NCT01110447', 'NCT03958487', 'NCT04654845', 'NCT04342520', 'NCT03493633', 'NCT03902262', 'NCT04024085', 'NCT01141751', 'NCT00975546', 'NCT01112657', 'NCT03717051', 'NCT03099993', 'NCT04142957', 'NCT04592094', 'NCT04703647', 'NCT03124199', 'NCT03357042', 'NCT00215787', 'NCT03987893', 'NCT01700829', 'NCT00663988', 'NCT04027322', 'NCT02066649', 'NCT04159792', 'NCT01979471', 'NCT04155099', 'NCT00268060', 'NCT02050347', 'NCT00426959', 'NCT03781895', 'NCT03796598', 'NCT00058812', 'NCT04436601', 'NCT02771496', 'NCT04011930', 'NCT00953420', 'NCT00042159', 'NCT03389568', 'NCT04092400', 'NCT04019054', 'NCT04815330', 'NCT03366142', 'NCT04567797']\n"
     ]
    },
    {
     "name": "stderr",
     "output_type": "stream",
     "text": [
      " 55%|█████▍    | 41/75 [00:14<00:10,  3.40it/s]"
     ]
    },
    {
     "name": "stdout",
     "output_type": "stream",
     "text": [
      " Time taken to retrieve semantic search: 7 ms\n",
      "  Query 41: Stage 2 retrieved re-ranked docs ['NCT04858074', 'NCT02358876', 'NCT03732118', 'NCT04159792', 'NCT03876652', 'NCT04342520', 'NCT00654563', 'NCT04024085', 'NCT03585257', 'NCT01800604'] Precision@10: 0.1000, Recall@10: 0.0075, F1@10: 0.0139, AP: 1.0000, nDCG@10: 0.2908, MRR@10=1.0000\n",
      "    Total time for query: 0.29 seconds\n",
      "Time taken to retrieve lexical search): 85 ms\n",
      "Query 42 Stage 1 retrieved docs: ['NCT00330993', 'NCT02411916', 'NCT04329715', 'NCT00826605', 'NCT00799214', 'NCT02546193', 'NCT01309919', 'NCT03665779', 'NCT03158805', 'NCT02088866', 'NCT04568005', 'NCT03336203', 'NCT03116009', 'NCT03252028', 'NCT04233632', 'NCT03851042', 'NCT01893047', 'NCT01599975', 'NCT02414529', 'NCT04635007', 'NCT01118988', 'NCT04700059', 'NCT02361788', 'NCT00878826', 'NCT01775501', 'NCT02099006', 'NCT00182078', 'NCT03008824', 'NCT00667498', 'NCT04359472', 'NCT01781507', 'NCT02018497', 'NCT02069366', 'NCT03858595', 'NCT03750773', 'NCT00405340', 'NCT04424940', 'NCT02067520', 'NCT03980717', 'NCT04423055', 'NCT04161521', 'NCT03007381', 'NCT00367627', 'NCT01311102', 'NCT00433680', 'NCT04701034', 'NCT00046436', 'NCT04087239', 'NCT03008005', 'NCT00252603', 'NCT04027322', 'NCT02563379', 'NCT01979471', 'NCT03647631', 'NCT00881660', 'NCT00194610', 'NCT02429349', 'NCT00086359', 'NCT02948491', 'NCT03422809', 'NCT04558996', 'NCT00194974', 'NCT03477240', 'NCT04798248', 'NCT04703647', 'NCT02379728', 'NCT02086994', 'NCT03183531', 'NCT01932788', 'NCT01819519', 'NCT00293735', 'NCT03717051', 'NCT02491320', 'NCT02498964', 'NCT01624155', 'NCT01853748', 'NCT04661098', 'NCT02504749', 'NCT01907334', 'NCT03093194', 'NCT02047136', 'NCT01394471', 'NCT04559620', 'NCT00434564', 'NCT00917943', 'NCT00317447', 'NCT03665974', 'NCT03213717', 'NCT01832233', 'NCT00504010', 'NCT01096927', 'NCT02771496', 'NCT02109952', 'NCT02050529', 'NCT04471285', 'NCT02434432', 'NCT03239041', 'NCT04530149', 'NCT04661371', 'NCT01856270']\n"
     ]
    },
    {
     "name": "stderr",
     "output_type": "stream",
     "text": [
      " 56%|█████▌    | 42/75 [00:15<00:10,  3.28it/s]"
     ]
    },
    {
     "name": "stdout",
     "output_type": "stream",
     "text": [
      " Time taken to retrieve semantic search: 4 ms\n",
      "  Query 42: Stage 2 retrieved re-ranked docs ['NCT00878826', 'NCT03665974', 'NCT00826605', 'NCT04161521', 'NCT02086994', 'NCT02361788', 'NCT03665779', 'NCT00194974', 'NCT03422809', 'NCT04661098'] Precision@10: 0.0000, Recall@10: 0.0000, F1@10: 0.0000, AP: 0.0000, nDCG@10: 0.0284, MRR@10=0.0000\n",
      "    Total time for query: 0.33 seconds\n",
      "Time taken to retrieve lexical search): 50 ms\n",
      "Query 43 Stage 1 retrieved docs: ['NCT02127814', 'NCT03647995', 'NCT02112279', 'NCT01630096', 'NCT03427229', 'NCT03388268', 'NCT01472978', 'NCT02148601', 'NCT04594954', 'NCT04491799', 'NCT02504749', 'NCT02301000', 'NCT04121169', 'NCT02134392', 'NCT02391012', 'NCT01959048', 'NCT04582500', 'NCT00350298', 'NCT03117582', 'NCT00177775', 'NCT02760745', 'NCT04573504', 'NCT02054455', 'NCT02951481', 'NCT01911702', 'NCT04090346', 'NCT02423967', 'NCT03195907', 'NCT02093767', 'NCT03565393', 'NCT04479202', 'NCT02865616', 'NCT02968758', 'NCT02396446', 'NCT01524081', 'NCT01687543', 'NCT02707198', 'NCT02221713', 'NCT03074552', 'NCT03394040', 'NCT01618591', 'NCT04237181', 'NCT02190981', 'NCT04165200', 'NCT03005379', 'NCT03788434', 'NCT02497417', 'NCT01596829', 'NCT02355938', 'NCT01868373', 'NCT02127398', 'NCT02255305', 'NCT02667418', 'NCT03125564', 'NCT03666572', 'NCT01100684', 'NCT03942861', 'NCT01969214', 'NCT03592082', 'NCT03152188', 'NCT02299973', 'NCT00462020', 'NCT00367627', 'NCT03983434', 'NCT00130741', 'NCT03857464', 'NCT00226616', 'NCT04836013', 'NCT02647671', 'NCT02607488', 'NCT03964844', 'NCT03796598', 'NCT01356641', 'NCT02686645', 'NCT04138706', 'NCT03764995', 'NCT00536081', 'NCT04755452', 'NCT04557215', 'NCT00618904', 'NCT01678365', 'NCT02327793', 'NCT02829060', 'NCT00128739', 'NCT02258763', 'NCT03606031', 'NCT04139577', 'NCT00164723', 'NCT00479011', 'NCT02539836', 'NCT02498301', 'NCT01722318', 'NCT03663062', 'NCT02384200', 'NCT04304170', 'NCT00003057', 'NCT01025583', 'NCT00324285', 'NCT03826446', 'NCT04750044']\n"
     ]
    },
    {
     "name": "stderr",
     "output_type": "stream",
     "text": [
      " 57%|█████▋    | 43/75 [00:15<00:09,  3.32it/s]"
     ]
    },
    {
     "name": "stdout",
     "output_type": "stream",
     "text": [
      " Time taken to retrieve semantic search: 5 ms\n",
      "  Query 43: Stage 2 retrieved re-ranked docs ['NCT00350298', 'NCT04491799', 'NCT03964844', 'NCT01472978', 'NCT02127814', 'NCT01687543', 'NCT02355938', 'NCT01630096', 'NCT03388268', 'NCT03427229'] Precision@10: 0.1000, Recall@10: 0.0159, F1@10: 0.0274, AP: 0.1111, nDCG@10: 0.2575, MRR@10=0.1111\n",
      "    Total time for query: 0.29 seconds\n",
      "Time taken to retrieve lexical search): 50 ms\n",
      "Query 44 Stage 1 retrieved docs: ['NCT04859127', 'NCT03001050', 'NCT02609009', 'NCT04567797', 'NCT02088866', 'NCT01961219', 'NCT04761549', 'NCT01599546', 'NCT01775501', 'NCT04815421', 'NCT03336203', 'NCT03862417', 'NCT03413839', 'NCT01118988', 'NCT01801553', 'NCT04421157', 'NCT00504010', 'NCT03929042', 'NCT03948386', 'NCT01610908', 'NCT03572855', 'NCT01345643', 'NCT02598531', 'NCT00155545', 'NCT03619200', 'NCT04825626', 'NCT00835302', 'NCT00663988', 'NCT04603716', 'NCT03420339', 'NCT02414529', 'NCT03902262', 'NCT00667498', 'NCT04568005', 'NCT01597232', 'NCT04654845', 'NCT00176696', 'NCT04555499', 'NCT01604031', 'NCT02132507', 'NCT03022656', 'NCT03232515', 'NCT04092400', 'NCT03696979', 'NCT00498719', 'NCT03099993', 'NCT04206137', 'NCT03675152', 'NCT03845608', 'NCT02666118', 'NCT04288804', 'NCT02552615', 'NCT02616653', 'NCT03907514', 'NCT00478296', 'NCT02217540', 'NCT02897622', 'NCT03781895', 'NCT00422708', 'NCT04342520', 'NCT00654563', 'NCT00814580', 'NCT04703647', 'NCT00682994', 'NCT02807545', 'NCT00953420', 'NCT03046394', 'NCT04316793', 'NCT01872481', 'NCT00737607', 'NCT03763383', 'NCT04659265', 'NCT02513173', 'NCT03041506', 'NCT04382638', 'NCT01800604', 'NCT01047800', 'NCT03677349', 'NCT04465331', 'NCT03357042', 'NCT03337607', 'NCT01405781', 'NCT00477256', 'NCT02068872', 'NCT03973788', 'NCT01722578', 'NCT03005561', 'NCT02134392', 'NCT04664231', 'NCT03305185', 'NCT01882855', 'NCT02643290', 'NCT01599975', 'NCT04488120', 'NCT01109849', 'NCT03739957', 'NCT04226209', 'NCT03732118', 'NCT00367627', 'NCT02156232']\n"
     ]
    },
    {
     "name": "stderr",
     "output_type": "stream",
     "text": [
      " 59%|█████▊    | 44/75 [00:15<00:09,  3.37it/s]"
     ]
    },
    {
     "name": "stdout",
     "output_type": "stream",
     "text": [
      " Time taken to retrieve semantic search: 5 ms\n",
      "  Query 44: Stage 2 retrieved re-ranked docs ['NCT04421157', 'NCT04226209', 'NCT01610908', 'NCT03929042', 'NCT02552615', 'NCT02609009', 'NCT04761549', 'NCT03862417', 'NCT03305185', 'NCT03413839'] Precision@10: 0.0000, Recall@10: 0.0000, F1@10: 0.0000, AP: 0.0000, nDCG@10: 0.3791, MRR@10=0.0000\n",
      "    Total time for query: 0.29 seconds\n",
      "Time taken to retrieve lexical search): 57 ms\n",
      "Query 45 Stage 1 retrieved docs: ['NCT03902262', 'NCT03336203', 'NCT01834898', 'NCT04380493', 'NCT00263562', 'NCT01118988', 'NCT01179217', 'NCT00194597', 'NCT04426435', 'NCT04119206', 'NCT02746432', 'NCT03704922', 'NCT01572103', 'NCT01775501', 'NCT02265328', 'NCT01961219', 'NCT03565198', 'NCT02088866', 'NCT00625573', 'NCT00494624', 'NCT00439127', 'NCT01927133', 'NCT04676113', 'NCT04267965', 'NCT03431285', 'NCT02712346', 'NCT03781895', 'NCT03001050', 'NCT00317447', 'NCT00578344', 'NCT00434564', 'NCT00212043', 'NCT03784794', 'NCT00600665', 'NCT00380614', 'NCT00000586', 'NCT01722578', 'NCT02898922', 'NCT00351520', 'NCT01784393', 'NCT00614809', 'NCT02225795', 'NCT03174782', 'NCT03935633', 'NCT01683968', 'NCT00418470', 'NCT03590626', 'NCT03948386', 'NCT01375608', 'NCT04815421', 'NCT00464295', 'NCT02698761', 'NCT02741024', 'NCT02498964', 'NCT01130311', 'NCT00149565', 'NCT03117010', 'NCT00000724', 'NCT01417923', 'NCT03665974', 'NCT02936167', 'NCT04661371', 'NCT04219163', 'NCT01428089', 'NCT00953420', 'NCT02989701', 'NCT03533322', 'NCT03154255', 'NCT00723567', 'NCT04027322', 'NCT03548103', 'NCT01252875', 'NCT04293172', 'NCT01732107', 'NCT01096927', 'NCT01959048', 'NCT03100266', 'NCT00405340', 'NCT04659265', 'NCT03283813', 'NCT02504749', 'NCT00417898', 'NCT02543905', 'NCT04315350', 'NCT02502747', 'NCT02056756', 'NCT04237636', 'NCT03183531', 'NCT00146731', 'NCT00270478', 'NCT02134392', 'NCT03238235', 'NCT04530149', 'NCT00502684', 'NCT01463787', 'NCT02291796', 'NCT01249222', 'NCT04614779', 'NCT00195988', 'NCT03112954']\n"
     ]
    },
    {
     "name": "stderr",
     "output_type": "stream",
     "text": [
      " 60%|██████    | 45/75 [00:15<00:08,  3.38it/s]"
     ]
    },
    {
     "name": "stdout",
     "output_type": "stream",
     "text": [
      " Time taken to retrieve semantic search: 4 ms\n",
      "  Query 45: Stage 2 retrieved re-ranked docs ['NCT03431285', 'NCT00263562', 'NCT00000586', 'NCT01179217', 'NCT01683968', 'NCT04293172', 'NCT03117010', 'NCT02698761', 'NCT02989701', 'NCT00600665'] Precision@10: 0.6000, Recall@10: 0.0414, F1@10: 0.0774, AP: 0.9333, nDCG@10: 0.7608, MRR@10=1.0000\n",
      "    Total time for query: 0.29 seconds\n",
      "Time taken to retrieve lexical search): 176 ms\n",
      "Query 46 Stage 1 retrieved docs: ['NCT03902262', 'NCT02746432', 'NCT04380493', 'NCT01249222', 'NCT03283813', 'NCT03057392', 'NCT01252875', 'NCT00353340', 'NCT03561753', 'NCT03069534', 'NCT03154255', 'NCT00522665', 'NCT00873522', 'NCT04736836', 'NCT02936167', 'NCT04297839', 'NCT01640119', 'NCT02776150', 'NCT01969071', 'NCT04119206', 'NCT02056756', 'NCT03336203', 'NCT00859339', 'NCT03463226', 'NCT00396084', 'NCT02232945', 'NCT03784794', 'NCT00614809', 'NCT01130311', 'NCT00893425', 'NCT04237636', 'NCT03238235', 'NCT01215136', 'NCT01834898', 'NCT00312169', 'NCT02638922', 'NCT01927133', 'NCT00324285', 'NCT03846869', 'NCT04267965', 'NCT00625573', 'NCT02581527', 'NCT03665974', 'NCT01722578', 'NCT04331262', 'NCT00212043', 'NCT00685360', 'NCT00479011', 'NCT00130247', 'NCT01660997', 'NCT02545114', 'NCT04721795', 'NCT02265328', 'NCT03451734', 'NCT02460653', 'NCT02086838', 'NCT04385589', 'NCT03099564', 'NCT03416309', 'NCT03863626', 'NCT02712671', 'NCT00351520', 'NCT01034631', 'NCT00273676', 'NCT00417898', 'NCT00373594', 'NCT01707771', 'NCT00455091', 'NCT00405340', 'NCT02473341', 'NCT01930747', 'NCT00685464', 'NCT00727844', 'NCT04482946', 'NCT03349840', 'NCT04604223', 'NCT03317210', 'NCT00380614', 'NCT04442841', 'NCT01785186', 'NCT01048827', 'NCT02802449', 'NCT01821586', 'NCT03183531', 'NCT03001323', 'NCT00513396', 'NCT04661722', 'NCT02365935', 'NCT00439127', 'NCT04701242', 'NCT02329522', 'NCT02681445', 'NCT00311987', 'NCT01524991', 'NCT01572103', 'NCT01530178', 'NCT01770210', 'NCT04694586', 'NCT02150486', 'NCT01332526']\n"
     ]
    },
    {
     "name": "stderr",
     "output_type": "stream",
     "text": [
      " 61%|██████▏   | 46/75 [00:16<00:09,  3.02it/s]"
     ]
    },
    {
     "name": "stdout",
     "output_type": "stream",
     "text": [
      " Time taken to retrieve semantic search: 6 ms\n",
      "  Query 46: Stage 2 retrieved re-ranked docs ['NCT00685360', 'NCT03416309', 'NCT01785186', 'NCT02776150', 'NCT00130247', 'NCT04694586', 'NCT00513396', 'NCT02581527', 'NCT00396084', 'NCT03069534'] Precision@10: 0.8000, Recall@10: 0.0727, F1@10: 0.1333, AP: 0.9705, nDCG@10: 0.8630, MRR@10=1.0000\n",
      "    Total time for query: 0.41 seconds\n",
      "Time taken to retrieve lexical search): 71 ms\n",
      "Query 47 Stage 1 retrieved docs: ['NCT03902262', 'NCT00663988', 'NCT02225834', 'NCT04159792', 'NCT00417898', 'NCT00564096', 'NCT04317937', 'NCT03477188', 'NCT04555499', 'NCT04500223', 'NCT04659265', 'NCT03195907', 'NCT01923077', 'NCT03394313', 'NCT01722578', 'NCT00042159', 'NCT04424940', 'NCT03763383', 'NCT02448069', 'NCT03647631', 'NCT04030741', 'NCT02088866', 'NCT03036020', 'NCT03001050', 'NCT03826446', 'NCT02403908', 'NCT00061373', 'NCT00311987', 'NCT02625272', 'NCT00273676', 'NCT03969511', 'NCT04815421', 'NCT04791410', 'NCT00434564', 'NCT00314002', 'NCT04099615', 'NCT01715220', 'NCT04045860', 'NCT01977937', 'NCT03171285', 'NCT03731351', 'NCT03336203', 'NCT01220739', 'NCT04530149', 'NCT01243996', 'NCT01943929', 'NCT04847752', 'NCT03543345', 'NCT00422708', 'NCT04643262', 'NCT04661371', 'NCT02398344', 'NCT01830894', 'NCT04357119', 'NCT02502747', 'NCT04217135', 'NCT03247998', 'NCT01599546', 'NCT02018497', 'NCT00355160', 'NCT04013750', 'NCT03619200', 'NCT04859127', 'NCT04688463', 'NCT04322487', 'NCT02977182', 'NCT04373447', 'NCT01872481', 'NCT01154712', 'NCT03218410', 'NCT02734082', 'NCT04473872', 'NCT03174782', 'NCT04267835', 'NCT04206137', 'NCT01775501', 'NCT03166449', 'NCT04237961', 'NCT03357484', 'NCT03620526', 'NCT03555474', 'NCT01997255', 'NCT02291796', 'NCT02434536', 'NCT03670862', 'NCT03183531', 'NCT02106819', 'NCT03234296', 'NCT04321902', 'NCT01928641', 'NCT02279940', 'NCT01475019', 'NCT02150486', 'NCT02825199', 'NCT03583320', 'NCT02426944', 'NCT01470040', 'NCT01118988', 'NCT02897622', 'NCT01812109']\n"
     ]
    },
    {
     "name": "stderr",
     "output_type": "stream",
     "text": [
      " 63%|██████▎   | 47/75 [00:16<00:09,  3.07it/s]"
     ]
    },
    {
     "name": "stdout",
     "output_type": "stream",
     "text": [
      " Time taken to retrieve semantic search: 8 ms\n",
      "  Query 47: Stage 2 retrieved re-ranked docs ['NCT03670862', 'NCT02225834', 'NCT03477188', 'NCT00061373', 'NCT04847752', 'NCT03731351', 'NCT00417898', 'NCT02448069', 'NCT01220739', 'NCT01928641'] Precision@10: 0.8000, Recall@10: 0.0625, F1@10: 0.1159, AP: 0.8803, nDCG@10: 0.8910, MRR@10=1.0000\n",
      "    Total time for query: 0.31 seconds\n",
      "Time taken to retrieve lexical search): 56 ms\n",
      "Query 48 Stage 1 retrieved docs: ['NCT01775501', 'NCT04568005', 'NCT01604031', 'NCT01781507', 'NCT02771496', 'NCT03336203', 'NCT03902262', 'NCT00194597', 'NCT02088866', 'NCT02069366', 'NCT04841239', 'NCT03745183', 'NCT00723567', 'NCT01110330', 'NCT00799214', 'NCT01599975', 'NCT04249882', 'NCT00367627', 'NCT00856596', 'NCT04332796', 'NCT03001050', 'NCT03717051', 'NCT04337749', 'NCT02109952', 'NCT03212079', 'NCT03394313', 'NCT00654563', 'NCT01118988', 'NCT02240407', 'NCT03773809', 'NCT04027322', 'NCT01979471', 'NCT01599546', 'NCT00426959', 'NCT04659265', 'NCT01997255', 'NCT01907334', 'NCT02047136', 'NCT03124199', 'NCT03008005', 'NCT03619200', 'NCT03357042', 'NCT02340520', 'NCT03948386', 'NCT00504010', 'NCT03907514', 'NCT02414529', 'NCT00682994', 'NCT03814343', 'NCT00953420', 'NCT04647981', 'NCT00667498', 'NCT02948491', 'NCT02050347', 'NCT02897622', 'NCT00663988', 'NCT01614379', 'NCT03109808', 'NCT04236843', 'NCT00177775', 'NCT03046394', 'NCT02543905', 'NCT03781895', 'NCT02464839', 'NCT00215787', 'NCT03213717', 'NCT03493633', 'NCT04219163', 'NCT02077101', 'NCT02971124', 'NCT00305227', 'NCT03620877', 'NCT00494169', 'NCT04349241', 'NCT01800604', 'NCT02358876', 'NCT00268060', 'NCT04646252', 'NCT04815421', 'NCT04142957', 'NCT04859127', 'NCT03149692', 'NCT00317447', 'NCT00526630', 'NCT03379961', 'NCT01952834', 'NCT03876652', 'NCT02474940', 'NCT03420339', 'NCT00478296', 'NCT00534508', 'NCT03195907', 'NCT00176696', 'NCT02741024', 'NCT03338530', 'NCT04688463', 'NCT03389568', 'NCT00498719', 'NCT04019054', 'NCT04831645']\n"
     ]
    },
    {
     "name": "stderr",
     "output_type": "stream",
     "text": [
      " 64%|██████▍   | 48/75 [00:16<00:08,  3.16it/s]"
     ]
    },
    {
     "name": "stdout",
     "output_type": "stream",
     "text": [
      " Time taken to retrieve semantic search: 4 ms\n",
      "  Query 48: Stage 2 retrieved re-ranked docs ['NCT02464839', 'NCT01110330', 'NCT03745183', 'NCT00856596', 'NCT03814343', 'NCT03902262', 'NCT04841239', 'NCT01614379', 'NCT00534508', 'NCT03149692'] Precision@10: 0.2000, Recall@10: 0.0417, F1@10: 0.0690, AP: 0.5000, nDCG@10: 0.3070, MRR@10=0.5000\n",
      "    Total time for query: 0.29 seconds\n",
      "Time taken to retrieve lexical search): 40 ms\n",
      "Query 49 Stage 1 retrieved docs: ['NCT01944475', 'NCT02638922', 'NCT00870220', 'NCT04803474', 'NCT01893047', 'NCT02564848', 'NCT00001521', 'NCT02429349', 'NCT03477240', 'NCT00494169', 'NCT04831099', 'NCT01901666', 'NCT04329715', 'NCT00182078', 'NCT02109952', 'NCT03704649', 'NCT01428089', 'NCT04568005', 'NCT00006110', 'NCT02546193', 'NCT04244123', 'NCT00799214', 'NCT02700776', 'NCT00433680', 'NCT03264612', 'NCT02414529', 'NCT03040375', 'NCT02379728', 'NCT00121875', 'NCT01077154', 'NCT04559620', 'NCT01109849', 'NCT01599975', 'NCT02948491', 'NCT01891149', 'NCT03158805', 'NCT00254592', 'NCT04701034', 'NCT04661098', 'NCT01309919', 'NCT01367834', 'NCT03529955', 'NCT00102258', 'NCT03336203', 'NCT03395756', 'NCT00086359', 'NCT04447872', 'NCT04476485', 'NCT01853748', 'NCT00878826', 'NCT03005561', 'NCT03008824', 'NCT03422809', 'NCT02492347', 'NCT01775501', 'NCT04189926', 'NCT01604031', 'NCT02124070', 'NCT02598531', 'NCT00367627', 'NCT02771496', 'NCT00021671', 'NCT00029159', 'NCT04233632', 'NCT00001190', 'NCT04614142', 'NCT04761419', 'NCT02595255', 'NCT04471285', 'NCT03980717', 'NCT00001343', 'NCT01254851', 'NCT00399529', 'NCT04798248', 'NCT03420339', 'NCT00307125', 'NCT02088866', 'NCT03203863', 'NCT01979471', 'NCT00110695', 'NCT00252603', 'NCT02447159', 'NCT00953420', 'NCT02491320', 'NCT01907334', 'NCT00572858', 'NCT00194610', 'NCT03212079', 'NCT00881660', 'NCT01723943', 'NCT02190448', 'NCT00498719', 'NCT03280849', 'NCT01553318', 'NCT04808726', 'NCT00050167', 'NCT00006334', 'NCT03109808', 'NCT00502177', 'NCT04349241']\n"
     ]
    },
    {
     "name": "stderr",
     "output_type": "stream",
     "text": [
      " 65%|██████▌   | 49/75 [00:17<00:07,  3.27it/s]"
     ]
    },
    {
     "name": "stdout",
     "output_type": "stream",
     "text": [
      " Time taken to retrieve semantic search: 6 ms\n",
      "  Query 49: Stage 2 retrieved re-ranked docs ['NCT00001343', 'NCT00029159', 'NCT00006334', 'NCT00870220', 'NCT01367834', 'NCT04803474', 'NCT04831099', 'NCT00121875', 'NCT02638922', 'NCT00494169'] Precision@10: 0.5000, Recall@10: 0.1429, F1@10: 0.2222, AP: 0.6833, nDCG@10: 0.6326, MRR@10=1.0000\n",
      "    Total time for query: 0.28 seconds\n",
      "Time taken to retrieve lexical search): 70 ms\n",
      "Query 50 Stage 1 retrieved docs: ['NCT01812109', 'NCT04528381', 'NCT03291678', 'NCT03858127', 'NCT03902262', 'NCT02158780', 'NCT04761419', 'NCT02936024', 'NCT02361788', 'NCT04452305', 'NCT03040375', 'NCT01785680', 'NCT03008824', 'NCT04189926', 'NCT04067596', 'NCT04017286', 'NCT01206270', 'NCT02110745', 'NCT02625688', 'NCT00367627', 'NCT00754806', 'NCT04559620', 'NCT04374292', 'NCT02492347', 'NCT04801121', 'NCT01974011', 'NCT04142099', 'NCT04062747', 'NCT02419339', 'NCT02249624', 'NCT01429402', 'NCT04826952', 'NCT00563264', 'NCT00198718', 'NCT02378233', 'NCT01333995', 'NCT00776789', 'NCT04285437', 'NCT04087239', 'NCT04015986', 'NCT03301753', 'NCT03149692', 'NCT03763383', 'NCT02948491', 'NCT03545204', 'NCT02749474', 'NCT04632888', 'NCT02068872', 'NCT04185766', 'NCT03745365', 'NCT04643262', 'NCT03084120', 'NCT04541069', 'NCT02398344', 'NCT04856735', 'NCT03092011', 'NCT00295464', 'NCT04688463', 'NCT02504749', 'NCT00388141', 'NCT02182973', 'NCT01273584', 'NCT04015999', 'NCT02449850', 'NCT00663988', 'NCT04368611', 'NCT02989142', 'NCT00096291', 'NCT02653937', 'NCT01304927', 'NCT03031236', 'NCT00992017', 'NCT02414529', 'NCT04531618', 'NCT04676113', 'NCT02380898', 'NCT02768181', 'NCT02379728', 'NCT03634930', 'NCT02741024', 'NCT04435951', 'NCT02491320', 'NCT04594954', 'NCT02225795', 'NCT00422708', 'NCT02320552', 'NCT04618666', 'NCT01096927', 'NCT01944475', 'NCT02762682', 'NCT04369222', 'NCT02498964', 'NCT03123081', 'NCT01715220', 'NCT03149965', 'NCT02999165', 'NCT02785679', 'NCT02434432', 'NCT04804280', 'NCT03997396']\n"
     ]
    },
    {
     "name": "stderr",
     "output_type": "stream",
     "text": [
      " 67%|██████▋   | 50/75 [00:17<00:07,  3.16it/s]"
     ]
    },
    {
     "name": "stdout",
     "output_type": "stream",
     "text": [
      " Time taken to retrieve semantic search: 8 ms\n",
      "  Query 50: Stage 2 retrieved re-ranked docs ['NCT04528381', 'NCT03291678', 'NCT04826952', 'NCT02936024', 'NCT02158780', 'NCT01206270', 'NCT01812109', 'NCT04062747', 'NCT03858127', 'NCT01944475'] Precision@10: 0.2000, Recall@10: 0.1429, F1@10: 0.1667, AP: 1.0000, nDCG@10: 0.4189, MRR@10=1.0000\n",
      "    Total time for query: 0.34 seconds\n",
      "Time taken to retrieve lexical search): 50 ms\n",
      "Query 51 Stage 1 retrieved docs: ['NCT03902262', 'NCT00305227', 'NCT03183531', 'NCT03252028', 'NCT00799214', 'NCT01599975', 'NCT04686318', 'NCT00146731', 'NCT03665779', 'NCT03163394', 'NCT00261807', 'NCT04701034', 'NCT01800799', 'NCT02411916', 'NCT02050529', 'NCT04635007', 'NCT04437810', 'NCT03658356', 'NCT01299948', 'NCT03784794', 'NCT03744988', 'NCT00140517', 'NCT03647631', 'NCT04667195', 'NCT00313365', 'NCT04237181', 'NCT04161521', 'NCT02498964', 'NCT02258763', 'NCT01832233', 'NCT01958073', 'NCT03074552', 'NCT03714165', 'NCT00330993', 'NCT02086994', 'NCT03158805', 'NCT01428089', 'NCT02328040', 'NCT02492347', 'NCT00086359', 'NCT01628900', 'NCT04222088', 'NCT04424940', 'NCT01249222', 'NCT00367627', 'NCT00194974', 'NCT00182078', 'NCT00194610', 'NCT01530178', 'NCT01311102', 'NCT00434564', 'NCT03141372', 'NCT03395756', 'NCT02379728', 'NCT00646308', 'NCT04856254', 'NCT00309114', 'NCT02491320', 'NCT00351520', 'NCT00554996', 'NCT02789579', 'NCT02185456', 'NCT04614142', 'NCT03607929', 'NCT01118988', 'NCT01047800', 'NCT03275090', 'NCT04329715', 'NCT03727412', 'NCT02249273', 'NCT02776202', 'NCT03498794', 'NCT03008824', 'NCT03880305', 'NCT02502747', 'NCT04426435', 'NCT00999427', 'NCT04798248', 'NCT04523454', 'NCT02694393', 'NCT03379961', 'NCT03116009', 'NCT02456662', 'NCT01825408', 'NCT02384200', 'NCT01818557', 'NCT03422809', 'NCT01904864', 'NCT04159870', 'NCT01604031', 'NCT03721146', 'NCT02647671', 'NCT04822090', 'NCT01775501', 'NCT00494624', 'NCT02443259', 'NCT00873522', 'NCT02308735', 'NCT04661371', 'NCT01786018']\n"
     ]
    },
    {
     "name": "stderr",
     "output_type": "stream",
     "text": [
      " 68%|██████▊   | 51/75 [00:17<00:07,  3.24it/s]"
     ]
    },
    {
     "name": "stdout",
     "output_type": "stream",
     "text": [
      " Time taken to retrieve semantic search: 6 ms\n",
      "  Query 51: Stage 2 retrieved re-ranked docs ['NCT03658356', 'NCT01628900', 'NCT04686318', 'NCT03183531', 'NCT04667195', 'NCT03163394', 'NCT02249273', 'NCT03902262', 'NCT03880305', 'NCT03721146'] Precision@10: 0.1000, Recall@10: 0.0357, F1@10: 0.0526, AP: 0.3333, nDCG@10: 0.2581, MRR@10=0.3333\n",
      "    Total time for query: 0.29 seconds\n",
      "Time taken to retrieve lexical search): 60 ms\n",
      "Query 52 Stage 1 retrieved docs: ['NCT02936167', 'NCT00226616', 'NCT00324285', 'NCT03057392', 'NCT01640119', 'NCT00229944', 'NCT00367627', 'NCT01821586', 'NCT00353340', 'NCT03565393', 'NCT01823952', 'NCT02746432', 'NCT04585542', 'NCT04594954', 'NCT01722578', 'NCT00142272', 'NCT02134392', 'NCT02127814', 'NCT00672308', 'NCT04297839', 'NCT03261297', 'NCT00130741', 'NCT04358445', 'NCT03427229', 'NCT01025583', 'NCT02391012', 'NCT03144817', 'NCT02299973', 'NCT01046656', 'NCT04736836', 'NCT03407534', 'NCT03366740', 'NCT00269399', 'NCT03796598', 'NCT04819451', 'NCT03256708', 'NCT03902262', 'NCT01959048', 'NCT01969071', 'NCT03237663', 'NCT01630096', 'NCT03005379', 'NCT00307476', 'NCT00618904', 'NCT04661722', 'NCT02894723', 'NCT01019083', 'NCT02871908', 'NCT02156232', 'NCT04676646', 'NCT03463226', 'NCT00514150', 'NCT03152188', 'NCT01042951', 'NCT00663988', 'NCT01472978', 'NCT03666572', 'NCT01890694', 'NCT03732118', 'NCT04237181', 'NCT04015986', 'NCT02093767', 'NCT02112279', 'NCT02951481', 'NCT04165200', 'NCT03336203', 'NCT04039828', 'NCT03683069', 'NCT02498964', 'NCT02504749', 'NCT04782037', 'NCT02301000', 'NCT02545114', 'NCT03942861', 'NCT01096927', 'NCT00370968', 'NCT01927133', 'NCT04236843', 'NCT03149692', 'NCT02219204', 'NCT00140153', 'NCT00405340', 'NCT01618591', 'NCT02502331', 'NCT04836013', 'NCT03420482', 'NCT02707198', 'NCT03074552', 'NCT03066440', 'NCT02473341', 'NCT04015999', 'NCT00429325', 'NCT02054455', 'NCT00678366', 'NCT03953794', 'NCT04315350', 'NCT01198587', 'NCT01857999', 'NCT01225029', 'NCT01868373']\n"
     ]
    },
    {
     "name": "stderr",
     "output_type": "stream",
     "text": [
      " 69%|██████▉   | 52/75 [00:18<00:07,  3.26it/s]"
     ]
    },
    {
     "name": "stdout",
     "output_type": "stream",
     "text": [
      " Time taken to retrieve semantic search: 4 ms\n",
      "  Query 52: Stage 2 retrieved re-ranked docs ['NCT00229944', 'NCT00142272', 'NCT03237663', 'NCT00226616', 'NCT00324285', 'NCT01042951', 'NCT00429325', 'NCT04782037', 'NCT04237181', 'NCT01618591'] Precision@10: 0.3000, Recall@10: 0.0732, F1@10: 0.1176, AP: 0.6429, nDCG@10: 0.5050, MRR@10=1.0000\n",
      "    Total time for query: 0.30 seconds\n",
      "Time taken to retrieve lexical search): 39 ms\n",
      "Query 53 Stage 1 retrieved docs: ['NCT03336203', 'NCT02802449', 'NCT01332526', 'NCT03565198', 'NCT02498964', 'NCT00172107', 'NCT01354262', 'NCT03158805', 'NCT00974532', 'NCT01323608', 'NCT01707771', 'NCT00146731', 'NCT00724178', 'NCT03283813', 'NCT01311102', 'NCT01249222', 'NCT03477240', 'NCT00785824', 'NCT04579315', 'NCT01528176', 'NCT01385098', 'NCT01944787', 'NCT02638922', 'NCT03607929', 'NCT01309919', 'NCT03948386', 'NCT03415776', 'NCT00222872', 'NCT01891149', 'NCT01135615', 'NCT01775501', 'NCT02018497', 'NCT04676113', 'NCT00359333', 'NCT03672422', 'NCT03994172', 'NCT02860663', 'NCT01546844', 'NCT00182078', 'NCT03422809', 'NCT01821586', 'NCT01530178', 'NCT01428089', 'NCT04825080', 'NCT03305276', 'NCT02490527', 'NCT00563264', 'NCT03001323', 'NCT04329715', 'NCT00878826', 'NCT00799214', 'NCT01770210', 'NCT01640119', 'NCT03399474', 'NCT00828347', 'NCT04364087', 'NCT01118988', 'NCT02429349', 'NCT02168660', 'NCT00066183', 'NCT03902262', 'NCT00381914', 'NCT04424940', 'NCT02492347', 'NCT03154255', 'NCT00816218', 'NCT04359472', 'NCT02340520', 'NCT03836495', 'NCT02897622', 'NCT01818557', 'NCT00827398', 'NCT03665974', 'NCT01604031', 'NCT00764816', 'NCT00849849', 'NCT01417923', 'NCT02414529', 'NCT00177411', 'NCT02130284', 'NCT01130181', 'NCT03846869', 'NCT04360824', 'NCT04701034', 'NCT03802994', 'NCT01300637', 'NCT00868738', 'NCT03189004', 'NCT01932788', 'NCT02387892', 'NCT03116009', 'NCT02546193', 'NCT01979471', 'NCT00377312', 'NCT02746432', 'NCT02179788', 'NCT02291796', 'NCT02563379', 'NCT03008824', 'NCT00194610']\n"
     ]
    },
    {
     "name": "stderr",
     "output_type": "stream",
     "text": [
      " 71%|███████   | 53/75 [00:18<00:06,  3.36it/s]"
     ]
    },
    {
     "name": "stdout",
     "output_type": "stream",
     "text": [
      " Time taken to retrieve semantic search: 4 ms\n",
      "  Query 53: Stage 2 retrieved re-ranked docs ['NCT01130181', 'NCT02490527', 'NCT01417923', 'NCT00828347', 'NCT00377312', 'NCT03336203', 'NCT01323608', 'NCT00222872', 'NCT01135615', 'NCT02802449'] Precision@10: 0.1000, Recall@10: 0.0303, F1@10: 0.0465, AP: 0.3333, nDCG@10: 0.2349, MRR@10=0.3333\n",
      "    Total time for query: 0.28 seconds\n",
      "Time taken to retrieve lexical search): 56 ms\n",
      "Query 54 Stage 1 retrieved docs: ['NCT03902262', 'NCT01249222', 'NCT04119206', 'NCT04380493', 'NCT00859339', 'NCT03283813', 'NCT03665974', 'NCT04595474', 'NCT03548103', 'NCT03336203', 'NCT03154255', 'NCT02085655', 'NCT03001323', 'NCT02936167', 'NCT01732107', 'NCT01707771', 'NCT02638922', 'NCT03183531', 'NCT02749292', 'NCT00439127', 'NCT00625573', 'NCT01146977', 'NCT01524991', 'NCT02365935', 'NCT01408836', 'NCT02498964', 'NCT03784794', 'NCT01927133', 'NCT04482946', 'NCT01215136', 'NCT00234494', 'NCT00260143', 'NCT02746432', 'NCT03200002', 'NCT03836937', 'NCT02018497', 'NCT03182049', 'NCT00312169', 'NCT01034631', 'NCT00948402', 'NCT01660997', 'NCT01572103', 'NCT00212043', 'NCT01804634', 'NCT04267965', 'NCT00522665', 'NCT03782870', 'NCT02361996', 'NCT02500901', 'NCT04316494', 'NCT01530178', 'NCT00614809', 'NCT04346823', 'NCT00194974', 'NCT01880632', 'NCT00373594', 'NCT04554082', 'NCT02050529', 'NCT01252875', 'NCT03099564', 'NCT00893425', 'NCT00455286', 'NCT02101385', 'NCT01428089', 'NCT00351520', 'NCT02232945', 'NCT01332526', 'NCT04297839', 'NCT00201318', 'NCT04236843', 'NCT00149565', 'NCT03385668', 'NCT00479011', 'NCT04399018', 'NCT00262210', 'NCT02860663', 'NCT01969071', 'NCT04232085', 'NCT02265328', 'NCT04680702', 'NCT00816218', 'NCT02805920', 'NCT00220753', 'NCT01177683', 'NCT03590626', 'NCT00353340', 'NCT00072592', 'NCT04861571', 'NCT03396757', 'NCT04594954', 'NCT01048827', 'NCT00498537', 'NCT02215967', 'NCT02607488', 'NCT01832233', 'NCT00405340', 'NCT00615381', 'NCT03238235', 'NCT00417898', 'NCT00430859']\n"
     ]
    },
    {
     "name": "stderr",
     "output_type": "stream",
     "text": [
      " 72%|███████▏  | 54/75 [00:18<00:06,  3.36it/s]"
     ]
    },
    {
     "name": "stdout",
     "output_type": "stream",
     "text": [
      " Time taken to retrieve semantic search: 7 ms\n",
      "  Query 54: Stage 2 retrieved re-ranked docs ['NCT03782870', 'NCT03182049', 'NCT00072592', 'NCT04316494', 'NCT01408836', 'NCT03385668', 'NCT02749292', 'NCT04399018', 'NCT00373594', 'NCT02232945'] Precision@10: 0.2000, Recall@10: 0.0667, F1@10: 0.1000, AP: 0.8333, nDCG@10: 0.4293, MRR@10=1.0000\n",
      "    Total time for query: 0.30 seconds\n",
      "Time taken to retrieve lexical search): 55 ms\n",
      "Query 55 Stage 1 retrieved docs: ['NCT01472874', 'NCT04567797', 'NCT03902262', 'NCT00663988', 'NCT02086994', 'NCT03867526', 'NCT03336203', 'NCT04236843', 'NCT03156517', 'NCT01775501', 'NCT03001050', 'NCT00367627', 'NCT00723567', 'NCT02898922', 'NCT01969071', 'NCT01997255', 'NCT03763383', 'NCT03665974', 'NCT04518969', 'NCT01599975', 'NCT01722578', 'NCT00747591', 'NCT03149692', 'NCT04736836', 'NCT02936167', 'NCT04568005', 'NCT02594904', 'NCT02078167', 'NCT03547895', 'NCT01707771', 'NCT02860663', 'NCT02504749', 'NCT03548103', 'NCT03778060', 'NCT01118988', 'NCT03099993', 'NCT02156232', 'NCT00434564', 'NCT04198246', 'NCT02414529', 'NCT02718586', 'NCT00747864', 'NCT00439127', 'NCT02361788', 'NCT00893425', 'NCT04424940', 'NCT01243996', 'NCT02068872', 'NCT04657562', 'NCT04357119', 'NCT04825119', 'NCT03563625', 'NCT01781507', 'NCT00667498', 'NCT02463019', 'NCT02265328', 'NCT00754806', 'NCT02473341', 'NCT01428089', 'NCT02712346', 'NCT02715154', 'NCT02502747', 'NCT00194597', 'NCT04858074', 'NCT04554082', 'NCT00268060', 'NCT03174782', 'NCT00653874', 'NCT03720639', 'NCT03935633', 'NCT01604031', 'NCT04594954', 'NCT01961219', 'NCT00504010', 'NCT03994172', 'NCT00311987', 'NCT02625688', 'NCT02769000', 'NCT02625272', 'NCT03186742', 'NCT00494624', 'NCT00422708', 'NCT03673085', 'NCT04631094', 'NCT01109849', 'NCT00215787', 'NCT04149314', 'NCT00530179', 'NCT01640119', 'NCT01599546', 'NCT04437810', 'NCT01786018', 'NCT01323608', 'NCT01025583', 'NCT04561804', 'NCT03213717', 'NCT01711229', 'NCT03733171', 'NCT03396757', 'NCT00953420']\n"
     ]
    },
    {
     "name": "stderr",
     "output_type": "stream",
     "text": [
      " 73%|███████▎  | 55/75 [00:19<00:05,  3.36it/s]"
     ]
    },
    {
     "name": "stdout",
     "output_type": "stream",
     "text": [
      " Time taken to retrieve semantic search: 7 ms\n",
      "  Query 55: Stage 2 retrieved re-ranked docs ['NCT03867526', 'NCT01472874', 'NCT01722578', 'NCT04858074', 'NCT04198246', 'NCT03156517', 'NCT03902262', 'NCT03673085', 'NCT04825119', 'NCT01323608'] Precision@10: 0.2000, Recall@10: 0.0870, F1@10: 0.1212, AP: 1.0000, nDCG@10: 0.3590, MRR@10=1.0000\n",
      "    Total time for query: 0.30 seconds\n",
      "Time taken to retrieve lexical search): 44 ms\n",
      "Query 56 Stage 1 retrieved docs: ['NCT02629549', 'NCT03439709', 'NCT00921609', 'NCT00993356', 'NCT01029275', 'NCT00646308', 'NCT03710499', 'NCT00615004', 'NCT00703079', 'NCT00001860', 'NCT04529369', 'NCT00461240', 'NCT02419664', 'NCT03431727', 'NCT01723748', 'NCT03677713', 'NCT02427295', 'NCT03042026', 'NCT04278183', 'NCT00468624', 'NCT01961219', 'NCT03336203', 'NCT03401008', 'NCT00642720', 'NCT00663988', 'NCT02068872', 'NCT03174782', 'NCT02115906', 'NCT03001050', 'NCT00194597', 'NCT01568359', 'NCT00145405', 'NCT03678389', 'NCT03907514', 'NCT01371643', 'NCT00182091', 'NCT02109952', 'NCT01752621', 'NCT00176696', 'NCT03005561', 'NCT03091140', 'NCT01345643', 'NCT01775501', 'NCT00502177', 'NCT03031535', 'NCT00478296', 'NCT03493633', 'NCT03149692', 'NCT03677349', 'NCT03948386', 'NCT02016248', 'NCT00915954', 'NCT01597232', 'NCT02357498', 'NCT03124199', 'NCT04092400', 'NCT00953420', 'NCT03876652', 'NCT03773809', 'NCT04514718', 'NCT04841213', 'NCT01689064', 'NCT01838447', 'NCT00426959', 'NCT01556230', 'NCT04130243', 'NCT02403414', 'NCT04611685', 'NCT04357119', 'NCT00616408', 'NCT03781895', 'NCT02274311', 'NCT01118988', 'NCT00461188', 'NCT04119206', 'NCT01979471', 'NCT00461149', 'NCT02488200', 'NCT01599546', 'NCT02849145', 'NCT04236843', 'NCT01094912', 'NCT04084067', 'NCT04344626', 'NCT00723567', 'NCT01952834', 'NCT02069366', 'NCT00682994', 'NCT03106207', 'NCT03717051', 'NCT04631471', 'NCT02132507', 'NCT03394313', 'NCT01047800', 'NCT03271892', 'NCT02394626', 'NCT03186105', 'NCT03987269', 'NCT02897622', 'NCT01809808']\n"
     ]
    },
    {
     "name": "stderr",
     "output_type": "stream",
     "text": [
      " 75%|███████▍  | 56/75 [00:19<00:05,  3.39it/s]"
     ]
    },
    {
     "name": "stdout",
     "output_type": "stream",
     "text": [
      " Time taken to retrieve semantic search: 9 ms\n",
      "  Query 56: Stage 2 retrieved re-ranked docs ['NCT02427295', 'NCT01809808', 'NCT01029275', 'NCT00921609', 'NCT01371643', 'NCT03439709', 'NCT01723748', 'NCT00993356', 'NCT00182091', 'NCT03710499'] Precision@10: 0.6000, Recall@10: 0.1176, F1@10: 0.1967, AP: 0.7885, nDCG@10: 0.7794, MRR@10=1.0000\n",
      "    Total time for query: 0.29 seconds\n",
      "Time taken to retrieve lexical search): 47 ms\n",
      "Query 57 Stage 1 retrieved docs: ['NCT00799214', 'NCT01893047', 'NCT01775501', 'NCT01859507', 'NCT04559620', 'NCT01717599', 'NCT01891149', 'NCT02492347', 'NCT01309919', 'NCT02429349', 'NCT03422809', 'NCT04701034', 'NCT00182078', 'NCT02155244', 'NCT00667498', 'NCT02546193', 'NCT04808726', 'NCT04329715', 'NCT00133835', 'NCT00857051', 'NCT01624155', 'NCT02109952', 'NCT03264612', 'NCT02379728', 'NCT01311102', 'NCT04586283', 'NCT00046436', 'NCT02538731', 'NCT01907334', 'NCT00194610', 'NCT01979471', 'NCT01118988', 'NCT02099006', 'NCT04026620', 'NCT00330993', 'NCT03008824', 'NCT03336203', 'NCT02753920', 'NCT01803334', 'NCT02308891', 'NCT03395756', 'NCT03259880', 'NCT02069366', 'NCT04368611', 'NCT00572858', 'NCT02088866', 'NCT04614142', 'NCT04537390', 'NCT03851042', 'NCT00878826', 'NCT02414529', 'NCT03008005', 'NCT02700776', 'NCT00176696', 'NCT02982213', 'NCT01687972', 'NCT04471285', 'NCT04233632', 'NCT03750773', 'NCT01335763', 'NCT03477240', 'NCT04798248', 'NCT04329143', 'NCT03907514', 'NCT00682994', 'NCT00953420', 'NCT03717051', 'NCT04373447', 'NCT00498719', 'NCT01599975', 'NCT03948386', 'NCT01520675', 'NCT04801121', 'NCT00433680', 'NCT03212079', 'NCT01047800', 'NCT02498964', 'NCT02510495', 'NCT01604031', 'NCT03529955', 'NCT02110810', 'NCT02119429', 'NCT03379961', 'NCT01109849', 'NCT01425177', 'NCT03007381', 'NCT03940365', 'NCT02422147', 'NCT00252603', 'NCT00924287', 'NCT00086359', 'NCT03665779', 'NCT02185456', 'NCT04573504', 'NCT01946984', 'NCT03980717', 'NCT03607929', 'NCT01929538', 'NCT02897622', 'NCT02447159']\n"
     ]
    },
    {
     "name": "stderr",
     "output_type": "stream",
     "text": [
      " 76%|███████▌  | 57/75 [00:19<00:05,  3.43it/s]"
     ]
    },
    {
     "name": "stdout",
     "output_type": "stream",
     "text": [
      " Time taken to retrieve semantic search: 3 ms\n",
      "  Query 57: Stage 2 retrieved re-ranked docs ['NCT03259880', 'NCT01929538', 'NCT00133835', 'NCT01717599', 'NCT01946984', 'NCT01425177', 'NCT02110810', 'NCT01520675', 'NCT02308891', 'NCT02510495'] Precision@10: 0.3000, Recall@10: 0.0278, F1@10: 0.0508, AP: 0.7000, nDCG@10: 0.4221, MRR@10=1.0000\n",
      "    Total time for query: 0.28 seconds\n",
      "Time taken to retrieve lexical search): 44 ms\n",
      "Query 58 Stage 1 retrieved docs: ['NCT03902262', 'NCT03591419', 'NCT04688463', 'NCT00997516', 'NCT03236961', 'NCT04806789', 'NCT03234296', 'NCT02687464', 'NCT02731924', 'NCT04618666', 'NCT01678365', 'NCT00135603', 'NCT04030741', 'NCT00462020', 'NCT01096927', 'NCT00195923', 'NCT04368611', 'NCT02653937', 'NCT03754387', 'NCT03324165', 'NCT00886210', 'NCT02029781', 'NCT04856735', 'NCT00677989', 'NCT04519086', 'NCT04637022', 'NCT04693156', 'NCT01260064', 'NCT04271826', 'NCT02533869', 'NCT00754806', 'NCT03791229', 'NCT03139383', 'NCT02156947', 'NCT03845608', 'NCT03259880', 'NCT02688244', 'NCT01961219', 'NCT02497183', 'NCT04373447', 'NCT02800785', 'NCT04713527', 'NCT01717599', 'NCT00971438', 'NCT02724410', 'NCT04437043', 'NCT03826446', 'NCT02016248', 'NCT04207645', 'NCT04661371', 'NCT00504010', 'NCT03504878', 'NCT04368195', 'NCT03902678', 'NCT04321902', 'NCT02400580', 'NCT02146521', 'NCT00663988', 'NCT03795194', 'NCT02448862', 'NCT03174782', 'NCT02352519', 'NCT00478296', 'NCT01724996', 'NCT04311385', 'NCT03186105', 'NCT00434564', 'NCT02467959', 'NCT04440150', 'NCT01009450', 'NCT02513173', 'NCT02625272', 'NCT04659265', 'NCT01030614', 'NCT01356641', 'NCT04329143', 'NCT02598531', 'NCT04856254', 'NCT02712216', 'NCT03792802', 'NCT01930747', 'NCT01997658', 'NCT04485247', 'NCT03461536', 'NCT00678366', 'NCT04435951', 'NCT03334955', 'NCT02109952', 'NCT02625987', 'NCT00462241', 'NCT02510638', 'NCT04033198', 'NCT03001050', 'NCT04680923', 'NCT00982540', 'NCT03266419', 'NCT02297711', 'NCT04332627', 'NCT00422708', 'NCT03948386']\n"
     ]
    },
    {
     "name": "stderr",
     "output_type": "stream",
     "text": [
      " 77%|███████▋  | 58/75 [00:19<00:04,  3.45it/s]"
     ]
    },
    {
     "name": "stdout",
     "output_type": "stream",
     "text": [
      " Time taken to retrieve semantic search: 6 ms\n",
      "  Query 58: Stage 2 retrieved re-ranked docs ['NCT03234296', 'NCT03236961', 'NCT04440150', 'NCT04033198', 'NCT03902262', 'NCT00135603', 'NCT00971438', 'NCT04688463', 'NCT02687464', 'NCT01678365'] Precision@10: 0.1000, Recall@10: 0.0182, F1@10: 0.0308, AP: 0.1250, nDCG@10: 0.2830, MRR@10=0.1250\n",
      "    Total time for query: 0.28 seconds\n",
      "Time taken to retrieve lexical search): 42 ms\n",
      "Query 59 Stage 1 retrieved docs: ['NCT01781507', 'NCT02415179', 'NCT00147069', 'NCT01263340', 'NCT01961154', 'NCT00180661', 'NCT03788057', 'NCT02869958', 'NCT01500525', 'NCT03902262', 'NCT00662298', 'NCT03781895', 'NCT02703467', 'NCT00585039', 'NCT01907334', 'NCT01378039', 'NCT00634517', 'NCT02678949', 'NCT03858608', 'NCT03705325', 'NCT03773809', 'NCT04652141', 'NCT04659265', 'NCT01951378', 'NCT04125316', 'NCT02088866', 'NCT01524198', 'NCT01775501', 'NCT00000577', 'NCT03033758', 'NCT03299322', 'NCT04568005', 'NCT00495157', 'NCT01515995', 'NCT04340583', 'NCT01865500', 'NCT00706446', 'NCT03487809', 'NCT04825626', 'NCT02256397', 'NCT00723567', 'NCT04520230', 'NCT00801307', 'NCT03190759', 'NCT00682994', 'NCT01518322', 'NCT03369847', 'NCT00426959', 'NCT01961258', 'NCT04236843', 'NCT00494624', 'NCT03042065', 'NCT02528370', 'NCT00268060', 'NCT03109808', 'NCT02340520', 'NCT02434536', 'NCT04458636', 'NCT00584636', 'NCT04479501', 'NCT01952834', 'NCT00546234', 'NCT00655616', 'NCT02836665', 'NCT00367627', 'NCT00478296', 'NCT03900624', 'NCT00194597', 'NCT02294279', 'NCT01296087', 'NCT02543905', 'NCT01961219', 'NCT02109952', 'NCT01920529', 'NCT03133897', 'NCT00509197', 'NCT03336203', 'NCT00287625', 'NCT03001050', 'NCT00471809', 'NCT00213252', 'NCT01599546', 'NCT04530149', 'NCT03498742', 'NCT01210248', 'NCT00278083', 'NCT00162864', 'NCT03227211', 'NCT02815761', 'NCT04193150', 'NCT04124510', 'NCT03677349', 'NCT04613973', 'NCT03436225', 'NCT00120978', 'NCT02897622', 'NCT00920621', 'NCT04163146', 'NCT00215787', 'NCT03907514']\n"
     ]
    },
    {
     "name": "stderr",
     "output_type": "stream",
     "text": [
      " 79%|███████▊  | 59/75 [00:20<00:04,  3.49it/s]"
     ]
    },
    {
     "name": "stdout",
     "output_type": "stream",
     "text": [
      " Time taken to retrieve semantic search: 3 ms\n",
      "  Query 59: Stage 2 retrieved re-ranked docs ['NCT02415179', 'NCT01500525', 'NCT00585039', 'NCT03788057', 'NCT01515995', 'NCT00509197', 'NCT00634517', 'NCT02340520', 'NCT03498742', 'NCT00278083'] Precision@10: 0.2000, Recall@10: 0.0106, F1@10: 0.0201, AP: 0.8333, nDCG@10: 0.4146, MRR@10=1.0000\n",
      "    Total time for query: 0.28 seconds\n",
      "Time taken to retrieve lexical search): 69 ms\n",
      "Query 60 Stage 1 retrieved docs: ['NCT02524236', 'NCT03902262', 'NCT03784794', 'NCT01249222', 'NCT03976843', 'NCT00625573', 'NCT00138918', 'NCT00972309', 'NCT03163394', 'NCT04119206', 'NCT04529369', 'NCT00381108', 'NCT02428881', 'NCT02006303', 'NCT02746432', 'NCT03183531', 'NCT00450463', 'NCT01732107', 'NCT02623647', 'NCT03846869', 'NCT03383016', 'NCT00426959', 'NCT00325507', 'NCT00030277', 'NCT00564460', 'NCT00596011', 'NCT00522665', 'NCT00439127', 'NCT03891732', 'NCT01969071', 'NCT00030290', 'NCT03283813', 'NCT01800799', 'NCT01034631', 'NCT03503721', 'NCT00583024', 'NCT01657409', 'NCT02649439', 'NCT04237636', 'NCT00252941', 'NCT01826617', 'NCT02016248', 'NCT00353340', 'NCT00002602', 'NCT03238235', 'NCT02731417', 'NCT04044573', 'NCT02260817', 'NCT02283684', 'NCT03665974', 'NCT02225834', 'NCT01048827', 'NCT02733510', 'NCT00292695', 'NCT04364087', 'NCT03339076', 'NCT00615381', 'NCT04100811', 'NCT00311987', 'NCT04715971', 'NCT01428089', 'NCT02190279', 'NCT03846700', 'NCT03805932', 'NCT02678481', 'NCT02600806', 'NCT01524991', 'NCT04070898', 'NCT03154255', 'NCT04234399', 'NCT04751149', 'NCT03007732', 'NCT01736917', 'NCT04699344', 'NCT04340934', 'NCT04143776', 'NCT00195988', 'NCT01176513', 'NCT01252875', 'NCT03471650', 'NCT02543905', 'NCT00455091', 'NCT03104907', 'NCT04490239', 'NCT04410549', 'NCT01660997', 'NCT02189291', 'NCT03344835', 'NCT03318991', 'NCT04206319', 'NCT04514718', 'NCT00893425', 'NCT01733290', 'NCT04087642', 'NCT01604382', 'NCT00723567', 'NCT02869971', 'NCT02676544', 'NCT00242060', 'NCT01385098']\n"
     ]
    },
    {
     "name": "stderr",
     "output_type": "stream",
     "text": [
      " 80%|████████  | 60/75 [00:20<00:04,  3.39it/s]"
     ]
    },
    {
     "name": "stdout",
     "output_type": "stream",
     "text": [
      " Time taken to retrieve semantic search: 6 ms\n",
      "  Query 60: Stage 2 retrieved re-ranked docs ['NCT02524236', 'NCT03104907', 'NCT00564460', 'NCT00381108', 'NCT04529369', 'NCT02283684', 'NCT00596011', 'NCT02006303', 'NCT02260817', 'NCT03503721'] Precision@10: 0.6000, Recall@10: 0.0403, F1@10: 0.0755, AP: 0.7750, nDCG@10: 0.6752, MRR@10=1.0000\n",
      "    Total time for query: 0.31 seconds\n",
      "Time taken to retrieve lexical search): 40 ms\n",
      "Query 61 Stage 1 retrieved docs: ['NCT04697043', 'NCT01501487', 'NCT04500262', 'NCT00103181', 'NCT00003830', 'NCT03647631', 'NCT03812393', 'NCT04225858', 'NCT03412643', 'NCT01509963', 'NCT03188393', 'NCT01391806', 'NCT00233974', 'NCT04252859', 'NCT02221999', 'NCT04349527', 'NCT01560663', 'NCT03358017', 'NCT00280202', 'NCT02067052', 'NCT02295033', 'NCT04476485', 'NCT03273348', 'NCT03185988', 'NCT01334021', 'NCT04430595', 'NCT04567420', 'NCT04450706', 'NCT00128362', 'NCT04293796', 'NCT00970983', 'NCT04551495', 'NCT01872975', 'NCT00507611', 'NCT01984866', 'NCT04296942', 'NCT04046159', 'NCT03975855', 'NCT00130533', 'NCT04362462', 'NCT04457700', 'NCT03630653', 'NCT02464774', 'NCT01674140', 'NCT01009437', 'NCT02897700', 'NCT00881361', 'NCT03843346', 'NCT03820830', 'NCT04651257', 'NCT00799214', 'NCT00254592', 'NCT04012918', 'NCT02651844', 'NCT04478669', 'NCT00003519', 'NCT03101683', 'NCT03917082', 'NCT01275677', 'NCT01372618', 'NCT02335957', 'NCT01853748', 'NCT04266249', 'NCT02954874', 'NCT00014612', 'NCT00399529', 'NCT02610920', 'NCT04498611', 'NCT04504916', 'NCT04249440', 'NCT02347449', 'NCT04065321', 'NCT03236974', 'NCT04109079', 'NCT03381092', 'NCT02056886', 'NCT03830242', 'NCT02700776', 'NCT02564848', 'NCT04360941', 'NCT01928589', 'NCT00265759', 'NCT03640819', 'NCT03628066', 'NCT02750826', 'NCT01564264', 'NCT01774162', 'NCT01813825', 'NCT04488614', 'NCT00003953', 'NCT00200174', 'NCT04032860', 'NCT02765620', 'NCT04522570', 'NCT02003209', 'NCT04671511', 'NCT03049345', 'NCT03148015', 'NCT01901094', 'NCT00378638']\n"
     ]
    },
    {
     "name": "stderr",
     "output_type": "stream",
     "text": [
      " 81%|████████▏ | 61/75 [00:20<00:04,  3.44it/s]"
     ]
    },
    {
     "name": "stdout",
     "output_type": "stream",
     "text": [
      " Time taken to retrieve semantic search: 6 ms\n",
      "  Query 61: Stage 2 retrieved re-ranked docs ['NCT02897700', 'NCT03188393', 'NCT00970983', 'NCT04293796', 'NCT04697043', 'NCT04225858', 'NCT00881361', 'NCT01501487', 'NCT00003953', 'NCT03236974'] Precision@10: 0.1000, Recall@10: 0.0083, F1@10: 0.0154, AP: 0.2000, nDCG@10: 0.1790, MRR@10=0.2000\n",
      "    Total time for query: 0.28 seconds\n",
      "Time taken to retrieve lexical search): 68 ms\n",
      "Query 62 Stage 1 retrieved docs: ['NCT03228459', 'NCT04738864', 'NCT03169257', 'NCT02062554', 'NCT02487615', 'NCT03828422', 'NCT03425383', 'NCT04825080', 'NCT03920683', 'NCT03011775', 'NCT03591523', 'NCT04290767', 'NCT04176978', 'NCT03381534', 'NCT00307307', 'NCT01575249', 'NCT01264419', 'NCT00005372', 'NCT03921827', 'NCT02775318', 'NCT02992301', 'NCT04300686', 'NCT01252875', 'NCT03824002', 'NCT01384721', 'NCT04150315', 'NCT04294316', 'NCT04299971', 'NCT04333173', 'NCT03639545', 'NCT04347434', 'NCT02476396', 'NCT00497094', 'NCT00462475', 'NCT03646019', 'NCT03596437', 'NCT01770210', 'NCT02718586', 'NCT02078167', 'NCT00011258', 'NCT03171285', 'NCT01011517', 'NCT02225834', 'NCT01832233', 'NCT03939351', 'NCT03902262', 'NCT01458860', 'NCT00147251', 'NCT00810550', 'NCT03407989', 'NCT01969071', 'NCT00314002', 'NCT00715273', 'NCT04679727', 'NCT00483925', 'NCT00772278', 'NCT02524106', 'NCT00311987', 'NCT02802072', 'NCT00005189', 'NCT03840265', 'NCT01276678', 'NCT02898896', 'NCT00770276', 'NCT04646252', 'NCT04236232', 'NCT02800174', 'NCT03721523', 'NCT02018497', 'NCT01255852', 'NCT02334826', 'NCT00283335', 'NCT00384618', 'NCT02858102', 'NCT04267835', 'NCT03499496', 'NCT03763383', 'NCT00461240', 'NCT03764306', 'NCT02665585', 'NCT02665104', 'NCT02563379', 'NCT00685464', 'NCT04005222', 'NCT02884141', 'NCT02043054', 'NCT00005479', 'NCT03929354', 'NCT02850588', 'NCT01326676', 'NCT02819479', 'NCT00498238', 'NCT00676247', 'NCT02398734', 'NCT04410549', 'NCT04701242', 'NCT03786666', 'NCT02077023', 'NCT02593487', 'NCT02751307']\n"
     ]
    },
    {
     "name": "stderr",
     "output_type": "stream",
     "text": [
      " 83%|████████▎ | 62/75 [00:21<00:03,  3.36it/s]"
     ]
    },
    {
     "name": "stdout",
     "output_type": "stream",
     "text": [
      " Time taken to retrieve semantic search: 7 ms\n",
      "  Query 62: Stage 2 retrieved re-ranked docs ['NCT00810550', 'NCT04825080', 'NCT03721523', 'NCT02487615', 'NCT00307307', 'NCT02476396', 'NCT03499496', 'NCT00005189', 'NCT03840265', 'NCT01458860'] Precision@10: 0.5000, Recall@10: 0.0769, F1@10: 0.1333, AP: 0.4657, nDCG@10: 0.5469, MRR@10=0.5000\n",
      "    Total time for query: 0.31 seconds\n",
      "Time taken to retrieve lexical search): 49 ms\n",
      "Query 63 Stage 1 retrieved docs: ['NCT04688463', 'NCT03902262', 'NCT02155244', 'NCT03591419', 'NCT00799214', 'NCT01311102', 'NCT03647631', 'NCT04030741', 'NCT00504010', 'NCT03158805', 'NCT02472509', 'NCT01717599', 'NCT02538731', 'NCT00182078', 'NCT01425177', 'NCT00133835', 'NCT02498964', 'NCT02731924', 'NCT02050529', 'NCT00330993', 'NCT04329715', 'NCT01775501', 'NCT02099006', 'NCT01599975', 'NCT02504749', 'NCT03422809', 'NCT02088866', 'NCT03336203', 'NCT01715220', 'NCT04635007', 'NCT03851042', 'NCT01624155', 'NCT03379961', 'NCT04471285', 'NCT01893047', 'NCT03529955', 'NCT03477240', 'NCT04027322', 'NCT04308265', 'NCT01891149', 'NCT04329143', 'NCT01678365', 'NCT02067520', 'NCT00046436', 'NCT04675190', 'NCT01946984', 'NCT02308891', 'NCT01309919', 'NCT01015417', 'NCT00462241', 'NCT02897622', 'NCT04573504', 'NCT04233632', 'NCT04530149', 'NCT00086359', 'NCT03709030', 'NCT01853748', 'NCT04424940', 'NCT02379728', 'NCT03533322', 'NCT02546193', 'NCT01096927', 'NCT01100398', 'NCT03665779', 'NCT00498719', 'NCT03007381', 'NCT02429349', 'NCT03869788', 'NCT01604031', 'NCT01813825', 'NCT03750773', 'NCT00434564', 'NCT00433680', 'NCT02069366', 'NCT01566448', 'NCT02414529', 'NCT04161521', 'NCT00367627', 'NCT04801121', 'NCT04368611', 'NCT03252028', 'NCT04806789', 'NCT03008005', 'NCT02647671', 'NCT04559620', 'NCT00953420', 'NCT02185456', 'NCT02150486', 'NCT01800604', 'NCT02407080', 'NCT03883464', 'NCT02982213', 'NCT04346823', 'NCT02881814', 'NCT00494624', 'NCT04614142', 'NCT02860975', 'NCT03704649', 'NCT01112657', 'NCT03717051']\n"
     ]
    },
    {
     "name": "stderr",
     "output_type": "stream",
     "text": [
      " 84%|████████▍ | 63/75 [00:21<00:03,  3.39it/s]"
     ]
    },
    {
     "name": "stdout",
     "output_type": "stream",
     "text": [
      " Time taken to retrieve semantic search: 3 ms\n",
      "  Query 63: Stage 2 retrieved re-ranked docs ['NCT01425177', 'NCT01015417', 'NCT02472509', 'NCT03709030', 'NCT04675190', 'NCT01100398', 'NCT02155244', 'NCT03533322', 'NCT04308265', 'NCT00133835'] Precision@10: 0.1000, Recall@10: 0.0286, F1@10: 0.0444, AP: 0.1429, nDCG@10: 0.0954, MRR@10=0.1429\n",
      "    Total time for query: 0.29 seconds\n",
      "Time taken to retrieve lexical search): 52 ms\n",
      "Query 64 Stage 1 retrieved docs: ['NCT00361179', 'NCT03702998', 'NCT04032860', 'NCT01750515', 'NCT00164060', 'NCT01500616', 'NCT02060058', 'NCT03283176', 'NCT00188201', 'NCT00189163', 'NCT00842205', 'NCT03612973', 'NCT03461250', 'NCT00117533', 'NCT00225537', 'NCT00154869', 'NCT03641872', 'NCT03965286', 'NCT04768517', 'NCT02457637', 'NCT00275938', 'NCT04356404', 'NCT03356405', 'NCT03090035', 'NCT03014986', 'NCT03341988', 'NCT03144440', 'NCT02734173', 'NCT01927133', 'NCT01443923', 'NCT03547895', 'NCT02597166', 'NCT02057003', 'NCT02959359', 'NCT00977054', 'NCT00164073', 'NCT03693586', 'NCT04674423', 'NCT00502970', 'NCT00160940', 'NCT01360268', 'NCT00466336', 'NCT02733809', 'NCT03200171', 'NCT04035980', 'NCT03296930', 'NCT01074203', 'NCT01766115', 'NCT03993925', 'NCT01605513', 'NCT04718831', 'NCT02461966', 'NCT00980161', 'NCT00489385', 'NCT02898922', 'NCT01872988', 'NCT02361541', 'NCT02669966', 'NCT03520660', 'NCT01383460', 'NCT01018381', 'NCT02275221', 'NCT01350648', 'NCT02265328', 'NCT01747772', 'NCT03987503', 'NCT03791814', 'NCT00951223', 'NCT03149289', 'NCT03794791', 'NCT00845676', 'NCT04405011', 'NCT00380614', 'NCT04535869', 'NCT01185028', 'NCT03420300', 'NCT03163849', 'NCT03241823', 'NCT00586313', 'NCT03721627', 'NCT03902262', 'NCT01722578', 'NCT03158857', 'NCT03687229', 'NCT00001729', 'NCT04622449', 'NCT03740906', 'NCT04588077', 'NCT00466271', 'NCT01953458', 'NCT02483156', 'NCT01293279', 'NCT02628691', 'NCT03343925', 'NCT04071353', 'NCT02124044', 'NCT00751426', 'NCT00149565', 'NCT01918631', 'NCT03155984']\n"
     ]
    },
    {
     "name": "stderr",
     "output_type": "stream",
     "text": [
      " 85%|████████▌ | 64/75 [00:21<00:03,  3.40it/s]"
     ]
    },
    {
     "name": "stdout",
     "output_type": "stream",
     "text": [
      " Time taken to retrieve semantic search: 4 ms\n",
      "  Query 64: Stage 2 retrieved re-ranked docs ['NCT00751426', 'NCT03520660', 'NCT01872988', 'NCT00380614', 'NCT04405011', 'NCT03693586', 'NCT01360268', 'NCT03547895', 'NCT02483156', 'NCT03014986'] Precision@10: 0.2000, Recall@10: 0.0308, F1@10: 0.0533, AP: 0.4500, nDCG@10: 0.2461, MRR@10=0.5000\n",
      "    Total time for query: 0.29 seconds\n",
      "Time taken to retrieve lexical search): 58 ms\n",
      "Query 65 Stage 1 retrieved docs: ['NCT01354262', 'NCT03336203', 'NCT04749693', 'NCT04604223', 'NCT01770210', 'NCT03902262', 'NCT04385589', 'NCT01157923', 'NCT01597232', 'NCT04341571', 'NCT03116009', 'NCT03451734', 'NCT02858102', 'NCT00830297', 'NCT03526536', 'NCT00893425', 'NCT03215914', 'NCT01011517', 'NCT00311987', 'NCT01252875', 'NCT02802449', 'NCT00120289', 'NCT03665974', 'NCT04701242', 'NCT01345643', 'NCT00816218', 'NCT01792830', 'NCT01975194', 'NCT01977417', 'NCT04646252', 'NCT03824002', 'NCT01530178', 'NCT02923323', 'NCT01215136', 'NCT00708981', 'NCT00498537', 'NCT04364087', 'NCT02328040', 'NCT03781895', 'NCT01979471', 'NCT02250794', 'NCT00283335', 'NCT01053026', 'NCT00234494', 'NCT04740333', 'NCT02524106', 'NCT00897975', 'NCT00319202', 'NCT04680702', 'NCT01781507', 'NCT03046693', 'NCT02751307', 'NCT00376870', 'NCT02125682', 'NCT01240070', 'NCT03548103', 'NCT02165566', 'NCT01300637', 'NCT01992809', 'NCT02354079', 'NCT00916643', 'NCT00000461', 'NCT00456963', 'NCT02746432', 'NCT00640757', 'NCT02402803', 'NCT00488033', 'NCT00242944', 'NCT01332526', 'NCT03394313', 'NCT03283813', 'NCT03001323', 'NCT01636427', 'NCT02561845', 'NCT01270191', 'NCT03349840', 'NCT02056847', 'NCT00207519', 'NCT00685464', 'NCT04676113', 'NCT02075567', 'NCT04852510', 'NCT00268060', 'NCT02130284', 'NCT02062554', 'NCT00323973', 'NCT03124199', 'NCT01325818', 'NCT02166372', 'NCT03011775', 'NCT03464682', 'NCT04145804', 'NCT03001050', 'NCT03154255', 'NCT00615381', 'NCT02291796', 'NCT01299012', 'NCT03590626', 'NCT00202904', 'NCT00569504']\n"
     ]
    },
    {
     "name": "stderr",
     "output_type": "stream",
     "text": [
      " 87%|████████▋ | 65/75 [00:22<00:02,  3.39it/s]"
     ]
    },
    {
     "name": "stdout",
     "output_type": "stream",
     "text": [
      " Time taken to retrieve semantic search: 4 ms\n",
      "  Query 65: Stage 2 retrieved re-ranked docs ['NCT00488033', 'NCT02062554', 'NCT04385589', 'NCT01215136', 'NCT01636427', 'NCT01053026', 'NCT00893425', 'NCT03394313', 'NCT01354262', 'NCT00916643'] Precision@10: 0.0000, Recall@10: 0.0000, F1@10: 0.0000, AP: 0.0000, nDCG@10: 0.0000, MRR@10=0.0000\n",
      "    Total time for query: 0.30 seconds\n",
      "Time taken to retrieve lexical search): 41 ms\n",
      "Query 66 Stage 1 retrieved docs: ['NCT03336203', 'NCT03395756', 'NCT03422809', 'NCT00498719', 'NCT01775501', 'NCT04568005', 'NCT04329715', 'NCT04447872', 'NCT03008824', 'NCT00433680', 'NCT02546193', 'NCT02414529', 'NCT00953420', 'NCT03477240', 'NCT00799214', 'NCT04249271', 'NCT00572858', 'NCT03158805', 'NCT02411916', 'NCT04565873', 'NCT00439127', 'NCT02088866', 'NCT04701034', 'NCT04233632', 'NCT04119206', 'NCT00878826', 'NCT03665974', 'NCT00046436', 'NCT03704649', 'NCT01893047', 'NCT02700776', 'NCT01338298', 'NCT00367627', 'NCT03264612', 'NCT02776202', 'NCT00194610', 'NCT00498238', 'NCT01428089', 'NCT03213717', 'NCT02429349', 'NCT02109952', 'NCT00682994', 'NCT02099006', 'NCT01853748', 'NCT01624155', 'NCT01907334', 'NCT04803474', 'NCT01309919', 'NCT03717051', 'NCT03252028', 'NCT02185456', 'NCT03529955', 'NCT00182078', 'NCT01979471', 'NCT00260143', 'NCT03750773', 'NCT02047136', 'NCT03565198', 'NCT04537390', 'NCT01813825', 'NCT01859507', 'NCT00252603', 'NCT03877302', 'NCT00086359', 'NCT01109849', 'NCT03212079', 'NCT02936167', 'NCT03379961', 'NCT04614142', 'NCT04559620', 'NCT03665779', 'NCT02753920', 'NCT00330993', 'NCT01599975', 'NCT01335763', 'NCT00287456', 'NCT04852510', 'NCT02078167', 'NCT03548103', 'NCT03851042', 'NCT04841213', 'NCT03007381', 'NCT03907514', 'NCT01640119', 'NCT01354262', 'NCT01781507', 'NCT04798248', 'NCT04635007', 'NCT03028883', 'NCT00307125', 'NCT03650712', 'NCT02714439', 'NCT02492347', 'NCT01891149', 'NCT01130311', 'NCT04471285', 'NCT00021671', 'NCT00565864', 'NCT00434564', 'NCT03699098']\n"
     ]
    },
    {
     "name": "stderr",
     "output_type": "stream",
     "text": [
      " 88%|████████▊ | 66/75 [00:22<00:02,  3.44it/s]"
     ]
    },
    {
     "name": "stdout",
     "output_type": "stream",
     "text": [
      " Time taken to retrieve semantic search: 3 ms\n",
      "  Query 66: Stage 2 retrieved re-ranked docs ['NCT04249271', 'NCT04852510', 'NCT01428089', 'NCT04565873', 'NCT04803474', 'NCT00498238', 'NCT00565864', 'NCT04537390', 'NCT00439127', 'NCT03422809'] Precision@10: 0.0000, Recall@10: 0.0000, F1@10: 0.0000, AP: 0.0000, nDCG@10: 0.0245, MRR@10=0.0000\n",
      "    Total time for query: 0.28 seconds\n",
      "Time taken to retrieve lexical search): 26 ms\n",
      "Query 67 Stage 1 retrieved docs: ['NCT00799214', 'NCT02714439', 'NCT00933140', 'NCT04798248', 'NCT01624155', 'NCT00046436', 'NCT02477254', 'NCT00201370', 'NCT01309919', 'NCT02113514', 'NCT03422809', 'NCT01550783', 'NCT02546193', 'NCT01599975', 'NCT04026620', 'NCT04233632', 'NCT00182078', 'NCT01891149', 'NCT03837028', 'NCT04772937', 'NCT02957747', 'NCT04614142', 'NCT04783805', 'NCT02099006', 'NCT00367627', 'NCT02700776', 'NCT03109808', 'NCT03984695', 'NCT04523454', 'NCT00252603', 'NCT01924117', 'NCT03647631', 'NCT01813825', 'NCT03477240', 'NCT03466710', 'NCT00443313', 'NCT01311102', 'NCT02629133', 'NCT04568005', 'NCT00857051', 'NCT01723943', 'NCT01825408', 'NCT01853748', 'NCT04471285', 'NCT03395756', 'NCT04057924', 'NCT00003384', 'NCT01530061', 'NCT04329715', 'NCT02492347', 'NCT02328872', 'NCT00433680', 'NCT03252028', 'NCT04266275', 'NCT00001560', 'NCT00788164', 'NCT04128033', 'NCT03118258', 'NCT01893047', 'NCT01453114', 'NCT03478397', 'NCT00330993', 'NCT00898144', 'NCT02776202', 'NCT04671823', 'NCT03379961', 'NCT02503111', 'NCT01781507', 'NCT02414529', 'NCT03195218', 'NCT02069366', 'NCT03324009', 'NCT01859507', 'NCT04701034', 'NCT00091130', 'NCT03008005', 'NCT00006444', 'NCT03212079', 'NCT03239041', 'NCT01775501', 'NCT03345875', 'NCT01254851', 'NCT04776616', 'NCT02088866', 'NCT03907514', 'NCT01299714', 'NCT04553068', 'NCT00529464', 'NCT00498719', 'NCT02982213', 'NCT03665779', 'NCT02481414', 'NCT04808726', 'NCT03264612', 'NCT03539614', 'NCT04587050', 'NCT01112657', 'NCT03478163', 'NCT01029990', 'NCT02346227']\n"
     ]
    },
    {
     "name": "stderr",
     "output_type": "stream",
     "text": [
      " 89%|████████▉ | 67/75 [00:22<00:02,  3.49it/s]"
     ]
    },
    {
     "name": "stdout",
     "output_type": "stream",
     "text": [
      " Time taken to retrieve semantic search: 7 ms\n",
      "  Query 67: Stage 2 retrieved re-ranked docs ['NCT00091130', 'NCT03837028', 'NCT00201370', 'NCT01550783', 'NCT00006444', 'NCT01924117', 'NCT00003384', 'NCT04587050', 'NCT04057924', 'NCT04671823'] Precision@10: 0.2000, Recall@10: 0.0333, F1@10: 0.0571, AP: 0.3095, nDCG@10: 0.3366, MRR@10=0.3333\n",
      "    Total time for query: 0.28 seconds\n",
      "Time taken to retrieve lexical search): 50 ms\n",
      "Query 68 Stage 1 retrieved docs: ['NCT02205541', 'NCT01593514', 'NCT03263403', 'NCT00503165', 'NCT02811120', 'NCT04381858', 'NCT04132375', 'NCT04822090', 'NCT00723567', 'NCT03902262', 'NCT02464891', 'NCT01722578', 'NCT01604031', 'NCT00288600', 'NCT04236843', 'NCT04461340', 'NCT04725812', 'NCT00429156', 'NCT03269292', 'NCT00661557', 'NCT04457349', 'NCT02398396', 'NCT01257269', 'NCT00901940', 'NCT00663988', 'NCT00367627', 'NCT02156232', 'NCT01303211', 'NCT03401710', 'NCT00000574', 'NCT03721146', 'NCT04149314', 'NCT00479011', 'NCT02689986', 'NCT02414529', 'NCT01640119', 'NCT04500067', 'NCT01221181', 'NCT04570397', 'NCT01345643', 'NCT02881814', 'NCT01597232', 'NCT03001050', 'NCT00268060', 'NCT03001739', 'NCT02904863', 'NCT03200002', 'NCT01856205', 'NCT03271671', 'NCT03078712', 'NCT01519388', 'NCT00592618', 'NCT04317222', 'NCT04604223', 'NCT00390143', 'NCT03802994', 'NCT04570254', 'NCT04668404', 'NCT03130517', 'NCT00426686', 'NCT02336516', 'NCT03580941', 'NCT04699513', 'NCT02625688', 'NCT03336203', 'NCT02836899', 'NCT02449863', 'NCT02114112', 'NCT01433003', 'NCT04375709', 'NCT04845022', 'NCT04349241', 'NCT04659265', 'NCT01119482', 'NCT00842621', 'NCT03607357', 'NCT00498537', 'NCT01599975', 'NCT04708925', 'NCT01243996', 'NCT00830284', 'NCT04348877', 'NCT00478296', 'NCT04620629', 'NCT04518969', 'NCT02752906', 'NCT04568005', 'NCT00593892', 'NCT00092937', 'NCT03252028', 'NCT03744988', 'NCT04794088', 'NCT04575610', 'NCT02457637', 'NCT02936167', 'NCT00058812', 'NCT02191839', 'NCT02829450', 'NCT01952834', 'NCT04613973']\n"
     ]
    },
    {
     "name": "stderr",
     "output_type": "stream",
     "text": [
      " 91%|█████████ | 68/75 [00:22<00:02,  3.44it/s]"
     ]
    },
    {
     "name": "stdout",
     "output_type": "stream",
     "text": [
      " Time taken to retrieve semantic search: 9 ms\n",
      "  Query 68: Stage 2 retrieved re-ranked docs ['NCT00901940', 'NCT03721146', 'NCT02205541', 'NCT00390143', 'NCT03263403', 'NCT01257269', 'NCT02904863', 'NCT02464891', 'NCT00661557', 'NCT02752906'] Precision@10: 0.2000, Recall@10: 0.0465, F1@10: 0.0755, AP: 0.1964, nDCG@10: 0.2544, MRR@10=0.1429\n",
      "    Total time for query: 0.30 seconds\n",
      "Time taken to retrieve lexical search): 36 ms\n",
      "Query 69 Stage 1 retrieved docs: ['NCT01599975', 'NCT01775501', 'NCT00799214', 'NCT00182078', 'NCT02099006', 'NCT01813825', 'NCT01781507', 'NCT03477240', 'NCT04329715', 'NCT00367627', 'NCT01109849', 'NCT01853748', 'NCT02088866', 'NCT03422809', 'NCT02546193', 'NCT02069366', 'NCT03008005', 'NCT02700776', 'NCT03379961', 'NCT00046436', 'NCT01893047', 'NCT03336203', 'NCT02109952', 'NCT01604031', 'NCT00953420', 'NCT00498719', 'NCT03264612', 'NCT00330993', 'NCT02414529', 'NCT04701034', 'NCT03529955', 'NCT00878826', 'NCT04233632', 'NCT04559620', 'NCT02492347', 'NCT00682994', 'NCT02047136', 'NCT00433680', 'NCT01624155', 'NCT01254851', 'NCT03851042', 'NCT02316444', 'NCT01800604', 'NCT02474940', 'NCT00252603', 'NCT01309919', 'NCT02185456', 'NCT02411916', 'NCT02776202', 'NCT04798248', 'NCT03212079', 'NCT03395756', 'NCT03158805', 'NCT04471285', 'NCT00667498', 'NCT02647671', 'NCT02119429', 'NCT03243188', 'NCT00293735', 'NCT00361933', 'NCT04614142', 'NCT02142491', 'NCT01112657', 'NCT02429349', 'NCT03980717', 'NCT03008824', 'NCT00881660', 'NCT03357042', 'NCT01047800', 'NCT02897622', 'NCT01311102', 'NCT00857051', 'NCT01907334', 'NCT04826614', 'NCT03478163', 'NCT01761331', 'NCT00021671', 'NCT04703647', 'NCT03773809', 'NCT00950482', 'NCT02948491', 'NCT00194610', 'NCT01723943', 'NCT01453114', 'NCT04447872', 'NCT02358876', 'NCT00287456', 'NCT03420339', 'NCT03252028', 'NCT01891149', 'NCT03007381', 'NCT04808232', 'NCT02714439', 'NCT04056442', 'NCT04359472', 'NCT03717051', 'NCT02847689', 'NCT02982213', 'NCT01242878', 'NCT03907514']\n"
     ]
    },
    {
     "name": "stderr",
     "output_type": "stream",
     "text": [
      " 92%|█████████▏| 69/75 [00:23<00:01,  3.46it/s]"
     ]
    },
    {
     "name": "stdout",
     "output_type": "stream",
     "text": [
      " Time taken to retrieve semantic search: 9 ms\n",
      "  Query 69: Stage 2 retrieved re-ranked docs ['NCT02142491', 'NCT02316444', 'NCT00361933', 'NCT04614142', 'NCT00953420', 'NCT01604031', 'NCT02700776', 'NCT02776202', 'NCT03529955', 'NCT01775501'] Precision@10: 0.0000, Recall@10: 0.0000, F1@10: 0.0000, AP: 0.0000, nDCG@10: 0.0000, MRR@10=0.0000\n",
      "    Total time for query: 0.28 seconds\n",
      "Time taken to retrieve lexical search): 75 ms\n",
      "Query 70 Stage 1 retrieved docs: ['NCT00799214', 'NCT01775501', 'NCT04329715', 'NCT00182078', 'NCT00330993', 'NCT04701034', 'NCT01599975', 'NCT01624155', 'NCT02700776', 'NCT02099006', 'NCT01311102', 'NCT02546193', 'NCT03529955', 'NCT03422809', 'NCT01853748', 'NCT00433680', 'NCT04614142', 'NCT02088866', 'NCT03477240', 'NCT02069366', 'NCT00498719', 'NCT02047136', 'NCT02647671', 'NCT00367627', 'NCT01109849', 'NCT02185456', 'NCT03336203', 'NCT04559620', 'NCT03008005', 'NCT04233632', 'NCT01309919', 'NCT04826614', 'NCT03906214', 'NCT01891149', 'NCT03717051', 'NCT01893047', 'NCT00682994', 'NCT03389568', 'NCT02414529', 'NCT04423055', 'NCT00086359', 'NCT03212079', 'NCT01979471', 'NCT02598531', 'NCT03158805', 'NCT03665779', 'NCT00953420', 'NCT02897622', 'NCT01604031', 'NCT00046436', 'NCT01813825', 'NCT00857051', 'NCT00667498', 'NCT03379961', 'NCT03888495', 'NCT01723943', 'NCT04798248', 'NCT01781507', 'NCT03264612', 'NCT02429349', 'NCT00878826', 'NCT02492347', 'NCT04700059', 'NCT01907334', 'NCT02753920', 'NCT00572858', 'NCT04359472', 'NCT03395756', 'NCT03357042', 'NCT03243188', 'NCT02776202', 'NCT04568005', 'NCT03851042', 'NCT02982213', 'NCT03008824', 'NCT01803334', 'NCT02109952', 'NCT03980717', 'NCT03704649', 'NCT00504010', 'NCT01859507', 'NCT01254851', 'NCT04537390', 'NCT00881660', 'NCT02379728', 'NCT03877302', 'NCT03647631', 'NCT01453114', 'NCT01800604', 'NCT03750773', 'NCT00502177', 'NCT03773809', 'NCT02190448', 'NCT00176696', 'NCT00293735', 'NCT00252603', 'NCT00194610', 'NCT01335763', 'NCT04471285', 'NCT03141372']\n"
     ]
    },
    {
     "name": "stderr",
     "output_type": "stream",
     "text": [
      " 93%|█████████▎| 70/75 [00:23<00:01,  3.37it/s]"
     ]
    },
    {
     "name": "stdout",
     "output_type": "stream",
     "text": [
      " Time taken to retrieve semantic search: 4 ms\n",
      "  Query 70: Stage 2 retrieved re-ranked docs ['NCT04826614', 'NCT01800604', 'NCT01453114', 'NCT00682994', 'NCT01723943', 'NCT01599975', 'NCT02897622', 'NCT00667498', 'NCT04568005', 'NCT03243188'] Precision@10: 0.1000, Recall@10: 0.0091, F1@10: 0.0167, AP: 1.0000, nDCG@10: 0.2568, MRR@10=1.0000\n",
      "    Total time for query: 0.32 seconds\n",
      "Time taken to retrieve lexical search): 46 ms\n",
      "Query 71 Stage 1 retrieved docs: ['NCT03336203', 'NCT03422809', 'NCT00799214', 'NCT03158805', 'NCT00433680', 'NCT01109849', 'NCT02546193', 'NCT04329715', 'NCT03529955', 'NCT02776202', 'NCT01624155', 'NCT00367627', 'NCT01893047', 'NCT00330993', 'NCT02088866', 'NCT04233632', 'NCT03477240', 'NCT03478163', 'NCT02429349', 'NCT02099006', 'NCT02598531', 'NCT00046436', 'NCT01428089', 'NCT01300637', 'NCT01781507', 'NCT01599975', 'NCT01309919', 'NCT01775501', 'NCT03907514', 'NCT02109952', 'NCT01979471', 'NCT00182078', 'NCT00878826', 'NCT01818557', 'NCT04749693', 'NCT01813825', 'NCT03665779', 'NCT01853748', 'NCT00498719', 'NCT04798248', 'NCT04568005', 'NCT03704649', 'NCT04701034', 'NCT02069366', 'NCT03526536', 'NCT04423055', 'NCT02414529', 'NCT03906214', 'NCT01907334', 'NCT01930747', 'NCT04646252', 'NCT02700776', 'NCT03357042', 'NCT04614142', 'NCT00857051', 'NCT00252603', 'NCT04559620', 'NCT01707771', 'NCT01891149', 'NCT03851042', 'NCT03008005', 'NCT02379728', 'NCT03750773', 'NCT00667498', 'NCT00953420', 'NCT00682994', 'NCT01723943', 'NCT02047136', 'NCT03717051', 'NCT01311102', 'NCT03141372', 'NCT02751307', 'NCT04635007', 'NCT02185456', 'NCT01944787', 'NCT00293735', 'NCT01254851', 'NCT04471285', 'NCT02982213', 'NCT02411916', 'NCT01048827', 'NCT03784703', 'NCT02492347', 'NCT00504010', 'NCT03379961', 'NCT04056442', 'NCT02647671', 'NCT03109808', 'NCT01859507', 'NCT03008824', 'NCT02498964', 'NCT00405340', 'NCT03152474', 'NCT02897622', 'NCT02119429', 'NCT00146731', 'NCT01640119', 'NCT03212079', 'NCT03264612', 'NCT00194610']\n"
     ]
    },
    {
     "name": "stderr",
     "output_type": "stream",
     "text": [
      " 95%|█████████▍| 71/75 [00:23<00:01,  3.40it/s]"
     ]
    },
    {
     "name": "stdout",
     "output_type": "stream",
     "text": [
      " Time taken to retrieve semantic search: 3 ms\n",
      "  Query 71: Stage 2 retrieved re-ranked docs ['NCT02598531', 'NCT00667498', 'NCT01707771', 'NCT02119429', 'NCT04329715', 'NCT03526536', 'NCT03158805', 'NCT04646252', 'NCT01254851', 'NCT02414529'] Precision@10: 0.1000, Recall@10: 0.0075, F1@10: 0.0140, AP: 0.3333, nDCG@10: 0.1100, MRR@10=0.3333\n",
      "    Total time for query: 0.29 seconds\n",
      "Time taken to retrieve lexical search): 44 ms\n",
      "Query 72 Stage 1 retrieved docs: ['NCT00799214', 'NCT03336203', 'NCT01428089', 'NCT01775501', 'NCT04614142', 'NCT04701034', 'NCT01853748', 'NCT03529955', 'NCT03902262', 'NCT01599975', 'NCT00182078', 'NCT02776202', 'NCT00367627', 'NCT02746432', 'NCT00293735', 'NCT02099006', 'NCT01893047', 'NCT00046436', 'NCT02088866', 'NCT02429349', 'NCT00252603', 'NCT02546193', 'NCT04329715', 'NCT04233632', 'NCT03478163', 'NCT01624155', 'NCT04568005', 'NCT03477240', 'NCT01891149', 'NCT03422809', 'NCT02069366', 'NCT01818557', 'NCT02411916', 'NCT01781507', 'NCT01813825', 'NCT01979471', 'NCT00878826', 'NCT00330993', 'NCT02109952', 'NCT03805932', 'NCT03008005', 'NCT02185456', 'NCT00667498', 'NCT04798248', 'NCT00086359', 'NCT00292695', 'NCT00433680', 'NCT00455091', 'NCT03158805', 'NCT00953420', 'NCT03704649', 'NCT02700776', 'NCT03395756', 'NCT00682994', 'NCT04447872', 'NCT00194610', 'NCT01048827', 'NCT00625573', 'NCT01309919', 'NCT03212079', 'NCT03565198', 'NCT01736917', 'NCT00172107', 'NCT03665779', 'NCT04471285', 'NCT01604031', 'NCT03572998', 'NCT01524991', 'NCT00654563', 'NCT04012918', 'NCT03141372', 'NCT01907334', 'NCT03109808', 'NCT02647671', 'NCT03116009', 'NCT03243188', 'NCT03252028', 'NCT00498719', 'NCT01640119', 'NCT02492347', 'NCT02498964', 'NCT01269008', 'NCT00494624', 'NCT03008824', 'NCT04646252', 'NCT01311102', 'NCT00307125', 'NCT01112657', 'NCT03717051', 'NCT03907514', 'NCT03784794', 'NCT00146731', 'NCT02753920', 'NCT03379961', 'NCT02414529', 'NCT00405340', 'NCT02491320', 'NCT01997255', 'NCT00373594', 'NCT04559620']\n"
     ]
    },
    {
     "name": "stderr",
     "output_type": "stream",
     "text": [
      " 96%|█████████▌| 72/75 [00:24<00:00,  3.43it/s]"
     ]
    },
    {
     "name": "stdout",
     "output_type": "stream",
     "text": [
      " Time taken to retrieve semantic search: 3 ms\n",
      "  Query 72: Stage 2 retrieved re-ranked docs ['NCT04471285', 'NCT01112657', 'NCT00667498', 'NCT03529955', 'NCT00878826', 'NCT00405340', 'NCT01736917', 'NCT00373594', 'NCT03902262', 'NCT02776202'] Precision@10: 0.0000, Recall@10: 0.0000, F1@10: 0.0000, AP: 0.0000, nDCG@10: 0.0000, MRR@10=0.0000\n",
      "    Total time for query: 0.29 seconds\n",
      "Time taken to retrieve lexical search): 54 ms\n",
      "Query 73 Stage 1 retrieved docs: ['NCT04380493', 'NCT03283813', 'NCT04119206', 'NCT03057392', 'NCT04385589', 'NCT00706667', 'NCT03099564', 'NCT00353340', 'NCT03154255', 'NCT01969071', 'NCT02085655', 'NCT02746432', 'NCT04297839', 'NCT04736836', 'NCT03665974', 'NCT02638922', 'NCT01834898', 'NCT01640119', 'NCT00859339', 'NCT02594904', 'NCT00606008', 'NCT03463226', 'NCT02467751', 'NCT04595474', 'NCT02625688', 'NCT00373594', 'NCT00893425', 'NCT02265328', 'NCT04349241', 'NCT03117010', 'NCT00216125', 'NCT00312169', 'NCT02443259', 'NCT03876678', 'NCT01225029', 'NCT02936167', 'NCT02894723', 'NCT03336203', 'NCT02361788', 'NCT03863626', 'NCT01880632', 'NCT03970668', 'NCT01660997', 'NCT01048827', 'NCT01215136', 'NCT00479011', 'NCT04237636', 'NCT02034279', 'NCT03607929', 'NCT01252875', 'NCT03272217', 'NCT03569254', 'NCT04159870', 'NCT00212043', 'NCT00172107', 'NCT00201318', 'NCT01385098', 'NCT04364087', 'NCT03349840', 'NCT03451734', 'NCT02988999', 'NCT01707771', 'NCT00380614', 'NCT04565873', 'NCT03317210', 'NCT00685464', 'NCT01428089', 'NCT00893932', 'NCT02718586', 'NCT00262210', 'NCT00692224', 'NCT04358445', 'NCT00114543', 'NCT04482946', 'NCT02056756', 'NCT04554082', 'NCT03784794', 'NCT01243996', 'NCT00234494', 'NCT03001323', 'NCT04445675', 'NCT03295162', 'NCT00324285', 'NCT03570775', 'NCT03066440', 'NCT03547895', 'NCT04791397', 'NCT01927133', 'NCT02460653', 'NCT00615381', 'NCT04676646', 'NCT01857999', 'NCT02473341', 'NCT00530179', 'NCT03846869', 'NCT00311987', 'NCT00430859', 'NCT03981328', 'NCT00986765', 'NCT02545114']\n"
     ]
    },
    {
     "name": "stderr",
     "output_type": "stream",
     "text": [
      " 97%|█████████▋| 73/75 [00:24<00:00,  3.40it/s]"
     ]
    },
    {
     "name": "stdout",
     "output_type": "stream",
     "text": [
      " Time taken to retrieve semantic search: 3 ms\n",
      "  Query 73: Stage 2 retrieved re-ranked docs ['NCT02625688', 'NCT03569254', 'NCT03570775', 'NCT00114543', 'NCT00692224', 'NCT02361788', 'NCT04445675', 'NCT02594904', 'NCT03876678', 'NCT03295162'] Precision@10: 0.2000, Recall@10: 0.1000, F1@10: 0.1333, AP: 0.3333, nDCG@10: 0.3412, MRR@10=0.3333\n",
      "    Total time for query: 0.30 seconds\n",
      "Time taken to retrieve lexical search): 55 ms\n",
      "Query 74 Stage 1 retrieved docs: ['NCT00306046', 'NCT03902262', 'NCT00685971', 'NCT00381914', 'NCT00747994', 'NCT04364724', 'NCT03928730', 'NCT02603042', 'NCT02439112', 'NCT01430793', 'NCT02309047', 'NCT00222872', 'NCT01640119', 'NCT03721497', 'NCT00464295', 'NCT03994172', 'NCT04783974', 'NCT00373594', 'NCT01153568', 'NCT04303026', 'NCT03336203', 'NCT00785824', 'NCT02802384', 'NCT01062230', 'NCT00724178', 'NCT02078531', 'NCT00578344', 'NCT02387892', 'NCT03344835', 'NCT01476501', 'NCT02622607', 'NCT00392093', 'NCT00172107', 'NCT02232945', 'NCT01784393', 'NCT01048177', 'NCT02681250', 'NCT01417923', 'NCT04841213', 'NCT01842048', 'NCT04273490', 'NCT00108394', 'NCT02414529', 'NCT03113994', 'NCT01171430', 'NCT02776202', 'NCT03401060', 'NCT03647631', 'NCT01641757', 'NCT00751140', 'NCT02109952', 'NCT00149565', 'NCT04380493', 'NCT04841239', 'NCT00212043', 'NCT04119206', 'NCT01944475', 'NCT04674423', 'NCT03056144', 'NCT01859234', 'NCT00663988', 'NCT02429349', 'NCT02429232', 'NCT00608400', 'NCT03763383', 'NCT01900860', 'NCT04424940', 'NCT00147823', 'NCT00078026', 'NCT00586014', 'NCT00424619', 'NCT01757158', 'NCT01932931', 'NCT04661098', 'NCT00153933', 'NCT03356522', 'NCT01892644', 'NCT02001051', 'NCT04718246', 'NCT00311987', 'NCT04661371', 'NCT02365935', 'NCT02321280', 'NCT03264131', 'NCT04584840', 'NCT00580281', 'NCT00177411', 'NCT04018287', 'NCT03649932', 'NCT00405340', 'NCT01575249', 'NCT01927133', 'NCT04708483', 'NCT00682214', 'NCT00206375', 'NCT02265328', 'NCT00733538', 'NCT00359333', 'NCT00858819', 'NCT01839851']\n"
     ]
    },
    {
     "name": "stderr",
     "output_type": "stream",
     "text": [
      " 99%|█████████▊| 74/75 [00:24<00:00,  3.40it/s]"
     ]
    },
    {
     "name": "stdout",
     "output_type": "stream",
     "text": [
      " Time taken to retrieve semantic search: 3 ms\n",
      "  Query 74: Stage 2 retrieved re-ranked docs ['NCT00306046', 'NCT00747994', 'NCT02802384', 'NCT00108394', 'NCT02603042', 'NCT00222872', 'NCT04273490', 'NCT00580281', 'NCT04018287', 'NCT00172107'] Precision@10: 0.3000, Recall@10: 0.2727, F1@10: 0.2857, AP: 1.0000, nDCG@10: 0.4690, MRR@10=1.0000\n",
      "    Total time for query: 0.29 seconds\n",
      "Time taken to retrieve lexical search): 42 ms\n",
      "Query 75 Stage 1 retrieved docs: ['NCT04236843', 'NCT03987269', 'NCT01775501', 'NCT01599546', 'NCT03336203', 'NCT04568005', 'NCT02088866', 'NCT02543905', 'NCT02109952', 'NCT03001050', 'NCT00654563', 'NCT00682994', 'NCT01907334', 'NCT00478296', 'NCT03279991', 'NCT01952834', 'NCT00367627', 'NCT02069366', 'NCT00723567', 'NCT01599975', 'NCT02414529', 'NCT02488200', 'NCT01722578', 'NCT02474940', 'NCT03876652', 'NCT01961219', 'NCT01800604', 'NCT03008005', 'NCT03773809', 'NCT04659265', 'NCT02358876', 'NCT04825626', 'NCT03109808', 'NCT03907514', 'NCT01109849', 'NCT00498719', 'NCT00667498', 'NCT00975546', 'NCT00426959', 'NCT01781507', 'NCT03493633', 'NCT03212079', 'NCT02897622', 'NCT03732118', 'NCT01882855', 'NCT00042159', 'NCT00194597', 'NCT02012816', 'NCT03585257', 'NCT02066649', 'NCT03717051', 'NCT03520855', 'NCT02156232', 'NCT01604031', 'NCT03781895', 'NCT00215787', 'NCT01345643', 'NCT03902262', 'NCT02016248', 'NCT03677349', 'NCT01700829', 'NCT03149692', 'NCT03124199', 'NCT01118988', 'NCT04858074', 'NCT01110447', 'NCT01141751', 'NCT01047800', 'NCT03357042', 'NCT04592094', 'NCT00663988', 'NCT04654845', 'NCT03420339', 'NCT01335763', 'NCT03379961', 'NCT01846806', 'NCT04342520', 'NCT04024085', 'NCT04567797', 'NCT00005536', 'NCT00686920', 'NCT02050347', 'NCT02771496', 'NCT00268060', 'NCT00953420', 'NCT00092937', 'NCT00176696', 'NCT00227877', 'NCT04703647', 'NCT01601262', 'NCT02047136', 'NCT00058812', 'NCT00504010', 'NCT04815330', 'NCT03327974', 'NCT04613973', 'NCT04092400', 'NCT03796598', 'NCT04019054', 'NCT00182078']\n"
     ]
    },
    {
     "name": "stderr",
     "output_type": "stream",
     "text": [
      "100%|██████████| 75/75 [00:24<00:00,  3.01it/s]"
     ]
    },
    {
     "name": "stdout",
     "output_type": "stream",
     "text": [
      " Time taken to retrieve semantic search: 3 ms\n",
      "  Query 75: Stage 2 retrieved re-ranked docs ['NCT04858074', 'NCT02358876', 'NCT03876652', 'NCT03585257', 'NCT03732118', 'NCT01599975', 'NCT03420339', 'NCT01601262', 'NCT01722578', 'NCT00654563'] Precision@10: 0.2000, Recall@10: 0.0142, F1@10: 0.0265, AP: 0.3500, nDCG@10: 0.2758, MRR@10=0.5000\n",
      "    Total time for query: 0.29 seconds\n",
      "\n",
      "--- Overall Evaluation (BM25LW and Semantic) ---\n",
      "Mean Precision@10: 0.2320\n",
      "Mean Recall@10: 0.0410\n",
      "Mean F1@10: 0.0635\n",
      "Mean Average Precision (MAP): 0.4704\n",
      "Mean nDCG@10: 0.3475\n",
      "Mean MRR@10: 0.5388\n",
      "Average total time per query: 0.33 seconds\n",
      "Metrics successfully exported to BM25LW_and_sentence_embedding.xlsx\n",
      "\n",
      "Metrics have been exported to evaluation_results_BM25LW_and_sentence_embeddings.xlsx\n"
     ]
    },
    {
     "name": "stderr",
     "output_type": "stream",
     "text": [
      "\n"
     ]
    }
   ],
   "source": [
    "\"\"\"\n",
    "Zuveir Jameer\n",
    "8 April 2025\n",
    "BM25 and reranking with sentence enbeddings\n",
    "\n",
    "\"\"\"\n",
    "\n",
    "import json\n",
    "import numpy as np\n",
    "from elasticsearch import Elasticsearch\n",
    "from tqdm import tqdm\n",
    "import time\n",
    "import pandas as pd\n",
    "from datetime import datetime\n",
    "\n",
    "#Evaluation Metric Functions\n",
    "def precision_at_k(re_ranked_docs, relevant_docs, k):\n",
    "    top_k_docs = re_ranked_docs[:k]\n",
    "    num_relevant_in_k = sum(1 for doc in top_k_docs \n",
    "                            if doc in relevant_docs and relevant_docs[doc] > 0)\n",
    "    return num_relevant_in_k / k if k else 0.0\n",
    "\n",
    "def recall_at_k(re_ranked_docs, relevant_docs, k):\n",
    "    top_k_docs = re_ranked_docs[:k]\n",
    "    total_relevant = sum(1 for doc, rel in relevant_docs.items() if rel > 0)\n",
    "    if total_relevant == 0:\n",
    "        return 0.0\n",
    "    num_relevant_in_k = sum(1 for doc in top_k_docs \n",
    "                            if doc in relevant_docs and relevant_docs[doc] > 0)\n",
    "    return num_relevant_in_k / total_relevant\n",
    "\n",
    "def f1_at_k(re_ranked_docs, relevant_docs, k):\n",
    "    p = precision_at_k(re_ranked_docs, relevant_docs, k)\n",
    "    r = recall_at_k(re_ranked_docs, relevant_docs, k)\n",
    "    if (p + r) == 0:\n",
    "        return 0.0\n",
    "    return 2 * (p * r) / (p + r)\n",
    "\n",
    "def average_precision(re_ranked_docs, relevant_docs):\n",
    "    if not relevant_docs:\n",
    "        return 0.0\n",
    "    \n",
    "    relevant_indices = [\n",
    "        i for i, doc in enumerate(re_ranked_docs)\n",
    "        if doc in relevant_docs and relevant_docs[doc] > 0\n",
    "    ]\n",
    "    if not relevant_indices:\n",
    "        return 0.0\n",
    "    \n",
    "    ap_sum = 0.0\n",
    "    for idx, rank_pos in enumerate(relevant_indices, start=1):\n",
    "        prec = precision_at_k(re_ranked_docs, relevant_docs, rank_pos+1)\n",
    "        ap_sum += prec\n",
    "    return ap_sum / len(relevant_indices)\n",
    "\n",
    "def ndcg_at_k(re_ranked_docs, relevant_docs, k):\n",
    "    def dcg(scores):\n",
    "        return sum(( (2**s - 1) / np.log2(idx + 2)) for idx, s in enumerate(scores))\n",
    "    \n",
    "    top_k_docs = re_ranked_docs[:k]\n",
    "    actual_scores = [relevant_docs[doc] if doc in relevant_docs else 0 for doc in top_k_docs]\n",
    "    actual_dcg = dcg(actual_scores)\n",
    "    \n",
    "    sorted_rels = sorted(relevant_docs.values(), reverse=True)[:k]\n",
    "    ideal_dcg = dcg(sorted_rels)\n",
    "    \n",
    "    if ideal_dcg == 0:\n",
    "        return 0.0\n",
    "    return actual_dcg / ideal_dcg\n",
    "\n",
    "def mrr_at_k(re_ranked_docs, relevant_docs, k):\n",
    "    for i, doc_id in enumerate(re_ranked_docs[:k], start=1):\n",
    "        if doc_id in relevant_docs and relevant_docs[doc_id] > 0:\n",
    "            return 1.0 / i\n",
    "    return 0.0\n",
    "\n",
    "# Load queries and qrels from JSONL files\n",
    "def load_jsonl(filepath):\n",
    "    data = {}\n",
    "    with open(filepath, \"r\") as f:\n",
    "        for line in f:\n",
    "            entry = json.loads(line)\n",
    "            key = entry[\"query_id\"]\n",
    "            if \"text\" in entry:\n",
    "                data[key] = entry[\"text\"].strip()\n",
    "            else:\n",
    "                if key not in data:\n",
    "                    data[key] = {}\n",
    "                data[key][entry[\"doc_id\"]] = int(entry.get(\"relevance\", 0))\n",
    "    return data\n",
    "\n",
    "# Stage 1: initial candidate retrieval based on text fields.\n",
    "def initial_candidate_retrieval(query_text, candidate_size=500):\n",
    "    initial_body = {\n",
    "        \"query\": {\n",
    "            \"multi_match\": {\n",
    "                \"query\": query_text,\n",
    "                \"fields\": [\"title\", \"summary\", \"detailed_descrption^2\"]\n",
    "            }\n",
    "        }\n",
    "    }\n",
    "    response = es.search(index=\"ir_dev_sentence_index\", body=initial_body, size=candidate_size)\n",
    "    print(\"Time taken to retrieve lexical search): {} ms\".format(response[\"took\"]))\n",
    "    condidate_docs = [hit[\"_source\"][\"doc_id\"] for hit in response[\"hits\"][\"hits\"]]\n",
    "    candidate_ids = [hit[\"_id\"] for hit in response[\"hits\"][\"hits\"]]\n",
    "    return candidate_ids, condidate_docs\n",
    "\n",
    "# Stage 2: vector re-ranking on the candidate set.\n",
    "def vector_re_ranking(query_text, candidate_ids, top_k=50):\n",
    "    query_vector = get_embedding(query_text)\n",
    "    vector_query_body = {\n",
    "        \"query\": {\n",
    "            \"script_score\": {\n",
    "                \"query\": {\n",
    "                    \"bool\": {\n",
    "                        \"filter\": [\n",
    "                            {\"ids\": {\"values\": candidate_ids}},\n",
    "                            {\"exists\": {\"field\": \"detailed_descrption_vector_1\"}}\n",
    "                        ]\n",
    "                    }\n",
    "                },\n",
    "                \"script\": {\n",
    "                    \"source\": \"cosineSimilarity(params.query_vector, 'detailed_descrption_vector_1') + 1.0\",\n",
    "                    \"params\": {\"query_vector\": query_vector}\n",
    "                }\n",
    "            }\n",
    "        }\n",
    "    }\n",
    "    response = es.search(index=\"ir_dev_sentence_index\", body=vector_query_body, size=top_k)\n",
    "    print(\" Time taken to retrieve semantic search: {} ms\".format(response[\"took\"]))\n",
    "    return [hit[\"_source\"][\"doc_id\"] for hit in response[\"hits\"][\"hits\"]]\n",
    "\n",
    "# Load queries and qrels\n",
    "queries = load_jsonl(\"trec_ct_2021_query.jsonl\")\n",
    "qrels = load_jsonl(\"trec_ct_2021_qrels.jsonl\")  # Structure: {query_id: {doc_id: relevance, ...}, ...}\n",
    "\n",
    "# Set the threshold. e.g onsider any document with relevance >= threshold as relevant for evaluation\n",
    "RELEVANCE_THRESHOLD = 2\n",
    "\n",
    "def get_relevant_docs(qrel_dict, threshold=1):\n",
    "    return {doc_id: rel for doc_id, rel in qrel_dict.items() if rel >= threshold}\n",
    "\n",
    "# For ndcg calculation\n",
    "def get_all_docs(qrel_dict):\n",
    "    \"\"\"Return the entire dictionary of {doc_id: relevance}, including relevance=0.\"\"\"\n",
    "    return {doc_id: rel for doc_id, rel in qrel_dict.items()}\n",
    "\n",
    "# Evaluation loop.\n",
    "INITIAL_SET=100\n",
    "K = 10  # top K for evaluation\n",
    "all_metrics = []\n",
    "\n",
    "print(\"Processing queries and computing evaluation metrics...\")\n",
    "for qid, query_text in tqdm(queries.items(), total=len(queries)):\n",
    "    if not query_text:\n",
    "        continue\n",
    "\n",
    "    #Track total time\n",
    "    start_time = time.time()\n",
    "\n",
    "    # Stage 1: retrieve candidate document IDs.\n",
    "    candidate_ids, candidate_docs = initial_candidate_retrieval(query_text, candidate_size=INITIAL_SET)\n",
    "    print(f\"Query {qid} Stage 1 retrieved docs: {candidate_docs}\")\n",
    "    # Stage 2: re-rank candidates via vector search.\n",
    "    retrieved_docs = vector_re_ranking(query_text, candidate_ids, top_k=K)\n",
    "    \n",
    "    # Mark the end time for entire query processing\n",
    "    total_time = time.time() - start_time\n",
    "\n",
    "    # Get relevant docs for this query from qrels using the relevance threshold for evaluation\n",
    "    relevant_docs = get_relevant_docs(qrels.get(qid, {}), threshold=RELEVANCE_THRESHOLD)\n",
    "    \n",
    "    #All docs retrieved (i.e no threshold) to compute nDCG based on graded relevance 0,1,2\n",
    "    ndcg_relevant_docs = get_all_docs(qrels.get(qid, {}))\n",
    "\n",
    "    # Compute evaluation measures using our functions.\n",
    "    prec = precision_at_k(retrieved_docs, relevant_docs, K)\n",
    "    rec = recall_at_k(retrieved_docs, relevant_docs, K)\n",
    "    f1 = f1_at_k(retrieved_docs, relevant_docs, K)\n",
    "    ap = average_precision(retrieved_docs, relevant_docs)\n",
    "    ndcg = ndcg_at_k(retrieved_docs, ndcg_relevant_docs, K)\n",
    "    mrr_val = mrr_at_k(retrieved_docs, relevant_docs, K)\n",
    "\n",
    "    metrics = {\n",
    "        \"query_id\": qid,\n",
    "        \"precision\": prec,\n",
    "        \"recall\": rec,\n",
    "        \"f1\": f1,\n",
    "        \"average_precision\": ap,\n",
    "        \"ndcg\": ndcg,\n",
    "        \"mrr\": mrr_val,\n",
    "        \"time_seconds\": total_time\n",
    "    }\n",
    "    all_metrics.append(metrics)\n",
    "    \n",
    "    print(f\"  Query {qid}: Stage 2 retrieved re-ranked docs {retrieved_docs} Precision@{K}: {prec:.4f}, Recall@{K}: {rec:.4f}, F1@{K}: {f1:.4f}, AP: {ap:.4f}, nDCG@{K}: {ndcg:.4f}, MRR@{K}={mrr_val:.4f}\")\n",
    "    print(f\"    Total time for query: {total_time:.2f} seconds\")\n",
    "\n",
    "# Compute overall evaluation metrics.\n",
    "if all_metrics:\n",
    "    avg_precision = np.mean([m[\"precision\"] for m in all_metrics])\n",
    "    avg_recall = np.mean([m[\"recall\"] for m in all_metrics])\n",
    "    avg_f1 = np.mean([m[\"f1\"] for m in all_metrics])\n",
    "    mean_ap = np.mean([m[\"average_precision\"] for m in all_metrics])\n",
    "    mean_ndcg = np.mean([m[\"ndcg\"] for m in all_metrics])\n",
    "    mean_mrr = np.mean([m[\"mrr\"] for m in all_metrics])\n",
    "    avg_time = np.mean([m[\"time_seconds\"] for m in all_metrics])\n",
    "    \n",
    "    print(\"\\n--- Overall Evaluation (BM25LW and Semantic) ---\")\n",
    "    current_time = datetime.now().strftime(\"%Y-%m-%d %H:%M:%S\")\n",
    "    print(f\"Mean Precision@{K}: {avg_precision:.4f}\")\n",
    "    print(f\"Mean Recall@{K}: {avg_recall:.4f}\")\n",
    "    print(f\"Mean F1@{K}: {avg_f1:.4f}\")\n",
    "    print(f\"Mean Average Precision (MAP): {mean_ap:.4f}\")\n",
    "    print(f\"Mean nDCG@{K}: {mean_ndcg:.4f}\")\n",
    "    print(f\"Mean MRR@{K}: {mean_mrr:.4f}\")\n",
    "    print(f\"Average total time per query: {avg_time:.2f} seconds\")\n",
    "else:\n",
    "    print(\"No queries processed.\")\n",
    "\n",
    "# Create a DataFrame to export\n",
    "data = {\n",
    "    \"Test\": \"BM25LW+Sent.Emd.\",\n",
    "    \"Date/Time\": [current_time],\n",
    "    \"Relevance Threshold\": [RELEVANCE_THRESHOLD],\n",
    "    f\"Mean Precision@{K}\": [avg_precision],\n",
    "    f\"Mean Recall@{K}\": [avg_recall],\n",
    "    f\"Mean F1@{K}\": [avg_f1],\n",
    "    \"Mean Average Precision (MAP)\": [mean_ap],\n",
    "    f\"Mean nDCG@{K}\": [mean_ndcg],\n",
    "    f\"Mean MRR@{K}\": [mean_mrr],\n",
    "    \"Avg Time per Query (s)\": [avg_time],\n",
    "}\n",
    "\n",
    "df = pd.DataFrame(all_metrics)\n",
    "df = df[[\n",
    "    \"query_id\",\n",
    "    \"precision\",\n",
    "    \"recall\",\n",
    "    \"f1\",\n",
    "    \"average_precision\",\n",
    "    \"ndcg\",\n",
    "    \"mrr\",\n",
    "    \"time_seconds\"\n",
    "]]\n",
    "# Export to Excel\n",
    "output_file = \"BM25LW_and_sentence_embedding.xlsx\"\n",
    "df.to_excel(output_file, index=False)\n",
    "print(f\"Metrics successfully exported to {output_file}\")\n",
    "\n",
    "# Export final computed results\n",
    "\n",
    "df_data = pd.DataFrame(data)\n",
    "# Export to an Excel file\n",
    "xlsx_filename = \"evaluation_results_BM25LW_and_sentence_embeddings.xlsx\"\n",
    "df_data.to_excel(xlsx_filename, index=False)\n",
    "\n",
    "print(f\"\\nMetrics have been exported to {xlsx_filename}\")"
   ]
  },
  {
   "cell_type": "markdown",
   "metadata": {},
   "source": [
    "### Bi-encoder and Cross-encoding on selected documents based on precision"
   ]
  },
  {
   "cell_type": "code",
   "execution_count": null,
   "metadata": {},
   "outputs": [
    {
     "name": "stdout",
     "output_type": "stream",
     "text": [
      "Loaded 75 queries\n",
      "Loaded qrels for 75 queries\n",
      "Processing queries and retrieving documents...\n"
     ]
    },
    {
     "name": "stderr",
     "output_type": "stream",
     "text": [
      "  0%|          | 0/75 [00:00<?, ?it/s]/var/folders/b3/59dkzgnj0zxdhdx31d2ztm000000gn/T/ipykernel_54942/2646809909.py:145: DeprecationWarning: Received 'size' via a specific parameter in the presence of a 'body' parameter, which is deprecated and will be removed in a future version. Instead, use only 'body' or only specific parameters.\n",
      "  response = es.search(index=\"ir_dev_sentence_index\", body=search_body, size=K)\n",
      "  1%|▏         | 1/75 [00:00<00:19,  3.86it/s]"
     ]
    },
    {
     "name": "stdout",
     "output_type": "stream",
     "text": [
      "Query 1 Stage 1 retrieved docs: ['NCT00003470', 'NCT01502241', 'NCT00003537', 'NCT00003621', 'NCT00003471', 'NCT00004259', 'NCT00783393', 'NCT00003775', 'NCT03906448', 'NCT00033280', 'NCT02755987', 'NCT00028795', 'NCT03633552', 'NCT00841555', 'NCT00003375', 'NCT00473408', 'NCT00002569', 'NCT00003465', 'NCT00360828', 'NCT03022578']\n",
      "Query 1: Bi-encoder precision is high (0.4000), skipping cross-encoder re-ranking\n",
      "  Query 1 stage 2 retrieved (after processing): ['NCT00003470', 'NCT01502241', 'NCT00003537', 'NCT00003621', 'NCT00003471', 'NCT00004259', 'NCT00783393', 'NCT00003775', 'NCT03906448', 'NCT00033280', 'NCT02755987', 'NCT00028795', 'NCT03633552', 'NCT00841555', 'NCT00003375', 'NCT00473408', 'NCT00002569', 'NCT00003465', 'NCT00360828', 'NCT03022578']\n",
      "   Query 1 metrics: Precision@10: 0.4000, Recall@10: 0.0851, F1@10: 0.1404, AP: 0.8042, nDCG@10: 0.6502, MRR@10=1.0000\n",
      "    Total time for query: 0.26 seconds\n",
      "Query 2 Stage 1 retrieved docs: ['NCT03628313', 'NCT02753023', 'NCT02395107', 'NCT03332745', 'NCT01157572', 'NCT02010177', 'NCT04061213', 'NCT03863132', 'NCT02792452', 'NCT00590135', 'NCT02531581', 'NCT04140019', 'NCT01980797', 'NCT01575249', 'NCT00624884', 'NCT02316587', 'NCT04344353', 'NCT02344199', 'NCT03867708', 'NCT04144725']\n",
      "Query 2: Bi-encoder precision is low (0.3000), applying cross-encoder re-ranking\n"
     ]
    },
    {
     "name": "stderr",
     "output_type": "stream",
     "text": [
      "/var/folders/b3/59dkzgnj0zxdhdx31d2ztm000000gn/T/ipykernel_54942/2646809909.py:159: DeprecationWarning: Received 'size' via a specific parameter in the presence of a 'body' parameter, which is deprecated and will be removed in a future version. Instead, use only 'body' or only specific parameters.\n",
      "  response = es.search(index=\"ir_dev_sentence_index\", body=query, size=1)\n",
      "  3%|▎         | 2/75 [00:01<00:59,  1.22it/s]"
     ]
    },
    {
     "name": "stdout",
     "output_type": "stream",
     "text": [
      "  Query 2 stage 2 retrieved (after processing): ['NCT03628313', 'NCT01980797', 'NCT00590135', 'NCT02316587', 'NCT02395107', 'NCT02344199', 'NCT02531581', 'NCT02792452', 'NCT03863132', 'NCT04344353', 'NCT00624884', 'NCT01575249', 'NCT02010177', 'NCT04140019', 'NCT02753023', 'NCT01157572', 'NCT04144725', 'NCT03867708']\n",
      "   Query 2 metrics: Precision@10: 0.4000, Recall@10: 0.0290, F1@10: 0.0541, AP: 0.7069, nDCG@10: 0.6045, MRR@10=1.0000\n",
      "    Total time for query: 1.21 seconds\n",
      "Query 3 Stage 1 retrieved docs: ['NCT03995823', 'NCT02098252', 'NCT04569279', 'NCT00363662', 'NCT04329208', 'NCT01158807', 'NCT02394678', 'NCT04037267', 'NCT03532165', 'NCT03291652', 'NCT04572568', 'NCT04567277', 'NCT02775318', 'NCT03150524', 'NCT03691870', 'NCT00235248', 'NCT03477188', 'NCT00029315', 'NCT03676868', 'NCT01856699']\n",
      "Query 3: Bi-encoder precision is low (0.3000), applying cross-encoder re-ranking\n"
     ]
    },
    {
     "name": "stderr",
     "output_type": "stream",
     "text": [
      "  4%|▍         | 3/75 [00:02<01:02,  1.15it/s]"
     ]
    },
    {
     "name": "stdout",
     "output_type": "stream",
     "text": [
      "  Query 3 stage 2 retrieved (after processing): ['NCT02098252', 'NCT03150524', 'NCT02394678', 'NCT00029315', 'NCT03291652', 'NCT03995823', 'NCT00235248', 'NCT04567277', 'NCT03477188', 'NCT02775318', 'NCT04569279', 'NCT04037267', 'NCT00363662', 'NCT03532165', 'NCT01856699', 'NCT04329208', 'NCT04572568', 'NCT01158807']\n",
      "   Query 3 metrics: Precision@10: 0.2000, Recall@10: 0.0625, F1@10: 0.0952, AP: 0.4498, nDCG@10: 0.3668, MRR@10=1.0000\n",
      "    Total time for query: 0.93 seconds\n",
      "Query 4 Stage 1 retrieved docs: ['NCT02012088', 'NCT01009970', 'NCT00577798', 'NCT02776891', 'NCT00392834', 'NCT03995147', 'NCT00689845', 'NCT01786018', 'NCT04759586', 'NCT01359592', 'NCT00486759', 'NCT03697512', 'NCT01046825', 'NCT00040690', 'NCT01390584', 'NCT01856192', 'NCT04112238', 'NCT00003337', 'NCT00455286', 'NCT00944567']\n",
      "Query 4: Bi-encoder precision is low (0.0000), applying cross-encoder re-ranking\n"
     ]
    },
    {
     "name": "stderr",
     "output_type": "stream",
     "text": [
      "  5%|▌         | 4/75 [00:03<01:03,  1.11it/s]"
     ]
    },
    {
     "name": "stdout",
     "output_type": "stream",
     "text": [
      "  Query 4 stage 2 retrieved (after processing): ['NCT01786018', 'NCT00392834', 'NCT02012088', 'NCT04759586', 'NCT04112238', 'NCT00455286', 'NCT00577798', 'NCT01390584', 'NCT00040690', 'NCT03697512', 'NCT02776891', 'NCT01359592', 'NCT00689845', 'NCT00003337', 'NCT01046825', 'NCT01856192', 'NCT00486759']\n",
      "   Query 4 metrics: Precision@10: 0.1000, Recall@10: 0.0227, F1@10: 0.0370, AP: 0.1472, nDCG@10: 0.1125, MRR@10=0.1111\n",
      "    Total time for query: 0.94 seconds\n",
      "Query 5 Stage 1 retrieved docs: ['NCT00287508', 'NCT00235248', 'NCT03477188', 'NCT03070067', 'NCT01114815', 'NCT04825080', 'NCT04431609', 'NCT02310191', 'NCT03344276', 'NCT03291652', 'NCT02141932', 'NCT01799070', 'NCT00514592', 'NCT03721523', 'NCT02961127', 'NCT03377465', 'NCT01208025', 'NCT01599195', 'NCT01263301', 'NCT03702244']\n",
      "Query 5: Bi-encoder precision is low (0.3000), applying cross-encoder re-ranking\n"
     ]
    },
    {
     "name": "stderr",
     "output_type": "stream",
     "text": [
      "  7%|▋         | 5/75 [00:04<01:02,  1.12it/s]"
     ]
    },
    {
     "name": "stdout",
     "output_type": "stream",
     "text": [
      "  Query 5 stage 2 retrieved (after processing): ['NCT02961127', 'NCT03721523', 'NCT02310191', 'NCT00235248', 'NCT03477188', 'NCT03344276', 'NCT04825080', 'NCT01114815', 'NCT03377465', 'NCT02141932', 'NCT01263301', 'NCT00287508', 'NCT01599195', 'NCT03291652', 'NCT00514592', 'NCT03070067', 'NCT04431609', 'NCT01799070']\n",
      "   Query 5 metrics: Precision@10: 0.3000, Recall@10: 0.0252, F1@10: 0.0465, AP: 0.3960, nDCG@10: 0.3640, MRR@10=0.5000\n",
      "    Total time for query: 0.89 seconds\n",
      "Query 6 Stage 1 retrieved docs: ['NCT01346059', 'NCT02076438', 'NCT00402727', 'NCT00269399', 'NCT03795233', 'NCT04090346', 'NCT00446355', 'NCT04083443', 'NCT01226992', 'NCT02667418', 'NCT03988855', 'NCT03039777', 'NCT03141775', 'NCT04170309', 'NCT00707213', 'NCT00404625', 'NCT00913042', 'NCT02987790', 'NCT02951481', 'NCT01114165']\n",
      "Query 6: Bi-encoder precision is low (0.3000), applying cross-encoder re-ranking\n"
     ]
    },
    {
     "name": "stderr",
     "output_type": "stream",
     "text": [
      "  8%|▊         | 6/75 [00:05<01:01,  1.12it/s]"
     ]
    },
    {
     "name": "stdout",
     "output_type": "stream",
     "text": [
      "  Query 6 stage 2 retrieved (after processing): ['NCT00269399', 'NCT02076438', 'NCT03039777', 'NCT00446355', 'NCT02667418', 'NCT01114165', 'NCT04170309', 'NCT00404625', 'NCT00913042', 'NCT03141775', 'NCT01346059', 'NCT04090346', 'NCT00707213', 'NCT04083443', 'NCT03795233', 'NCT01226992', 'NCT02987790', 'NCT02951481']\n",
      "   Query 6 metrics: Precision@10: 0.2000, Recall@10: 0.0171, F1@10: 0.0315, AP: 0.5682, nDCG@10: 0.3301, MRR@10=1.0000\n",
      "    Total time for query: 0.90 seconds\n"
     ]
    },
    {
     "name": "stderr",
     "output_type": "stream",
     "text": [
      "  9%|▉         | 7/75 [00:05<00:46,  1.46it/s]"
     ]
    },
    {
     "name": "stdout",
     "output_type": "stream",
     "text": [
      "Query 7 Stage 1 retrieved docs: ['NCT02377947', 'NCT03513900', 'NCT00740142', 'NCT03212872', 'NCT00281502', 'NCT03987893', 'NCT03513887', 'NCT01882855', 'NCT03954327', 'NCT02616705', 'NCT02649335', 'NCT00587197', 'NCT03451292', 'NCT04736836', 'NCT03161106', 'NCT01383460', 'NCT00380614', 'NCT03023189', 'NCT00553423', 'NCT01970748']\n",
      "Query 7: Bi-encoder precision is high (0.5000), skipping cross-encoder re-ranking\n",
      "  Query 7 stage 2 retrieved (after processing): ['NCT02377947', 'NCT03513900', 'NCT00740142', 'NCT03212872', 'NCT00281502', 'NCT03987893', 'NCT03513887', 'NCT01882855', 'NCT03954327', 'NCT02616705', 'NCT02649335', 'NCT00587197', 'NCT03451292', 'NCT04736836', 'NCT03161106', 'NCT01383460', 'NCT00380614', 'NCT03023189', 'NCT00553423', 'NCT01970748']\n",
      "   Query 7 metrics: Precision@10: 0.5000, Recall@10: 0.0400, F1@10: 0.0741, AP: 0.5494, nDCG@10: 0.4616, MRR@10=0.5000\n",
      "    Total time for query: 0.25 seconds\n"
     ]
    },
    {
     "name": "stderr",
     "output_type": "stream",
     "text": [
      " 11%|█         | 8/75 [00:05<00:35,  1.87it/s]"
     ]
    },
    {
     "name": "stdout",
     "output_type": "stream",
     "text": [
      "Query 8 Stage 1 retrieved docs: ['NCT02138786', 'NCT00800943', 'NCT00309881', 'NCT01171378', 'NCT02535286', 'NCT03907670', 'NCT04271956', 'NCT04660045', 'NCT01723839', 'NCT01110850', 'NCT02582320', 'NCT03153514', 'NCT01576588', 'NCT03495492', 'NCT03892044', 'NCT00086840', 'NCT03619512', 'NCT02420912', 'NCT00868478', 'NCT00074282']\n",
      "Query 8: Bi-encoder precision is high (0.6000), skipping cross-encoder re-ranking\n",
      "  Query 8 stage 2 retrieved (after processing): ['NCT02138786', 'NCT00800943', 'NCT00309881', 'NCT01171378', 'NCT02535286', 'NCT03907670', 'NCT04271956', 'NCT04660045', 'NCT01723839', 'NCT01110850', 'NCT02582320', 'NCT03153514', 'NCT01576588', 'NCT03495492', 'NCT03892044', 'NCT00086840', 'NCT03619512', 'NCT02420912', 'NCT00868478', 'NCT00074282']\n",
      "   Query 8 metrics: Precision@10: 0.6000, Recall@10: 0.0652, F1@10: 0.1176, AP: 0.6887, nDCG@10: 0.7386, MRR@10=1.0000\n",
      "    Total time for query: 0.22 seconds\n",
      "Query 9 Stage 1 retrieved docs: ['NCT02365610', 'NCT04153175', 'NCT02899611', 'NCT04542629', 'NCT01126307', 'NCT00056576', 'NCT01991041', 'NCT00165828', 'NCT00013845', 'NCT00236847', 'NCT00520741', 'NCT00236860', 'NCT00236873', 'NCT01392768', 'NCT01332539', 'NCT04513860', 'NCT02369471', 'NCT01393743', 'NCT00236730', 'NCT01284556']\n",
      "Query 9: Bi-encoder precision is low (0.1000), applying cross-encoder re-ranking\n"
     ]
    },
    {
     "name": "stderr",
     "output_type": "stream",
     "text": [
      " 12%|█▏        | 9/75 [00:06<00:43,  1.53it/s]"
     ]
    },
    {
     "name": "stdout",
     "output_type": "stream",
     "text": [
      "  Query 9 stage 2 retrieved (after processing): ['NCT00056576', 'NCT04153175', 'NCT02899611', 'NCT00236860', 'NCT04542629', 'NCT00236873', 'NCT00236847', 'NCT04513860', 'NCT00520741', 'NCT00013845', 'NCT01332539', 'NCT01284556', 'NCT02365610', 'NCT00236730', 'NCT02369471', 'NCT01126307', 'NCT01393743']\n",
      "   Query 9 metrics: Precision@10: 0.1000, Recall@10: 0.0769, F1@10: 0.0870, AP: 0.1000, nDCG@10: 0.3474, MRR@10=0.1000\n",
      "    Total time for query: 0.91 seconds\n",
      "Query 10 Stage 1 retrieved docs: ['NCT03731260', 'NCT00132015', 'NCT00769587', 'NCT02380222', 'NCT00457288', 'NCT03401060', 'NCT00233454', 'NCT03770273', 'NCT04615663', 'NCT00044122', 'NCT00814073', 'NCT02441166', 'NCT02808793', 'NCT00429533', 'NCT02415608', 'NCT03580655', 'NCT01920204', 'NCT01266369', 'NCT01807598', 'NCT00001756']\n",
      "Query 10: Bi-encoder precision is low (0.1000), applying cross-encoder re-ranking\n"
     ]
    },
    {
     "name": "stderr",
     "output_type": "stream",
     "text": [
      " 13%|█▎        | 10/75 [00:07<00:47,  1.38it/s]"
     ]
    },
    {
     "name": "stdout",
     "output_type": "stream",
     "text": [
      "  Query 10 stage 2 retrieved (after processing): ['NCT00814073', 'NCT03770273', 'NCT00044122', 'NCT01920204', 'NCT01807598', 'NCT00233454', 'NCT02441166', 'NCT00457288', 'NCT00429533', 'NCT00132015', 'NCT03401060', 'NCT04615663', 'NCT02415608', 'NCT00001756', 'NCT00769587']\n",
      "   Query 10 metrics: Precision@10: 0.2000, Recall@10: 0.1818, F1@10: 0.1905, AP: 0.3095, nDCG@10: 0.4104, MRR@10=0.3333\n",
      "    Total time for query: 0.89 seconds\n",
      "Query 11 Stage 1 retrieved docs: ['NCT02724176', 'NCT02408887', 'NCT02814032', 'NCT03830242', 'NCT02548715', 'NCT03669432', 'NCT01103557', 'NCT01106443', 'NCT01510002', 'NCT03570021', 'NCT01428167', 'NCT03359668', 'NCT01075269', 'NCT01089335', 'NCT04076514', 'NCT04424485', 'NCT03813706', 'NCT02138214', 'NCT02648399', 'NCT04336696']\n",
      "Query 11: Bi-encoder precision is low (0.0000), applying cross-encoder re-ranking\n"
     ]
    },
    {
     "name": "stderr",
     "output_type": "stream",
     "text": [
      " 15%|█▍        | 11/75 [00:08<00:48,  1.32it/s]"
     ]
    },
    {
     "name": "stdout",
     "output_type": "stream",
     "text": [
      "  Query 11 stage 2 retrieved (after processing): ['NCT03359668', 'NCT03830242', 'NCT02724176', 'NCT01089335', 'NCT02814032', 'NCT01075269', 'NCT02408887', 'NCT04076514', 'NCT04424485', 'NCT01510002', 'NCT01103557', 'NCT01428167', 'NCT02548715', 'NCT04336696', 'NCT03669432', 'NCT02138214']\n",
      "   Query 11 metrics: Precision@10: 0.0000, Recall@10: 0.0000, F1@10: 0.0000, AP: 0.0000, nDCG@10: 0.3333, MRR@10=0.0000\n",
      "    Total time for query: 0.82 seconds\n"
     ]
    },
    {
     "name": "stderr",
     "output_type": "stream",
     "text": [
      " 16%|█▌        | 12/75 [00:08<00:37,  1.67it/s]"
     ]
    },
    {
     "name": "stdout",
     "output_type": "stream",
     "text": [
      "Query 12 Stage 1 retrieved docs: ['NCT01678144', 'NCT04820764', 'NCT04350372', 'NCT04259411', 'NCT04774172', 'NCT02033811', 'NCT04161079', 'NCT03012178', 'NCT04080362', 'NCT02719912', 'NCT03271762', 'NCT03389542', 'NCT03511716', 'NCT04156295', 'NCT03958773', 'NCT03706833', 'NCT04029363', 'NCT01431222', 'NCT00209274', 'NCT01703806']\n",
      "Query 12: Bi-encoder precision is high (0.7000), skipping cross-encoder re-ranking\n",
      "  Query 12 stage 2 retrieved (after processing): ['NCT01678144', 'NCT04820764', 'NCT04350372', 'NCT04259411', 'NCT04774172', 'NCT02033811', 'NCT04161079', 'NCT03012178', 'NCT04080362', 'NCT02719912', 'NCT03271762', 'NCT03389542', 'NCT03511716', 'NCT04156295', 'NCT03958773', 'NCT03706833', 'NCT04029363', 'NCT01431222', 'NCT00209274', 'NCT01703806']\n",
      "   Query 12 metrics: Precision@10: 0.7000, Recall@10: 0.0673, F1@10: 0.1228, AP: 0.7435, nDCG@10: 0.7314, MRR@10=1.0000\n",
      "    Total time for query: 0.24 seconds\n",
      "Query 13 Stage 1 retrieved docs: ['NCT00037921', 'NCT03190421', 'NCT02384200', 'NCT03931408', 'NCT02594631', 'NCT04495699', 'NCT04781985', 'NCT01083979', 'NCT00722735', 'NCT04071340', 'NCT02419339', 'NCT01628900', 'NCT00554996', 'NCT03048682', 'NCT01979042', 'NCT02929160', 'NCT01563796', 'NCT01305681', 'NCT01661621', 'NCT02497781']\n",
      "Query 13: Bi-encoder precision is low (0.0000), applying cross-encoder re-ranking\n"
     ]
    },
    {
     "name": "stderr",
     "output_type": "stream",
     "text": [
      " 17%|█▋        | 13/75 [00:09<00:45,  1.35it/s]"
     ]
    },
    {
     "name": "stdout",
     "output_type": "stream",
     "text": [
      "  Query 13 stage 2 retrieved (after processing): ['NCT00037921', 'NCT01305681', 'NCT01083979', 'NCT00554996', 'NCT01979042', 'NCT01661621', 'NCT03048682', 'NCT04781985', 'NCT02929160', 'NCT03190421', 'NCT02419339', 'NCT03931408', 'NCT01563796', 'NCT02384200', 'NCT02594631', 'NCT04495699', 'NCT02497781', 'NCT01628900', 'NCT04071340', 'NCT00722735']\n",
      "   Query 13 metrics: Precision@10: 0.1000, Recall@10: 0.0185, F1@10: 0.0312, AP: 0.2500, nDCG@10: 0.0948, MRR@10=0.2500\n",
      "    Total time for query: 1.06 seconds\n",
      "Query 14 Stage 1 retrieved docs: ['NCT00380068', 'NCT01707225', 'NCT02062554', 'NCT02657356', 'NCT00004492', 'NCT01165528', 'NCT02279745', 'NCT02691533', 'NCT02275936', 'NCT01972477', 'NCT00938977', 'NCT03229174', 'NCT01215136', 'NCT00993408', 'NCT04501874', 'NCT02268630', 'NCT04782856', 'NCT03451734', 'NCT02627664', 'NCT02441491']\n",
      "Query 14: Bi-encoder precision is low (0.0000), applying cross-encoder re-ranking\n"
     ]
    },
    {
     "name": "stderr",
     "output_type": "stream",
     "text": [
      " 19%|█▊        | 14/75 [00:10<00:48,  1.26it/s]"
     ]
    },
    {
     "name": "stdout",
     "output_type": "stream",
     "text": [
      "  Query 14 stage 2 retrieved (after processing): ['NCT00380068', 'NCT01165528', 'NCT00938977', 'NCT02062554', 'NCT03229174', 'NCT02627664', 'NCT02441491', 'NCT01215136', 'NCT01972477', 'NCT03451734', 'NCT04782856', 'NCT01707225', 'NCT02279745', 'NCT04501874', 'NCT00004492', 'NCT02275936', 'NCT02657356', 'NCT02268630', 'NCT00993408']\n",
      "   Query 14 metrics: Precision@10: 0.1000, Recall@10: 0.0147, F1@10: 0.0256, AP: 0.3333, nDCG@10: 0.1100, MRR@10=0.3333\n",
      "    Total time for query: 0.92 seconds\n",
      "Query 15 Stage 1 retrieved docs: ['NCT03259880', 'NCT01563133', 'NCT02068677', 'NCT02703545', 'NCT01774162', 'NCT03022110', 'NCT01773031', 'NCT00587132', 'NCT03411629', 'NCT02343692', 'NCT03354065', 'NCT02487277', 'NCT02422095', 'NCT03320733', 'NCT01276886', 'NCT01526590', 'NCT01371240', 'NCT04196504', 'NCT04570852', 'NCT03303352']\n",
      "Query 15: Bi-encoder precision is low (0.3000), applying cross-encoder re-ranking\n"
     ]
    },
    {
     "name": "stderr",
     "output_type": "stream",
     "text": [
      " 20%|██        | 15/75 [00:11<00:48,  1.23it/s]"
     ]
    },
    {
     "name": "stdout",
     "output_type": "stream",
     "text": [
      "  Query 15 stage 2 retrieved (after processing): ['NCT03022110', 'NCT02487277', 'NCT00587132', 'NCT03354065', 'NCT03320733', 'NCT02343692', 'NCT03411629', 'NCT04570852', 'NCT02703545', 'NCT01563133', 'NCT01773031', 'NCT01774162', 'NCT04196504', 'NCT03259880', 'NCT02068677', 'NCT01526590', 'NCT02422095', 'NCT03303352']\n",
      "   Query 15 metrics: Precision@10: 0.3000, Recall@10: 0.0210, F1@10: 0.0392, AP: 0.2868, nDCG@10: 0.2980, MRR@10=0.2000\n",
      "    Total time for query: 0.86 seconds\n",
      "Query 16 Stage 1 retrieved docs: ['NCT00517933', 'NCT00946114', 'NCT01441934', 'NCT01936350', 'NCT00145938', 'NCT02435303', 'NCT01043627', 'NCT00795639', 'NCT03460470', 'NCT01726049', 'NCT00380068', 'NCT00454207', 'NCT00763867', 'NCT00793338', 'NCT00302211', 'NCT01449253', 'NCT01616381', 'NCT00303004', 'NCT02060487', 'NCT01365585']\n",
      "Query 16: Bi-encoder precision is low (0.2000), applying cross-encoder re-ranking\n"
     ]
    },
    {
     "name": "stderr",
     "output_type": "stream",
     "text": [
      " 21%|██▏       | 16/75 [00:12<00:47,  1.24it/s]"
     ]
    },
    {
     "name": "stdout",
     "output_type": "stream",
     "text": [
      "  Query 16 stage 2 retrieved (after processing): ['NCT01726049', 'NCT00793338', 'NCT00303004', 'NCT00380068', 'NCT01449253', 'NCT00763867', 'NCT00517933', 'NCT01616381', 'NCT03460470', 'NCT00145938', 'NCT01043627', 'NCT01936350', 'NCT01365585']\n",
      "   Query 16 metrics: Precision@10: 0.2000, Recall@10: 0.0323, F1@10: 0.0556, AP: 0.3348, nDCG@10: 0.3152, MRR@10=0.3333\n",
      "    Total time for query: 0.78 seconds\n",
      "Query 17 Stage 1 retrieved docs: ['NCT00981708', 'NCT01548573', 'NCT00038233', 'NCT00006890', 'NCT00038090', 'NCT00558896', 'NCT00256776', 'NCT00049673', 'NCT00040937', 'NCT00120263', 'NCT00416897', 'NCT00064337', 'NCT01134484', 'NCT00007995', 'NCT00538824', 'NCT00319865', 'NCT00531453', 'NCT01084837', 'NCT01208818', 'NCT01731886']\n",
      "Query 17: Bi-encoder precision is low (0.2000), applying cross-encoder re-ranking\n"
     ]
    },
    {
     "name": "stderr",
     "output_type": "stream",
     "text": [
      " 23%|██▎       | 17/75 [00:12<00:47,  1.22it/s]"
     ]
    },
    {
     "name": "stdout",
     "output_type": "stream",
     "text": [
      "  Query 17 stage 2 retrieved (after processing): ['NCT00981708', 'NCT00064337', 'NCT00007995', 'NCT00040937', 'NCT00049673', 'NCT01731886', 'NCT01548573', 'NCT00256776', 'NCT00006890', 'NCT00558896', 'NCT00319865', 'NCT01208818', 'NCT00038233', 'NCT01084837', 'NCT00538824', 'NCT01134484', 'NCT00120263', 'NCT00038090', 'NCT00416897']\n",
      "   Query 17 metrics: Precision@10: 0.3000, Recall@10: 0.0236, F1@10: 0.0438, AP: 0.3494, nDCG@10: 0.4151, MRR@10=0.5000\n",
      "    Total time for query: 0.86 seconds\n",
      "Query 18 Stage 1 retrieved docs: ['NCT00804557', 'NCT01494337', 'NCT00270504', 'NCT03239951', 'NCT01186237', 'NCT03863743', 'NCT00839969', 'NCT04529369', 'NCT04551417', 'NCT01790776', 'NCT04363970', 'NCT03339076', 'NCT04307537', 'NCT02591381', 'NCT04825314', 'NCT03428113', 'NCT04452890', 'NCT02524236', 'NCT03098147', 'NCT02594631']\n",
      "Query 18: Bi-encoder precision is low (0.0000), applying cross-encoder re-ranking\n"
     ]
    },
    {
     "name": "stderr",
     "output_type": "stream",
     "text": [
      " 24%|██▍       | 18/75 [00:13<00:47,  1.19it/s]"
     ]
    },
    {
     "name": "stdout",
     "output_type": "stream",
     "text": [
      "  Query 18 stage 2 retrieved (after processing): ['NCT02524236', 'NCT03239951', 'NCT01494337', 'NCT04529369', 'NCT04307537', 'NCT03339076', 'NCT02591381', 'NCT04363970', 'NCT00804557', 'NCT00839969', 'NCT01186237', 'NCT02594631', 'NCT03863743', 'NCT04551417', 'NCT04452890', 'NCT04825314', 'NCT00270504', 'NCT03428113']\n",
      "   Query 18 metrics: Precision@10: 0.0000, Recall@10: 0.0000, F1@10: 0.0000, AP: 0.0889, nDCG@10: 0.1242, MRR@10=0.0000\n",
      "    Total time for query: 0.88 seconds\n"
     ]
    },
    {
     "name": "stderr",
     "output_type": "stream",
     "text": [
      " 25%|██▌       | 19/75 [00:14<00:36,  1.52it/s]"
     ]
    },
    {
     "name": "stdout",
     "output_type": "stream",
     "text": [
      "Query 19 Stage 1 retrieved docs: ['NCT02781207', 'NCT02683174', 'NCT00300625', 'NCT01916070', 'NCT00005202', 'NCT03974412', 'NCT01548352', 'NCT01509534', 'NCT02786940', 'NCT01463358', 'NCT00292825', 'NCT04124237', 'NCT03876652', 'NCT01814228', 'NCT01802398', 'NCT02971163', 'NCT04533425', 'NCT00120094', 'NCT03388905', 'NCT01113268']\n",
      "Query 19: Bi-encoder precision is high (0.7000), skipping cross-encoder re-ranking\n",
      "  Query 19 stage 2 retrieved (after processing): ['NCT02781207', 'NCT02683174', 'NCT00300625', 'NCT01916070', 'NCT00005202', 'NCT03974412', 'NCT01548352', 'NCT01509534', 'NCT02786940', 'NCT01463358', 'NCT00292825', 'NCT04124237', 'NCT03876652', 'NCT01814228', 'NCT01802398', 'NCT02971163', 'NCT04533425', 'NCT00120094', 'NCT03388905', 'NCT01113268']\n",
      "   Query 19 metrics: Precision@10: 0.7000, Recall@10: 0.0609, F1@10: 0.1120, AP: 0.7534, nDCG@10: 0.7744, MRR@10=1.0000\n",
      "    Total time for query: 0.24 seconds\n"
     ]
    },
    {
     "name": "stderr",
     "output_type": "stream",
     "text": [
      " 27%|██▋       | 20/75 [00:14<00:28,  1.91it/s]"
     ]
    },
    {
     "name": "stdout",
     "output_type": "stream",
     "text": [
      "Query 20 Stage 1 retrieved docs: ['NCT00242541', 'NCT00171886', 'NCT03710499', 'NCT01206270', 'NCT02952885', 'NCT04860037', 'NCT02274311', 'NCT00921609', 'NCT00616408', 'NCT00001860', 'NCT00145405', 'NCT01371643', 'NCT00627796', 'NCT03973450', 'NCT00171730', 'NCT00784615', 'NCT03401008', 'NCT00994214', 'NCT00182091', 'NCT01368133']\n",
      "Query 20: Bi-encoder precision is high (0.5000), skipping cross-encoder re-ranking\n",
      "  Query 20 stage 2 retrieved (after processing): ['NCT00242541', 'NCT00171886', 'NCT03710499', 'NCT01206270', 'NCT02952885', 'NCT04860037', 'NCT02274311', 'NCT00921609', 'NCT00616408', 'NCT00001860', 'NCT00145405', 'NCT01371643', 'NCT00627796', 'NCT03973450', 'NCT00171730', 'NCT00784615', 'NCT03401008', 'NCT00994214', 'NCT00182091', 'NCT01368133']\n",
      "   Query 20 metrics: Precision@10: 0.5000, Recall@10: 0.1190, F1@10: 0.1923, AP: 0.7501, nDCG@10: 0.6892, MRR@10=1.0000\n",
      "    Total time for query: 0.21 seconds\n"
     ]
    },
    {
     "name": "stderr",
     "output_type": "stream",
     "text": [
      " 28%|██▊       | 21/75 [00:14<00:23,  2.31it/s]"
     ]
    },
    {
     "name": "stdout",
     "output_type": "stream",
     "text": [
      "Query 21 Stage 1 retrieved docs: ['NCT03259880', 'NCT00523874', 'NCT04735055', 'NCT04196504', 'NCT03354065', 'NCT04570852', 'NCT02563080', 'NCT01796652', 'NCT04615702', 'NCT03342716', 'NCT04552028', 'NCT02528760', 'NCT04750044', 'NCT01015417', 'NCT02204189', 'NCT03643900', 'NCT03407534', 'NCT01583517', 'NCT04574297', 'NCT03411629']\n",
      "Query 21: Bi-encoder precision is high (0.5000), skipping cross-encoder re-ranking\n",
      "  Query 21 stage 2 retrieved (after processing): ['NCT03259880', 'NCT00523874', 'NCT04735055', 'NCT04196504', 'NCT03354065', 'NCT04570852', 'NCT02563080', 'NCT01796652', 'NCT04615702', 'NCT03342716', 'NCT04552028', 'NCT02528760', 'NCT04750044', 'NCT01015417', 'NCT02204189', 'NCT03643900', 'NCT03407534', 'NCT01583517', 'NCT04574297', 'NCT03411629']\n",
      "   Query 21 metrics: Precision@10: 0.5000, Recall@10: 0.1020, F1@10: 0.1695, AP: 0.6744, nDCG@10: 0.5728, MRR@10=1.0000\n",
      "    Total time for query: 0.22 seconds\n",
      "Query 22 Stage 1 retrieved docs: ['NCT04033198', 'NCT01054417', 'NCT03236961', 'NCT03234296', 'NCT02404064', 'NCT00677417', 'NCT01967745', 'NCT04440150', 'NCT02742402', 'NCT03289351', 'NCT00413855', 'NCT02867072', 'NCT04594486', 'NCT00135603', 'NCT03570398', 'NCT04689906', 'NCT03591419', 'NCT00971438', 'NCT04634448', 'NCT03902262']\n",
      "Query 22: Bi-encoder precision is low (0.3000), applying cross-encoder re-ranking\n"
     ]
    },
    {
     "name": "stderr",
     "output_type": "stream",
     "text": [
      " 29%|██▉       | 22/75 [00:15<00:30,  1.75it/s]"
     ]
    },
    {
     "name": "stdout",
     "output_type": "stream",
     "text": [
      "  Query 22 stage 2 retrieved (after processing): ['NCT03902262', 'NCT04033198', 'NCT04440150', 'NCT00677417', 'NCT03289351', 'NCT03234296', 'NCT03236961', 'NCT03570398', 'NCT01967745', 'NCT04689906', 'NCT02404064', 'NCT00135603', 'NCT04594486', 'NCT00413855', 'NCT02742402', 'NCT01054417', 'NCT03591419', 'NCT00971438', 'NCT04634448']\n",
      "   Query 22 metrics: Precision@10: 0.4000, Recall@10: 0.0563, F1@10: 0.0988, AP: 0.3394, nDCG@10: 0.3994, MRR@10=0.1667\n",
      "    Total time for query: 0.89 seconds\n",
      "Query 23 Stage 1 retrieved docs: ['NCT03846570', 'NCT04674137', 'NCT01437735', 'NCT03363698', 'NCT01313637', 'NCT01313650', 'NCT04520230', 'NCT02415179', 'NCT00411567', 'NCT02340520', 'NCT02660853', 'NCT00182481', 'NCT00278083', 'NCT00509197', 'NCT01657487', 'NCT00217854', 'NCT00954850', 'NCT00839124', 'NCT01562093', 'NCT01742338']\n",
      "Query 23: Bi-encoder precision is low (0.1000), applying cross-encoder re-ranking\n"
     ]
    },
    {
     "name": "stderr",
     "output_type": "stream",
     "text": [
      " 31%|███       | 23/75 [00:16<00:34,  1.51it/s]"
     ]
    },
    {
     "name": "stdout",
     "output_type": "stream",
     "text": [
      "  Query 23 stage 2 retrieved (after processing): ['NCT03363698', 'NCT01313637', 'NCT01313650', 'NCT02660853', 'NCT02415179', 'NCT01742338', 'NCT04674137', 'NCT02340520', 'NCT04520230', 'NCT01562093', 'NCT00217854', 'NCT03846570', 'NCT00509197', 'NCT00278083', 'NCT01657487', 'NCT00182481', 'NCT00839124', 'NCT00954850']\n",
      "   Query 23 metrics: Precision@10: 0.2000, Recall@10: 0.0238, F1@10: 0.0426, AP: 0.2384, nDCG@10: 0.2112, MRR@10=0.2500\n",
      "    Total time for query: 0.87 seconds\n"
     ]
    },
    {
     "name": "stderr",
     "output_type": "stream",
     "text": [
      " 32%|███▏      | 24/75 [00:16<00:27,  1.87it/s]"
     ]
    },
    {
     "name": "stdout",
     "output_type": "stream",
     "text": [
      "Query 24 Stage 1 retrieved docs: ['NCT04764903', 'NCT01661621', 'NCT00685633', 'NCT02961114', 'NCT01815697', 'NCT03630926', 'NCT00596011', 'NCT02074644', 'NCT01563796', 'NCT04766268', 'NCT00381108', 'NCT02808013', 'NCT00407329', 'NCT03239951', 'NCT04055675', 'NCT00193648', 'NCT02326805', 'NCT02283684', 'NCT00561262', 'NCT01799902']\n",
      "Query 24: Bi-encoder precision is high (0.4000), skipping cross-encoder re-ranking\n",
      "  Query 24 stage 2 retrieved (after processing): ['NCT04764903', 'NCT01661621', 'NCT00685633', 'NCT02961114', 'NCT01815697', 'NCT03630926', 'NCT00596011', 'NCT02074644', 'NCT01563796', 'NCT04766268', 'NCT00381108', 'NCT02808013', 'NCT00407329', 'NCT03239951', 'NCT04055675', 'NCT00193648', 'NCT02326805', 'NCT02283684', 'NCT00561262', 'NCT01799902']\n",
      "   Query 24 metrics: Precision@10: 0.4000, Recall@10: 0.0360, F1@10: 0.0661, AP: 0.6833, nDCG@10: 0.5625, MRR@10=1.0000\n",
      "    Total time for query: 0.24 seconds\n",
      "Query 25 Stage 1 retrieved docs: ['NCT02897700', 'NCT04697043', 'NCT00542191', 'NCT03323346', 'NCT04567420', 'NCT03188393', 'NCT01501487', 'NCT01257152', 'NCT00881361', 'NCT04245150', 'NCT00696527', 'NCT03236974', 'NCT04293796', 'NCT01320488', 'NCT02670577', 'NCT02564848', 'NCT03354611', 'NCT03669952', 'NCT03144037', 'NCT00028340']\n",
      "Query 25: Bi-encoder precision is low (0.0000), applying cross-encoder re-ranking\n"
     ]
    },
    {
     "name": "stderr",
     "output_type": "stream",
     "text": [
      " 33%|███▎      | 25/75 [00:17<00:30,  1.62it/s]"
     ]
    },
    {
     "name": "stdout",
     "output_type": "stream",
     "text": [
      "  Query 25 stage 2 retrieved (after processing): ['NCT03236974', 'NCT03323346', 'NCT04567420', 'NCT01257152', 'NCT02897700', 'NCT01320488', 'NCT02564848', 'NCT04245150', 'NCT00542191', 'NCT01501487', 'NCT00028340', 'NCT03669952', 'NCT04697043', 'NCT00881361', 'NCT03144037', 'NCT03188393', 'NCT02670577', 'NCT04293796']\n",
      "   Query 25 metrics: Precision@10: 0.1000, Recall@10: 0.0135, F1@10: 0.0238, AP: 0.1699, nDCG@10: 0.0784, MRR@10=0.1667\n",
      "    Total time for query: 0.82 seconds\n"
     ]
    },
    {
     "name": "stderr",
     "output_type": "stream",
     "text": [
      " 35%|███▍      | 26/75 [00:17<00:25,  1.94it/s]"
     ]
    },
    {
     "name": "stdout",
     "output_type": "stream",
     "text": [
      "Query 26 Stage 1 retrieved docs: ['NCT01015417', 'NCT04308265', 'NCT03981315', 'NCT01492790', 'NCT03477253', 'NCT02156947', 'NCT02155244', 'NCT03709030', 'NCT04675190', 'NCT04615702', 'NCT02554097', 'NCT00161083', 'NCT02472509', 'NCT00863642', 'NCT02833103', 'NCT03259880', 'NCT04197908', 'NCT03883464', 'NCT02430285', 'NCT03577873']\n",
      "Query 26: Bi-encoder precision is high (0.4000), skipping cross-encoder re-ranking\n",
      "  Query 26 stage 2 retrieved (after processing): ['NCT01015417', 'NCT04308265', 'NCT03981315', 'NCT01492790', 'NCT03477253', 'NCT02156947', 'NCT02155244', 'NCT03709030', 'NCT04675190', 'NCT04615702', 'NCT02554097', 'NCT00161083', 'NCT02472509', 'NCT00863642', 'NCT02833103', 'NCT03259880', 'NCT04197908', 'NCT03883464', 'NCT02430285', 'NCT03577873']\n",
      "   Query 26 metrics: Precision@10: 0.4000, Recall@10: 0.0460, F1@10: 0.0825, AP: 0.3944, nDCG@10: 0.4409, MRR@10=0.3333\n",
      "    Total time for query: 0.27 seconds\n",
      "Query 27 Stage 1 retrieved docs: ['NCT03520660', 'NCT00751426', 'NCT02825212', 'NCT03170076', 'NCT02483156', 'NCT03186313', 'NCT03693586', 'NCT03014986', 'NCT03296930', 'NCT03547895', 'NCT01360268', 'NCT01289652', 'NCT00887081', 'NCT04546802', 'NCT01750515', 'NCT00152581', 'NCT01872988', 'NCT00512941', 'NCT03226717', 'NCT00001982']\n",
      "Query 27: Bi-encoder precision is low (0.3000), applying cross-encoder re-ranking\n"
     ]
    },
    {
     "name": "stderr",
     "output_type": "stream",
     "text": [
      " 36%|███▌      | 27/75 [00:18<00:29,  1.61it/s]"
     ]
    },
    {
     "name": "stdout",
     "output_type": "stream",
     "text": [
      "  Query 27 stage 2 retrieved (after processing): ['NCT01750515', 'NCT03296930', 'NCT03170076', 'NCT01289652', 'NCT03520660', 'NCT01360268', 'NCT00887081', 'NCT02825212', 'NCT04546802', 'NCT03547895', 'NCT01872988', 'NCT03186313', 'NCT03693586', 'NCT00751426', 'NCT03014986', 'NCT00512941', 'NCT00001982', 'NCT00152581', 'NCT02483156']\n",
      "   Query 27 metrics: Precision@10: 0.4000, Recall@10: 0.0702, F1@10: 0.1194, AP: 0.6788, nDCG@10: 0.5984, MRR@10=1.0000\n",
      "    Total time for query: 0.87 seconds\n",
      "Query 28 Stage 1 retrieved docs: ['NCT02340520', 'NCT01114386', 'NCT02571582', 'NCT01142531', 'NCT01893918', 'NCT00938977', 'NCT02434536', 'NCT02154880', 'NCT01314807', 'NCT03227211', 'NCT02329522', 'NCT00380068', 'NCT00287625', 'NCT00668408', 'NCT01940328', 'NCT04105075', 'NCT02531542', 'NCT01616901', 'NCT04520230', 'NCT01657487']\n",
      "Query 28: Bi-encoder precision is low (0.2000), applying cross-encoder re-ranking\n"
     ]
    },
    {
     "name": "stderr",
     "output_type": "stream",
     "text": [
      " 37%|███▋      | 28/75 [00:19<00:33,  1.42it/s]"
     ]
    },
    {
     "name": "stdout",
     "output_type": "stream",
     "text": [
      "  Query 28 stage 2 retrieved (after processing): ['NCT02329522', 'NCT03227211', 'NCT00287625', 'NCT01142531', 'NCT01114386', 'NCT02434536', 'NCT01616901', 'NCT02340520', 'NCT01893918', 'NCT02571582', 'NCT02531542', 'NCT00668408', 'NCT01657487', 'NCT04520230', 'NCT00380068', 'NCT02154880', 'NCT01940328', 'NCT01314807', 'NCT00938977']\n",
      "   Query 28 metrics: Precision@10: 0.2000, Recall@10: 0.0140, F1@10: 0.0261, AP: 0.3547, nDCG@10: 0.2720, MRR@10=0.5000\n",
      "    Total time for query: 0.90 seconds\n",
      "Query 29 Stage 1 retrieved docs: ['NCT00590044', 'NCT02548494', 'NCT03001323', 'NCT02006342', 'NCT00970567', 'NCT00133809', 'NCT00467246', 'NCT02130180', 'NCT03107208', 'NCT00179127', 'NCT00911625', 'NCT02777073', 'NCT02280174', 'NCT02157155', 'NCT00338104', 'NCT04567225', 'NCT00663624', 'NCT01195090', 'NCT01049412', 'NCT01654120']\n",
      "Query 29: Bi-encoder precision is low (0.3000), applying cross-encoder re-ranking\n"
     ]
    },
    {
     "name": "stderr",
     "output_type": "stream",
     "text": [
      " 39%|███▊      | 29/75 [00:20<00:33,  1.36it/s]"
     ]
    },
    {
     "name": "stdout",
     "output_type": "stream",
     "text": [
      "  Query 29 stage 2 retrieved (after processing): ['NCT00133809', 'NCT01195090', 'NCT03107208', 'NCT00590044', 'NCT00970567', 'NCT00467246', 'NCT00338104', 'NCT00911625', 'NCT02280174', 'NCT02777073', 'NCT01654120', 'NCT02130180', 'NCT03001323', 'NCT01049412']\n",
      "   Query 29 metrics: Precision@10: 0.3000, Recall@10: 0.0417, F1@10: 0.0732, AP: 0.6333, nDCG@10: 0.4976, MRR@10=1.0000\n",
      "    Total time for query: 0.81 seconds\n",
      "Query 30 Stage 1 retrieved docs: ['NCT03106935', 'NCT04249271', 'NCT02868476', 'NCT03984006', 'NCT00552487', 'NCT00001159', 'NCT02319538', 'NCT00715572', 'NCT02725879', 'NCT02567877', 'NCT04752202', 'NCT03634371', 'NCT04573907', 'NCT02126683', 'NCT00230802', 'NCT01581463', 'NCT02710175', 'NCT00287144', 'NCT04613323', 'NCT03569787']\n",
      "Query 30: Bi-encoder precision is low (0.2000), applying cross-encoder re-ranking\n"
     ]
    },
    {
     "name": "stderr",
     "output_type": "stream",
     "text": [
      " 40%|████      | 30/75 [00:21<00:35,  1.28it/s]"
     ]
    },
    {
     "name": "stdout",
     "output_type": "stream",
     "text": [
      "  Query 30 stage 2 retrieved (after processing): ['NCT00552487', 'NCT02725879', 'NCT04249271', 'NCT00287144', 'NCT00715572', 'NCT03106935', 'NCT02319538', 'NCT02567877', 'NCT04613323', 'NCT02868476', 'NCT03984006', 'NCT00001159', 'NCT04573907', 'NCT03634371', 'NCT00230802']\n",
      "   Query 30 metrics: Precision@10: 0.1000, Recall@10: 0.0208, F1@10: 0.0345, AP: 0.5833, nDCG@10: 0.4273, MRR@10=1.0000\n",
      "    Total time for query: 0.89 seconds\n",
      "Query 31 Stage 1 retrieved docs: ['NCT03998254', 'NCT00312286', 'NCT00117884', 'NCT01599416', 'NCT03837028', 'NCT02780960', 'NCT00743626', 'NCT00154479', 'NCT00343213', 'NCT00872937', 'NCT02365935', 'NCT02346227', 'NCT00091130', 'NCT04171505', 'NCT03577925', 'NCT00006444', 'NCT01131312', 'NCT01133509', 'NCT00201370', 'NCT03920800']\n",
      "Query 31: Bi-encoder precision is low (0.3000), applying cross-encoder re-ranking\n"
     ]
    },
    {
     "name": "stderr",
     "output_type": "stream",
     "text": [
      " 41%|████▏     | 31/75 [00:21<00:34,  1.26it/s]"
     ]
    },
    {
     "name": "stdout",
     "output_type": "stream",
     "text": [
      "  Query 31 stage 2 retrieved (after processing): ['NCT03837028', 'NCT01131312', 'NCT00006444', 'NCT02780960', 'NCT00312286', 'NCT00117884', 'NCT00201370', 'NCT04171505', 'NCT02346227', 'NCT02365935', 'NCT03998254', 'NCT01599416', 'NCT03577925', 'NCT00091130', 'NCT00154479']\n",
      "   Query 31 metrics: Precision@10: 0.1000, Recall@10: 0.0222, F1@10: 0.0364, AP: 0.5667, nDCG@10: 0.3113, MRR@10=1.0000\n",
      "    Total time for query: 0.82 seconds\n"
     ]
    },
    {
     "name": "stderr",
     "output_type": "stream",
     "text": [
      " 43%|████▎     | 32/75 [00:22<00:26,  1.59it/s]"
     ]
    },
    {
     "name": "stdout",
     "output_type": "stream",
     "text": [
      "Query 32 Stage 1 retrieved docs: ['NCT04132375', 'NCT03690024', 'NCT01252199', 'NCT01406288', 'NCT02336516', 'NCT03576183', 'NCT02870751', 'NCT02205541', 'NCT03261297', 'NCT03275792', 'NCT01638039', 'NCT03362970', 'NCT03778125', 'NCT04491799', 'NCT03586206', 'NCT03257553', 'NCT02773446', 'NCT03596827', 'NCT02127814', 'NCT04269174']\n",
      "Query 32: Bi-encoder precision is high (0.5000), skipping cross-encoder re-ranking\n",
      "  Query 32 stage 2 retrieved (after processing): ['NCT04132375', 'NCT03690024', 'NCT01252199', 'NCT01406288', 'NCT02336516', 'NCT03576183', 'NCT02870751', 'NCT02205541', 'NCT03261297', 'NCT03275792', 'NCT01638039', 'NCT03362970', 'NCT03778125', 'NCT04491799', 'NCT03586206', 'NCT03257553', 'NCT02773446', 'NCT03596827', 'NCT02127814', 'NCT04269174']\n",
      "   Query 32 metrics: Precision@10: 0.5000, Recall@10: 0.1923, F1@10: 0.2778, AP: 0.5327, nDCG@10: 0.5758, MRR@10=0.5000\n",
      "    Total time for query: 0.24 seconds\n",
      "Query 33 Stage 1 retrieved docs: ['NCT00769002', 'NCT01978262', 'NCT00253734', 'NCT02213354', 'NCT00943358', 'NCT03028974', 'NCT02908269', 'NCT00546585', 'NCT02746783', 'NCT01181336', 'NCT01721083', 'NCT01317745', 'NCT00230750', 'NCT01317758', 'NCT03020498', 'NCT01436370', 'NCT02921997', 'NCT00973895', 'NCT01827462', 'NCT00814385']\n",
      "Query 33: Bi-encoder precision is low (0.3000), applying cross-encoder re-ranking\n"
     ]
    },
    {
     "name": "stderr",
     "output_type": "stream",
     "text": [
      " 44%|████▍     | 33/75 [00:22<00:29,  1.42it/s]"
     ]
    },
    {
     "name": "stdout",
     "output_type": "stream",
     "text": [
      "  Query 33 stage 2 retrieved (after processing): ['NCT01317745', 'NCT01317758', 'NCT01181336', 'NCT00253734', 'NCT01721083', 'NCT01978262', 'NCT02908269', 'NCT01827462', 'NCT00769002', 'NCT00546585', 'NCT02921997', 'NCT00943358', 'NCT02213354', 'NCT00230750', 'NCT03020498', 'NCT03028974', 'NCT01436370', 'NCT00973895', 'NCT00814385']\n",
      "   Query 33 metrics: Precision@10: 0.5000, Recall@10: 0.0246, F1@10: 0.0469, AP: 0.6731, nDCG@10: 0.6051, MRR@10=1.0000\n",
      "    Total time for query: 0.88 seconds\n",
      "Query 34 Stage 1 retrieved docs: ['NCT03445624', 'NCT01694953', 'NCT01725048', 'NCT01093196', 'NCT03057860', 'NCT04426435', 'NCT00001549', 'NCT00455286', 'NCT02633813', 'NCT01149707', 'NCT03772561', 'NCT00625742', 'NCT00614809', 'NCT02441491', 'NCT00879359', 'NCT03323346', 'NCT00380068', 'NCT02657356', 'NCT02691533', 'NCT01579929']\n",
      "Query 34: Bi-encoder precision is low (0.0000), applying cross-encoder re-ranking\n"
     ]
    },
    {
     "name": "stderr",
     "output_type": "stream",
     "text": [
      " 45%|████▌     | 34/75 [00:23<00:30,  1.33it/s]"
     ]
    },
    {
     "name": "stdout",
     "output_type": "stream",
     "text": [
      "  Query 34 stage 2 retrieved (after processing): ['NCT01725048', 'NCT00001549', 'NCT01694953', 'NCT03445624', 'NCT00380068', 'NCT00879359', 'NCT02441491', 'NCT04426435', 'NCT03323346', 'NCT00614809', 'NCT00455286', 'NCT02657356', 'NCT03057860', 'NCT01149707', 'NCT01093196', 'NCT00625742', 'NCT03772561']\n",
      "   Query 34 metrics: Precision@10: 0.0000, Recall@10: 0.0000, F1@10: 0.0000, AP: 0.0000, nDCG@10: 0.0000, MRR@10=0.0000\n",
      "    Total time for query: 0.85 seconds\n",
      "Query 35 Stage 1 retrieved docs: ['NCT00471861', 'NCT00880425', 'NCT01946126', 'NCT00126035', 'NCT01804517', 'NCT01687101', 'NCT01090050', 'NCT01300546', 'NCT01917474', 'NCT03766412', 'NCT04623203', 'NCT02322333', 'NCT00274170', 'NCT00335803', 'NCT04698525', 'NCT02021474', 'NCT00837044', 'NCT00754611', 'NCT00642564', 'NCT04287140']\n",
      "Query 35: Bi-encoder precision is low (0.2000), applying cross-encoder re-ranking\n"
     ]
    },
    {
     "name": "stderr",
     "output_type": "stream",
     "text": [
      " 47%|████▋     | 35/75 [00:24<00:31,  1.28it/s]"
     ]
    },
    {
     "name": "stdout",
     "output_type": "stream",
     "text": [
      "  Query 35 stage 2 retrieved (after processing): ['NCT04698525', 'NCT01090050', 'NCT00642564', 'NCT01300546', 'NCT02021474', 'NCT04287140', 'NCT00837044', 'NCT00880425', 'NCT02322333', 'NCT00471861', 'NCT01687101', 'NCT03766412', 'NCT00126035', 'NCT01804517', 'NCT01917474', 'NCT00274170']\n",
      "   Query 35 metrics: Precision@10: 0.0000, Recall@10: 0.0000, F1@10: 0.0000, AP: 0.1083, nDCG@10: 0.2051, MRR@10=0.0000\n",
      "    Total time for query: 0.85 seconds\n"
     ]
    },
    {
     "name": "stderr",
     "output_type": "stream",
     "text": [
      " 48%|████▊     | 36/75 [00:24<00:24,  1.62it/s]"
     ]
    },
    {
     "name": "stdout",
     "output_type": "stream",
     "text": [
      "Query 36 Stage 1 retrieved docs: ['NCT00770276', 'NCT00667498', 'NCT00622765', 'NCT02463435', 'NCT04354285', 'NCT02436343', 'NCT04327375', 'NCT04595006', 'NCT02717832', 'NCT00704197', 'NCT02062554', 'NCT04782856', 'NCT02691533', 'NCT04575194', 'NCT01665820', 'NCT01066091', 'NCT02452567', 'NCT04791397', 'NCT01636427', 'NCT00879125']\n",
      "Query 36: Bi-encoder precision is high (0.4000), skipping cross-encoder re-ranking\n",
      "  Query 36 stage 2 retrieved (after processing): ['NCT00770276', 'NCT00667498', 'NCT00622765', 'NCT02463435', 'NCT04354285', 'NCT02436343', 'NCT04327375', 'NCT04595006', 'NCT02717832', 'NCT00704197', 'NCT02062554', 'NCT04782856', 'NCT02691533', 'NCT04575194', 'NCT01665820', 'NCT01066091', 'NCT02452567', 'NCT04791397', 'NCT01636427', 'NCT00879125']\n",
      "   Query 36 metrics: Precision@10: 0.4000, Recall@10: 0.0217, F1@10: 0.0412, AP: 0.6690, nDCG@10: 0.5214, MRR@10=1.0000\n",
      "    Total time for query: 0.23 seconds\n"
     ]
    },
    {
     "name": "stderr",
     "output_type": "stream",
     "text": [
      " 49%|████▉     | 37/75 [00:25<00:18,  2.02it/s]"
     ]
    },
    {
     "name": "stdout",
     "output_type": "stream",
     "text": [
      "Query 37 Stage 1 retrieved docs: ['NCT00228228', 'NCT04178980', 'NCT04465084', 'NCT01628315', 'NCT03736902', 'NCT01428726', 'NCT01110993', 'NCT00360906', 'NCT04578639', 'NCT00151801', 'NCT03586986', 'NCT04688788', 'NCT04832399', 'NCT02881567', 'NCT00676715', 'NCT00094172', 'NCT03979456', 'NCT04495556', 'NCT03709290', 'NCT00027300']\n",
      "Query 37: Bi-encoder precision is high (0.7000), skipping cross-encoder re-ranking\n",
      "  Query 37 stage 2 retrieved (after processing): ['NCT00228228', 'NCT04178980', 'NCT04465084', 'NCT01628315', 'NCT03736902', 'NCT01428726', 'NCT01110993', 'NCT00360906', 'NCT04578639', 'NCT00151801', 'NCT03586986', 'NCT04688788', 'NCT04832399', 'NCT02881567', 'NCT00676715', 'NCT00094172', 'NCT03979456', 'NCT04495556', 'NCT03709290', 'NCT00027300']\n",
      "   Query 37 metrics: Precision@10: 0.7000, Recall@10: 0.0412, F1@10: 0.0778, AP: 0.6658, nDCG@10: 0.6790, MRR@10=0.5000\n",
      "    Total time for query: 0.21 seconds\n"
     ]
    },
    {
     "name": "stderr",
     "output_type": "stream",
     "text": [
      " 51%|█████     | 38/75 [00:25<00:15,  2.44it/s]"
     ]
    },
    {
     "name": "stdout",
     "output_type": "stream",
     "text": [
      "Query 38 Stage 1 retrieved docs: ['NCT02902536', 'NCT04226170', 'NCT01480596', 'NCT03792659', 'NCT04768465', 'NCT04674605', 'NCT00306033', 'NCT03315130', 'NCT03971422', 'NCT01727193', 'NCT04535843', 'NCT00619671', 'NCT03914638', 'NCT03920293', 'NCT00727194', 'NCT03772587', 'NCT01997229', 'NCT02950155', 'NCT03510546', 'NCT03052751']\n",
      "Query 38: Bi-encoder precision is high (0.7000), skipping cross-encoder re-ranking\n",
      "  Query 38 stage 2 retrieved (after processing): ['NCT02902536', 'NCT04226170', 'NCT01480596', 'NCT03792659', 'NCT04768465', 'NCT04674605', 'NCT00306033', 'NCT03315130', 'NCT03971422', 'NCT01727193', 'NCT04535843', 'NCT00619671', 'NCT03914638', 'NCT03920293', 'NCT00727194', 'NCT03772587', 'NCT01997229', 'NCT02950155', 'NCT03510546', 'NCT03052751']\n",
      "   Query 38 metrics: Precision@10: 0.7000, Recall@10: 0.1346, F1@10: 0.2258, AP: 0.7062, nDCG@10: 0.7550, MRR@10=1.0000\n",
      "    Total time for query: 0.21 seconds\n",
      "Query 39 Stage 1 retrieved docs: ['NCT02625688', 'NCT04215601', 'NCT04099602', 'NCT02446951', 'NCT00653874', 'NCT01136577', 'NCT01203410', 'NCT04418180', 'NCT01762189', 'NCT02613676', 'NCT02774434', 'NCT04719104', 'NCT03942757', 'NCT01622699', 'NCT03055481', 'NCT02154165', 'NCT03183986', 'NCT00735319', 'NCT04251286', 'NCT03866213']\n",
      "Query 39: Bi-encoder precision is low (0.2000), applying cross-encoder re-ranking\n"
     ]
    },
    {
     "name": "stderr",
     "output_type": "stream",
     "text": [
      " 52%|█████▏    | 39/75 [00:26<00:20,  1.80it/s]"
     ]
    },
    {
     "name": "stdout",
     "output_type": "stream",
     "text": [
      "  Query 39 stage 2 retrieved (after processing): ['NCT03942757', 'NCT04215601', 'NCT01762189', 'NCT01203410', 'NCT02774434', 'NCT02446951', 'NCT01622699', 'NCT04251286', 'NCT03183986', 'NCT04099602', 'NCT02625688', 'NCT03055481', 'NCT04719104', 'NCT01136577', 'NCT03866213', 'NCT00653874', 'NCT02613676']\n",
      "   Query 39 metrics: Precision@10: 0.4000, Recall@10: 0.1176, F1@10: 0.1818, AP: 0.3812, nDCG@10: 0.3449, MRR@10=0.2000\n",
      "    Total time for query: 0.90 seconds\n"
     ]
    },
    {
     "name": "stderr",
     "output_type": "stream",
     "text": [
      " 53%|█████▎    | 40/75 [00:26<00:16,  2.17it/s]"
     ]
    },
    {
     "name": "stdout",
     "output_type": "stream",
     "text": [
      "Query 40 Stage 1 retrieved docs: ['NCT00306046', 'NCT00051636', 'NCT00774020', 'NCT00480662', 'NCT02106455', 'NCT00747994', 'NCT00894075', 'NCT04222452', 'NCT02802384', 'NCT02056730', 'NCT03859895', 'NCT03993821', 'NCT00453128', 'NCT00195936', 'NCT00108394', 'NCT00066183', 'NCT02967042', 'NCT00417612', 'NCT00345839', 'NCT02603042']\n",
      "Query 40: Bi-encoder precision is high (0.7000), skipping cross-encoder re-ranking\n",
      "  Query 40 stage 2 retrieved (after processing): ['NCT00306046', 'NCT00051636', 'NCT00774020', 'NCT00480662', 'NCT02106455', 'NCT00747994', 'NCT00894075', 'NCT04222452', 'NCT02802384', 'NCT02056730', 'NCT03859895', 'NCT03993821', 'NCT00453128', 'NCT00195936', 'NCT00108394', 'NCT00066183', 'NCT02967042', 'NCT00417612', 'NCT00345839', 'NCT02603042']\n",
      "   Query 40 metrics: Precision@10: 0.7000, Recall@10: 0.6364, F1@10: 0.6667, AP: 0.9683, nDCG@10: 0.7936, MRR@10=1.0000\n",
      "    Total time for query: 0.24 seconds\n",
      "Query 41 Stage 1 retrieved docs: ['NCT00443768', 'NCT00199394', 'NCT00203060', 'NCT01970813', 'NCT02745171', 'NCT03305588', 'NCT00526630', 'NCT01380899', 'NCT03433950', 'NCT04687878', 'NCT03297177', 'NCT00666653', 'NCT02060695', 'NCT01003002', 'NCT00001928', 'NCT00607451', 'NCT03011476', 'NCT02601144', 'NCT04858074', 'NCT00117195']\n",
      "Query 41: Bi-encoder precision is low (0.2000), applying cross-encoder re-ranking\n"
     ]
    },
    {
     "name": "stderr",
     "output_type": "stream",
     "text": [
      " 55%|█████▍    | 41/75 [00:27<00:19,  1.73it/s]"
     ]
    },
    {
     "name": "stdout",
     "output_type": "stream",
     "text": [
      "  Query 41 stage 2 retrieved (after processing): ['NCT03305588', 'NCT01380899', 'NCT03297177', 'NCT02745171', 'NCT02601144', 'NCT01003002', 'NCT01970813', 'NCT04687878', 'NCT00001928', 'NCT00607451', 'NCT00199394', 'NCT00443768', 'NCT00117195', 'NCT03433950', 'NCT03011476', 'NCT02060695', 'NCT00666653', 'NCT00526630', 'NCT04858074']\n",
      "   Query 41 metrics: Precision@10: 0.2000, Recall@10: 0.0149, F1@10: 0.0278, AP: 0.3372, nDCG@10: 0.3469, MRR@10=0.5000\n",
      "    Total time for query: 0.85 seconds\n",
      "Query 42 Stage 1 retrieved docs: ['NCT03580941', 'NCT03246542', 'NCT02637739', 'NCT00193648', 'NCT02989337', 'NCT02380560', 'NCT02507180', 'NCT03117010', 'NCT04374604', 'NCT03744988', 'NCT02308735', 'NCT01426724', 'NCT00878826', 'NCT03499561', 'NCT04852510', 'NCT02443259', 'NCT00158743', 'NCT03341221', 'NCT03665974', 'NCT01735799']\n",
      "Query 42: Bi-encoder precision is low (0.0000), applying cross-encoder re-ranking\n"
     ]
    },
    {
     "name": "stderr",
     "output_type": "stream",
     "text": [
      " 56%|█████▌    | 42/75 [00:28<00:22,  1.47it/s]"
     ]
    },
    {
     "name": "stdout",
     "output_type": "stream",
     "text": [
      "  Query 42 stage 2 retrieved (after processing): ['NCT03665974', 'NCT02380560', 'NCT02989337', 'NCT04852510', 'NCT02308735', 'NCT02443259', 'NCT03246542', 'NCT02637739', 'NCT03499561', 'NCT03744988', 'NCT04374604', 'NCT00193648', 'NCT00158743', 'NCT01426724', 'NCT03341221', 'NCT02507180', 'NCT03117010', 'NCT03580941', 'NCT00878826']\n",
      "   Query 42 metrics: Precision@10: 0.0000, Recall@10: 0.0000, F1@10: 0.0000, AP: 0.0000, nDCG@10: 0.0212, MRR@10=0.0000\n",
      "    Total time for query: 0.92 seconds\n"
     ]
    },
    {
     "name": "stderr",
     "output_type": "stream",
     "text": [
      " 57%|█████▋    | 43/75 [00:28<00:17,  1.81it/s]"
     ]
    },
    {
     "name": "stdout",
     "output_type": "stream",
     "text": [
      "Query 43 Stage 1 retrieved docs: ['NCT00269399', 'NCT02857582', 'NCT00350298', 'NCT04491799', 'NCT03964844', 'NCT00591357', 'NCT00304408', 'NCT01472978', 'NCT03586206', 'NCT02127814', 'NCT02076438', 'NCT00658151', 'NCT04070352', 'NCT01560832', 'NCT01687543', 'NCT02086916', 'NCT02355938', 'NCT01630096', 'NCT00861887', 'NCT03827447']\n",
      "Query 43: Bi-encoder precision is high (0.4000), skipping cross-encoder re-ranking\n",
      "  Query 43 stage 2 retrieved (after processing): ['NCT00269399', 'NCT02857582', 'NCT00350298', 'NCT04491799', 'NCT03964844', 'NCT00591357', 'NCT00304408', 'NCT01472978', 'NCT03586206', 'NCT02127814', 'NCT02076438', 'NCT00658151', 'NCT04070352', 'NCT01560832', 'NCT01687543', 'NCT02086916', 'NCT02355938', 'NCT01630096', 'NCT00861887', 'NCT03827447']\n",
      "   Query 43 metrics: Precision@10: 0.4000, Recall@10: 0.0635, F1@10: 0.1096, AP: 0.4724, nDCG@10: 0.5938, MRR@10=1.0000\n",
      "    Total time for query: 0.26 seconds\n",
      "Query 44 Stage 1 retrieved docs: ['NCT02791776', 'NCT04215497', 'NCT01661959', 'NCT04357561', 'NCT02820012', 'NCT04421157', 'NCT04226209', 'NCT04092335', 'NCT01019109', 'NCT02968043', 'NCT03427970', 'NCT01610908', 'NCT03929042', 'NCT02552615', 'NCT02237248', 'NCT02609009', 'NCT03915106', 'NCT04539522', 'NCT04203394', 'NCT02819245']\n",
      "Query 44: Bi-encoder precision is low (0.0000), applying cross-encoder re-ranking\n"
     ]
    },
    {
     "name": "stderr",
     "output_type": "stream",
     "text": [
      " 59%|█████▊    | 44/75 [00:29<00:20,  1.54it/s]"
     ]
    },
    {
     "name": "stdout",
     "output_type": "stream",
     "text": [
      "  Query 44 stage 2 retrieved (after processing): ['NCT02609009', 'NCT03929042', 'NCT04421157', 'NCT01610908', 'NCT02552615', 'NCT04357561', 'NCT02791776', 'NCT03427970', 'NCT03915106', 'NCT04215497', 'NCT04226209', 'NCT02820012', 'NCT01019109', 'NCT04203394', 'NCT02968043', 'NCT02237248', 'NCT04539522', 'NCT01661959', 'NCT04092335']\n",
      "   Query 44 metrics: Precision@10: 0.0000, Recall@10: 0.0000, F1@10: 0.0000, AP: 0.0000, nDCG@10: 0.4074, MRR@10=0.0000\n",
      "    Total time for query: 0.87 seconds\n"
     ]
    },
    {
     "name": "stderr",
     "output_type": "stream",
     "text": [
      " 60%|██████    | 45/75 [00:29<00:16,  1.87it/s]"
     ]
    },
    {
     "name": "stdout",
     "output_type": "stream",
     "text": [
      "Query 45 Stage 1 retrieved docs: ['NCT03431285', 'NCT02417298', 'NCT01932554', 'NCT00263562', 'NCT04301336', 'NCT04330183', 'NCT00000586', 'NCT03933397', 'NCT02434939', 'NCT03541980', 'NCT01119833', 'NCT01895361', 'NCT00102791', 'NCT04614610', 'NCT03682211', 'NCT00513617', 'NCT03502421', 'NCT00874172', 'NCT00834899', 'NCT02961218']\n",
      "Query 45: Bi-encoder precision is high (0.5000), skipping cross-encoder re-ranking\n",
      "  Query 45 stage 2 retrieved (after processing): ['NCT03431285', 'NCT02417298', 'NCT01932554', 'NCT00263562', 'NCT04301336', 'NCT04330183', 'NCT00000586', 'NCT03933397', 'NCT02434939', 'NCT03541980', 'NCT01119833', 'NCT01895361', 'NCT00102791', 'NCT04614610', 'NCT03682211', 'NCT00513617', 'NCT03502421', 'NCT00874172', 'NCT00834899', 'NCT02961218']\n",
      "   Query 45 metrics: Precision@10: 0.5000, Recall@10: 0.0345, F1@10: 0.0645, AP: 0.6313, nDCG@10: 0.6232, MRR@10=1.0000\n",
      "    Total time for query: 0.27 seconds\n"
     ]
    },
    {
     "name": "stderr",
     "output_type": "stream",
     "text": [
      " 61%|██████▏   | 46/75 [00:29<00:12,  2.28it/s]"
     ]
    },
    {
     "name": "stdout",
     "output_type": "stream",
     "text": [
      "Query 46 Stage 1 retrieved docs: ['NCT00685360', 'NCT03416309', 'NCT01600963', 'NCT03830671', 'NCT04766307', 'NCT00000796', 'NCT01785186', 'NCT02758236', 'NCT02901288', 'NCT01398618', 'NCT02349841', 'NCT02776150', 'NCT00130247', 'NCT03072576', 'NCT02821832', 'NCT04694586', 'NCT01011543', 'NCT01516203', 'NCT00864383', 'NCT00513396']\n",
      "Query 46: Bi-encoder precision is high (0.6000), skipping cross-encoder re-ranking\n",
      "  Query 46 stage 2 retrieved (after processing): ['NCT00685360', 'NCT03416309', 'NCT01600963', 'NCT03830671', 'NCT04766307', 'NCT00000796', 'NCT01785186', 'NCT02758236', 'NCT02901288', 'NCT01398618', 'NCT02349841', 'NCT02776150', 'NCT00130247', 'NCT03072576', 'NCT02821832', 'NCT04694586', 'NCT01011543', 'NCT01516203', 'NCT00864383', 'NCT00513396']\n",
      "   Query 46 metrics: Precision@10: 0.6000, Recall@10: 0.0545, F1@10: 0.1000, AP: 0.7225, nDCG@10: 0.6531, MRR@10=1.0000\n",
      "    Total time for query: 0.21 seconds\n"
     ]
    },
    {
     "name": "stderr",
     "output_type": "stream",
     "text": [
      " 63%|██████▎   | 47/75 [00:30<00:10,  2.69it/s]"
     ]
    },
    {
     "name": "stdout",
     "output_type": "stream",
     "text": [
      "Query 47 Stage 1 retrieved docs: ['NCT02452502', 'NCT00287508', 'NCT01252875', 'NCT03070067', 'NCT04162587', 'NCT03670862', 'NCT02225834', 'NCT03477188', 'NCT00009243', 'NCT00243880', 'NCT00061373', 'NCT03377465', 'NCT03413202', 'NCT02180204', 'NCT04824911', 'NCT00894803', 'NCT04847752', 'NCT01976936', 'NCT00363662', 'NCT01737723']\n",
      "Query 47: Bi-encoder precision is high (0.5000), skipping cross-encoder re-ranking\n",
      "  Query 47 stage 2 retrieved (after processing): ['NCT02452502', 'NCT00287508', 'NCT01252875', 'NCT03070067', 'NCT04162587', 'NCT03670862', 'NCT02225834', 'NCT03477188', 'NCT00009243', 'NCT00243880', 'NCT00061373', 'NCT03377465', 'NCT03413202', 'NCT02180204', 'NCT04824911', 'NCT00894803', 'NCT04847752', 'NCT01976936', 'NCT00363662', 'NCT01737723']\n",
      "   Query 47 metrics: Precision@10: 0.5000, Recall@10: 0.0391, F1@10: 0.0725, AP: 0.5286, nDCG@10: 0.5287, MRR@10=1.0000\n",
      "    Total time for query: 0.22 seconds\n"
     ]
    },
    {
     "name": "stderr",
     "output_type": "stream",
     "text": [
      " 64%|██████▍   | 48/75 [00:30<00:08,  3.08it/s]"
     ]
    },
    {
     "name": "stdout",
     "output_type": "stream",
     "text": [
      "Query 48 Stage 1 retrieved docs: ['NCT01712360', 'NCT02464839', 'NCT03999437', 'NCT04110834', 'NCT04110860', 'NCT01396785', 'NCT01396811', 'NCT00848666', 'NCT01110330', 'NCT03745183', 'NCT03823040', 'NCT01290341', 'NCT02824926', 'NCT02860052', 'NCT01891305', 'NCT02606383', 'NCT00509275', 'NCT00856596', 'NCT02565940', 'NCT01519752']\n",
      "Query 48: Bi-encoder precision is high (0.5000), skipping cross-encoder re-ranking\n",
      "  Query 48 stage 2 retrieved (after processing): ['NCT01712360', 'NCT02464839', 'NCT03999437', 'NCT04110834', 'NCT04110860', 'NCT01396785', 'NCT01396811', 'NCT00848666', 'NCT01110330', 'NCT03745183', 'NCT03823040', 'NCT01290341', 'NCT02824926', 'NCT02860052', 'NCT01891305', 'NCT02606383', 'NCT00509275', 'NCT00856596', 'NCT02565940', 'NCT01519752']\n",
      "   Query 48 metrics: Precision@10: 0.5000, Recall@10: 0.1042, F1@10: 0.1724, AP: 0.5545, nDCG@10: 0.5171, MRR@10=0.3333\n",
      "    Total time for query: 0.21 seconds\n",
      "Query 49 Stage 1 retrieved docs: ['NCT00134745', 'NCT01066052', 'NCT00001221', 'NCT01687842', 'NCT00140998', 'NCT00420654', 'NCT01760668', 'NCT00001343', 'NCT00029159', 'NCT00443144', 'NCT00266656', 'NCT00191113', 'NCT01710696', 'NCT00013546', 'NCT01410045', 'NCT00006334', 'NCT03189160', 'NCT00870220', 'NCT00097552', 'NCT00406926']\n",
      "Query 49: Bi-encoder precision is low (0.2000), applying cross-encoder re-ranking\n"
     ]
    },
    {
     "name": "stderr",
     "output_type": "stream",
     "text": [
      " 65%|██████▌   | 49/75 [00:31<00:11,  2.17it/s]"
     ]
    },
    {
     "name": "stdout",
     "output_type": "stream",
     "text": [
      "  Query 49 stage 2 retrieved (after processing): ['NCT00029159', 'NCT00001343', 'NCT00191113', 'NCT00140998', 'NCT00134745', 'NCT00006334', 'NCT01410045', 'NCT01687842', 'NCT00001221', 'NCT00420654', 'NCT01760668', 'NCT00013546', 'NCT00870220']\n",
      "   Query 49 metrics: Precision@10: 0.4000, Recall@10: 0.1143, F1@10: 0.1778, AP: 0.4712, nDCG@10: 0.5607, MRR@10=0.5000\n",
      "    Total time for query: 0.78 seconds\n",
      "Query 50 Stage 1 retrieved docs: ['NCT04528381', 'NCT03291678', 'NCT02203318', 'NCT04696874', 'NCT04826952', 'NCT00253253', 'NCT04142632', 'NCT04821167', 'NCT03033381', 'NCT02936024', 'NCT02235623', 'NCT02158780', 'NCT02731989', 'NCT02249637', 'NCT00264121', 'NCT03102554', 'NCT04661098', 'NCT02461303', 'NCT02239185', 'NCT03969979']\n",
      "Query 50: Bi-encoder precision is low (0.3000), applying cross-encoder re-ranking\n"
     ]
    },
    {
     "name": "stderr",
     "output_type": "stream",
     "text": [
      " 67%|██████▋   | 50/75 [00:31<00:14,  1.77it/s]"
     ]
    },
    {
     "name": "stdout",
     "output_type": "stream",
     "text": [
      "  Query 50 stage 2 retrieved (after processing): ['NCT04528381', 'NCT04821167', 'NCT04826952', 'NCT00264121', 'NCT02249637', 'NCT02158780', 'NCT03969979', 'NCT03033381', 'NCT02936024', 'NCT04661098', 'NCT04696874', 'NCT03291678', 'NCT02461303', 'NCT03102554', 'NCT02239185']\n",
      "   Query 50 metrics: Precision@10: 0.2000, Recall@10: 0.1429, F1@10: 0.1667, AP: 0.5833, nDCG@10: 0.4378, MRR@10=1.0000\n",
      "    Total time for query: 0.81 seconds\n"
     ]
    },
    {
     "name": "stderr",
     "output_type": "stream",
     "text": [
      " 68%|██████▊   | 51/75 [00:32<00:11,  2.14it/s]"
     ]
    },
    {
     "name": "stdout",
     "output_type": "stream",
     "text": [
      "Query 51 Stage 1 retrieved docs: ['NCT03658356', 'NCT04244526', 'NCT01507974', 'NCT01628900', 'NCT02305342', 'NCT02911662', 'NCT04055675', 'NCT04686318', 'NCT02536638', 'NCT01349738', 'NCT04575493', 'NCT03183531', 'NCT04667195', 'NCT00121797', 'NCT03501901', 'NCT03190421', 'NCT02637986', 'NCT00722735', 'NCT03634891', 'NCT02565940']\n",
      "Query 51: Bi-encoder precision is high (0.4000), skipping cross-encoder re-ranking\n",
      "  Query 51 stage 2 retrieved (after processing): ['NCT03658356', 'NCT04244526', 'NCT01507974', 'NCT01628900', 'NCT02305342', 'NCT02911662', 'NCT04055675', 'NCT04686318', 'NCT02536638', 'NCT01349738', 'NCT04575493', 'NCT03183531', 'NCT04667195', 'NCT00121797', 'NCT03501901', 'NCT03190421', 'NCT02637986', 'NCT00722735', 'NCT03634891', 'NCT02565940']\n",
      "   Query 51 metrics: Precision@10: 0.4000, Recall@10: 0.1429, F1@10: 0.2105, AP: 0.4010, nDCG@10: 0.4647, MRR@10=0.5000\n",
      "    Total time for query: 0.24 seconds\n"
     ]
    },
    {
     "name": "stderr",
     "output_type": "stream",
     "text": [
      " 69%|██████▉   | 52/75 [00:32<00:09,  2.51it/s]"
     ]
    },
    {
     "name": "stdout",
     "output_type": "stream",
     "text": [
      "Query 52 Stage 1 retrieved docs: ['NCT00229944', 'NCT00741052', 'NCT04150250', 'NCT02111304', 'NCT00142272', 'NCT03237663', 'NCT01811771', 'NCT00349999', 'NCT03251495', 'NCT00654108', 'NCT00490932', 'NCT00226616', 'NCT01269554', 'NCT00324285', 'NCT00709410', 'NCT00741637', 'NCT02565940', 'NCT00624975', 'NCT00289224', 'NCT04269174']\n",
      "Query 52: Bi-encoder precision is high (0.4000), skipping cross-encoder re-ranking\n",
      "  Query 52 stage 2 retrieved (after processing): ['NCT00229944', 'NCT00741052', 'NCT04150250', 'NCT02111304', 'NCT00142272', 'NCT03237663', 'NCT01811771', 'NCT00349999', 'NCT03251495', 'NCT00654108', 'NCT00490932', 'NCT00226616', 'NCT01269554', 'NCT00324285', 'NCT00709410', 'NCT00741637', 'NCT02565940', 'NCT00624975', 'NCT00289224', 'NCT04269174']\n",
      "   Query 52 metrics: Precision@10: 0.4000, Recall@10: 0.0976, F1@10: 0.1569, AP: 0.8833, nDCG@10: 0.6374, MRR@10=1.0000\n",
      "    Total time for query: 0.24 seconds\n",
      "Query 53 Stage 1 retrieved docs: ['NCT03624179', 'NCT00535158', 'NCT01456377', 'NCT01130181', 'NCT01419977', 'NCT03066817', 'NCT01495923', 'NCT04626063', 'NCT00130494', 'NCT04273490', 'NCT00345839', 'NCT00986180', 'NCT01119833', 'NCT03859895', 'NCT00997412', 'NCT04246619', 'NCT02490527', 'NCT02824718', 'NCT02002000', 'NCT03506919']\n",
      "Query 53: Bi-encoder precision is low (0.0000), applying cross-encoder re-ranking\n"
     ]
    },
    {
     "name": "stderr",
     "output_type": "stream",
     "text": [
      " 71%|███████   | 53/75 [00:33<00:11,  1.88it/s]"
     ]
    },
    {
     "name": "stdout",
     "output_type": "stream",
     "text": [
      "  Query 53 stage 2 retrieved (after processing): ['NCT01119833', 'NCT03506919', 'NCT00130494', 'NCT00345839', 'NCT01456377', 'NCT00535158', 'NCT02490527', 'NCT04626063', 'NCT01495923', 'NCT01130181', 'NCT04246619', 'NCT03624179', 'NCT00986180', 'NCT03066817', 'NCT01419977', 'NCT02824718', 'NCT03859895', 'NCT04273490', 'NCT00997412']\n",
      "   Query 53 metrics: Precision@10: 0.0000, Recall@10: 0.0000, F1@10: 0.0000, AP: 0.0000, nDCG@10: 0.0212, MRR@10=0.0000\n",
      "    Total time for query: 0.84 seconds\n",
      "Query 54 Stage 1 retrieved docs: ['NCT03782870', 'NCT03182049', 'NCT00748644', 'NCT00103792', 'NCT00001541', 'NCT02126098', 'NCT04413149', 'NCT01066208', 'NCT00987389', 'NCT01934504', 'NCT00530075', 'NCT02807103', 'NCT03712345', 'NCT00005007', 'NCT01940094', 'NCT00072592', 'NCT00307593', 'NCT00001256', 'NCT00001155', 'NCT03290456']\n",
      "Query 54: Bi-encoder precision is low (0.1000), applying cross-encoder re-ranking\n"
     ]
    },
    {
     "name": "stderr",
     "output_type": "stream",
     "text": [
      " 72%|███████▏  | 54/75 [00:34<00:13,  1.54it/s]"
     ]
    },
    {
     "name": "stdout",
     "output_type": "stream",
     "text": [
      "  Query 54 stage 2 retrieved (after processing): ['NCT04413149', 'NCT02126098', 'NCT00748644', 'NCT00001256', 'NCT00001155', 'NCT02807103', 'NCT03290456', 'NCT01066208', 'NCT00307593', 'NCT00987389', 'NCT03182049', 'NCT00103792', 'NCT03782870', 'NCT00001541', 'NCT03712345', 'NCT01934504', 'NCT00072592', 'NCT01940094', 'NCT00005007']\n",
      "   Query 54 metrics: Precision@10: 0.2000, Recall@10: 0.0667, F1@10: 0.1000, AP: 0.2403, nDCG@10: 0.2139, MRR@10=0.2500\n",
      "    Total time for query: 0.92 seconds\n"
     ]
    },
    {
     "name": "stderr",
     "output_type": "stream",
     "text": [
      " 73%|███████▎  | 55/75 [00:34<00:10,  1.90it/s]"
     ]
    },
    {
     "name": "stdout",
     "output_type": "stream",
     "text": [
      "Query 55 Stage 1 retrieved docs: ['NCT04212195', 'NCT03867526', 'NCT02763215', 'NCT04531189', 'NCT04408300', 'NCT00212355', 'NCT04012658', 'NCT02273596', 'NCT03589820', 'NCT01472874', 'NCT02426905', 'NCT01874028', 'NCT03299829', 'NCT01378182', 'NCT00212368', 'NCT03131427', 'NCT02712138', 'NCT01380899', 'NCT02702765', 'NCT02762682']\n",
      "Query 55: Bi-encoder precision is high (1.0000), skipping cross-encoder re-ranking\n",
      "  Query 55 stage 2 retrieved (after processing): ['NCT04212195', 'NCT03867526', 'NCT02763215', 'NCT04531189', 'NCT04408300', 'NCT00212355', 'NCT04012658', 'NCT02273596', 'NCT03589820', 'NCT01472874', 'NCT02426905', 'NCT01874028', 'NCT03299829', 'NCT01378182', 'NCT00212368', 'NCT03131427', 'NCT02712138', 'NCT01380899', 'NCT02702765', 'NCT02762682']\n",
      "   Query 55 metrics: Precision@10: 1.0000, Recall@10: 0.4348, F1@10: 0.6061, AP: 0.9485, nDCG@10: 1.0000, MRR@10=1.0000\n",
      "    Total time for query: 0.24 seconds\n"
     ]
    },
    {
     "name": "stderr",
     "output_type": "stream",
     "text": [
      " 75%|███████▍  | 56/75 [00:34<00:08,  2.30it/s]"
     ]
    },
    {
     "name": "stdout",
     "output_type": "stream",
     "text": [
      "Query 56 Stage 1 retrieved docs: ['NCT01861717', 'NCT02427295', 'NCT01809808', 'NCT01029275', 'NCT00921609', 'NCT01368133', 'NCT01371643', 'NCT03439709', 'NCT02952885', 'NCT01723748', 'NCT02296216', 'NCT00993356', 'NCT00171886', 'NCT00182091', 'NCT04860037', 'NCT02092129', 'NCT03710499', 'NCT00001860', 'NCT00690898', 'NCT00934271']\n",
      "Query 56: Bi-encoder precision is high (0.7000), skipping cross-encoder re-ranking\n",
      "  Query 56 stage 2 retrieved (after processing): ['NCT01861717', 'NCT02427295', 'NCT01809808', 'NCT01029275', 'NCT00921609', 'NCT01368133', 'NCT01371643', 'NCT03439709', 'NCT02952885', 'NCT01723748', 'NCT02296216', 'NCT00993356', 'NCT00171886', 'NCT00182091', 'NCT04860037', 'NCT02092129', 'NCT03710499', 'NCT00001860', 'NCT00690898', 'NCT00934271']\n",
      "   Query 56 metrics: Precision@10: 0.7000, Recall@10: 0.1373, F1@10: 0.2295, AP: 0.7940, nDCG@10: 0.8216, MRR@10=1.0000\n",
      "    Total time for query: 0.22 seconds\n"
     ]
    },
    {
     "name": "stderr",
     "output_type": "stream",
     "text": [
      " 76%|███████▌  | 57/75 [00:34<00:06,  2.69it/s]"
     ]
    },
    {
     "name": "stdout",
     "output_type": "stream",
     "text": [
      "Query 57 Stage 1 retrieved docs: ['NCT03259880', 'NCT04196504', 'NCT03354065', 'NCT04615702', 'NCT04570852', 'NCT01015417', 'NCT03342716', 'NCT04735055', 'NCT02430285', 'NCT02563080', 'NCT02528760', 'NCT03407534', 'NCT04750044', 'NCT03643900', 'NCT04408872', 'NCT00523874', 'NCT01929538', 'NCT00863642', 'NCT02543658', 'NCT03411629']\n",
      "Query 57: Bi-encoder precision is high (0.9000), skipping cross-encoder re-ranking\n",
      "  Query 57 stage 2 retrieved (after processing): ['NCT03259880', 'NCT04196504', 'NCT03354065', 'NCT04615702', 'NCT04570852', 'NCT01015417', 'NCT03342716', 'NCT04735055', 'NCT02430285', 'NCT02563080', 'NCT02528760', 'NCT03407534', 'NCT04750044', 'NCT03643900', 'NCT04408872', 'NCT00523874', 'NCT01929538', 'NCT00863642', 'NCT02543658', 'NCT03411629']\n",
      "   Query 57 metrics: Precision@10: 0.9000, Recall@10: 0.0833, F1@10: 0.1525, AP: 0.9021, nDCG@10: 0.9216, MRR@10=1.0000\n",
      "    Total time for query: 0.22 seconds\n",
      "Query 58 Stage 1 retrieved docs: ['NCT03289351', 'NCT03234296', 'NCT03236961', 'NCT00677417', 'NCT02404064', 'NCT04634448', 'NCT04440150', 'NCT04033198', 'NCT03902262', 'NCT00135603', 'NCT00971438', 'NCT02867072', 'NCT01967745', 'NCT03159754', 'NCT04253899', 'NCT03169114', 'NCT01054417', 'NCT02742402', 'NCT04688463', 'NCT02687464']\n",
      "Query 58: Bi-encoder precision is low (0.2000), applying cross-encoder re-ranking\n"
     ]
    },
    {
     "name": "stderr",
     "output_type": "stream",
     "text": [
      " 77%|███████▋  | 58/75 [00:35<00:08,  1.94it/s]"
     ]
    },
    {
     "name": "stdout",
     "output_type": "stream",
     "text": [
      "  Query 58 stage 2 retrieved (after processing): ['NCT03902262', 'NCT04440150', 'NCT04033198', 'NCT03234296', 'NCT03236961', 'NCT00677417', 'NCT04688463', 'NCT02742402', 'NCT02687464', 'NCT01967745', 'NCT01054417', 'NCT00135603', 'NCT03289351', 'NCT02404064', 'NCT00971438', 'NCT03159754', 'NCT03169114', 'NCT04634448']\n",
      "   Query 58 metrics: Precision@10: 0.3000, Recall@10: 0.0545, F1@10: 0.0923, AP: 0.2745, nDCG@10: 0.2974, MRR@10=0.1667\n",
      "    Total time for query: 0.85 seconds\n",
      "Query 59 Stage 1 retrieved docs: ['NCT04674137', 'NCT00411567', 'NCT01437735', 'NCT02415179', 'NCT01500525', 'NCT00585039', 'NCT03788057', 'NCT01515995', 'NCT03846570', 'NCT00509197', 'NCT00634517', 'NCT01436890', 'NCT01772368', 'NCT02340520', 'NCT03498742', 'NCT03204760', 'NCT00278083', 'NCT01313637', 'NCT01313650', 'NCT01687283']\n",
      "Query 59: Bi-encoder precision is low (0.2000), applying cross-encoder re-ranking\n"
     ]
    },
    {
     "name": "stderr",
     "output_type": "stream",
     "text": [
      " 79%|███████▊  | 59/75 [00:36<00:10,  1.58it/s]"
     ]
    },
    {
     "name": "stdout",
     "output_type": "stream",
     "text": [
      "  Query 59 stage 2 retrieved (after processing): ['NCT01500525', 'NCT03498742', 'NCT00585039', 'NCT03788057', 'NCT01515995', 'NCT03204760', 'NCT02415179', 'NCT01687283', 'NCT02340520', 'NCT00634517', 'NCT01772368', 'NCT03846570', 'NCT00509197', 'NCT04674137', 'NCT00278083', 'NCT01313637', 'NCT01313650']\n",
      "   Query 59 metrics: Precision@10: 0.3000, Recall@10: 0.0159, F1@10: 0.0302, AP: 0.3651, nDCG@10: 0.3430, MRR@10=0.3333\n",
      "    Total time for query: 0.91 seconds\n"
     ]
    },
    {
     "name": "stderr",
     "output_type": "stream",
     "text": [
      " 80%|████████  | 60/75 [00:36<00:07,  1.93it/s]"
     ]
    },
    {
     "name": "stdout",
     "output_type": "stream",
     "text": [
      "Query 60 Stage 1 retrieved docs: ['NCT03239951', 'NCT01563796', 'NCT02681471', 'NCT04781985', 'NCT01815697', 'NCT02689830', 'NCT02533687', 'NCT02524236', 'NCT02961114', 'NCT04766268', 'NCT00431626', 'NCT03104907', 'NCT00564460', 'NCT02822924', 'NCT02074644', 'NCT00169767', 'NCT00077012', 'NCT00381108', 'NCT03457805', 'NCT03912558']\n",
      "Query 60: Bi-encoder precision is high (0.4000), skipping cross-encoder re-ranking\n",
      "  Query 60 stage 2 retrieved (after processing): ['NCT03239951', 'NCT01563796', 'NCT02681471', 'NCT04781985', 'NCT01815697', 'NCT02689830', 'NCT02533687', 'NCT02524236', 'NCT02961114', 'NCT04766268', 'NCT00431626', 'NCT03104907', 'NCT00564460', 'NCT02822924', 'NCT02074644', 'NCT00169767', 'NCT00077012', 'NCT00381108', 'NCT03457805', 'NCT03912558']\n",
      "   Query 60 metrics: Precision@10: 0.4000, Recall@10: 0.0268, F1@10: 0.0503, AP: 0.5683, nDCG@10: 0.5329, MRR@10=1.0000\n",
      "    Total time for query: 0.25 seconds\n",
      "Query 61 Stage 1 retrieved docs: ['NCT02897700', 'NCT00001250', 'NCT03188393', 'NCT00542191', 'NCT04436809', 'NCT00970983', 'NCT04293796', 'NCT04697043', 'NCT04225858', 'NCT03669705', 'NCT01920139', 'NCT03681418', 'NCT04245150', 'NCT00881361', 'NCT01501487', 'NCT00003953', 'NCT03236974', 'NCT00507611', 'NCT00233974', 'NCT00103181']\n",
      "Query 61: Bi-encoder precision is low (0.1000), applying cross-encoder re-ranking\n"
     ]
    },
    {
     "name": "stderr",
     "output_type": "stream",
     "text": [
      " 81%|████████▏ | 61/75 [00:37<00:08,  1.61it/s]"
     ]
    },
    {
     "name": "stdout",
     "output_type": "stream",
     "text": [
      "  Query 61 stage 2 retrieved (after processing): ['NCT01501487', 'NCT03236974', 'NCT00542191', 'NCT01920139', 'NCT04245150', 'NCT00103181', 'NCT00507611', 'NCT00001250', 'NCT04225858', 'NCT02897700', 'NCT04697043', 'NCT00233974', 'NCT03669705', 'NCT00003953', 'NCT03681418', 'NCT03188393', 'NCT04293796', 'NCT00970983', 'NCT00881361']\n",
      "   Query 61 metrics: Precision@10: 0.1000, Recall@10: 0.0083, F1@10: 0.0154, AP: 0.2103, nDCG@10: 0.1834, MRR@10=0.1429\n",
      "    Total time for query: 0.86 seconds\n"
     ]
    },
    {
     "name": "stderr",
     "output_type": "stream",
     "text": [
      " 83%|████████▎ | 62/75 [00:37<00:06,  1.97it/s]"
     ]
    },
    {
     "name": "stdout",
     "output_type": "stream",
     "text": [
      "Query 62 Stage 1 retrieved docs: ['NCT00810550', 'NCT00949169', 'NCT04825080', 'NCT03721523', 'NCT01208025', 'NCT04423406', 'NCT02487615', 'NCT00307307', 'NCT03672955', 'NCT00451529', 'NCT03041168', 'NCT02476396', 'NCT02992821', 'NCT00235248', 'NCT03499496', 'NCT03464851', 'NCT02141932', 'NCT00005189', 'NCT04444024', 'NCT01042912']\n",
      "Query 62: Bi-encoder precision is high (0.6000), skipping cross-encoder re-ranking\n",
      "  Query 62 stage 2 retrieved (after processing): ['NCT00810550', 'NCT00949169', 'NCT04825080', 'NCT03721523', 'NCT01208025', 'NCT04423406', 'NCT02487615', 'NCT00307307', 'NCT03672955', 'NCT00451529', 'NCT03041168', 'NCT02476396', 'NCT02992821', 'NCT00235248', 'NCT03499496', 'NCT03464851', 'NCT02141932', 'NCT00005189', 'NCT04444024', 'NCT01042912']\n",
      "   Query 62 metrics: Precision@10: 0.6000, Recall@10: 0.0923, F1@10: 0.1600, AP: 0.4840, nDCG@10: 0.5289, MRR@10=0.3333\n",
      "    Total time for query: 0.24 seconds\n",
      "Query 63 Stage 1 retrieved docs: ['NCT01425177', 'NCT01015417', 'NCT02830984', 'NCT02472509', 'NCT02430285', 'NCT03259880', 'NCT03709030', 'NCT02349568', 'NCT03981315', 'NCT04234126', 'NCT00161083', 'NCT04615702', 'NCT04675190', 'NCT04408872', 'NCT02554097', 'NCT01100398', 'NCT01492790', 'NCT00634140', 'NCT02967926', 'NCT02469935']\n",
      "Query 63: Bi-encoder precision is low (0.1000), applying cross-encoder re-ranking\n"
     ]
    },
    {
     "name": "stderr",
     "output_type": "stream",
     "text": [
      " 84%|████████▍ | 63/75 [00:38<00:07,  1.63it/s]"
     ]
    },
    {
     "name": "stdout",
     "output_type": "stream",
     "text": [
      "  Query 63 stage 2 retrieved (after processing): ['NCT02469935', 'NCT02472509', 'NCT04408872', 'NCT01100398', 'NCT04234126', 'NCT01492790', 'NCT04675190', 'NCT01015417', 'NCT00634140', 'NCT03709030', 'NCT04615702', 'NCT03259880', 'NCT02830984', 'NCT00161083', 'NCT01425177', 'NCT03981315', 'NCT02349568', 'NCT02967926']\n",
      "   Query 63 metrics: Precision@10: 0.0000, Recall@10: 0.0000, F1@10: 0.0000, AP: 0.0850, nDCG@10: 0.0000, MRR@10=0.0000\n",
      "    Total time for query: 0.86 seconds\n"
     ]
    },
    {
     "name": "stderr",
     "output_type": "stream",
     "text": [
      " 85%|████████▌ | 64/75 [00:39<00:05,  1.98it/s]"
     ]
    },
    {
     "name": "stdout",
     "output_type": "stream",
     "text": [
      "Query 64 Stage 1 retrieved docs: ['NCT00751426', 'NCT03520660', 'NCT01872988', 'NCT02825212', 'NCT00380614', 'NCT00512941', 'NCT04405011', 'NCT03693586', 'NCT01360268', 'NCT03170076', 'NCT03547895', 'NCT02483156', 'NCT03226717', 'NCT03186313', 'NCT00707772', 'NCT03740789', 'NCT01453075', 'NCT04546802', 'NCT00527540', 'NCT03014986']\n",
      "Query 64: Bi-encoder precision is high (0.4000), skipping cross-encoder re-ranking\n",
      "  Query 64 stage 2 retrieved (after processing): ['NCT00751426', 'NCT03520660', 'NCT01872988', 'NCT02825212', 'NCT00380614', 'NCT00512941', 'NCT04405011', 'NCT03693586', 'NCT01360268', 'NCT03170076', 'NCT03547895', 'NCT02483156', 'NCT03226717', 'NCT03186313', 'NCT00707772', 'NCT03740789', 'NCT01453075', 'NCT04546802', 'NCT00527540', 'NCT03014986']\n",
      "   Query 64 metrics: Precision@10: 0.4000, Recall@10: 0.0615, F1@10: 0.1067, AP: 0.4155, nDCG@10: 0.3542, MRR@10=0.5000\n",
      "    Total time for query: 0.25 seconds\n",
      "Query 65 Stage 1 retrieved docs: ['NCT03188757', 'NCT00684528', 'NCT00488033', 'NCT02062554', 'NCT01029392', 'NCT01220349', 'NCT04200586', 'NCT04593173', 'NCT04450407', 'NCT00732524', 'NCT03117010', 'NCT01071928', 'NCT02280174', 'NCT03930004', 'NCT04388280', 'NCT04256005', 'NCT02691533', 'NCT04385589', 'NCT01215136', 'NCT01154413']\n",
      "Query 65: Bi-encoder precision is low (0.1000), applying cross-encoder re-ranking\n"
     ]
    },
    {
     "name": "stderr",
     "output_type": "stream",
     "text": [
      " 87%|████████▋ | 65/75 [00:39<00:05,  1.68it/s]"
     ]
    },
    {
     "name": "stdout",
     "output_type": "stream",
     "text": [
      "  Query 65 stage 2 retrieved (after processing): ['NCT01220349', 'NCT04388280', 'NCT02280174', 'NCT01154413', 'NCT01029392', 'NCT00732524', 'NCT04200586', 'NCT02062554', 'NCT04385589', 'NCT04256005', 'NCT03117010', 'NCT03188757', 'NCT01215136', 'NCT01071928', 'NCT00488033', 'NCT00684528']\n",
      "   Query 65 metrics: Precision@10: 0.0000, Recall@10: 0.0000, F1@10: 0.0000, AP: 0.0000, nDCG@10: 0.0000, MRR@10=0.0000\n",
      "    Total time for query: 0.81 seconds\n",
      "Query 66 Stage 1 retrieved docs: ['NCT04752202', 'NCT00552487', 'NCT02319538', 'NCT02798965', 'NCT01884649', 'NCT02725879', 'NCT04754607', 'NCT02868476', 'NCT02126683', 'NCT00665171', 'NCT03984006', 'NCT00172523', 'NCT03106935', 'NCT01760421', 'NCT04249271', 'NCT02703064', 'NCT04178928', 'NCT01313455', 'NCT00001159', 'NCT03048708']\n",
      "Query 66: Bi-encoder precision is low (0.1000), applying cross-encoder re-ranking\n"
     ]
    },
    {
     "name": "stderr",
     "output_type": "stream",
     "text": [
      " 88%|████████▊ | 66/75 [00:40<00:06,  1.47it/s]"
     ]
    },
    {
     "name": "stdout",
     "output_type": "stream",
     "text": [
      "  Query 66 stage 2 retrieved (after processing): ['NCT01313455', 'NCT02725879', 'NCT00552487', 'NCT02319538', 'NCT01760421', 'NCT02703064', 'NCT00172523', 'NCT04249271', 'NCT00665171', 'NCT04754607', 'NCT01884649', 'NCT03106935', 'NCT03048708', 'NCT00001159', 'NCT04178928', 'NCT02868476', 'NCT03984006']\n",
      "   Query 66 metrics: Precision@10: 0.1000, Recall@10: 0.0909, F1@10: 0.0952, AP: 0.3214, nDCG@10: 0.2355, MRR@10=0.5000\n",
      "    Total time for query: 0.87 seconds\n",
      "Query 67 Stage 1 retrieved docs: ['NCT00343213', 'NCT00872937', 'NCT00091130', 'NCT03998254', 'NCT01385436', 'NCT03837028', 'NCT00128661', 'NCT00201370', 'NCT03920800', 'NCT00743626', 'NCT04369339', 'NCT01550783', 'NCT04171505', 'NCT03577925', 'NCT00689741', 'NCT00006444', 'NCT00312286', 'NCT00117884', 'NCT01924117', 'NCT01131312']\n",
      "Query 67: Bi-encoder precision is low (0.2000), applying cross-encoder re-ranking\n"
     ]
    },
    {
     "name": "stderr",
     "output_type": "stream",
     "text": [
      " 89%|████████▉ | 67/75 [00:41<00:05,  1.39it/s]"
     ]
    },
    {
     "name": "stdout",
     "output_type": "stream",
     "text": [
      "  Query 67 stage 2 retrieved (after processing): ['NCT01385436', 'NCT01550783', 'NCT01131312', 'NCT00201370', 'NCT01924117', 'NCT00006444', 'NCT00091130', 'NCT03837028', 'NCT04171505', 'NCT00312286', 'NCT00117884', 'NCT03577925', 'NCT00128661', 'NCT03998254']\n",
      "   Query 67 metrics: Precision@10: 0.2000, Recall@10: 0.0333, F1@10: 0.0571, AP: 0.3611, nDCG@10: 0.3994, MRR@10=0.3333\n",
      "    Total time for query: 0.82 seconds\n",
      "Query 68 Stage 1 retrieved docs: ['NCT00901940', 'NCT04749810', 'NCT01133834', 'NCT03721146', 'NCT04236960', 'NCT00862277', 'NCT02205541', 'NCT00390143', 'NCT03263403', 'NCT02257892', 'NCT01257269', 'NCT00974363', 'NCT02904863', 'NCT02986854', 'NCT01478347', 'NCT02464891', 'NCT04083443', 'NCT02867319', 'NCT00661557', 'NCT04204096']\n",
      "Query 68: Bi-encoder precision is low (0.0000), applying cross-encoder re-ranking\n"
     ]
    },
    {
     "name": "stderr",
     "output_type": "stream",
     "text": [
      " 91%|█████████ | 68/75 [00:42<00:05,  1.30it/s]"
     ]
    },
    {
     "name": "stdout",
     "output_type": "stream",
     "text": [
      "  Query 68 stage 2 retrieved (after processing): ['NCT00390143', 'NCT00974363', 'NCT02205541', 'NCT00661557', 'NCT04083443', 'NCT01257269', 'NCT02904863', 'NCT02257892', 'NCT03721146', 'NCT00862277', 'NCT02986854', 'NCT03263403', 'NCT01133834', 'NCT04749810', 'NCT00901940', 'NCT02464891', 'NCT04204096']\n",
      "   Query 68 metrics: Precision@10: 0.1000, Recall@10: 0.0233, F1@10: 0.0377, AP: 0.1339, nDCG@10: 0.2613, MRR@10=0.1429\n",
      "    Total time for query: 0.89 seconds\n"
     ]
    },
    {
     "name": "stderr",
     "output_type": "stream",
     "text": [
      " 92%|█████████▏| 69/75 [00:42<00:03,  1.62it/s]"
     ]
    },
    {
     "name": "stdout",
     "output_type": "stream",
     "text": [
      "Query 69 Stage 1 retrieved docs: ['NCT01181336', 'NCT00230750', 'NCT00769002', 'NCT00253734', 'NCT00546585', 'NCT00397215', 'NCT01317745', 'NCT02213354', 'NCT01827462', 'NCT02746783', 'NCT00943358', 'NCT02908269', 'NCT01721083', 'NCT01317758', 'NCT03028974', 'NCT00283283', 'NCT00973895', 'NCT00170547', 'NCT03020498', 'NCT01123954']\n",
      "Query 69: Bi-encoder precision is high (0.4000), skipping cross-encoder re-ranking\n",
      "  Query 69 stage 2 retrieved (after processing): ['NCT01181336', 'NCT00230750', 'NCT00769002', 'NCT00253734', 'NCT00546585', 'NCT00397215', 'NCT01317745', 'NCT02213354', 'NCT01827462', 'NCT02746783', 'NCT00943358', 'NCT02908269', 'NCT01721083', 'NCT01317758', 'NCT03028974', 'NCT00283283', 'NCT00973895', 'NCT00170547', 'NCT03020498', 'NCT01123954']\n",
      "   Query 69 metrics: Precision@10: 0.4000, Recall@10: 0.1053, F1@10: 0.1667, AP: 0.4075, nDCG@10: 0.4521, MRR@10=0.5000\n",
      "    Total time for query: 0.26 seconds\n",
      "Query 70 Stage 1 retrieved docs: ['NCT01725048', 'NCT04471818', 'NCT01312922', 'NCT02436252', 'NCT02746367', 'NCT03554447', 'NCT01497548', 'NCT04442490', 'NCT00976560', 'NCT01935050', 'NCT01748734', 'NCT01619631', 'NCT03717844', 'NCT00360399', 'NCT00625742', 'NCT00122954', 'NCT03057860', 'NCT03833206', 'NCT02424708', 'NCT04826614']\n",
      "Query 70: Bi-encoder precision is low (0.3000), applying cross-encoder re-ranking\n"
     ]
    },
    {
     "name": "stderr",
     "output_type": "stream",
     "text": [
      " 93%|█████████▎| 70/75 [00:43<00:03,  1.46it/s]"
     ]
    },
    {
     "name": "stdout",
     "output_type": "stream",
     "text": [
      "  Query 70 stage 2 retrieved (after processing): ['NCT04826614', 'NCT03554447', 'NCT01725048', 'NCT00360399', 'NCT01619631', 'NCT02746367', 'NCT02436252', 'NCT01497548', 'NCT03717844', 'NCT01935050', 'NCT00122954', 'NCT01748734', 'NCT01312922', 'NCT02424708', 'NCT03057860', 'NCT00625742']\n",
      "   Query 70 metrics: Precision@10: 0.4000, Recall@10: 0.0364, F1@10: 0.0667, AP: 0.8167, nDCG@10: 0.5908, MRR@10=1.0000\n",
      "    Total time for query: 0.84 seconds\n"
     ]
    },
    {
     "name": "stderr",
     "output_type": "stream",
     "text": [
      " 95%|█████████▍| 71/75 [00:43<00:02,  1.81it/s]"
     ]
    },
    {
     "name": "stdout",
     "output_type": "stream",
     "text": [
      "Query 71 Stage 1 retrieved docs: ['NCT01842425', 'NCT00622765', 'NCT00770276', 'NCT02598531', 'NCT04278183', 'NCT04554082', 'NCT04193995', 'NCT03105050', 'NCT01639677', 'NCT02463435', 'NCT01040533', 'NCT01784848', 'NCT04109664', 'NCT03288259', 'NCT01041105', 'NCT02680873', 'NCT02004561', 'NCT00667498', 'NCT03394157', 'NCT00120562']\n",
      "Query 71: Bi-encoder precision is high (0.5000), skipping cross-encoder re-ranking\n",
      "  Query 71 stage 2 retrieved (after processing): ['NCT01842425', 'NCT00622765', 'NCT00770276', 'NCT02598531', 'NCT04278183', 'NCT04554082', 'NCT04193995', 'NCT03105050', 'NCT01639677', 'NCT02463435', 'NCT01040533', 'NCT01784848', 'NCT04109664', 'NCT03288259', 'NCT01041105', 'NCT02680873', 'NCT02004561', 'NCT00667498', 'NCT03394157', 'NCT00120562']\n",
      "   Query 71 metrics: Precision@10: 0.5000, Recall@10: 0.0376, F1@10: 0.0699, AP: 0.7537, nDCG@10: 0.6137, MRR@10=1.0000\n",
      "    Total time for query: 0.25 seconds\n",
      "Query 72 Stage 1 retrieved docs: ['NCT02902536', 'NCT03792659', 'NCT04674605', 'NCT04535843', 'NCT01727193', 'NCT00306033', 'NCT00619671', 'NCT02950155', 'NCT00727194', 'NCT01480596', 'NCT04768465', 'NCT04226170', 'NCT03914638', 'NCT03315130', 'NCT01997229', 'NCT03920293', 'NCT02100969', 'NCT03971422', 'NCT00814138', 'NCT04728425']\n",
      "Query 72: Bi-encoder precision is low (0.2000), applying cross-encoder re-ranking\n"
     ]
    },
    {
     "name": "stderr",
     "output_type": "stream",
     "text": [
      " 96%|█████████▌| 72/75 [00:44<00:01,  1.63it/s]"
     ]
    },
    {
     "name": "stdout",
     "output_type": "stream",
     "text": [
      "  Query 72 stage 2 retrieved (after processing): ['NCT00306033', 'NCT03914638', 'NCT02100969', 'NCT04768465', 'NCT03792659', 'NCT00619671', 'NCT02950155', 'NCT02902536', 'NCT04728425', 'NCT04226170']\n",
      "   Query 72 metrics: Precision@10: 0.0000, Recall@10: 0.0000, F1@10: 0.0000, AP: 0.0000, nDCG@10: 0.2683, MRR@10=0.0000\n",
      "    Total time for query: 0.76 seconds\n",
      "Query 73 Stage 1 retrieved docs: ['NCT01136577', 'NCT04215601', 'NCT02625688', 'NCT04099602', 'NCT04719104', 'NCT04418180', 'NCT03942757', 'NCT03055481', 'NCT02154165', 'NCT02446951', 'NCT03183986', 'NCT03569254', 'NCT03570775', 'NCT00653874', 'NCT02613676', 'NCT02774434', 'NCT01434810', 'NCT01622699', 'NCT00635375', 'NCT04365998']\n",
      "Query 73: Bi-encoder precision is low (0.2000), applying cross-encoder re-ranking\n"
     ]
    },
    {
     "name": "stderr",
     "output_type": "stream",
     "text": [
      " 97%|█████████▋| 73/75 [00:45<00:01,  1.45it/s]"
     ]
    },
    {
     "name": "stdout",
     "output_type": "stream",
     "text": [
      "  Query 73 stage 2 retrieved (after processing): ['NCT04215601', 'NCT02774434', 'NCT02446951', 'NCT01434810', 'NCT01622699', 'NCT03942757', 'NCT04099602', 'NCT02625688', 'NCT01136577', 'NCT03183986', 'NCT04719104', 'NCT00653874', 'NCT02613676', 'NCT03055481', 'NCT03570775', 'NCT03569254']\n",
      "   Query 73 metrics: Precision@10: 0.4000, Recall@10: 0.2000, F1@10: 0.2667, AP: 0.4267, nDCG@10: 0.5321, MRR@10=0.5000\n",
      "    Total time for query: 0.86 seconds\n"
     ]
    },
    {
     "name": "stderr",
     "output_type": "stream",
     "text": [
      " 99%|█████████▊| 74/75 [00:45<00:00,  1.79it/s]"
     ]
    },
    {
     "name": "stdout",
     "output_type": "stream",
     "text": [
      "Query 74 Stage 1 retrieved docs: ['NCT00306046', 'NCT00051636', 'NCT00774020', 'NCT00480662', 'NCT00747994', 'NCT04222452', 'NCT02106455', 'NCT00894075', 'NCT02802384', 'NCT02056730', 'NCT00453128', 'NCT03993821', 'NCT03859895', 'NCT00108394', 'NCT00195936', 'NCT00066183', 'NCT00417612', 'NCT02198001', 'NCT02967042', 'NCT00973336']\n",
      "Query 74: Bi-encoder precision is high (0.7000), skipping cross-encoder re-ranking\n",
      "  Query 74 stage 2 retrieved (after processing): ['NCT00306046', 'NCT00051636', 'NCT00774020', 'NCT00480662', 'NCT00747994', 'NCT04222452', 'NCT02106455', 'NCT00894075', 'NCT02802384', 'NCT02056730', 'NCT00453128', 'NCT03993821', 'NCT03859895', 'NCT00108394', 'NCT00195936', 'NCT00066183', 'NCT00417612', 'NCT02198001', 'NCT02967042', 'NCT00973336']\n",
      "   Query 74 metrics: Precision@10: 0.7000, Recall@10: 0.6364, F1@10: 0.6667, AP: 0.9478, nDCG@10: 0.7885, MRR@10=1.0000\n",
      "    Total time for query: 0.25 seconds\n",
      "Query 75 Stage 1 retrieved docs: ['NCT00443768', 'NCT00001928', 'NCT00203060', 'NCT00199394', 'NCT04380142', 'NCT00526630', 'NCT00607451', 'NCT00148512', 'NCT00472355', 'NCT00666653', 'NCT00307450', 'NCT03956979', 'NCT00199407', 'NCT03433950', 'NCT04379050', 'NCT04750226', 'NCT04472130', 'NCT00199420', 'NCT00199355', 'NCT03568968']\n",
      "Query 75: Bi-encoder precision is low (0.1000), applying cross-encoder re-ranking\n"
     ]
    },
    {
     "name": "stderr",
     "output_type": "stream",
     "text": [
      "100%|██████████| 75/75 [00:46<00:00,  1.61it/s]"
     ]
    },
    {
     "name": "stdout",
     "output_type": "stream",
     "text": [
      "  Query 75 stage 2 retrieved (after processing): ['NCT00001928', 'NCT03568968', 'NCT00443768', 'NCT00607451', 'NCT00199394', 'NCT00307450', 'NCT00472355', 'NCT04472130', 'NCT03433950', 'NCT00199420', 'NCT00199355', 'NCT00199407', 'NCT03956979', 'NCT00526630', 'NCT00666653', 'NCT00148512']\n",
      "   Query 75 metrics: Precision@10: 0.3000, Recall@10: 0.0213, F1@10: 0.0397, AP: 0.7917, nDCG@10: 0.5685, MRR@10=1.0000\n",
      "    Total time for query: 0.83 seconds\n",
      "Date/time:2025-04-10 08:24:20\n",
      "\n",
      "Bi-encoder and cross-encoder - Overall evaluation metrics:\n",
      "Relevance Threshold: 2\n",
      "Mean Precision@10: 0.3333\n",
      "Mean Recall@10: 0.0740\n",
      "Mean F1@10: 0.1074\n",
      "Mean Average Precision (MAP): 0.4595\n",
      "Mean nDCG@10: 0.4379\n",
      "Mean MRR10: 0.5775\n",
      "Average total time per query: 0.62 seconds\n"
     ]
    },
    {
     "name": "stderr",
     "output_type": "stream",
     "text": [
      "\n"
     ]
    }
   ],
   "source": [
    "\"\"\"\n",
    "Zuveir Jameer\n",
    "8 April 2025\n",
    "Bi-encoder and cross-encoder selectively based on precision threshold\n",
    "\"\"\"\n",
    "\n",
    "import json\n",
    "import numpy as np\n",
    "from elasticsearch import Elasticsearch\n",
    "from tqdm import tqdm\n",
    "import torch\n",
    "from transformers import AutoTokenizer, AutoModelForSequenceClassification\n",
    "from sentence_transformers import SentenceTransformer\n",
    "import time\n",
    "from datetime import datetime\n",
    "import pandas as pd\n",
    "\n",
    "# Setup: Load Models for Cross-encoder for re-ranking\n",
    "cross_tokenizer = AutoTokenizer.from_pretrained(\"cross-encoder/ms-marco-MiniLM-L6-v2\")\n",
    "cross_model = AutoModelForSequenceClassification.from_pretrained(\"cross-encoder/ms-marco-MiniLM-L6-v2\")\n",
    "\n",
    "\n",
    "cross_model.eval()\n",
    "device = torch.device(\"mps\" if torch.backends.mps.is_available() else \"cpu\")\n",
    "cross_model.to(device)\n",
    "\n",
    "# Evaluation Metric Functions\n",
    "def precision_at_k(re_ranked_docs, relevant_docs, k):\n",
    "    top_k_docs = re_ranked_docs[:k]\n",
    "    num_relevant_in_k = sum(1 for doc in top_k_docs \n",
    "                            if doc in relevant_docs and relevant_docs[doc] > 0)\n",
    "    return num_relevant_in_k / k if k else 0.0\n",
    "\n",
    "def recall_at_k(re_ranked_docs, relevant_docs, k):\n",
    "    top_k_docs = re_ranked_docs[:k]\n",
    "    total_relevant = sum(1 for doc, rel in relevant_docs.items() if rel > 0)\n",
    "    if total_relevant == 0:\n",
    "        return 0.0\n",
    "    num_relevant_in_k = sum(1 for doc in top_k_docs \n",
    "                            if doc in relevant_docs and relevant_docs[doc] > 0)\n",
    "    return num_relevant_in_k / total_relevant\n",
    "\n",
    "def f1_at_k(re_ranked_docs, relevant_docs, k):\n",
    "    p = precision_at_k(re_ranked_docs, relevant_docs, k)\n",
    "    r = recall_at_k(re_ranked_docs, relevant_docs, k)\n",
    "    if (p + r) == 0:\n",
    "        return 0.0\n",
    "    return 2 * (p * r) / (p + r)\n",
    "\n",
    "def average_precision(re_ranked_docs, relevant_docs):\n",
    "    if not relevant_docs:\n",
    "        return 0.0\n",
    "    \n",
    "    relevant_indices = [\n",
    "        i for i, doc in enumerate(re_ranked_docs)\n",
    "        if doc in relevant_docs and relevant_docs[doc] > 0\n",
    "    ]\n",
    "    if not relevant_indices:\n",
    "        return 0.0\n",
    "    \n",
    "    ap_sum = 0.0\n",
    "    for idx, rank_pos in enumerate(relevant_indices, start=1):\n",
    "        prec = precision_at_k(re_ranked_docs, relevant_docs, rank_pos+1)\n",
    "        ap_sum += prec\n",
    "    return ap_sum / len(relevant_indices)\n",
    "\n",
    "def ndcg_at_k(re_ranked_docs, relevant_docs, k):\n",
    "    def dcg(scores):\n",
    "        return sum(( (2**s - 1) / np.log2(idx + 2)) for idx, s in enumerate(scores))\n",
    "    \n",
    "    top_k_docs = re_ranked_docs[:k]\n",
    "    actual_scores = [relevant_docs[doc] if doc in relevant_docs else 0 for doc in top_k_docs]\n",
    "    actual_dcg = dcg(actual_scores)\n",
    "    \n",
    "    sorted_rels = sorted(relevant_docs.values(), reverse=True)[:k]\n",
    "    ideal_dcg = dcg(sorted_rels)\n",
    "    \n",
    "    if ideal_dcg == 0:\n",
    "        return 0.0\n",
    "    return actual_dcg / ideal_dcg\n",
    "\n",
    "def mrr_at_k(re_ranked_docs, relevant_docs, k):\n",
    "    for i, doc_id in enumerate(re_ranked_docs[:k], start=1):\n",
    "        if doc_id in relevant_docs and relevant_docs[doc_id] > 0:\n",
    "            return 1.0 / i\n",
    "    return 0.0\n",
    "\n",
    "# Data Loading\n",
    "def load_jsonl(filename):\n",
    "    with open(filename, \"r\") as f:\n",
    "        return [json.loads(line) for line in f]\n",
    "\n",
    "queries = load_jsonl(\"trec_ct_2021_query.jsonl\")\n",
    "qrels_list = load_jsonl(\"trec_ct_2021_qrels.jsonl\")\n",
    "\n",
    "# Create a dictionary mapping query_id to {doc_id: relevance}\n",
    "qrels = {}\n",
    "for q in qrels_list:\n",
    "    qid = q[\"query_id\"]\n",
    "    if qid not in qrels:\n",
    "        qrels[qid] = {}\n",
    "    relevance = int(q.get(\"relevance\", 0))\n",
    "    qrels[qid][q[\"doc_id\"]] = relevance\n",
    "\n",
    "print(f\"Loaded {len(queries)} queries\")\n",
    "print(f\"Loaded qrels for {len(qrels)} queries\")\n",
    "\n",
    "RELEVANCE_THRESHOLD = 2\n",
    "\n",
    "filtered_qrels = {\n",
    "    qid: {doc: rel for doc, rel in rels.items() if rel >= RELEVANCE_THRESHOLD}\n",
    "    for qid, rels in qrels.items()\n",
    "}\n",
    "\n",
    "ndcg_qrels = {\n",
    "    qid: {doc: rel for doc, rel in rels.items()}\n",
    "    for qid, rels in qrels.items()\n",
    "}\n",
    "\n",
    "# Dense Retrieval (Stage 1) Functions using Bi-Encoder\n",
    "def search_detailed_descrption(query_vector, K=100):\n",
    "    \"\"\"\n",
    "    Retrieve candidate documents using dense vector search with cosine similarity.\n",
    "    Each document in ES has a pre-computed vector in the field \n",
    "    'detailed_descrption_vector_1'.\n",
    "    \"\"\"\n",
    "    search_body = {\n",
    "      \"query\": {\n",
    "        \"script_score\": {\n",
    "          \"query\": {\n",
    "            \"bool\": {\n",
    "              \"must\": [\n",
    "                {\"match_all\": {}},\n",
    "                {\"exists\": {\"field\": \"detailed_descrption_vector_1\"}}\n",
    "              ]\n",
    "            }\n",
    "          },\n",
    "          \"script\": {\n",
    "            \"source\": \"cosineSimilarity(params.query_vector, 'detailed_descrption_vector_1') + 1.0\",\n",
    "            \"params\": {\"query_vector\": query_vector}\n",
    "          }\n",
    "        }\n",
    "      }\n",
    "    }\n",
    "    response = es.search(index=\"ir_dev_sentence_index\", body=search_body, size=K) \n",
    "    #size=K: Limits the number of results returned to K documents. The query will only return up to K matching documents.\n",
    "    return [hit[\"_source\"][\"doc_id\"] for hit in response['hits']['hits']]\n",
    "\n",
    "def get_document_text(doc_id):\n",
    "    \"\"\"\n",
    "    Retrieve the detailed description for a document given its ID.\n",
    "    Make sure that the field name matches your index mapping.\n",
    "    \"\"\"\n",
    "    query = {\n",
    "        \"query\": {\n",
    "            \"term\": {\"doc_id.keyword\": doc_id}\n",
    "        }\n",
    "    }\n",
    "    response = es.search(index=\"ir_dev_sentence_index\", body=query, size=1)\n",
    "    hits = response.get(\"hits\", {}).get(\"hits\", [])\n",
    "    if hits:\n",
    "        doc_text = hits[0][\"_source\"].get(\"detailed_descrption\", \"\").strip()\n",
    "        # Debug: Uncomment the following line to inspect retrieved text\n",
    "        # print(f\"Doc {doc_id} text snippet: {doc_text[:100]}\")\n",
    "        return doc_text if doc_text else None\n",
    "    else:\n",
    "        return None\n",
    "\n",
    "K = 20  # Number of candidates from dense retrieval\n",
    "reRank_K=20 # Number of results from re-ranker\n",
    "top_k = 10  # documents to be processed for results\n",
    "selectivePrecision = 0.3  #Only records from bi-encoder with precision below or equal to this threshold are sent to cross-encoder.\n",
    "\n",
    "\n",
    "def cross_encoder_rerank(query_text, candidate_doc_ids, top_k=reRank_K):\n",
    "    candidate_pairs = []\n",
    "    valid_doc_ids = []\n",
    "    for doc_id in candidate_doc_ids:\n",
    "        try:\n",
    "            doc_text = get_document_text(doc_id)\n",
    "            if doc_text is None or not doc_text.strip():\n",
    "                continue\n",
    "            candidate_pairs.append((query_text, doc_text))\n",
    "            valid_doc_ids.append(doc_id)\n",
    "        except Exception as e:\n",
    "            print(f\"Error fetching doc {doc_id}: {e}\")\n",
    "            continue\n",
    "\n",
    "    if not candidate_pairs:\n",
    "        print(\"No valid candidate pairs found; returning original candidates.\")\n",
    "        return candidate_doc_ids\n",
    "\n",
    "    inputs = cross_tokenizer.batch_encode_plus(\n",
    "        candidate_pairs, \n",
    "        padding=True, \n",
    "        truncation=True, \n",
    "        return_tensors=\"pt\"\n",
    "    )\n",
    "    inputs = {k: v.to(cross_model.device) for k, v in inputs.items()}\n",
    "\n",
    "    with torch.no_grad():\n",
    "        outputs = cross_model(**inputs)\n",
    "\n",
    "    if outputs.logits.shape[-1] == 1:\n",
    "        scores = outputs.logits.squeeze(-1)\n",
    "    else:\n",
    "        scores = torch.softmax(outputs.logits, dim=1)[:, 1]\n",
    "\n",
    "    ranked = sorted(\n",
    "        zip(valid_doc_ids, scores.tolist()), \n",
    "        key=lambda x: x[1], \n",
    "        reverse=True\n",
    "    )\n",
    "\n",
    "    # If top_k is specified, slice the top_k\n",
    "    if top_k is not None:\n",
    "        ranked = ranked[:top_k]\n",
    "\n",
    "    # Return just the document IDs, in ranked order\n",
    "    return [doc_id for doc_id, score in ranked]\n",
    "\n",
    "all_metrics = []\n",
    "\n",
    "print(\"Processing queries and retrieving documents...\")\n",
    "for query in tqdm(queries, total=len(queries)):\n",
    "    qid = query[\"query_id\"]\n",
    "    query_text = query[\"text\"]\n",
    "    if not query_text.strip():\n",
    "        print(f\"Query {qid} is empty, skipping.\")\n",
    "        continue\n",
    "    \n",
    "    start_time = time.time()\n",
    "    \n",
    "    # Stage 1: Get the dense vector for the query and retrieve candidates\n",
    "    query_vector = get_embedding(query_text)\n",
    "    try:\n",
    "        retrieved_docs = search_detailed_descrption(query_vector, K)\n",
    "        print(f\"Query {qid} Stage 1 retrieved docs: {retrieved_docs}\")\n",
    "    except Exception as e:\n",
    "        print(f\"Error retrieving documents for query {qid}: {e}\")\n",
    "        continue\n",
    "\n",
    "  \n",
    "    # Evaluate bi-encoder precision before deciding on cross-encoder re-ranking\n",
    "    bi_precision = precision_at_k(retrieved_docs, filtered_qrels.get(qid, {}), top_k)\n",
    "    if bi_precision <= selectivePrecision:\n",
    "        print(f\"Query {qid}: Bi-encoder precision is low ({bi_precision:.4f}), applying cross-encoder re-ranking\")\n",
    "        try:\n",
    "            re_ranked_docs = cross_encoder_rerank(query_text, retrieved_docs)\n",
    "        except Exception as e:\n",
    "            print(f\"Error in cross encoder re-ranking for query {qid}: {e}\")\n",
    "            re_ranked_docs = retrieved_docs\n",
    "    else:\n",
    "        print(f\"Query {qid}: Bi-encoder precision is high ({bi_precision:.4f}), skipping cross-encoder re-ranking\")\n",
    "        re_ranked_docs = retrieved_docs\n",
    "\n",
    "    total_time = time.time() - start_time\n",
    "    \n",
    "    # Evaluate using filtered qrels\n",
    "    relevant = filtered_qrels.get(qid, {})\n",
    "    ndcg_relevant = ndcg_qrels.get(qid, {})\n",
    "    p10 = precision_at_k(re_ranked_docs, relevant, top_k)\n",
    "    r10 = recall_at_k(re_ranked_docs, relevant, top_k)\n",
    "    f1 = f1_at_k(re_ranked_docs, relevant, top_k)\n",
    "    ap = average_precision(re_ranked_docs, relevant)\n",
    "    ndcg = ndcg_at_k(re_ranked_docs, ndcg_relevant, top_k)\n",
    "    mrr_val = mrr_at_k(re_ranked_docs, relevant, top_k)\n",
    "\n",
    "    all_metrics.append({\n",
    "        \"query_id\": qid, \n",
    "        \"precision\": p10, \n",
    "        \"recall\": r10, \n",
    "        \"f1\": f1, \n",
    "        \"ap\": ap, \n",
    "        \"ndcg\": ndcg,\n",
    "        \"mrr\": mrr_val,\n",
    "        \"time_seconds\": total_time\n",
    "    })\n",
    "    print(f\"  Query {qid} stage 2 retrieved (after processing): {re_ranked_docs}\")\n",
    "    print(f\"   Query {qid} metrics: Precision@{top_k}: {p10:.4f}, Recall@{top_k}: {r10:.4f}, F1@{top_k}: {f1:.4f}, AP: {ap:.4f}, nDCG@{top_k}: {ndcg:.4f}, MRR@{top_k}={mrr_val:.4f}\")\n",
    "    print(f\"    Total time for query: {total_time:.2f} seconds\")\n",
    "    \n",
    "if all_metrics:\n",
    "    avg_precision = np.mean([m[\"precision\"] for m in all_metrics])\n",
    "    avg_recall = np.mean([m[\"recall\"] for m in all_metrics])\n",
    "    avg_f1 = np.mean([m[\"f1\"] for m in all_metrics])\n",
    "    avg_ap = np.mean([m[\"ap\"] for m in all_metrics])\n",
    "    avg_ndcg = np.mean([m[\"ndcg\"] for m in all_metrics])\n",
    "    avg_mrr = np.mean([m[\"mrr\"] for m in all_metrics])\n",
    "    avg_time = np.mean([m[\"time_seconds\"] for m in all_metrics])\n",
    "\n",
    "    current_time = datetime.now().strftime(\"%Y-%m-%d %H:%M:%S\")\n",
    "    print(f\"Date/time:{current_time}\")\n",
    "    print(\"\\nBi-encoder and cross-encoder - Overall evaluation metrics:\")\n",
    "    print(f\"Relevance Threshold: {RELEVANCE_THRESHOLD}\")\n",
    "    print(\"Mean Precision@{}: {:.4f}\".format(top_k, avg_precision))\n",
    "    print(\"Mean Recall@{}: {:.4f}\".format(top_k, avg_recall))\n",
    "    print(\"Mean F1@{}: {:.4f}\".format(top_k, avg_f1))\n",
    "    print(\"Mean Average Precision (MAP): {:.4f}\".format(avg_ap))\n",
    "    print(\"Mean nDCG@{}: {:.4f}\".format(top_k, avg_ndcg))\n",
    "    print(f\"Mean MRR{top_k}: {avg_mrr:.4f}\")\n",
    "    print(f\"Average total time per query: {avg_time:.2f} seconds\")\n",
    "else:\n",
    "    print(\"No query metrics to average.\")\n",
    "\n",
    "# Export the computed results for all queries\n",
    "df = pd.DataFrame(all_metrics)\n",
    "df = df[[\n",
    "    \"query_id\",\n",
    "    \"precision\",\n",
    "    \"recall\",\n",
    "    \"f1\",\n",
    "    \"ap\",\n",
    "    \"ndcg\",\n",
    "    \"mrr\",\n",
    "    \"time_seconds\"\n",
    "]]\n",
    "# Export to Excel\n",
    "output_file = \"sentence_embedding_bi_and_Cross-encoding_metrics_output.xlsx\"\n",
    "df.to_excel(output_file, index=False)\n",
    "print(f\"Metrics successfully exported to {output_file}\")\n",
    "\n",
    "# Export final computed results\n",
    "data = {\n",
    "    \"Test\": f\"Bi-encoder + Cross-encoder (precision <= {selectivePrecision})\",\n",
    "    \"Date/Time\": [current_time],\n",
    "    \"Relevance Threshold\": [RELEVANCE_THRESHOLD],\n",
    "    f\"Mean Precision@{top_k}\": [avg_precision],\n",
    "    f\"Mean Recall@{top_k}\": [avg_recall],\n",
    "    f\"Mean F1@{top_k}\": [avg_f1],\n",
    "    \"Mean Average Precision (MAP)\": [avg_ap],\n",
    "    f\"Mean nDCG@{top_k}\": [avg_ndcg],\n",
    "    f\"Mean MRR@{top_k}\": [avg_mrr],\n",
    "    \"Avg Time per Query (s)\": [avg_time],\n",
    "}\n",
    "df = pd.DataFrame(data)\n",
    "\n",
    "# Export to an Excel file\n",
    "xlsx_filename = f\"evaluation_results_sentence_embeddings_bi_and_Cross-encoding_Selective_{selectivePrecision}.xlsx\"\n",
    "df.to_excel(xlsx_filename, index=False)\n",
    "\n",
    "print(f\"\\nMetrics have been exported to {xlsx_filename}\")\n"
   ]
  },
  {
   "cell_type": "markdown",
   "metadata": {},
   "source": [
    "### Bi-encoder and Cross-encoding on selected documents based on Similarity Threshold"
   ]
  },
  {
   "cell_type": "code",
   "execution_count": null,
   "metadata": {},
   "outputs": [
    {
     "name": "stdout",
     "output_type": "stream",
     "text": [
      "Loaded 75 queries\n",
      "Loaded qrels for 75 queries\n",
      "Processing queries and retrieving documents...\n"
     ]
    },
    {
     "name": "stderr",
     "output_type": "stream",
     "text": [
      "  0%|          | 0/75 [00:00<?, ?it/s]/var/folders/b3/59dkzgnj0zxdhdx31d2ztm000000gn/T/ipykernel_54942/2394684473.py:148: DeprecationWarning: Received 'size' via a specific parameter in the presence of a 'body' parameter, which is deprecated and will be removed in a future version. Instead, use only 'body' or only specific parameters.\n",
      "  response = es.search(index=\"ir_dev_sentence_index\", body=search_body, size=K)\n",
      "  1%|▏         | 1/75 [00:00<00:18,  4.05it/s]"
     ]
    },
    {
     "name": "stdout",
     "output_type": "stream",
     "text": [
      "Query 1 Stage 1 retrieved docs: ['NCT00003470', 'NCT01502241', 'NCT00003537', 'NCT00003621', 'NCT00003471', 'NCT00004259', 'NCT00783393', 'NCT00003775', 'NCT03906448', 'NCT00033280', 'NCT02755987', 'NCT00028795', 'NCT03633552', 'NCT00841555', 'NCT00003375', 'NCT00473408', 'NCT00002569', 'NCT00003465', 'NCT00360828', 'NCT03022578', 'NCT00004068', 'NCT00004017', 'NCT03668522', 'NCT03641443', 'NCT00362570', 'NCT00003842', 'NCT01847235', 'NCT00003176', 'NCT00717210', 'NCT00360945', 'NCT00301418', 'NCT00761280', 'NCT00400816', 'NCT00631670', 'NCT00052624', 'NCT00430911', 'NCT00007982', 'NCT00978458', 'NCT03528642', 'NCT03224104']\n",
      "Query 1 top bi-encoder score: 1.7383\n",
      "Query 1: Top bi-encoder score 1.7383 exceeds threshold 1.6, skipping cross-encoder re-ranking\n",
      "  Query 1 stage 2 retrieved (final): ['NCT00003470', 'NCT01502241', 'NCT00003537', 'NCT00003621', 'NCT00003471', 'NCT00004259', 'NCT00783393', 'NCT00003775', 'NCT03906448', 'NCT00033280', 'NCT02755987', 'NCT00028795', 'NCT03633552', 'NCT00841555', 'NCT00003375', 'NCT00473408', 'NCT00002569', 'NCT00003465', 'NCT00360828', 'NCT03022578', 'NCT00004068', 'NCT00004017', 'NCT03668522', 'NCT03641443', 'NCT00362570', 'NCT00003842', 'NCT01847235', 'NCT00003176', 'NCT00717210', 'NCT00360945', 'NCT00301418', 'NCT00761280', 'NCT00400816', 'NCT00631670', 'NCT00052624', 'NCT00430911', 'NCT00007982', 'NCT00978458', 'NCT03528642', 'NCT03224104']\n",
      "   Query 1 metrics: Precision@10: 0.4000, Recall@10: 0.0851, F1@10: 0.1404, AP: 0.5880, nDCG@10: 0.6502, MRR@10=1.0000\n",
      "    Total time for query: 0.25 seconds\n"
     ]
    },
    {
     "name": "stderr",
     "output_type": "stream",
     "text": [
      "  3%|▎         | 2/75 [00:00<00:16,  4.30it/s]"
     ]
    },
    {
     "name": "stdout",
     "output_type": "stream",
     "text": [
      "Query 2 Stage 1 retrieved docs: ['NCT03628313', 'NCT02753023', 'NCT02395107', 'NCT03332745', 'NCT01157572', 'NCT02010177', 'NCT04061213', 'NCT03863132', 'NCT02792452', 'NCT00590135', 'NCT02531581', 'NCT04140019', 'NCT01980797', 'NCT01575249', 'NCT00624884', 'NCT02316587', 'NCT04344353', 'NCT02344199', 'NCT03867708', 'NCT04144725', 'NCT01419015', 'NCT01458860', 'NCT00294775', 'NCT01845285', 'NCT02624934', 'NCT01275339', 'NCT00699452', 'NCT04444024', 'NCT02283970', 'NCT01756222', 'NCT02146755', 'NCT01636427', 'NCT02448485', 'NCT04026542', 'NCT02481258', 'NCT03049995', 'NCT02806310', 'NCT01579058', 'NCT00176410', 'NCT02241109']\n",
      "Query 2 top bi-encoder score: 1.7217\n",
      "Query 2: Top bi-encoder score 1.7217 exceeds threshold 1.6, skipping cross-encoder re-ranking\n",
      "  Query 2 stage 2 retrieved (final): ['NCT03628313', 'NCT02753023', 'NCT02395107', 'NCT03332745', 'NCT01157572', 'NCT02010177', 'NCT04061213', 'NCT03863132', 'NCT02792452', 'NCT00590135', 'NCT02531581', 'NCT04140019', 'NCT01980797', 'NCT01575249', 'NCT00624884', 'NCT02316587', 'NCT04344353', 'NCT02344199', 'NCT03867708', 'NCT04144725', 'NCT01419015', 'NCT01458860', 'NCT00294775', 'NCT01845285', 'NCT02624934', 'NCT01275339', 'NCT00699452', 'NCT04444024', 'NCT02283970', 'NCT01756222', 'NCT02146755', 'NCT01636427', 'NCT02448485', 'NCT04026542', 'NCT02481258', 'NCT03049995', 'NCT02806310', 'NCT01579058', 'NCT00176410', 'NCT02241109']\n",
      "   Query 2 metrics: Precision@10: 0.3000, Recall@10: 0.0217, F1@10: 0.0405, AP: 0.4247, nDCG@10: 0.5271, MRR@10=1.0000\n",
      "    Total time for query: 0.22 seconds\n"
     ]
    },
    {
     "name": "stderr",
     "output_type": "stream",
     "text": [
      "  4%|▍         | 3/75 [00:00<00:16,  4.40it/s]"
     ]
    },
    {
     "name": "stdout",
     "output_type": "stream",
     "text": [
      "Query 3 Stage 1 retrieved docs: ['NCT03995823', 'NCT02098252', 'NCT04569279', 'NCT00363662', 'NCT04329208', 'NCT01158807', 'NCT02394678', 'NCT04037267', 'NCT03532165', 'NCT03291652', 'NCT04572568', 'NCT04567277', 'NCT02775318', 'NCT03150524', 'NCT03691870', 'NCT00235248', 'NCT03477188', 'NCT00029315', 'NCT03676868', 'NCT01856699', 'NCT02314377', 'NCT03070067', 'NCT02475226', 'NCT04617808', 'NCT01470040', 'NCT02742272', 'NCT02884141', 'NCT04772963', 'NCT04642443', 'NCT01737723', 'NCT02334657', 'NCT01391091', 'NCT02863133', 'NCT04297033', 'NCT04136860', 'NCT02427009', 'NCT03010709', 'NCT02180204', 'NCT01830894', 'NCT03536936']\n",
      "Query 3 top bi-encoder score: 1.6888\n",
      "Query 3: Top bi-encoder score 1.6888 exceeds threshold 1.6, skipping cross-encoder re-ranking\n",
      "  Query 3 stage 2 retrieved (final): ['NCT03995823', 'NCT02098252', 'NCT04569279', 'NCT00363662', 'NCT04329208', 'NCT01158807', 'NCT02394678', 'NCT04037267', 'NCT03532165', 'NCT03291652', 'NCT04572568', 'NCT04567277', 'NCT02775318', 'NCT03150524', 'NCT03691870', 'NCT00235248', 'NCT03477188', 'NCT00029315', 'NCT03676868', 'NCT01856699', 'NCT02314377', 'NCT03070067', 'NCT02475226', 'NCT04617808', 'NCT01470040', 'NCT02742272', 'NCT02884141', 'NCT04772963', 'NCT04642443', 'NCT01737723', 'NCT02334657', 'NCT01391091', 'NCT02863133', 'NCT04297033', 'NCT04136860', 'NCT02427009', 'NCT03010709', 'NCT02180204', 'NCT01830894', 'NCT03536936']\n",
      "   Query 3 metrics: Precision@10: 0.3000, Recall@10: 0.0938, F1@10: 0.1429, AP: 0.5006, nDCG@10: 0.4782, MRR@10=1.0000\n",
      "    Total time for query: 0.22 seconds\n",
      "Query 4 Stage 1 retrieved docs: ['NCT02012088', 'NCT01009970', 'NCT00577798', 'NCT02776891', 'NCT00392834', 'NCT03995147', 'NCT00689845', 'NCT01786018', 'NCT04759586', 'NCT01359592', 'NCT00486759', 'NCT03697512', 'NCT01046825', 'NCT00040690', 'NCT01390584', 'NCT01856192', 'NCT04112238', 'NCT00003337', 'NCT00455286', 'NCT00944567', 'NCT04472468', 'NCT04739813', 'NCT02670317', 'NCT01592981', 'NCT04333524', 'NCT03884426', 'NCT01113268', 'NCT03048097', 'NCT03323151', 'NCT04657224', 'NCT03677154', 'NCT00132613', 'NCT00532259', 'NCT01071928', 'NCT02054052', 'NCT04062877', 'NCT01854372', 'NCT01502982', 'NCT01092182', 'NCT04521790']\n",
      "Query 4 top bi-encoder score: 1.5824\n",
      "Query 4: Top bi-encoder score 1.5824 is below threshold 1.6, applying cross-encoder re-ranking\n"
     ]
    },
    {
     "name": "stderr",
     "output_type": "stream",
     "text": [
      "/var/folders/b3/59dkzgnj0zxdhdx31d2ztm000000gn/T/ipykernel_54942/2394684473.py:166: DeprecationWarning: Received 'size' via a specific parameter in the presence of a 'body' parameter, which is deprecated and will be removed in a future version. Instead, use only 'body' or only specific parameters.\n",
      "  response = es.search(index=\"ir_dev_sentence_index\", body=query, size=1)\n",
      "  5%|▌         | 4/75 [00:02<01:14,  1.05s/it]"
     ]
    },
    {
     "name": "stdout",
     "output_type": "stream",
     "text": [
      "  Query 4 stage 2 retrieved (final): ['NCT01786018', 'NCT00392834', 'NCT04062877', 'NCT02012088', 'NCT04333524', 'NCT04759586', 'NCT01592981', 'NCT02054052', 'NCT02670317', 'NCT04112238']\n",
      "   Query 4 metrics: Precision@10: 0.1000, Recall@10: 0.0227, F1@10: 0.0370, AP: 0.3333, nDCG@10: 0.1563, MRR@10=0.3333\n",
      "    Total time for query: 2.30 seconds\n"
     ]
    },
    {
     "name": "stderr",
     "output_type": "stream",
     "text": [
      "  7%|▋         | 5/75 [00:03<01:00,  1.15it/s]"
     ]
    },
    {
     "name": "stdout",
     "output_type": "stream",
     "text": [
      "Query 5 Stage 1 retrieved docs: ['NCT00287508', 'NCT00235248', 'NCT03477188', 'NCT03070067', 'NCT01114815', 'NCT04825080', 'NCT04431609', 'NCT02310191', 'NCT03344276', 'NCT03291652', 'NCT02141932', 'NCT01799070', 'NCT00514592', 'NCT03721523', 'NCT02961127', 'NCT03377465', 'NCT01208025', 'NCT01599195', 'NCT01263301', 'NCT03702244', 'NCT03229174', 'NCT01442181', 'NCT01284933', 'NCT03840265', 'NCT01252875', 'NCT04679987', 'NCT04162587', 'NCT03788512', 'NCT03495830', 'NCT03969511', 'NCT03670862', 'NCT02533778', 'NCT01737723', 'NCT00247533', 'NCT00417963', 'NCT01738412', 'NCT01591005', 'NCT01496651', 'NCT01414387', 'NCT03150524']\n",
      "Query 5 top bi-encoder score: 1.6406\n",
      "Query 5: Top bi-encoder score 1.6406 exceeds threshold 1.6, skipping cross-encoder re-ranking\n",
      "  Query 5 stage 2 retrieved (final): ['NCT00287508', 'NCT00235248', 'NCT03477188', 'NCT03070067', 'NCT01114815', 'NCT04825080', 'NCT04431609', 'NCT02310191', 'NCT03344276', 'NCT03291652', 'NCT02141932', 'NCT01799070', 'NCT00514592', 'NCT03721523', 'NCT02961127', 'NCT03377465', 'NCT01208025', 'NCT01599195', 'NCT01263301', 'NCT03702244', 'NCT03229174', 'NCT01442181', 'NCT01284933', 'NCT03840265', 'NCT01252875', 'NCT04679987', 'NCT04162587', 'NCT03788512', 'NCT03495830', 'NCT03969511', 'NCT03670862', 'NCT02533778', 'NCT01737723', 'NCT00247533', 'NCT00417963', 'NCT01738412', 'NCT01591005', 'NCT01496651', 'NCT01414387', 'NCT03150524']\n",
      "   Query 5 metrics: Precision@10: 0.3000, Recall@10: 0.0252, F1@10: 0.0465, AP: 0.3414, nDCG@10: 0.3647, MRR@10=1.0000\n",
      "    Total time for query: 0.55 seconds\n"
     ]
    },
    {
     "name": "stderr",
     "output_type": "stream",
     "text": [
      "  8%|▊         | 6/75 [00:03<00:44,  1.54it/s]"
     ]
    },
    {
     "name": "stdout",
     "output_type": "stream",
     "text": [
      "Query 6 Stage 1 retrieved docs: ['NCT01346059', 'NCT02076438', 'NCT00402727', 'NCT00269399', 'NCT03795233', 'NCT04090346', 'NCT00446355', 'NCT04083443', 'NCT01226992', 'NCT02667418', 'NCT03988855', 'NCT03039777', 'NCT03141775', 'NCT04170309', 'NCT00707213', 'NCT00404625', 'NCT00913042', 'NCT02987790', 'NCT02951481', 'NCT01114165', 'NCT00000641', 'NCT00861887', 'NCT02200328', 'NCT02237859', 'NCT03030248', 'NCT01227109', 'NCT03964844', 'NCT01345929', 'NCT00177775', 'NCT00305149', 'NCT01149707', 'NCT04138706', 'NCT00617227', 'NCT00020865', 'NCT03005379', 'NCT00435526', 'NCT00363220', 'NCT02636647', 'NCT02261506', 'NCT00002331']\n",
      "Query 6 top bi-encoder score: 1.6387\n",
      "Query 6: Top bi-encoder score 1.6387 exceeds threshold 1.6, skipping cross-encoder re-ranking\n",
      "  Query 6 stage 2 retrieved (final): ['NCT01346059', 'NCT02076438', 'NCT00402727', 'NCT00269399', 'NCT03795233', 'NCT04090346', 'NCT00446355', 'NCT04083443', 'NCT01226992', 'NCT02667418', 'NCT03988855', 'NCT03039777', 'NCT03141775', 'NCT04170309', 'NCT00707213', 'NCT00404625', 'NCT00913042', 'NCT02987790', 'NCT02951481', 'NCT01114165', 'NCT00000641', 'NCT00861887', 'NCT02200328', 'NCT02237859', 'NCT03030248', 'NCT01227109', 'NCT03964844', 'NCT01345929', 'NCT00177775', 'NCT00305149', 'NCT01149707', 'NCT04138706', 'NCT00617227', 'NCT00020865', 'NCT03005379', 'NCT00435526', 'NCT00363220', 'NCT02636647', 'NCT02261506', 'NCT00002331']\n",
      "   Query 6 metrics: Precision@10: 0.3000, Recall@10: 0.0256, F1@10: 0.0472, AP: 0.4970, nDCG@10: 0.3933, MRR@10=1.0000\n",
      "    Total time for query: 0.23 seconds\n"
     ]
    },
    {
     "name": "stderr",
     "output_type": "stream",
     "text": [
      "  9%|▉         | 7/75 [00:03<00:34,  1.96it/s]"
     ]
    },
    {
     "name": "stdout",
     "output_type": "stream",
     "text": [
      "Query 7 Stage 1 retrieved docs: ['NCT02377947', 'NCT03513900', 'NCT00740142', 'NCT03212872', 'NCT00281502', 'NCT03987893', 'NCT03513887', 'NCT01882855', 'NCT03954327', 'NCT02616705', 'NCT02649335', 'NCT00587197', 'NCT03451292', 'NCT04736836', 'NCT03161106', 'NCT01383460', 'NCT00380614', 'NCT03023189', 'NCT00553423', 'NCT01970748', 'NCT01931826', 'NCT01213927', 'NCT02464124', 'NCT01384565', 'NCT02086825', 'NCT02066649', 'NCT04082780', 'NCT01110447', 'NCT03585257', 'NCT03520660', 'NCT04790435', 'NCT02095587', 'NCT02026609', 'NCT02019784', 'NCT04850547', 'NCT03448770', 'NCT04711122', 'NCT02528760', 'NCT03837444', 'NCT00751426']\n",
      "Query 7 top bi-encoder score: 1.7270\n",
      "Query 7: Top bi-encoder score 1.7270 exceeds threshold 1.6, skipping cross-encoder re-ranking\n",
      "  Query 7 stage 2 retrieved (final): ['NCT02377947', 'NCT03513900', 'NCT00740142', 'NCT03212872', 'NCT00281502', 'NCT03987893', 'NCT03513887', 'NCT01882855', 'NCT03954327', 'NCT02616705', 'NCT02649335', 'NCT00587197', 'NCT03451292', 'NCT04736836', 'NCT03161106', 'NCT01383460', 'NCT00380614', 'NCT03023189', 'NCT00553423', 'NCT01970748', 'NCT01931826', 'NCT01213927', 'NCT02464124', 'NCT01384565', 'NCT02086825', 'NCT02066649', 'NCT04082780', 'NCT01110447', 'NCT03585257', 'NCT03520660', 'NCT04790435', 'NCT02095587', 'NCT02026609', 'NCT02019784', 'NCT04850547', 'NCT03448770', 'NCT04711122', 'NCT02528760', 'NCT03837444', 'NCT00751426']\n",
      "   Query 7 metrics: Precision@10: 0.5000, Recall@10: 0.0400, F1@10: 0.0741, AP: 0.4437, nDCG@10: 0.4616, MRR@10=0.5000\n",
      "    Total time for query: 0.22 seconds\n"
     ]
    },
    {
     "name": "stderr",
     "output_type": "stream",
     "text": [
      " 11%|█         | 8/75 [00:04<00:29,  2.28it/s]"
     ]
    },
    {
     "name": "stdout",
     "output_type": "stream",
     "text": [
      "Query 8 Stage 1 retrieved docs: ['NCT02138786', 'NCT00800943', 'NCT00309881', 'NCT01171378', 'NCT02535286', 'NCT03907670', 'NCT04271956', 'NCT04660045', 'NCT01723839', 'NCT01110850', 'NCT02582320', 'NCT03153514', 'NCT01576588', 'NCT03495492', 'NCT03892044', 'NCT00086840', 'NCT03619512', 'NCT02420912', 'NCT00868478', 'NCT00074282', 'NCT00935792', 'NCT02690922', 'NCT00609869', 'NCT03899337', 'NCT03609593', 'NCT03117010', 'NCT02950051', 'NCT00133991', 'NCT00345345', 'NCT00391066', 'NCT03145480', 'NCT00751296', 'NCT04811950', 'NCT02222688', 'NCT01024010', 'NCT02377869', 'NCT00794820', 'NCT01041040', 'NCT03417414', 'NCT01414205']\n",
      "Query 8 top bi-encoder score: 1.7027\n",
      "Query 8: Top bi-encoder score 1.7027 exceeds threshold 1.6, skipping cross-encoder re-ranking\n",
      "  Query 8 stage 2 retrieved (final): ['NCT02138786', 'NCT00800943', 'NCT00309881', 'NCT01171378', 'NCT02535286', 'NCT03907670', 'NCT04271956', 'NCT04660045', 'NCT01723839', 'NCT01110850', 'NCT02582320', 'NCT03153514', 'NCT01576588', 'NCT03495492', 'NCT03892044', 'NCT00086840', 'NCT03619512', 'NCT02420912', 'NCT00868478', 'NCT00074282', 'NCT00935792', 'NCT02690922', 'NCT00609869', 'NCT03899337', 'NCT03609593', 'NCT03117010', 'NCT02950051', 'NCT00133991', 'NCT00345345', 'NCT00391066', 'NCT03145480', 'NCT00751296', 'NCT04811950', 'NCT02222688', 'NCT01024010', 'NCT02377869', 'NCT00794820', 'NCT01041040', 'NCT03417414', 'NCT01414205']\n",
      "   Query 8 metrics: Precision@10: 0.6000, Recall@10: 0.0652, F1@10: 0.1176, AP: 0.6451, nDCG@10: 0.7386, MRR@10=1.0000\n",
      "    Total time for query: 0.28 seconds\n"
     ]
    },
    {
     "name": "stderr",
     "output_type": "stream",
     "text": [
      " 12%|█▏        | 9/75 [00:04<00:24,  2.70it/s]"
     ]
    },
    {
     "name": "stdout",
     "output_type": "stream",
     "text": [
      "Query 9 Stage 1 retrieved docs: ['NCT02365610', 'NCT04153175', 'NCT02899611', 'NCT04542629', 'NCT01126307', 'NCT00056576', 'NCT01991041', 'NCT00165828', 'NCT00013845', 'NCT00236847', 'NCT00520741', 'NCT00236860', 'NCT00236873', 'NCT01392768', 'NCT01332539', 'NCT04513860', 'NCT02369471', 'NCT01393743', 'NCT00236730', 'NCT01284556', 'NCT03478852', 'NCT01769092', 'NCT00207935', 'NCT03179891', 'NCT02726919', 'NCT01978470', 'NCT03457961', 'NCT00510783', 'NCT03653741', 'NCT03025906', 'NCT01320670', 'NCT03739840', 'NCT03643471', 'NCT01662453', 'NCT03517423', 'NCT00152503', 'NCT01431963', 'NCT03166215', 'NCT02408523', 'NCT00376766']\n",
      "Query 9 top bi-encoder score: 1.7158\n",
      "Query 9: Top bi-encoder score 1.7158 exceeds threshold 1.6, skipping cross-encoder re-ranking\n",
      "  Query 9 stage 2 retrieved (final): ['NCT02365610', 'NCT04153175', 'NCT02899611', 'NCT04542629', 'NCT01126307', 'NCT00056576', 'NCT01991041', 'NCT00165828', 'NCT00013845', 'NCT00236847', 'NCT00520741', 'NCT00236860', 'NCT00236873', 'NCT01392768', 'NCT01332539', 'NCT04513860', 'NCT02369471', 'NCT01393743', 'NCT00236730', 'NCT01284556', 'NCT03478852', 'NCT01769092', 'NCT00207935', 'NCT03179891', 'NCT02726919', 'NCT01978470', 'NCT03457961', 'NCT00510783', 'NCT03653741', 'NCT03025906', 'NCT01320670', 'NCT03739840', 'NCT03643471', 'NCT01662453', 'NCT03517423', 'NCT00152503', 'NCT01431963', 'NCT03166215', 'NCT02408523', 'NCT00376766']\n",
      "   Query 9 metrics: Precision@10: 0.1000, Recall@10: 0.0769, F1@10: 0.0870, AP: 0.0913, nDCG@10: 0.3215, MRR@10=0.1111\n",
      "    Total time for query: 0.22 seconds\n"
     ]
    },
    {
     "name": "stderr",
     "output_type": "stream",
     "text": [
      " 13%|█▎        | 10/75 [00:04<00:20,  3.10it/s]"
     ]
    },
    {
     "name": "stdout",
     "output_type": "stream",
     "text": [
      "Query 10 Stage 1 retrieved docs: ['NCT03731260', 'NCT00132015', 'NCT00769587', 'NCT02380222', 'NCT00457288', 'NCT03401060', 'NCT00233454', 'NCT03770273', 'NCT04615663', 'NCT00044122', 'NCT00814073', 'NCT02441166', 'NCT02808793', 'NCT00429533', 'NCT02415608', 'NCT03580655', 'NCT01920204', 'NCT01266369', 'NCT01807598', 'NCT00001756', 'NCT01333293', 'NCT00047918', 'NCT04333108', 'NCT02620254', 'NCT00001356', 'NCT03724903', 'NCT04811365', 'NCT01481909', 'NCT00050193', 'NCT00336076', 'NCT01602939', 'NCT00219492', 'NCT00006413', 'NCT03323346', 'NCT01266317', 'NCT00890162', 'NCT01297777', 'NCT00602784', 'NCT04439955', 'NCT03040401']\n",
      "Query 10 top bi-encoder score: 1.7031\n",
      "Query 10: Top bi-encoder score 1.7031 exceeds threshold 1.6, skipping cross-encoder re-ranking\n",
      "  Query 10 stage 2 retrieved (final): ['NCT03731260', 'NCT00132015', 'NCT00769587', 'NCT02380222', 'NCT00457288', 'NCT03401060', 'NCT00233454', 'NCT03770273', 'NCT04615663', 'NCT00044122', 'NCT00814073', 'NCT02441166', 'NCT02808793', 'NCT00429533', 'NCT02415608', 'NCT03580655', 'NCT01920204', 'NCT01266369', 'NCT01807598', 'NCT00001756', 'NCT01333293', 'NCT00047918', 'NCT04333108', 'NCT02620254', 'NCT00001356', 'NCT03724903', 'NCT04811365', 'NCT01481909', 'NCT00050193', 'NCT00336076', 'NCT01602939', 'NCT00219492', 'NCT00006413', 'NCT03323346', 'NCT01266317', 'NCT00890162', 'NCT01297777', 'NCT00602784', 'NCT04439955', 'NCT03040401']\n",
      "   Query 10 metrics: Precision@10: 0.1000, Recall@10: 0.0909, F1@10: 0.0952, AP: 0.1803, nDCG@10: 0.3474, MRR@10=0.1000\n",
      "    Total time for query: 0.21 seconds\n"
     ]
    },
    {
     "name": "stderr",
     "output_type": "stream",
     "text": [
      " 15%|█▍        | 11/75 [00:04<00:18,  3.48it/s]"
     ]
    },
    {
     "name": "stdout",
     "output_type": "stream",
     "text": [
      "Query 11 Stage 1 retrieved docs: ['NCT02724176', 'NCT02408887', 'NCT02814032', 'NCT03830242', 'NCT02548715', 'NCT03669432', 'NCT01103557', 'NCT01106443', 'NCT01510002', 'NCT03570021', 'NCT01428167', 'NCT03359668', 'NCT01075269', 'NCT01089335', 'NCT04076514', 'NCT04424485', 'NCT03813706', 'NCT02138214', 'NCT02648399', 'NCT04336696', 'NCT03845647', 'NCT04842942', 'NCT04601298', 'NCT01374659', 'NCT02602717', 'NCT04759911', 'NCT02418390', 'NCT02609685', 'NCT03327636', 'NCT04624477', 'NCT03436186', 'NCT00795782', 'NCT03079193', 'NCT01974284', 'NCT03170804', 'NCT04410601', 'NCT04522570', 'NCT00804830', 'NCT04666103', 'NCT04376203']\n",
      "Query 11 top bi-encoder score: 1.7595\n",
      "Query 11: Top bi-encoder score 1.7595 exceeds threshold 1.6, skipping cross-encoder re-ranking\n",
      "  Query 11 stage 2 retrieved (final): ['NCT02724176', 'NCT02408887', 'NCT02814032', 'NCT03830242', 'NCT02548715', 'NCT03669432', 'NCT01103557', 'NCT01106443', 'NCT01510002', 'NCT03570021', 'NCT01428167', 'NCT03359668', 'NCT01075269', 'NCT01089335', 'NCT04076514', 'NCT04424485', 'NCT03813706', 'NCT02138214', 'NCT02648399', 'NCT04336696', 'NCT03845647', 'NCT04842942', 'NCT04601298', 'NCT01374659', 'NCT02602717', 'NCT04759911', 'NCT02418390', 'NCT02609685', 'NCT03327636', 'NCT04624477', 'NCT03436186', 'NCT00795782', 'NCT03079193', 'NCT01974284', 'NCT03170804', 'NCT04410601', 'NCT04522570', 'NCT00804830', 'NCT04666103', 'NCT04376203']\n",
      "   Query 11 metrics: Precision@10: 0.0000, Recall@10: 0.0000, F1@10: 0.0000, AP: 0.0488, nDCG@10: 0.2818, MRR@10=0.0000\n",
      "    Total time for query: 0.21 seconds\n"
     ]
    },
    {
     "name": "stderr",
     "output_type": "stream",
     "text": [
      " 16%|█▌        | 12/75 [00:05<00:16,  3.73it/s]"
     ]
    },
    {
     "name": "stdout",
     "output_type": "stream",
     "text": [
      "Query 12 Stage 1 retrieved docs: ['NCT01678144', 'NCT04820764', 'NCT04350372', 'NCT04259411', 'NCT04774172', 'NCT02033811', 'NCT04161079', 'NCT03012178', 'NCT04080362', 'NCT02719912', 'NCT03271762', 'NCT03389542', 'NCT03511716', 'NCT04156295', 'NCT03958773', 'NCT03706833', 'NCT04029363', 'NCT01431222', 'NCT00209274', 'NCT01703806', 'NCT03714412', 'NCT04147884', 'NCT04818502', 'NCT01295047', 'NCT01708265', 'NCT02768402', 'NCT03155373', 'NCT00608140', 'NCT04009434', 'NCT04776681', 'NCT03975998', 'NCT01626079', 'NCT04029337', 'NCT00807040', 'NCT03433274', 'NCT00209339', 'NCT01156441', 'NCT03470155', 'NCT02722551', 'NCT03661398']\n",
      "Query 12 top bi-encoder score: 1.7682\n",
      "Query 12: Top bi-encoder score 1.7682 exceeds threshold 1.6, skipping cross-encoder re-ranking\n",
      "  Query 12 stage 2 retrieved (final): ['NCT01678144', 'NCT04820764', 'NCT04350372', 'NCT04259411', 'NCT04774172', 'NCT02033811', 'NCT04161079', 'NCT03012178', 'NCT04080362', 'NCT02719912', 'NCT03271762', 'NCT03389542', 'NCT03511716', 'NCT04156295', 'NCT03958773', 'NCT03706833', 'NCT04029363', 'NCT01431222', 'NCT00209274', 'NCT01703806', 'NCT03714412', 'NCT04147884', 'NCT04818502', 'NCT01295047', 'NCT01708265', 'NCT02768402', 'NCT03155373', 'NCT00608140', 'NCT04009434', 'NCT04776681', 'NCT03975998', 'NCT01626079', 'NCT04029337', 'NCT00807040', 'NCT03433274', 'NCT00209339', 'NCT01156441', 'NCT03470155', 'NCT02722551', 'NCT03661398']\n",
      "   Query 12 metrics: Precision@10: 0.7000, Recall@10: 0.0673, F1@10: 0.1228, AP: 0.6836, nDCG@10: 0.7314, MRR@10=1.0000\n",
      "    Total time for query: 0.22 seconds\n"
     ]
    },
    {
     "name": "stderr",
     "output_type": "stream",
     "text": [
      " 17%|█▋        | 13/75 [00:05<00:15,  3.95it/s]"
     ]
    },
    {
     "name": "stdout",
     "output_type": "stream",
     "text": [
      "Query 13 Stage 1 retrieved docs: ['NCT00037921', 'NCT03190421', 'NCT02384200', 'NCT03931408', 'NCT02594631', 'NCT04495699', 'NCT04781985', 'NCT01083979', 'NCT00722735', 'NCT04071340', 'NCT02419339', 'NCT01628900', 'NCT00554996', 'NCT03048682', 'NCT01979042', 'NCT02929160', 'NCT01563796', 'NCT01305681', 'NCT01661621', 'NCT02497781', 'NCT02942641', 'NCT02323087', 'NCT03861260', 'NCT04055675', 'NCT04764903', 'NCT01349738', 'NCT01657409', 'NCT01733290', 'NCT00169754', 'NCT02789579', 'NCT02524236', 'NCT04667195', 'NCT03680612', 'NCT01420354', 'NCT02305342', 'NCT03282006', 'NCT04228081', 'NCT03353571', 'NCT03080389', 'NCT02044965']\n",
      "Query 13 top bi-encoder score: 1.7464\n",
      "Query 13: Top bi-encoder score 1.7464 exceeds threshold 1.6, skipping cross-encoder re-ranking\n",
      "  Query 13 stage 2 retrieved (final): ['NCT00037921', 'NCT03190421', 'NCT02384200', 'NCT03931408', 'NCT02594631', 'NCT04495699', 'NCT04781985', 'NCT01083979', 'NCT00722735', 'NCT04071340', 'NCT02419339', 'NCT01628900', 'NCT00554996', 'NCT03048682', 'NCT01979042', 'NCT02929160', 'NCT01563796', 'NCT01305681', 'NCT01661621', 'NCT02497781', 'NCT02942641', 'NCT02323087', 'NCT03861260', 'NCT04055675', 'NCT04764903', 'NCT01349738', 'NCT01657409', 'NCT01733290', 'NCT00169754', 'NCT02789579', 'NCT02524236', 'NCT04667195', 'NCT03680612', 'NCT01420354', 'NCT02305342', 'NCT03282006', 'NCT04228081', 'NCT03353571', 'NCT03080389', 'NCT02044965']\n",
      "   Query 13 metrics: Precision@10: 0.0000, Recall@10: 0.0000, F1@10: 0.0000, AP: 0.0712, nDCG@10: 0.0000, MRR@10=0.0000\n",
      "    Total time for query: 0.22 seconds\n"
     ]
    },
    {
     "name": "stderr",
     "output_type": "stream",
     "text": [
      " 19%|█▊        | 14/75 [00:05<00:14,  4.09it/s]"
     ]
    },
    {
     "name": "stdout",
     "output_type": "stream",
     "text": [
      "Query 14 Stage 1 retrieved docs: ['NCT00380068', 'NCT01707225', 'NCT02062554', 'NCT02657356', 'NCT00004492', 'NCT01165528', 'NCT02279745', 'NCT02691533', 'NCT02275936', 'NCT01972477', 'NCT00938977', 'NCT03229174', 'NCT01215136', 'NCT00993408', 'NCT04501874', 'NCT02268630', 'NCT04782856', 'NCT03451734', 'NCT02627664', 'NCT02441491', 'NCT01266317', 'NCT00004493', 'NCT02742129', 'NCT01556646', 'NCT04575194', 'NCT01581996', 'NCT00004694', 'NCT00371293', 'NCT01657487', 'NCT00679549', 'NCT01362777', 'NCT00614809', 'NCT04688125', 'NCT01071928', 'NCT03449524', 'NCT00517933', 'NCT00537173', 'NCT00879359', 'NCT02340520', 'NCT02498535']\n",
      "Query 14 top bi-encoder score: 1.6574\n",
      "Query 14: Top bi-encoder score 1.6574 exceeds threshold 1.6, skipping cross-encoder re-ranking\n",
      "  Query 14 stage 2 retrieved (final): ['NCT00380068', 'NCT01707225', 'NCT02062554', 'NCT02657356', 'NCT00004492', 'NCT01165528', 'NCT02279745', 'NCT02691533', 'NCT02275936', 'NCT01972477', 'NCT00938977', 'NCT03229174', 'NCT01215136', 'NCT00993408', 'NCT04501874', 'NCT02268630', 'NCT04782856', 'NCT03451734', 'NCT02627664', 'NCT02441491', 'NCT01266317', 'NCT00004493', 'NCT02742129', 'NCT01556646', 'NCT04575194', 'NCT01581996', 'NCT00004694', 'NCT00371293', 'NCT01657487', 'NCT00679549', 'NCT01362777', 'NCT00614809', 'NCT04688125', 'NCT01071928', 'NCT03449524', 'NCT00517933', 'NCT00537173', 'NCT00879359', 'NCT02340520', 'NCT02498535']\n",
      "   Query 14 metrics: Precision@10: 0.0000, Recall@10: 0.0000, F1@10: 0.0000, AP: 0.0909, nDCG@10: 0.0000, MRR@10=0.0000\n",
      "    Total time for query: 0.22 seconds\n"
     ]
    },
    {
     "name": "stderr",
     "output_type": "stream",
     "text": [
      " 20%|██        | 15/75 [00:05<00:14,  4.15it/s]"
     ]
    },
    {
     "name": "stdout",
     "output_type": "stream",
     "text": [
      "Query 15 Stage 1 retrieved docs: ['NCT03259880', 'NCT01563133', 'NCT02068677', 'NCT02703545', 'NCT01774162', 'NCT03022110', 'NCT01773031', 'NCT00587132', 'NCT03411629', 'NCT02343692', 'NCT03354065', 'NCT02487277', 'NCT02422095', 'NCT03320733', 'NCT01276886', 'NCT01526590', 'NCT01371240', 'NCT04196504', 'NCT04570852', 'NCT03303352', 'NCT02563080', 'NCT04735055', 'NCT03173118', 'NCT01997476', 'NCT01807325', 'NCT02078245', 'NCT01764503', 'NCT04623749', 'NCT01241799', 'NCT00673374', 'NCT00359320', 'NCT04552028', 'NCT03062124', 'NCT00689715', 'NCT01583517', 'NCT01442441', 'NCT04231279', 'NCT04253249', 'NCT04289961', 'NCT02355483']\n",
      "Query 15 top bi-encoder score: 1.6462\n",
      "Query 15: Top bi-encoder score 1.6462 exceeds threshold 1.6, skipping cross-encoder re-ranking\n",
      "  Query 15 stage 2 retrieved (final): ['NCT03259880', 'NCT01563133', 'NCT02068677', 'NCT02703545', 'NCT01774162', 'NCT03022110', 'NCT01773031', 'NCT00587132', 'NCT03411629', 'NCT02343692', 'NCT03354065', 'NCT02487277', 'NCT02422095', 'NCT03320733', 'NCT01276886', 'NCT01526590', 'NCT01371240', 'NCT04196504', 'NCT04570852', 'NCT03303352', 'NCT02563080', 'NCT04735055', 'NCT03173118', 'NCT01997476', 'NCT01807325', 'NCT02078245', 'NCT01764503', 'NCT04623749', 'NCT01241799', 'NCT00673374', 'NCT00359320', 'NCT04552028', 'NCT03062124', 'NCT00689715', 'NCT01583517', 'NCT01442441', 'NCT04231279', 'NCT04253249', 'NCT04289961', 'NCT02355483']\n",
      "   Query 15 metrics: Precision@10: 0.3000, Recall@10: 0.0210, F1@10: 0.0392, AP: 0.3904, nDCG@10: 0.3419, MRR@10=0.5000\n",
      "    Total time for query: 0.23 seconds\n"
     ]
    },
    {
     "name": "stderr",
     "output_type": "stream",
     "text": [
      " 21%|██▏       | 16/75 [00:06<00:14,  4.16it/s]"
     ]
    },
    {
     "name": "stdout",
     "output_type": "stream",
     "text": [
      "Query 16 Stage 1 retrieved docs: ['NCT00517933', 'NCT00946114', 'NCT01441934', 'NCT01936350', 'NCT00145938', 'NCT02435303', 'NCT01043627', 'NCT00795639', 'NCT03460470', 'NCT01726049', 'NCT00380068', 'NCT00454207', 'NCT00763867', 'NCT00793338', 'NCT00302211', 'NCT01449253', 'NCT01616381', 'NCT00303004', 'NCT02060487', 'NCT01365585', 'NCT00407446', 'NCT00159913', 'NCT01046838', 'NCT00352430', 'NCT01179334', 'NCT00303459', 'NCT00730067', 'NCT00309790', 'NCT04676646', 'NCT02024386', 'NCT03185364', 'NCT02275936', 'NCT00159861', 'NCT00492531', 'NCT01954524', 'NCT04538976', 'NCT01313637', 'NCT01313650', 'NCT00993408', 'NCT01431313']\n",
      "Query 16 top bi-encoder score: 1.7397\n",
      "Query 16: Top bi-encoder score 1.7397 exceeds threshold 1.6, skipping cross-encoder re-ranking\n",
      "  Query 16 stage 2 retrieved (final): ['NCT00517933', 'NCT00946114', 'NCT01441934', 'NCT01936350', 'NCT00145938', 'NCT02435303', 'NCT01043627', 'NCT00795639', 'NCT03460470', 'NCT01726049', 'NCT00380068', 'NCT00454207', 'NCT00763867', 'NCT00793338', 'NCT00302211', 'NCT01449253', 'NCT01616381', 'NCT00303004', 'NCT02060487', 'NCT01365585', 'NCT00407446', 'NCT00159913', 'NCT01046838', 'NCT00352430', 'NCT01179334', 'NCT00303459', 'NCT00730067', 'NCT00309790', 'NCT04676646', 'NCT02024386', 'NCT03185364', 'NCT02275936', 'NCT00159861', 'NCT00492531', 'NCT01954524', 'NCT04538976', 'NCT01313637', 'NCT01313650', 'NCT00993408', 'NCT01431313']\n",
      "   Query 16 metrics: Precision@10: 0.2000, Recall@10: 0.0323, F1@10: 0.0556, AP: 0.2254, nDCG@10: 0.2415, MRR@10=0.2500\n",
      "    Total time for query: 0.24 seconds\n"
     ]
    },
    {
     "name": "stderr",
     "output_type": "stream",
     "text": [
      " 23%|██▎       | 17/75 [00:06<00:13,  4.24it/s]"
     ]
    },
    {
     "name": "stdout",
     "output_type": "stream",
     "text": [
      "Query 17 Stage 1 retrieved docs: ['NCT00981708', 'NCT01548573', 'NCT00038233', 'NCT00006890', 'NCT00038090', 'NCT00558896', 'NCT00256776', 'NCT00049673', 'NCT00040937', 'NCT00120263', 'NCT00416897', 'NCT00064337', 'NCT01134484', 'NCT00007995', 'NCT00538824', 'NCT00319865', 'NCT00531453', 'NCT01084837', 'NCT01208818', 'NCT01731886', 'NCT00577668', 'NCT03110822', 'NCT00083681', 'NCT04352205', 'NCT03252600', 'NCT00843310', 'NCT00232934', 'NCT00779922', 'NCT02244125', 'NCT00022607', 'NCT00564889', 'NCT00116961', 'NCT00461747', 'NCT00306813', 'NCT00028886', 'NCT00135200', 'NCT01088373', 'NCT01109004', 'NCT00441168', 'NCT01688466']\n",
      "Query 17 top bi-encoder score: 1.7500\n",
      "Query 17: Top bi-encoder score 1.7500 exceeds threshold 1.6, skipping cross-encoder re-ranking\n",
      "  Query 17 stage 2 retrieved (final): ['NCT00981708', 'NCT01548573', 'NCT00038233', 'NCT00006890', 'NCT00038090', 'NCT00558896', 'NCT00256776', 'NCT00049673', 'NCT00040937', 'NCT00120263', 'NCT00416897', 'NCT00064337', 'NCT01134484', 'NCT00007995', 'NCT00538824', 'NCT00319865', 'NCT00531453', 'NCT01084837', 'NCT01208818', 'NCT01731886', 'NCT00577668', 'NCT03110822', 'NCT00083681', 'NCT04352205', 'NCT03252600', 'NCT00843310', 'NCT00232934', 'NCT00779922', 'NCT02244125', 'NCT00022607', 'NCT00564889', 'NCT00116961', 'NCT00461747', 'NCT00306813', 'NCT00028886', 'NCT00135200', 'NCT01088373', 'NCT01109004', 'NCT00441168', 'NCT01688466']\n",
      "   Query 17 metrics: Precision@10: 0.2000, Recall@10: 0.0157, F1@10: 0.0292, AP: 0.2776, nDCG@10: 0.3399, MRR@10=0.1667\n",
      "    Total time for query: 0.22 seconds\n"
     ]
    },
    {
     "name": "stderr",
     "output_type": "stream",
     "text": [
      " 24%|██▍       | 18/75 [00:06<00:13,  4.31it/s]"
     ]
    },
    {
     "name": "stdout",
     "output_type": "stream",
     "text": [
      "Query 18 Stage 1 retrieved docs: ['NCT00804557', 'NCT01494337', 'NCT00270504', 'NCT03239951', 'NCT01186237', 'NCT03863743', 'NCT00839969', 'NCT04529369', 'NCT04551417', 'NCT01790776', 'NCT04363970', 'NCT03339076', 'NCT04307537', 'NCT02591381', 'NCT04825314', 'NCT03428113', 'NCT04452890', 'NCT02524236', 'NCT03098147', 'NCT02594631', 'NCT03048682', 'NCT01604148', 'NCT04650347', 'NCT00037921', 'NCT01733290', 'NCT02533687', 'NCT04764903', 'NCT04835766', 'NCT01705444', 'NCT03959917', 'NCT04781985', 'NCT03280420', 'NCT00169767', 'NCT03061344', 'NCT01747993', 'NCT03912558', 'NCT04645264', 'NCT03572348', 'NCT02401581', 'NCT02006303']\n",
      "Query 18 top bi-encoder score: 1.7157\n",
      "Query 18: Top bi-encoder score 1.7157 exceeds threshold 1.6, skipping cross-encoder re-ranking\n",
      "  Query 18 stage 2 retrieved (final): ['NCT00804557', 'NCT01494337', 'NCT00270504', 'NCT03239951', 'NCT01186237', 'NCT03863743', 'NCT00839969', 'NCT04529369', 'NCT04551417', 'NCT01790776', 'NCT04363970', 'NCT03339076', 'NCT04307537', 'NCT02591381', 'NCT04825314', 'NCT03428113', 'NCT04452890', 'NCT02524236', 'NCT03098147', 'NCT02594631', 'NCT03048682', 'NCT01604148', 'NCT04650347', 'NCT00037921', 'NCT01733290', 'NCT02533687', 'NCT04764903', 'NCT04835766', 'NCT01705444', 'NCT03959917', 'NCT04781985', 'NCT03280420', 'NCT00169767', 'NCT03061344', 'NCT01747993', 'NCT03912558', 'NCT04645264', 'NCT03572348', 'NCT02401581', 'NCT02006303']\n",
      "   Query 18 metrics: Precision@10: 0.0000, Recall@10: 0.0000, F1@10: 0.0000, AP: 0.0901, nDCG@10: 0.1533, MRR@10=0.0000\n",
      "    Total time for query: 0.22 seconds\n"
     ]
    },
    {
     "name": "stderr",
     "output_type": "stream",
     "text": [
      " 25%|██▌       | 19/75 [00:06<00:12,  4.36it/s]"
     ]
    },
    {
     "name": "stdout",
     "output_type": "stream",
     "text": [
      "Query 19 Stage 1 retrieved docs: ['NCT02781207', 'NCT02683174', 'NCT00300625', 'NCT01916070', 'NCT00005202', 'NCT03974412', 'NCT01548352', 'NCT01509534', 'NCT02786940', 'NCT01463358', 'NCT00292825', 'NCT04124237', 'NCT03876652', 'NCT01814228', 'NCT01802398', 'NCT02971163', 'NCT04533425', 'NCT00120094', 'NCT03388905', 'NCT01113268', 'NCT02982473', 'NCT01481168', 'NCT04575376', 'NCT00295204', 'NCT02891863', 'NCT03079414', 'NCT01594112', 'NCT00733590', 'NCT04755010', 'NCT01423994', 'NCT00487279', 'NCT00919373', 'NCT04229589', 'NCT03119571', 'NCT04606693', 'NCT03903744', 'NCT01547208', 'NCT02188147', 'NCT02344277', 'NCT03360227']\n",
      "Query 19 top bi-encoder score: 1.7235\n",
      "Query 19: Top bi-encoder score 1.7235 exceeds threshold 1.6, skipping cross-encoder re-ranking\n",
      "  Query 19 stage 2 retrieved (final): ['NCT02781207', 'NCT02683174', 'NCT00300625', 'NCT01916070', 'NCT00005202', 'NCT03974412', 'NCT01548352', 'NCT01509534', 'NCT02786940', 'NCT01463358', 'NCT00292825', 'NCT04124237', 'NCT03876652', 'NCT01814228', 'NCT01802398', 'NCT02971163', 'NCT04533425', 'NCT00120094', 'NCT03388905', 'NCT01113268', 'NCT02982473', 'NCT01481168', 'NCT04575376', 'NCT00295204', 'NCT02891863', 'NCT03079414', 'NCT01594112', 'NCT00733590', 'NCT04755010', 'NCT01423994', 'NCT00487279', 'NCT00919373', 'NCT04229589', 'NCT03119571', 'NCT04606693', 'NCT03903744', 'NCT01547208', 'NCT02188147', 'NCT02344277', 'NCT03360227']\n",
      "   Query 19 metrics: Precision@10: 0.7000, Recall@10: 0.0609, F1@10: 0.1120, AP: 0.6098, nDCG@10: 0.7744, MRR@10=1.0000\n",
      "    Total time for query: 0.22 seconds\n"
     ]
    },
    {
     "name": "stderr",
     "output_type": "stream",
     "text": [
      " 27%|██▋       | 20/75 [00:06<00:12,  4.29it/s]"
     ]
    },
    {
     "name": "stdout",
     "output_type": "stream",
     "text": [
      "Query 20 Stage 1 retrieved docs: ['NCT00242541', 'NCT00171886', 'NCT03710499', 'NCT01206270', 'NCT02952885', 'NCT04860037', 'NCT02274311', 'NCT00921609', 'NCT00616408', 'NCT00001860', 'NCT00145405', 'NCT01371643', 'NCT00627796', 'NCT03973450', 'NCT00171730', 'NCT00784615', 'NCT03401008', 'NCT00994214', 'NCT00182091', 'NCT01368133', 'NCT00225979', 'NCT02012127', 'NCT00017927', 'NCT02703064', 'NCT03548415', 'NCT01424241', 'NCT01313455', 'NCT01902420', 'NCT00615004', 'NCT00068042', 'NCT00128232', 'NCT03170804', 'NCT01338519', 'NCT02568488', 'NCT01256944', 'NCT00913055', 'NCT00383708', 'NCT00499993', 'NCT03042026', 'NCT00145288']\n",
      "Query 20 top bi-encoder score: 1.6172\n",
      "Query 20: Top bi-encoder score 1.6172 exceeds threshold 1.6, skipping cross-encoder re-ranking\n",
      "  Query 20 stage 2 retrieved (final): ['NCT00242541', 'NCT00171886', 'NCT03710499', 'NCT01206270', 'NCT02952885', 'NCT04860037', 'NCT02274311', 'NCT00921609', 'NCT00616408', 'NCT00001860', 'NCT00145405', 'NCT01371643', 'NCT00627796', 'NCT03973450', 'NCT00171730', 'NCT00784615', 'NCT03401008', 'NCT00994214', 'NCT00182091', 'NCT01368133', 'NCT00225979', 'NCT02012127', 'NCT00017927', 'NCT02703064', 'NCT03548415', 'NCT01424241', 'NCT01313455', 'NCT01902420', 'NCT00615004', 'NCT00068042', 'NCT00128232', 'NCT03170804', 'NCT01338519', 'NCT02568488', 'NCT01256944', 'NCT00913055', 'NCT00383708', 'NCT00499993', 'NCT03042026', 'NCT00145288']\n",
      "   Query 20 metrics: Precision@10: 0.5000, Recall@10: 0.1190, F1@10: 0.1923, AP: 0.5723, nDCG@10: 0.6892, MRR@10=1.0000\n",
      "    Total time for query: 0.24 seconds\n"
     ]
    },
    {
     "name": "stderr",
     "output_type": "stream",
     "text": [
      " 28%|██▊       | 21/75 [00:07<00:12,  4.35it/s]"
     ]
    },
    {
     "name": "stdout",
     "output_type": "stream",
     "text": [
      "Query 21 Stage 1 retrieved docs: ['NCT03259880', 'NCT00523874', 'NCT04735055', 'NCT04196504', 'NCT03354065', 'NCT04570852', 'NCT02563080', 'NCT01796652', 'NCT04615702', 'NCT03342716', 'NCT04552028', 'NCT02528760', 'NCT04750044', 'NCT01015417', 'NCT02204189', 'NCT03643900', 'NCT03407534', 'NCT01583517', 'NCT04574297', 'NCT03411629', 'NCT01997476', 'NCT04408872', 'NCT00839488', 'NCT04079777', 'NCT02068677', 'NCT02543658', 'NCT04433754', 'NCT00534534', 'NCT03601325', 'NCT03074084', 'NCT01929538', 'NCT04231279', 'NCT00483912', 'NCT03341221', 'NCT02430285', 'NCT01611532', 'NCT03513900', 'NCT04513197', 'NCT01758549', 'NCT04214756']\n",
      "Query 21 top bi-encoder score: 1.7417\n",
      "Query 21: Top bi-encoder score 1.7417 exceeds threshold 1.6, skipping cross-encoder re-ranking\n",
      "  Query 21 stage 2 retrieved (final): ['NCT03259880', 'NCT00523874', 'NCT04735055', 'NCT04196504', 'NCT03354065', 'NCT04570852', 'NCT02563080', 'NCT01796652', 'NCT04615702', 'NCT03342716', 'NCT04552028', 'NCT02528760', 'NCT04750044', 'NCT01015417', 'NCT02204189', 'NCT03643900', 'NCT03407534', 'NCT01583517', 'NCT04574297', 'NCT03411629', 'NCT01997476', 'NCT04408872', 'NCT00839488', 'NCT04079777', 'NCT02068677', 'NCT02543658', 'NCT04433754', 'NCT00534534', 'NCT03601325', 'NCT03074084', 'NCT01929538', 'NCT04231279', 'NCT00483912', 'NCT03341221', 'NCT02430285', 'NCT01611532', 'NCT03513900', 'NCT04513197', 'NCT01758549', 'NCT04214756']\n",
      "   Query 21 metrics: Precision@10: 0.5000, Recall@10: 0.1020, F1@10: 0.1695, AP: 0.5114, nDCG@10: 0.5728, MRR@10=1.0000\n",
      "    Total time for query: 0.22 seconds\n"
     ]
    },
    {
     "name": "stderr",
     "output_type": "stream",
     "text": [
      " 29%|██▉       | 22/75 [00:07<00:12,  4.39it/s]"
     ]
    },
    {
     "name": "stdout",
     "output_type": "stream",
     "text": [
      "Query 22 Stage 1 retrieved docs: ['NCT04033198', 'NCT01054417', 'NCT03236961', 'NCT03234296', 'NCT02404064', 'NCT00677417', 'NCT01967745', 'NCT04440150', 'NCT02742402', 'NCT03289351', 'NCT00413855', 'NCT02867072', 'NCT04594486', 'NCT00135603', 'NCT03570398', 'NCT04689906', 'NCT03591419', 'NCT00971438', 'NCT04634448', 'NCT03902262', 'NCT04618666', 'NCT01260064', 'NCT02467959', 'NCT03159754', 'NCT02789865', 'NCT02673528', 'NCT00908804', 'NCT04576273', 'NCT02627781', 'NCT04083313', 'NCT04688463', 'NCT04271826', 'NCT03267082', 'NCT02800785', 'NCT01424631', 'NCT01678365', 'NCT02687217', 'NCT01718171', 'NCT00997516', 'NCT04253899']\n",
      "Query 22 top bi-encoder score: 1.7712\n",
      "Query 22: Top bi-encoder score 1.7712 exceeds threshold 1.6, skipping cross-encoder re-ranking\n",
      "  Query 22 stage 2 retrieved (final): ['NCT04033198', 'NCT01054417', 'NCT03236961', 'NCT03234296', 'NCT02404064', 'NCT00677417', 'NCT01967745', 'NCT04440150', 'NCT02742402', 'NCT03289351', 'NCT00413855', 'NCT02867072', 'NCT04594486', 'NCT00135603', 'NCT03570398', 'NCT04689906', 'NCT03591419', 'NCT00971438', 'NCT04634448', 'NCT03902262', 'NCT04618666', 'NCT01260064', 'NCT02467959', 'NCT03159754', 'NCT02789865', 'NCT02673528', 'NCT00908804', 'NCT04576273', 'NCT02627781', 'NCT04083313', 'NCT04688463', 'NCT04271826', 'NCT03267082', 'NCT02800785', 'NCT01424631', 'NCT01678365', 'NCT02687217', 'NCT01718171', 'NCT00997516', 'NCT04253899']\n",
      "   Query 22 metrics: Precision@10: 0.3000, Recall@10: 0.0423, F1@10: 0.0741, AP: 0.4865, nDCG@10: 0.5168, MRR@10=0.5000\n",
      "    Total time for query: 0.22 seconds\n"
     ]
    },
    {
     "name": "stderr",
     "output_type": "stream",
     "text": [
      " 31%|███       | 23/75 [00:07<00:11,  4.34it/s]"
     ]
    },
    {
     "name": "stdout",
     "output_type": "stream",
     "text": [
      "Query 23 Stage 1 retrieved docs: ['NCT03846570', 'NCT04674137', 'NCT01437735', 'NCT03363698', 'NCT01313637', 'NCT01313650', 'NCT04520230', 'NCT02415179', 'NCT00411567', 'NCT02340520', 'NCT02660853', 'NCT00182481', 'NCT00278083', 'NCT00509197', 'NCT01657487', 'NCT00217854', 'NCT00954850', 'NCT00839124', 'NCT01562093', 'NCT01742338', 'NCT04078542', 'NCT00147069', 'NCT00657774', 'NCT02740543', 'NCT03788057', 'NCT04509661', 'NCT00662298', 'NCT02301975', 'NCT02294279', 'NCT00903227', 'NCT04322422', 'NCT01436110', 'NCT01772368', 'NCT00180661', 'NCT00452348', 'NCT00452699', 'NCT01659476', 'NCT01498653', 'NCT00634517', 'NCT01691508']\n",
      "Query 23 top bi-encoder score: 1.7317\n",
      "Query 23: Top bi-encoder score 1.7317 exceeds threshold 1.6, skipping cross-encoder re-ranking\n",
      "  Query 23 stage 2 retrieved (final): ['NCT03846570', 'NCT04674137', 'NCT01437735', 'NCT03363698', 'NCT01313637', 'NCT01313650', 'NCT04520230', 'NCT02415179', 'NCT00411567', 'NCT02340520', 'NCT02660853', 'NCT00182481', 'NCT00278083', 'NCT00509197', 'NCT01657487', 'NCT00217854', 'NCT00954850', 'NCT00839124', 'NCT01562093', 'NCT01742338', 'NCT04078542', 'NCT00147069', 'NCT00657774', 'NCT02740543', 'NCT03788057', 'NCT04509661', 'NCT00662298', 'NCT02301975', 'NCT02294279', 'NCT00903227', 'NCT04322422', 'NCT01436110', 'NCT01772368', 'NCT00180661', 'NCT00452348', 'NCT00452699', 'NCT01659476', 'NCT01498653', 'NCT00634517', 'NCT01691508']\n",
      "   Query 23 metrics: Precision@10: 0.1000, Recall@10: 0.0119, F1@10: 0.0213, AP: 0.2847, nDCG@10: 0.1795, MRR@10=0.3333\n",
      "    Total time for query: 0.24 seconds\n"
     ]
    },
    {
     "name": "stderr",
     "output_type": "stream",
     "text": [
      " 32%|███▏      | 24/75 [00:07<00:11,  4.39it/s]"
     ]
    },
    {
     "name": "stdout",
     "output_type": "stream",
     "text": [
      "Query 24 Stage 1 retrieved docs: ['NCT04764903', 'NCT01661621', 'NCT00685633', 'NCT02961114', 'NCT01815697', 'NCT03630926', 'NCT00596011', 'NCT02074644', 'NCT01563796', 'NCT04766268', 'NCT00381108', 'NCT02808013', 'NCT00407329', 'NCT03239951', 'NCT04055675', 'NCT00193648', 'NCT02326805', 'NCT02283684', 'NCT00561262', 'NCT01799902', 'NCT01628900', 'NCT00077012', 'NCT01083979', 'NCT04577040', 'NCT03190421', 'NCT03104907', 'NCT03520673', 'NCT01604148', 'NCT00564460', 'NCT00939120', 'NCT00722735', 'NCT02524236', 'NCT00827814', 'NCT03075449', 'NCT00111592', 'NCT00431626', 'NCT04228081', 'NCT01950871', 'NCT02689830', 'NCT04831476']\n",
      "Query 24 top bi-encoder score: 1.6154\n",
      "Query 24: Top bi-encoder score 1.6154 exceeds threshold 1.6, skipping cross-encoder re-ranking\n",
      "  Query 24 stage 2 retrieved (final): ['NCT04764903', 'NCT01661621', 'NCT00685633', 'NCT02961114', 'NCT01815697', 'NCT03630926', 'NCT00596011', 'NCT02074644', 'NCT01563796', 'NCT04766268', 'NCT00381108', 'NCT02808013', 'NCT00407329', 'NCT03239951', 'NCT04055675', 'NCT00193648', 'NCT02326805', 'NCT02283684', 'NCT00561262', 'NCT01799902', 'NCT01628900', 'NCT00077012', 'NCT01083979', 'NCT04577040', 'NCT03190421', 'NCT03104907', 'NCT03520673', 'NCT01604148', 'NCT00564460', 'NCT00939120', 'NCT00722735', 'NCT02524236', 'NCT00827814', 'NCT03075449', 'NCT00111592', 'NCT00431626', 'NCT04228081', 'NCT01950871', 'NCT02689830', 'NCT04831476']\n",
      "   Query 24 metrics: Precision@10: 0.4000, Recall@10: 0.0360, F1@10: 0.0661, AP: 0.4465, nDCG@10: 0.5625, MRR@10=1.0000\n",
      "    Total time for query: 0.22 seconds\n"
     ]
    },
    {
     "name": "stderr",
     "output_type": "stream",
     "text": [
      " 33%|███▎      | 25/75 [00:08<00:11,  4.41it/s]"
     ]
    },
    {
     "name": "stdout",
     "output_type": "stream",
     "text": [
      "Query 25 Stage 1 retrieved docs: ['NCT02897700', 'NCT04697043', 'NCT00542191', 'NCT03323346', 'NCT04567420', 'NCT03188393', 'NCT01501487', 'NCT01257152', 'NCT00881361', 'NCT04245150', 'NCT00696527', 'NCT03236974', 'NCT04293796', 'NCT01320488', 'NCT02670577', 'NCT02564848', 'NCT03354611', 'NCT03669952', 'NCT03144037', 'NCT00028340', 'NCT00103181', 'NCT00093795', 'NCT01216111', 'NCT02133417', 'NCT00003953', 'NCT01541878', 'NCT03669705', 'NCT02700776', 'NCT01662128', 'NCT01203839', 'NCT00087178', 'NCT00146536', 'NCT00130533', 'NCT01648608', 'NCT03491410', 'NCT04829890', 'NCT01275677', 'NCT02489617', 'NCT00929591', 'NCT03795012']\n",
      "Query 25 top bi-encoder score: 1.6806\n",
      "Query 25: Top bi-encoder score 1.6806 exceeds threshold 1.6, skipping cross-encoder re-ranking\n",
      "  Query 25 stage 2 retrieved (final): ['NCT02897700', 'NCT04697043', 'NCT00542191', 'NCT03323346', 'NCT04567420', 'NCT03188393', 'NCT01501487', 'NCT01257152', 'NCT00881361', 'NCT04245150', 'NCT00696527', 'NCT03236974', 'NCT04293796', 'NCT01320488', 'NCT02670577', 'NCT02564848', 'NCT03354611', 'NCT03669952', 'NCT03144037', 'NCT00028340', 'NCT00103181', 'NCT00093795', 'NCT01216111', 'NCT02133417', 'NCT00003953', 'NCT01541878', 'NCT03669705', 'NCT02700776', 'NCT01662128', 'NCT01203839', 'NCT00087178', 'NCT00146536', 'NCT00130533', 'NCT01648608', 'NCT03491410', 'NCT04829890', 'NCT01275677', 'NCT02489617', 'NCT00929591', 'NCT03795012']\n",
      "   Query 25 metrics: Precision@10: 0.0000, Recall@10: 0.0000, F1@10: 0.0000, AP: 0.1919, nDCG@10: 0.0000, MRR@10=0.0000\n",
      "    Total time for query: 0.22 seconds\n"
     ]
    },
    {
     "name": "stderr",
     "output_type": "stream",
     "text": [
      " 35%|███▍      | 26/75 [00:08<00:11,  4.44it/s]"
     ]
    },
    {
     "name": "stdout",
     "output_type": "stream",
     "text": [
      "Query 26 Stage 1 retrieved docs: ['NCT01015417', 'NCT04308265', 'NCT03981315', 'NCT01492790', 'NCT03477253', 'NCT02156947', 'NCT02155244', 'NCT03709030', 'NCT04675190', 'NCT04615702', 'NCT02554097', 'NCT00161083', 'NCT02472509', 'NCT00863642', 'NCT02833103', 'NCT03259880', 'NCT04197908', 'NCT03883464', 'NCT02430285', 'NCT03577873', 'NCT02748525', 'NCT03354065', 'NCT04542512', 'NCT04242394', 'NCT01425177', 'NCT00807729', 'NCT02351492', 'NCT02394327', 'NCT00447304', 'NCT04467710', 'NCT00339560', 'NCT02630433', 'NCT04234126', 'NCT01190280', 'NCT00124033', 'NCT02515474', 'NCT02195115', 'NCT03804775', 'NCT04350346', 'NCT04041726']\n",
      "Query 26 top bi-encoder score: 1.7892\n",
      "Query 26: Top bi-encoder score 1.7892 exceeds threshold 1.6, skipping cross-encoder re-ranking\n",
      "  Query 26 stage 2 retrieved (final): ['NCT01015417', 'NCT04308265', 'NCT03981315', 'NCT01492790', 'NCT03477253', 'NCT02156947', 'NCT02155244', 'NCT03709030', 'NCT04675190', 'NCT04615702', 'NCT02554097', 'NCT00161083', 'NCT02472509', 'NCT00863642', 'NCT02833103', 'NCT03259880', 'NCT04197908', 'NCT03883464', 'NCT02430285', 'NCT03577873', 'NCT02748525', 'NCT03354065', 'NCT04542512', 'NCT04242394', 'NCT01425177', 'NCT00807729', 'NCT02351492', 'NCT02394327', 'NCT00447304', 'NCT04467710', 'NCT00339560', 'NCT02630433', 'NCT04234126', 'NCT01190280', 'NCT00124033', 'NCT02515474', 'NCT02195115', 'NCT03804775', 'NCT04350346', 'NCT04041726']\n",
      "   Query 26 metrics: Precision@10: 0.4000, Recall@10: 0.0460, F1@10: 0.0825, AP: 0.3134, nDCG@10: 0.4409, MRR@10=0.3333\n",
      "    Total time for query: 0.22 seconds\n"
     ]
    },
    {
     "name": "stderr",
     "output_type": "stream",
     "text": [
      " 36%|███▌      | 27/75 [00:08<00:10,  4.44it/s]"
     ]
    },
    {
     "name": "stdout",
     "output_type": "stream",
     "text": [
      "Query 27 Stage 1 retrieved docs: ['NCT03520660', 'NCT00751426', 'NCT02825212', 'NCT03170076', 'NCT02483156', 'NCT03186313', 'NCT03693586', 'NCT03014986', 'NCT03296930', 'NCT03547895', 'NCT01360268', 'NCT01289652', 'NCT00887081', 'NCT04546802', 'NCT01750515', 'NCT00152581', 'NCT01872988', 'NCT00512941', 'NCT03226717', 'NCT00001982', 'NCT03200171', 'NCT02532907', 'NCT00630084', 'NCT02707952', 'NCT00179413', 'NCT01888900', 'NCT02959359', 'NCT02669966', 'NCT00707772', 'NCT01437969', 'NCT02265237', 'NCT02261662', 'NCT00527540', 'NCT01402583', 'NCT04405011', 'NCT01062659', 'NCT01453075', 'NCT02468648', 'NCT00154869', 'NCT01717326']\n",
      "Query 27 top bi-encoder score: 1.7890\n",
      "Query 27: Top bi-encoder score 1.7890 exceeds threshold 1.6, skipping cross-encoder re-ranking\n",
      "  Query 27 stage 2 retrieved (final): ['NCT03520660', 'NCT00751426', 'NCT02825212', 'NCT03170076', 'NCT02483156', 'NCT03186313', 'NCT03693586', 'NCT03014986', 'NCT03296930', 'NCT03547895', 'NCT01360268', 'NCT01289652', 'NCT00887081', 'NCT04546802', 'NCT01750515', 'NCT00152581', 'NCT01872988', 'NCT00512941', 'NCT03226717', 'NCT00001982', 'NCT03200171', 'NCT02532907', 'NCT00630084', 'NCT02707952', 'NCT00179413', 'NCT01888900', 'NCT02959359', 'NCT02669966', 'NCT00707772', 'NCT01437969', 'NCT02265237', 'NCT02261662', 'NCT00527540', 'NCT01402583', 'NCT04405011', 'NCT01062659', 'NCT01453075', 'NCT02468648', 'NCT00154869', 'NCT01717326']\n",
      "   Query 27 metrics: Precision@10: 0.3000, Recall@10: 0.0526, F1@10: 0.0896, AP: 0.4459, nDCG@10: 0.5519, MRR@10=1.0000\n",
      "    Total time for query: 0.22 seconds\n"
     ]
    },
    {
     "name": "stderr",
     "output_type": "stream",
     "text": [
      " 37%|███▋      | 28/75 [00:08<00:10,  4.43it/s]"
     ]
    },
    {
     "name": "stdout",
     "output_type": "stream",
     "text": [
      "Query 28 Stage 1 retrieved docs: ['NCT02340520', 'NCT01114386', 'NCT02571582', 'NCT01142531', 'NCT01893918', 'NCT00938977', 'NCT02434536', 'NCT02154880', 'NCT01314807', 'NCT03227211', 'NCT02329522', 'NCT00380068', 'NCT00287625', 'NCT00668408', 'NCT01940328', 'NCT04105075', 'NCT02531542', 'NCT01616901', 'NCT04520230', 'NCT01657487', 'NCT03611127', 'NCT03026439', 'NCT01865500', 'NCT02050022', 'NCT02060799', 'NCT00537628', 'NCT04200079', 'NCT02882165', 'NCT03381560', 'NCT04408612', 'NCT01923051', 'NCT01116063', 'NCT00144196', 'NCT00581087', 'NCT00857766', 'NCT00981851', 'NCT00206830', 'NCT02062554', 'NCT01429376', 'NCT01165528']\n",
      "Query 28 top bi-encoder score: 1.6765\n",
      "Query 28: Top bi-encoder score 1.6765 exceeds threshold 1.6, skipping cross-encoder re-ranking\n",
      "  Query 28 stage 2 retrieved (final): ['NCT02340520', 'NCT01114386', 'NCT02571582', 'NCT01142531', 'NCT01893918', 'NCT00938977', 'NCT02434536', 'NCT02154880', 'NCT01314807', 'NCT03227211', 'NCT02329522', 'NCT00380068', 'NCT00287625', 'NCT00668408', 'NCT01940328', 'NCT04105075', 'NCT02531542', 'NCT01616901', 'NCT04520230', 'NCT01657487', 'NCT03611127', 'NCT03026439', 'NCT01865500', 'NCT02050022', 'NCT02060799', 'NCT00537628', 'NCT04200079', 'NCT02882165', 'NCT03381560', 'NCT04408612', 'NCT01923051', 'NCT01116063', 'NCT00144196', 'NCT00581087', 'NCT00857766', 'NCT00981851', 'NCT00206830', 'NCT02062554', 'NCT01429376', 'NCT01165528']\n",
      "   Query 28 metrics: Precision@10: 0.2000, Recall@10: 0.0140, F1@10: 0.0261, AP: 0.2200, nDCG@10: 0.2640, MRR@10=0.1429\n",
      "    Total time for query: 0.23 seconds\n"
     ]
    },
    {
     "name": "stderr",
     "output_type": "stream",
     "text": [
      " 39%|███▊      | 29/75 [00:09<00:10,  4.33it/s]"
     ]
    },
    {
     "name": "stdout",
     "output_type": "stream",
     "text": [
      "Query 29 Stage 1 retrieved docs: ['NCT00590044', 'NCT02548494', 'NCT03001323', 'NCT02006342', 'NCT00970567', 'NCT00133809', 'NCT00467246', 'NCT02130180', 'NCT03107208', 'NCT00179127', 'NCT00911625', 'NCT02777073', 'NCT02280174', 'NCT02157155', 'NCT00338104', 'NCT04567225', 'NCT00663624', 'NCT01195090', 'NCT01049412', 'NCT01654120', 'NCT04665128', 'NCT00506194', 'NCT00590226', 'NCT03051243', 'NCT00433628', 'NCT00220961', 'NCT02478190', 'NCT01810952', 'NCT01299012', 'NCT02333851', 'NCT03501680', 'NCT01378117', 'NCT00394407', 'NCT03526536', 'NCT00564018', 'NCT00979628', 'NCT02782195', 'NCT03738865', 'NCT01128192', 'NCT00354939']\n",
      "Query 29 top bi-encoder score: 1.7116\n",
      "Query 29: Top bi-encoder score 1.7116 exceeds threshold 1.6, skipping cross-encoder re-ranking\n",
      "  Query 29 stage 2 retrieved (final): ['NCT00590044', 'NCT02548494', 'NCT03001323', 'NCT02006342', 'NCT00970567', 'NCT00133809', 'NCT00467246', 'NCT02130180', 'NCT03107208', 'NCT00179127', 'NCT00911625', 'NCT02777073', 'NCT02280174', 'NCT02157155', 'NCT00338104', 'NCT04567225', 'NCT00663624', 'NCT01195090', 'NCT01049412', 'NCT01654120', 'NCT04665128', 'NCT00506194', 'NCT00590226', 'NCT03051243', 'NCT00433628', 'NCT00220961', 'NCT02478190', 'NCT01810952', 'NCT01299012', 'NCT02333851', 'NCT03501680', 'NCT01378117', 'NCT00394407', 'NCT03526536', 'NCT00564018', 'NCT00979628', 'NCT02782195', 'NCT03738865', 'NCT01128192', 'NCT00354939']\n",
      "   Query 29 metrics: Precision@10: 0.3000, Recall@10: 0.0417, F1@10: 0.0732, AP: 0.2478, nDCG@10: 0.4913, MRR@10=0.2000\n",
      "    Total time for query: 0.24 seconds\n"
     ]
    },
    {
     "name": "stderr",
     "output_type": "stream",
     "text": [
      " 40%|████      | 30/75 [00:09<00:10,  4.37it/s]"
     ]
    },
    {
     "name": "stdout",
     "output_type": "stream",
     "text": [
      "Query 30 Stage 1 retrieved docs: ['NCT03106935', 'NCT04249271', 'NCT02868476', 'NCT03984006', 'NCT00552487', 'NCT00001159', 'NCT02319538', 'NCT00715572', 'NCT02725879', 'NCT02567877', 'NCT04752202', 'NCT03634371', 'NCT04573907', 'NCT02126683', 'NCT00230802', 'NCT01581463', 'NCT02710175', 'NCT00287144', 'NCT04613323', 'NCT03569787', 'NCT03053115', 'NCT02399475', 'NCT04754607', 'NCT02645786', 'NCT04236232', 'NCT01197183', 'NCT04795947', 'NCT01950260', 'NCT01536678', 'NCT02317926', 'NCT00388297', 'NCT03712683', 'NCT01280292', 'NCT03641638', 'NCT00818896', 'NCT01436994', 'NCT02891668', 'NCT01441154', 'NCT01997554', 'NCT02946918']\n",
      "Query 30 top bi-encoder score: 1.7267\n",
      "Query 30: Top bi-encoder score 1.7267 exceeds threshold 1.6, skipping cross-encoder re-ranking\n",
      "  Query 30 stage 2 retrieved (final): ['NCT03106935', 'NCT04249271', 'NCT02868476', 'NCT03984006', 'NCT00552487', 'NCT00001159', 'NCT02319538', 'NCT00715572', 'NCT02725879', 'NCT02567877', 'NCT04752202', 'NCT03634371', 'NCT04573907', 'NCT02126683', 'NCT00230802', 'NCT01581463', 'NCT02710175', 'NCT00287144', 'NCT04613323', 'NCT03569787', 'NCT03053115', 'NCT02399475', 'NCT04754607', 'NCT02645786', 'NCT04236232', 'NCT01197183', 'NCT04795947', 'NCT01950260', 'NCT01536678', 'NCT02317926', 'NCT00388297', 'NCT03712683', 'NCT01280292', 'NCT03641638', 'NCT00818896', 'NCT01436994', 'NCT02891668', 'NCT01441154', 'NCT01997554', 'NCT02946918']\n",
      "   Query 30 metrics: Precision@10: 0.2000, Recall@10: 0.0417, F1@10: 0.0690, AP: 0.2354, nDCG@10: 0.3741, MRR@10=0.2000\n",
      "    Total time for query: 0.22 seconds\n"
     ]
    },
    {
     "name": "stderr",
     "output_type": "stream",
     "text": [
      " 41%|████▏     | 31/75 [00:09<00:09,  4.40it/s]"
     ]
    },
    {
     "name": "stdout",
     "output_type": "stream",
     "text": [
      "Query 31 Stage 1 retrieved docs: ['NCT03998254', 'NCT00312286', 'NCT00117884', 'NCT01599416', 'NCT03837028', 'NCT02780960', 'NCT00743626', 'NCT00154479', 'NCT00343213', 'NCT00872937', 'NCT02365935', 'NCT02346227', 'NCT00091130', 'NCT04171505', 'NCT03577925', 'NCT00006444', 'NCT01131312', 'NCT01133509', 'NCT00201370', 'NCT03920800', 'NCT04683549', 'NCT03061435', 'NCT00709891', 'NCT04369339', 'NCT00128661', 'NCT03903952', 'NCT00435214', 'NCT04461678', 'NCT01051895', 'NCT04672980', 'NCT00695422', 'NCT03853915', 'NCT00462397', 'NCT00689741', 'NCT01550783', 'NCT00003017', 'NCT04587050', 'NCT00154583', 'NCT01924117', 'NCT01385436']\n",
      "Query 31 top bi-encoder score: 1.6806\n",
      "Query 31: Top bi-encoder score 1.6806 exceeds threshold 1.6, skipping cross-encoder re-ranking\n",
      "  Query 31 stage 2 retrieved (final): ['NCT03998254', 'NCT00312286', 'NCT00117884', 'NCT01599416', 'NCT03837028', 'NCT02780960', 'NCT00743626', 'NCT00154479', 'NCT00343213', 'NCT00872937', 'NCT02365935', 'NCT02346227', 'NCT00091130', 'NCT04171505', 'NCT03577925', 'NCT00006444', 'NCT01131312', 'NCT01133509', 'NCT00201370', 'NCT03920800', 'NCT04683549', 'NCT03061435', 'NCT00709891', 'NCT04369339', 'NCT00128661', 'NCT03903952', 'NCT00435214', 'NCT04461678', 'NCT01051895', 'NCT04672980', 'NCT00695422', 'NCT03853915', 'NCT00462397', 'NCT00689741', 'NCT01550783', 'NCT00003017', 'NCT04587050', 'NCT00154583', 'NCT01924117', 'NCT01385436']\n",
      "   Query 31 metrics: Precision@10: 0.3000, Recall@10: 0.0667, F1@10: 0.1091, AP: 0.2138, nDCG@10: 0.3256, MRR@10=0.2000\n",
      "    Total time for query: 0.22 seconds\n"
     ]
    },
    {
     "name": "stderr",
     "output_type": "stream",
     "text": [
      " 43%|████▎     | 32/75 [00:09<00:09,  4.37it/s]"
     ]
    },
    {
     "name": "stdout",
     "output_type": "stream",
     "text": [
      "Query 32 Stage 1 retrieved docs: ['NCT04132375', 'NCT03690024', 'NCT01252199', 'NCT01406288', 'NCT02336516', 'NCT03576183', 'NCT02870751', 'NCT02205541', 'NCT03261297', 'NCT03275792', 'NCT01638039', 'NCT03362970', 'NCT03778125', 'NCT04491799', 'NCT03586206', 'NCT03257553', 'NCT02773446', 'NCT03596827', 'NCT02127814', 'NCT04269174', 'NCT03902262', 'NCT01147445', 'NCT00362869', 'NCT01362569', 'NCT00269399', 'NCT02531685', 'NCT04237181', 'NCT01561248', 'NCT00658151', 'NCT01472978', 'NCT01077245', 'NCT03394040', 'NCT02076438', 'NCT00312910', 'NCT00350298', 'NCT00404625', 'NCT03166670', 'NCT01564290', 'NCT00435526', 'NCT03647995']\n",
      "Query 32 top bi-encoder score: 1.7607\n",
      "Query 32: Top bi-encoder score 1.7607 exceeds threshold 1.6, skipping cross-encoder re-ranking\n",
      "  Query 32 stage 2 retrieved (final): ['NCT04132375', 'NCT03690024', 'NCT01252199', 'NCT01406288', 'NCT02336516', 'NCT03576183', 'NCT02870751', 'NCT02205541', 'NCT03261297', 'NCT03275792', 'NCT01638039', 'NCT03362970', 'NCT03778125', 'NCT04491799', 'NCT03586206', 'NCT03257553', 'NCT02773446', 'NCT03596827', 'NCT02127814', 'NCT04269174', 'NCT03902262', 'NCT01147445', 'NCT00362869', 'NCT01362569', 'NCT00269399', 'NCT02531685', 'NCT04237181', 'NCT01561248', 'NCT00658151', 'NCT01472978', 'NCT01077245', 'NCT03394040', 'NCT02076438', 'NCT00312910', 'NCT00350298', 'NCT00404625', 'NCT03166670', 'NCT01564290', 'NCT00435526', 'NCT03647995']\n",
      "   Query 32 metrics: Precision@10: 0.5000, Recall@10: 0.1923, F1@10: 0.2778, AP: 0.4973, nDCG@10: 0.5758, MRR@10=0.5000\n",
      "    Total time for query: 0.23 seconds\n"
     ]
    },
    {
     "name": "stderr",
     "output_type": "stream",
     "text": [
      " 44%|████▍     | 33/75 [00:09<00:09,  4.39it/s]"
     ]
    },
    {
     "name": "stdout",
     "output_type": "stream",
     "text": [
      "Query 33 Stage 1 retrieved docs: ['NCT00769002', 'NCT01978262', 'NCT00253734', 'NCT02213354', 'NCT00943358', 'NCT03028974', 'NCT02908269', 'NCT00546585', 'NCT02746783', 'NCT01181336', 'NCT01721083', 'NCT01317745', 'NCT00230750', 'NCT01317758', 'NCT03020498', 'NCT01436370', 'NCT02921997', 'NCT00973895', 'NCT01827462', 'NCT00814385', 'NCT00397215', 'NCT00138385', 'NCT00170547', 'NCT03318315', 'NCT01189123', 'NCT01226758', 'NCT00943631', 'NCT03614975', 'NCT00695669', 'NCT03814720', 'NCT01123954', 'NCT00231907', 'NCT00311649', 'NCT01385215', 'NCT00283283', 'NCT00858611', 'NCT00386113', 'NCT04579588', 'NCT00943878', 'NCT01236040']\n",
      "Query 33 top bi-encoder score: 1.6439\n",
      "Query 33: Top bi-encoder score 1.6439 exceeds threshold 1.6, skipping cross-encoder re-ranking\n",
      "  Query 33 stage 2 retrieved (final): ['NCT00769002', 'NCT01978262', 'NCT00253734', 'NCT02213354', 'NCT00943358', 'NCT03028974', 'NCT02908269', 'NCT00546585', 'NCT02746783', 'NCT01181336', 'NCT01721083', 'NCT01317745', 'NCT00230750', 'NCT01317758', 'NCT03020498', 'NCT01436370', 'NCT02921997', 'NCT00973895', 'NCT01827462', 'NCT00814385', 'NCT00397215', 'NCT00138385', 'NCT00170547', 'NCT03318315', 'NCT01189123', 'NCT01226758', 'NCT00943631', 'NCT03614975', 'NCT00695669', 'NCT03814720', 'NCT01123954', 'NCT00231907', 'NCT00311649', 'NCT01385215', 'NCT00283283', 'NCT00858611', 'NCT00386113', 'NCT04579588', 'NCT00943878', 'NCT01236040']\n",
      "   Query 33 metrics: Precision@10: 0.3000, Recall@10: 0.0148, F1@10: 0.0282, AP: 0.5100, nDCG@10: 0.4153, MRR@10=1.0000\n",
      "    Total time for query: 0.22 seconds\n",
      "Query 34 Stage 1 retrieved docs: ['NCT03445624', 'NCT01694953', 'NCT01725048', 'NCT01093196', 'NCT03057860', 'NCT04426435', 'NCT00001549', 'NCT00455286', 'NCT02633813', 'NCT01149707', 'NCT03772561', 'NCT00625742', 'NCT00614809', 'NCT02441491', 'NCT00879359', 'NCT03323346', 'NCT00380068', 'NCT02657356', 'NCT02691533', 'NCT01579929', 'NCT02574975', 'NCT01797575', 'NCT03766074', 'NCT01707225', 'NCT04803305', 'NCT00193648', 'NCT01556646', 'NCT02939755', 'NCT04599621', 'NCT04323566', 'NCT02062554', 'NCT01497548', 'NCT00222131', 'NCT01782339', 'NCT02361125', 'NCT00101725', 'NCT00911859', 'NCT04333524', 'NCT04225117', 'NCT02268630']\n",
      "Query 34 top bi-encoder score: 1.5874\n",
      "Query 34: Top bi-encoder score 1.5874 is below threshold 1.6, applying cross-encoder re-ranking\n"
     ]
    },
    {
     "name": "stderr",
     "output_type": "stream",
     "text": [
      " 45%|████▌     | 34/75 [00:12<00:33,  1.24it/s]"
     ]
    },
    {
     "name": "stdout",
     "output_type": "stream",
     "text": [
      "  Query 34 stage 2 retrieved (final): ['NCT01497548', 'NCT01725048', 'NCT00101725', 'NCT00001549', 'NCT01694953', 'NCT02574975', 'NCT03445624', 'NCT00222131', 'NCT01556646', 'NCT00380068']\n",
      "   Query 34 metrics: Precision@10: 0.0000, Recall@10: 0.0000, F1@10: 0.0000, AP: 0.0000, nDCG@10: 0.0000, MRR@10=0.0000\n",
      "    Total time for query: 2.16 seconds\n"
     ]
    },
    {
     "name": "stderr",
     "output_type": "stream",
     "text": [
      " 47%|████▋     | 35/75 [00:12<00:26,  1.51it/s]"
     ]
    },
    {
     "name": "stdout",
     "output_type": "stream",
     "text": [
      "Query 35 Stage 1 retrieved docs: ['NCT00471861', 'NCT00880425', 'NCT01946126', 'NCT00126035', 'NCT01804517', 'NCT01687101', 'NCT01090050', 'NCT01300546', 'NCT01917474', 'NCT03766412', 'NCT04623203', 'NCT02322333', 'NCT00274170', 'NCT00335803', 'NCT04698525', 'NCT02021474', 'NCT00837044', 'NCT00754611', 'NCT00642564', 'NCT04287140', 'NCT02742272', 'NCT02703129', 'NCT02903680', 'NCT04284501', 'NCT04114630', 'NCT02681211', 'NCT04194008', 'NCT03036761', 'NCT01435941', 'NCT02959177', 'NCT04089761', 'NCT02549300', 'NCT04153409', 'NCT02766517', 'NCT02163993', 'NCT02895256', 'NCT02427009', 'NCT02856802', 'NCT00449540', 'NCT02614183']\n",
      "Query 35 top bi-encoder score: 1.6795\n",
      "Query 35: Top bi-encoder score 1.6795 exceeds threshold 1.6, skipping cross-encoder re-ranking\n",
      "  Query 35 stage 2 retrieved (final): ['NCT00471861', 'NCT00880425', 'NCT01946126', 'NCT00126035', 'NCT01804517', 'NCT01687101', 'NCT01090050', 'NCT01300546', 'NCT01917474', 'NCT03766412', 'NCT04623203', 'NCT02322333', 'NCT00274170', 'NCT00335803', 'NCT04698525', 'NCT02021474', 'NCT00837044', 'NCT00754611', 'NCT00642564', 'NCT04287140', 'NCT02742272', 'NCT02703129', 'NCT02903680', 'NCT04284501', 'NCT04114630', 'NCT02681211', 'NCT04194008', 'NCT03036761', 'NCT01435941', 'NCT02959177', 'NCT04089761', 'NCT02549300', 'NCT04153409', 'NCT02766517', 'NCT02163993', 'NCT02895256', 'NCT02427009', 'NCT02856802', 'NCT00449540', 'NCT02614183']\n",
      "   Query 35 metrics: Precision@10: 0.2000, Recall@10: 0.0244, F1@10: 0.0435, AP: 0.2192, nDCG@10: 0.2841, MRR@10=0.1111\n",
      "    Total time for query: 0.33 seconds\n"
     ]
    },
    {
     "name": "stderr",
     "output_type": "stream",
     "text": [
      " 48%|████▊     | 36/75 [00:12<00:20,  1.89it/s]"
     ]
    },
    {
     "name": "stdout",
     "output_type": "stream",
     "text": [
      "Query 36 Stage 1 retrieved docs: ['NCT00770276', 'NCT00667498', 'NCT00622765', 'NCT02463435', 'NCT04354285', 'NCT02436343', 'NCT04327375', 'NCT04595006', 'NCT02717832', 'NCT00704197', 'NCT02062554', 'NCT04782856', 'NCT02691533', 'NCT04575194', 'NCT01665820', 'NCT01066091', 'NCT02452567', 'NCT04791397', 'NCT01636427', 'NCT00879125', 'NCT00388609', 'NCT04193995', 'NCT04720092', 'NCT03937960', 'NCT01977417', 'NCT03283813', 'NCT01834300', 'NCT01027325', 'NCT02832414', 'NCT02988999', 'NCT03796091', 'NCT03346421', 'NCT02599376', 'NCT00734201', 'NCT02582424', 'NCT00948402', 'NCT00105066', 'NCT00121433', 'NCT02910869', 'NCT03051451']\n",
      "Query 36 top bi-encoder score: 1.6548\n",
      "Query 36: Top bi-encoder score 1.6548 exceeds threshold 1.6, skipping cross-encoder re-ranking\n",
      "  Query 36 stage 2 retrieved (final): ['NCT00770276', 'NCT00667498', 'NCT00622765', 'NCT02463435', 'NCT04354285', 'NCT02436343', 'NCT04327375', 'NCT04595006', 'NCT02717832', 'NCT00704197', 'NCT02062554', 'NCT04782856', 'NCT02691533', 'NCT04575194', 'NCT01665820', 'NCT01066091', 'NCT02452567', 'NCT04791397', 'NCT01636427', 'NCT00879125', 'NCT00388609', 'NCT04193995', 'NCT04720092', 'NCT03937960', 'NCT01977417', 'NCT03283813', 'NCT01834300', 'NCT01027325', 'NCT02832414', 'NCT02988999', 'NCT03796091', 'NCT03346421', 'NCT02599376', 'NCT00734201', 'NCT02582424', 'NCT00948402', 'NCT00105066', 'NCT00121433', 'NCT02910869', 'NCT03051451']\n",
      "   Query 36 metrics: Precision@10: 0.4000, Recall@10: 0.0217, F1@10: 0.0412, AP: 0.4559, nDCG@10: 0.5214, MRR@10=1.0000\n",
      "    Total time for query: 0.22 seconds\n"
     ]
    },
    {
     "name": "stderr",
     "output_type": "stream",
     "text": [
      " 49%|████▉     | 37/75 [00:12<00:16,  2.28it/s]"
     ]
    },
    {
     "name": "stdout",
     "output_type": "stream",
     "text": [
      "Query 37 Stage 1 retrieved docs: ['NCT00228228', 'NCT04178980', 'NCT04465084', 'NCT01628315', 'NCT03736902', 'NCT01428726', 'NCT01110993', 'NCT00360906', 'NCT04578639', 'NCT00151801', 'NCT03586986', 'NCT04688788', 'NCT04832399', 'NCT02881567', 'NCT00676715', 'NCT00094172', 'NCT03979456', 'NCT04495556', 'NCT03709290', 'NCT00027300', 'NCT04458688', 'NCT04047628', 'NCT00616187', 'NCT00441103', 'NCT04838015', 'NCT01836055', 'NCT02504840', 'NCT01142466', 'NCT04380220', 'NCT02047825', 'NCT03477500', 'NCT01679041', 'NCT00794352', 'NCT01416181', 'NCT02428218', 'NCT02861014', 'NCT01767701', 'NCT04157283', 'NCT00242268', 'NCT01141751']\n",
      "Query 37 top bi-encoder score: 1.7691\n",
      "Query 37: Top bi-encoder score 1.7691 exceeds threshold 1.6, skipping cross-encoder re-ranking\n",
      "  Query 37 stage 2 retrieved (final): ['NCT00228228', 'NCT04178980', 'NCT04465084', 'NCT01628315', 'NCT03736902', 'NCT01428726', 'NCT01110993', 'NCT00360906', 'NCT04578639', 'NCT00151801', 'NCT03586986', 'NCT04688788', 'NCT04832399', 'NCT02881567', 'NCT00676715', 'NCT00094172', 'NCT03979456', 'NCT04495556', 'NCT03709290', 'NCT00027300', 'NCT04458688', 'NCT04047628', 'NCT00616187', 'NCT00441103', 'NCT04838015', 'NCT01836055', 'NCT02504840', 'NCT01142466', 'NCT04380220', 'NCT02047825', 'NCT03477500', 'NCT01679041', 'NCT00794352', 'NCT01416181', 'NCT02428218', 'NCT02861014', 'NCT01767701', 'NCT04157283', 'NCT00242268', 'NCT01141751']\n",
      "   Query 37 metrics: Precision@10: 0.7000, Recall@10: 0.0412, F1@10: 0.0778, AP: 0.6298, nDCG@10: 0.6790, MRR@10=0.5000\n",
      "    Total time for query: 0.22 seconds\n"
     ]
    },
    {
     "name": "stderr",
     "output_type": "stream",
     "text": [
      " 51%|█████     | 38/75 [00:13<00:13,  2.68it/s]"
     ]
    },
    {
     "name": "stdout",
     "output_type": "stream",
     "text": [
      "Query 38 Stage 1 retrieved docs: ['NCT02902536', 'NCT04226170', 'NCT01480596', 'NCT03792659', 'NCT04768465', 'NCT04674605', 'NCT00306033', 'NCT03315130', 'NCT03971422', 'NCT01727193', 'NCT04535843', 'NCT00619671', 'NCT03914638', 'NCT03920293', 'NCT00727194', 'NCT03772587', 'NCT01997229', 'NCT02950155', 'NCT03510546', 'NCT03052751', 'NCT02100969', 'NCT00004682', 'NCT01268280', 'NCT00814138', 'NCT02364180', 'NCT04431895', 'NCT03059888', 'NCT03863080', 'NCT00515450', 'NCT04159805', 'NCT03468452', 'NCT01179893', 'NCT04728425', 'NCT01927692', 'NCT00294658', 'NCT02473952', 'NCT01047761', 'NCT01828294', 'NCT03979521', 'NCT04158661']\n",
      "Query 38 top bi-encoder score: 1.7211\n",
      "Query 38: Top bi-encoder score 1.7211 exceeds threshold 1.6, skipping cross-encoder re-ranking\n",
      "  Query 38 stage 2 retrieved (final): ['NCT02902536', 'NCT04226170', 'NCT01480596', 'NCT03792659', 'NCT04768465', 'NCT04674605', 'NCT00306033', 'NCT03315130', 'NCT03971422', 'NCT01727193', 'NCT04535843', 'NCT00619671', 'NCT03914638', 'NCT03920293', 'NCT00727194', 'NCT03772587', 'NCT01997229', 'NCT02950155', 'NCT03510546', 'NCT03052751', 'NCT02100969', 'NCT00004682', 'NCT01268280', 'NCT00814138', 'NCT02364180', 'NCT04431895', 'NCT03059888', 'NCT03863080', 'NCT00515450', 'NCT04159805', 'NCT03468452', 'NCT01179893', 'NCT04728425', 'NCT01927692', 'NCT00294658', 'NCT02473952', 'NCT01047761', 'NCT01828294', 'NCT03979521', 'NCT04158661']\n",
      "   Query 38 metrics: Precision@10: 0.7000, Recall@10: 0.1346, F1@10: 0.2258, AP: 0.6723, nDCG@10: 0.7550, MRR@10=1.0000\n",
      "    Total time for query: 0.22 seconds\n"
     ]
    },
    {
     "name": "stderr",
     "output_type": "stream",
     "text": [
      " 52%|█████▏    | 39/75 [00:13<00:11,  3.06it/s]"
     ]
    },
    {
     "name": "stdout",
     "output_type": "stream",
     "text": [
      "Query 39 Stage 1 retrieved docs: ['NCT02625688', 'NCT04215601', 'NCT04099602', 'NCT02446951', 'NCT00653874', 'NCT01136577', 'NCT01203410', 'NCT04418180', 'NCT01762189', 'NCT02613676', 'NCT02774434', 'NCT04719104', 'NCT03942757', 'NCT01622699', 'NCT03055481', 'NCT02154165', 'NCT03183986', 'NCT00735319', 'NCT04251286', 'NCT03866213', 'NCT01434810', 'NCT00917007', 'NCT01746511', 'NCT03569254', 'NCT03570775', 'NCT00692224', 'NCT00114543', 'NCT02372071', 'NCT02372058', 'NCT04445675', 'NCT01109277', 'NCT02361788', 'NCT00635375', 'NCT03130517', 'NCT02594904', 'NCT03933423', 'NCT03237715', 'NCT00288600', 'NCT00966719', 'NCT04365998']\n",
      "Query 39 top bi-encoder score: 1.7804\n",
      "Query 39: Top bi-encoder score 1.7804 exceeds threshold 1.6, skipping cross-encoder re-ranking\n",
      "  Query 39 stage 2 retrieved (final): ['NCT02625688', 'NCT04215601', 'NCT04099602', 'NCT02446951', 'NCT00653874', 'NCT01136577', 'NCT01203410', 'NCT04418180', 'NCT01762189', 'NCT02613676', 'NCT02774434', 'NCT04719104', 'NCT03942757', 'NCT01622699', 'NCT03055481', 'NCT02154165', 'NCT03183986', 'NCT00735319', 'NCT04251286', 'NCT03866213', 'NCT01434810', 'NCT00917007', 'NCT01746511', 'NCT03569254', 'NCT03570775', 'NCT00692224', 'NCT00114543', 'NCT02372071', 'NCT02372058', 'NCT04445675', 'NCT01109277', 'NCT02361788', 'NCT00635375', 'NCT03130517', 'NCT02594904', 'NCT03933423', 'NCT03237715', 'NCT00288600', 'NCT00966719', 'NCT04365998']\n",
      "   Query 39 metrics: Precision@10: 0.2000, Recall@10: 0.0588, F1@10: 0.0909, AP: 0.4015, nDCG@10: 0.3373, MRR@10=0.2500\n",
      "    Total time for query: 0.22 seconds\n"
     ]
    },
    {
     "name": "stderr",
     "output_type": "stream",
     "text": [
      " 53%|█████▎    | 40/75 [00:13<00:10,  3.34it/s]"
     ]
    },
    {
     "name": "stdout",
     "output_type": "stream",
     "text": [
      "Query 40 Stage 1 retrieved docs: ['NCT00306046', 'NCT00051636', 'NCT00774020', 'NCT00480662', 'NCT02106455', 'NCT00747994', 'NCT00894075', 'NCT04222452', 'NCT02802384', 'NCT02056730', 'NCT03859895', 'NCT03993821', 'NCT00453128', 'NCT00195936', 'NCT00108394', 'NCT00066183', 'NCT02967042', 'NCT00417612', 'NCT00345839', 'NCT02603042', 'NCT01875458', 'NCT00973336', 'NCT01839383', 'NCT00668200', 'NCT03716128', 'NCT02198001', 'NCT04184661', 'NCT00415584', 'NCT01419028', 'NCT02235493', 'NCT00712985', 'NCT00324714', 'NCT01306656', 'NCT01360099', 'NCT04273490', 'NCT00377312', 'NCT02551120', 'NCT00145886', 'NCT01222026', 'NCT03202407']\n",
      "Query 40 top bi-encoder score: 1.7961\n",
      "Query 40: Top bi-encoder score 1.7961 exceeds threshold 1.6, skipping cross-encoder re-ranking\n",
      "  Query 40 stage 2 retrieved (final): ['NCT00306046', 'NCT00051636', 'NCT00774020', 'NCT00480662', 'NCT02106455', 'NCT00747994', 'NCT00894075', 'NCT04222452', 'NCT02802384', 'NCT02056730', 'NCT03859895', 'NCT03993821', 'NCT00453128', 'NCT00195936', 'NCT00108394', 'NCT00066183', 'NCT02967042', 'NCT00417612', 'NCT00345839', 'NCT02603042', 'NCT01875458', 'NCT00973336', 'NCT01839383', 'NCT00668200', 'NCT03716128', 'NCT02198001', 'NCT04184661', 'NCT00415584', 'NCT01419028', 'NCT02235493', 'NCT00712985', 'NCT00324714', 'NCT01306656', 'NCT01360099', 'NCT04273490', 'NCT00377312', 'NCT02551120', 'NCT00145886', 'NCT01222026', 'NCT03202407']\n",
      "   Query 40 metrics: Precision@10: 0.7000, Recall@10: 0.6364, F1@10: 0.6667, AP: 0.9683, nDCG@10: 0.7936, MRR@10=1.0000\n",
      "    Total time for query: 0.24 seconds\n"
     ]
    },
    {
     "name": "stderr",
     "output_type": "stream",
     "text": [
      " 55%|█████▍    | 41/75 [00:13<00:09,  3.61it/s]"
     ]
    },
    {
     "name": "stdout",
     "output_type": "stream",
     "text": [
      "Query 41 Stage 1 retrieved docs: ['NCT00443768', 'NCT00199394', 'NCT00203060', 'NCT01970813', 'NCT02745171', 'NCT03305588', 'NCT00526630', 'NCT01380899', 'NCT03433950', 'NCT04687878', 'NCT03297177', 'NCT00666653', 'NCT02060695', 'NCT01003002', 'NCT00001928', 'NCT00607451', 'NCT03011476', 'NCT02601144', 'NCT04858074', 'NCT00117195', 'NCT00472355', 'NCT00794313', 'NCT03130595', 'NCT00148512', 'NCT04308135', 'NCT04472130', 'NCT00596908', 'NCT00359723', 'NCT04380142', 'NCT02098642', 'NCT04062279', 'NCT00076674', 'NCT04083586', 'NCT02896816', 'NCT01016743', 'NCT00307450', 'NCT00199407', 'NCT03956979', 'NCT04725045', 'NCT02785510']\n",
      "Query 41 top bi-encoder score: 1.7180\n",
      "Query 41: Top bi-encoder score 1.7180 exceeds threshold 1.6, skipping cross-encoder re-ranking\n",
      "  Query 41 stage 2 retrieved (final): ['NCT00443768', 'NCT00199394', 'NCT00203060', 'NCT01970813', 'NCT02745171', 'NCT03305588', 'NCT00526630', 'NCT01380899', 'NCT03433950', 'NCT04687878', 'NCT03297177', 'NCT00666653', 'NCT02060695', 'NCT01003002', 'NCT00001928', 'NCT00607451', 'NCT03011476', 'NCT02601144', 'NCT04858074', 'NCT00117195', 'NCT00472355', 'NCT00794313', 'NCT03130595', 'NCT00148512', 'NCT04308135', 'NCT04472130', 'NCT00596908', 'NCT00359723', 'NCT04380142', 'NCT02098642', 'NCT04062279', 'NCT00076674', 'NCT04083586', 'NCT02896816', 'NCT01016743', 'NCT00307450', 'NCT00199407', 'NCT03956979', 'NCT04725045', 'NCT02785510']\n",
      "   Query 41 metrics: Precision@10: 0.2000, Recall@10: 0.0149, F1@10: 0.0278, AP: 0.2911, nDCG@10: 0.3330, MRR@10=0.2000\n",
      "    Total time for query: 0.22 seconds\n"
     ]
    },
    {
     "name": "stderr",
     "output_type": "stream",
     "text": [
      " 56%|█████▌    | 42/75 [00:13<00:08,  3.82it/s]"
     ]
    },
    {
     "name": "stdout",
     "output_type": "stream",
     "text": [
      "Query 42 Stage 1 retrieved docs: ['NCT03580941', 'NCT03246542', 'NCT02637739', 'NCT00193648', 'NCT02989337', 'NCT02380560', 'NCT02507180', 'NCT03117010', 'NCT04374604', 'NCT03744988', 'NCT02308735', 'NCT01426724', 'NCT00878826', 'NCT03499561', 'NCT04852510', 'NCT02443259', 'NCT00158743', 'NCT03341221', 'NCT03665974', 'NCT01735799', 'NCT02455544', 'NCT03708497', 'NCT00826605', 'NCT03026686', 'NCT00665171', 'NCT04850547', 'NCT01828138', 'NCT00373139', 'NCT02859584', 'NCT00986765', 'NCT02382523', 'NCT03323346', 'NCT02892877', 'NCT04451928', 'NCT04217200', 'NCT04826185', 'NCT04161521', 'NCT03605511', 'NCT02929316', 'NCT00380068']\n",
      "Query 42 top bi-encoder score: 1.6122\n",
      "Query 42: Top bi-encoder score 1.6122 exceeds threshold 1.6, skipping cross-encoder re-ranking\n",
      "  Query 42 stage 2 retrieved (final): ['NCT03580941', 'NCT03246542', 'NCT02637739', 'NCT00193648', 'NCT02989337', 'NCT02380560', 'NCT02507180', 'NCT03117010', 'NCT04374604', 'NCT03744988', 'NCT02308735', 'NCT01426724', 'NCT00878826', 'NCT03499561', 'NCT04852510', 'NCT02443259', 'NCT00158743', 'NCT03341221', 'NCT03665974', 'NCT01735799', 'NCT02455544', 'NCT03708497', 'NCT00826605', 'NCT03026686', 'NCT00665171', 'NCT04850547', 'NCT01828138', 'NCT00373139', 'NCT02859584', 'NCT00986765', 'NCT02382523', 'NCT03323346', 'NCT02892877', 'NCT04451928', 'NCT04217200', 'NCT04826185', 'NCT04161521', 'NCT03605511', 'NCT02929316', 'NCT00380068']\n",
      "   Query 42 metrics: Precision@10: 0.0000, Recall@10: 0.0000, F1@10: 0.0000, AP: 0.0476, nDCG@10: 0.0212, MRR@10=0.0000\n",
      "    Total time for query: 0.22 seconds\n"
     ]
    },
    {
     "name": "stderr",
     "output_type": "stream",
     "text": [
      " 57%|█████▋    | 43/75 [00:14<00:08,  3.72it/s]"
     ]
    },
    {
     "name": "stdout",
     "output_type": "stream",
     "text": [
      "Query 43 Stage 1 retrieved docs: ['NCT00269399', 'NCT02857582', 'NCT00350298', 'NCT04491799', 'NCT03964844', 'NCT00591357', 'NCT00304408', 'NCT01472978', 'NCT03586206', 'NCT02127814', 'NCT02076438', 'NCT00658151', 'NCT04070352', 'NCT01560832', 'NCT01687543', 'NCT02086916', 'NCT02355938', 'NCT01630096', 'NCT00861887', 'NCT03827447', 'NCT00304876', 'NCT03388268', 'NCT03427229', 'NCT03880539', 'NCT03592082', 'NCT01598311', 'NCT02636647', 'NCT00304369', 'NCT02686645', 'NCT00304889', 'NCT04138706', 'NCT04259931', 'NCT04090346', 'NCT00304356', 'NCT01085591', 'NCT03937999', 'NCT03503474', 'NCT04121169', 'NCT03857464', 'NCT02112279']\n",
      "Query 43 top bi-encoder score: 1.7630\n",
      "Query 43: Top bi-encoder score 1.7630 exceeds threshold 1.6, skipping cross-encoder re-ranking\n",
      "  Query 43 stage 2 retrieved (final): ['NCT00269399', 'NCT02857582', 'NCT00350298', 'NCT04491799', 'NCT03964844', 'NCT00591357', 'NCT00304408', 'NCT01472978', 'NCT03586206', 'NCT02127814', 'NCT02076438', 'NCT00658151', 'NCT04070352', 'NCT01560832', 'NCT01687543', 'NCT02086916', 'NCT02355938', 'NCT01630096', 'NCT00861887', 'NCT03827447', 'NCT00304876', 'NCT03388268', 'NCT03427229', 'NCT03880539', 'NCT03592082', 'NCT01598311', 'NCT02636647', 'NCT00304369', 'NCT02686645', 'NCT00304889', 'NCT04138706', 'NCT04259931', 'NCT04090346', 'NCT00304356', 'NCT01085591', 'NCT03937999', 'NCT03503474', 'NCT04121169', 'NCT03857464', 'NCT02112279']\n",
      "   Query 43 metrics: Precision@10: 0.4000, Recall@10: 0.0635, F1@10: 0.1096, AP: 0.4099, nDCG@10: 0.5938, MRR@10=1.0000\n",
      "    Total time for query: 0.29 seconds\n"
     ]
    },
    {
     "name": "stderr",
     "output_type": "stream",
     "text": [
      " 59%|█████▊    | 44/75 [00:14<00:07,  3.91it/s]"
     ]
    },
    {
     "name": "stdout",
     "output_type": "stream",
     "text": [
      "Query 44 Stage 1 retrieved docs: ['NCT02791776', 'NCT04215497', 'NCT01661959', 'NCT04357561', 'NCT02820012', 'NCT04421157', 'NCT04226209', 'NCT04092335', 'NCT01019109', 'NCT02968043', 'NCT03427970', 'NCT01610908', 'NCT03929042', 'NCT02552615', 'NCT02237248', 'NCT02609009', 'NCT03915106', 'NCT04539522', 'NCT04203394', 'NCT02819245', 'NCT04761549', 'NCT03862417', 'NCT03305185', 'NCT03823053', 'NCT04689295', 'NCT03418987', 'NCT03413839', 'NCT03110965', 'NCT04021784', 'NCT04568759', 'NCT03675152', 'NCT02807545', 'NCT02978820', 'NCT03686371', 'NCT03194568', 'NCT04382638', 'NCT00155545', 'NCT01550497', 'NCT03497520', 'NCT04441411']\n",
      "Query 44 top bi-encoder score: 1.8269\n",
      "Query 44: Top bi-encoder score 1.8269 exceeds threshold 1.6, skipping cross-encoder re-ranking\n",
      "  Query 44 stage 2 retrieved (final): ['NCT02791776', 'NCT04215497', 'NCT01661959', 'NCT04357561', 'NCT02820012', 'NCT04421157', 'NCT04226209', 'NCT04092335', 'NCT01019109', 'NCT02968043', 'NCT03427970', 'NCT01610908', 'NCT03929042', 'NCT02552615', 'NCT02237248', 'NCT02609009', 'NCT03915106', 'NCT04539522', 'NCT04203394', 'NCT02819245', 'NCT04761549', 'NCT03862417', 'NCT03305185', 'NCT03823053', 'NCT04689295', 'NCT03418987', 'NCT03413839', 'NCT03110965', 'NCT04021784', 'NCT04568759', 'NCT03675152', 'NCT02807545', 'NCT02978820', 'NCT03686371', 'NCT03194568', 'NCT04382638', 'NCT00155545', 'NCT01550497', 'NCT03497520', 'NCT04441411']\n",
      "   Query 44 metrics: Precision@10: 0.0000, Recall@10: 0.0000, F1@10: 0.0000, AP: 0.0000, nDCG@10: 0.4074, MRR@10=0.0000\n",
      "    Total time for query: 0.22 seconds\n"
     ]
    },
    {
     "name": "stderr",
     "output_type": "stream",
     "text": [
      " 60%|██████    | 45/75 [00:14<00:07,  4.04it/s]"
     ]
    },
    {
     "name": "stdout",
     "output_type": "stream",
     "text": [
      "Query 45 Stage 1 retrieved docs: ['NCT03431285', 'NCT02417298', 'NCT01932554', 'NCT00263562', 'NCT04301336', 'NCT04330183', 'NCT00000586', 'NCT03933397', 'NCT02434939', 'NCT03541980', 'NCT01119833', 'NCT01895361', 'NCT00102791', 'NCT04614610', 'NCT03682211', 'NCT00513617', 'NCT03502421', 'NCT00874172', 'NCT00834899', 'NCT02961218', 'NCT00639392', 'NCT03899246', 'NCT04005209', 'NCT00773890', 'NCT02187003', 'NCT01419977', 'NCT00711698', 'NCT00532883', 'NCT00408447', 'NCT01603160', 'NCT01179217', 'NCT01393847', 'NCT02386657', 'NCT01456377', 'NCT00125788', 'NCT00981370', 'NCT00492531', 'NCT03997903', 'NCT02640573', 'NCT00599482']\n",
      "Query 45 top bi-encoder score: 1.7053\n",
      "Query 45: Top bi-encoder score 1.7053 exceeds threshold 1.6, skipping cross-encoder re-ranking\n",
      "  Query 45 stage 2 retrieved (final): ['NCT03431285', 'NCT02417298', 'NCT01932554', 'NCT00263562', 'NCT04301336', 'NCT04330183', 'NCT00000586', 'NCT03933397', 'NCT02434939', 'NCT03541980', 'NCT01119833', 'NCT01895361', 'NCT00102791', 'NCT04614610', 'NCT03682211', 'NCT00513617', 'NCT03502421', 'NCT00874172', 'NCT00834899', 'NCT02961218', 'NCT00639392', 'NCT03899246', 'NCT04005209', 'NCT00773890', 'NCT02187003', 'NCT01419977', 'NCT00711698', 'NCT00532883', 'NCT00408447', 'NCT01603160', 'NCT01179217', 'NCT01393847', 'NCT02386657', 'NCT01456377', 'NCT00125788', 'NCT00981370', 'NCT00492531', 'NCT03997903', 'NCT02640573', 'NCT00599482']\n",
      "   Query 45 metrics: Precision@10: 0.5000, Recall@10: 0.0345, F1@10: 0.0645, AP: 0.6293, nDCG@10: 0.6232, MRR@10=1.0000\n",
      "    Total time for query: 0.23 seconds\n"
     ]
    },
    {
     "name": "stderr",
     "output_type": "stream",
     "text": [
      " 61%|██████▏   | 46/75 [00:14<00:06,  4.15it/s]"
     ]
    },
    {
     "name": "stdout",
     "output_type": "stream",
     "text": [
      "Query 46 Stage 1 retrieved docs: ['NCT00685360', 'NCT03416309', 'NCT01600963', 'NCT03830671', 'NCT04766307', 'NCT00000796', 'NCT01785186', 'NCT02758236', 'NCT02901288', 'NCT01398618', 'NCT02349841', 'NCT02776150', 'NCT00130247', 'NCT03072576', 'NCT02821832', 'NCT04694586', 'NCT01011543', 'NCT01516203', 'NCT00864383', 'NCT00513396', 'NCT02464683', 'NCT03822156', 'NCT00341328', 'NCT02581527', 'NCT00265226', 'NCT04629378', 'NCT00981071', 'NCT03794284', 'NCT01222338', 'NCT01994460', 'NCT01464762', 'NCT04434976', 'NCT01392911', 'NCT00341601', 'NCT00567151', 'NCT03478033', 'NCT02727582', 'NCT00140309', 'NCT04055441', 'NCT00144417']\n",
      "Query 46 top bi-encoder score: 1.7679\n",
      "Query 46: Top bi-encoder score 1.7679 exceeds threshold 1.6, skipping cross-encoder re-ranking\n",
      "  Query 46 stage 2 retrieved (final): ['NCT00685360', 'NCT03416309', 'NCT01600963', 'NCT03830671', 'NCT04766307', 'NCT00000796', 'NCT01785186', 'NCT02758236', 'NCT02901288', 'NCT01398618', 'NCT02349841', 'NCT02776150', 'NCT00130247', 'NCT03072576', 'NCT02821832', 'NCT04694586', 'NCT01011543', 'NCT01516203', 'NCT00864383', 'NCT00513396', 'NCT02464683', 'NCT03822156', 'NCT00341328', 'NCT02581527', 'NCT00265226', 'NCT04629378', 'NCT00981071', 'NCT03794284', 'NCT01222338', 'NCT01994460', 'NCT01464762', 'NCT04434976', 'NCT01392911', 'NCT00341601', 'NCT00567151', 'NCT03478033', 'NCT02727582', 'NCT00140309', 'NCT04055441', 'NCT00144417']\n",
      "   Query 46 metrics: Precision@10: 0.6000, Recall@10: 0.0545, F1@10: 0.1000, AP: 0.7209, nDCG@10: 0.6531, MRR@10=1.0000\n",
      "    Total time for query: 0.22 seconds\n"
     ]
    },
    {
     "name": "stderr",
     "output_type": "stream",
     "text": [
      " 63%|██████▎   | 47/75 [00:15<00:06,  4.20it/s]"
     ]
    },
    {
     "name": "stdout",
     "output_type": "stream",
     "text": [
      "Query 47 Stage 1 retrieved docs: ['NCT02452502', 'NCT00287508', 'NCT01252875', 'NCT03070067', 'NCT04162587', 'NCT03670862', 'NCT02225834', 'NCT03477188', 'NCT00009243', 'NCT00243880', 'NCT00061373', 'NCT03377465', 'NCT03413202', 'NCT02180204', 'NCT04824911', 'NCT00894803', 'NCT04847752', 'NCT01976936', 'NCT00363662', 'NCT01737723', 'NCT03731351', 'NCT02572336', 'NCT00250991', 'NCT03635749', 'NCT02101606', 'NCT01738412', 'NCT01643902', 'NCT02121028', 'NCT02398656', 'NCT04028518', 'NCT00235248', 'NCT03706768', 'NCT02409043', 'NCT03150524', 'NCT01123161', 'NCT02242084', 'NCT02935985', 'NCT01977456', 'NCT00417898', 'NCT02448069']\n",
      "Query 47 top bi-encoder score: 1.6784\n",
      "Query 47: Top bi-encoder score 1.6784 exceeds threshold 1.6, skipping cross-encoder re-ranking\n",
      "  Query 47 stage 2 retrieved (final): ['NCT02452502', 'NCT00287508', 'NCT01252875', 'NCT03070067', 'NCT04162587', 'NCT03670862', 'NCT02225834', 'NCT03477188', 'NCT00009243', 'NCT00243880', 'NCT00061373', 'NCT03377465', 'NCT03413202', 'NCT02180204', 'NCT04824911', 'NCT00894803', 'NCT04847752', 'NCT01976936', 'NCT00363662', 'NCT01737723', 'NCT03731351', 'NCT02572336', 'NCT00250991', 'NCT03635749', 'NCT02101606', 'NCT01738412', 'NCT01643902', 'NCT02121028', 'NCT02398656', 'NCT04028518', 'NCT00235248', 'NCT03706768', 'NCT02409043', 'NCT03150524', 'NCT01123161', 'NCT02242084', 'NCT02935985', 'NCT01977456', 'NCT00417898', 'NCT02448069']\n",
      "   Query 47 metrics: Precision@10: 0.5000, Recall@10: 0.0391, F1@10: 0.0725, AP: 0.4964, nDCG@10: 0.5287, MRR@10=1.0000\n",
      "    Total time for query: 0.23 seconds\n"
     ]
    },
    {
     "name": "stderr",
     "output_type": "stream",
     "text": [
      " 64%|██████▍   | 48/75 [00:15<00:06,  4.25it/s]"
     ]
    },
    {
     "name": "stdout",
     "output_type": "stream",
     "text": [
      "Query 48 Stage 1 retrieved docs: ['NCT01712360', 'NCT02464839', 'NCT03999437', 'NCT04110834', 'NCT04110860', 'NCT01396785', 'NCT01396811', 'NCT00848666', 'NCT01110330', 'NCT03745183', 'NCT03823040', 'NCT01290341', 'NCT02824926', 'NCT02860052', 'NCT01891305', 'NCT02606383', 'NCT00509275', 'NCT00856596', 'NCT02565940', 'NCT01519752', 'NCT01580878', 'NCT01119742', 'NCT04152226', 'NCT04188574', 'NCT04203342', 'NCT03135912', 'NCT02464826', 'NCT02550496', 'NCT00835510', 'NCT01342315', 'NCT01580891', 'NCT03824912', 'NCT01349998', 'NCT00830388', 'NCT00750139', 'NCT03897257', 'NCT00691184', 'NCT00771342', 'NCT00802672', 'NCT03129321']\n",
      "Query 48 top bi-encoder score: 1.6763\n",
      "Query 48: Top bi-encoder score 1.6763 exceeds threshold 1.6, skipping cross-encoder re-ranking\n",
      "  Query 48 stage 2 retrieved (final): ['NCT01712360', 'NCT02464839', 'NCT03999437', 'NCT04110834', 'NCT04110860', 'NCT01396785', 'NCT01396811', 'NCT00848666', 'NCT01110330', 'NCT03745183', 'NCT03823040', 'NCT01290341', 'NCT02824926', 'NCT02860052', 'NCT01891305', 'NCT02606383', 'NCT00509275', 'NCT00856596', 'NCT02565940', 'NCT01519752', 'NCT01580878', 'NCT01119742', 'NCT04152226', 'NCT04188574', 'NCT04203342', 'NCT03135912', 'NCT02464826', 'NCT02550496', 'NCT00835510', 'NCT01342315', 'NCT01580891', 'NCT03824912', 'NCT01349998', 'NCT00830388', 'NCT00750139', 'NCT03897257', 'NCT00691184', 'NCT00771342', 'NCT00802672', 'NCT03129321']\n",
      "   Query 48 metrics: Precision@10: 0.5000, Recall@10: 0.1042, F1@10: 0.1724, AP: 0.6088, nDCG@10: 0.5171, MRR@10=0.3333\n",
      "    Total time for query: 0.23 seconds\n"
     ]
    },
    {
     "name": "stderr",
     "output_type": "stream",
     "text": [
      " 65%|██████▌   | 49/75 [00:15<00:06,  4.29it/s]"
     ]
    },
    {
     "name": "stdout",
     "output_type": "stream",
     "text": [
      "Query 49 Stage 1 retrieved docs: ['NCT00134745', 'NCT01066052', 'NCT00001221', 'NCT01687842', 'NCT00140998', 'NCT00420654', 'NCT01760668', 'NCT00001343', 'NCT00029159', 'NCT00443144', 'NCT00266656', 'NCT00191113', 'NCT01710696', 'NCT00013546', 'NCT01410045', 'NCT00006334', 'NCT03189160', 'NCT00870220', 'NCT00097552', 'NCT00406926', 'NCT01367834', 'NCT00624949', 'NCT00001253', 'NCT03812913', 'NCT01734486', 'NCT01678261', 'NCT03181230', 'NCT01731028', 'NCT00837616', 'NCT03185702', 'NCT04803474', 'NCT00825617', 'NCT00190658', 'NCT01678274', 'NCT01365351', 'NCT00625001', 'NCT02250456', 'NCT01604395', 'NCT01511588', 'NCT04831099']\n",
      "Query 49 top bi-encoder score: 1.8757\n",
      "Query 49: Top bi-encoder score 1.8757 exceeds threshold 1.6, skipping cross-encoder re-ranking\n",
      "  Query 49 stage 2 retrieved (final): ['NCT00134745', 'NCT01066052', 'NCT00001221', 'NCT01687842', 'NCT00140998', 'NCT00420654', 'NCT01760668', 'NCT00001343', 'NCT00029159', 'NCT00443144', 'NCT00266656', 'NCT00191113', 'NCT01710696', 'NCT00013546', 'NCT01410045', 'NCT00006334', 'NCT03189160', 'NCT00870220', 'NCT00097552', 'NCT00406926', 'NCT01367834', 'NCT00624949', 'NCT00001253', 'NCT03812913', 'NCT01734486', 'NCT01678261', 'NCT03181230', 'NCT01731028', 'NCT00837616', 'NCT03185702', 'NCT04803474', 'NCT00825617', 'NCT00190658', 'NCT01678274', 'NCT01365351', 'NCT00625001', 'NCT02250456', 'NCT01604395', 'NCT01511588', 'NCT04831099']\n",
      "   Query 49 metrics: Precision@10: 0.2000, Recall@10: 0.0571, F1@10: 0.0889, AP: 0.3733, nDCG@10: 0.4703, MRR@10=1.0000\n",
      "    Total time for query: 0.23 seconds\n"
     ]
    },
    {
     "name": "stderr",
     "output_type": "stream",
     "text": [
      " 67%|██████▋   | 50/75 [00:15<00:06,  4.14it/s]"
     ]
    },
    {
     "name": "stdout",
     "output_type": "stream",
     "text": [
      "Query 50 Stage 1 retrieved docs: ['NCT04528381', 'NCT03291678', 'NCT02203318', 'NCT04696874', 'NCT04826952', 'NCT00253253', 'NCT04142632', 'NCT04821167', 'NCT03033381', 'NCT02936024', 'NCT02235623', 'NCT02158780', 'NCT02731989', 'NCT02249637', 'NCT00264121', 'NCT03102554', 'NCT04661098', 'NCT02461303', 'NCT02239185', 'NCT03969979', 'NCT02851290', 'NCT01206270', 'NCT01812109', 'NCT04342026', 'NCT01380067', 'NCT03295175', 'NCT02967822', 'NCT03550716', 'NCT03882385', 'NCT00772694', 'NCT02495090', 'NCT03980717', 'NCT04062747', 'NCT01330511', 'NCT03259048', 'NCT02099734', 'NCT04452890', 'NCT03858127', 'NCT01810068', 'NCT01790776']\n",
      "Query 50 top bi-encoder score: 1.7873\n",
      "Query 50: Top bi-encoder score 1.7873 exceeds threshold 1.6, skipping cross-encoder re-ranking\n",
      "  Query 50 stage 2 retrieved (final): ['NCT04528381', 'NCT03291678', 'NCT02203318', 'NCT04696874', 'NCT04826952', 'NCT00253253', 'NCT04142632', 'NCT04821167', 'NCT03033381', 'NCT02936024', 'NCT02235623', 'NCT02158780', 'NCT02731989', 'NCT02249637', 'NCT00264121', 'NCT03102554', 'NCT04661098', 'NCT02461303', 'NCT02239185', 'NCT03969979', 'NCT02851290', 'NCT01206270', 'NCT01812109', 'NCT04342026', 'NCT01380067', 'NCT03295175', 'NCT02967822', 'NCT03550716', 'NCT03882385', 'NCT00772694', 'NCT02495090', 'NCT03980717', 'NCT04062747', 'NCT01330511', 'NCT03259048', 'NCT02099734', 'NCT04452890', 'NCT03858127', 'NCT01810068', 'NCT01790776']\n",
      "   Query 50 metrics: Precision@10: 0.3000, Recall@10: 0.2143, F1@10: 0.2500, AP: 0.6578, nDCG@10: 0.5711, MRR@10=1.0000\n",
      "    Total time for query: 0.26 seconds\n"
     ]
    },
    {
     "name": "stderr",
     "output_type": "stream",
     "text": [
      " 68%|██████▊   | 51/75 [00:16<00:05,  4.21it/s]"
     ]
    },
    {
     "name": "stdout",
     "output_type": "stream",
     "text": [
      "Query 51 Stage 1 retrieved docs: ['NCT03658356', 'NCT04244526', 'NCT01507974', 'NCT01628900', 'NCT02305342', 'NCT02911662', 'NCT04055675', 'NCT04686318', 'NCT02536638', 'NCT01349738', 'NCT04575493', 'NCT03183531', 'NCT04667195', 'NCT00121797', 'NCT03501901', 'NCT03190421', 'NCT02637986', 'NCT00722735', 'NCT03634891', 'NCT02565940', 'NCT01140516', 'NCT00446355', 'NCT00194155', 'NCT01819519', 'NCT02323087', 'NCT04651244', 'NCT02092064', 'NCT02989337', 'NCT02987790', 'NCT03931538', 'NCT03688321', 'NCT03506256', 'NCT00402727', 'NCT01137929', 'NCT04269174', 'NCT03246542', 'NCT00913042', 'NCT03163394', 'NCT03282006', 'NCT01138566']\n",
      "Query 51 top bi-encoder score: 1.6777\n",
      "Query 51: Top bi-encoder score 1.6777 exceeds threshold 1.6, skipping cross-encoder re-ranking\n",
      "  Query 51 stage 2 retrieved (final): ['NCT03658356', 'NCT04244526', 'NCT01507974', 'NCT01628900', 'NCT02305342', 'NCT02911662', 'NCT04055675', 'NCT04686318', 'NCT02536638', 'NCT01349738', 'NCT04575493', 'NCT03183531', 'NCT04667195', 'NCT00121797', 'NCT03501901', 'NCT03190421', 'NCT02637986', 'NCT00722735', 'NCT03634891', 'NCT02565940', 'NCT01140516', 'NCT00446355', 'NCT00194155', 'NCT01819519', 'NCT02323087', 'NCT04651244', 'NCT02092064', 'NCT02989337', 'NCT02987790', 'NCT03931538', 'NCT03688321', 'NCT03506256', 'NCT00402727', 'NCT01137929', 'NCT04269174', 'NCT03246542', 'NCT00913042', 'NCT03163394', 'NCT03282006', 'NCT01138566']\n",
      "   Query 51 metrics: Precision@10: 0.4000, Recall@10: 0.1429, F1@10: 0.2105, AP: 0.4010, nDCG@10: 0.4647, MRR@10=0.5000\n",
      "    Total time for query: 0.23 seconds\n"
     ]
    },
    {
     "name": "stderr",
     "output_type": "stream",
     "text": [
      " 69%|██████▉   | 52/75 [00:16<00:05,  4.24it/s]"
     ]
    },
    {
     "name": "stdout",
     "output_type": "stream",
     "text": [
      "Query 52 Stage 1 retrieved docs: ['NCT00229944', 'NCT00741052', 'NCT04150250', 'NCT02111304', 'NCT00142272', 'NCT03237663', 'NCT01811771', 'NCT00349999', 'NCT03251495', 'NCT00654108', 'NCT00490932', 'NCT00226616', 'NCT01269554', 'NCT00324285', 'NCT00709410', 'NCT00741637', 'NCT02565940', 'NCT00624975', 'NCT00289224', 'NCT04269174', 'NCT01042951', 'NCT00401934', 'NCT02870751', 'NCT00119197', 'NCT00760825', 'NCT00419133', 'NCT00128011', 'NCT01233362', 'NCT03778125', 'NCT00429325', 'NCT01070277', 'NCT01365442', 'NCT01823939', 'NCT02027207', 'NCT00328380', 'NCT02742558', 'NCT01524640', 'NCT02827175', 'NCT00937274', 'NCT01142089']\n",
      "Query 52 top bi-encoder score: 1.7980\n",
      "Query 52: Top bi-encoder score 1.7980 exceeds threshold 1.6, skipping cross-encoder re-ranking\n",
      "  Query 52 stage 2 retrieved (final): ['NCT00229944', 'NCT00741052', 'NCT04150250', 'NCT02111304', 'NCT00142272', 'NCT03237663', 'NCT01811771', 'NCT00349999', 'NCT03251495', 'NCT00654108', 'NCT00490932', 'NCT00226616', 'NCT01269554', 'NCT00324285', 'NCT00709410', 'NCT00741637', 'NCT02565940', 'NCT00624975', 'NCT00289224', 'NCT04269174', 'NCT01042951', 'NCT00401934', 'NCT02870751', 'NCT00119197', 'NCT00760825', 'NCT00419133', 'NCT00128011', 'NCT01233362', 'NCT03778125', 'NCT00429325', 'NCT01070277', 'NCT01365442', 'NCT01823939', 'NCT02027207', 'NCT00328380', 'NCT02742558', 'NCT01524640', 'NCT02827175', 'NCT00937274', 'NCT01142089']\n",
      "   Query 52 metrics: Precision@10: 0.4000, Recall@10: 0.0976, F1@10: 0.1569, AP: 0.5537, nDCG@10: 0.6374, MRR@10=1.0000\n",
      "    Total time for query: 0.23 seconds\n"
     ]
    },
    {
     "name": "stderr",
     "output_type": "stream",
     "text": [
      " 71%|███████   | 53/75 [00:16<00:05,  4.13it/s]"
     ]
    },
    {
     "name": "stdout",
     "output_type": "stream",
     "text": [
      "Query 53 Stage 1 retrieved docs: ['NCT03624179', 'NCT00535158', 'NCT01456377', 'NCT01130181', 'NCT01419977', 'NCT03066817', 'NCT01495923', 'NCT04626063', 'NCT00130494', 'NCT04273490', 'NCT00345839', 'NCT00986180', 'NCT01119833', 'NCT03859895', 'NCT00997412', 'NCT04246619', 'NCT02490527', 'NCT02824718', 'NCT02002000', 'NCT03506919', 'NCT00417612', 'NCT03626246', 'NCT02633813', 'NCT00602784', 'NCT00862758', 'NCT01553318', 'NCT01093196', 'NCT03330288', 'NCT04056442', 'NCT00774020', 'NCT03825042', 'NCT01104051', 'NCT01722617', 'NCT00688168', 'NCT01707225', 'NCT00004492', 'NCT00145886', 'NCT00120133', 'NCT03304054', 'NCT02561039']\n",
      "Query 53 top bi-encoder score: 1.6584\n",
      "Query 53: Top bi-encoder score 1.6584 exceeds threshold 1.6, skipping cross-encoder re-ranking\n",
      "  Query 53 stage 2 retrieved (final): ['NCT03624179', 'NCT00535158', 'NCT01456377', 'NCT01130181', 'NCT01419977', 'NCT03066817', 'NCT01495923', 'NCT04626063', 'NCT00130494', 'NCT04273490', 'NCT00345839', 'NCT00986180', 'NCT01119833', 'NCT03859895', 'NCT00997412', 'NCT04246619', 'NCT02490527', 'NCT02824718', 'NCT02002000', 'NCT03506919', 'NCT00417612', 'NCT03626246', 'NCT02633813', 'NCT00602784', 'NCT00862758', 'NCT01553318', 'NCT01093196', 'NCT03330288', 'NCT04056442', 'NCT00774020', 'NCT03825042', 'NCT01104051', 'NCT01722617', 'NCT00688168', 'NCT01707225', 'NCT00004492', 'NCT00145886', 'NCT00120133', 'NCT03304054', 'NCT02561039']\n",
      "   Query 53 metrics: Precision@10: 0.0000, Recall@10: 0.0000, F1@10: 0.0000, AP: 0.0526, nDCG@10: 0.0316, MRR@10=0.0000\n",
      "    Total time for query: 0.26 seconds\n"
     ]
    },
    {
     "name": "stderr",
     "output_type": "stream",
     "text": [
      " 72%|███████▏  | 54/75 [00:16<00:04,  4.22it/s]"
     ]
    },
    {
     "name": "stdout",
     "output_type": "stream",
     "text": [
      "Query 54 Stage 1 retrieved docs: ['NCT03782870', 'NCT03182049', 'NCT00748644', 'NCT00103792', 'NCT00001541', 'NCT02126098', 'NCT04413149', 'NCT01066208', 'NCT00987389', 'NCT01934504', 'NCT00530075', 'NCT02807103', 'NCT03712345', 'NCT00005007', 'NCT01940094', 'NCT00072592', 'NCT00307593', 'NCT00001256', 'NCT00001155', 'NCT03290456', 'NCT03942887', 'NCT00001473', 'NCT00307658', 'NCT02198248', 'NCT02115997', 'NCT01731561', 'NCT00004567', 'NCT00001761', 'NCT00307645', 'NCT01613599', 'NCT02020889', 'NCT00430105', 'NCT00753103', 'NCT04413331', 'NCT01663623', 'NCT00001764', 'NCT00349674', 'NCT02180126', 'NCT01446211', 'NCT00001901']\n",
      "Query 54 top bi-encoder score: 1.7655\n",
      "Query 54: Top bi-encoder score 1.7655 exceeds threshold 1.6, skipping cross-encoder re-ranking\n",
      "  Query 54 stage 2 retrieved (final): ['NCT03782870', 'NCT03182049', 'NCT00748644', 'NCT00103792', 'NCT00001541', 'NCT02126098', 'NCT04413149', 'NCT01066208', 'NCT00987389', 'NCT01934504', 'NCT00530075', 'NCT02807103', 'NCT03712345', 'NCT00005007', 'NCT01940094', 'NCT00072592', 'NCT00307593', 'NCT00001256', 'NCT00001155', 'NCT03290456', 'NCT03942887', 'NCT00001473', 'NCT00307658', 'NCT02198248', 'NCT02115997', 'NCT01731561', 'NCT00004567', 'NCT00001761', 'NCT00307645', 'NCT01613599', 'NCT02020889', 'NCT00430105', 'NCT00753103', 'NCT04413331', 'NCT01663623', 'NCT00001764', 'NCT00349674', 'NCT02180126', 'NCT01446211', 'NCT00001901']\n",
      "   Query 54 metrics: Precision@10: 0.1000, Recall@10: 0.0333, F1@10: 0.0500, AP: 0.3633, nDCG@10: 0.3476, MRR@10=1.0000\n",
      "    Total time for query: 0.23 seconds\n"
     ]
    },
    {
     "name": "stderr",
     "output_type": "stream",
     "text": [
      " 73%|███████▎  | 55/75 [00:17<00:04,  4.24it/s]"
     ]
    },
    {
     "name": "stdout",
     "output_type": "stream",
     "text": [
      "Query 55 Stage 1 retrieved docs: ['NCT04212195', 'NCT03867526', 'NCT02763215', 'NCT04531189', 'NCT04408300', 'NCT00212355', 'NCT04012658', 'NCT02273596', 'NCT03589820', 'NCT01472874', 'NCT02426905', 'NCT01874028', 'NCT03299829', 'NCT01378182', 'NCT00212368', 'NCT03131427', 'NCT02712138', 'NCT01380899', 'NCT02702765', 'NCT02762682', 'NCT04576676', 'NCT03866603', 'NCT02383641', 'NCT00453128', 'NCT00001640', 'NCT04074512', 'NCT04308135', 'NCT00018889', 'NCT04083586', 'NCT00985010', 'NCT00811785', 'NCT00001262', 'NCT00001643', 'NCT00340301', 'NCT03011476', 'NCT02869945', 'NCT03146884', 'NCT04618679', 'NCT01949467', 'NCT00596908']\n",
      "Query 55 top bi-encoder score: 1.6964\n",
      "Query 55: Top bi-encoder score 1.6964 exceeds threshold 1.6, skipping cross-encoder re-ranking\n",
      "  Query 55 stage 2 retrieved (final): ['NCT04212195', 'NCT03867526', 'NCT02763215', 'NCT04531189', 'NCT04408300', 'NCT00212355', 'NCT04012658', 'NCT02273596', 'NCT03589820', 'NCT01472874', 'NCT02426905', 'NCT01874028', 'NCT03299829', 'NCT01378182', 'NCT00212368', 'NCT03131427', 'NCT02712138', 'NCT01380899', 'NCT02702765', 'NCT02762682', 'NCT04576676', 'NCT03866603', 'NCT02383641', 'NCT00453128', 'NCT00001640', 'NCT04074512', 'NCT04308135', 'NCT00018889', 'NCT04083586', 'NCT00985010', 'NCT00811785', 'NCT00001262', 'NCT00001643', 'NCT00340301', 'NCT03011476', 'NCT02869945', 'NCT03146884', 'NCT04618679', 'NCT01949467', 'NCT00596908']\n",
      "   Query 55 metrics: Precision@10: 1.0000, Recall@10: 0.4348, F1@10: 0.6061, AP: 0.9485, nDCG@10: 1.0000, MRR@10=1.0000\n",
      "    Total time for query: 0.23 seconds\n"
     ]
    },
    {
     "name": "stderr",
     "output_type": "stream",
     "text": [
      " 75%|███████▍  | 56/75 [00:17<00:04,  4.29it/s]"
     ]
    },
    {
     "name": "stdout",
     "output_type": "stream",
     "text": [
      "Query 56 Stage 1 retrieved docs: ['NCT01861717', 'NCT02427295', 'NCT01809808', 'NCT01029275', 'NCT00921609', 'NCT01368133', 'NCT01371643', 'NCT03439709', 'NCT02952885', 'NCT01723748', 'NCT02296216', 'NCT00993356', 'NCT00171886', 'NCT00182091', 'NCT04860037', 'NCT02092129', 'NCT03710499', 'NCT00001860', 'NCT00690898', 'NCT00934271', 'NCT00615004', 'NCT00171730', 'NCT03043586', 'NCT00616408', 'NCT00468624', 'NCT03431727', 'NCT04066569', 'NCT01618513', 'NCT01424241', 'NCT01673646', 'NCT00145405', 'NCT00915954', 'NCT00994214', 'NCT01752621', 'NCT00225979', 'NCT01556230', 'NCT00461149', 'NCT00627796', 'NCT00001981', 'NCT03548415']\n",
      "Query 56 top bi-encoder score: 1.8444\n",
      "Query 56: Top bi-encoder score 1.8444 exceeds threshold 1.6, skipping cross-encoder re-ranking\n",
      "  Query 56 stage 2 retrieved (final): ['NCT01861717', 'NCT02427295', 'NCT01809808', 'NCT01029275', 'NCT00921609', 'NCT01368133', 'NCT01371643', 'NCT03439709', 'NCT02952885', 'NCT01723748', 'NCT02296216', 'NCT00993356', 'NCT00171886', 'NCT00182091', 'NCT04860037', 'NCT02092129', 'NCT03710499', 'NCT00001860', 'NCT00690898', 'NCT00934271', 'NCT00615004', 'NCT00171730', 'NCT03043586', 'NCT00616408', 'NCT00468624', 'NCT03431727', 'NCT04066569', 'NCT01618513', 'NCT01424241', 'NCT01673646', 'NCT00145405', 'NCT00915954', 'NCT00994214', 'NCT01752621', 'NCT00225979', 'NCT01556230', 'NCT00461149', 'NCT00627796', 'NCT00001981', 'NCT03548415']\n",
      "   Query 56 metrics: Precision@10: 0.7000, Recall@10: 0.1373, F1@10: 0.2295, AP: 0.6638, nDCG@10: 0.8216, MRR@10=1.0000\n",
      "    Total time for query: 0.23 seconds\n"
     ]
    },
    {
     "name": "stderr",
     "output_type": "stream",
     "text": [
      " 76%|███████▌  | 57/75 [00:17<00:04,  4.30it/s]"
     ]
    },
    {
     "name": "stdout",
     "output_type": "stream",
     "text": [
      "Query 57 Stage 1 retrieved docs: ['NCT03259880', 'NCT04196504', 'NCT03354065', 'NCT04615702', 'NCT04570852', 'NCT01015417', 'NCT03342716', 'NCT04735055', 'NCT02430285', 'NCT02563080', 'NCT02528760', 'NCT03407534', 'NCT04750044', 'NCT03643900', 'NCT04408872', 'NCT00523874', 'NCT01929538', 'NCT00863642', 'NCT02543658', 'NCT03411629', 'NCT04552028', 'NCT01583517', 'NCT01611532', 'NCT03173118', 'NCT03601325', 'NCT01997476', 'NCT01796652', 'NCT02204189', 'NCT01758549', 'NCT01133535', 'NCT02590978', 'NCT00609726', 'NCT03709030', 'NCT00133835', 'NCT04231279', 'NCT04173624', 'NCT02351492', 'NCT04214756', 'NCT03063398', 'NCT03253861']\n",
      "Query 57 top bi-encoder score: 1.7682\n",
      "Query 57: Top bi-encoder score 1.7682 exceeds threshold 1.6, skipping cross-encoder re-ranking\n",
      "  Query 57 stage 2 retrieved (final): ['NCT03259880', 'NCT04196504', 'NCT03354065', 'NCT04615702', 'NCT04570852', 'NCT01015417', 'NCT03342716', 'NCT04735055', 'NCT02430285', 'NCT02563080', 'NCT02528760', 'NCT03407534', 'NCT04750044', 'NCT03643900', 'NCT04408872', 'NCT00523874', 'NCT01929538', 'NCT00863642', 'NCT02543658', 'NCT03411629', 'NCT04552028', 'NCT01583517', 'NCT01611532', 'NCT03173118', 'NCT03601325', 'NCT01997476', 'NCT01796652', 'NCT02204189', 'NCT01758549', 'NCT01133535', 'NCT02590978', 'NCT00609726', 'NCT03709030', 'NCT00133835', 'NCT04231279', 'NCT04173624', 'NCT02351492', 'NCT04214756', 'NCT03063398', 'NCT03253861']\n",
      "   Query 57 metrics: Precision@10: 0.9000, Recall@10: 0.0833, F1@10: 0.1525, AP: 0.7631, nDCG@10: 0.9216, MRR@10=1.0000\n",
      "    Total time for query: 0.23 seconds\n"
     ]
    },
    {
     "name": "stderr",
     "output_type": "stream",
     "text": [
      " 77%|███████▋  | 58/75 [00:17<00:03,  4.33it/s]"
     ]
    },
    {
     "name": "stdout",
     "output_type": "stream",
     "text": [
      "Query 58 Stage 1 retrieved docs: ['NCT03289351', 'NCT03234296', 'NCT03236961', 'NCT00677417', 'NCT02404064', 'NCT04634448', 'NCT04440150', 'NCT04033198', 'NCT03902262', 'NCT00135603', 'NCT00971438', 'NCT02867072', 'NCT01967745', 'NCT03159754', 'NCT04253899', 'NCT03169114', 'NCT01054417', 'NCT02742402', 'NCT04688463', 'NCT02687464', 'NCT04168866', 'NCT01678365', 'NCT04689906', 'NCT01096927', 'NCT04594486', 'NCT03267082', 'NCT02789865', 'NCT00413855', 'NCT02687217', 'NCT02673528', 'NCT04271826', 'NCT01260064', 'NCT04576273', 'NCT04281251', 'NCT04464382', 'NCT04083313', 'NCT00414375', 'NCT00677989', 'NCT04472052', 'NCT03591419']\n",
      "Query 58 top bi-encoder score: 1.6952\n",
      "Query 58: Top bi-encoder score 1.6952 exceeds threshold 1.6, skipping cross-encoder re-ranking\n",
      "  Query 58 stage 2 retrieved (final): ['NCT03289351', 'NCT03234296', 'NCT03236961', 'NCT00677417', 'NCT02404064', 'NCT04634448', 'NCT04440150', 'NCT04033198', 'NCT03902262', 'NCT00135603', 'NCT00971438', 'NCT02867072', 'NCT01967745', 'NCT03159754', 'NCT04253899', 'NCT03169114', 'NCT01054417', 'NCT02742402', 'NCT04688463', 'NCT02687464', 'NCT04168866', 'NCT01678365', 'NCT04689906', 'NCT01096927', 'NCT04594486', 'NCT03267082', 'NCT02789865', 'NCT00413855', 'NCT02687217', 'NCT02673528', 'NCT04271826', 'NCT01260064', 'NCT04576273', 'NCT04281251', 'NCT04464382', 'NCT04083313', 'NCT00414375', 'NCT00677989', 'NCT04472052', 'NCT03591419']\n",
      "   Query 58 metrics: Precision@10: 0.2000, Recall@10: 0.0364, F1@10: 0.0615, AP: 0.3856, nDCG@10: 0.4474, MRR@10=1.0000\n",
      "    Total time for query: 0.23 seconds\n"
     ]
    },
    {
     "name": "stderr",
     "output_type": "stream",
     "text": [
      " 79%|███████▊  | 59/75 [00:17<00:03,  4.34it/s]"
     ]
    },
    {
     "name": "stdout",
     "output_type": "stream",
     "text": [
      "Query 59 Stage 1 retrieved docs: ['NCT04674137', 'NCT00411567', 'NCT01437735', 'NCT02415179', 'NCT01500525', 'NCT00585039', 'NCT03788057', 'NCT01515995', 'NCT03846570', 'NCT00509197', 'NCT00634517', 'NCT01436890', 'NCT01772368', 'NCT02340520', 'NCT03498742', 'NCT03204760', 'NCT00278083', 'NCT01313637', 'NCT01313650', 'NCT01687283', 'NCT00839124', 'NCT00784485', 'NCT01800994', 'NCT00662298', 'NCT01691508', 'NCT04705727', 'NCT00515775', 'NCT03029156', 'NCT04322422', 'NCT01260623', 'NCT00180661', 'NCT00954850', 'NCT01562093', 'NCT00583778', 'NCT02660853', 'NCT00182481', 'NCT01498653', 'NCT04509661', 'NCT00096954', 'NCT00657774']\n",
      "Query 59 top bi-encoder score: 1.7544\n",
      "Query 59: Top bi-encoder score 1.7544 exceeds threshold 1.6, skipping cross-encoder re-ranking\n",
      "  Query 59 stage 2 retrieved (final): ['NCT04674137', 'NCT00411567', 'NCT01437735', 'NCT02415179', 'NCT01500525', 'NCT00585039', 'NCT03788057', 'NCT01515995', 'NCT03846570', 'NCT00509197', 'NCT00634517', 'NCT01436890', 'NCT01772368', 'NCT02340520', 'NCT03498742', 'NCT03204760', 'NCT00278083', 'NCT01313637', 'NCT01313650', 'NCT01687283', 'NCT00839124', 'NCT00784485', 'NCT01800994', 'NCT00662298', 'NCT01691508', 'NCT04705727', 'NCT00515775', 'NCT03029156', 'NCT04322422', 'NCT01260623', 'NCT00180661', 'NCT00954850', 'NCT01562093', 'NCT00583778', 'NCT02660853', 'NCT00182481', 'NCT01498653', 'NCT04509661', 'NCT00096954', 'NCT00657774']\n",
      "   Query 59 metrics: Precision@10: 0.2000, Recall@10: 0.0106, F1@10: 0.0201, AP: 0.2281, nDCG@10: 0.3038, MRR@10=0.2500\n",
      "    Total time for query: 0.23 seconds\n"
     ]
    },
    {
     "name": "stderr",
     "output_type": "stream",
     "text": [
      " 80%|████████  | 60/75 [00:18<00:03,  4.36it/s]"
     ]
    },
    {
     "name": "stdout",
     "output_type": "stream",
     "text": [
      "Query 60 Stage 1 retrieved docs: ['NCT03239951', 'NCT01563796', 'NCT02681471', 'NCT04781985', 'NCT01815697', 'NCT02689830', 'NCT02533687', 'NCT02524236', 'NCT02961114', 'NCT04766268', 'NCT00431626', 'NCT03104907', 'NCT00564460', 'NCT02822924', 'NCT02074644', 'NCT00169767', 'NCT00077012', 'NCT00381108', 'NCT03457805', 'NCT03912558', 'NCT04212403', 'NCT04764903', 'NCT01661621', 'NCT00561262', 'NCT04529369', 'NCT02283684', 'NCT01604148', 'NCT04588857', 'NCT00596011', 'NCT00685633', 'NCT01963312', 'NCT03179228', 'NCT02054013', 'NCT03959917', 'NCT03630926', 'NCT00827814', 'NCT01083979', 'NCT03280420', 'NCT01747577', 'NCT01810068']\n",
      "Query 60 top bi-encoder score: 1.6765\n",
      "Query 60: Top bi-encoder score 1.6765 exceeds threshold 1.6, skipping cross-encoder re-ranking\n",
      "  Query 60 stage 2 retrieved (final): ['NCT03239951', 'NCT01563796', 'NCT02681471', 'NCT04781985', 'NCT01815697', 'NCT02689830', 'NCT02533687', 'NCT02524236', 'NCT02961114', 'NCT04766268', 'NCT00431626', 'NCT03104907', 'NCT00564460', 'NCT02822924', 'NCT02074644', 'NCT00169767', 'NCT00077012', 'NCT00381108', 'NCT03457805', 'NCT03912558', 'NCT04212403', 'NCT04764903', 'NCT01661621', 'NCT00561262', 'NCT04529369', 'NCT02283684', 'NCT01604148', 'NCT04588857', 'NCT00596011', 'NCT00685633', 'NCT01963312', 'NCT03179228', 'NCT02054013', 'NCT03959917', 'NCT03630926', 'NCT00827814', 'NCT01083979', 'NCT03280420', 'NCT01747577', 'NCT01810068']\n",
      "   Query 60 metrics: Precision@10: 0.4000, Recall@10: 0.0268, F1@10: 0.0503, AP: 0.5292, nDCG@10: 0.5329, MRR@10=1.0000\n",
      "    Total time for query: 0.23 seconds\n"
     ]
    },
    {
     "name": "stderr",
     "output_type": "stream",
     "text": [
      " 81%|████████▏ | 61/75 [00:18<00:03,  4.24it/s]"
     ]
    },
    {
     "name": "stdout",
     "output_type": "stream",
     "text": [
      "Query 61 Stage 1 retrieved docs: ['NCT02897700', 'NCT00001250', 'NCT03188393', 'NCT00542191', 'NCT04436809', 'NCT00970983', 'NCT04293796', 'NCT04697043', 'NCT04225858', 'NCT03669705', 'NCT01920139', 'NCT03681418', 'NCT04245150', 'NCT00881361', 'NCT01501487', 'NCT00003953', 'NCT03236974', 'NCT00507611', 'NCT00233974', 'NCT00103181', 'NCT03981705', 'NCT04741737', 'NCT02752009', 'NCT02515110', 'NCT02295033', 'NCT01541878', 'NCT02564848', 'NCT01796444', 'NCT04109079', 'NCT03669952', 'NCT04500262', 'NCT03381092', 'NCT03491410', 'NCT00054301', 'NCT03144037', 'NCT04046159', 'NCT01984866', 'NCT02670577', 'NCT03630653', 'NCT02464774']\n",
      "Query 61 top bi-encoder score: 1.7162\n",
      "Query 61: Top bi-encoder score 1.7162 exceeds threshold 1.6, skipping cross-encoder re-ranking\n",
      "  Query 61 stage 2 retrieved (final): ['NCT02897700', 'NCT00001250', 'NCT03188393', 'NCT00542191', 'NCT04436809', 'NCT00970983', 'NCT04293796', 'NCT04697043', 'NCT04225858', 'NCT03669705', 'NCT01920139', 'NCT03681418', 'NCT04245150', 'NCT00881361', 'NCT01501487', 'NCT00003953', 'NCT03236974', 'NCT00507611', 'NCT00233974', 'NCT00103181', 'NCT03981705', 'NCT04741737', 'NCT02752009', 'NCT02515110', 'NCT02295033', 'NCT01541878', 'NCT02564848', 'NCT01796444', 'NCT04109079', 'NCT03669952', 'NCT04500262', 'NCT03381092', 'NCT03491410', 'NCT00054301', 'NCT03144037', 'NCT04046159', 'NCT01984866', 'NCT02670577', 'NCT03630653', 'NCT02464774']\n",
      "   Query 61 metrics: Precision@10: 0.1000, Recall@10: 0.0083, F1@10: 0.0154, AP: 0.1786, nDCG@10: 0.1377, MRR@10=0.1250\n",
      "    Total time for query: 0.25 seconds\n"
     ]
    },
    {
     "name": "stderr",
     "output_type": "stream",
     "text": [
      " 83%|████████▎ | 62/75 [00:18<00:03,  4.27it/s]"
     ]
    },
    {
     "name": "stdout",
     "output_type": "stream",
     "text": [
      "Query 62 Stage 1 retrieved docs: ['NCT00810550', 'NCT00949169', 'NCT04825080', 'NCT03721523', 'NCT01208025', 'NCT04423406', 'NCT02487615', 'NCT00307307', 'NCT03672955', 'NCT00451529', 'NCT03041168', 'NCT02476396', 'NCT02992821', 'NCT00235248', 'NCT03499496', 'NCT03464851', 'NCT02141932', 'NCT00005189', 'NCT04444024', 'NCT01042912', 'NCT03840265', 'NCT01458860', 'NCT03871725', 'NCT00287508', 'NCT03382249', 'NCT00417963', 'NCT02992301', 'NCT02748941', 'NCT01133327', 'NCT01284933', 'NCT01599195', 'NCT02726984', 'NCT03786666', 'NCT01419574', 'NCT01795456', 'NCT00343655', 'NCT04144725', 'NCT04738864', 'NCT01743040', 'NCT02884141']\n",
      "Query 62 top bi-encoder score: 1.6980\n",
      "Query 62: Top bi-encoder score 1.6980 exceeds threshold 1.6, skipping cross-encoder re-ranking\n",
      "  Query 62 stage 2 retrieved (final): ['NCT00810550', 'NCT00949169', 'NCT04825080', 'NCT03721523', 'NCT01208025', 'NCT04423406', 'NCT02487615', 'NCT00307307', 'NCT03672955', 'NCT00451529', 'NCT03041168', 'NCT02476396', 'NCT02992821', 'NCT00235248', 'NCT03499496', 'NCT03464851', 'NCT02141932', 'NCT00005189', 'NCT04444024', 'NCT01042912', 'NCT03840265', 'NCT01458860', 'NCT03871725', 'NCT00287508', 'NCT03382249', 'NCT00417963', 'NCT02992301', 'NCT02748941', 'NCT01133327', 'NCT01284933', 'NCT01599195', 'NCT02726984', 'NCT03786666', 'NCT01419574', 'NCT01795456', 'NCT00343655', 'NCT04144725', 'NCT04738864', 'NCT01743040', 'NCT02884141']\n",
      "   Query 62 metrics: Precision@10: 0.6000, Recall@10: 0.0923, F1@10: 0.1600, AP: 0.4588, nDCG@10: 0.5289, MRR@10=0.3333\n",
      "    Total time for query: 0.23 seconds\n"
     ]
    },
    {
     "name": "stderr",
     "output_type": "stream",
     "text": [
      " 84%|████████▍ | 63/75 [00:18<00:02,  4.20it/s]"
     ]
    },
    {
     "name": "stdout",
     "output_type": "stream",
     "text": [
      "Query 63 Stage 1 retrieved docs: ['NCT01425177', 'NCT01015417', 'NCT02830984', 'NCT02472509', 'NCT02430285', 'NCT03259880', 'NCT03709030', 'NCT02349568', 'NCT03981315', 'NCT04234126', 'NCT00161083', 'NCT04615702', 'NCT04675190', 'NCT04408872', 'NCT02554097', 'NCT01100398', 'NCT01492790', 'NCT00634140', 'NCT02967926', 'NCT02469935', 'NCT02351492', 'NCT02528760', 'NCT03354065', 'NCT02721862', 'NCT04242394', 'NCT02155244', 'NCT04850547', 'NCT02325492', 'NCT02870686', 'NCT03804775', 'NCT02195115', 'NCT03407534', 'NCT02833103', 'NCT04173624', 'NCT03513900', 'NCT02156947', 'NCT04350346', 'NCT03533322', 'NCT00339560', 'NCT04467710']\n",
      "Query 63 top bi-encoder score: 1.6577\n",
      "Query 63: Top bi-encoder score 1.6577 exceeds threshold 1.6, skipping cross-encoder re-ranking\n",
      "  Query 63 stage 2 retrieved (final): ['NCT01425177', 'NCT01015417', 'NCT02830984', 'NCT02472509', 'NCT02430285', 'NCT03259880', 'NCT03709030', 'NCT02349568', 'NCT03981315', 'NCT04234126', 'NCT00161083', 'NCT04615702', 'NCT04675190', 'NCT04408872', 'NCT02554097', 'NCT01100398', 'NCT01492790', 'NCT00634140', 'NCT02967926', 'NCT02469935', 'NCT02351492', 'NCT02528760', 'NCT03354065', 'NCT02721862', 'NCT04242394', 'NCT02155244', 'NCT04850547', 'NCT02325492', 'NCT02870686', 'NCT03804775', 'NCT02195115', 'NCT03407534', 'NCT02833103', 'NCT04173624', 'NCT03513900', 'NCT02156947', 'NCT04350346', 'NCT03533322', 'NCT00339560', 'NCT04467710']\n",
      "   Query 63 metrics: Precision@10: 0.1000, Recall@10: 0.0286, F1@10: 0.0444, AP: 0.1324, nDCG@10: 0.0978, MRR@10=0.1250\n",
      "    Total time for query: 0.25 seconds\n"
     ]
    },
    {
     "name": "stderr",
     "output_type": "stream",
     "text": [
      " 85%|████████▌ | 64/75 [00:19<00:02,  4.22it/s]"
     ]
    },
    {
     "name": "stdout",
     "output_type": "stream",
     "text": [
      "Query 64 Stage 1 retrieved docs: ['NCT00751426', 'NCT03520660', 'NCT01872988', 'NCT02825212', 'NCT00380614', 'NCT00512941', 'NCT04405011', 'NCT03693586', 'NCT01360268', 'NCT03170076', 'NCT03547895', 'NCT02483156', 'NCT03226717', 'NCT03186313', 'NCT00707772', 'NCT03740789', 'NCT01453075', 'NCT04546802', 'NCT00527540', 'NCT03014986', 'NCT01437969', 'NCT00951223', 'NCT00201318', 'NCT02973503', 'NCT00887081', 'NCT03722628', 'NCT00709228', 'NCT04032860', 'NCT01750515', 'NCT02265237', 'NCT01384565', 'NCT00001982', 'NCT01289652', 'NCT02532907', 'NCT03296930', 'NCT02669966', 'NCT00154869', 'NCT00823550', 'NCT03702218', 'NCT02707952']\n",
      "Query 64 top bi-encoder score: 1.7613\n",
      "Query 64: Top bi-encoder score 1.7613 exceeds threshold 1.6, skipping cross-encoder re-ranking\n",
      "  Query 64 stage 2 retrieved (final): ['NCT00751426', 'NCT03520660', 'NCT01872988', 'NCT02825212', 'NCT00380614', 'NCT00512941', 'NCT04405011', 'NCT03693586', 'NCT01360268', 'NCT03170076', 'NCT03547895', 'NCT02483156', 'NCT03226717', 'NCT03186313', 'NCT00707772', 'NCT03740789', 'NCT01453075', 'NCT04546802', 'NCT00527540', 'NCT03014986', 'NCT01437969', 'NCT00951223', 'NCT00201318', 'NCT02973503', 'NCT00887081', 'NCT03722628', 'NCT00709228', 'NCT04032860', 'NCT01750515', 'NCT02265237', 'NCT01384565', 'NCT00001982', 'NCT01289652', 'NCT02532907', 'NCT03296930', 'NCT02669966', 'NCT00154869', 'NCT00823550', 'NCT03702218', 'NCT02707952']\n",
      "   Query 64 metrics: Precision@10: 0.4000, Recall@10: 0.0615, F1@10: 0.1067, AP: 0.3237, nDCG@10: 0.3542, MRR@10=0.5000\n",
      "    Total time for query: 0.23 seconds\n"
     ]
    },
    {
     "name": "stderr",
     "output_type": "stream",
     "text": [
      " 87%|████████▋ | 65/75 [00:19<00:02,  4.27it/s]"
     ]
    },
    {
     "name": "stdout",
     "output_type": "stream",
     "text": [
      "Query 65 Stage 1 retrieved docs: ['NCT03188757', 'NCT00684528', 'NCT00488033', 'NCT02062554', 'NCT01029392', 'NCT01220349', 'NCT04200586', 'NCT04593173', 'NCT04450407', 'NCT00732524', 'NCT03117010', 'NCT01071928', 'NCT02280174', 'NCT03930004', 'NCT04388280', 'NCT04256005', 'NCT02691533', 'NCT04385589', 'NCT01215136', 'NCT01154413', 'NCT04322240', 'NCT01511042', 'NCT00380068', 'NCT03146884', 'NCT01636427', 'NCT02685774', 'NCT00537628', 'NCT01935765', 'NCT04509609', 'NCT01483560', 'NCT01053026', 'NCT03660293', 'NCT00961701', 'NCT00622089', 'NCT00883584', 'NCT04630067', 'NCT00879359', 'NCT03878459', 'NCT01863173', 'NCT01275339']\n",
      "Query 65 top bi-encoder score: 1.6183\n",
      "Query 65: Top bi-encoder score 1.6183 exceeds threshold 1.6, skipping cross-encoder re-ranking\n",
      "  Query 65 stage 2 retrieved (final): ['NCT03188757', 'NCT00684528', 'NCT00488033', 'NCT02062554', 'NCT01029392', 'NCT01220349', 'NCT04200586', 'NCT04593173', 'NCT04450407', 'NCT00732524', 'NCT03117010', 'NCT01071928', 'NCT02280174', 'NCT03930004', 'NCT04388280', 'NCT04256005', 'NCT02691533', 'NCT04385589', 'NCT01215136', 'NCT01154413', 'NCT04322240', 'NCT01511042', 'NCT00380068', 'NCT03146884', 'NCT01636427', 'NCT02685774', 'NCT00537628', 'NCT01935765', 'NCT04509609', 'NCT01483560', 'NCT01053026', 'NCT03660293', 'NCT00961701', 'NCT00622089', 'NCT00883584', 'NCT04630067', 'NCT00879359', 'NCT03878459', 'NCT01863173', 'NCT01275339']\n",
      "   Query 65 metrics: Precision@10: 0.1000, Recall@10: 0.0137, F1@10: 0.0241, AP: 0.1339, nDCG@10: 0.0694, MRR@10=0.1250\n",
      "    Total time for query: 0.23 seconds\n"
     ]
    },
    {
     "name": "stderr",
     "output_type": "stream",
     "text": [
      " 88%|████████▊ | 66/75 [00:19<00:02,  4.31it/s]"
     ]
    },
    {
     "name": "stdout",
     "output_type": "stream",
     "text": [
      "Query 66 Stage 1 retrieved docs: ['NCT04752202', 'NCT00552487', 'NCT02319538', 'NCT02798965', 'NCT01884649', 'NCT02725879', 'NCT04754607', 'NCT02868476', 'NCT02126683', 'NCT00665171', 'NCT03984006', 'NCT00172523', 'NCT03106935', 'NCT01760421', 'NCT04249271', 'NCT02703064', 'NCT04178928', 'NCT01313455', 'NCT00001159', 'NCT03048708', 'NCT01256944', 'NCT04364087', 'NCT01940666', 'NCT04236232', 'NCT04795947', 'NCT02317926', 'NCT02052479', 'NCT01997554', 'NCT02309047', 'NCT00715572', 'NCT04472988', 'NCT00025870', 'NCT02859584', 'NCT02710175', 'NCT03579303', 'NCT00524238', 'NCT03463226', 'NCT01280292', 'NCT01735799', 'NCT02608554']\n",
      "Query 66 top bi-encoder score: 1.6605\n",
      "Query 66: Top bi-encoder score 1.6605 exceeds threshold 1.6, skipping cross-encoder re-ranking\n",
      "  Query 66 stage 2 retrieved (final): ['NCT04752202', 'NCT00552487', 'NCT02319538', 'NCT02798965', 'NCT01884649', 'NCT02725879', 'NCT04754607', 'NCT02868476', 'NCT02126683', 'NCT00665171', 'NCT03984006', 'NCT00172523', 'NCT03106935', 'NCT01760421', 'NCT04249271', 'NCT02703064', 'NCT04178928', 'NCT01313455', 'NCT00001159', 'NCT03048708', 'NCT01256944', 'NCT04364087', 'NCT01940666', 'NCT04236232', 'NCT04795947', 'NCT02317926', 'NCT02052479', 'NCT01997554', 'NCT02309047', 'NCT00715572', 'NCT04472988', 'NCT00025870', 'NCT02859584', 'NCT02710175', 'NCT03579303', 'NCT00524238', 'NCT03463226', 'NCT01280292', 'NCT01735799', 'NCT02608554']\n",
      "   Query 66 metrics: Precision@10: 0.1000, Recall@10: 0.0909, F1@10: 0.0952, AP: 0.1360, nDCG@10: 0.2852, MRR@10=0.1667\n",
      "    Total time for query: 0.23 seconds\n"
     ]
    },
    {
     "name": "stderr",
     "output_type": "stream",
     "text": [
      " 89%|████████▉ | 67/75 [00:19<00:01,  4.34it/s]"
     ]
    },
    {
     "name": "stdout",
     "output_type": "stream",
     "text": [
      "Query 67 Stage 1 retrieved docs: ['NCT00343213', 'NCT00872937', 'NCT00091130', 'NCT03998254', 'NCT01385436', 'NCT03837028', 'NCT00128661', 'NCT00201370', 'NCT03920800', 'NCT00743626', 'NCT04369339', 'NCT01550783', 'NCT04171505', 'NCT03577925', 'NCT00689741', 'NCT00006444', 'NCT00312286', 'NCT00117884', 'NCT01924117', 'NCT01131312', 'NCT02780960', 'NCT00931190', 'NCT01384370', 'NCT00003384', 'NCT00709891', 'NCT00154479', 'NCT04587050', 'NCT03848039', 'NCT00266266', 'NCT00154583', 'NCT04057924', 'NCT04671823', 'NCT00435214', 'NCT04461678', 'NCT04783805', 'NCT02113514', 'NCT01133509', 'NCT03903952', 'NCT01599416', 'NCT00196937']\n",
      "Query 67 top bi-encoder score: 1.7831\n",
      "Query 67: Top bi-encoder score 1.7831 exceeds threshold 1.6, skipping cross-encoder re-ranking\n",
      "  Query 67 stage 2 retrieved (final): ['NCT00343213', 'NCT00872937', 'NCT00091130', 'NCT03998254', 'NCT01385436', 'NCT03837028', 'NCT00128661', 'NCT00201370', 'NCT03920800', 'NCT00743626', 'NCT04369339', 'NCT01550783', 'NCT04171505', 'NCT03577925', 'NCT00689741', 'NCT00006444', 'NCT00312286', 'NCT00117884', 'NCT01924117', 'NCT01131312', 'NCT02780960', 'NCT00931190', 'NCT01384370', 'NCT00003384', 'NCT00709891', 'NCT00154479', 'NCT04587050', 'NCT03848039', 'NCT00266266', 'NCT00154583', 'NCT04057924', 'NCT04671823', 'NCT00435214', 'NCT04461678', 'NCT04783805', 'NCT02113514', 'NCT01133509', 'NCT03903952', 'NCT01599416', 'NCT00196937']\n",
      "   Query 67 metrics: Precision@10: 0.2000, Recall@10: 0.0333, F1@10: 0.0571, AP: 0.2865, nDCG@10: 0.4216, MRR@10=0.5000\n",
      "    Total time for query: 0.23 seconds\n"
     ]
    },
    {
     "name": "stderr",
     "output_type": "stream",
     "text": [
      " 91%|█████████ | 68/75 [00:20<00:01,  4.35it/s]"
     ]
    },
    {
     "name": "stdout",
     "output_type": "stream",
     "text": [
      "Query 68 Stage 1 retrieved docs: ['NCT00901940', 'NCT04749810', 'NCT01133834', 'NCT03721146', 'NCT04236960', 'NCT00862277', 'NCT02205541', 'NCT00390143', 'NCT03263403', 'NCT02257892', 'NCT01257269', 'NCT00974363', 'NCT02904863', 'NCT02986854', 'NCT01478347', 'NCT02464891', 'NCT04083443', 'NCT02867319', 'NCT00661557', 'NCT04204096', 'NCT02752906', 'NCT03999840', 'NCT03117010', 'NCT01114165', 'NCT02987790', 'NCT02811120', 'NCT00930423', 'NCT02373267', 'NCT04399018', 'NCT01633476', 'NCT00867932', 'NCT02519361', 'NCT01593514', 'NCT02727465', 'NCT02919293', 'NCT01934504', 'NCT03682939', 'NCT02398396', 'NCT04178915', 'NCT03580941']\n",
      "Query 68 top bi-encoder score: 1.6242\n",
      "Query 68: Top bi-encoder score 1.6242 exceeds threshold 1.6, skipping cross-encoder re-ranking\n",
      "  Query 68 stage 2 retrieved (final): ['NCT00901940', 'NCT04749810', 'NCT01133834', 'NCT03721146', 'NCT04236960', 'NCT00862277', 'NCT02205541', 'NCT00390143', 'NCT03263403', 'NCT02257892', 'NCT01257269', 'NCT00974363', 'NCT02904863', 'NCT02986854', 'NCT01478347', 'NCT02464891', 'NCT04083443', 'NCT02867319', 'NCT00661557', 'NCT04204096', 'NCT02752906', 'NCT03999840', 'NCT03117010', 'NCT01114165', 'NCT02987790', 'NCT02811120', 'NCT00930423', 'NCT02373267', 'NCT04399018', 'NCT01633476', 'NCT00867932', 'NCT02519361', 'NCT01593514', 'NCT02727465', 'NCT02919293', 'NCT01934504', 'NCT03682939', 'NCT02398396', 'NCT04178915', 'NCT03580941']\n",
      "   Query 68 metrics: Precision@10: 0.0000, Recall@10: 0.0000, F1@10: 0.0000, AP: 0.1090, nDCG@10: 0.1223, MRR@10=0.0000\n",
      "    Total time for query: 0.23 seconds\n"
     ]
    },
    {
     "name": "stderr",
     "output_type": "stream",
     "text": [
      " 92%|█████████▏| 69/75 [00:20<00:01,  4.35it/s]"
     ]
    },
    {
     "name": "stdout",
     "output_type": "stream",
     "text": [
      "Query 69 Stage 1 retrieved docs: ['NCT01181336', 'NCT00230750', 'NCT00769002', 'NCT00253734', 'NCT00546585', 'NCT00397215', 'NCT01317745', 'NCT02213354', 'NCT01827462', 'NCT02746783', 'NCT00943358', 'NCT02908269', 'NCT01721083', 'NCT01317758', 'NCT03028974', 'NCT00283283', 'NCT00973895', 'NCT00170547', 'NCT03020498', 'NCT01123954', 'NCT00231907', 'NCT01153685', 'NCT00386113', 'NCT01436370', 'NCT01189123', 'NCT01226758', 'NCT00695669', 'NCT02921997', 'NCT03614975', 'NCT01978262', 'NCT01236040', 'NCT03300362', 'NCT00858611', 'NCT00814385', 'NCT00006146', 'NCT03814720', 'NCT00943631', 'NCT00311649', 'NCT00138385', 'NCT00988143']\n",
      "Query 69 top bi-encoder score: 1.6580\n",
      "Query 69: Top bi-encoder score 1.6580 exceeds threshold 1.6, skipping cross-encoder re-ranking\n",
      "  Query 69 stage 2 retrieved (final): ['NCT01181336', 'NCT00230750', 'NCT00769002', 'NCT00253734', 'NCT00546585', 'NCT00397215', 'NCT01317745', 'NCT02213354', 'NCT01827462', 'NCT02746783', 'NCT00943358', 'NCT02908269', 'NCT01721083', 'NCT01317758', 'NCT03028974', 'NCT00283283', 'NCT00973895', 'NCT00170547', 'NCT03020498', 'NCT01123954', 'NCT00231907', 'NCT01153685', 'NCT00386113', 'NCT01436370', 'NCT01189123', 'NCT01226758', 'NCT00695669', 'NCT02921997', 'NCT03614975', 'NCT01978262', 'NCT01236040', 'NCT03300362', 'NCT00858611', 'NCT00814385', 'NCT00006146', 'NCT03814720', 'NCT00943631', 'NCT00311649', 'NCT00138385', 'NCT00988143']\n",
      "   Query 69 metrics: Precision@10: 0.4000, Recall@10: 0.1053, F1@10: 0.1667, AP: 0.3681, nDCG@10: 0.4521, MRR@10=0.5000\n",
      "    Total time for query: 0.23 seconds\n"
     ]
    },
    {
     "name": "stderr",
     "output_type": "stream",
     "text": [
      " 93%|█████████▎| 70/75 [00:20<00:01,  4.38it/s]"
     ]
    },
    {
     "name": "stdout",
     "output_type": "stream",
     "text": [
      "Query 70 Stage 1 retrieved docs: ['NCT01725048', 'NCT04471818', 'NCT01312922', 'NCT02436252', 'NCT02746367', 'NCT03554447', 'NCT01497548', 'NCT04442490', 'NCT00976560', 'NCT01935050', 'NCT01748734', 'NCT01619631', 'NCT03717844', 'NCT00360399', 'NCT00625742', 'NCT00122954', 'NCT03057860', 'NCT03833206', 'NCT02424708', 'NCT04826614', 'NCT00138138', 'NCT00067444', 'NCT02361125', 'NCT03766074', 'NCT01694953', 'NCT04667741', 'NCT03297177', 'NCT03580967', 'NCT00450541', 'NCT04730245', 'NCT01724112', 'NCT01797575', 'NCT01754493', 'NCT00185575', 'NCT04235725', 'NCT00666653', 'NCT03307070', 'NCT02818777', 'NCT00360633', 'NCT01842542']\n",
      "Query 70 top bi-encoder score: 1.6617\n",
      "Query 70: Top bi-encoder score 1.6617 exceeds threshold 1.6, skipping cross-encoder re-ranking\n",
      "  Query 70 stage 2 retrieved (final): ['NCT01725048', 'NCT04471818', 'NCT01312922', 'NCT02436252', 'NCT02746367', 'NCT03554447', 'NCT01497548', 'NCT04442490', 'NCT00976560', 'NCT01935050', 'NCT01748734', 'NCT01619631', 'NCT03717844', 'NCT00360399', 'NCT00625742', 'NCT00122954', 'NCT03057860', 'NCT03833206', 'NCT02424708', 'NCT04826614', 'NCT00138138', 'NCT00067444', 'NCT02361125', 'NCT03766074', 'NCT01694953', 'NCT04667741', 'NCT03297177', 'NCT03580967', 'NCT00450541', 'NCT04730245', 'NCT01724112', 'NCT01797575', 'NCT01754493', 'NCT00185575', 'NCT04235725', 'NCT00666653', 'NCT03307070', 'NCT02818777', 'NCT00360633', 'NCT01842542']\n",
      "   Query 70 metrics: Precision@10: 0.3000, Recall@10: 0.0273, F1@10: 0.0500, AP: 0.2560, nDCG@10: 0.4093, MRR@10=0.2000\n",
      "    Total time for query: 0.22 seconds\n"
     ]
    },
    {
     "name": "stderr",
     "output_type": "stream",
     "text": [
      " 95%|█████████▍| 71/75 [00:20<00:00,  4.18it/s]"
     ]
    },
    {
     "name": "stdout",
     "output_type": "stream",
     "text": [
      "Query 71 Stage 1 retrieved docs: ['NCT01842425', 'NCT00622765', 'NCT00770276', 'NCT02598531', 'NCT04278183', 'NCT04554082', 'NCT04193995', 'NCT03105050', 'NCT01639677', 'NCT02463435', 'NCT01040533', 'NCT01784848', 'NCT04109664', 'NCT03288259', 'NCT01041105', 'NCT02680873', 'NCT02004561', 'NCT00667498', 'NCT03394157', 'NCT00120562', 'NCT04592601', 'NCT01571180', 'NCT02717832', 'NCT04357119', 'NCT03791242', 'NCT03106207', 'NCT00704197', 'NCT04595006', 'NCT02980770', 'NCT03206905', 'NCT02142257', 'NCT01834300', 'NCT03517072', 'NCT02710786', 'NCT04548232', 'NCT01707771', 'NCT01066091', 'NCT02721862', 'NCT02037516', 'NCT04782856']\n",
      "Query 71 top bi-encoder score: 1.6941\n",
      "Query 71: Top bi-encoder score 1.6941 exceeds threshold 1.6, skipping cross-encoder re-ranking\n",
      "  Query 71 stage 2 retrieved (final): ['NCT01842425', 'NCT00622765', 'NCT00770276', 'NCT02598531', 'NCT04278183', 'NCT04554082', 'NCT04193995', 'NCT03105050', 'NCT01639677', 'NCT02463435', 'NCT01040533', 'NCT01784848', 'NCT04109664', 'NCT03288259', 'NCT01041105', 'NCT02680873', 'NCT02004561', 'NCT00667498', 'NCT03394157', 'NCT00120562', 'NCT04592601', 'NCT01571180', 'NCT02717832', 'NCT04357119', 'NCT03791242', 'NCT03106207', 'NCT00704197', 'NCT04595006', 'NCT02980770', 'NCT03206905', 'NCT02142257', 'NCT01834300', 'NCT03517072', 'NCT02710786', 'NCT04548232', 'NCT01707771', 'NCT01066091', 'NCT02721862', 'NCT02037516', 'NCT04782856']\n",
      "   Query 71 metrics: Precision@10: 0.5000, Recall@10: 0.0376, F1@10: 0.0699, AP: 0.5326, nDCG@10: 0.6137, MRR@10=1.0000\n",
      "    Total time for query: 0.26 seconds\n"
     ]
    },
    {
     "name": "stderr",
     "output_type": "stream",
     "text": [
      " 96%|█████████▌| 72/75 [00:21<00:00,  4.20it/s]"
     ]
    },
    {
     "name": "stdout",
     "output_type": "stream",
     "text": [
      "Query 72 Stage 1 retrieved docs: ['NCT02902536', 'NCT03792659', 'NCT04674605', 'NCT04535843', 'NCT01727193', 'NCT00306033', 'NCT00619671', 'NCT02950155', 'NCT00727194', 'NCT01480596', 'NCT04768465', 'NCT04226170', 'NCT03914638', 'NCT03315130', 'NCT01997229', 'NCT03920293', 'NCT02100969', 'NCT03971422', 'NCT00814138', 'NCT04728425', 'NCT01179893', 'NCT03468452', 'NCT04158661', 'NCT04431895', 'NCT03052751', 'NCT03772587', 'NCT00294658', 'NCT02965573', 'NCT03743740', 'NCT03059888', 'NCT00515450', 'NCT03863080', 'NCT00004682', 'NCT00683969', 'NCT02473952', 'NCT03979521', 'NCT04159805', 'NCT01268280', 'NCT00774462', 'NCT03049956']\n",
      "Query 72 top bi-encoder score: 1.7413\n",
      "Query 72: Top bi-encoder score 1.7413 exceeds threshold 1.6, skipping cross-encoder re-ranking\n",
      "  Query 72 stage 2 retrieved (final): ['NCT02902536', 'NCT03792659', 'NCT04674605', 'NCT04535843', 'NCT01727193', 'NCT00306033', 'NCT00619671', 'NCT02950155', 'NCT00727194', 'NCT01480596', 'NCT04768465', 'NCT04226170', 'NCT03914638', 'NCT03315130', 'NCT01997229', 'NCT03920293', 'NCT02100969', 'NCT03971422', 'NCT00814138', 'NCT04728425', 'NCT01179893', 'NCT03468452', 'NCT04158661', 'NCT04431895', 'NCT03052751', 'NCT03772587', 'NCT00294658', 'NCT02965573', 'NCT03743740', 'NCT03059888', 'NCT00515450', 'NCT03863080', 'NCT00004682', 'NCT00683969', 'NCT02473952', 'NCT03979521', 'NCT04159805', 'NCT01268280', 'NCT00774462', 'NCT03049956']\n",
      "   Query 72 metrics: Precision@10: 0.2000, Recall@10: 0.1333, F1@10: 0.1600, AP: 0.2628, nDCG@10: 0.4236, MRR@10=0.3333\n",
      "    Total time for query: 0.24 seconds\n"
     ]
    },
    {
     "name": "stderr",
     "output_type": "stream",
     "text": [
      " 97%|█████████▋| 73/75 [00:21<00:00,  4.25it/s]"
     ]
    },
    {
     "name": "stdout",
     "output_type": "stream",
     "text": [
      "Query 73 Stage 1 retrieved docs: ['NCT01136577', 'NCT04215601', 'NCT02625688', 'NCT04099602', 'NCT04719104', 'NCT04418180', 'NCT03942757', 'NCT03055481', 'NCT02154165', 'NCT02446951', 'NCT03183986', 'NCT03569254', 'NCT03570775', 'NCT00653874', 'NCT02613676', 'NCT02774434', 'NCT01434810', 'NCT01622699', 'NCT00635375', 'NCT04365998', 'NCT02372071', 'NCT02372058', 'NCT00114543', 'NCT01203410', 'NCT04021927', 'NCT02805296', 'NCT01470820', 'NCT02156050', 'NCT00735319', 'NCT03866213', 'NCT02356978', 'NCT03599258', 'NCT01550627', 'NCT02612727', 'NCT00692224', 'NCT04585828', 'NCT04251286', 'NCT01762189', 'NCT00288600', 'NCT03130517']\n",
      "Query 73 top bi-encoder score: 1.8123\n",
      "Query 73: Top bi-encoder score 1.8123 exceeds threshold 1.6, skipping cross-encoder re-ranking\n",
      "  Query 73 stage 2 retrieved (final): ['NCT01136577', 'NCT04215601', 'NCT02625688', 'NCT04099602', 'NCT04719104', 'NCT04418180', 'NCT03942757', 'NCT03055481', 'NCT02154165', 'NCT02446951', 'NCT03183986', 'NCT03569254', 'NCT03570775', 'NCT00653874', 'NCT02613676', 'NCT02774434', 'NCT01434810', 'NCT01622699', 'NCT00635375', 'NCT04365998', 'NCT02372071', 'NCT02372058', 'NCT00114543', 'NCT01203410', 'NCT04021927', 'NCT02805296', 'NCT01470820', 'NCT02156050', 'NCT00735319', 'NCT03866213', 'NCT02356978', 'NCT03599258', 'NCT01550627', 'NCT02612727', 'NCT00692224', 'NCT04585828', 'NCT04251286', 'NCT01762189', 'NCT00288600', 'NCT03130517']\n",
      "   Query 73 metrics: Precision@10: 0.2000, Recall@10: 0.1000, F1@10: 0.1333, AP: 0.2855, nDCG@10: 0.3164, MRR@10=0.1429\n",
      "    Total time for query: 0.23 seconds\n"
     ]
    },
    {
     "name": "stderr",
     "output_type": "stream",
     "text": [
      " 99%|█████████▊| 74/75 [00:21<00:00,  4.29it/s]"
     ]
    },
    {
     "name": "stdout",
     "output_type": "stream",
     "text": [
      "Query 74 Stage 1 retrieved docs: ['NCT00306046', 'NCT00051636', 'NCT00774020', 'NCT00480662', 'NCT00747994', 'NCT04222452', 'NCT02106455', 'NCT00894075', 'NCT02802384', 'NCT02056730', 'NCT00453128', 'NCT03993821', 'NCT03859895', 'NCT00108394', 'NCT00195936', 'NCT00066183', 'NCT00417612', 'NCT02198001', 'NCT02967042', 'NCT00973336', 'NCT01875458', 'NCT00668200', 'NCT02603042', 'NCT00415584', 'NCT04184661', 'NCT00712985', 'NCT00324714', 'NCT01839383', 'NCT03716128', 'NCT00377312', 'NCT00159419', 'NCT01306656', 'NCT00572299', 'NCT01222026', 'NCT01360099', 'NCT01419028', 'NCT02235493', 'NCT00222872', 'NCT03713671', 'NCT03027349']\n",
      "Query 74 top bi-encoder score: 1.8162\n",
      "Query 74: Top bi-encoder score 1.8162 exceeds threshold 1.6, skipping cross-encoder re-ranking\n",
      "  Query 74 stage 2 retrieved (final): ['NCT00306046', 'NCT00051636', 'NCT00774020', 'NCT00480662', 'NCT00747994', 'NCT04222452', 'NCT02106455', 'NCT00894075', 'NCT02802384', 'NCT02056730', 'NCT00453128', 'NCT03993821', 'NCT03859895', 'NCT00108394', 'NCT00195936', 'NCT00066183', 'NCT00417612', 'NCT02198001', 'NCT02967042', 'NCT00973336', 'NCT01875458', 'NCT00668200', 'NCT02603042', 'NCT00415584', 'NCT04184661', 'NCT00712985', 'NCT00324714', 'NCT01839383', 'NCT03716128', 'NCT00377312', 'NCT00159419', 'NCT01306656', 'NCT00572299', 'NCT01222026', 'NCT01360099', 'NCT01419028', 'NCT02235493', 'NCT00222872', 'NCT03713671', 'NCT03027349']\n",
      "   Query 74 metrics: Precision@10: 0.7000, Recall@10: 0.6364, F1@10: 0.6667, AP: 0.8748, nDCG@10: 0.7885, MRR@10=1.0000\n",
      "    Total time for query: 0.23 seconds\n"
     ]
    },
    {
     "name": "stderr",
     "output_type": "stream",
     "text": [
      "100%|██████████| 75/75 [00:21<00:00,  3.45it/s]"
     ]
    },
    {
     "name": "stdout",
     "output_type": "stream",
     "text": [
      "Query 75 Stage 1 retrieved docs: ['NCT00443768', 'NCT00001928', 'NCT00203060', 'NCT00199394', 'NCT04380142', 'NCT00526630', 'NCT00607451', 'NCT00148512', 'NCT00472355', 'NCT00666653', 'NCT00307450', 'NCT03956979', 'NCT00199407', 'NCT03433950', 'NCT04379050', 'NCT04750226', 'NCT04472130', 'NCT00199420', 'NCT00199355', 'NCT03568968', 'NCT01003002', 'NCT00466167', 'NCT00004733', 'NCT01970813', 'NCT02424708', 'NCT04687878', 'NCT03703570', 'NCT00794313', 'NCT03011476', 'NCT00596908', 'NCT04373317', 'NCT01892176', 'NCT01016743', 'NCT01399905', 'NCT00359723', 'NCT00758368', 'NCT03665454', 'NCT02565628', 'NCT03446807', 'NCT04858074']\n",
      "Query 75 top bi-encoder score: 1.7491\n",
      "Query 75: Top bi-encoder score 1.7491 exceeds threshold 1.6, skipping cross-encoder re-ranking\n",
      "  Query 75 stage 2 retrieved (final): ['NCT00443768', 'NCT00001928', 'NCT00203060', 'NCT00199394', 'NCT04380142', 'NCT00526630', 'NCT00607451', 'NCT00148512', 'NCT00472355', 'NCT00666653', 'NCT00307450', 'NCT03956979', 'NCT00199407', 'NCT03433950', 'NCT04379050', 'NCT04750226', 'NCT04472130', 'NCT00199420', 'NCT00199355', 'NCT03568968', 'NCT01003002', 'NCT00466167', 'NCT00004733', 'NCT01970813', 'NCT02424708', 'NCT04687878', 'NCT03703570', 'NCT00794313', 'NCT03011476', 'NCT00596908', 'NCT04373317', 'NCT01892176', 'NCT01016743', 'NCT01399905', 'NCT00359723', 'NCT00758368', 'NCT03665454', 'NCT02565628', 'NCT03446807', 'NCT04858074']\n",
      "   Query 75 metrics: Precision@10: 0.1000, Recall@10: 0.0071, F1@10: 0.0132, AP: 0.2103, nDCG@10: 0.3576, MRR@10=0.5000\n",
      "    Total time for query: 0.23 seconds\n",
      "Date/time:2025-04-10 08:25:08\n",
      "\n",
      "Bi-encoder and cross-encoder - Overall evaluation metrics:\n",
      "Relevance Threshold: 2\n",
      "Mean Precision@10: 0.3173\n",
      "Mean Recall@10: 0.0720\n",
      "Mean F1@10: 0.1040\n",
      "Mean Average Precision (MAP): 0.3831\n",
      "Mean nDCG@10: 0.4299\n",
      "Mean MRR10: 0.5476\n",
      "Average total time per query: 0.29 seconds\n"
     ]
    },
    {
     "name": "stderr",
     "output_type": "stream",
     "text": [
      "\n"
     ]
    }
   ],
   "source": [
    "\"\"\"\n",
    "Zuveir Jameer\n",
    "2 April 2025\n",
    "Bi-encoder and cross-encoder selective based in similarity threshold\n",
    "\"\"\"\n",
    "\n",
    "import json\n",
    "import numpy as np\n",
    "from elasticsearch import Elasticsearch\n",
    "from tqdm import tqdm\n",
    "import torch\n",
    "from transformers import AutoTokenizer, AutoModelForSequenceClassification\n",
    "from sentence_transformers import SentenceTransformer\n",
    "import time\n",
    "from datetime import datetime\n",
    "import pandas as pd\n",
    "\n",
    "# Load Model: Cross-encoder for re-ranking\n",
    "\n",
    "cross_tokenizer = AutoTokenizer.from_pretrained(\"cross-encoder/ms-marco-MiniLM-L6-v2\")\n",
    "cross_model = AutoModelForSequenceClassification.from_pretrained(\"cross-encoder/ms-marco-MiniLM-L6-v2\")\n",
    "\n",
    "cross_model.eval()\n",
    "device = torch.device(\"mps\" if torch.backends.mps.is_available() else \"cpu\")\n",
    "cross_model.to(device)\n",
    "\n",
    "# Evaluation Metric Functions\n",
    "def precision_at_k(re_ranked_docs, relevant_docs, k):\n",
    "    top_k_docs = re_ranked_docs[:k]\n",
    "    num_relevant_in_k = sum(1 for doc in top_k_docs \n",
    "                            if doc in relevant_docs and relevant_docs[doc] > 0)\n",
    "    return num_relevant_in_k / k if k else 0.0\n",
    "\n",
    "def recall_at_k(re_ranked_docs, relevant_docs, k):\n",
    "    top_k_docs = re_ranked_docs[:k]\n",
    "    total_relevant = sum(1 for doc, rel in relevant_docs.items() if rel > 0)\n",
    "    if total_relevant == 0:\n",
    "        return 0.0\n",
    "    num_relevant_in_k = sum(1 for doc in top_k_docs \n",
    "                            if doc in relevant_docs and relevant_docs[doc] > 0)\n",
    "    return num_relevant_in_k / total_relevant\n",
    "\n",
    "def f1_at_k(re_ranked_docs, relevant_docs, k):\n",
    "    p = precision_at_k(re_ranked_docs, relevant_docs, k)\n",
    "    r = recall_at_k(re_ranked_docs, relevant_docs, k)\n",
    "    if (p + r) == 0:\n",
    "        return 0.0\n",
    "    return 2 * (p * r) / (p + r)\n",
    "\n",
    "def average_precision(re_ranked_docs, relevant_docs):\n",
    "    if not relevant_docs:\n",
    "        return 0.0\n",
    "    \n",
    "    relevant_indices = [\n",
    "        i for i, doc in enumerate(re_ranked_docs)\n",
    "        if doc in relevant_docs and relevant_docs[doc] > 0\n",
    "    ]\n",
    "    if not relevant_indices:\n",
    "        return 0.0\n",
    "    \n",
    "    ap_sum = 0.0\n",
    "    for idx, rank_pos in enumerate(relevant_indices, start=1):\n",
    "        prec = precision_at_k(re_ranked_docs, relevant_docs, rank_pos+1)\n",
    "        ap_sum += prec\n",
    "    return ap_sum / len(relevant_indices)\n",
    "\n",
    "def ndcg_at_k(re_ranked_docs, relevant_docs, k):\n",
    "    def dcg(scores):\n",
    "        return sum(((2**s - 1) / np.log2(idx + 2)) for idx, s in enumerate(scores))\n",
    "    \n",
    "    top_k_docs = re_ranked_docs[:k]\n",
    "    actual_scores = [relevant_docs[doc] if doc in relevant_docs else 0 for doc in top_k_docs]\n",
    "    actual_dcg = dcg(actual_scores)\n",
    "    \n",
    "    sorted_rels = sorted(relevant_docs.values(), reverse=True)[:k]\n",
    "    ideal_dcg = dcg(sorted_rels)\n",
    "    \n",
    "    if ideal_dcg == 0:\n",
    "        return 0.0\n",
    "    return actual_dcg / ideal_dcg\n",
    "\n",
    "def mrr_at_k(re_ranked_docs, relevant_docs, k):\n",
    "    for i, doc_id in enumerate(re_ranked_docs[:k], start=1):\n",
    "        if doc_id in relevant_docs and relevant_docs[doc_id] > 0:\n",
    "            return 1.0 / i\n",
    "    return 0.0\n",
    "\n",
    "# Data Loading\n",
    "def load_jsonl(filename):\n",
    "    with open(filename, \"r\") as f:\n",
    "        return [json.loads(line) for line in f]\n",
    "\n",
    "queries = load_jsonl(\"trec_ct_2021_query.jsonl\")\n",
    "qrels_list = load_jsonl(\"trec_ct_2021_qrels.jsonl\")\n",
    "\n",
    "# Create a dictionary mapping query_id to {doc_id: relevance}\n",
    "qrels = {}\n",
    "for q in qrels_list:\n",
    "    qid = q[\"query_id\"]\n",
    "    if qid not in qrels:\n",
    "        qrels[qid] = {}\n",
    "    relevance = int(q.get(\"relevance\", 0))\n",
    "    qrels[qid][q[\"doc_id\"]] = relevance\n",
    "\n",
    "print(f\"Loaded {len(queries)} queries\")\n",
    "print(f\"Loaded qrels for {len(qrels)} queries\")\n",
    "\n",
    "RELEVANCE_THRESHOLD = 2\n",
    "\n",
    "filtered_qrels = {\n",
    "    qid: {doc: rel for doc, rel in rels.items() if rel >= RELEVANCE_THRESHOLD}\n",
    "    for qid, rels in qrels.items()\n",
    "}\n",
    "\n",
    "ndcg_qrels = {\n",
    "    qid: {doc: rel for doc, rel in rels.items()}\n",
    "    for qid, rels in qrels.items()\n",
    "}\n",
    "\n",
    "\n",
    "# Dense Retrieval (Stage 1)\n",
    "def search_detailed_descrption(query_vector, K=100):\n",
    "    \"\"\"\n",
    "    Retrieve candidate documents using dense vector search with cosine similarity.\n",
    "    Each document in ES has a pre-computed vector in the field \n",
    "    'detailed_descrption_vector_2'.\n",
    "    \n",
    "    Returns a list of tuples: (doc_id, similarity_score)\n",
    "    \"\"\"\n",
    "    search_body = {\n",
    "      \"query\": {\n",
    "        \"script_score\": {\n",
    "          \"query\": {\n",
    "            \"bool\": {\n",
    "              \"must\": [\n",
    "                {\"match_all\": {}},\n",
    "                {\"exists\": {\"field\": \"detailed_descrption_vector_1\"}}\n",
    "              ]\n",
    "            }\n",
    "          },\n",
    "          \"script\": {\n",
    "            \"source\": \"cosineSimilarity(params.query_vector, 'detailed_descrption_vector_1') + 1.0\",\n",
    "            \"params\": {\"query_vector\": query_vector}\n",
    "          }\n",
    "        }\n",
    "      }\n",
    "    }\n",
    "    response = es.search(index=\"ir_dev_sentence_index\", body=search_body, size=K)\n",
    "    results = []\n",
    "    for hit in response['hits']['hits']:\n",
    "        doc_id = hit[\"_source\"][\"doc_id\"]\n",
    "        score = hit[\"_score\"]\n",
    "        results.append((doc_id, score))\n",
    "    return results\n",
    "\n",
    "def get_document_text(doc_id):\n",
    "    \"\"\"\n",
    "    Retrieve the detailed description for a document given its ID.\n",
    "    Make sure that the field name matches your index mapping.\n",
    "    \"\"\"\n",
    "    query = {\n",
    "        \"query\": {\n",
    "            \"term\": {\"doc_id.keyword\": doc_id}\n",
    "        }\n",
    "    }\n",
    "    response = es.search(index=\"ir_dev_sentence_index\", body=query, size=1)\n",
    "    hits = response.get(\"hits\", {}).get(\"hits\", [])\n",
    "    if hits:\n",
    "        doc_text = hits[0][\"_source\"].get(\"detailed_descrption\", \"\").strip()\n",
    "        return doc_text if doc_text else None\n",
    "    else:\n",
    "        return None\n",
    "\n",
    "K = 40  # Number of candidates from dense retrieval\n",
    "top_k = 10  # Number of results from re-ranker\n",
    "\n",
    "def cross_encoder_rerank(query_text, candidate_doc_ids, top_k=top_k):\n",
    "    candidate_pairs = []\n",
    "    valid_doc_ids = []\n",
    "    for doc_id in candidate_doc_ids:\n",
    "        try:\n",
    "            doc_text = get_document_text(doc_id)\n",
    "            if doc_text is None or not doc_text.strip():\n",
    "                continue\n",
    "            candidate_pairs.append((query_text, doc_text))\n",
    "            valid_doc_ids.append(doc_id)\n",
    "        except Exception as e:\n",
    "            print(f\"Error fetching doc {doc_id}: {e}\")\n",
    "            continue\n",
    "\n",
    "    if not candidate_pairs:\n",
    "        print(\"No valid candidate pairs found; returning original candidates.\")\n",
    "        return candidate_doc_ids\n",
    "\n",
    "    inputs = cross_tokenizer.batch_encode_plus(\n",
    "        candidate_pairs, \n",
    "        padding=True, \n",
    "        truncation=True, \n",
    "        return_tensors=\"pt\"\n",
    "    )\n",
    "    inputs = {k: v.to(cross_model.device) for k, v in inputs.items()}\n",
    "\n",
    "    with torch.no_grad():\n",
    "        outputs = cross_model(**inputs)\n",
    "\n",
    "    # Handle both regression and classification styles\n",
    "    if outputs.logits.shape[-1] == 1:\n",
    "        scores = outputs.logits.squeeze(-1)\n",
    "    else:\n",
    "        scores = torch.softmax(outputs.logits, dim=1)[:, 1]\n",
    "\n",
    "    ranked = sorted(\n",
    "        zip(valid_doc_ids, scores.tolist()), \n",
    "        key=lambda x: x[1], \n",
    "        reverse=True\n",
    "    )\n",
    "\n",
    "    if top_k is not None:\n",
    "        ranked = ranked[:top_k]\n",
    "\n",
    "    return [doc_id for doc_id, score in ranked]\n",
    "\n",
    "\n",
    "# Main Processing Loop\n",
    "\n",
    "all_metrics = []\n",
    "\n",
    "# Define a threshold on the bi-encoder’s similarity score.\n",
    "# Note: Since the script adds 1.0 to cosine similarity (range [-1,1]),\n",
    "# scores range from 0 to 2. Hyperparameter to tune.\n",
    "similarity_threshold = 1.6 \n",
    "\n",
    "print(\"Processing queries and retrieving documents...\")\n",
    "for query in tqdm(queries, total=len(queries)):\n",
    "    qid = query[\"query_id\"]\n",
    "    query_text = query[\"text\"]\n",
    "    if not query_text.strip():\n",
    "        print(f\"Query {qid} is empty, skipping.\")\n",
    "        continue\n",
    "    \n",
    "    start_time = time.time()\n",
    "    \n",
    "    # Stage 1: Get the dense vector for the query and retrieve candidates\n",
    "    query_vector = get_embedding(query_text) \n",
    "    try:\n",
    "        # Now retrieved_docs_with_scores is a list of tuples: (doc_id, score)\n",
    "        retrieved_docs_with_scores = search_detailed_descrption(query_vector, K)\n",
    "        if not retrieved_docs_with_scores:\n",
    "            print(f\"No documents retrieved for query {qid}\")\n",
    "            continue\n",
    "        # Separate doc_ids and scores\n",
    "        retrieved_docs = [doc for doc, score in retrieved_docs_with_scores]\n",
    "        top_bi_score = retrieved_docs_with_scores[0][1]\n",
    "        print(f\"Query {qid} Stage 1 retrieved docs: {retrieved_docs}\")\n",
    "        print(f\"Query {qid} top bi-encoder score: {top_bi_score:.4f}\")\n",
    "    except Exception as e:\n",
    "        print(f\"Error retrieving documents for query {qid}: {e}\")\n",
    "        continue\n",
    "\n",
    "    # Stage 2: Decide based on similarity threshold whether to apply cross-encoder based on bi-encoder top score.\n",
    "    if top_bi_score < similarity_threshold:\n",
    "        print(f\"Query {qid}: Top bi-encoder score {top_bi_score:.4f} is below threshold {similarity_threshold}, applying cross-encoder re-ranking\")\n",
    "        try:\n",
    "            re_ranked_docs = cross_encoder_rerank(query_text, retrieved_docs)\n",
    "        except Exception as e:\n",
    "            print(f\"Error in cross encoder re-ranking for query {qid}: {e}\")\n",
    "            re_ranked_docs = retrieved_docs\n",
    "    else:\n",
    "        print(f\"Query {qid}: Top bi-encoder score {top_bi_score:.4f} exceeds threshold {similarity_threshold}, skipping cross-encoder re-ranking\")\n",
    "        re_ranked_docs = retrieved_docs\n",
    "\n",
    "    total_time = time.time() - start_time\n",
    "    \n",
    "    # Evaluate using filtered qrels (ensure your evaluation functions are correct)\n",
    "    relevant = filtered_qrels.get(qid, {})\n",
    "    ndcg_relevant = ndcg_qrels.get(qid, {})\n",
    "    p10 = precision_at_k(re_ranked_docs, relevant, top_k)\n",
    "    r10 = recall_at_k(re_ranked_docs, relevant, top_k)\n",
    "    f1 = f1_at_k(re_ranked_docs, relevant, top_k)\n",
    "    ap = average_precision(re_ranked_docs, relevant)\n",
    "    ndcg = ndcg_at_k(re_ranked_docs, ndcg_relevant, top_k)\n",
    "    mrr_val = mrr_at_k(re_ranked_docs, relevant, top_k)\n",
    "\n",
    "    all_metrics.append({\n",
    "        \"query_id\": qid, \n",
    "        \"precision\": p10, \n",
    "        \"recall\": r10, \n",
    "        \"f1\": f1, \n",
    "        \"ap\": ap, \n",
    "        \"ndcg\": ndcg,\n",
    "        \"mrr\": mrr_val,\n",
    "        \"time_seconds\": total_time\n",
    "    })\n",
    "    print(f\"  Query {qid} stage 2 retrieved (final): {re_ranked_docs}\")\n",
    "    print(f\"   Query {qid} metrics: Precision@{top_k}: {p10:.4f}, Recall@{top_k}: {r10:.4f}, F1@{top_k}: {f1:.4f}, AP: {ap:.4f}, nDCG@{top_k}: {ndcg:.4f}, MRR@{top_k}={mrr_val:.4f}\")\n",
    "    print(f\"    Total time for query: {total_time:.2f} seconds\")\n",
    "    \n",
    "if all_metrics:\n",
    "    avg_precision = np.mean([m[\"precision\"] for m in all_metrics])\n",
    "    avg_recall = np.mean([m[\"recall\"] for m in all_metrics])\n",
    "    avg_f1 = np.mean([m[\"f1\"] for m in all_metrics])\n",
    "    avg_ap = np.mean([m[\"ap\"] for m in all_metrics])\n",
    "    avg_ndcg = np.mean([m[\"ndcg\"] for m in all_metrics])\n",
    "    avg_mrr = np.mean([m[\"mrr\"] for m in all_metrics])\n",
    "    avg_time = np.mean([m[\"time_seconds\"] for m in all_metrics])\n",
    "\n",
    "    current_time = datetime.now().strftime(\"%Y-%m-%d %H:%M:%S\")\n",
    "    print(f\"Date/time:{current_time}\")\n",
    "    print(\"\\nBi-encoder and cross-encoder - Overall evaluation metrics:\")\n",
    "    print(f\"Relevance Threshold: {RELEVANCE_THRESHOLD}\")\n",
    "    print(\"Mean Precision@{}: {:.4f}\".format(top_k, avg_precision))\n",
    "    print(\"Mean Recall@{}: {:.4f}\".format(top_k, avg_recall))\n",
    "    print(\"Mean F1@{}: {:.4f}\".format(top_k, avg_f1))\n",
    "    print(\"Mean Average Precision (MAP): {:.4f}\".format(avg_ap))\n",
    "    print(\"Mean nDCG@{}: {:.4f}\".format(top_k, avg_ndcg))\n",
    "    print(f\"Mean MRR{top_k}: {avg_mrr:.4f}\")\n",
    "    print(f\"Average total time per query: {avg_time:.2f} seconds\")\n",
    "else:\n",
    "    print(\"No query metrics to average.\")\n",
    "\n",
    "# Export the computed results for each query\n",
    "df = pd.DataFrame(all_metrics)\n",
    "df = df[[\n",
    "    \"query_id\",\n",
    "    \"precision\",\n",
    "    \"recall\",\n",
    "    \"f1\",\n",
    "    \"ap\",\n",
    "    \"ndcg\",\n",
    "    \"mrr\",\n",
    "    \"time_seconds\"\n",
    "]]\n",
    "output_file = f\"sentence_embedding_bi_and_Cross-encoding_metrics_similarity {similarity_threshold} Threshold.xlsx\"\n",
    "df.to_excel(output_file, index=False)\n",
    "print(f\"Metrics successfully exported to {output_file}\")\n",
    "\n",
    "# Export final computed results\n",
    "data = {\n",
    "    \"Test\": \"Bi-encoder + Cross-encoder\",\n",
    "    \"Date/Time\": [current_time],\n",
    "    \"Relevance Threshold\": [RELEVANCE_THRESHOLD],\n",
    "    f\"Mean Precision@{top_k}\": [avg_precision],\n",
    "    f\"Mean Recall@{top_k}\": [avg_recall],\n",
    "    f\"Mean F1@{top_k}\": [avg_f1],\n",
    "    \"Mean Average Precision (MAP)\": [avg_ap],\n",
    "    f\"Mean nDCG@{top_k}\": [avg_ndcg],\n",
    "    f\"Mean MRR@{top_k}\": [avg_mrr],\n",
    "    \"Avg Time per Query (s)\": [avg_time],\n",
    "}\n",
    "df = pd.DataFrame(data)\n",
    "xlsx_filename = f\"evaluation_results_sentence_embeddings_bi_and_Cross-encoding_similarity {similarity_threshold} Threshold .xlsx\"\n",
    "df.to_excel(xlsx_filename, index=False)\n",
    "print(f\"\\nMetrics have been exported to {xlsx_filename}\")\n"
   ]
  },
  {
   "cell_type": "markdown",
   "metadata": {},
   "source": [
    "### Bi-encoder and cross-encoder on selected documents based on Score Range threshold"
   ]
  },
  {
   "cell_type": "code",
   "execution_count": null,
   "metadata": {},
   "outputs": [
    {
     "name": "stdout",
     "output_type": "stream",
     "text": [
      "Loaded 75 queries\n",
      "Loaded qrels for 75 queries\n",
      "Processing queries and retrieving documents...\n"
     ]
    },
    {
     "name": "stderr",
     "output_type": "stream",
     "text": [
      "  0%|          | 0/75 [00:00<?, ?it/s]/var/folders/b3/59dkzgnj0zxdhdx31d2ztm000000gn/T/ipykernel_54942/3806370774.py:145: DeprecationWarning: Received 'size' via a specific parameter in the presence of a 'body' parameter, which is deprecated and will be removed in a future version. Instead, use only 'body' or only specific parameters.\n",
      "  response = es.search(index=\"ir_dev_sentence_index\", body=search_body, size=K)\n",
      "  1%|▏         | 1/75 [00:00<00:17,  4.27it/s]"
     ]
    },
    {
     "name": "stdout",
     "output_type": "stream",
     "text": [
      "Query 1 Stage 1 retrieved docs: ['NCT00003470', 'NCT01502241', 'NCT00003537', 'NCT00003621', 'NCT00003471', 'NCT00004259', 'NCT00783393', 'NCT00003775', 'NCT03906448', 'NCT00033280', 'NCT02755987', 'NCT00028795', 'NCT03633552', 'NCT00841555', 'NCT00003375', 'NCT00473408', 'NCT00002569', 'NCT00003465', 'NCT00360828', 'NCT03022578']\n",
      "Query 1 top bi-encoder score: 1.7383\n",
      "Query 1 score range: 0.1176\n",
      "Query 1: Score range 0.1176 exceeds threshold 0.1, skipping cross-encoder re-ranking\n",
      "  Query 1 final retrieved docs: ['NCT00003470', 'NCT01502241', 'NCT00003537', 'NCT00003621', 'NCT00003471', 'NCT00004259', 'NCT00783393', 'NCT00003775', 'NCT03906448', 'NCT00033280', 'NCT02755987', 'NCT00028795', 'NCT03633552', 'NCT00841555', 'NCT00003375', 'NCT00473408', 'NCT00002569', 'NCT00003465', 'NCT00360828', 'NCT03022578']\n",
      "   Query 1 metrics: Precision@10: 0.4000, Recall@10: 0.0851, F1@10: 0.1404, AP: 0.8042, nDCG@10: 0.6502, MRR@10: 1.0000\n",
      "    Total time for query: 0.23 seconds\n"
     ]
    },
    {
     "name": "stderr",
     "output_type": "stream",
     "text": [
      "  3%|▎         | 2/75 [00:00<00:16,  4.40it/s]"
     ]
    },
    {
     "name": "stdout",
     "output_type": "stream",
     "text": [
      "Query 2 Stage 1 retrieved docs: ['NCT03628313', 'NCT02753023', 'NCT02395107', 'NCT03332745', 'NCT01157572', 'NCT02010177', 'NCT04061213', 'NCT03863132', 'NCT02792452', 'NCT00590135', 'NCT02531581', 'NCT04140019', 'NCT01980797', 'NCT01575249', 'NCT00624884', 'NCT02316587', 'NCT04344353', 'NCT02344199', 'NCT03867708', 'NCT04144725']\n",
      "Query 2 top bi-encoder score: 1.7217\n",
      "Query 2 score range: 0.1293\n",
      "Query 2: Score range 0.1293 exceeds threshold 0.1, skipping cross-encoder re-ranking\n",
      "  Query 2 final retrieved docs: ['NCT03628313', 'NCT02753023', 'NCT02395107', 'NCT03332745', 'NCT01157572', 'NCT02010177', 'NCT04061213', 'NCT03863132', 'NCT02792452', 'NCT00590135', 'NCT02531581', 'NCT04140019', 'NCT01980797', 'NCT01575249', 'NCT00624884', 'NCT02316587', 'NCT04344353', 'NCT02344199', 'NCT03867708', 'NCT04144725']\n",
      "   Query 2 metrics: Precision@10: 0.3000, Recall@10: 0.0217, F1@10: 0.0405, AP: 0.4955, nDCG@10: 0.5271, MRR@10: 1.0000\n",
      "    Total time for query: 0.22 seconds\n"
     ]
    },
    {
     "name": "stderr",
     "output_type": "stream",
     "text": [
      "  4%|▍         | 3/75 [00:00<00:15,  4.57it/s]"
     ]
    },
    {
     "name": "stdout",
     "output_type": "stream",
     "text": [
      "Query 3 Stage 1 retrieved docs: ['NCT03995823', 'NCT02098252', 'NCT04569279', 'NCT00363662', 'NCT04329208', 'NCT01158807', 'NCT02394678', 'NCT04037267', 'NCT03532165', 'NCT03291652', 'NCT04572568', 'NCT04567277', 'NCT02775318', 'NCT03150524', 'NCT03691870', 'NCT00235248', 'NCT03477188', 'NCT00029315', 'NCT03676868', 'NCT01856699']\n",
      "Query 3 top bi-encoder score: 1.6888\n",
      "Query 3 score range: 0.1126\n",
      "Query 3: Score range 0.1126 exceeds threshold 0.1, skipping cross-encoder re-ranking\n",
      "  Query 3 final retrieved docs: ['NCT03995823', 'NCT02098252', 'NCT04569279', 'NCT00363662', 'NCT04329208', 'NCT01158807', 'NCT02394678', 'NCT04037267', 'NCT03532165', 'NCT03291652', 'NCT04572568', 'NCT04567277', 'NCT02775318', 'NCT03150524', 'NCT03691870', 'NCT00235248', 'NCT03477188', 'NCT00029315', 'NCT03676868', 'NCT01856699']\n",
      "   Query 3 metrics: Precision@10: 0.3000, Recall@10: 0.0938, F1@10: 0.1429, AP: 0.6271, nDCG@10: 0.4782, MRR@10: 1.0000\n",
      "    Total time for query: 0.21 seconds\n"
     ]
    },
    {
     "name": "stderr",
     "output_type": "stream",
     "text": [
      "  5%|▌         | 4/75 [00:00<00:16,  4.36it/s]"
     ]
    },
    {
     "name": "stdout",
     "output_type": "stream",
     "text": [
      "Query 4 Stage 1 retrieved docs: ['NCT02012088', 'NCT01009970', 'NCT00577798', 'NCT02776891', 'NCT00392834', 'NCT03995147', 'NCT00689845', 'NCT01786018', 'NCT04759586', 'NCT01359592', 'NCT00486759', 'NCT03697512', 'NCT01046825', 'NCT00040690', 'NCT01390584', 'NCT01856192', 'NCT04112238', 'NCT00003337', 'NCT00455286', 'NCT00944567']\n",
      "Query 4 top bi-encoder score: 1.5824\n",
      "Query 4 score range: 0.1204\n",
      "Query 4: Score range 0.1204 exceeds threshold 0.1, skipping cross-encoder re-ranking\n",
      "  Query 4 final retrieved docs: ['NCT02012088', 'NCT01009970', 'NCT00577798', 'NCT02776891', 'NCT00392834', 'NCT03995147', 'NCT00689845', 'NCT01786018', 'NCT04759586', 'NCT01359592', 'NCT00486759', 'NCT03697512', 'NCT01046825', 'NCT00040690', 'NCT01390584', 'NCT01856192', 'NCT04112238', 'NCT00003337', 'NCT00455286', 'NCT00944567']\n",
      "   Query 4 metrics: Precision@10: 0.0000, Recall@10: 0.0000, F1@10: 0.0000, AP: 0.1408, nDCG@10: 0.0284, MRR@10: 0.0000\n",
      "    Total time for query: 0.24 seconds\n",
      "Query 5 Stage 1 retrieved docs: ['NCT00287508', 'NCT00235248', 'NCT03477188', 'NCT03070067', 'NCT01114815', 'NCT04825080', 'NCT04431609', 'NCT02310191', 'NCT03344276', 'NCT03291652', 'NCT02141932', 'NCT01799070', 'NCT00514592', 'NCT03721523', 'NCT02961127', 'NCT03377465', 'NCT01208025', 'NCT01599195', 'NCT01263301', 'NCT03702244']\n",
      "Query 5 top bi-encoder score: 1.6406\n",
      "Query 5 score range: 0.0689\n",
      "Query 5: Score range 0.0689 is below threshold 0.1, applying cross-encoder re-ranking\n"
     ]
    },
    {
     "name": "stderr",
     "output_type": "stream",
     "text": [
      "/var/folders/b3/59dkzgnj0zxdhdx31d2ztm000000gn/T/ipykernel_54942/3806370774.py:162: DeprecationWarning: Received 'size' via a specific parameter in the presence of a 'body' parameter, which is deprecated and will be removed in a future version. Instead, use only 'body' or only specific parameters.\n",
      "  response = es.search(index=\"ir_dev_sentence_index\", body=query, size=1)\n",
      "  7%|▋         | 5/75 [00:02<00:40,  1.73it/s]"
     ]
    },
    {
     "name": "stdout",
     "output_type": "stream",
     "text": [
      "  Query 5 final retrieved docs: ['NCT02961127', 'NCT03721523', 'NCT02310191', 'NCT00235248', 'NCT03477188', 'NCT03344276', 'NCT04825080', 'NCT01114815', 'NCT03377465', 'NCT02141932']\n",
      "   Query 5 metrics: Precision@10: 0.3000, Recall@10: 0.0252, F1@10: 0.0465, AP: 0.4206, nDCG@10: 0.3640, MRR@10: 0.5000\n",
      "    Total time for query: 1.20 seconds\n",
      "Query 6 Stage 1 retrieved docs: ['NCT01346059', 'NCT02076438', 'NCT00402727', 'NCT00269399', 'NCT03795233', 'NCT04090346', 'NCT00446355', 'NCT04083443', 'NCT01226992', 'NCT02667418', 'NCT03988855', 'NCT03039777', 'NCT03141775', 'NCT04170309', 'NCT00707213', 'NCT00404625', 'NCT00913042', 'NCT02987790', 'NCT02951481', 'NCT01114165']\n",
      "Query 6 top bi-encoder score: 1.6387\n",
      "Query 6 score range: 0.0331\n",
      "Query 6: Score range 0.0331 is below threshold 0.1, applying cross-encoder re-ranking\n"
     ]
    },
    {
     "name": "stderr",
     "output_type": "stream",
     "text": [
      "  8%|▊         | 6/75 [00:03<00:47,  1.44it/s]"
     ]
    },
    {
     "name": "stdout",
     "output_type": "stream",
     "text": [
      "  Query 6 final retrieved docs: ['NCT00269399', 'NCT02076438', 'NCT03039777', 'NCT00446355', 'NCT02667418', 'NCT01114165', 'NCT04170309', 'NCT00404625', 'NCT00913042', 'NCT03141775']\n",
      "   Query 6 metrics: Precision@10: 0.2000, Recall@10: 0.0171, F1@10: 0.0315, AP: 0.8333, nDCG@10: 0.3301, MRR@10: 1.0000\n",
      "    Total time for query: 0.91 seconds\n",
      "Query 7 Stage 1 retrieved docs: ['NCT02377947', 'NCT03513900', 'NCT00740142', 'NCT03212872', 'NCT00281502', 'NCT03987893', 'NCT03513887', 'NCT01882855', 'NCT03954327', 'NCT02616705', 'NCT02649335', 'NCT00587197', 'NCT03451292', 'NCT04736836', 'NCT03161106', 'NCT01383460', 'NCT00380614', 'NCT03023189', 'NCT00553423', 'NCT01970748']\n",
      "Query 7 top bi-encoder score: 1.7270\n",
      "Query 7 score range: 0.0842\n",
      "Query 7: Score range 0.0842 is below threshold 0.1, applying cross-encoder re-ranking\n"
     ]
    },
    {
     "name": "stderr",
     "output_type": "stream",
     "text": [
      "  9%|▉         | 7/75 [00:03<00:52,  1.31it/s]"
     ]
    },
    {
     "name": "stdout",
     "output_type": "stream",
     "text": [
      "  Query 7 final retrieved docs: ['NCT03023189', 'NCT01970748', 'NCT03513887', 'NCT00587197', 'NCT03212872', 'NCT00380614', 'NCT02377947', 'NCT03513900', 'NCT00553423', 'NCT04736836']\n",
      "   Query 7 metrics: Precision@10: 0.4000, Recall@10: 0.0320, F1@10: 0.0593, AP: 0.4833, nDCG@10: 0.3815, MRR@10: 0.3333\n",
      "    Total time for query: 0.91 seconds\n",
      "Query 8 Stage 1 retrieved docs: ['NCT02138786', 'NCT00800943', 'NCT00309881', 'NCT01171378', 'NCT02535286', 'NCT03907670', 'NCT04271956', 'NCT04660045', 'NCT01723839', 'NCT01110850', 'NCT02582320', 'NCT03153514', 'NCT01576588', 'NCT03495492', 'NCT03892044', 'NCT00086840', 'NCT03619512', 'NCT02420912', 'NCT00868478', 'NCT00074282']\n",
      "Query 8 top bi-encoder score: 1.7027\n",
      "Query 8 score range: 0.0982\n",
      "Query 8: Score range 0.0982 is below threshold 0.1, applying cross-encoder re-ranking\n"
     ]
    },
    {
     "name": "stderr",
     "output_type": "stream",
     "text": [
      " 11%|█         | 8/75 [00:04<00:54,  1.23it/s]"
     ]
    },
    {
     "name": "stdout",
     "output_type": "stream",
     "text": [
      "  Query 8 final retrieved docs: ['NCT04660045', 'NCT04271956', 'NCT03153514', 'NCT02582320', 'NCT01171378', 'NCT02138786', 'NCT00086840', 'NCT00309881', 'NCT01110850', 'NCT03619512']\n",
      "   Query 8 metrics: Precision@10: 0.8000, Recall@10: 0.0870, F1@10: 0.1569, AP: 0.6844, nDCG@10: 0.7585, MRR@10: 0.5000\n",
      "    Total time for query: 0.92 seconds\n",
      "Query 9 Stage 1 retrieved docs: ['NCT02365610', 'NCT04153175', 'NCT02899611', 'NCT04542629', 'NCT01126307', 'NCT00056576', 'NCT01991041', 'NCT00165828', 'NCT00013845', 'NCT00236847', 'NCT00520741', 'NCT00236860', 'NCT00236873', 'NCT01392768', 'NCT01332539', 'NCT04513860', 'NCT02369471', 'NCT01393743', 'NCT00236730', 'NCT01284556']\n",
      "Query 9 top bi-encoder score: 1.7158\n",
      "Query 9 score range: 0.0784\n",
      "Query 9: Score range 0.0784 is below threshold 0.1, applying cross-encoder re-ranking\n"
     ]
    },
    {
     "name": "stderr",
     "output_type": "stream",
     "text": [
      " 12%|█▏        | 9/75 [00:05<00:53,  1.23it/s]"
     ]
    },
    {
     "name": "stdout",
     "output_type": "stream",
     "text": [
      "  Query 9 final retrieved docs: ['NCT00056576', 'NCT04153175', 'NCT02899611', 'NCT00236860', 'NCT04542629', 'NCT00236873', 'NCT00236847', 'NCT04513860', 'NCT00520741', 'NCT00013845']\n",
      "   Query 9 metrics: Precision@10: 0.1000, Recall@10: 0.0769, F1@10: 0.0870, AP: 0.1000, nDCG@10: 0.3474, MRR@10: 0.1000\n",
      "    Total time for query: 0.82 seconds\n",
      "Query 10 Stage 1 retrieved docs: ['NCT03731260', 'NCT00132015', 'NCT00769587', 'NCT02380222', 'NCT00457288', 'NCT03401060', 'NCT00233454', 'NCT03770273', 'NCT04615663', 'NCT00044122', 'NCT00814073', 'NCT02441166', 'NCT02808793', 'NCT00429533', 'NCT02415608', 'NCT03580655', 'NCT01920204', 'NCT01266369', 'NCT01807598', 'NCT00001756']\n",
      "Query 10 top bi-encoder score: 1.7031\n",
      "Query 10 score range: 0.0994\n",
      "Query 10: Score range 0.0994 is below threshold 0.1, applying cross-encoder re-ranking\n"
     ]
    },
    {
     "name": "stderr",
     "output_type": "stream",
     "text": [
      " 13%|█▎        | 10/75 [00:06<00:52,  1.23it/s]"
     ]
    },
    {
     "name": "stdout",
     "output_type": "stream",
     "text": [
      "  Query 10 final retrieved docs: ['NCT00814073', 'NCT03770273', 'NCT00044122', 'NCT01920204', 'NCT01807598', 'NCT00233454', 'NCT02441166', 'NCT00457288', 'NCT00429533', 'NCT00132015']\n",
      "   Query 10 metrics: Precision@10: 0.2000, Recall@10: 0.1818, F1@10: 0.1905, AP: 0.3095, nDCG@10: 0.4104, MRR@10: 0.3333\n",
      "    Total time for query: 0.80 seconds\n",
      "Query 11 Stage 1 retrieved docs: ['NCT02724176', 'NCT02408887', 'NCT02814032', 'NCT03830242', 'NCT02548715', 'NCT03669432', 'NCT01103557', 'NCT01106443', 'NCT01510002', 'NCT03570021', 'NCT01428167', 'NCT03359668', 'NCT01075269', 'NCT01089335', 'NCT04076514', 'NCT04424485', 'NCT03813706', 'NCT02138214', 'NCT02648399', 'NCT04336696']\n",
      "Query 11 top bi-encoder score: 1.7595\n",
      "Query 11 score range: 0.0729\n",
      "Query 11: Score range 0.0729 is below threshold 0.1, applying cross-encoder re-ranking\n"
     ]
    },
    {
     "name": "stderr",
     "output_type": "stream",
     "text": [
      " 15%|█▍        | 11/75 [00:07<00:52,  1.21it/s]"
     ]
    },
    {
     "name": "stdout",
     "output_type": "stream",
     "text": [
      "  Query 11 final retrieved docs: ['NCT03359668', 'NCT03830242', 'NCT02724176', 'NCT01089335', 'NCT02814032', 'NCT01075269', 'NCT02408887', 'NCT04076514', 'NCT04424485', 'NCT01510002']\n",
      "   Query 11 metrics: Precision@10: 0.0000, Recall@10: 0.0000, F1@10: 0.0000, AP: 0.0000, nDCG@10: 0.3333, MRR@10: 0.0000\n",
      "    Total time for query: 0.85 seconds\n"
     ]
    },
    {
     "name": "stderr",
     "output_type": "stream",
     "text": [
      " 16%|█▌        | 12/75 [00:07<00:40,  1.54it/s]"
     ]
    },
    {
     "name": "stdout",
     "output_type": "stream",
     "text": [
      "Query 12 Stage 1 retrieved docs: ['NCT01678144', 'NCT04820764', 'NCT04350372', 'NCT04259411', 'NCT04774172', 'NCT02033811', 'NCT04161079', 'NCT03012178', 'NCT04080362', 'NCT02719912', 'NCT03271762', 'NCT03389542', 'NCT03511716', 'NCT04156295', 'NCT03958773', 'NCT03706833', 'NCT04029363', 'NCT01431222', 'NCT00209274', 'NCT01703806']\n",
      "Query 12 top bi-encoder score: 1.7682\n",
      "Query 12 score range: 0.1074\n",
      "Query 12: Score range 0.1074 exceeds threshold 0.1, skipping cross-encoder re-ranking\n",
      "  Query 12 final retrieved docs: ['NCT01678144', 'NCT04820764', 'NCT04350372', 'NCT04259411', 'NCT04774172', 'NCT02033811', 'NCT04161079', 'NCT03012178', 'NCT04080362', 'NCT02719912', 'NCT03271762', 'NCT03389542', 'NCT03511716', 'NCT04156295', 'NCT03958773', 'NCT03706833', 'NCT04029363', 'NCT01431222', 'NCT00209274', 'NCT01703806']\n",
      "   Query 12 metrics: Precision@10: 0.7000, Recall@10: 0.0673, F1@10: 0.1228, AP: 0.7435, nDCG@10: 0.7314, MRR@10: 1.0000\n",
      "    Total time for query: 0.24 seconds\n"
     ]
    },
    {
     "name": "stderr",
     "output_type": "stream",
     "text": [
      " 17%|█▋        | 13/75 [00:07<00:32,  1.94it/s]"
     ]
    },
    {
     "name": "stdout",
     "output_type": "stream",
     "text": [
      "Query 13 Stage 1 retrieved docs: ['NCT00037921', 'NCT03190421', 'NCT02384200', 'NCT03931408', 'NCT02594631', 'NCT04495699', 'NCT04781985', 'NCT01083979', 'NCT00722735', 'NCT04071340', 'NCT02419339', 'NCT01628900', 'NCT00554996', 'NCT03048682', 'NCT01979042', 'NCT02929160', 'NCT01563796', 'NCT01305681', 'NCT01661621', 'NCT02497781']\n",
      "Query 13 top bi-encoder score: 1.7464\n",
      "Query 13 score range: 0.1432\n",
      "Query 13: Score range 0.1432 exceeds threshold 0.1, skipping cross-encoder re-ranking\n",
      "  Query 13 final retrieved docs: ['NCT00037921', 'NCT03190421', 'NCT02384200', 'NCT03931408', 'NCT02594631', 'NCT04495699', 'NCT04781985', 'NCT01083979', 'NCT00722735', 'NCT04071340', 'NCT02419339', 'NCT01628900', 'NCT00554996', 'NCT03048682', 'NCT01979042', 'NCT02929160', 'NCT01563796', 'NCT01305681', 'NCT01661621', 'NCT02497781']\n",
      "   Query 13 metrics: Precision@10: 0.0000, Recall@10: 0.0000, F1@10: 0.0000, AP: 0.0769, nDCG@10: 0.0000, MRR@10: 0.0000\n",
      "    Total time for query: 0.21 seconds\n"
     ]
    },
    {
     "name": "stderr",
     "output_type": "stream",
     "text": [
      " 19%|█▊        | 14/75 [00:08<00:26,  2.34it/s]"
     ]
    },
    {
     "name": "stdout",
     "output_type": "stream",
     "text": [
      "Query 14 Stage 1 retrieved docs: ['NCT00380068', 'NCT01707225', 'NCT02062554', 'NCT02657356', 'NCT00004492', 'NCT01165528', 'NCT02279745', 'NCT02691533', 'NCT02275936', 'NCT01972477', 'NCT00938977', 'NCT03229174', 'NCT01215136', 'NCT00993408', 'NCT04501874', 'NCT02268630', 'NCT04782856', 'NCT03451734', 'NCT02627664', 'NCT02441491']\n",
      "Query 14 top bi-encoder score: 1.6574\n",
      "Query 14 score range: 0.1047\n",
      "Query 14: Score range 0.1047 exceeds threshold 0.1, skipping cross-encoder re-ranking\n",
      "  Query 14 final retrieved docs: ['NCT00380068', 'NCT01707225', 'NCT02062554', 'NCT02657356', 'NCT00004492', 'NCT01165528', 'NCT02279745', 'NCT02691533', 'NCT02275936', 'NCT01972477', 'NCT00938977', 'NCT03229174', 'NCT01215136', 'NCT00993408', 'NCT04501874', 'NCT02268630', 'NCT04782856', 'NCT03451734', 'NCT02627664', 'NCT02441491']\n",
      "   Query 14 metrics: Precision@10: 0.0000, Recall@10: 0.0000, F1@10: 0.0000, AP: 0.0909, nDCG@10: 0.0000, MRR@10: 0.0000\n",
      "    Total time for query: 0.22 seconds\n",
      "Query 15 Stage 1 retrieved docs: ['NCT03259880', 'NCT01563133', 'NCT02068677', 'NCT02703545', 'NCT01774162', 'NCT03022110', 'NCT01773031', 'NCT00587132', 'NCT03411629', 'NCT02343692', 'NCT03354065', 'NCT02487277', 'NCT02422095', 'NCT03320733', 'NCT01276886', 'NCT01526590', 'NCT01371240', 'NCT04196504', 'NCT04570852', 'NCT03303352']\n",
      "Query 15 top bi-encoder score: 1.6462\n",
      "Query 15 score range: 0.0650\n",
      "Query 15: Score range 0.0650 is below threshold 0.1, applying cross-encoder re-ranking\n"
     ]
    },
    {
     "name": "stderr",
     "output_type": "stream",
     "text": [
      " 20%|██        | 15/75 [00:08<00:34,  1.73it/s]"
     ]
    },
    {
     "name": "stdout",
     "output_type": "stream",
     "text": [
      "  Query 15 final retrieved docs: ['NCT03022110', 'NCT02487277', 'NCT00587132', 'NCT03354065', 'NCT03320733', 'NCT02343692', 'NCT03411629', 'NCT04570852', 'NCT02703545', 'NCT01563133']\n",
      "   Query 15 metrics: Precision@10: 0.3000, Recall@10: 0.0210, F1@10: 0.0392, AP: 0.2407, nDCG@10: 0.2980, MRR@10: 0.2000\n",
      "    Total time for query: 0.93 seconds\n",
      "Query 16 Stage 1 retrieved docs: ['NCT00517933', 'NCT00946114', 'NCT01441934', 'NCT01936350', 'NCT00145938', 'NCT02435303', 'NCT01043627', 'NCT00795639', 'NCT03460470', 'NCT01726049', 'NCT00380068', 'NCT00454207', 'NCT00763867', 'NCT00793338', 'NCT00302211', 'NCT01449253', 'NCT01616381', 'NCT00303004', 'NCT02060487', 'NCT01365585']\n",
      "Query 16 top bi-encoder score: 1.7397\n",
      "Query 16 score range: 0.0647\n",
      "Query 16: Score range 0.0647 is below threshold 0.1, applying cross-encoder re-ranking\n"
     ]
    },
    {
     "name": "stderr",
     "output_type": "stream",
     "text": [
      " 21%|██▏       | 16/75 [00:09<00:40,  1.47it/s]"
     ]
    },
    {
     "name": "stdout",
     "output_type": "stream",
     "text": [
      "  Query 16 final retrieved docs: ['NCT01726049', 'NCT00793338', 'NCT00303004', 'NCT00380068', 'NCT01449253', 'NCT00763867', 'NCT00517933', 'NCT01616381', 'NCT03460470', 'NCT00145938']\n",
      "   Query 16 metrics: Precision@10: 0.2000, Recall@10: 0.0323, F1@10: 0.0556, AP: 0.3667, nDCG@10: 0.3152, MRR@10: 0.3333\n",
      "    Total time for query: 0.91 seconds\n"
     ]
    },
    {
     "name": "stderr",
     "output_type": "stream",
     "text": [
      " 23%|██▎       | 17/75 [00:10<00:32,  1.78it/s]"
     ]
    },
    {
     "name": "stdout",
     "output_type": "stream",
     "text": [
      "Query 17 Stage 1 retrieved docs: ['NCT00981708', 'NCT01548573', 'NCT00038233', 'NCT00006890', 'NCT00038090', 'NCT00558896', 'NCT00256776', 'NCT00049673', 'NCT00040937', 'NCT00120263', 'NCT00416897', 'NCT00064337', 'NCT01134484', 'NCT00007995', 'NCT00538824', 'NCT00319865', 'NCT00531453', 'NCT01084837', 'NCT01208818', 'NCT01731886']\n",
      "Query 17 top bi-encoder score: 1.7500\n",
      "Query 17 score range: 0.1143\n",
      "Query 17: Score range 0.1143 exceeds threshold 0.1, skipping cross-encoder re-ranking\n",
      "  Query 17 final retrieved docs: ['NCT00981708', 'NCT01548573', 'NCT00038233', 'NCT00006890', 'NCT00038090', 'NCT00558896', 'NCT00256776', 'NCT00049673', 'NCT00040937', 'NCT00120263', 'NCT00416897', 'NCT00064337', 'NCT01134484', 'NCT00007995', 'NCT00538824', 'NCT00319865', 'NCT00531453', 'NCT01084837', 'NCT01208818', 'NCT01731886']\n",
      "   Query 17 metrics: Precision@10: 0.2000, Recall@10: 0.0157, F1@10: 0.0292, AP: 0.2563, nDCG@10: 0.3399, MRR@10: 0.1667\n",
      "    Total time for query: 0.29 seconds\n",
      "Query 18 Stage 1 retrieved docs: ['NCT00804557', 'NCT01494337', 'NCT00270504', 'NCT03239951', 'NCT01186237', 'NCT03863743', 'NCT00839969', 'NCT04529369', 'NCT04551417', 'NCT01790776', 'NCT04363970', 'NCT03339076', 'NCT04307537', 'NCT02591381', 'NCT04825314', 'NCT03428113', 'NCT04452890', 'NCT02524236', 'NCT03098147', 'NCT02594631']\n",
      "Query 18 top bi-encoder score: 1.7157\n",
      "Query 18 score range: 0.0639\n",
      "Query 18: Score range 0.0639 is below threshold 0.1, applying cross-encoder re-ranking\n"
     ]
    },
    {
     "name": "stderr",
     "output_type": "stream",
     "text": [
      " 24%|██▍       | 18/75 [00:11<00:37,  1.54it/s]"
     ]
    },
    {
     "name": "stdout",
     "output_type": "stream",
     "text": [
      "  Query 18 final retrieved docs: ['NCT02524236', 'NCT03239951', 'NCT01494337', 'NCT04529369', 'NCT04307537', 'NCT03339076', 'NCT02591381', 'NCT04363970', 'NCT00804557', 'NCT00839969']\n",
      "   Query 18 metrics: Precision@10: 0.0000, Recall@10: 0.0000, F1@10: 0.0000, AP: 0.0000, nDCG@10: 0.1242, MRR@10: 0.0000\n",
      "    Total time for query: 0.86 seconds\n"
     ]
    },
    {
     "name": "stderr",
     "output_type": "stream",
     "text": [
      " 25%|██▌       | 19/75 [00:11<00:30,  1.86it/s]"
     ]
    },
    {
     "name": "stdout",
     "output_type": "stream",
     "text": [
      "Query 19 Stage 1 retrieved docs: ['NCT02781207', 'NCT02683174', 'NCT00300625', 'NCT01916070', 'NCT00005202', 'NCT03974412', 'NCT01548352', 'NCT01509534', 'NCT02786940', 'NCT01463358', 'NCT00292825', 'NCT04124237', 'NCT03876652', 'NCT01814228', 'NCT01802398', 'NCT02971163', 'NCT04533425', 'NCT00120094', 'NCT03388905', 'NCT01113268']\n",
      "Query 19 top bi-encoder score: 1.7235\n",
      "Query 19 score range: 0.1403\n",
      "Query 19: Score range 0.1403 exceeds threshold 0.1, skipping cross-encoder re-ranking\n",
      "  Query 19 final retrieved docs: ['NCT02781207', 'NCT02683174', 'NCT00300625', 'NCT01916070', 'NCT00005202', 'NCT03974412', 'NCT01548352', 'NCT01509534', 'NCT02786940', 'NCT01463358', 'NCT00292825', 'NCT04124237', 'NCT03876652', 'NCT01814228', 'NCT01802398', 'NCT02971163', 'NCT04533425', 'NCT00120094', 'NCT03388905', 'NCT01113268']\n",
      "   Query 19 metrics: Precision@10: 0.7000, Recall@10: 0.0609, F1@10: 0.1120, AP: 0.7534, nDCG@10: 0.7744, MRR@10: 1.0000\n",
      "    Total time for query: 0.27 seconds\n",
      "Query 20 Stage 1 retrieved docs: ['NCT00242541', 'NCT00171886', 'NCT03710499', 'NCT01206270', 'NCT02952885', 'NCT04860037', 'NCT02274311', 'NCT00921609', 'NCT00616408', 'NCT00001860', 'NCT00145405', 'NCT01371643', 'NCT00627796', 'NCT03973450', 'NCT00171730', 'NCT00784615', 'NCT03401008', 'NCT00994214', 'NCT00182091', 'NCT01368133']\n",
      "Query 20 top bi-encoder score: 1.6172\n",
      "Query 20 score range: 0.0806\n",
      "Query 20: Score range 0.0806 is below threshold 0.1, applying cross-encoder re-ranking\n"
     ]
    },
    {
     "name": "stderr",
     "output_type": "stream",
     "text": [
      " 27%|██▋       | 20/75 [00:12<00:33,  1.63it/s]"
     ]
    },
    {
     "name": "stdout",
     "output_type": "stream",
     "text": [
      "  Query 20 final retrieved docs: ['NCT00784615', 'NCT02274311', 'NCT01206270', 'NCT00921609', 'NCT00616408', 'NCT00627796', 'NCT00182091', 'NCT03973450', 'NCT01368133', 'NCT03401008']\n",
      "   Query 20 metrics: Precision@10: 0.2000, Recall@10: 0.0476, F1@10: 0.0769, AP: 0.2111, nDCG@10: 0.2554, MRR@10: 0.2000\n",
      "    Total time for query: 0.79 seconds\n"
     ]
    },
    {
     "name": "stderr",
     "output_type": "stream",
     "text": [
      " 28%|██▊       | 21/75 [00:12<00:27,  1.96it/s]"
     ]
    },
    {
     "name": "stdout",
     "output_type": "stream",
     "text": [
      "Query 21 Stage 1 retrieved docs: ['NCT03259880', 'NCT00523874', 'NCT04735055', 'NCT04196504', 'NCT03354065', 'NCT04570852', 'NCT02563080', 'NCT01796652', 'NCT04615702', 'NCT03342716', 'NCT04552028', 'NCT02528760', 'NCT04750044', 'NCT01015417', 'NCT02204189', 'NCT03643900', 'NCT03407534', 'NCT01583517', 'NCT04574297', 'NCT03411629']\n",
      "Query 21 top bi-encoder score: 1.7417\n",
      "Query 21 score range: 0.1634\n",
      "Query 21: Score range 0.1634 exceeds threshold 0.1, skipping cross-encoder re-ranking\n",
      "  Query 21 final retrieved docs: ['NCT03259880', 'NCT00523874', 'NCT04735055', 'NCT04196504', 'NCT03354065', 'NCT04570852', 'NCT02563080', 'NCT01796652', 'NCT04615702', 'NCT03342716', 'NCT04552028', 'NCT02528760', 'NCT04750044', 'NCT01015417', 'NCT02204189', 'NCT03643900', 'NCT03407534', 'NCT01583517', 'NCT04574297', 'NCT03411629']\n",
      "   Query 21 metrics: Precision@10: 0.5000, Recall@10: 0.1020, F1@10: 0.1695, AP: 0.6744, nDCG@10: 0.5728, MRR@10: 1.0000\n",
      "    Total time for query: 0.27 seconds\n",
      "Query 22 Stage 1 retrieved docs: ['NCT04033198', 'NCT01054417', 'NCT03236961', 'NCT03234296', 'NCT02404064', 'NCT00677417', 'NCT01967745', 'NCT04440150', 'NCT02742402', 'NCT03289351', 'NCT00413855', 'NCT02867072', 'NCT04594486', 'NCT00135603', 'NCT03570398', 'NCT04689906', 'NCT03591419', 'NCT00971438', 'NCT04634448', 'NCT03902262']\n",
      "Query 22 top bi-encoder score: 1.7712\n",
      "Query 22 score range: 0.0930\n",
      "Query 22: Score range 0.0930 is below threshold 0.1, applying cross-encoder re-ranking\n"
     ]
    },
    {
     "name": "stderr",
     "output_type": "stream",
     "text": [
      " 29%|██▉       | 22/75 [00:13<00:33,  1.60it/s]"
     ]
    },
    {
     "name": "stdout",
     "output_type": "stream",
     "text": [
      "  Query 22 final retrieved docs: ['NCT03902262', 'NCT04033198', 'NCT04440150', 'NCT00677417', 'NCT03289351', 'NCT03234296', 'NCT03236961', 'NCT03570398', 'NCT01967745', 'NCT04689906']\n",
      "   Query 22 metrics: Precision@10: 0.4000, Recall@10: 0.0563, F1@10: 0.0988, AP: 0.3068, nDCG@10: 0.3994, MRR@10: 0.1667\n",
      "    Total time for query: 0.89 seconds\n",
      "Query 23 Stage 1 retrieved docs: ['NCT03846570', 'NCT04674137', 'NCT01437735', 'NCT03363698', 'NCT01313637', 'NCT01313650', 'NCT04520230', 'NCT02415179', 'NCT00411567', 'NCT02340520', 'NCT02660853', 'NCT00182481', 'NCT00278083', 'NCT00509197', 'NCT01657487', 'NCT00217854', 'NCT00954850', 'NCT00839124', 'NCT01562093', 'NCT01742338']\n",
      "Query 23 top bi-encoder score: 1.7317\n",
      "Query 23 score range: 0.0558\n",
      "Query 23: Score range 0.0558 is below threshold 0.1, applying cross-encoder re-ranking\n"
     ]
    },
    {
     "name": "stderr",
     "output_type": "stream",
     "text": [
      " 31%|███       | 23/75 [00:14<00:37,  1.40it/s]"
     ]
    },
    {
     "name": "stdout",
     "output_type": "stream",
     "text": [
      "  Query 23 final retrieved docs: ['NCT03363698', 'NCT01313637', 'NCT01313650', 'NCT02660853', 'NCT02415179', 'NCT01742338', 'NCT04674137', 'NCT02340520', 'NCT04520230', 'NCT01562093']\n",
      "   Query 23 metrics: Precision@10: 0.2000, Recall@10: 0.0238, F1@10: 0.0426, AP: 0.2250, nDCG@10: 0.2112, MRR@10: 0.2500\n",
      "    Total time for query: 0.92 seconds\n",
      "Query 24 Stage 1 retrieved docs: ['NCT04764903', 'NCT01661621', 'NCT00685633', 'NCT02961114', 'NCT01815697', 'NCT03630926', 'NCT00596011', 'NCT02074644', 'NCT01563796', 'NCT04766268', 'NCT00381108', 'NCT02808013', 'NCT00407329', 'NCT03239951', 'NCT04055675', 'NCT00193648', 'NCT02326805', 'NCT02283684', 'NCT00561262', 'NCT01799902']\n",
      "Query 24 top bi-encoder score: 1.6154\n",
      "Query 24 score range: 0.0543\n",
      "Query 24: Score range 0.0543 is below threshold 0.1, applying cross-encoder re-ranking\n"
     ]
    },
    {
     "name": "stderr",
     "output_type": "stream",
     "text": [
      " 32%|███▏      | 24/75 [00:14<00:38,  1.32it/s]"
     ]
    },
    {
     "name": "stdout",
     "output_type": "stream",
     "text": [
      "  Query 24 final retrieved docs: ['NCT04766268', 'NCT02961114', 'NCT03239951', 'NCT00407329', 'NCT04055675', 'NCT01661621', 'NCT04764903', 'NCT01563796', 'NCT00596011', 'NCT01815697']\n",
      "   Query 24 metrics: Precision@10: 0.4000, Recall@10: 0.0360, F1@10: 0.0661, AP: 0.5405, nDCG@10: 0.4818, MRR@10: 1.0000\n",
      "    Total time for query: 0.85 seconds\n",
      "Query 25 Stage 1 retrieved docs: ['NCT02897700', 'NCT04697043', 'NCT00542191', 'NCT03323346', 'NCT04567420', 'NCT03188393', 'NCT01501487', 'NCT01257152', 'NCT00881361', 'NCT04245150', 'NCT00696527', 'NCT03236974', 'NCT04293796', 'NCT01320488', 'NCT02670577', 'NCT02564848', 'NCT03354611', 'NCT03669952', 'NCT03144037', 'NCT00028340']\n",
      "Query 25 top bi-encoder score: 1.6806\n",
      "Query 25 score range: 0.0722\n",
      "Query 25: Score range 0.0722 is below threshold 0.1, applying cross-encoder re-ranking\n"
     ]
    },
    {
     "name": "stderr",
     "output_type": "stream",
     "text": [
      " 33%|███▎      | 25/75 [00:15<00:39,  1.28it/s]"
     ]
    },
    {
     "name": "stdout",
     "output_type": "stream",
     "text": [
      "  Query 25 final retrieved docs: ['NCT03236974', 'NCT03323346', 'NCT04567420', 'NCT01257152', 'NCT02897700', 'NCT01320488', 'NCT02564848', 'NCT04245150', 'NCT00542191', 'NCT01501487']\n",
      "   Query 25 metrics: Precision@10: 0.1000, Recall@10: 0.0135, F1@10: 0.0238, AP: 0.1667, nDCG@10: 0.0784, MRR@10: 0.1667\n",
      "    Total time for query: 0.85 seconds\n"
     ]
    },
    {
     "name": "stderr",
     "output_type": "stream",
     "text": [
      " 35%|███▍      | 26/75 [00:16<00:30,  1.60it/s]"
     ]
    },
    {
     "name": "stdout",
     "output_type": "stream",
     "text": [
      "Query 26 Stage 1 retrieved docs: ['NCT01015417', 'NCT04308265', 'NCT03981315', 'NCT01492790', 'NCT03477253', 'NCT02156947', 'NCT02155244', 'NCT03709030', 'NCT04675190', 'NCT04615702', 'NCT02554097', 'NCT00161083', 'NCT02472509', 'NCT00863642', 'NCT02833103', 'NCT03259880', 'NCT04197908', 'NCT03883464', 'NCT02430285', 'NCT03577873']\n",
      "Query 26 top bi-encoder score: 1.7892\n",
      "Query 26 score range: 0.1316\n",
      "Query 26: Score range 0.1316 exceeds threshold 0.1, skipping cross-encoder re-ranking\n",
      "  Query 26 final retrieved docs: ['NCT01015417', 'NCT04308265', 'NCT03981315', 'NCT01492790', 'NCT03477253', 'NCT02156947', 'NCT02155244', 'NCT03709030', 'NCT04675190', 'NCT04615702', 'NCT02554097', 'NCT00161083', 'NCT02472509', 'NCT00863642', 'NCT02833103', 'NCT03259880', 'NCT04197908', 'NCT03883464', 'NCT02430285', 'NCT03577873']\n",
      "   Query 26 metrics: Precision@10: 0.4000, Recall@10: 0.0460, F1@10: 0.0825, AP: 0.3944, nDCG@10: 0.4409, MRR@10: 0.3333\n",
      "    Total time for query: 0.26 seconds\n",
      "Query 27 Stage 1 retrieved docs: ['NCT03520660', 'NCT00751426', 'NCT02825212', 'NCT03170076', 'NCT02483156', 'NCT03186313', 'NCT03693586', 'NCT03014986', 'NCT03296930', 'NCT03547895', 'NCT01360268', 'NCT01289652', 'NCT00887081', 'NCT04546802', 'NCT01750515', 'NCT00152581', 'NCT01872988', 'NCT00512941', 'NCT03226717', 'NCT00001982']\n",
      "Query 27 top bi-encoder score: 1.7890\n",
      "Query 27 score range: 0.0863\n",
      "Query 27: Score range 0.0863 is below threshold 0.1, applying cross-encoder re-ranking\n"
     ]
    },
    {
     "name": "stderr",
     "output_type": "stream",
     "text": [
      " 36%|███▌      | 27/75 [00:16<00:33,  1.42it/s]"
     ]
    },
    {
     "name": "stdout",
     "output_type": "stream",
     "text": [
      "  Query 27 final retrieved docs: ['NCT01750515', 'NCT03296930', 'NCT03170076', 'NCT01289652', 'NCT03520660', 'NCT01360268', 'NCT00887081', 'NCT02825212', 'NCT04546802', 'NCT03547895']\n",
      "   Query 27 metrics: Precision@10: 0.4000, Recall@10: 0.0702, F1@10: 0.1194, AP: 0.7750, nDCG@10: 0.5984, MRR@10: 1.0000\n",
      "    Total time for query: 0.89 seconds\n",
      "Query 28 Stage 1 retrieved docs: ['NCT02340520', 'NCT01114386', 'NCT02571582', 'NCT01142531', 'NCT01893918', 'NCT00938977', 'NCT02434536', 'NCT02154880', 'NCT01314807', 'NCT03227211', 'NCT02329522', 'NCT00380068', 'NCT00287625', 'NCT00668408', 'NCT01940328', 'NCT04105075', 'NCT02531542', 'NCT01616901', 'NCT04520230', 'NCT01657487']\n",
      "Query 28 top bi-encoder score: 1.6765\n",
      "Query 28 score range: 0.0726\n",
      "Query 28: Score range 0.0726 is below threshold 0.1, applying cross-encoder re-ranking\n"
     ]
    },
    {
     "name": "stderr",
     "output_type": "stream",
     "text": [
      " 37%|███▋      | 28/75 [00:17<00:36,  1.29it/s]"
     ]
    },
    {
     "name": "stdout",
     "output_type": "stream",
     "text": [
      "  Query 28 final retrieved docs: ['NCT02329522', 'NCT03227211', 'NCT00287625', 'NCT01142531', 'NCT01114386', 'NCT02434536', 'NCT01616901', 'NCT02340520', 'NCT01893918', 'NCT02571582']\n",
      "   Query 28 metrics: Precision@10: 0.2000, Recall@10: 0.0140, F1@10: 0.0261, AP: 0.4167, nDCG@10: 0.2720, MRR@10: 0.5000\n",
      "    Total time for query: 0.94 seconds\n",
      "Query 29 Stage 1 retrieved docs: ['NCT00590044', 'NCT02548494', 'NCT03001323', 'NCT02006342', 'NCT00970567', 'NCT00133809', 'NCT00467246', 'NCT02130180', 'NCT03107208', 'NCT00179127', 'NCT00911625', 'NCT02777073', 'NCT02280174', 'NCT02157155', 'NCT00338104', 'NCT04567225', 'NCT00663624', 'NCT01195090', 'NCT01049412', 'NCT01654120']\n",
      "Query 29 top bi-encoder score: 1.7116\n",
      "Query 29 score range: 0.0919\n",
      "Query 29: Score range 0.0919 is below threshold 0.1, applying cross-encoder re-ranking\n"
     ]
    },
    {
     "name": "stderr",
     "output_type": "stream",
     "text": [
      " 39%|███▊      | 29/75 [00:18<00:36,  1.27it/s]"
     ]
    },
    {
     "name": "stdout",
     "output_type": "stream",
     "text": [
      "  Query 29 final retrieved docs: ['NCT00133809', 'NCT01195090', 'NCT03107208', 'NCT00590044', 'NCT00970567', 'NCT00467246', 'NCT00338104', 'NCT00911625', 'NCT02280174', 'NCT02777073']\n",
      "   Query 29 metrics: Precision@10: 0.3000, Recall@10: 0.0417, F1@10: 0.0732, AP: 0.6333, nDCG@10: 0.4976, MRR@10: 1.0000\n",
      "    Total time for query: 0.81 seconds\n",
      "Query 30 Stage 1 retrieved docs: ['NCT03106935', 'NCT04249271', 'NCT02868476', 'NCT03984006', 'NCT00552487', 'NCT00001159', 'NCT02319538', 'NCT00715572', 'NCT02725879', 'NCT02567877', 'NCT04752202', 'NCT03634371', 'NCT04573907', 'NCT02126683', 'NCT00230802', 'NCT01581463', 'NCT02710175', 'NCT00287144', 'NCT04613323', 'NCT03569787']\n",
      "Query 30 top bi-encoder score: 1.7267\n",
      "Query 30 score range: 0.0796\n",
      "Query 30: Score range 0.0796 is below threshold 0.1, applying cross-encoder re-ranking\n"
     ]
    },
    {
     "name": "stderr",
     "output_type": "stream",
     "text": [
      " 40%|████      | 30/75 [00:19<00:35,  1.25it/s]"
     ]
    },
    {
     "name": "stdout",
     "output_type": "stream",
     "text": [
      "  Query 30 final retrieved docs: ['NCT00552487', 'NCT02725879', 'NCT04249271', 'NCT00287144', 'NCT00715572', 'NCT03106935', 'NCT02319538', 'NCT02567877', 'NCT04613323', 'NCT02868476']\n",
      "   Query 30 metrics: Precision@10: 0.1000, Recall@10: 0.0208, F1@10: 0.0345, AP: 1.0000, nDCG@10: 0.4273, MRR@10: 1.0000\n",
      "    Total time for query: 0.83 seconds\n",
      "Query 31 Stage 1 retrieved docs: ['NCT03998254', 'NCT00312286', 'NCT00117884', 'NCT01599416', 'NCT03837028', 'NCT02780960', 'NCT00743626', 'NCT00154479', 'NCT00343213', 'NCT00872937', 'NCT02365935', 'NCT02346227', 'NCT00091130', 'NCT04171505', 'NCT03577925', 'NCT00006444', 'NCT01131312', 'NCT01133509', 'NCT00201370', 'NCT03920800']\n",
      "Query 31 top bi-encoder score: 1.6806\n",
      "Query 31 score range: 0.0595\n",
      "Query 31: Score range 0.0595 is below threshold 0.1, applying cross-encoder re-ranking\n"
     ]
    },
    {
     "name": "stderr",
     "output_type": "stream",
     "text": [
      " 41%|████▏     | 31/75 [00:20<00:35,  1.25it/s]"
     ]
    },
    {
     "name": "stdout",
     "output_type": "stream",
     "text": [
      "  Query 31 final retrieved docs: ['NCT03837028', 'NCT01131312', 'NCT00006444', 'NCT02780960', 'NCT00312286', 'NCT00117884', 'NCT00201370', 'NCT04171505', 'NCT02346227', 'NCT02365935']\n",
      "   Query 31 metrics: Precision@10: 0.1000, Recall@10: 0.0222, F1@10: 0.0364, AP: 1.0000, nDCG@10: 0.3113, MRR@10: 1.0000\n",
      "    Total time for query: 0.81 seconds\n"
     ]
    },
    {
     "name": "stderr",
     "output_type": "stream",
     "text": [
      " 43%|████▎     | 32/75 [00:20<00:27,  1.56it/s]"
     ]
    },
    {
     "name": "stdout",
     "output_type": "stream",
     "text": [
      "Query 32 Stage 1 retrieved docs: ['NCT04132375', 'NCT03690024', 'NCT01252199', 'NCT01406288', 'NCT02336516', 'NCT03576183', 'NCT02870751', 'NCT02205541', 'NCT03261297', 'NCT03275792', 'NCT01638039', 'NCT03362970', 'NCT03778125', 'NCT04491799', 'NCT03586206', 'NCT03257553', 'NCT02773446', 'NCT03596827', 'NCT02127814', 'NCT04269174']\n",
      "Query 32 top bi-encoder score: 1.7607\n",
      "Query 32 score range: 0.2084\n",
      "Query 32: Score range 0.2084 exceeds threshold 0.1, skipping cross-encoder re-ranking\n",
      "  Query 32 final retrieved docs: ['NCT04132375', 'NCT03690024', 'NCT01252199', 'NCT01406288', 'NCT02336516', 'NCT03576183', 'NCT02870751', 'NCT02205541', 'NCT03261297', 'NCT03275792', 'NCT01638039', 'NCT03362970', 'NCT03778125', 'NCT04491799', 'NCT03586206', 'NCT03257553', 'NCT02773446', 'NCT03596827', 'NCT02127814', 'NCT04269174']\n",
      "   Query 32 metrics: Precision@10: 0.5000, Recall@10: 0.1923, F1@10: 0.2778, AP: 0.5327, nDCG@10: 0.5758, MRR@10: 0.5000\n",
      "    Total time for query: 0.26 seconds\n",
      "Query 33 Stage 1 retrieved docs: ['NCT00769002', 'NCT01978262', 'NCT00253734', 'NCT02213354', 'NCT00943358', 'NCT03028974', 'NCT02908269', 'NCT00546585', 'NCT02746783', 'NCT01181336', 'NCT01721083', 'NCT01317745', 'NCT00230750', 'NCT01317758', 'NCT03020498', 'NCT01436370', 'NCT02921997', 'NCT00973895', 'NCT01827462', 'NCT00814385']\n",
      "Query 33 top bi-encoder score: 1.6439\n",
      "Query 33 score range: 0.0734\n",
      "Query 33: Score range 0.0734 is below threshold 0.1, applying cross-encoder re-ranking\n"
     ]
    },
    {
     "name": "stderr",
     "output_type": "stream",
     "text": [
      " 44%|████▍     | 33/75 [00:21<00:29,  1.42it/s]"
     ]
    },
    {
     "name": "stdout",
     "output_type": "stream",
     "text": [
      "  Query 33 final retrieved docs: ['NCT01317745', 'NCT01317758', 'NCT01181336', 'NCT00253734', 'NCT01721083', 'NCT01978262', 'NCT02908269', 'NCT01827462', 'NCT00769002', 'NCT00546585']\n",
      "   Query 33 metrics: Precision@10: 0.5000, Recall@10: 0.0246, F1@10: 0.0469, AP: 0.8211, nDCG@10: 0.6051, MRR@10: 1.0000\n",
      "    Total time for query: 0.85 seconds\n",
      "Query 34 Stage 1 retrieved docs: ['NCT03445624', 'NCT01694953', 'NCT01725048', 'NCT01093196', 'NCT03057860', 'NCT04426435', 'NCT00001549', 'NCT00455286', 'NCT02633813', 'NCT01149707', 'NCT03772561', 'NCT00625742', 'NCT00614809', 'NCT02441491', 'NCT00879359', 'NCT03323346', 'NCT00380068', 'NCT02657356', 'NCT02691533', 'NCT01579929']\n",
      "Query 34 top bi-encoder score: 1.5874\n",
      "Query 34 score range: 0.0414\n",
      "Query 34: Score range 0.0414 is below threshold 0.1, applying cross-encoder re-ranking\n"
     ]
    },
    {
     "name": "stderr",
     "output_type": "stream",
     "text": [
      " 45%|████▌     | 34/75 [00:22<00:30,  1.32it/s]"
     ]
    },
    {
     "name": "stdout",
     "output_type": "stream",
     "text": [
      "  Query 34 final retrieved docs: ['NCT01725048', 'NCT00001549', 'NCT01694953', 'NCT03445624', 'NCT00380068', 'NCT00879359', 'NCT02441491', 'NCT04426435', 'NCT03323346', 'NCT00614809']\n",
      "   Query 34 metrics: Precision@10: 0.0000, Recall@10: 0.0000, F1@10: 0.0000, AP: 0.0000, nDCG@10: 0.0000, MRR@10: 0.0000\n",
      "    Total time for query: 0.88 seconds\n",
      "Query 35 Stage 1 retrieved docs: ['NCT00471861', 'NCT00880425', 'NCT01946126', 'NCT00126035', 'NCT01804517', 'NCT01687101', 'NCT01090050', 'NCT01300546', 'NCT01917474', 'NCT03766412', 'NCT04623203', 'NCT02322333', 'NCT00274170', 'NCT00335803', 'NCT04698525', 'NCT02021474', 'NCT00837044', 'NCT00754611', 'NCT00642564', 'NCT04287140']\n",
      "Query 35 top bi-encoder score: 1.6795\n",
      "Query 35 score range: 0.0498\n",
      "Query 35: Score range 0.0498 is below threshold 0.1, applying cross-encoder re-ranking\n"
     ]
    },
    {
     "name": "stderr",
     "output_type": "stream",
     "text": [
      " 47%|████▋     | 35/75 [00:23<00:31,  1.27it/s]"
     ]
    },
    {
     "name": "stdout",
     "output_type": "stream",
     "text": [
      "  Query 35 final retrieved docs: ['NCT04698525', 'NCT01090050', 'NCT00642564', 'NCT01300546', 'NCT02021474', 'NCT04287140', 'NCT00837044', 'NCT00880425', 'NCT02322333', 'NCT00471861']\n",
      "   Query 35 metrics: Precision@10: 0.0000, Recall@10: 0.0000, F1@10: 0.0000, AP: 0.0000, nDCG@10: 0.2051, MRR@10: 0.0000\n",
      "    Total time for query: 0.87 seconds\n",
      "Query 36 Stage 1 retrieved docs: ['NCT00770276', 'NCT00667498', 'NCT00622765', 'NCT02463435', 'NCT04354285', 'NCT02436343', 'NCT04327375', 'NCT04595006', 'NCT02717832', 'NCT00704197', 'NCT02062554', 'NCT04782856', 'NCT02691533', 'NCT04575194', 'NCT01665820', 'NCT01066091', 'NCT02452567', 'NCT04791397', 'NCT01636427', 'NCT00879125']\n",
      "Query 36 top bi-encoder score: 1.6548\n",
      "Query 36 score range: 0.0645\n",
      "Query 36: Score range 0.0645 is below threshold 0.1, applying cross-encoder re-ranking\n"
     ]
    },
    {
     "name": "stderr",
     "output_type": "stream",
     "text": [
      " 48%|████▊     | 36/75 [00:24<00:32,  1.21it/s]"
     ]
    },
    {
     "name": "stdout",
     "output_type": "stream",
     "text": [
      "  Query 36 final retrieved docs: ['NCT02436343', 'NCT00770276', 'NCT00704197', 'NCT01066091', 'NCT04575194', 'NCT00622765', 'NCT04354285', 'NCT04327375', 'NCT04791397', 'NCT02463435']\n",
      "   Query 36 metrics: Precision@10: 0.5000, Recall@10: 0.0272, F1@10: 0.0515, AP: 0.4800, nDCG@10: 0.4355, MRR@10: 0.5000\n",
      "    Total time for query: 0.92 seconds\n"
     ]
    },
    {
     "name": "stderr",
     "output_type": "stream",
     "text": [
      " 49%|████▉     | 37/75 [00:24<00:24,  1.53it/s]"
     ]
    },
    {
     "name": "stdout",
     "output_type": "stream",
     "text": [
      "Query 37 Stage 1 retrieved docs: ['NCT00228228', 'NCT04178980', 'NCT04465084', 'NCT01628315', 'NCT03736902', 'NCT01428726', 'NCT01110993', 'NCT00360906', 'NCT04578639', 'NCT00151801', 'NCT03586986', 'NCT04688788', 'NCT04832399', 'NCT02881567', 'NCT00676715', 'NCT00094172', 'NCT03979456', 'NCT04495556', 'NCT03709290', 'NCT00027300']\n",
      "Query 37 top bi-encoder score: 1.7691\n",
      "Query 37 score range: 0.1422\n",
      "Query 37: Score range 0.1422 exceeds threshold 0.1, skipping cross-encoder re-ranking\n",
      "  Query 37 final retrieved docs: ['NCT00228228', 'NCT04178980', 'NCT04465084', 'NCT01628315', 'NCT03736902', 'NCT01428726', 'NCT01110993', 'NCT00360906', 'NCT04578639', 'NCT00151801', 'NCT03586986', 'NCT04688788', 'NCT04832399', 'NCT02881567', 'NCT00676715', 'NCT00094172', 'NCT03979456', 'NCT04495556', 'NCT03709290', 'NCT00027300']\n",
      "   Query 37 metrics: Precision@10: 0.7000, Recall@10: 0.0412, F1@10: 0.0778, AP: 0.6658, nDCG@10: 0.6790, MRR@10: 0.5000\n",
      "    Total time for query: 0.24 seconds\n",
      "Query 38 Stage 1 retrieved docs: ['NCT02902536', 'NCT04226170', 'NCT01480596', 'NCT03792659', 'NCT04768465', 'NCT04674605', 'NCT00306033', 'NCT03315130', 'NCT03971422', 'NCT01727193', 'NCT04535843', 'NCT00619671', 'NCT03914638', 'NCT03920293', 'NCT00727194', 'NCT03772587', 'NCT01997229', 'NCT02950155', 'NCT03510546', 'NCT03052751']\n",
      "Query 38 top bi-encoder score: 1.7211\n",
      "Query 38 score range: 0.0912\n",
      "Query 38: Score range 0.0912 is below threshold 0.1, applying cross-encoder re-ranking\n"
     ]
    },
    {
     "name": "stderr",
     "output_type": "stream",
     "text": [
      " 51%|█████     | 38/75 [00:25<00:25,  1.43it/s]"
     ]
    },
    {
     "name": "stdout",
     "output_type": "stream",
     "text": [
      "  Query 38 final retrieved docs: ['NCT03914638', 'NCT02902536', 'NCT02950155', 'NCT00619671', 'NCT00306033', 'NCT04226170', 'NCT03510546', 'NCT04768465', 'NCT03792659']\n",
      "   Query 38 metrics: Precision@10: 0.7000, Recall@10: 0.1346, F1@10: 0.2258, AP: 0.8632, nDCG@10: 0.8209, MRR@10: 1.0000\n",
      "    Total time for query: 0.80 seconds\n"
     ]
    },
    {
     "name": "stderr",
     "output_type": "stream",
     "text": [
      " 52%|█████▏    | 39/75 [00:25<00:20,  1.78it/s]"
     ]
    },
    {
     "name": "stdout",
     "output_type": "stream",
     "text": [
      "Query 39 Stage 1 retrieved docs: ['NCT02625688', 'NCT04215601', 'NCT04099602', 'NCT02446951', 'NCT00653874', 'NCT01136577', 'NCT01203410', 'NCT04418180', 'NCT01762189', 'NCT02613676', 'NCT02774434', 'NCT04719104', 'NCT03942757', 'NCT01622699', 'NCT03055481', 'NCT02154165', 'NCT03183986', 'NCT00735319', 'NCT04251286', 'NCT03866213']\n",
      "Query 39 top bi-encoder score: 1.7804\n",
      "Query 39 score range: 0.1097\n",
      "Query 39: Score range 0.1097 exceeds threshold 0.1, skipping cross-encoder re-ranking\n",
      "  Query 39 final retrieved docs: ['NCT02625688', 'NCT04215601', 'NCT04099602', 'NCT02446951', 'NCT00653874', 'NCT01136577', 'NCT01203410', 'NCT04418180', 'NCT01762189', 'NCT02613676', 'NCT02774434', 'NCT04719104', 'NCT03942757', 'NCT01622699', 'NCT03055481', 'NCT02154165', 'NCT03183986', 'NCT00735319', 'NCT04251286', 'NCT03866213']\n",
      "   Query 39 metrics: Precision@10: 0.2000, Recall@10: 0.0588, F1@10: 0.0909, AP: 0.3660, nDCG@10: 0.3373, MRR@10: 0.2500\n",
      "    Total time for query: 0.25 seconds\n"
     ]
    },
    {
     "name": "stderr",
     "output_type": "stream",
     "text": [
      " 53%|█████▎    | 40/75 [00:25<00:16,  2.18it/s]"
     ]
    },
    {
     "name": "stdout",
     "output_type": "stream",
     "text": [
      "Query 40 Stage 1 retrieved docs: ['NCT00306046', 'NCT00051636', 'NCT00774020', 'NCT00480662', 'NCT02106455', 'NCT00747994', 'NCT00894075', 'NCT04222452', 'NCT02802384', 'NCT02056730', 'NCT03859895', 'NCT03993821', 'NCT00453128', 'NCT00195936', 'NCT00108394', 'NCT00066183', 'NCT02967042', 'NCT00417612', 'NCT00345839', 'NCT02603042']\n",
      "Query 40 top bi-encoder score: 1.7961\n",
      "Query 40 score range: 0.2640\n",
      "Query 40: Score range 0.2640 exceeds threshold 0.1, skipping cross-encoder re-ranking\n",
      "  Query 40 final retrieved docs: ['NCT00306046', 'NCT00051636', 'NCT00774020', 'NCT00480662', 'NCT02106455', 'NCT00747994', 'NCT00894075', 'NCT04222452', 'NCT02802384', 'NCT02056730', 'NCT03859895', 'NCT03993821', 'NCT00453128', 'NCT00195936', 'NCT00108394', 'NCT00066183', 'NCT02967042', 'NCT00417612', 'NCT00345839', 'NCT02603042']\n",
      "   Query 40 metrics: Precision@10: 0.7000, Recall@10: 0.6364, F1@10: 0.6667, AP: 0.9683, nDCG@10: 0.7936, MRR@10: 1.0000\n",
      "    Total time for query: 0.22 seconds\n",
      "Query 41 Stage 1 retrieved docs: ['NCT00443768', 'NCT00199394', 'NCT00203060', 'NCT01970813', 'NCT02745171', 'NCT03305588', 'NCT00526630', 'NCT01380899', 'NCT03433950', 'NCT04687878', 'NCT03297177', 'NCT00666653', 'NCT02060695', 'NCT01003002', 'NCT00001928', 'NCT00607451', 'NCT03011476', 'NCT02601144', 'NCT04858074', 'NCT00117195']\n",
      "Query 41 top bi-encoder score: 1.7180\n",
      "Query 41 score range: 0.0717\n",
      "Query 41: Score range 0.0717 is below threshold 0.1, applying cross-encoder re-ranking\n"
     ]
    },
    {
     "name": "stderr",
     "output_type": "stream",
     "text": [
      " 55%|█████▍    | 41/75 [00:26<00:20,  1.68it/s]"
     ]
    },
    {
     "name": "stdout",
     "output_type": "stream",
     "text": [
      "  Query 41 final retrieved docs: ['NCT03305588', 'NCT01380899', 'NCT03297177', 'NCT02745171', 'NCT02601144', 'NCT01003002', 'NCT01970813', 'NCT04687878', 'NCT00001928', 'NCT00607451']\n",
      "   Query 41 metrics: Precision@10: 0.2000, Recall@10: 0.0149, F1@10: 0.0278, AP: 0.5000, nDCG@10: 0.3469, MRR@10: 0.5000\n",
      "    Total time for query: 0.91 seconds\n",
      "Query 42 Stage 1 retrieved docs: ['NCT03580941', 'NCT03246542', 'NCT02637739', 'NCT00193648', 'NCT02989337', 'NCT02380560', 'NCT02507180', 'NCT03117010', 'NCT04374604', 'NCT03744988', 'NCT02308735', 'NCT01426724', 'NCT00878826', 'NCT03499561', 'NCT04852510', 'NCT02443259', 'NCT00158743', 'NCT03341221', 'NCT03665974', 'NCT01735799']\n",
      "Query 42 top bi-encoder score: 1.6122\n",
      "Query 42 score range: 0.0931\n",
      "Query 42: Score range 0.0931 is below threshold 0.1, applying cross-encoder re-ranking\n"
     ]
    },
    {
     "name": "stderr",
     "output_type": "stream",
     "text": [
      " 56%|█████▌    | 42/75 [00:27<00:23,  1.43it/s]"
     ]
    },
    {
     "name": "stdout",
     "output_type": "stream",
     "text": [
      "  Query 42 final retrieved docs: ['NCT03665974', 'NCT02380560', 'NCT02989337', 'NCT04852510', 'NCT02308735', 'NCT02443259', 'NCT03246542', 'NCT02637739', 'NCT03499561', 'NCT03744988']\n",
      "   Query 42 metrics: Precision@10: 0.0000, Recall@10: 0.0000, F1@10: 0.0000, AP: 0.0000, nDCG@10: 0.0212, MRR@10: 0.0000\n",
      "    Total time for query: 0.94 seconds\n",
      "Query 43 Stage 1 retrieved docs: ['NCT00269399', 'NCT02857582', 'NCT00350298', 'NCT04491799', 'NCT03964844', 'NCT00591357', 'NCT00304408', 'NCT01472978', 'NCT03586206', 'NCT02127814', 'NCT02076438', 'NCT00658151', 'NCT04070352', 'NCT01560832', 'NCT01687543', 'NCT02086916', 'NCT02355938', 'NCT01630096', 'NCT00861887', 'NCT03827447']\n",
      "Query 43 top bi-encoder score: 1.7630\n",
      "Query 43 score range: 0.0967\n",
      "Query 43: Score range 0.0967 is below threshold 0.1, applying cross-encoder re-ranking\n"
     ]
    },
    {
     "name": "stderr",
     "output_type": "stream",
     "text": [
      " 57%|█████▋    | 43/75 [00:28<00:24,  1.31it/s]"
     ]
    },
    {
     "name": "stdout",
     "output_type": "stream",
     "text": [
      "  Query 43 final retrieved docs: ['NCT02076438', 'NCT04491799', 'NCT00269399', 'NCT01687543', 'NCT02127814', 'NCT00350298', 'NCT02355938', 'NCT00304408', 'NCT01472978', 'NCT04070352']\n",
      "   Query 43 metrics: Precision@10: 0.2000, Recall@10: 0.0317, F1@10: 0.0548, AP: 0.2917, nDCG@10: 0.3506, MRR@10: 0.3333\n",
      "    Total time for query: 0.93 seconds\n",
      "Query 44 Stage 1 retrieved docs: ['NCT02791776', 'NCT04215497', 'NCT01661959', 'NCT04357561', 'NCT02820012', 'NCT04421157', 'NCT04226209', 'NCT04092335', 'NCT01019109', 'NCT02968043', 'NCT03427970', 'NCT01610908', 'NCT03929042', 'NCT02552615', 'NCT02237248', 'NCT02609009', 'NCT03915106', 'NCT04539522', 'NCT04203394', 'NCT02819245']\n",
      "Query 44 top bi-encoder score: 1.8269\n",
      "Query 44 score range: 0.0728\n",
      "Query 44: Score range 0.0728 is below threshold 0.1, applying cross-encoder re-ranking\n"
     ]
    },
    {
     "name": "stderr",
     "output_type": "stream",
     "text": [
      " 59%|█████▊    | 44/75 [00:29<00:25,  1.23it/s]"
     ]
    },
    {
     "name": "stdout",
     "output_type": "stream",
     "text": [
      "  Query 44 final retrieved docs: ['NCT02609009', 'NCT03929042', 'NCT04421157', 'NCT01610908', 'NCT02552615', 'NCT04357561', 'NCT02791776', 'NCT03427970', 'NCT03915106', 'NCT04215497']\n",
      "   Query 44 metrics: Precision@10: 0.0000, Recall@10: 0.0000, F1@10: 0.0000, AP: 0.0000, nDCG@10: 0.4074, MRR@10: 0.0000\n",
      "    Total time for query: 0.93 seconds\n",
      "Query 45 Stage 1 retrieved docs: ['NCT03431285', 'NCT02417298', 'NCT01932554', 'NCT00263562', 'NCT04301336', 'NCT04330183', 'NCT00000586', 'NCT03933397', 'NCT02434939', 'NCT03541980', 'NCT01119833', 'NCT01895361', 'NCT00102791', 'NCT04614610', 'NCT03682211', 'NCT00513617', 'NCT03502421', 'NCT00874172', 'NCT00834899', 'NCT02961218']\n",
      "Query 45 top bi-encoder score: 1.7053\n",
      "Query 45 score range: 0.0593\n",
      "Query 45: Score range 0.0593 is below threshold 0.1, applying cross-encoder re-ranking\n"
     ]
    },
    {
     "name": "stderr",
     "output_type": "stream",
     "text": [
      " 60%|██████    | 45/75 [00:30<00:25,  1.19it/s]"
     ]
    },
    {
     "name": "stdout",
     "output_type": "stream",
     "text": [
      "  Query 45 final retrieved docs: ['NCT03431285', 'NCT01932554', 'NCT00000586', 'NCT04330183', 'NCT03682211', 'NCT02434939', 'NCT00834899', 'NCT00263562', 'NCT00513617', 'NCT04301336']\n",
      "   Query 45 metrics: Precision@10: 0.6000, Recall@10: 0.0414, F1@10: 0.0774, AP: 0.7133, nDCG@10: 0.7560, MRR@10: 1.0000\n",
      "    Total time for query: 0.89 seconds\n"
     ]
    },
    {
     "name": "stderr",
     "output_type": "stream",
     "text": [
      " 61%|██████▏   | 46/75 [00:30<00:19,  1.51it/s]"
     ]
    },
    {
     "name": "stdout",
     "output_type": "stream",
     "text": [
      "Query 46 Stage 1 retrieved docs: ['NCT00685360', 'NCT03416309', 'NCT01600963', 'NCT03830671', 'NCT04766307', 'NCT00000796', 'NCT01785186', 'NCT02758236', 'NCT02901288', 'NCT01398618', 'NCT02349841', 'NCT02776150', 'NCT00130247', 'NCT03072576', 'NCT02821832', 'NCT04694586', 'NCT01011543', 'NCT01516203', 'NCT00864383', 'NCT00513396']\n",
      "Query 46 top bi-encoder score: 1.7679\n",
      "Query 46 score range: 0.1042\n",
      "Query 46: Score range 0.1042 exceeds threshold 0.1, skipping cross-encoder re-ranking\n",
      "  Query 46 final retrieved docs: ['NCT00685360', 'NCT03416309', 'NCT01600963', 'NCT03830671', 'NCT04766307', 'NCT00000796', 'NCT01785186', 'NCT02758236', 'NCT02901288', 'NCT01398618', 'NCT02349841', 'NCT02776150', 'NCT00130247', 'NCT03072576', 'NCT02821832', 'NCT04694586', 'NCT01011543', 'NCT01516203', 'NCT00864383', 'NCT00513396']\n",
      "   Query 46 metrics: Precision@10: 0.6000, Recall@10: 0.0545, F1@10: 0.1000, AP: 0.7225, nDCG@10: 0.6531, MRR@10: 1.0000\n",
      "    Total time for query: 0.25 seconds\n",
      "Query 47 Stage 1 retrieved docs: ['NCT02452502', 'NCT00287508', 'NCT01252875', 'NCT03070067', 'NCT04162587', 'NCT03670862', 'NCT02225834', 'NCT03477188', 'NCT00009243', 'NCT00243880', 'NCT00061373', 'NCT03377465', 'NCT03413202', 'NCT02180204', 'NCT04824911', 'NCT00894803', 'NCT04847752', 'NCT01976936', 'NCT00363662', 'NCT01737723']\n",
      "Query 47 top bi-encoder score: 1.6784\n",
      "Query 47 score range: 0.0610\n",
      "Query 47: Score range 0.0610 is below threshold 0.1, applying cross-encoder re-ranking\n"
     ]
    },
    {
     "name": "stderr",
     "output_type": "stream",
     "text": [
      " 63%|██████▎   | 47/75 [00:31<00:23,  1.20it/s]"
     ]
    },
    {
     "name": "stdout",
     "output_type": "stream",
     "text": [
      "  Query 47 final retrieved docs: ['NCT01737723', 'NCT03377465', 'NCT00061373', 'NCT00287508', 'NCT04847752', 'NCT02225834', 'NCT03413202', 'NCT03477188', 'NCT00363662', 'NCT02180204']\n",
      "   Query 47 metrics: Precision@10: 0.5000, Recall@10: 0.0391, F1@10: 0.0725, AP: 0.6333, nDCG@10: 0.5700, MRR@10: 1.0000\n",
      "    Total time for query: 1.23 seconds\n",
      "Query 48 Stage 1 retrieved docs: ['NCT01712360', 'NCT02464839', 'NCT03999437', 'NCT04110834', 'NCT04110860', 'NCT01396785', 'NCT01396811', 'NCT00848666', 'NCT01110330', 'NCT03745183', 'NCT03823040', 'NCT01290341', 'NCT02824926', 'NCT02860052', 'NCT01891305', 'NCT02606383', 'NCT00509275', 'NCT00856596', 'NCT02565940', 'NCT01519752']\n",
      "Query 48 top bi-encoder score: 1.6763\n",
      "Query 48 score range: 0.0914\n",
      "Query 48: Score range 0.0914 is below threshold 0.1, applying cross-encoder re-ranking\n"
     ]
    },
    {
     "name": "stderr",
     "output_type": "stream",
     "text": [
      " 64%|██████▍   | 48/75 [00:32<00:22,  1.19it/s]"
     ]
    },
    {
     "name": "stdout",
     "output_type": "stream",
     "text": [
      "  Query 48 final retrieved docs: ['NCT01290341', 'NCT02824926', 'NCT02464839', 'NCT02860052', 'NCT03745183', 'NCT00856596', 'NCT01712360', 'NCT02565940', 'NCT03823040', 'NCT01110330']\n",
      "   Query 48 metrics: Precision@10: 0.6000, Recall@10: 0.1250, F1@10: 0.2069, AP: 0.7620, nDCG@10: 0.7232, MRR@10: 1.0000\n",
      "    Total time for query: 0.86 seconds\n"
     ]
    },
    {
     "name": "stderr",
     "output_type": "stream",
     "text": [
      " 65%|██████▌   | 49/75 [00:32<00:17,  1.50it/s]"
     ]
    },
    {
     "name": "stdout",
     "output_type": "stream",
     "text": [
      "Query 49 Stage 1 retrieved docs: ['NCT00134745', 'NCT01066052', 'NCT00001221', 'NCT01687842', 'NCT00140998', 'NCT00420654', 'NCT01760668', 'NCT00001343', 'NCT00029159', 'NCT00443144', 'NCT00266656', 'NCT00191113', 'NCT01710696', 'NCT00013546', 'NCT01410045', 'NCT00006334', 'NCT03189160', 'NCT00870220', 'NCT00097552', 'NCT00406926']\n",
      "Query 49 top bi-encoder score: 1.8757\n",
      "Query 49 score range: 0.1770\n",
      "Query 49: Score range 0.1770 exceeds threshold 0.1, skipping cross-encoder re-ranking\n",
      "  Query 49 final retrieved docs: ['NCT00134745', 'NCT01066052', 'NCT00001221', 'NCT01687842', 'NCT00140998', 'NCT00420654', 'NCT01760668', 'NCT00001343', 'NCT00029159', 'NCT00443144', 'NCT00266656', 'NCT00191113', 'NCT01710696', 'NCT00013546', 'NCT01410045', 'NCT00006334', 'NCT03189160', 'NCT00870220', 'NCT00097552', 'NCT00406926']\n",
      "   Query 49 metrics: Precision@10: 0.2000, Recall@10: 0.0571, F1@10: 0.0889, AP: 0.3945, nDCG@10: 0.4703, MRR@10: 1.0000\n",
      "    Total time for query: 0.26 seconds\n"
     ]
    },
    {
     "name": "stderr",
     "output_type": "stream",
     "text": [
      " 67%|██████▋   | 50/75 [00:33<00:13,  1.83it/s]"
     ]
    },
    {
     "name": "stdout",
     "output_type": "stream",
     "text": [
      "Query 50 Stage 1 retrieved docs: ['NCT04528381', 'NCT03291678', 'NCT02203318', 'NCT04696874', 'NCT04826952', 'NCT00253253', 'NCT04142632', 'NCT04821167', 'NCT03033381', 'NCT02936024', 'NCT02235623', 'NCT02158780', 'NCT02731989', 'NCT02249637', 'NCT00264121', 'NCT03102554', 'NCT04661098', 'NCT02461303', 'NCT02239185', 'NCT03969979']\n",
      "Query 50 top bi-encoder score: 1.7873\n",
      "Query 50 score range: 0.2109\n",
      "Query 50: Score range 0.2109 exceeds threshold 0.1, skipping cross-encoder re-ranking\n",
      "  Query 50 final retrieved docs: ['NCT04528381', 'NCT03291678', 'NCT02203318', 'NCT04696874', 'NCT04826952', 'NCT00253253', 'NCT04142632', 'NCT04821167', 'NCT03033381', 'NCT02936024', 'NCT02235623', 'NCT02158780', 'NCT02731989', 'NCT02249637', 'NCT00264121', 'NCT03102554', 'NCT04661098', 'NCT02461303', 'NCT02239185', 'NCT03969979']\n",
      "   Query 50 metrics: Precision@10: 0.3000, Recall@10: 0.2143, F1@10: 0.2500, AP: 0.7394, nDCG@10: 0.5711, MRR@10: 1.0000\n",
      "    Total time for query: 0.26 seconds\n"
     ]
    },
    {
     "name": "stderr",
     "output_type": "stream",
     "text": [
      " 68%|██████▊   | 51/75 [00:33<00:10,  2.23it/s]"
     ]
    },
    {
     "name": "stdout",
     "output_type": "stream",
     "text": [
      "Query 51 Stage 1 retrieved docs: ['NCT03658356', 'NCT04244526', 'NCT01507974', 'NCT01628900', 'NCT02305342', 'NCT02911662', 'NCT04055675', 'NCT04686318', 'NCT02536638', 'NCT01349738', 'NCT04575493', 'NCT03183531', 'NCT04667195', 'NCT00121797', 'NCT03501901', 'NCT03190421', 'NCT02637986', 'NCT00722735', 'NCT03634891', 'NCT02565940']\n",
      "Query 51 top bi-encoder score: 1.6777\n",
      "Query 51 score range: 0.1048\n",
      "Query 51: Score range 0.1048 exceeds threshold 0.1, skipping cross-encoder re-ranking\n",
      "  Query 51 final retrieved docs: ['NCT03658356', 'NCT04244526', 'NCT01507974', 'NCT01628900', 'NCT02305342', 'NCT02911662', 'NCT04055675', 'NCT04686318', 'NCT02536638', 'NCT01349738', 'NCT04575493', 'NCT03183531', 'NCT04667195', 'NCT00121797', 'NCT03501901', 'NCT03190421', 'NCT02637986', 'NCT00722735', 'NCT03634891', 'NCT02565940']\n",
      "   Query 51 metrics: Precision@10: 0.4000, Recall@10: 0.1429, F1@10: 0.2105, AP: 0.4010, nDCG@10: 0.4647, MRR@10: 0.5000\n",
      "    Total time for query: 0.22 seconds\n"
     ]
    },
    {
     "name": "stderr",
     "output_type": "stream",
     "text": [
      " 69%|██████▉   | 52/75 [00:33<00:08,  2.63it/s]"
     ]
    },
    {
     "name": "stdout",
     "output_type": "stream",
     "text": [
      "Query 52 Stage 1 retrieved docs: ['NCT00229944', 'NCT00741052', 'NCT04150250', 'NCT02111304', 'NCT00142272', 'NCT03237663', 'NCT01811771', 'NCT00349999', 'NCT03251495', 'NCT00654108', 'NCT00490932', 'NCT00226616', 'NCT01269554', 'NCT00324285', 'NCT00709410', 'NCT00741637', 'NCT02565940', 'NCT00624975', 'NCT00289224', 'NCT04269174']\n",
      "Query 52 top bi-encoder score: 1.7980\n",
      "Query 52 score range: 0.1910\n",
      "Query 52: Score range 0.1910 exceeds threshold 0.1, skipping cross-encoder re-ranking\n",
      "  Query 52 final retrieved docs: ['NCT00229944', 'NCT00741052', 'NCT04150250', 'NCT02111304', 'NCT00142272', 'NCT03237663', 'NCT01811771', 'NCT00349999', 'NCT03251495', 'NCT00654108', 'NCT00490932', 'NCT00226616', 'NCT01269554', 'NCT00324285', 'NCT00709410', 'NCT00741637', 'NCT02565940', 'NCT00624975', 'NCT00289224', 'NCT04269174']\n",
      "   Query 52 metrics: Precision@10: 0.4000, Recall@10: 0.0976, F1@10: 0.1569, AP: 0.8833, nDCG@10: 0.6374, MRR@10: 1.0000\n",
      "    Total time for query: 0.22 seconds\n",
      "Query 53 Stage 1 retrieved docs: ['NCT03624179', 'NCT00535158', 'NCT01456377', 'NCT01130181', 'NCT01419977', 'NCT03066817', 'NCT01495923', 'NCT04626063', 'NCT00130494', 'NCT04273490', 'NCT00345839', 'NCT00986180', 'NCT01119833', 'NCT03859895', 'NCT00997412', 'NCT04246619', 'NCT02490527', 'NCT02824718', 'NCT02002000', 'NCT03506919']\n",
      "Query 53 top bi-encoder score: 1.6584\n",
      "Query 53 score range: 0.0882\n",
      "Query 53: Score range 0.0882 is below threshold 0.1, applying cross-encoder re-ranking\n"
     ]
    },
    {
     "name": "stderr",
     "output_type": "stream",
     "text": [
      " 71%|███████   | 53/75 [00:34<00:12,  1.79it/s]"
     ]
    },
    {
     "name": "stdout",
     "output_type": "stream",
     "text": [
      "  Query 53 final retrieved docs: ['NCT01119833', 'NCT03506919', 'NCT00130494', 'NCT00345839', 'NCT01456377', 'NCT00535158', 'NCT02490527', 'NCT04626063', 'NCT01495923', 'NCT01130181']\n",
      "   Query 53 metrics: Precision@10: 0.0000, Recall@10: 0.0000, F1@10: 0.0000, AP: 0.0000, nDCG@10: 0.0212, MRR@10: 0.0000\n",
      "    Total time for query: 0.98 seconds\n",
      "Query 54 Stage 1 retrieved docs: ['NCT03782870', 'NCT03182049', 'NCT00748644', 'NCT00103792', 'NCT00001541', 'NCT02126098', 'NCT04413149', 'NCT01066208', 'NCT00987389', 'NCT01934504', 'NCT00530075', 'NCT02807103', 'NCT03712345', 'NCT00005007', 'NCT01940094', 'NCT00072592', 'NCT00307593', 'NCT00001256', 'NCT00001155', 'NCT03290456']\n",
      "Query 54 top bi-encoder score: 1.7655\n",
      "Query 54 score range: 0.0949\n",
      "Query 54: Score range 0.0949 is below threshold 0.1, applying cross-encoder re-ranking\n"
     ]
    },
    {
     "name": "stderr",
     "output_type": "stream",
     "text": [
      " 72%|███████▏  | 54/75 [00:35<00:14,  1.46it/s]"
     ]
    },
    {
     "name": "stdout",
     "output_type": "stream",
     "text": [
      "  Query 54 final retrieved docs: ['NCT04413149', 'NCT02126098', 'NCT00748644', 'NCT00001256', 'NCT00001155', 'NCT02807103', 'NCT03290456', 'NCT01066208', 'NCT00307593', 'NCT00987389']\n",
      "   Query 54 metrics: Precision@10: 0.2000, Recall@10: 0.0667, F1@10: 0.1000, AP: 0.2361, nDCG@10: 0.2139, MRR@10: 0.2500\n",
      "    Total time for query: 0.97 seconds\n"
     ]
    },
    {
     "name": "stderr",
     "output_type": "stream",
     "text": [
      " 73%|███████▎  | 55/75 [00:35<00:11,  1.78it/s]"
     ]
    },
    {
     "name": "stdout",
     "output_type": "stream",
     "text": [
      "Query 55 Stage 1 retrieved docs: ['NCT04212195', 'NCT03867526', 'NCT02763215', 'NCT04531189', 'NCT04408300', 'NCT00212355', 'NCT04012658', 'NCT02273596', 'NCT03589820', 'NCT01472874', 'NCT02426905', 'NCT01874028', 'NCT03299829', 'NCT01378182', 'NCT00212368', 'NCT03131427', 'NCT02712138', 'NCT01380899', 'NCT02702765', 'NCT02762682']\n",
      "Query 55 top bi-encoder score: 1.6964\n",
      "Query 55 score range: 0.2033\n",
      "Query 55: Score range 0.2033 exceeds threshold 0.1, skipping cross-encoder re-ranking\n",
      "  Query 55 final retrieved docs: ['NCT04212195', 'NCT03867526', 'NCT02763215', 'NCT04531189', 'NCT04408300', 'NCT00212355', 'NCT04012658', 'NCT02273596', 'NCT03589820', 'NCT01472874', 'NCT02426905', 'NCT01874028', 'NCT03299829', 'NCT01378182', 'NCT00212368', 'NCT03131427', 'NCT02712138', 'NCT01380899', 'NCT02702765', 'NCT02762682']\n",
      "   Query 55 metrics: Precision@10: 1.0000, Recall@10: 0.4348, F1@10: 0.6061, AP: 0.9485, nDCG@10: 1.0000, MRR@10: 1.0000\n",
      "    Total time for query: 0.28 seconds\n",
      "Query 56 Stage 1 retrieved docs: ['NCT01861717', 'NCT02427295', 'NCT01809808', 'NCT01029275', 'NCT00921609', 'NCT01368133', 'NCT01371643', 'NCT03439709', 'NCT02952885', 'NCT01723748', 'NCT02296216', 'NCT00993356', 'NCT00171886', 'NCT00182091', 'NCT04860037', 'NCT02092129', 'NCT03710499', 'NCT00001860', 'NCT00690898', 'NCT00934271']\n",
      "Query 56 top bi-encoder score: 1.8444\n",
      "Query 56 score range: 0.0879\n",
      "Query 56: Score range 0.0879 is below threshold 0.1, applying cross-encoder re-ranking\n"
     ]
    },
    {
     "name": "stderr",
     "output_type": "stream",
     "text": [
      " 75%|███████▍  | 56/75 [00:36<00:12,  1.58it/s]"
     ]
    },
    {
     "name": "stdout",
     "output_type": "stream",
     "text": [
      "  Query 56 final retrieved docs: ['NCT01029275', 'NCT00993356', 'NCT00921609', 'NCT02427295', 'NCT03439709', 'NCT00001860', 'NCT01723748', 'NCT02092129', 'NCT00182091', 'NCT01371643']\n",
      "   Query 56 metrics: Precision@10: 0.4000, Recall@10: 0.0784, F1@10: 0.1311, AP: 0.5012, nDCG@10: 0.5756, MRR@10: 0.3333\n",
      "    Total time for query: 0.80 seconds\n"
     ]
    },
    {
     "name": "stderr",
     "output_type": "stream",
     "text": [
      " 76%|███████▌  | 57/75 [00:36<00:09,  1.93it/s]"
     ]
    },
    {
     "name": "stdout",
     "output_type": "stream",
     "text": [
      "Query 57 Stage 1 retrieved docs: ['NCT03259880', 'NCT04196504', 'NCT03354065', 'NCT04615702', 'NCT04570852', 'NCT01015417', 'NCT03342716', 'NCT04735055', 'NCT02430285', 'NCT02563080', 'NCT02528760', 'NCT03407534', 'NCT04750044', 'NCT03643900', 'NCT04408872', 'NCT00523874', 'NCT01929538', 'NCT00863642', 'NCT02543658', 'NCT03411629']\n",
      "Query 57 top bi-encoder score: 1.7682\n",
      "Query 57 score range: 0.1709\n",
      "Query 57: Score range 0.1709 exceeds threshold 0.1, skipping cross-encoder re-ranking\n",
      "  Query 57 final retrieved docs: ['NCT03259880', 'NCT04196504', 'NCT03354065', 'NCT04615702', 'NCT04570852', 'NCT01015417', 'NCT03342716', 'NCT04735055', 'NCT02430285', 'NCT02563080', 'NCT02528760', 'NCT03407534', 'NCT04750044', 'NCT03643900', 'NCT04408872', 'NCT00523874', 'NCT01929538', 'NCT00863642', 'NCT02543658', 'NCT03411629']\n",
      "   Query 57 metrics: Precision@10: 0.9000, Recall@10: 0.0833, F1@10: 0.1525, AP: 0.9021, nDCG@10: 0.9216, MRR@10: 1.0000\n",
      "    Total time for query: 0.25 seconds\n",
      "Query 58 Stage 1 retrieved docs: ['NCT03289351', 'NCT03234296', 'NCT03236961', 'NCT00677417', 'NCT02404064', 'NCT04634448', 'NCT04440150', 'NCT04033198', 'NCT03902262', 'NCT00135603', 'NCT00971438', 'NCT02867072', 'NCT01967745', 'NCT03159754', 'NCT04253899', 'NCT03169114', 'NCT01054417', 'NCT02742402', 'NCT04688463', 'NCT02687464']\n",
      "Query 58 top bi-encoder score: 1.6952\n",
      "Query 58 score range: 0.0727\n",
      "Query 58: Score range 0.0727 is below threshold 0.1, applying cross-encoder re-ranking\n"
     ]
    },
    {
     "name": "stderr",
     "output_type": "stream",
     "text": [
      " 77%|███████▋  | 58/75 [00:37<00:10,  1.58it/s]"
     ]
    },
    {
     "name": "stdout",
     "output_type": "stream",
     "text": [
      "  Query 58 final retrieved docs: ['NCT03902262', 'NCT04440150', 'NCT04033198', 'NCT03234296', 'NCT03236961', 'NCT00677417', 'NCT04688463', 'NCT02742402', 'NCT02687464', 'NCT01967745']\n",
      "   Query 58 metrics: Precision@10: 0.3000, Recall@10: 0.0545, F1@10: 0.0923, AP: 0.2508, nDCG@10: 0.2974, MRR@10: 0.1667\n",
      "    Total time for query: 0.90 seconds\n",
      "Query 59 Stage 1 retrieved docs: ['NCT04674137', 'NCT00411567', 'NCT01437735', 'NCT02415179', 'NCT01500525', 'NCT00585039', 'NCT03788057', 'NCT01515995', 'NCT03846570', 'NCT00509197', 'NCT00634517', 'NCT01436890', 'NCT01772368', 'NCT02340520', 'NCT03498742', 'NCT03204760', 'NCT00278083', 'NCT01313637', 'NCT01313650', 'NCT01687283']\n",
      "Query 59 top bi-encoder score: 1.7544\n",
      "Query 59 score range: 0.0728\n",
      "Query 59: Score range 0.0728 is below threshold 0.1, applying cross-encoder re-ranking\n"
     ]
    },
    {
     "name": "stderr",
     "output_type": "stream",
     "text": [
      " 79%|███████▊  | 59/75 [00:38<00:11,  1.40it/s]"
     ]
    },
    {
     "name": "stdout",
     "output_type": "stream",
     "text": [
      "  Query 59 final retrieved docs: ['NCT01500525', 'NCT03498742', 'NCT00585039', 'NCT03788057', 'NCT01515995', 'NCT03204760', 'NCT02415179', 'NCT01687283', 'NCT02340520', 'NCT00634517']\n",
      "   Query 59 metrics: Precision@10: 0.3000, Recall@10: 0.0159, F1@10: 0.0302, AP: 0.3651, nDCG@10: 0.3430, MRR@10: 0.3333\n",
      "    Total time for query: 0.90 seconds\n",
      "Query 60 Stage 1 retrieved docs: ['NCT03239951', 'NCT01563796', 'NCT02681471', 'NCT04781985', 'NCT01815697', 'NCT02689830', 'NCT02533687', 'NCT02524236', 'NCT02961114', 'NCT04766268', 'NCT00431626', 'NCT03104907', 'NCT00564460', 'NCT02822924', 'NCT02074644', 'NCT00169767', 'NCT00077012', 'NCT00381108', 'NCT03457805', 'NCT03912558']\n",
      "Query 60 top bi-encoder score: 1.6765\n",
      "Query 60 score range: 0.0578\n",
      "Query 60: Score range 0.0578 is below threshold 0.1, applying cross-encoder re-ranking\n"
     ]
    },
    {
     "name": "stderr",
     "output_type": "stream",
     "text": [
      " 80%|████████  | 60/75 [00:39<00:12,  1.17it/s]"
     ]
    },
    {
     "name": "stdout",
     "output_type": "stream",
     "text": [
      "  Query 60 final retrieved docs: ['NCT03239951', 'NCT02524236', 'NCT02822924', 'NCT03912558', 'NCT04766268', 'NCT01563796', 'NCT03104907', 'NCT02533687', 'NCT02961114', 'NCT00431626']\n",
      "   Query 60 metrics: Precision@10: 0.5000, Recall@10: 0.0336, F1@10: 0.0629, AP: 0.9000, nDCG@10: 0.6495, MRR@10: 1.0000\n",
      "    Total time for query: 1.18 seconds\n",
      "Query 61 Stage 1 retrieved docs: ['NCT02897700', 'NCT00001250', 'NCT03188393', 'NCT00542191', 'NCT04436809', 'NCT00970983', 'NCT04293796', 'NCT04697043', 'NCT04225858', 'NCT03669705', 'NCT01920139', 'NCT03681418', 'NCT04245150', 'NCT00881361', 'NCT01501487', 'NCT00003953', 'NCT03236974', 'NCT00507611', 'NCT00233974', 'NCT00103181']\n",
      "Query 61 top bi-encoder score: 1.7162\n",
      "Query 61 score range: 0.0546\n",
      "Query 61: Score range 0.0546 is below threshold 0.1, applying cross-encoder re-ranking\n"
     ]
    },
    {
     "name": "stderr",
     "output_type": "stream",
     "text": [
      " 81%|████████▏ | 61/75 [00:40<00:12,  1.13it/s]"
     ]
    },
    {
     "name": "stdout",
     "output_type": "stream",
     "text": [
      "  Query 61 final retrieved docs: ['NCT01501487', 'NCT03236974', 'NCT00542191', 'NCT01920139', 'NCT04245150', 'NCT00103181', 'NCT00507611', 'NCT00001250', 'NCT04225858', 'NCT02897700']\n",
      "   Query 61 metrics: Precision@10: 0.1000, Recall@10: 0.0083, F1@10: 0.0154, AP: 0.1429, nDCG@10: 0.1834, MRR@10: 0.1429\n",
      "    Total time for query: 0.95 seconds\n",
      "Query 62 Stage 1 retrieved docs: ['NCT00810550', 'NCT00949169', 'NCT04825080', 'NCT03721523', 'NCT01208025', 'NCT04423406', 'NCT02487615', 'NCT00307307', 'NCT03672955', 'NCT00451529', 'NCT03041168', 'NCT02476396', 'NCT02992821', 'NCT00235248', 'NCT03499496', 'NCT03464851', 'NCT02141932', 'NCT00005189', 'NCT04444024', 'NCT01042912']\n",
      "Query 62 top bi-encoder score: 1.6980\n",
      "Query 62 score range: 0.0726\n",
      "Query 62: Score range 0.0726 is below threshold 0.1, applying cross-encoder re-ranking\n"
     ]
    },
    {
     "name": "stderr",
     "output_type": "stream",
     "text": [
      " 83%|████████▎ | 62/75 [00:41<00:11,  1.12it/s]"
     ]
    },
    {
     "name": "stdout",
     "output_type": "stream",
     "text": [
      "  Query 62 final retrieved docs: ['NCT00810550', 'NCT03499496', 'NCT00235248', 'NCT00949169', 'NCT02141932', 'NCT00005189', 'NCT02476396', 'NCT03721523', 'NCT03041168', 'NCT04444024']\n",
      "   Query 62 metrics: Precision@10: 0.2000, Recall@10: 0.0308, F1@10: 0.0533, AP: 0.4167, nDCG@10: 0.2649, MRR@10: 0.5000\n",
      "    Total time for query: 0.91 seconds\n"
     ]
    },
    {
     "name": "stderr",
     "output_type": "stream",
     "text": [
      " 84%|████████▍ | 63/75 [00:41<00:08,  1.43it/s]"
     ]
    },
    {
     "name": "stdout",
     "output_type": "stream",
     "text": [
      "Query 63 Stage 1 retrieved docs: ['NCT01425177', 'NCT01015417', 'NCT02830984', 'NCT02472509', 'NCT02430285', 'NCT03259880', 'NCT03709030', 'NCT02349568', 'NCT03981315', 'NCT04234126', 'NCT00161083', 'NCT04615702', 'NCT04675190', 'NCT04408872', 'NCT02554097', 'NCT01100398', 'NCT01492790', 'NCT00634140', 'NCT02967926', 'NCT02469935']\n",
      "Query 63 top bi-encoder score: 1.6577\n",
      "Query 63 score range: 0.1039\n",
      "Query 63: Score range 0.1039 exceeds threshold 0.1, skipping cross-encoder re-ranking\n",
      "  Query 63 final retrieved docs: ['NCT01425177', 'NCT01015417', 'NCT02830984', 'NCT02472509', 'NCT02430285', 'NCT03259880', 'NCT03709030', 'NCT02349568', 'NCT03981315', 'NCT04234126', 'NCT00161083', 'NCT04615702', 'NCT04675190', 'NCT04408872', 'NCT02554097', 'NCT01100398', 'NCT01492790', 'NCT00634140', 'NCT02967926', 'NCT02469935']\n",
      "   Query 63 metrics: Precision@10: 0.1000, Recall@10: 0.0286, F1@10: 0.0444, AP: 0.1151, nDCG@10: 0.0978, MRR@10: 0.1250\n",
      "    Total time for query: 0.25 seconds\n",
      "Query 64 Stage 1 retrieved docs: ['NCT00751426', 'NCT03520660', 'NCT01872988', 'NCT02825212', 'NCT00380614', 'NCT00512941', 'NCT04405011', 'NCT03693586', 'NCT01360268', 'NCT03170076', 'NCT03547895', 'NCT02483156', 'NCT03226717', 'NCT03186313', 'NCT00707772', 'NCT03740789', 'NCT01453075', 'NCT04546802', 'NCT00527540', 'NCT03014986']\n",
      "Query 64 top bi-encoder score: 1.7613\n",
      "Query 64 score range: 0.0961\n",
      "Query 64: Score range 0.0961 is below threshold 0.1, applying cross-encoder re-ranking\n"
     ]
    },
    {
     "name": "stderr",
     "output_type": "stream",
     "text": [
      " 85%|████████▌ | 64/75 [00:42<00:08,  1.33it/s]"
     ]
    },
    {
     "name": "stdout",
     "output_type": "stream",
     "text": [
      "  Query 64 final retrieved docs: ['NCT03170076', 'NCT01360268', 'NCT03547895', 'NCT03520660', 'NCT04405011', 'NCT00380614', 'NCT01872988', 'NCT03740789', 'NCT04546802', 'NCT00512941']\n",
      "   Query 64 metrics: Precision@10: 0.4000, Recall@10: 0.0615, F1@10: 0.1067, AP: 0.6250, nDCG@10: 0.4868, MRR@10: 1.0000\n",
      "    Total time for query: 0.87 seconds\n",
      "Query 65 Stage 1 retrieved docs: ['NCT03188757', 'NCT00684528', 'NCT00488033', 'NCT02062554', 'NCT01029392', 'NCT01220349', 'NCT04200586', 'NCT04593173', 'NCT04450407', 'NCT00732524', 'NCT03117010', 'NCT01071928', 'NCT02280174', 'NCT03930004', 'NCT04388280', 'NCT04256005', 'NCT02691533', 'NCT04385589', 'NCT01215136', 'NCT01154413']\n",
      "Query 65 top bi-encoder score: 1.6183\n",
      "Query 65 score range: 0.0762\n",
      "Query 65: Score range 0.0762 is below threshold 0.1, applying cross-encoder re-ranking\n"
     ]
    },
    {
     "name": "stderr",
     "output_type": "stream",
     "text": [
      " 87%|████████▋ | 65/75 [00:43<00:07,  1.25it/s]"
     ]
    },
    {
     "name": "stdout",
     "output_type": "stream",
     "text": [
      "  Query 65 final retrieved docs: ['NCT01220349', 'NCT04388280', 'NCT02280174', 'NCT01154413', 'NCT01029392', 'NCT00732524', 'NCT04200586', 'NCT02062554', 'NCT04385589', 'NCT04256005']\n",
      "   Query 65 metrics: Precision@10: 0.0000, Recall@10: 0.0000, F1@10: 0.0000, AP: 0.0000, nDCG@10: 0.0000, MRR@10: 0.0000\n",
      "    Total time for query: 0.91 seconds\n"
     ]
    },
    {
     "name": "stderr",
     "output_type": "stream",
     "text": [
      " 88%|████████▊ | 66/75 [00:43<00:05,  1.58it/s]"
     ]
    },
    {
     "name": "stdout",
     "output_type": "stream",
     "text": [
      "Query 66 Stage 1 retrieved docs: ['NCT04752202', 'NCT00552487', 'NCT02319538', 'NCT02798965', 'NCT01884649', 'NCT02725879', 'NCT04754607', 'NCT02868476', 'NCT02126683', 'NCT00665171', 'NCT03984006', 'NCT00172523', 'NCT03106935', 'NCT01760421', 'NCT04249271', 'NCT02703064', 'NCT04178928', 'NCT01313455', 'NCT00001159', 'NCT03048708']\n",
      "Query 66 top bi-encoder score: 1.6605\n",
      "Query 66 score range: 0.1429\n",
      "Query 66: Score range 0.1429 exceeds threshold 0.1, skipping cross-encoder re-ranking\n",
      "  Query 66 final retrieved docs: ['NCT04752202', 'NCT00552487', 'NCT02319538', 'NCT02798965', 'NCT01884649', 'NCT02725879', 'NCT04754607', 'NCT02868476', 'NCT02126683', 'NCT00665171', 'NCT03984006', 'NCT00172523', 'NCT03106935', 'NCT01760421', 'NCT04249271', 'NCT02703064', 'NCT04178928', 'NCT01313455', 'NCT00001159', 'NCT03048708']\n",
      "   Query 66 metrics: Precision@10: 0.1000, Recall@10: 0.0909, F1@10: 0.0952, AP: 0.1360, nDCG@10: 0.2852, MRR@10: 0.1667\n",
      "    Total time for query: 0.25 seconds\n"
     ]
    },
    {
     "name": "stderr",
     "output_type": "stream",
     "text": [
      " 89%|████████▉ | 67/75 [00:44<00:04,  1.95it/s]"
     ]
    },
    {
     "name": "stdout",
     "output_type": "stream",
     "text": [
      "Query 67 Stage 1 retrieved docs: ['NCT00343213', 'NCT00872937', 'NCT00091130', 'NCT03998254', 'NCT01385436', 'NCT03837028', 'NCT00128661', 'NCT00201370', 'NCT03920800', 'NCT00743626', 'NCT04369339', 'NCT01550783', 'NCT04171505', 'NCT03577925', 'NCT00689741', 'NCT00006444', 'NCT00312286', 'NCT00117884', 'NCT01924117', 'NCT01131312']\n",
      "Query 67 top bi-encoder score: 1.7831\n",
      "Query 67 score range: 0.1082\n",
      "Query 67: Score range 0.1082 exceeds threshold 0.1, skipping cross-encoder re-ranking\n",
      "  Query 67 final retrieved docs: ['NCT00343213', 'NCT00872937', 'NCT00091130', 'NCT03998254', 'NCT01385436', 'NCT03837028', 'NCT00128661', 'NCT00201370', 'NCT03920800', 'NCT00743626', 'NCT04369339', 'NCT01550783', 'NCT04171505', 'NCT03577925', 'NCT00689741', 'NCT00006444', 'NCT00312286', 'NCT00117884', 'NCT01924117', 'NCT01131312']\n",
      "   Query 67 metrics: Precision@10: 0.2000, Recall@10: 0.0333, F1@10: 0.0571, AP: 0.2911, nDCG@10: 0.4216, MRR@10: 0.5000\n",
      "    Total time for query: 0.23 seconds\n",
      "Query 68 Stage 1 retrieved docs: ['NCT00901940', 'NCT04749810', 'NCT01133834', 'NCT03721146', 'NCT04236960', 'NCT00862277', 'NCT02205541', 'NCT00390143', 'NCT03263403', 'NCT02257892', 'NCT01257269', 'NCT00974363', 'NCT02904863', 'NCT02986854', 'NCT01478347', 'NCT02464891', 'NCT04083443', 'NCT02867319', 'NCT00661557', 'NCT04204096']\n",
      "Query 68 top bi-encoder score: 1.6242\n",
      "Query 68 score range: 0.0875\n",
      "Query 68: Score range 0.0875 is below threshold 0.1, applying cross-encoder re-ranking\n"
     ]
    },
    {
     "name": "stderr",
     "output_type": "stream",
     "text": [
      " 91%|█████████ | 68/75 [00:45<00:04,  1.60it/s]"
     ]
    },
    {
     "name": "stdout",
     "output_type": "stream",
     "text": [
      "  Query 68 final retrieved docs: ['NCT00390143', 'NCT00974363', 'NCT02205541', 'NCT00661557', 'NCT04083443', 'NCT01257269', 'NCT02904863', 'NCT02257892', 'NCT03721146', 'NCT00862277']\n",
      "   Query 68 metrics: Precision@10: 0.1000, Recall@10: 0.0233, F1@10: 0.0377, AP: 0.1429, nDCG@10: 0.2613, MRR@10: 0.1429\n",
      "    Total time for query: 0.89 seconds\n",
      "Query 69 Stage 1 retrieved docs: ['NCT01181336', 'NCT00230750', 'NCT00769002', 'NCT00253734', 'NCT00546585', 'NCT00397215', 'NCT01317745', 'NCT02213354', 'NCT01827462', 'NCT02746783', 'NCT00943358', 'NCT02908269', 'NCT01721083', 'NCT01317758', 'NCT03028974', 'NCT00283283', 'NCT00973895', 'NCT00170547', 'NCT03020498', 'NCT01123954']\n",
      "Query 69 top bi-encoder score: 1.6580\n",
      "Query 69 score range: 0.0496\n",
      "Query 69: Score range 0.0496 is below threshold 0.1, applying cross-encoder re-ranking\n"
     ]
    },
    {
     "name": "stderr",
     "output_type": "stream",
     "text": [
      " 92%|█████████▏| 69/75 [00:46<00:04,  1.40it/s]"
     ]
    },
    {
     "name": "stdout",
     "output_type": "stream",
     "text": [
      "  Query 69 final retrieved docs: ['NCT00283283', 'NCT00170547', 'NCT00253734', 'NCT01181336', 'NCT01317745', 'NCT01317758', 'NCT02908269', 'NCT01721083', 'NCT00397215', 'NCT01827462']\n",
      "   Query 69 metrics: Precision@10: 0.4000, Recall@10: 0.1053, F1@10: 0.1667, AP: 0.2815, nDCG@10: 0.4606, MRR@10: 0.1429\n",
      "    Total time for query: 0.92 seconds\n"
     ]
    },
    {
     "name": "stderr",
     "output_type": "stream",
     "text": [
      " 93%|█████████▎| 70/75 [00:46<00:02,  1.74it/s]"
     ]
    },
    {
     "name": "stdout",
     "output_type": "stream",
     "text": [
      "Query 70 Stage 1 retrieved docs: ['NCT01725048', 'NCT04471818', 'NCT01312922', 'NCT02436252', 'NCT02746367', 'NCT03554447', 'NCT01497548', 'NCT04442490', 'NCT00976560', 'NCT01935050', 'NCT01748734', 'NCT01619631', 'NCT03717844', 'NCT00360399', 'NCT00625742', 'NCT00122954', 'NCT03057860', 'NCT03833206', 'NCT02424708', 'NCT04826614']\n",
      "Query 70 top bi-encoder score: 1.6617\n",
      "Query 70 score range: 0.1387\n",
      "Query 70: Score range 0.1387 exceeds threshold 0.1, skipping cross-encoder re-ranking\n",
      "  Query 70 final retrieved docs: ['NCT01725048', 'NCT04471818', 'NCT01312922', 'NCT02436252', 'NCT02746367', 'NCT03554447', 'NCT01497548', 'NCT04442490', 'NCT00976560', 'NCT01935050', 'NCT01748734', 'NCT01619631', 'NCT03717844', 'NCT00360399', 'NCT00625742', 'NCT00122954', 'NCT03057860', 'NCT03833206', 'NCT02424708', 'NCT04826614']\n",
      "   Query 70 metrics: Precision@10: 0.3000, Recall@10: 0.0273, F1@10: 0.0500, AP: 0.2900, nDCG@10: 0.4093, MRR@10: 0.2000\n",
      "    Total time for query: 0.25 seconds\n",
      "Query 71 Stage 1 retrieved docs: ['NCT01842425', 'NCT00622765', 'NCT00770276', 'NCT02598531', 'NCT04278183', 'NCT04554082', 'NCT04193995', 'NCT03105050', 'NCT01639677', 'NCT02463435', 'NCT01040533', 'NCT01784848', 'NCT04109664', 'NCT03288259', 'NCT01041105', 'NCT02680873', 'NCT02004561', 'NCT00667498', 'NCT03394157', 'NCT00120562']\n",
      "Query 71 top bi-encoder score: 1.6941\n",
      "Query 71 score range: 0.0485\n",
      "Query 71: Score range 0.0485 is below threshold 0.1, applying cross-encoder re-ranking\n"
     ]
    },
    {
     "name": "stderr",
     "output_type": "stream",
     "text": [
      " 95%|█████████▍| 71/75 [00:47<00:02,  1.45it/s]"
     ]
    },
    {
     "name": "stdout",
     "output_type": "stream",
     "text": [
      "  Query 71 final retrieved docs: ['NCT04193995', 'NCT03288259', 'NCT01784848', 'NCT01842425', 'NCT04278183', 'NCT00770276', 'NCT04109664', 'NCT00622765', 'NCT02004561', 'NCT03105050']\n",
      "   Query 71 metrics: Precision@10: 0.3000, Recall@10: 0.0226, F1@10: 0.0420, AP: 0.3194, nDCG@10: 0.2426, MRR@10: 0.2500\n",
      "    Total time for query: 0.95 seconds\n"
     ]
    },
    {
     "name": "stderr",
     "output_type": "stream",
     "text": [
      " 96%|█████████▌| 72/75 [00:47<00:01,  1.78it/s]"
     ]
    },
    {
     "name": "stdout",
     "output_type": "stream",
     "text": [
      "Query 72 Stage 1 retrieved docs: ['NCT02902536', 'NCT03792659', 'NCT04674605', 'NCT04535843', 'NCT01727193', 'NCT00306033', 'NCT00619671', 'NCT02950155', 'NCT00727194', 'NCT01480596', 'NCT04768465', 'NCT04226170', 'NCT03914638', 'NCT03315130', 'NCT01997229', 'NCT03920293', 'NCT02100969', 'NCT03971422', 'NCT00814138', 'NCT04728425']\n",
      "Query 72 top bi-encoder score: 1.7413\n",
      "Query 72 score range: 0.1159\n",
      "Query 72: Score range 0.1159 exceeds threshold 0.1, skipping cross-encoder re-ranking\n",
      "  Query 72 final retrieved docs: ['NCT02902536', 'NCT03792659', 'NCT04674605', 'NCT04535843', 'NCT01727193', 'NCT00306033', 'NCT00619671', 'NCT02950155', 'NCT00727194', 'NCT01480596', 'NCT04768465', 'NCT04226170', 'NCT03914638', 'NCT03315130', 'NCT01997229', 'NCT03920293', 'NCT02100969', 'NCT03971422', 'NCT00814138', 'NCT04728425']\n",
      "   Query 72 metrics: Precision@10: 0.2000, Recall@10: 0.1333, F1@10: 0.1600, AP: 0.4167, nDCG@10: 0.4236, MRR@10: 0.3333\n",
      "    Total time for query: 0.27 seconds\n",
      "Query 73 Stage 1 retrieved docs: ['NCT01136577', 'NCT04215601', 'NCT02625688', 'NCT04099602', 'NCT04719104', 'NCT04418180', 'NCT03942757', 'NCT03055481', 'NCT02154165', 'NCT02446951', 'NCT03183986', 'NCT03569254', 'NCT03570775', 'NCT00653874', 'NCT02613676', 'NCT02774434', 'NCT01434810', 'NCT01622699', 'NCT00635375', 'NCT04365998']\n",
      "Query 73 top bi-encoder score: 1.8123\n",
      "Query 73 score range: 0.0983\n",
      "Query 73: Score range 0.0983 is below threshold 0.1, applying cross-encoder re-ranking\n"
     ]
    },
    {
     "name": "stderr",
     "output_type": "stream",
     "text": [
      " 97%|█████████▋| 73/75 [00:48<00:01,  1.56it/s]"
     ]
    },
    {
     "name": "stdout",
     "output_type": "stream",
     "text": [
      "  Query 73 final retrieved docs: ['NCT04215601', 'NCT02774434', 'NCT02446951', 'NCT01434810', 'NCT01622699', 'NCT03942757', 'NCT04099602', 'NCT02625688', 'NCT01136577', 'NCT03183986']\n",
      "   Query 73 metrics: Precision@10: 0.4000, Recall@10: 0.2000, F1@10: 0.2667, AP: 0.4500, nDCG@10: 0.5321, MRR@10: 0.5000\n",
      "    Total time for query: 0.82 seconds\n"
     ]
    },
    {
     "name": "stderr",
     "output_type": "stream",
     "text": [
      " 99%|█████████▊| 74/75 [00:48<00:00,  1.92it/s]"
     ]
    },
    {
     "name": "stdout",
     "output_type": "stream",
     "text": [
      "Query 74 Stage 1 retrieved docs: ['NCT00306046', 'NCT00051636', 'NCT00774020', 'NCT00480662', 'NCT00747994', 'NCT04222452', 'NCT02106455', 'NCT00894075', 'NCT02802384', 'NCT02056730', 'NCT00453128', 'NCT03993821', 'NCT03859895', 'NCT00108394', 'NCT00195936', 'NCT00066183', 'NCT00417612', 'NCT02198001', 'NCT02967042', 'NCT00973336']\n",
      "Query 74 top bi-encoder score: 1.8162\n",
      "Query 74 score range: 0.2708\n",
      "Query 74: Score range 0.2708 exceeds threshold 0.1, skipping cross-encoder re-ranking\n",
      "  Query 74 final retrieved docs: ['NCT00306046', 'NCT00051636', 'NCT00774020', 'NCT00480662', 'NCT00747994', 'NCT04222452', 'NCT02106455', 'NCT00894075', 'NCT02802384', 'NCT02056730', 'NCT00453128', 'NCT03993821', 'NCT03859895', 'NCT00108394', 'NCT00195936', 'NCT00066183', 'NCT00417612', 'NCT02198001', 'NCT02967042', 'NCT00973336']\n",
      "   Query 74 metrics: Precision@10: 0.7000, Recall@10: 0.6364, F1@10: 0.6667, AP: 0.9478, nDCG@10: 0.7885, MRR@10: 1.0000\n",
      "    Total time for query: 0.25 seconds\n",
      "Query 75 Stage 1 retrieved docs: ['NCT00443768', 'NCT00001928', 'NCT00203060', 'NCT00199394', 'NCT04380142', 'NCT00526630', 'NCT00607451', 'NCT00148512', 'NCT00472355', 'NCT00666653', 'NCT00307450', 'NCT03956979', 'NCT00199407', 'NCT03433950', 'NCT04379050', 'NCT04750226', 'NCT04472130', 'NCT00199420', 'NCT00199355', 'NCT03568968']\n",
      "Query 75 top bi-encoder score: 1.7491\n",
      "Query 75 score range: 0.0961\n",
      "Query 75: Score range 0.0961 is below threshold 0.1, applying cross-encoder re-ranking\n"
     ]
    },
    {
     "name": "stderr",
     "output_type": "stream",
     "text": [
      "100%|██████████| 75/75 [00:49<00:00,  1.52it/s]"
     ]
    },
    {
     "name": "stdout",
     "output_type": "stream",
     "text": [
      "  Query 75 final retrieved docs: ['NCT00001928', 'NCT03568968', 'NCT00443768', 'NCT00607451', 'NCT00199394', 'NCT00307450', 'NCT00472355', 'NCT04472130', 'NCT03433950', 'NCT00199420']\n",
      "   Query 75 metrics: Precision@10: 0.3000, Recall@10: 0.0213, F1@10: 0.0397, AP: 0.7917, nDCG@10: 0.5685, MRR@10: 1.0000\n",
      "    Total time for query: 0.84 seconds\n",
      "Date/time:2025-04-10 08:26:29\n",
      "\n",
      "Bi-encoder and cross-encoder - Overall evaluation metrics:\n",
      "Relevance Threshold: 2\n",
      "Mean Precision@10: 0.3147\n",
      "Mean Recall@10: 0.0725\n",
      "Mean F1@10: 0.1035\n",
      "Mean Average Precision (MAP): 0.4531\n",
      "Mean nDCG@10: 0.4215\n",
      "Mean MRR@10: 0.5234\n",
      "Average total time per query: 0.66 seconds\n"
     ]
    },
    {
     "name": "stderr",
     "output_type": "stream",
     "text": [
      "\n"
     ]
    }
   ],
   "source": [
    "\"\"\"\n",
    "Zuveir Jameer\n",
    "2 April 2025\n",
    "Bi-encoder and cross-encoder selective based on score range threshold\n",
    "\"\"\"\n",
    "\n",
    "import json\n",
    "import numpy as np\n",
    "from elasticsearch import Elasticsearch\n",
    "from tqdm import tqdm\n",
    "import torch\n",
    "from transformers import AutoTokenizer, AutoModelForSequenceClassification\n",
    "from sentence_transformers import SentenceTransformer\n",
    "import time\n",
    "from datetime import datetime\n",
    "import pandas as pd\n",
    "\n",
    "# Cross-encoder for re-ranking\n",
    "\n",
    "cross_tokenizer = AutoTokenizer.from_pretrained(\"cross-encoder/ms-marco-MiniLM-L6-v2\")\n",
    "cross_model = AutoModelForSequenceClassification.from_pretrained(\"cross-encoder/ms-marco-MiniLM-L6-v2\")\n",
    "\n",
    "cross_model.eval()\n",
    "device = torch.device(\"mps\" if torch.backends.mps.is_available() else \"cpu\")\n",
    "cross_model.to(device)\n",
    "\n",
    "# Evaluation Metric Functions\n",
    "def precision_at_k(re_ranked_docs, relevant_docs, k):\n",
    "    top_k_docs = re_ranked_docs[:k]\n",
    "    num_relevant_in_k = sum(1 for doc in top_k_docs \n",
    "                            if doc in relevant_docs and relevant_docs[doc] > 0)\n",
    "    return num_relevant_in_k / k if k else 0.0\n",
    "\n",
    "def recall_at_k(re_ranked_docs, relevant_docs, k):\n",
    "    top_k_docs = re_ranked_docs[:k]\n",
    "    total_relevant = sum(1 for doc, rel in relevant_docs.items() if rel > 0)\n",
    "    if total_relevant == 0:\n",
    "        return 0.0\n",
    "    num_relevant_in_k = sum(1 for doc in top_k_docs \n",
    "                            if doc in relevant_docs and relevant_docs[doc] > 0)\n",
    "    return num_relevant_in_k / total_relevant\n",
    "\n",
    "def f1_at_k(re_ranked_docs, relevant_docs, k):\n",
    "    p = precision_at_k(re_ranked_docs, relevant_docs, k)\n",
    "    r = recall_at_k(re_ranked_docs, relevant_docs, k)\n",
    "    if (p + r) == 0:\n",
    "        return 0.0\n",
    "    return 2 * (p * r) / (p + r)\n",
    "\n",
    "def average_precision(re_ranked_docs, relevant_docs):\n",
    "    if not relevant_docs:\n",
    "        return 0.0\n",
    "    \n",
    "    relevant_indices = [\n",
    "        i for i, doc in enumerate(re_ranked_docs)\n",
    "        if doc in relevant_docs and relevant_docs[doc] > 0\n",
    "    ]\n",
    "    if not relevant_indices:\n",
    "        return 0.0\n",
    "    \n",
    "    ap_sum = 0.0\n",
    "    for idx, rank_pos in enumerate(relevant_indices, start=1):\n",
    "        prec = precision_at_k(re_ranked_docs, relevant_docs, rank_pos+1)\n",
    "        ap_sum += prec\n",
    "    return ap_sum / len(relevant_indices)\n",
    "\n",
    "def ndcg_at_k(re_ranked_docs, relevant_docs, k):\n",
    "    def dcg(scores):\n",
    "        return sum(((2**s - 1) / np.log2(idx + 2)) for idx, s in enumerate(scores))\n",
    "    \n",
    "    top_k_docs = re_ranked_docs[:k]\n",
    "    actual_scores = [relevant_docs[doc] if doc in relevant_docs else 0 for doc in top_k_docs]\n",
    "    actual_dcg = dcg(actual_scores)\n",
    "    \n",
    "    sorted_rels = sorted(relevant_docs.values(), reverse=True)[:k]\n",
    "    ideal_dcg = dcg(sorted_rels)\n",
    "    \n",
    "    if ideal_dcg == 0:\n",
    "        return 0.0\n",
    "    return actual_dcg / ideal_dcg\n",
    "\n",
    "def mrr_at_k(re_ranked_docs, relevant_docs, k):\n",
    "    for i, doc_id in enumerate(re_ranked_docs[:k], start=1):\n",
    "        if doc_id in relevant_docs and relevant_docs[doc_id] > 0:\n",
    "            return 1.0 / i\n",
    "    return 0.0\n",
    "\n",
    "# Data Loading\n",
    "def load_jsonl(filename):\n",
    "    with open(filename, \"r\") as f:\n",
    "        return [json.loads(line) for line in f]\n",
    "\n",
    "queries = load_jsonl(\"trec_ct_2021_query.jsonl\")\n",
    "qrels_list = load_jsonl(\"trec_ct_2021_qrels.jsonl\")\n",
    "\n",
    "# Create a dictionary mapping query_id to {doc_id: relevance}\n",
    "qrels = {}\n",
    "for q in qrels_list:\n",
    "    qid = q[\"query_id\"]\n",
    "    if qid not in qrels:\n",
    "        qrels[qid] = {}\n",
    "    relevance = int(q.get(\"relevance\", 0))\n",
    "    qrels[qid][q[\"doc_id\"]] = relevance\n",
    "\n",
    "print(f\"Loaded {len(queries)} queries\")\n",
    "print(f\"Loaded qrels for {len(qrels)} queries\")\n",
    "\n",
    "RELEVANCE_THRESHOLD = 2\n",
    "\n",
    "filtered_qrels = {\n",
    "    qid: {doc: rel for doc, rel in rels.items() if rel >= RELEVANCE_THRESHOLD}\n",
    "    for qid, rels in qrels.items()\n",
    "}\n",
    "\n",
    "ndcg_qrels = {\n",
    "    qid: {doc: rel for doc, rel in rels.items()}\n",
    "    for qid, rels in qrels.items()\n",
    "}\n",
    "\n",
    "\n",
    "# Dense Retrieval (Stage 1) Functions using Bi-Encoder\n",
    "\n",
    "def search_detailed_descrption(query_vector, K=100):\n",
    "    \"\"\"\n",
    "    Returns a list of tuples: (doc_id, similarity_score)\n",
    "    \"\"\"\n",
    "    search_body = {\n",
    "      \"query\": {\n",
    "        \"script_score\": {\n",
    "          \"query\": {\n",
    "            \"bool\": {\n",
    "              \"must\": [\n",
    "                {\"match_all\": {}},\n",
    "                {\"exists\": {\"field\": \"detailed_descrption_vector_1\"}}\n",
    "              ]\n",
    "            }\n",
    "          },\n",
    "          \"script\": {\n",
    "            \"source\": \"cosineSimilarity(params.query_vector, 'detailed_descrption_vector_1') + 1.0\",\n",
    "            \"params\": {\"query_vector\": query_vector}\n",
    "          }\n",
    "        }\n",
    "      }\n",
    "    }\n",
    "    response = es.search(index=\"ir_dev_sentence_index\", body=search_body, size=K)\n",
    "    results = []\n",
    "    for hit in response['hits']['hits']:\n",
    "        doc_id = hit[\"_source\"][\"doc_id\"]\n",
    "        score = hit[\"_score\"]\n",
    "        results.append((doc_id, score))\n",
    "    return results\n",
    "\n",
    "def get_document_text(doc_id):\n",
    "    \"\"\"\n",
    "    Retrieve the detailed description for a document given its ID.\n",
    "    \"\"\"\n",
    "    query = {\n",
    "        \"query\": {\n",
    "            \"term\": {\"doc_id.keyword\": doc_id}\n",
    "        }\n",
    "    }\n",
    "    response = es.search(index=\"ir_dev_sentence_index\", body=query, size=1)\n",
    "    hits = response.get(\"hits\", {}).get(\"hits\", [])\n",
    "    if hits:\n",
    "        doc_text = hits[0][\"_source\"].get(\"detailed_descrption\", \"\").strip()\n",
    "        return doc_text if doc_text else None\n",
    "    else:\n",
    "        return None\n",
    "\n",
    "K = 20  # Number of candidates from dense retrieval\n",
    "top_k = 10  # Number of results from re-ranker\n",
    "\n",
    "def cross_encoder_rerank(query_text, candidate_doc_ids, top_k=top_k):\n",
    "    candidate_pairs = []\n",
    "    valid_doc_ids = []\n",
    "    for doc_id in candidate_doc_ids:\n",
    "        try:\n",
    "            doc_text = get_document_text(doc_id)\n",
    "            if doc_text is None or not doc_text.strip():\n",
    "                continue\n",
    "            candidate_pairs.append((query_text, doc_text))\n",
    "            valid_doc_ids.append(doc_id)\n",
    "        except Exception as e:\n",
    "            print(f\"Error fetching doc {doc_id}: {e}\")\n",
    "            continue\n",
    "\n",
    "    if not candidate_pairs:\n",
    "        print(\"No valid candidate pairs found; returning original candidates.\")\n",
    "        return candidate_doc_ids\n",
    "\n",
    "    inputs = cross_tokenizer.batch_encode_plus(\n",
    "        candidate_pairs, \n",
    "        padding=True, \n",
    "        truncation=True, \n",
    "        return_tensors=\"pt\"\n",
    "    )\n",
    "    inputs = {k: v.to(cross_model.device) for k, v in inputs.items()}\n",
    "\n",
    "    with torch.no_grad():\n",
    "        outputs = cross_model(**inputs)\n",
    "\n",
    "    if outputs.logits.shape[-1] == 1:\n",
    "        scores = outputs.logits.squeeze(-1)\n",
    "    else:\n",
    "        scores = torch.softmax(outputs.logits, dim=1)[:, 1]\n",
    "\n",
    "    ranked = sorted(\n",
    "        zip(valid_doc_ids, scores.tolist()), \n",
    "        key=lambda x: x[1], \n",
    "        reverse=True\n",
    "    )\n",
    "\n",
    "    if top_k is not None:\n",
    "        ranked = ranked[:top_k]\n",
    "\n",
    "    return [doc_id for doc_id, score in ranked]\n",
    "\n",
    "\n",
    "# Main Processing Loop\n",
    "all_metrics = []\n",
    "\n",
    "# Define a threshold on the range (max - min) of the bi-encoder scores.\n",
    "# A small range indicates that the model is not discriminating well.\n",
    "score_range_threshold = 0.1\n",
    "\n",
    "print(\"Processing queries and retrieving documents...\")\n",
    "for query in tqdm(queries, total=len(queries)):\n",
    "    qid = query[\"query_id\"]\n",
    "    query_text = query[\"text\"]\n",
    "    if not query_text.strip():\n",
    "        print(f\"Query {qid} is empty, skipping.\")\n",
    "        continue\n",
    "\n",
    "    start_time = time.time()\n",
    "\n",
    "    # Stage 1: Get the dense vector for the query and retrieve candidates\n",
    "    query_vector = get_embedding(query_text) \n",
    "    try:\n",
    "        # retrieved_docs_with_scores is a list of tuples: (doc_id, score)\n",
    "        retrieved_docs_with_scores = search_detailed_descrption(query_vector, K)\n",
    "        if not retrieved_docs_with_scores:\n",
    "            print(f\"No documents retrieved for query {qid}\")\n",
    "            continue\n",
    "        # Separate doc_ids and scores\n",
    "        retrieved_docs = [doc for doc, score in retrieved_docs_with_scores]\n",
    "        scores = [score for doc, score in retrieved_docs_with_scores]\n",
    "        top_score = max(scores)\n",
    "        score_range = max(scores) - min(scores)\n",
    "        print(f\"Query {qid} Stage 1 retrieved docs: {retrieved_docs}\")\n",
    "        print(f\"Query {qid} top bi-encoder score: {top_score:.4f}\")\n",
    "        print(f\"Query {qid} score range: {score_range:.4f}\")\n",
    "    except Exception as e:\n",
    "        print(f\"Error retrieving documents for query {qid}: {e}\")\n",
    "        continue\n",
    "\n",
    "    # Stage 2: Decide whether to apply cross-encoder based on the score distribution.\n",
    "    if score_range < score_range_threshold:\n",
    "        print(f\"Query {qid}: Score range {score_range:.4f} is below threshold {score_range_threshold}, applying cross-encoder re-ranking\")\n",
    "        try:\n",
    "            re_ranked_docs = cross_encoder_rerank(query_text, retrieved_docs)\n",
    "        except Exception as e:\n",
    "            print(f\"Error in cross encoder re-ranking for query {qid}: {e}\")\n",
    "            re_ranked_docs = retrieved_docs\n",
    "    else:\n",
    "        print(f\"Query {qid}: Score range {score_range:.4f} exceeds threshold {score_range_threshold}, skipping cross-encoder re-ranking\")\n",
    "        re_ranked_docs = retrieved_docs\n",
    "\n",
    "    total_time = time.time() - start_time\n",
    "\n",
    "    # Evaluate using filtered qrels (ensure your evaluation functions are correct)\n",
    "    relevant = filtered_qrels.get(qid, {})\n",
    "    ndcg_relevant = ndcg_qrels.get(qid, {})\n",
    "    p10 = precision_at_k(re_ranked_docs, relevant, top_k)\n",
    "    r10 = recall_at_k(re_ranked_docs, relevant, top_k)\n",
    "    f1 = f1_at_k(re_ranked_docs, relevant, top_k)\n",
    "    ap = average_precision(re_ranked_docs, relevant)\n",
    "    ndcg = ndcg_at_k(re_ranked_docs, ndcg_relevant, top_k)\n",
    "    mrr_val = mrr_at_k(re_ranked_docs, relevant, top_k)\n",
    "\n",
    "    all_metrics.append({\n",
    "        \"query_id\": qid, \n",
    "        \"precision\": p10, \n",
    "        \"recall\": r10, \n",
    "        \"f1\": f1, \n",
    "        \"ap\": ap, \n",
    "        \"ndcg\": ndcg,\n",
    "        \"mrr\": mrr_val,\n",
    "        \"time_seconds\": total_time\n",
    "    })\n",
    "    print(f\"  Query {qid} final retrieved docs: {re_ranked_docs}\")\n",
    "    print(f\"   Query {qid} metrics: Precision@{top_k}: {p10:.4f}, Recall@{top_k}: {r10:.4f}, F1@{top_k}: {f1:.4f}, AP: {ap:.4f}, nDCG@{top_k}: {ndcg:.4f}, MRR@{top_k}: {mrr_val:.4f}\")\n",
    "    print(f\"    Total time for query: {total_time:.2f} seconds\")\n",
    "\n",
    "if all_metrics:\n",
    "    avg_precision = np.mean([m[\"precision\"] for m in all_metrics])\n",
    "    avg_recall = np.mean([m[\"recall\"] for m in all_metrics])\n",
    "    avg_f1 = np.mean([m[\"f1\"] for m in all_metrics])\n",
    "    avg_ap = np.mean([m[\"ap\"] for m in all_metrics])\n",
    "    avg_ndcg = np.mean([m[\"ndcg\"] for m in all_metrics])\n",
    "    avg_mrr = np.mean([m[\"mrr\"] for m in all_metrics])\n",
    "    avg_time = np.mean([m[\"time_seconds\"] for m in all_metrics])\n",
    "\n",
    "    current_time = datetime.now().strftime(\"%Y-%m-%d %H:%M:%S\")\n",
    "    print(f\"Date/time:{current_time}\")\n",
    "    print(\"\\nBi-encoder and cross-encoder - Overall evaluation metrics:\")\n",
    "    print(f\"Relevance Threshold: {RELEVANCE_THRESHOLD}\")\n",
    "    print(\"Mean Precision@{}: {:.4f}\".format(top_k, avg_precision))\n",
    "    print(\"Mean Recall@{}: {:.4f}\".format(top_k, avg_recall))\n",
    "    print(\"Mean F1@{}: {:.4f}\".format(top_k, avg_f1))\n",
    "    print(\"Mean Average Precision (MAP): {:.4f}\".format(avg_ap))\n",
    "    print(\"Mean nDCG@{}: {:.4f}\".format(top_k, avg_ndcg))\n",
    "    print(f\"Mean MRR@{top_k}: {avg_mrr:.4f}\")\n",
    "    print(f\"Average total time per query: {avg_time:.2f} seconds\")\n",
    "else:\n",
    "    print(\"No query metrics to average.\")\n",
    "\n",
    "\n",
    "# Write detailed query metrics to an Excel file.\n",
    "query_metrics_df = pd.DataFrame(all_metrics)\n",
    "query_metrics_df = query_metrics_df[[\n",
    "    \"query_id\",\n",
    "    \"precision\",\n",
    "    \"recall\",\n",
    "    \"f1\",\n",
    "    \"ap\",\n",
    "    \"ndcg\",\n",
    "    \"mrr\",\n",
    "    \"time_seconds\"\n",
    "]]\n",
    "query_metrics_file = f\"sentence_embedding_bi_and_Cross-encoding_metrics_score_range_threshold_{score_range_threshold}.xlsx\"\n",
    "query_metrics_df.to_excel(query_metrics_file, index=False)\n",
    "print(f\"Metrics successfully exported to {query_metrics_file}\")\n",
    "\n",
    "# Write aggregated results to another Excel file.\n",
    "aggregated_data = {\n",
    "    \"Test\": [\"Bi-encoder + Cross-encoder score range\"],\n",
    "    \"Date/Time\": [current_time],\n",
    "    \"Relevance Threshold\": [RELEVANCE_THRESHOLD],\n",
    "    f\"Mean Precision@{top_k}\": [avg_precision],\n",
    "    f\"Mean Recall@{top_k}\": [avg_recall],\n",
    "    f\"Mean F1@{top_k}\": [avg_f1],\n",
    "    \"Mean Average Precision (MAP)\": [avg_ap],\n",
    "    f\"Mean nDCG@{top_k}\": [avg_ndcg],\n",
    "    f\"Mean MRR@{top_k}\": [avg_mrr],\n",
    "    \"Avg Time per Query (s)\": [avg_time],\n",
    "}\n",
    "aggregated_df = pd.DataFrame(aggregated_data)\n",
    "aggregated_file = f\"evaluation_results_sentence_embeddings_bi_and_Cross-encoding_score_range_threshold_{score_range_threshold}.xlsx\"\n",
    "aggregated_df.to_excel(aggregated_file, index=False)\n",
    "print(f\"Aggregated metrics successfully exported to {aggregated_file}\")"
   ]
  },
  {
   "cell_type": "markdown",
   "metadata": {},
   "source": []
  }
 ],
 "metadata": {
  "kernelspec": {
   "display_name": "Python 3",
   "language": "python",
   "name": "python3"
  },
  "language_info": {
   "codemirror_mode": {
    "name": "ipython",
    "version": 3
   },
   "file_extension": ".py",
   "mimetype": "text/x-python",
   "name": "python",
   "nbconvert_exporter": "python",
   "pygments_lexer": "ipython3",
   "version": "3.13.0"
  }
 },
 "nbformat": 4,
 "nbformat_minor": 2
}
